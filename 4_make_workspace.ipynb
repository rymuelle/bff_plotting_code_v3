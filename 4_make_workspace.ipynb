{
 "cells": [
  {
   "cell_type": "code",
   "execution_count": null,
   "metadata": {},
   "outputs": [],
   "source": [
    "# This should be run with a 10_6_24 enviroment with higgs combine tool installed!"
   ]
  },
  {
   "cell_type": "code",
   "execution_count": null,
   "metadata": {},
   "outputs": [],
   "source": [
    "from __future__ import print_function\n",
    "import ROOT as r\n",
    "import pickle\n",
    "import re\n",
    "import uncertainties\n",
    "import numpy as np\n",
    "import pandas as pd"
   ]
  },
  {
   "cell_type": "code",
   "execution_count": null,
   "metadata": {},
   "outputs": [],
   "source": [
    "era = '2016'\n",
    "if era=='2016':\n",
    "    lumi=1.025\n",
    "if era=='2017':\n",
    "    lumi=1.023\n",
    "if era=='2018':\n",
    "    lumi=1.025"
   ]
  },
  {
   "cell_type": "code",
   "execution_count": null,
   "metadata": {},
   "outputs": [],
   "source": [
    "outname=\"fits/limit_setting/abcd_dict_{}.pkl\".format(era)\n",
    "with open(outname,'rb') as f:\n",
    "    abcd = pickle.load(f)"
   ]
  },
  {
   "cell_type": "code",
   "execution_count": null,
   "metadata": {},
   "outputs": [],
   "source": [
    "outname=\"fits/limit_setting/fit_dict_split_{}.pkl\".format(era)\n",
    "with open(outname,'rb') as f:\n",
    "    fit = pickle.load(f)"
   ]
  },
  {
   "cell_type": "code",
   "execution_count": null,
   "metadata": {},
   "outputs": [],
   "source": [
    "def val2root(name, edges, values, std):\n",
    "    nBins = len(edges) - 1\n",
    "    th1f =  r.TH1F(name, name, nBins, edges)\n",
    "    for i in range(th1f.GetNbinsX()):\n",
    "        th1f.SetBinContent(i, values[i])\n",
    "        th1f.SetBinError(i, std[i]**.5)\n",
    "    return th1f"
   ]
  },
  {
   "cell_type": "code",
   "execution_count": null,
   "metadata": {},
   "outputs": [],
   "source": [
    "x = r.RooRealVar('x', 'x', 110, 800)"
   ]
  },
  {
   "cell_type": "code",
   "execution_count": null,
   "metadata": {},
   "outputs": [],
   "source": [
    "def make_dh(name, *args):\n",
    "    fit_hist = val2root(name, *args)\n",
    "    print(name, fit_hist, x)\n",
    "    return r.RooDataHist(name, name, r.RooArgList(x), fit_hist)"
   ]
  },
  {
   "cell_type": "code",
   "execution_count": null,
   "metadata": {},
   "outputs": [],
   "source": [
    "dh_signal_hists = []\n",
    "norm_list = []\n",
    "for (reg, mass, dbs), plot_dict in fit.items():\n",
    "    hist_dict = plot_dict['hist']\n",
    "    fit_dict = plot_dict['fit_hist']\n",
    "    norm_list.append({\"mass\": mass, \"hist\": np.sum(hist_dict['nom']), \"fit\": np.sum(fit_dict['nom']), \"reg\": reg, \"dbs\":dbs})\n",
    "    dbs = str(dbs).replace('.','p')\n",
    "    name = '{}_BFFZprimeToMuMu_fit_M_{}_dbs{}'.format(reg, mass,dbs)\n",
    "    hist_sum = np.sum(fit_dict['nom'])\n",
    "    dh_signal_hists.append(make_dh(name, fit_dict['bins'], fit_dict['nom']/hist_sum,  fit_dict['std']/hist_sum*0))\n",
    "    dh_signal_hists.append(make_dh(name+\"_SysUp\", fit_dict['bins'],\n",
    "                                   (fit_dict['nom']+fit_dict['up'])/hist_sum,  fit_dict['std']/hist_sum*0))\n",
    "    dh_signal_hists.append(make_dh(name+\"_SysDown\", fit_dict['bins'],\n",
    "                                   (fit_dict['nom']+fit_dict['down'])/hist_sum,  fit_dict['std']/hist_sum*0))\n",
    "\n",
    "    \n",
    "    name = '{}_BFFZprimeToMuMu_hist_M_{}_dbs{}'.format(reg, mass,dbs)\n",
    "    hist_sum = np.sum(fit_dict['nom'])\n",
    "    dh_signal_hists.append(make_dh(name, hist_dict['bins'], hist_dict['nom']/hist_sum,  hist_dict['std']/hist_sum*0))\n",
    "    dh_signal_hists.append(make_dh(name+\"_SysUp\", hist_dict['bins'],\n",
    "                                   (hist_dict['nom']+hist_dict['up'])/hist_sum,  hist_dict['std']/hist_sum*0))\n",
    "    dh_signal_hists.append(make_dh(name+\"_SysDown\", hist_dict['bins'],\n",
    "                                   (hist_dict['nom']+hist_dict['down'])/hist_sum,  hist_dict['std']/hist_sum*0))\n"
   ]
  },
  {
   "cell_type": "code",
   "execution_count": null,
   "metadata": {},
   "outputs": [],
   "source": [
    "print(pd.DataFrame(norm_list).round(2).to_latex())"
   ]
  },
  {
   "cell_type": "code",
   "execution_count": null,
   "metadata": {},
   "outputs": [],
   "source": [
    "abcd_list = []\n",
    "for reg, reg_dict in abcd.items():\n",
    "    name = '{}_background'.format(reg)\n",
    "    abcd_list.append(make_dh(name, reg_dict['bins'], reg_dict['nom'],  reg_dict['std']))"
   ]
  },
  {
   "cell_type": "code",
   "execution_count": null,
   "metadata": {},
   "outputs": [],
   "source": [
    "abcd_list"
   ]
  },
  {
   "cell_type": "code",
   "execution_count": null,
   "metadata": {},
   "outputs": [],
   "source": [
    "w = r.RooWorkspace(\"zp\".format(era), \"zp\".format(era))\n",
    "\n",
    "# Import abcd models\n",
    "for dh in dh_signal_hists:\n",
    "    print(dh)\n",
    "    getattr(w, 'import')(dh)\n",
    "    #break\n",
    "    \n",
    "for dh in abcd_list:\n",
    "    print(dh)\n",
    "    getattr(w, 'import')(dh)\n",
    "    #break\n",
    "    \n",
    "    \n",
    "w.Print()\n",
    "\n",
    "# S a v e   w o r k s p a c e   i n   f i l e\n",
    "# -------------------------------------------\n",
    "\n",
    "# Save the workspace into a ROOT file\n",
    "w.writeToFile(\"combine_data/era_{}_zp_fit_ws.root\".format(era))\n"
   ]
  },
  {
   "cell_type": "code",
   "execution_count": null,
   "metadata": {},
   "outputs": [],
   "source": [
    "combine_template = '''#higgs combine tool shape analysis card for z'to mumu 1 jet\n",
    "\n",
    "-------------------------\n",
    "\n",
    "imax 1  number of channels                                      #1 Jet\n",
    "jmax 1  number of backgrounds -1                                    #following AN2015_207_v5, not sure why the -1 is there?\n",
    "kmax *  number of nuisance parameters (sources of systematic uncertainties)\n",
    "\n",
    "-------------------------\n",
    "\n",
    "shapes data_obs * era_{era}_zp_fit_ws.root zp:SR{nJets}_background  #dummy data for now\n",
    "\n",
    "shapes abcd SR1     era_{era}_zp_fit_ws.root zp:SR{nJets}_background          #parameterized ABCD pdf for modeling background\n",
    "\n",
    "shapes BFFZp * era_{era}_zp_fit_ws.root zp:{signame} zp:{signame}_$SYSTEMATIC\n",
    "\n",
    "-------------------------\n",
    "\n",
    "bin       SR1\n",
    "observation   -1\n",
    "\n",
    "-------------------------\n",
    "\n",
    "bin       SR1       SR1\n",
    "process     abcd    BFFZp\n",
    "process     1     -1\n",
    "rate      -1   -1\n",
    "\n",
    "-------------------------\n",
    "lumi lnN -      {lumi}\n",
    "\n",
    "#delatB1 lnN       1.03648698929    - \n",
    "#deltaS1 lnN       -       1.00771086929\n",
    "\n",
    "\n",
    "Sys   shape  -           1'''"
   ]
  },
  {
   "cell_type": "code",
   "execution_count": null,
   "metadata": {},
   "outputs": [],
   "source": [
    "for dh in dh_signal_hists:\n",
    "    name = dh.GetName()\n",
    "    print(name)\n",
    "    nJets = re.findall(r'SR(\\d)', name)[0]\n",
    "    mass = re.findall(r'M_(\\d+)_', name)[0]\n",
    "    dbs = re.findall(r'dbs(\\d)p(\\d+)', name)[0]\n",
    "    dbs = '{}.{}'.format(*dbs)\n",
    "    sys = len(re.findall(r'dbs(\\d)p(\\d)+_', name)) > 0\n",
    "    \n",
    "    if sys: continue\n",
    "    format_dict = {'era': era, 'mass': mass, 'nJets': nJets, 'dbs':dbs, 'lumi':lumi, 'signame':name}\n",
    "\n",
    "    with open('combine_data/{}_{}.txt'.format(era,name), 'w') as f:\n",
    "        print(f)\n",
    "        f.write(combine_template.format(**format_dict))"
   ]
  }
 ],
 "metadata": {
  "kernelspec": {
   "display_name": "Python 3",
   "language": "python",
   "name": "python3"
  },
  "language_info": {
   "codemirror_mode": {
    "name": "ipython",
    "version": 2
   },
   "file_extension": ".py",
   "mimetype": "text/x-python",
   "name": "python",
   "nbconvert_exporter": "python",
   "pygments_lexer": "ipython2",
   "version": "2.7.15+"
  }
 },
 "nbformat": 4,
 "nbformat_minor": 2
}
