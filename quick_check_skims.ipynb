{
 "cells": [
  {
   "cell_type": "code",
   "execution_count": null,
   "id": "destroyed-isolation",
   "metadata": {},
   "outputs": [],
   "source": [
    "import re\n",
    "import os\n",
    "import glob\n",
    "from bff_processor.df_utils import make_df, preselection, isin\n",
    "from bff_processor.fit_func import poly"
   ]
  },
  {
   "cell_type": "code",
   "execution_count": null,
   "id": "published-england",
   "metadata": {},
   "outputs": [],
   "source": [
    "era = 2018\n",
    "files = glob.glob('data/*')\n",
    "files = [f for f in files if re.match('.+tw_{}.+csv'.format(era), f)]\n",
    "data = [f for f in files if re.match('.+data.+'.format(era), f)]\n",
    "bff = [f for f in files if re.match('.+BFF.+'.format(era), f)]\n",
    "DY = [f for f in files if re.match('.+ZTo.+'.format(era), f)]\n",
    "ST = [f for f in files if re.match('.+s.*top.+'.format(era), f)]\n",
    "TT = [f for f in files if re.match('.+ttbar.+'.format(era), f)]\n",
    "VB = [f for f in files if re.match('.+(?:ww|wz|zz).+'.format(era), f)]"
   ]
  },
  {
   "cell_type": "code",
   "execution_count": null,
   "id": "indie-stable",
   "metadata": {},
   "outputs": [],
   "source": [
    "DY"
   ]
  },
  {
   "cell_type": "code",
   "execution_count": null,
   "id": "living-gothic",
   "metadata": {},
   "outputs": [],
   "source": [
    "assert(len(files) == len(data+bff+DY+ST+TT+VB)), \"Sorted files don't match files found from data dir.\""
   ]
  },
  {
   "cell_type": "code",
   "execution_count": null,
   "id": "olive-quantity",
   "metadata": {},
   "outputs": [],
   "source": [
    "import pandas as pd\n",
    "data_el = pd.read_csv('data/tw_2016_data_el.csv')"
   ]
  },
  {
   "cell_type": "code",
   "execution_count": null,
   "id": "mounted-death",
   "metadata": {},
   "outputs": [],
   "source": [
    "data_el['CR14_nom'].sum()"
   ]
  },
  {
   "cell_type": "code",
   "execution_count": null,
   "id": "worldwide-warrior",
   "metadata": {},
   "outputs": [],
   "source": [
    "DY_pre = make_df(DY)\n",
    "DY_CR_14 = isin('CR14_nom')(DY_pre)\n",
    "DY_CR_10 = isin('CR10_nom')(DY_pre)\n",
    "\n",
    "data_pre = make_df(data)\n",
    "data_CR_14 = isin('CR14_nom')(data_pre)\n",
    "data_CR_10 = isin('CR10_nom')(data_pre)"
   ]
  },
  {
   "cell_type": "code",
   "execution_count": null,
   "id": "prospective-discipline",
   "metadata": {},
   "outputs": [],
   "source": [
    "import boost_histogram as bh"
   ]
  },
  {
   "cell_type": "code",
   "execution_count": null,
   "id": "visible-cliff",
   "metadata": {},
   "outputs": [],
   "source": [
    "DY_hist_10 = bh.Histogram(bh.axis.Regular(100,100,800))\n",
    "DY_hist_14 = bh.Histogram(bh.axis.Regular(100,100,800))\n",
    "data_hist_10 = bh.Histogram(bh.axis.Regular(100,100,800))\n",
    "data_hist_14 = bh.Histogram(bh.axis.Regular(100,100,800))"
   ]
  },
  {
   "cell_type": "code",
   "execution_count": null,
   "id": "significant-typing",
   "metadata": {},
   "outputs": [],
   "source": [
    "DY_hist_10.fill(DY_CR_10['DiLepMass'], weight=DY_CR_10['Weight'])\n",
    "data_hist_10.fill(data_CR_10['DiLepMass'])\n",
    "DY_hist_14.fill(DY_CR_14['DiLepMass'], weight=DY_CR_14['Weight'])\n",
    "data_hist_14.fill(data_CR_14['DiLepMass'])"
   ]
  },
  {
   "cell_type": "code",
   "execution_count": null,
   "id": "mineral-blend",
   "metadata": {},
   "outputs": [],
   "source": [
    "import matplotlib.pyplot as plt"
   ]
  },
  {
   "cell_type": "code",
   "execution_count": null,
   "id": "wooden-swimming",
   "metadata": {},
   "outputs": [],
   "source": [
    "plt.plot(data_hist_14.values(), label='data 14')\n",
    "plt.plot(data_hist_10.values(), label='data 10')\n",
    "plt.plot(DY_hist_14.values(), label='DY 14')\n",
    "plt.plot(DY_hist_10.values(), label='DY 10')\n",
    "plt.yscale('log')\n",
    "plt.legend()"
   ]
  },
  {
   "cell_type": "code",
   "execution_count": null,
   "id": "concrete-export",
   "metadata": {},
   "outputs": [],
   "source": []
  }
 ],
 "metadata": {
  "kernelspec": {
   "display_name": "Python 3",
   "language": "python",
   "name": "python3"
  },
  "language_info": {
   "codemirror_mode": {
    "name": "ipython",
    "version": 3
   },
   "file_extension": ".py",
   "mimetype": "text/x-python",
   "name": "python",
   "nbconvert_exporter": "python",
   "pygments_lexer": "ipython3",
   "version": "3.8.6"
  }
 },
 "nbformat": 4,
 "nbformat_minor": 5
}
