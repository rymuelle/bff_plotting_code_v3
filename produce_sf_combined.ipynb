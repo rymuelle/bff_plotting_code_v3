{
 "cells": [
  {
   "cell_type": "code",
   "execution_count": 1,
   "id": "5a989c37-c113-46fd-b26f-6fd000074d64",
   "metadata": {},
   "outputs": [],
   "source": [
    "import pandas as pd\n",
    "import numpy as np\n",
    "from bff_processor.data_tools import regex_select, get_files, make_df\n",
    "from bff_processor.bff_meta import preselection, band_cut, isin, identity, all_reg, jet_variations\n",
    "from bff_processor.bff_cuts import *\n",
    "from glob import glob\n",
    "import re\n",
    "import pyarrow.feather as feather\n",
    "import uncertainties"
   ]
  },
  {
   "cell_type": "code",
   "execution_count": 2,
   "id": "894fd008-4063-4462-8b0f-cc8e684db55d",
   "metadata": {},
   "outputs": [],
   "source": [
    "era = 2018"
   ]
  },
  {
   "cell_type": "code",
   "execution_count": 3,
   "id": "12ddbfd7-39dc-45c9-808e-373028988466",
   "metadata": {},
   "outputs": [
    {
     "name": "stdout",
     "output_type": "stream",
     "text": [
      "(2041378, 116)\n",
      "(1900695, 116)\n"
     ]
    }
   ],
   "source": [
    "combined_df = feather.read_feather('data/combined_{}.feather'.format(era))\n",
    "print(combined_df.shape)\n",
    "combined_df = combined_df[combined_df.deltaR > 0.4]\n",
    "print(combined_df.shape)"
   ]
  },
  {
   "cell_type": "code",
   "execution_count": 4,
   "id": "db749334-bbdc-4f16-8c84-03379ee2a19b",
   "metadata": {},
   "outputs": [],
   "source": [
    "combined_df.loc[combined_df.name.isin(['ZToEE_M_120_200', 'ZToEE_M_200_400', 'ZToEE_M_400_800',\n",
    "       'ZToEE_M_50_120', 'ZToEE_M_800_1400', 'ZToMuMu_M_120_200',\n",
    "       'ZToMuMu_M_200_400', 'ZToMuMu_M_400_800', 'ZToMuMu_M_50_120',\n",
    "       'ZToMuMu_M_800_1400']),'groupname'] = 'DY'\n",
    "combined_df.loc[combined_df.name.isin(['mc_santitop', 'mc_stop']),'groupname'] = 'ST'\n",
    "combined_df.loc[combined_df.name.isin(['mc_ttbar']),'groupname'] = 'TT'\n",
    "combined_df.loc[combined_df.name.isin(['mc_ww', 'mc_wz', 'mc_zz']),'groupname'] = 'DB'"
   ]
  },
  {
   "cell_type": "code",
   "execution_count": 5,
   "id": "8e512734",
   "metadata": {},
   "outputs": [],
   "source": [
    "bck_df = combined_df[combined_df.type=='bck']\n",
    "data_df = combined_df[combined_df.type=='data']"
   ]
  },
  {
   "cell_type": "code",
   "execution_count": 6,
   "id": "4868528d",
   "metadata": {},
   "outputs": [
    {
     "data": {
      "text/plain": [
       "array(['ZToEE_M_120_200', 'ZToEE_M_200_400', 'ZToEE_M_400_800',\n",
       "       'ZToEE_M_50_120', 'ZToEE_M_800_1400', 'ZToMuMu_M_120_200',\n",
       "       'ZToMuMu_M_200_400', 'ZToMuMu_M_400_800', 'ZToMuMu_M_50_120',\n",
       "       'ZToMuMu_M_800_1400', 'mc_santitop', 'mc_stop', 'mc_ttbar',\n",
       "       'mc_ww', 'mc_wz', 'mc_zz'], dtype=object)"
      ]
     },
     "execution_count": 6,
     "metadata": {},
     "output_type": "execute_result"
    }
   ],
   "source": [
    "samples = np.unique(bck_df.name)\n",
    "samples"
   ]
  },
  {
   "cell_type": "code",
   "execution_count": 7,
   "id": "961b605c-a1f7-49ce-9e88-9f377cc17c53",
   "metadata": {},
   "outputs": [],
   "source": [
    "groupnames = np.unique(bck_df.groupname)"
   ]
  },
  {
   "cell_type": "code",
   "execution_count": 8,
   "id": "8de948f3-ccac-4a70-be8f-4ba63110d6b4",
   "metadata": {},
   "outputs": [],
   "source": [
    "regions = [\"CR10_nom\",\"CR11_nom\",\"CR12_nom\",\"CR13_nom\",\"CR14_nom\",\"CR20_nom\",\"CR21_nom\",\"CR22_nom\",\"CR23_nom\",\"CR24_nom\"]"
   ]
  },
  {
   "cell_type": "code",
   "execution_count": 9,
   "id": "04888c35",
   "metadata": {},
   "outputs": [],
   "source": [
    "regions = [\"CR10_nom\",\"CR13_nom\",\"CR14_nom\", \"CR20_nom\",\"CR23_nom\",\"CR24_nom\"]"
   ]
  },
  {
   "cell_type": "code",
   "execution_count": 10,
   "id": "fbd05f23-cd96-4544-bacc-0e206440b621",
   "metadata": {},
   "outputs": [],
   "source": [
    "def weight_and_sum(reg, df):\n",
    "    df = df[df[reg]==1]\n",
    "    return uncertainties.ufloat(df.Weight.sum(), (df.Weight**2).sum()**.5)\n",
    "\n",
    "def reg_sum(reg, df):\n",
    "    df = df[df[reg]==1]\n",
    "    return df.Weight.sum()"
   ]
  },
  {
   "cell_type": "code",
   "execution_count": 11,
   "id": "0c53b706",
   "metadata": {},
   "outputs": [],
   "source": [
    "# define function to compute scale factor from object multiplicity"
   ]
  },
  {
   "cell_type": "code",
   "execution_count": 12,
   "id": "455d8fe7",
   "metadata": {},
   "outputs": [
    {
     "data": {
      "text/html": [
       "<div>\n",
       "<style scoped>\n",
       "    .dataframe tbody tr th:only-of-type {\n",
       "        vertical-align: middle;\n",
       "    }\n",
       "\n",
       "    .dataframe tbody tr th {\n",
       "        vertical-align: top;\n",
       "    }\n",
       "\n",
       "    .dataframe thead th {\n",
       "        text-align: right;\n",
       "    }\n",
       "</style>\n",
       "<table border=\"1\" class=\"dataframe\">\n",
       "  <thead>\n",
       "    <tr style=\"text-align: right;\">\n",
       "      <th></th>\n",
       "      <th>SR1_nom</th>\n",
       "      <th>CR10_nom</th>\n",
       "      <th>CR11_nom</th>\n",
       "      <th>CR12_nom</th>\n",
       "      <th>CR13_nom</th>\n",
       "      <th>CR14_nom</th>\n",
       "      <th>SR2_nom</th>\n",
       "      <th>CR20_nom</th>\n",
       "      <th>CR21_nom</th>\n",
       "      <th>CR22_nom</th>\n",
       "      <th>CR23_nom</th>\n",
       "      <th>CR24_nom</th>\n",
       "    </tr>\n",
       "  </thead>\n",
       "  <tbody>\n",
       "    <tr>\n",
       "      <th>mu</th>\n",
       "      <td>2</td>\n",
       "      <td>2</td>\n",
       "      <td>1</td>\n",
       "      <td>1</td>\n",
       "      <td>0</td>\n",
       "      <td>0</td>\n",
       "      <td>2</td>\n",
       "      <td>2</td>\n",
       "      <td>1</td>\n",
       "      <td>1</td>\n",
       "      <td>0</td>\n",
       "      <td>0</td>\n",
       "    </tr>\n",
       "    <tr>\n",
       "      <th>el</th>\n",
       "      <td>0</td>\n",
       "      <td>0</td>\n",
       "      <td>1</td>\n",
       "      <td>1</td>\n",
       "      <td>2</td>\n",
       "      <td>2</td>\n",
       "      <td>0</td>\n",
       "      <td>0</td>\n",
       "      <td>1</td>\n",
       "      <td>1</td>\n",
       "      <td>2</td>\n",
       "      <td>2</td>\n",
       "    </tr>\n",
       "    <tr>\n",
       "      <th>lj</th>\n",
       "      <td>0</td>\n",
       "      <td>1</td>\n",
       "      <td>0</td>\n",
       "      <td>1</td>\n",
       "      <td>0</td>\n",
       "      <td>1</td>\n",
       "      <td>1</td>\n",
       "      <td>2</td>\n",
       "      <td>1</td>\n",
       "      <td>2</td>\n",
       "      <td>1</td>\n",
       "      <td>2</td>\n",
       "    </tr>\n",
       "    <tr>\n",
       "      <th>bj</th>\n",
       "      <td>1</td>\n",
       "      <td>0</td>\n",
       "      <td>1</td>\n",
       "      <td>0</td>\n",
       "      <td>1</td>\n",
       "      <td>0</td>\n",
       "      <td>1</td>\n",
       "      <td>0</td>\n",
       "      <td>1</td>\n",
       "      <td>0</td>\n",
       "      <td>1</td>\n",
       "      <td>0</td>\n",
       "    </tr>\n",
       "  </tbody>\n",
       "</table>\n",
       "</div>"
      ],
      "text/plain": [
       "    SR1_nom  CR10_nom  CR11_nom  CR12_nom  CR13_nom  CR14_nom  SR2_nom  \\\n",
       "mu        2         2         1         1         0         0        2   \n",
       "el        0         0         1         1         2         2        0   \n",
       "lj        0         1         0         1         0         1        1   \n",
       "bj        1         0         1         0         1         0        1   \n",
       "\n",
       "    CR20_nom  CR21_nom  CR22_nom  CR23_nom  CR24_nom  \n",
       "mu         2         1         1         0         0  \n",
       "el         0         1         1         2         2  \n",
       "lj         2         1         2         1         2  \n",
       "bj         0         1         0         1         0  "
      ]
     },
     "execution_count": 12,
     "metadata": {},
     "output_type": "execute_result"
    }
   ],
   "source": [
    "obj_count = {'SR1_nom': {\"mu\": 2, \"el\": 0, \"lj\": 0, \"bj\": 1},\n",
    "'CR10_nom': {\"mu\": 2, \"el\": 0, \"lj\": 1, \"bj\": 0},\n",
    "'CR11_nom': {\"mu\": 1, \"el\": 1, \"lj\": 0, \"bj\": 1},\n",
    "'CR12_nom': {\"mu\": 1, \"el\": 1, \"lj\": 1, \"bj\": 0},\n",
    "'CR13_nom': {\"mu\": 0, \"el\": 2, \"lj\": 0, \"bj\": 1},\n",
    "'CR14_nom': {\"mu\": 0, \"el\": 2, \"lj\": 1, \"bj\": 0},\n",
    " 'SR2_nom': {\"mu\": 2, \"el\": 0, \"lj\": 1, \"bj\": 1},\n",
    "'CR20_nom': {\"mu\": 2, \"el\": 0, \"lj\": 2, \"bj\": 0},\n",
    "'CR21_nom': {\"mu\": 1, \"el\": 1, \"lj\": 1, \"bj\": 1},\n",
    "'CR22_nom': {\"mu\": 1, \"el\": 1, \"lj\": 2, \"bj\": 0},\n",
    "'CR23_nom': {\"mu\": 0, \"el\": 2, \"lj\": 1, \"bj\": 1},\n",
    "'CR24_nom': {\"mu\": 0, \"el\": 2, \"lj\": 2, \"bj\": 0},}\n",
    "obj_count = pd.DataFrame(obj_count)\n",
    "obj_count"
   ]
  },
  {
   "cell_type": "code",
   "execution_count": 13,
   "id": "7e815814-22e8-44d5-96c6-95b26ff7f504",
   "metadata": {},
   "outputs": [
    {
     "data": {
      "text/html": [
       "<div>\n",
       "<style scoped>\n",
       "    .dataframe tbody tr th:only-of-type {\n",
       "        vertical-align: middle;\n",
       "    }\n",
       "\n",
       "    .dataframe tbody tr th {\n",
       "        vertical-align: top;\n",
       "    }\n",
       "\n",
       "    .dataframe thead th {\n",
       "        text-align: right;\n",
       "    }\n",
       "</style>\n",
       "<table border=\"1\" class=\"dataframe\">\n",
       "  <thead>\n",
       "    <tr style=\"text-align: right;\">\n",
       "      <th></th>\n",
       "      <th>DB</th>\n",
       "      <th>DY</th>\n",
       "      <th>ST</th>\n",
       "      <th>TT</th>\n",
       "      <th>data</th>\n",
       "      <th>reg</th>\n",
       "      <th>mu</th>\n",
       "      <th>el</th>\n",
       "      <th>lj</th>\n",
       "      <th>bj</th>\n",
       "    </tr>\n",
       "  </thead>\n",
       "  <tbody>\n",
       "    <tr>\n",
       "      <th>0</th>\n",
       "      <td>322.768608</td>\n",
       "      <td>57855.787945</td>\n",
       "      <td>433.434390</td>\n",
       "      <td>2104.122857</td>\n",
       "      <td>56319.0</td>\n",
       "      <td>CR10_nom</td>\n",
       "      <td>2</td>\n",
       "      <td>0</td>\n",
       "      <td>1</td>\n",
       "      <td>0</td>\n",
       "    </tr>\n",
       "    <tr>\n",
       "      <th>1</th>\n",
       "      <td>24.582435</td>\n",
       "      <td>2913.074002</td>\n",
       "      <td>655.858431</td>\n",
       "      <td>3024.705746</td>\n",
       "      <td>6186.0</td>\n",
       "      <td>CR13_nom</td>\n",
       "      <td>0</td>\n",
       "      <td>2</td>\n",
       "      <td>0</td>\n",
       "      <td>1</td>\n",
       "    </tr>\n",
       "    <tr>\n",
       "      <th>2</th>\n",
       "      <td>270.498409</td>\n",
       "      <td>41082.658498</td>\n",
       "      <td>304.713775</td>\n",
       "      <td>1486.680185</td>\n",
       "      <td>37689.0</td>\n",
       "      <td>CR14_nom</td>\n",
       "      <td>0</td>\n",
       "      <td>2</td>\n",
       "      <td>1</td>\n",
       "      <td>0</td>\n",
       "    </tr>\n",
       "    <tr>\n",
       "      <th>3</th>\n",
       "      <td>151.215726</td>\n",
       "      <td>9658.195621</td>\n",
       "      <td>95.921099</td>\n",
       "      <td>1078.973574</td>\n",
       "      <td>12697.0</td>\n",
       "      <td>CR20_nom</td>\n",
       "      <td>2</td>\n",
       "      <td>0</td>\n",
       "      <td>2</td>\n",
       "      <td>0</td>\n",
       "    </tr>\n",
       "    <tr>\n",
       "      <th>4</th>\n",
       "      <td>20.083532</td>\n",
       "      <td>908.528908</td>\n",
       "      <td>304.361793</td>\n",
       "      <td>4794.929059</td>\n",
       "      <td>5426.0</td>\n",
       "      <td>CR23_nom</td>\n",
       "      <td>0</td>\n",
       "      <td>2</td>\n",
       "      <td>1</td>\n",
       "      <td>1</td>\n",
       "    </tr>\n",
       "    <tr>\n",
       "      <th>5</th>\n",
       "      <td>110.888514</td>\n",
       "      <td>6814.962764</td>\n",
       "      <td>76.081153</td>\n",
       "      <td>777.187174</td>\n",
       "      <td>8478.0</td>\n",
       "      <td>CR24_nom</td>\n",
       "      <td>0</td>\n",
       "      <td>2</td>\n",
       "      <td>2</td>\n",
       "      <td>0</td>\n",
       "    </tr>\n",
       "  </tbody>\n",
       "</table>\n",
       "</div>"
      ],
      "text/plain": [
       "           DB            DY          ST           TT     data       reg  mu  \\\n",
       "0  322.768608  57855.787945  433.434390  2104.122857  56319.0  CR10_nom   2   \n",
       "1   24.582435   2913.074002  655.858431  3024.705746   6186.0  CR13_nom   0   \n",
       "2  270.498409  41082.658498  304.713775  1486.680185  37689.0  CR14_nom   0   \n",
       "3  151.215726   9658.195621   95.921099  1078.973574  12697.0  CR20_nom   2   \n",
       "4   20.083532    908.528908  304.361793  4794.929059   5426.0  CR23_nom   0   \n",
       "5  110.888514   6814.962764   76.081153   777.187174   8478.0  CR24_nom   0   \n",
       "\n",
       "   el  lj  bj  \n",
       "0   0   1   0  \n",
       "1   2   0   1  \n",
       "2   2   1   0  \n",
       "3   0   2   0  \n",
       "4   2   1   1  \n",
       "5   2   2   0  "
      ]
     },
     "execution_count": 13,
     "metadata": {},
     "output_type": "execute_result"
    }
   ],
   "source": [
    "region_dicts = []\n",
    "for reg in regions:\n",
    "    datasum = reg_sum(reg, data_df)\n",
    "    count_dict = {groupname: reg_sum(reg,bck_df[bck_df.groupname==groupname]) for groupname in groupnames}\n",
    "    count_dict['data'] = datasum\n",
    "    count_dict['reg'] = reg\n",
    "    region_dicts.append({**count_dict, **obj_count[reg]})\n",
    "region_counts = pd.DataFrame(region_dicts)\n",
    "obj_sf = np.array([1.,1.,1.,1.])\n",
    "region_counts"
   ]
  },
  {
   "cell_type": "code",
   "execution_count": 14,
   "id": "97847042",
   "metadata": {},
   "outputs": [],
   "source": [
    "def sf_from_obj_sf(region_counts, obj_sf):\n",
    "    obj_sf = np.array(obj_sf)\n",
    "    obj_counts = region_counts[['mu', 'el', 'lj', 'bj']]\n",
    "    return np.power(obj_sf,obj_counts).prod(axis=1)\n",
    "\n",
    "def compute_estimate(region_counts, sf, smp_sf):\n",
    "    return (region_counts[['DB', 'DY', 'ST', 'TT']]*smp_sf).sum(axis=1)*sf\n",
    "\n",
    "def l2(x1, x2):\n",
    "    return (((x1-x2)**2)/x2).sum()\n",
    "\n",
    "def regularization(sf, width=.001):\n",
    "    return np.sum(((sf-1)**2)/width)\n",
    "\n",
    "def produce_estimate(region_counts, params):\n",
    "    obj_sf = params[0:4]\n",
    "    smp_sf = params[4:8]\n",
    "    sf = sf_from_obj_sf(region_counts, obj_sf)\n",
    "    return compute_estimate(region_counts, sf, smp_sf)\n",
    "\n",
    "def loss_sf(params):\n",
    "    estimate = produce_estimate(region_counts, params)\n",
    "    data = region_counts['data']\n",
    "    return l2(estimate,data) + regularization(params)"
   ]
  },
  {
   "cell_type": "code",
   "execution_count": 15,
   "id": "236eb561",
   "metadata": {},
   "outputs": [],
   "source": [
    "from scipy.optimize import minimize"
   ]
  },
  {
   "cell_type": "code",
   "execution_count": 16,
   "id": "0ccacbba",
   "metadata": {},
   "outputs": [
    {
     "data": {
      "text/plain": [
       "1518.611142190529"
      ]
     },
     "execution_count": 16,
     "metadata": {},
     "output_type": "execute_result"
    }
   ],
   "source": [
    "loss_sf(np.full(8,1.))"
   ]
  },
  {
   "cell_type": "code",
   "execution_count": 17,
   "id": "11afb840",
   "metadata": {
    "scrolled": false
   },
   "outputs": [
    {
     "data": {
      "text/plain": [
       "      fun: 232.48962091546906\n",
       " hess_inv: array([[ 2.00032831e-05,  1.98792190e-05, -2.54838266e-05,\n",
       "        -4.12624670e-05, -5.31449951e-05, -1.54241380e-05,\n",
       "         3.94151848e-05,  6.55758409e-06],\n",
       "       [ 1.98792190e-05,  2.34957830e-05, -2.57492951e-05,\n",
       "        -4.66710074e-05, -5.19053698e-05, -1.80150195e-05,\n",
       "         4.19099938e-05,  3.34934019e-06],\n",
       "       [-2.54838266e-05, -2.57492951e-05,  3.94151798e-05,\n",
       "         5.69102240e-05,  7.33653937e-05,  1.52075974e-05,\n",
       "        -4.83525749e-05, -8.10100002e-06],\n",
       "       [-4.12624670e-05, -4.66710074e-05,  5.69102240e-05,\n",
       "         1.21395978e-04,  1.22537698e-04,  3.12467456e-05,\n",
       "        -9.58976828e-05,  6.58590530e-06],\n",
       "       [-5.31449951e-05, -5.19053698e-05,  7.33653937e-05,\n",
       "         1.22537698e-04,  1.53656468e-04,  3.79427625e-05,\n",
       "        -1.12364503e-04, -1.24922501e-05],\n",
       "       [-1.54241380e-05, -1.80150195e-05,  1.52075974e-05,\n",
       "         3.12467456e-05,  3.79427625e-05,  2.05218141e-05,\n",
       "        -3.79737053e-05, -4.93344875e-06],\n",
       "       [ 3.94151848e-05,  4.19099938e-05, -4.83525749e-05,\n",
       "        -9.58976828e-05, -1.12364503e-04, -3.79737053e-05,\n",
       "         1.07397749e-04, -7.56254750e-07],\n",
       "       [ 6.55758409e-06,  3.34934019e-06, -8.10100002e-06,\n",
       "         6.58590530e-06, -1.24922501e-05, -4.93344875e-06,\n",
       "        -7.56254750e-07,  1.76343961e-05]])\n",
       "      jac: array([ 3.43322754e-05, -1.14440918e-05, -1.33514404e-05, -2.86102295e-05,\n",
       "       -4.95910645e-05,  1.14440918e-05, -3.43322754e-05, -7.62939453e-05])\n",
       "  message: 'Desired error not necessarily achieved due to precision loss.'\n",
       "     nfev: 1011\n",
       "      nit: 27\n",
       "     njev: 110\n",
       "   status: 2\n",
       "  success: False\n",
       "        x: array([0.92264681, 0.89669082, 1.17786328, 1.10008194, 1.00722966,\n",
       "       0.93349578, 1.03704209, 0.92939886])"
      ]
     },
     "execution_count": 17,
     "metadata": {},
     "output_type": "execute_result"
    }
   ],
   "source": [
    "res = minimize(loss_sf, np.full(8,1.), tol=1e-6)\n",
    "sf = res.x\n",
    "obj_sf = sf[0:4]\n",
    "smp_sf = sf[4:8]\n",
    "res"
   ]
  },
  {
   "cell_type": "code",
   "execution_count": 18,
   "id": "d2ea7142",
   "metadata": {},
   "outputs": [],
   "source": [
    "nosf =  produce_estimate(region_counts, np.full(8,1))"
   ]
  },
  {
   "cell_type": "code",
   "execution_count": 19,
   "id": "f35068b9",
   "metadata": {},
   "outputs": [
    {
     "data": {
      "text/plain": [
       "27.224976722021026"
      ]
     },
     "execution_count": 19,
     "metadata": {},
     "output_type": "execute_result"
    }
   ],
   "source": [
    "estimate = produce_estimate(region_counts, (sf))\n",
    "data = region_counts.data\n",
    "((estimate-data)**2/data).mean()"
   ]
  },
  {
   "cell_type": "code",
   "execution_count": 20,
   "id": "d2a24e09",
   "metadata": {},
   "outputs": [
    {
     "data": {
      "text/plain": [
       "(0    56890.811607\n",
       " 1     5515.383689\n",
       " 2    38186.335794\n",
       " 3    12129.721513\n",
       " 4     5876.426182\n",
       " 5     8114.972306\n",
       " dtype: float64,\n",
       " 0    56319.0\n",
       " 1     6186.0\n",
       " 2    37689.0\n",
       " 3    12697.0\n",
       " 4     5426.0\n",
       " 5     8478.0\n",
       " Name: data, dtype: float64,\n",
       " 0    60716.113800\n",
       " 1     6618.220614\n",
       " 2    43144.550867\n",
       " 3    10984.306020\n",
       " 4     6027.903291\n",
       " 5     7779.119604\n",
       " dtype: float64)"
      ]
     },
     "execution_count": 20,
     "metadata": {},
     "output_type": "execute_result"
    }
   ],
   "source": [
    "estimate, data, nosf"
   ]
  },
  {
   "cell_type": "code",
   "execution_count": 21,
   "id": "203f1490",
   "metadata": {},
   "outputs": [],
   "source": [
    "sfs_by_region = np.power(obj_sf,obj_count.T).prod(axis=1)"
   ]
  },
  {
   "cell_type": "code",
   "execution_count": 22,
   "id": "188d719e",
   "metadata": {},
   "outputs": [
    {
     "data": {
      "text/plain": [
       "SR1_nom     0.936475\n",
       "CR10_nom    1.002688\n",
       "CR11_nom    0.910130\n",
       "CR12_nom    0.974480\n",
       "CR13_nom    0.884526\n",
       "CR14_nom    0.947066\n",
       "SR2_nom     1.103039\n",
       "CR20_nom    1.181029\n",
       "CR21_nom    1.072008\n",
       "CR22_nom    1.147805\n",
       "CR23_nom    1.041850\n",
       "CR24_nom    1.115514\n",
       "dtype: float64"
      ]
     },
     "execution_count": 22,
     "metadata": {},
     "output_type": "execute_result"
    }
   ],
   "source": [
    "sfs_by_region"
   ]
  },
  {
   "cell_type": "code",
   "execution_count": 23,
   "id": "7542cdf8",
   "metadata": {},
   "outputs": [],
   "source": [
    "group_membership = np.array(list(map(lambda x: combined_df.groupname==x,['DB', 'DY', 'ST', 'TT']))).T\n",
    "sfs_by_smp = (group_membership*smp_sf).sum(axis=1)"
   ]
  },
  {
   "cell_type": "code",
   "execution_count": 24,
   "id": "5cf5949b",
   "metadata": {},
   "outputs": [],
   "source": [
    "reg_sf = (combined_df[sfs_by_region.keys()]*sfs_by_region).sum(axis=1)"
   ]
  },
  {
   "cell_type": "code",
   "execution_count": 25,
   "id": "f1c8d294",
   "metadata": {},
   "outputs": [],
   "source": [
    "sfs_by_smp[sfs_by_smp==0] = 1\n",
    "reg_sf[reg_sf==0] = 1\n",
    "sfs_by_smp[combined_df.type=='data'] = 1\n",
    "reg_sf[combined_df.type=='data'] = 1"
   ]
  },
  {
   "cell_type": "code",
   "execution_count": 26,
   "id": "ecc4cb4e",
   "metadata": {
    "scrolled": true
   },
   "outputs": [
    {
     "data": {
      "text/plain": [
       "120532     1.0\n",
       "120533     1.0\n",
       "120534     1.0\n",
       "120535     1.0\n",
       "120536     1.0\n",
       "          ... \n",
       "1244141    1.0\n",
       "1244142    1.0\n",
       "1244145    1.0\n",
       "1244147    1.0\n",
       "1244148    1.0\n",
       "Length: 192436, dtype: float64"
      ]
     },
     "execution_count": 26,
     "metadata": {},
     "output_type": "execute_result"
    }
   ],
   "source": [
    "reg_sf[combined_df.type=='data']"
   ]
  },
  {
   "cell_type": "code",
   "execution_count": 27,
   "id": "068dfab6",
   "metadata": {},
   "outputs": [],
   "source": [
    "combined_df['reg_sf'] = reg_sf\n",
    "combined_df['smp_sf'] = sfs_by_smp"
   ]
  },
  {
   "cell_type": "code",
   "execution_count": 28,
   "id": "80158c8e-4e18-4a3b-a13b-de905126856f",
   "metadata": {},
   "outputs": [],
   "source": [
    "feather.write_feather(combined_df,'data/combined_scaled_{}.feather'.format(era))"
   ]
  },
  {
   "cell_type": "code",
   "execution_count": null,
   "id": "76b348b2",
   "metadata": {},
   "outputs": [],
   "source": []
  },
  {
   "cell_type": "code",
   "execution_count": null,
   "id": "e07e7038",
   "metadata": {},
   "outputs": [],
   "source": []
  },
  {
   "cell_type": "code",
   "execution_count": null,
   "id": "034dc1db",
   "metadata": {},
   "outputs": [],
   "source": []
  }
 ],
 "metadata": {
  "kernelspec": {
   "display_name": "bff_plotting",
   "language": "python",
   "name": "bff_plotting"
  },
  "language_info": {
   "codemirror_mode": {
    "name": "ipython",
    "version": 3
   },
   "file_extension": ".py",
   "mimetype": "text/x-python",
   "name": "python",
   "nbconvert_exporter": "python",
   "pygments_lexer": "ipython3",
   "version": "3.8.10"
  }
 },
 "nbformat": 4,
 "nbformat_minor": 5
}
