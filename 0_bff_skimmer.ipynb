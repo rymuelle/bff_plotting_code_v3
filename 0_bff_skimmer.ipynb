{
 "cells": [
  {
   "cell_type": "code",
   "execution_count": null,
   "id": "interesting-native",
   "metadata": {},
   "outputs": [],
   "source": [
    "from __future__ import print_function\n",
    "from glob import glob\n",
    "from ROOT import vector, RDataFrame, RDF, TFile, TH1F, TH2F, gInterpreter, TMath\n",
    "import ROOT\n",
    "import sys\n",
    "import yaml\n",
    "from bff_processor.cpp_function import def_cpp\n",
    "from bff_processor.utils import toVector, get_nEvents\n",
    "from bff_processor.df_definitions import *\n",
    "import pandas as pd\n",
    "from time import perf_counter\n",
    "import uproot"
   ]
  },
  {
   "cell_type": "code",
   "execution_count": null,
   "id": "f9463424",
   "metadata": {},
   "outputs": [],
   "source": [
    "%load_ext autoreload\n",
    "%autoreload 2"
   ]
  },
  {
   "cell_type": "code",
   "execution_count": null,
   "id": "8daf92ae",
   "metadata": {},
   "outputs": [],
   "source": [
    "from src.assets.bff_skimmer import *"
   ]
  },
  {
   "cell_type": "code",
   "execution_count": null,
   "id": "concrete-sociology",
   "metadata": {
    "scrolled": true
   },
   "outputs": [],
   "source": [
    "# Compile functions in c++ for the dataframe\n",
    "def_cpp()"
   ]
  },
  {
   "cell_type": "code",
   "execution_count": null,
   "id": "artistic-orlando",
   "metadata": {},
   "outputs": [],
   "source": [
    "#set up multithreading\n",
    "multiThreading = False\n",
    "if multiThreading: ROOT.ROOT.EnableImplicitMT()\n",
    "RDFrame = RDataFrame"
   ]
  },
  {
   "cell_type": "code",
   "execution_count": null,
   "id": "female-period",
   "metadata": {},
   "outputs": [],
   "source": [
    "#set up metadata for files\n",
    "era = '2016'\n",
    "deepflavour = False\n",
    "deepcsv = True\n",
    "extras = False\n",
    "csv_v_flavor=False\n",
    "if era == \"2016\":\n",
    "    fname = \"samplesCR_2016_Apr2020.yml\"\n",
    "    bDiscValue = 0.6321\n",
    "    if deepflavour:\n",
    "        fname = 'samplesCR_2016_Apr2020-deepflavour.yml'\n",
    "    if extras:\n",
    "        fname = 'samplesCR_2016_Apr2020_extras.yml'\n",
    "    if csv_v_flavor: \n",
    "        fname= 'samplesCR_2016_Apr2020-csv_v_flavor.yml'\n",
    "if era == \"2017\":\n",
    "    fname = \"samplesCR_2017_Apr2020.yml\"\n",
    "    bDiscValue = 0.4941\n",
    "    if deepflavour:\n",
    "        bDiscValue = .3033\n",
    "        fname = \"samplesCR_2017_Apr2020_deepflavour.yml\"\n",
    "    if deepcsv:\n",
    "        bDiscValue = .4941\n",
    "        fname = \"samplesCR_2017_Apr2020_deepcsv.yml\"\n",
    "if era == \"2018\":\n",
    "    fname = \"samplesCR_2018_Apr2020-hem.yml\"\n",
    "    bDiscValue = 0.4184\n",
    "\n",
    "\n",
    "sampleDir = \"samples\"\n",
    "outname = fname.replace('.yml','.root')\n",
    "fname = \"{}/{}\".format(sampleDir, fname)\n",
    "outname, fname"
   ]
  },
  {
   "cell_type": "code",
   "execution_count": null,
   "id": "bored-wrong",
   "metadata": {},
   "outputs": [],
   "source": [
    "class sample_processor():\n",
    "    '''Class that takes file name from yml and helps manage samples.'''\n",
    "    def __init__(self,file_name,outname,bDiscValue,is_inclusive=0):\n",
    "        #load config\n",
    "        self.file_name = file_name\n",
    "        with open(file_name,'r') as f:\n",
    "            self.sample_dict = yaml.load(f, Loader=yaml.FullLoader)\n",
    "        #setup outfile\n",
    "        self.outname = outname\n",
    "        self.out = TFile(outname, 'recreate')\n",
    "        self.outdirs_dict = {}\n",
    "        for sample in self.samples():\n",
    "            name = sample['name']\n",
    "            self.outdirs_dict[name] = self.out.mkdir(name)\n",
    "        self.lumi = self.sample_dict['lumi']\n",
    "        if 'path' in self.sample_dict:\n",
    "            self.path = self.sample_dict['path']\n",
    "        else: \n",
    "            self.path = ''\n",
    "        #get and write lumi info\n",
    "        hlumi = TH1F(\"lumi\", \"lumi\", 1, 0, 1)\n",
    "        hlumi.SetDirectory(self.out)\n",
    "        hlumi.SetBinContent(1, self.lumi)\n",
    "        hlumi.Write()\n",
    "        self.bDiscValue = bDiscValue\n",
    "        self.is_inclusive = is_inclusive\n",
    "    def samples(self):\n",
    "        return self.sample_dict['samples']\n",
    "    def sample_names(self):\n",
    "        return [s['name'] for s in self.samples()]\n",
    "    def close(self):\n",
    "        self.out.Close()\n",
    "    def __repr__(self):\n",
    "        text_dict = {\"fn\":self.file_name,\n",
    "                     \"on\":self.outname, \n",
    "                     \"lumi\":self.lumi,\n",
    "                    \"samples\": self.sample_names()}\n",
    "        return '''from {fn} to {on}\\nlumi: {lumi}\\nSamples {samples}'''.format(**text_dict)"
   ]
  },
  {
   "cell_type": "code",
   "execution_count": null,
   "id": "temporal-television",
   "metadata": {
    "scrolled": false
   },
   "outputs": [],
   "source": [
    "# create instance of sample manager class \n",
    "sp = sample_processor(fname, outname, bDiscValue)\n",
    "print(sp)"
   ]
  },
  {
   "cell_type": "code",
   "execution_count": null,
   "id": "brazilian-final",
   "metadata": {},
   "outputs": [],
   "source": [
    "# this creates long list of or statements for all permuations to select for events that are present in at least one region \n",
    "rs = [\"CR10\", \"CR11\", \"CR12\", \"CR13\", \"CR14\", \"CR20\", \"CR21\", \"CR22\", \"CR23\", \"CR24\", \"SR1\", \"SR2\"]\n",
    "JERC_var = ['nom','jerUp','jerDown','jesTotalUp','jesTotalDown']\n",
    "string = \"\"\n",
    "for jv in JERC_var:\n",
    "    for r in rs:\n",
    "        string += \"{}_{} or \".format(r,jv)\n",
    "mc_region = string[:-3]\n",
    "JERC_var = ['nom']\n",
    "string = \"\"\n",
    "for jv in JERC_var:\n",
    "    for r in rs:\n",
    "        string += \"{}_{} or \".format(r,jv)\n",
    "data_region = string[:-3]\n",
    "mc_region"
   ]
  },
  {
   "cell_type": "code",
   "execution_count": null,
   "id": "inclusive-sharp",
   "metadata": {},
   "outputs": [],
   "source": [
    "def process_sample(sp,sample,era,verbose=1):\n",
    "    '''Process each sample and produced csv.'''\n",
    "    #get metadata\n",
    "    name,xsec,nevts = sample['name'],sample['xsec'],sample['nevts']\n",
    "    ismc,fileglob,bTagEff = int(sample['ismc']),sample['fileglob'],sample['bTagEff']\n",
    "    fileglob = fileglob.format(path=sp.path)\n",
    "    bTagEff = bTagEff.format(path=sp.path)\n",
    "    #make file glob\n",
    "    #files = toVector('string', glob(fileglob))\n",
    "    files = glob(fileglob)\n",
    "    print(fileglob)\n",
    "    #remove efficency files and DeepFlavour\n",
    "    #files = list(filter(lambda x: \"DeepFlavour\" not in x, files))\n",
    "    #files = list(filter(lambda x: \"_Eff\" not in x, files))\n",
    "    # get n events from skim if 0\n",
    "    if not nevts:\n",
    "        nevts = get_nEvents(files)\n",
    "        print(nevts)\n",
    "    sample_weight = float(xsec)*sp.lumi/float(nevts)\n",
    "    print(float(xsec), sp.lumi, float(nevts), sample_weight)\n",
    "    if verbose: print(\"name: {} , xsec: {}, nevents: {} ismc: {}\".format(name,xsec,nevts,ismc))\n",
    "    #set up btagging and puid sf files\n",
    "    bTagFile, PUIDSFfile = setup_btag_puid(ismc, era, bTagEff)\n",
    "    #make rdf\n",
    "    df = RDFrame('Events', files)\n",
    "    #print([x for x in df.GetColumnNames()])\n",
    "    df = df.Filter(\"DiLepMass>100\", \"mass_cut\")\n",
    "    if ismc:\n",
    "        df = df.Filter(mc_region, \"in_region\")\n",
    "    else:\n",
    "        df = df.Filter(data_region, \"in_region\")\n",
    "    df = def_good_leptons(df, ismc)\n",
    "    df = def_good_jet(df,ismc, bDiscValue)\n",
    "    df = def_HLT(df, ismc, era)\n",
    "    df = def_sf_and_weight(df,ismc, sp.is_inclusive, name, sample_weight)\n",
    "    df = def_lep_selections(df)\n",
    "    # EE L1 prefiring test https://twiki.cern.ch/twiki/bin/viewauth/CMS/ExoPreapprovalChecklist\n",
    "    df = df.Define(\"EE_L1_range\", \"GoodJetPt > 100 && GoodJetEta > 2.25 && GoodJetEta < 3.0\")\n",
    "    df = df.Define(\"EE_L1_prefire_test\", \"max_vec(EE_L1_range)!=0\")\n",
    "\n",
    "    # HEEM Veto (veto events with jet in it)\n",
    "    #df = df.Define(\"Jet_in_HEM\", \"(-3 < Jet_eta && -1.3 > Jet_eta) && (-1.57 < Jet_phi && -.87 > Jet_phi\")\n",
    "    #df = df.Define(\"HEM_event_veto\", \"max_vec(Jet_in_HEEM)!=0\")\n",
    "    lcolumns = columns\n",
    "    if not ismc:\n",
    "        lcolumns = columns_data\n",
    "    #save as CSV\n",
    "    df_np = df.AsNumpy(lcolumns)\n",
    "    df_df = pd.DataFrame(df_np)\n",
    "    df_df.to_csv('data/tw_{}_{}.csv'.format(era,name))\n",
    "    hem_columns = ['GoodJetEta','GoodJetPhi','GoodJetPt','GoodBJet','GoodMuonPt','GoodMuonEta','GoodMuonPhi','GoodElePt','GoodEleEta','GoodElePhi','DiLepMass','HTLT_nom','RelMET_nom','TMB_nom','SR2_nom','SR1_nom','CR10_nom','CR11_nom','CR12_nom','CR13_nom','CR14_nom','SR2_nom','CR20_nom','CR21_nom','CR22_nom','CR23_nom','CR24_nom',\n",
    "                            'MET_phi','MET_pt',]\n",
    "    if not ismc: hem_columns.append('run')\n",
    "    df.Snapshot(\"Events\", \"data/tw_{}_{}.root\".format(era,name), hem_columns)\n",
    "    return name,df, fileglob"
   ]
  },
  {
   "cell_type": "code",
   "execution_count": null,
   "id": "empty-consciousness",
   "metadata": {
    "scrolled": false
   },
   "outputs": [],
   "source": [
    "for sample in sp.samples():\n",
    "    name = sample['name']\n",
    "    #if not 'ZToEE_M_800_1400_flavour' in name: continue\n",
    "    #if not (('250' in name) or ('300' in name) or ('450' in name)): continue\n",
    "    #if 'data' in name: continue\n",
    "    print(name)\n",
    "    start_time = perf_counter()\n",
    "    name,df,fileglob = process_sample(sp,sample,era, verbose=1)\n",
    "    #count = df.Count()\n",
    "    end_time = perf_counter()\n",
    "    try:\n",
    "        print(name,end_time-start_time)\n",
    "    except:\n",
    "        print(name,end_time-start_time)\n",
    "sp.close()"
   ]
  },
  {
   "cell_type": "code",
   "execution_count": null,
   "id": "a9d21fb7",
   "metadata": {},
   "outputs": [],
   "source": []
  }
 ],
 "metadata": {
  "kernelspec": {
   "display_name": "Python 3",
   "language": "python",
   "name": "python3"
  },
  "language_info": {
   "codemirror_mode": {
    "name": "ipython",
    "version": 3
   },
   "file_extension": ".py",
   "mimetype": "text/x-python",
   "name": "python",
   "nbconvert_exporter": "python",
   "pygments_lexer": "ipython3",
   "version": "3.9.6"
  }
 },
 "nbformat": 4,
 "nbformat_minor": 5
}
