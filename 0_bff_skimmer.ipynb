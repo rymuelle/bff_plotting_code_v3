{
 "cells": [
  {
   "cell_type": "code",
   "execution_count": null,
   "id": "interesting-native",
   "metadata": {},
   "outputs": [],
   "source": [
    "from __future__ import print_function\n",
    "from glob import glob\n",
    "from ROOT import vector, RDataFrame, RDF, TFile, TH1F, TH2F, gInterpreter, TMath\n",
    "import ROOT\n",
    "import sys\n",
    "import yaml\n",
    "from bff_processor.cpp_function import def_cpp\n",
    "from bff_processor.utils import toVector, get_nEvents\n",
    "from bff_processor.df_definitions import *\n",
    "import pandas as pd\n",
    "from time import perf_counter\n",
    "import uproot"
   ]
  },
  {
   "cell_type": "code",
   "execution_count": null,
   "id": "ade23197",
   "metadata": {},
   "outputs": [],
   "source": [
    "tmb_min = [\n",
    "'TMBMin_nom',\n",
    "'TMBMin_jesTotalUp',\n",
    "'TMBMin_jesTotalDown',\n",
    "'TMBMin_jerUp',\n",
    "'TMBMin_jerDown']\n",
    "tmb_max = [\n",
    "'TMBMax_nom',\n",
    "'TMBMax_jesTotalUp',\n",
    "'TMBMax_jesTotalDown',\n",
    "'TMBMax_jerUp',\n",
    "'TMBMax_jerDown']"
   ]
  },
  {
   "cell_type": "code",
   "execution_count": null,
   "id": "worldwide-canada",
   "metadata": {},
   "outputs": [],
   "source": [
    "# define columns to keep in MC and data\n",
    "columns = [\"minGoodJetElDR\",\"minGoodJetMuDR\", 'Weight_PuUp','Weight_PuDown','Weight_BTagUp','Weight_BTagDown','Weight_PUIDUp','Weight_PUIDDown','Weight_PDF_ISRFSR_Up','Weight_PDF_ISRFSR_Down','Weight_MuonSFUp','Weight_MuonSFDown','Weight_ElectronSFUp','Weight_ElectronSFDown','Weight','sample_weight','DiLepMass','TriggerWeight','Flag_goodVertices','Flag_globalSuperTightHalo2016Filter','Flag_HBHENoiseFilter','Flag_HBHENoiseIsoFilter','Flag_EcalDeadCellTriggerPrimitiveFilter','Flag_BadPFMuonFilter','Flag_eeBadScFilter','Flag_METFilters','HTLT_nom','RelMET_nom','TMB_nom','SR2_nom','SR1_nom','CR10_nom','CR11_nom','CR12_nom','CR13_nom','CR14_nom','SR2_nom','CR20_nom','CR21_nom','CR22_nom','CR23_nom','CR24_nom','HTLT_jerDown','RelMET_jerDown','TMB_jerDown','SR2_jerDown','SR1_jerDown','CR10_jerDown','CR11_jerDown','CR12_jerDown','CR13_jerDown','CR14_jerDown','SR2_jerDown','CR20_jerDown','CR21_jerDown','CR22_jerDown','CR23_jerDown','CR24_jerDown','HTLT_jerUp','RelMET_jerUp','TMB_jerUp','SR2_jerUp','SR1_jerUp','CR10_jerUp','CR11_jerUp','CR12_jerUp','CR13_jerUp','CR14_jerUp','SR2_jerUp','CR20_jerUp','CR21_jerUp','CR22_jerUp','CR23_jerUp','CR24_jerUp','HTLT_jesTotalDown','RelMET_jesTotalDown','TMB_jesTotalDown','SR2_jesTotalDown','SR1_jesTotalDown','CR10_jesTotalDown','CR11_jesTotalDown','CR12_jesTotalDown','CR13_jesTotalDown','CR14_jesTotalDown','SR2_jesTotalDown','CR20_jesTotalDown','CR21_jesTotalDown','CR22_jesTotalDown','CR23_jesTotalDown','CR24_jesTotalDown','HTLT_jesTotalUp','RelMET_jesTotalUp','TMB_jesTotalUp','SR2_jesTotalUp','SR1_jesTotalUp','CR10_jesTotalUp','CR11_jesTotalUp','CR12_jesTotalUp','CR13_jesTotalUp','CR14_jesTotalUp','SR2_jesTotalUp','CR20_jesTotalUp','CR21_jesTotalUp','CR22_jesTotalUp','CR23_jesTotalUp','CR24_jesTotalUp']\n",
    "\n",
    "columns_data = [\"minGoodJetElDR\",\"minGoodJetMuDR\", 'Weight','sample_weight','DiLepMass','TriggerWeight','Flag_goodVertices','Flag_globalSuperTightHalo2016Filter','Flag_HBHENoiseFilter','Flag_HBHENoiseIsoFilter','Flag_EcalDeadCellTriggerPrimitiveFilter','Flag_BadPFMuonFilter','Flag_eeBadScFilter','Flag_METFilters','HTLT_nom','RelMET_nom','TMB_nom','SR2_nom','SR1_nom','CR10_nom','CR11_nom','CR12_nom','CR13_nom','CR14_nom','SR2_nom','CR20_nom','CR21_nom','CR22_nom','CR23_nom','CR24_nom',]"
   ]
  },
  {
   "cell_type": "code",
   "execution_count": null,
   "id": "5a9854fe",
   "metadata": {},
   "outputs": [],
   "source": [
    "columns+=tmb_min\n",
    "columns+=tmb_max\n",
    "columns_data+=['TMBMin_nom','TMBMax_nom']"
   ]
  },
  {
   "cell_type": "code",
   "execution_count": null,
   "id": "concrete-sociology",
   "metadata": {
    "scrolled": true
   },
   "outputs": [],
   "source": [
    "# Compile functions in c++ for the dataframe\n",
    "def_cpp()"
   ]
  },
  {
   "cell_type": "code",
   "execution_count": null,
   "id": "artistic-orlando",
   "metadata": {},
   "outputs": [],
   "source": [
    "#set up multithreading\n",
    "multiThreading = True\n",
    "if multiThreading: ROOT.ROOT.EnableImplicitMT()\n",
    "RDFrame = RDataFrame"
   ]
  },
  {
   "cell_type": "code",
   "execution_count": null,
   "id": "female-period",
   "metadata": {},
   "outputs": [],
   "source": [
    "#set up metadata for files\n",
    "era = '2016'\n",
    "if era == \"2016\":\n",
    "    fname = \"samplesCR_2016_Apr2020.yml\"\n",
    "    bDiscValue = 0.6321\n",
    "if era == \"2017\":\n",
    "    fname = \"samplesCR_2017_Apr2020.yml\"\n",
    "    bDiscValue = 0.4941\n",
    "if era == \"2018\":\n",
    "    fname = \"samplesCR_2018_Apr2020.yml\"\n",
    "    bDiscValue = 0.4184\n",
    "sampleDir = \"samples\"\n",
    "outname = fname.replace('.yml','.root')\n",
    "fname = \"{}/{}\".format(sampleDir, fname)\n",
    "outname, fname"
   ]
  },
  {
   "cell_type": "code",
   "execution_count": null,
   "id": "bored-wrong",
   "metadata": {},
   "outputs": [],
   "source": [
    "class sample_processor():\n",
    "    '''Class that takes file name from yml and helps manage samples.'''\n",
    "    def __init__(self,file_name,outname,bDiscValue,is_inclusive=0):\n",
    "        #load config\n",
    "        self.file_name = file_name\n",
    "        with open(file_name,'r') as f:\n",
    "            self.sample_dict = yaml.load(f, Loader=yaml.FullLoader)\n",
    "        #setup outfile\n",
    "        self.outname = outname\n",
    "        self.out = TFile(outname, 'recreate')\n",
    "        self.outdirs_dict = {}\n",
    "        for sample in self.samples():\n",
    "            name = sample['name']\n",
    "            self.outdirs_dict[name] = self.out.mkdir(name)\n",
    "        self.lumi = self.sample_dict['lumi']\n",
    "        #get and write lumi info\n",
    "        hlumi = TH1F(\"lumi\", \"lumi\", 1, 0, 1)\n",
    "        hlumi.SetDirectory(self.out)\n",
    "        hlumi.SetBinContent(1, self.lumi)\n",
    "        hlumi.Write()\n",
    "        self.bDiscValue = bDiscValue\n",
    "        self.is_inclusive = is_inclusive\n",
    "    def samples(self):\n",
    "        return self.sample_dict['samples']\n",
    "    def sample_names(self):\n",
    "        return [s['name'] for s in self.samples()]\n",
    "    def close(self):\n",
    "        self.out.Close()\n",
    "    def __repr__(self):\n",
    "        text_dict = {\"fn\":self.file_name,\n",
    "                     \"on\":self.outname, \n",
    "                     \"lumi\":self.lumi,\n",
    "                    \"samples\": self.sample_names()}\n",
    "        return '''from {fn} to {on}\\nlumi: {lumi}\\nSamples {samples}'''.format(**text_dict)"
   ]
  },
  {
   "cell_type": "code",
   "execution_count": null,
   "id": "temporal-television",
   "metadata": {
    "scrolled": false
   },
   "outputs": [],
   "source": [
    "# create instance of sample manager class \n",
    "sp = sample_processor(fname, outname, bDiscValue)\n",
    "print(sp)"
   ]
  },
  {
   "cell_type": "code",
   "execution_count": null,
   "id": "brazilian-final",
   "metadata": {},
   "outputs": [],
   "source": [
    "# this creates long list of or statements for all permuations to select for events that are present in at least one region \n",
    "rs = [\"CR10\", \"CR11\", \"CR12\", \"CR13\", \"CR14\", \"CR20\", \"CR21\", \"CR22\", \"CR23\", \"CR24\", \"SR1\", \"SR2\"]\n",
    "JERC_var = ['nom','jerUp','jerDown','jesTotalUp','jesTotalDown']\n",
    "string = \"\"\n",
    "for jv in JERC_var:\n",
    "    for r in rs:\n",
    "        string += \"{}_{} or \".format(r,jv)\n",
    "mc_region = string[:-3]\n",
    "JERC_var = ['nom']\n",
    "string = \"\"\n",
    "for jv in JERC_var:\n",
    "    for r in rs:\n",
    "        string += \"{}_{} or \".format(r,jv)\n",
    "data_region = string[:-3]\n",
    "mc_region"
   ]
  },
  {
   "cell_type": "code",
   "execution_count": null,
   "id": "inclusive-sharp",
   "metadata": {},
   "outputs": [],
   "source": [
    "def process_sample(sp,sample,era,verbose=1):\n",
    "    '''Process each sample and produced csv.'''\n",
    "    #get metadata\n",
    "    name,xsec,nevts = sample['name'],sample['xsec'],sample['nevts']\n",
    "    ismc,fileglob,bTagEff = int(sample['ismc']),sample['fileglob'],sample['bTagEff']\n",
    "    #make file glob\n",
    "    #files = toVector('string', glob(fileglob))\n",
    "    files = glob(fileglob)\n",
    "    # get n events from skim if 0\n",
    "    if not nevts:\n",
    "        nevts = get_nEvents(files)\n",
    "        print(nevts)\n",
    "        \n",
    "    sample_weight = float(xsec)*sp.lumi/float(nevts)\n",
    "    if verbose: print(\"name: {} , xsec: {}, nevents: {} ismc: {}\".format(name,xsec,nevts,ismc))\n",
    "\n",
    "    #set up btagging and puid sf files\n",
    "    bTagFile, PUIDSFfile = setup_btag_puid(ismc, era, bTagEff)\n",
    "    #make rdf\n",
    "    \n",
    "    df = RDFrame('Events', files)\n",
    "    #print([x for x in df.GetColumnNames()])\n",
    "    \n",
    "    df = df.Filter(\"DiLepMass>100\", \"mass_cut\")\n",
    "    \n",
    "    if ismc:\n",
    "        df = df.Filter(mc_region, \"in_region\")\n",
    "    else:\n",
    "        df = df.Filter(data_region, \"in_region\")\n",
    "    df = def_good_leptons(df, ismc)\n",
    "    df = def_good_jet(df,ismc, bDiscValue)\n",
    "    df = def_HLT(df, ismc, era)\n",
    "    df = def_sf_and_weight(df,ismc, sp.is_inclusive, name, sample_weight)\n",
    "    df = def_lep_selections(df)\n",
    "    lcolumns = columns\n",
    "    if not ismc:\n",
    "        lcolumns = columns_data\n",
    "    #save as CSV\n",
    "    df_np = df.AsNumpy(lcolumns)\n",
    "    df_df = pd.DataFrame(df_np)\n",
    "    df_df.to_csv('data/tw_{}_{}.csv'.format(era,name))\n",
    "    return name,df, fileglob"
   ]
  },
  {
   "cell_type": "code",
   "execution_count": null,
   "id": "empty-consciousness",
   "metadata": {
    "scrolled": false
   },
   "outputs": [],
   "source": [
    "for sample in sp.samples():\n",
    "    name = sample['name']\n",
    "    #if not (('250' in name) or ('300' in name) or ('450' in name)): continue\n",
    "    print(name)\n",
    "    start_time = perf_counter()\n",
    "    name,df,fileglob = process_sample(sp,sample,era)\n",
    "    #count = df.Count()\n",
    "    end_time = perf_counter()\n",
    "    try:\n",
    "        print(name,end_time-start_time)\n",
    "    except:\n",
    "        print(name,end_time-start_time)\n",
    "sp.close()"
   ]
  }
 ],
 "metadata": {
  "kernelspec": {
   "display_name": "Python 3",
   "language": "python",
   "name": "python3"
  },
  "language_info": {
   "codemirror_mode": {
    "name": "ipython",
    "version": 3
   },
   "file_extension": ".py",
   "mimetype": "text/x-python",
   "name": "python",
   "nbconvert_exporter": "python",
   "pygments_lexer": "ipython3",
   "version": "3.9.6"
  }
 },
 "nbformat": 4,
 "nbformat_minor": 5
}
