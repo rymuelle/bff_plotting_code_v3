{
 "cells": [
  {
   "cell_type": "code",
   "execution_count": 1,
   "id": "interesting-native",
   "metadata": {},
   "outputs": [
    {
     "name": "stdout",
     "output_type": "stream",
     "text": [
      "Welcome to JupyROOT 6.22/09\n"
     ]
    }
   ],
   "source": [
    "from __future__ import print_function\n",
    "from glob import glob\n",
    "from ROOT import vector, RDataFrame, RDF, TFile, TH1F, TH2F, gInterpreter, TMath\n",
    "import ROOT\n",
    "import sys\n",
    "import yaml\n",
    "from bff_processor.cpp_function import def_cpp\n",
    "from bff_processor.utils import toVector, get_nEvents\n",
    "from bff_processor.df_definitions import *\n",
    "import pandas as pd\n",
    "from time import perf_counter\n",
    "import uproot"
   ]
  },
  {
   "cell_type": "code",
   "execution_count": 2,
   "id": "f9463424",
   "metadata": {},
   "outputs": [],
   "source": [
    "%load_ext autoreload\n",
    "%autoreload 2"
   ]
  },
  {
   "cell_type": "code",
   "execution_count": 3,
   "id": "ade23197",
   "metadata": {},
   "outputs": [],
   "source": [
    "tmb_min = [\n",
    "'TMBMin_nom',\n",
    "'TMBMin_jesTotalUp',\n",
    "'TMBMin_jesTotalDown',\n",
    "'TMBMin_jerUp',\n",
    "'TMBMin_jerDown']\n",
    "tmb_max = [\n",
    "'TMBMax_nom',\n",
    "'TMBMax_jesTotalUp',\n",
    "'TMBMax_jesTotalDown',\n",
    "'TMBMax_jerUp',\n",
    "'TMBMax_jerDown']"
   ]
  },
  {
   "cell_type": "code",
   "execution_count": 4,
   "id": "worldwide-canada",
   "metadata": {},
   "outputs": [],
   "source": [
    "# define columns to keep in MC and data\n",
    "columns = [\"HEM_event_veto\", \"EE_L1_prefire_test\",  \"minGoodJetElDR\",\"minGoodJetMuDR\", 'Weight_PuUp','Weight_PuDown','Weight_BTagUp','Weight_BTagDown','Weight_PUIDUp','Weight_PUIDDown','Weight_PDF_ISRFSR_Up','Weight_PDF_ISRFSR_Down','Weight_MuonSFUp','Weight_MuonSFDown','Weight_ElectronSFUp','Weight_ElectronSFDown','Weight','sample_weight','DiLepMass','TriggerWeight','Flag_goodVertices','Flag_globalSuperTightHalo2016Filter','Flag_HBHENoiseFilter','Flag_HBHENoiseIsoFilter','Flag_EcalDeadCellTriggerPrimitiveFilter','Flag_BadPFMuonFilter','Flag_eeBadScFilter','Flag_METFilters','HTLT_nom','RelMET_nom','TMB_nom','SR2_nom','SR1_nom','CR10_nom','CR11_nom','CR12_nom','CR13_nom','CR14_nom','SR2_nom','CR20_nom','CR21_nom','CR22_nom','CR23_nom','CR24_nom','HTLT_jerDown','RelMET_jerDown','TMB_jerDown','SR2_jerDown','SR1_jerDown','CR10_jerDown','CR11_jerDown','CR12_jerDown','CR13_jerDown','CR14_jerDown','SR2_jerDown','CR20_jerDown','CR21_jerDown','CR22_jerDown','CR23_jerDown','CR24_jerDown','HTLT_jerUp','RelMET_jerUp','TMB_jerUp','SR2_jerUp','SR1_jerUp','CR10_jerUp','CR11_jerUp','CR12_jerUp','CR13_jerUp','CR14_jerUp','SR2_jerUp','CR20_jerUp','CR21_jerUp','CR22_jerUp','CR23_jerUp','CR24_jerUp','HTLT_jesTotalDown','RelMET_jesTotalDown','TMB_jesTotalDown','SR2_jesTotalDown','SR1_jesTotalDown','CR10_jesTotalDown','CR11_jesTotalDown','CR12_jesTotalDown','CR13_jesTotalDown','CR14_jesTotalDown','SR2_jesTotalDown','CR20_jesTotalDown','CR21_jesTotalDown','CR22_jesTotalDown','CR23_jesTotalDown','CR24_jesTotalDown','HTLT_jesTotalUp','RelMET_jesTotalUp','TMB_jesTotalUp','SR2_jesTotalUp','SR1_jesTotalUp','CR10_jesTotalUp','CR11_jesTotalUp','CR12_jesTotalUp','CR13_jesTotalUp','CR14_jesTotalUp','SR2_jesTotalUp','CR20_jesTotalUp','CR21_jesTotalUp','CR22_jesTotalUp','CR23_jesTotalUp','CR24_jesTotalUp']\n",
    "\n",
    "columns_data = [\"HEM_event_veto\", \"EE_L1_prefire_test\", \"minGoodJetElDR\",\"minGoodJetMuDR\", 'Weight','sample_weight','DiLepMass','TriggerWeight','Flag_goodVertices','Flag_globalSuperTightHalo2016Filter','Flag_HBHENoiseFilter','Flag_HBHENoiseIsoFilter','Flag_EcalDeadCellTriggerPrimitiveFilter','Flag_BadPFMuonFilter','Flag_eeBadScFilter','Flag_METFilters','HTLT_nom','RelMET_nom','TMB_nom','SR2_nom','SR1_nom','CR10_nom','CR11_nom','CR12_nom','CR13_nom','CR14_nom','SR2_nom','CR20_nom','CR21_nom','CR22_nom','CR23_nom','CR24_nom',]"
   ]
  },
  {
   "cell_type": "code",
   "execution_count": 5,
   "id": "caacf8cd",
   "metadata": {},
   "outputs": [],
   "source": [
    "# define columns to keep in MC and data\n",
    "columns = [ \"EE_L1_prefire_test\",  \"minGoodJetElDR\",\"minGoodJetMuDR\", 'Weight_PuUp','Weight_PuDown','Weight_BTagUp','Weight_BTagDown','Weight_PUIDUp','Weight_PUIDDown','Weight_PDF_ISRFSR_Up','Weight_PDF_ISRFSR_Down','Weight_MuonSFUp','Weight_MuonSFDown','Weight_ElectronSFUp','Weight_ElectronSFDown','Weight','sample_weight','DiLepMass','TriggerWeight','Flag_goodVertices','Flag_globalSuperTightHalo2016Filter','Flag_HBHENoiseFilter','Flag_HBHENoiseIsoFilter','Flag_EcalDeadCellTriggerPrimitiveFilter','Flag_BadPFMuonFilter','Flag_eeBadScFilter','Flag_METFilters','HTLT_nom','RelMET_nom','TMB_nom','SR2_nom','SR1_nom','CR10_nom','CR11_nom','CR12_nom','CR13_nom','CR14_nom','SR2_nom','CR20_nom','CR21_nom','CR22_nom','CR23_nom','CR24_nom','HTLT_jerDown','RelMET_jerDown','TMB_jerDown','SR2_jerDown','SR1_jerDown','CR10_jerDown','CR11_jerDown','CR12_jerDown','CR13_jerDown','CR14_jerDown','SR2_jerDown','CR20_jerDown','CR21_jerDown','CR22_jerDown','CR23_jerDown','CR24_jerDown','HTLT_jerUp','RelMET_jerUp','TMB_jerUp','SR2_jerUp','SR1_jerUp','CR10_jerUp','CR11_jerUp','CR12_jerUp','CR13_jerUp','CR14_jerUp','SR2_jerUp','CR20_jerUp','CR21_jerUp','CR22_jerUp','CR23_jerUp','CR24_jerUp','HTLT_jesTotalDown','RelMET_jesTotalDown','TMB_jesTotalDown','SR2_jesTotalDown','SR1_jesTotalDown','CR10_jesTotalDown','CR11_jesTotalDown','CR12_jesTotalDown','CR13_jesTotalDown','CR14_jesTotalDown','SR2_jesTotalDown','CR20_jesTotalDown','CR21_jesTotalDown','CR22_jesTotalDown','CR23_jesTotalDown','CR24_jesTotalDown','HTLT_jesTotalUp','RelMET_jesTotalUp','TMB_jesTotalUp','SR2_jesTotalUp','SR1_jesTotalUp','CR10_jesTotalUp','CR11_jesTotalUp','CR12_jesTotalUp','CR13_jesTotalUp','CR14_jesTotalUp','SR2_jesTotalUp','CR20_jesTotalUp','CR21_jesTotalUp','CR22_jesTotalUp','CR23_jesTotalUp','CR24_jesTotalUp']\n",
    "\n",
    "columns_data = [ \"EE_L1_prefire_test\", \"minGoodJetElDR\",\"minGoodJetMuDR\", 'Weight','sample_weight','DiLepMass','TriggerWeight','Flag_goodVertices','Flag_globalSuperTightHalo2016Filter','Flag_HBHENoiseFilter','Flag_HBHENoiseIsoFilter','Flag_EcalDeadCellTriggerPrimitiveFilter','Flag_BadPFMuonFilter','Flag_eeBadScFilter','Flag_METFilters','HTLT_nom','RelMET_nom','TMB_nom','SR2_nom','SR1_nom','CR10_nom','CR11_nom','CR12_nom','CR13_nom','CR14_nom','SR2_nom','CR20_nom','CR21_nom','CR22_nom','CR23_nom','CR24_nom',]"
   ]
  },
  {
   "cell_type": "code",
   "execution_count": 6,
   "id": "5a9854fe",
   "metadata": {},
   "outputs": [],
   "source": [
    "columns+=tmb_min\n",
    "columns+=tmb_max\n",
    "columns_data+=['TMBMin_nom','TMBMax_nom']"
   ]
  },
  {
   "cell_type": "code",
   "execution_count": 7,
   "id": "concrete-sociology",
   "metadata": {
    "scrolled": true
   },
   "outputs": [
    {
     "data": {
      "text/plain": [
       "True"
      ]
     },
     "execution_count": 7,
     "metadata": {},
     "output_type": "execute_result"
    }
   ],
   "source": [
    "# Compile functions in c++ for the dataframe\n",
    "def_cpp()"
   ]
  },
  {
   "cell_type": "code",
   "execution_count": 8,
   "id": "artistic-orlando",
   "metadata": {},
   "outputs": [],
   "source": [
    "#set up multithreading\n",
    "multiThreading = True\n",
    "if multiThreading: ROOT.ROOT.EnableImplicitMT()\n",
    "RDFrame = RDataFrame"
   ]
  },
  {
   "cell_type": "code",
   "execution_count": 9,
   "id": "female-period",
   "metadata": {},
   "outputs": [
    {
     "data": {
      "text/plain": [
       "('samplesCR_2017_Apr2020.root', 'samples/samplesCR_2017_Apr2020.yml')"
      ]
     },
     "execution_count": 9,
     "metadata": {},
     "output_type": "execute_result"
    }
   ],
   "source": [
    "#set up metadata for files\n",
    "era = '2017'\n",
    "deepflavour = False\n",
    "extras = False\n",
    "if era == \"2016\":\n",
    "    fname = \"samplesCR_2016_Apr2020.yml\"\n",
    "    bDiscValue = 0.6321\n",
    "    if deepflavour:\n",
    "        fname = 'samplesCR_2016_Apr2020-deepflavour.yml'\n",
    "    if extras:\n",
    "        fname = 'samplesCR_2016_Apr2020_extras.yml'\n",
    "if era == \"2017\":\n",
    "    fname = \"samplesCR_2017_Apr2020.yml\"\n",
    "    bDiscValue = 0.4941\n",
    "if era == \"2018\":\n",
    "    fname = \"samplesCR_2018_Apr2020.yml\"\n",
    "    bDiscValue = 0.4184\n",
    "\n",
    "\n",
    "sampleDir = \"samples\"\n",
    "outname = fname.replace('.yml','.root')\n",
    "fname = \"{}/{}\".format(sampleDir, fname)\n",
    "outname, fname"
   ]
  },
  {
   "cell_type": "code",
   "execution_count": 10,
   "id": "bored-wrong",
   "metadata": {},
   "outputs": [],
   "source": [
    "class sample_processor():\n",
    "    '''Class that takes file name from yml and helps manage samples.'''\n",
    "    def __init__(self,file_name,outname,bDiscValue,is_inclusive=0):\n",
    "        #load config\n",
    "        self.file_name = file_name\n",
    "        with open(file_name,'r') as f:\n",
    "            self.sample_dict = yaml.load(f, Loader=yaml.FullLoader)\n",
    "        #setup outfile\n",
    "        self.outname = outname\n",
    "        self.out = TFile(outname, 'recreate')\n",
    "        self.outdirs_dict = {}\n",
    "        for sample in self.samples():\n",
    "            name = sample['name']\n",
    "            self.outdirs_dict[name] = self.out.mkdir(name)\n",
    "        self.lumi = self.sample_dict['lumi']\n",
    "        if 'path' in self.sample_dict:\n",
    "            self.path = self.sample_dict['path']\n",
    "        else: \n",
    "            self.path = ''\n",
    "        #get and write lumi info\n",
    "        hlumi = TH1F(\"lumi\", \"lumi\", 1, 0, 1)\n",
    "        hlumi.SetDirectory(self.out)\n",
    "        hlumi.SetBinContent(1, self.lumi)\n",
    "        hlumi.Write()\n",
    "        self.bDiscValue = bDiscValue\n",
    "        self.is_inclusive = is_inclusive\n",
    "    def samples(self):\n",
    "        return self.sample_dict['samples']\n",
    "    def sample_names(self):\n",
    "        return [s['name'] for s in self.samples()]\n",
    "    def close(self):\n",
    "        self.out.Close()\n",
    "    def __repr__(self):\n",
    "        text_dict = {\"fn\":self.file_name,\n",
    "                     \"on\":self.outname, \n",
    "                     \"lumi\":self.lumi,\n",
    "                    \"samples\": self.sample_names()}\n",
    "        return '''from {fn} to {on}\\nlumi: {lumi}\\nSamples {samples}'''.format(**text_dict)"
   ]
  },
  {
   "cell_type": "code",
   "execution_count": 11,
   "id": "temporal-television",
   "metadata": {
    "scrolled": false
   },
   "outputs": [
    {
     "name": "stdout",
     "output_type": "stream",
     "text": [
      "from samples/samplesCR_2017_Apr2020.yml to samplesCR_2017_Apr2020.root\n",
      "lumi: 41.85\n",
      "Samples ['BFFZprimeToMuMu_M_200_dbs0p04', 'BFFZprimeToMuMu_M_200_dbs0p5', 'BFFZprimeToMuMu_M_200_dbs1p0', 'BFFZprimeToMuMu_M_250_dbs0p04', 'BFFZprimeToMuMu_M_300_dbs0p04', 'BFFZprimeToMuMu_M_350_dbs0p04', 'BFFZprimeToMuMu_M_350_dbs0p5', 'BFFZprimeToMuMu_M_350_dbs1p0', 'BFFZprimeToMuMu_M_400_dbs0p04', 'BFFZprimeToMuMu_M_450_dbs0p04', 'BFFZprimeToMuMu_M_500_dbs0p04', 'BFFZprimeToMuMu_M_500_dbs0p5', 'BFFZprimeToMuMu_M_500_dbs1p0', 'ZToEE_M_120_200', 'ZToEE_M_200_400', 'ZToEE_M_400_800', 'ZToEE_M_50_120', 'ZToEE_M_800_1400', 'ZToMuMu_M_120_200', 'ZToMuMu_M_200_400', 'ZToMuMu_M_400_800', 'ZToMuMu_M_50_120', 'ZToMuMu_M_800_1400', 'data_el', 'data_mu', 'mc_santitop', 'mc_stop', 'mc_ttbar', 'mc_ww', 'mc_wz', 'mc_zz', 'BFFZprimeToMuMu_M_125_dbs0p5', 'BFFZprimeToMuMu_M_150_dbs0p04', 'BFFZprimeToMuMu_M_150_dbs0p5', 'BFFZprimeToMuMu_M_150_dbs1p0', 'BFFZprimeToMuMu_M_175_dbs0p04', 'BFFZprimeToMuMu_M_175_dbs0p5', 'BFFZprimeToMuMu_M_175_dbs1p0', 'BFFZprimeToMuMu_M_201_dbs0p04', 'BFFZprimeToMuMu_M_201_dbs0p5', 'BFFZprimeToMuMu_M_201_dbs1p0']\n"
     ]
    }
   ],
   "source": [
    "# create instance of sample manager class \n",
    "sp = sample_processor(fname, outname, bDiscValue)\n",
    "print(sp)"
   ]
  },
  {
   "cell_type": "code",
   "execution_count": 12,
   "id": "brazilian-final",
   "metadata": {},
   "outputs": [
    {
     "data": {
      "text/plain": [
       "'CR10_nom or CR11_nom or CR12_nom or CR13_nom or CR14_nom or CR20_nom or CR21_nom or CR22_nom or CR23_nom or CR24_nom or SR1_nom or SR2_nom or CR10_jerUp or CR11_jerUp or CR12_jerUp or CR13_jerUp or CR14_jerUp or CR20_jerUp or CR21_jerUp or CR22_jerUp or CR23_jerUp or CR24_jerUp or SR1_jerUp or SR2_jerUp or CR10_jerDown or CR11_jerDown or CR12_jerDown or CR13_jerDown or CR14_jerDown or CR20_jerDown or CR21_jerDown or CR22_jerDown or CR23_jerDown or CR24_jerDown or SR1_jerDown or SR2_jerDown or CR10_jesTotalUp or CR11_jesTotalUp or CR12_jesTotalUp or CR13_jesTotalUp or CR14_jesTotalUp or CR20_jesTotalUp or CR21_jesTotalUp or CR22_jesTotalUp or CR23_jesTotalUp or CR24_jesTotalUp or SR1_jesTotalUp or SR2_jesTotalUp or CR10_jesTotalDown or CR11_jesTotalDown or CR12_jesTotalDown or CR13_jesTotalDown or CR14_jesTotalDown or CR20_jesTotalDown or CR21_jesTotalDown or CR22_jesTotalDown or CR23_jesTotalDown or CR24_jesTotalDown or SR1_jesTotalDown or SR2_jesTotalDown '"
      ]
     },
     "execution_count": 12,
     "metadata": {},
     "output_type": "execute_result"
    }
   ],
   "source": [
    "# this creates long list of or statements for all permuations to select for events that are present in at least one region \n",
    "rs = [\"CR10\", \"CR11\", \"CR12\", \"CR13\", \"CR14\", \"CR20\", \"CR21\", \"CR22\", \"CR23\", \"CR24\", \"SR1\", \"SR2\"]\n",
    "JERC_var = ['nom','jerUp','jerDown','jesTotalUp','jesTotalDown']\n",
    "string = \"\"\n",
    "for jv in JERC_var:\n",
    "    for r in rs:\n",
    "        string += \"{}_{} or \".format(r,jv)\n",
    "mc_region = string[:-3]\n",
    "JERC_var = ['nom']\n",
    "string = \"\"\n",
    "for jv in JERC_var:\n",
    "    for r in rs:\n",
    "        string += \"{}_{} or \".format(r,jv)\n",
    "data_region = string[:-3]\n",
    "mc_region"
   ]
  },
  {
   "cell_type": "code",
   "execution_count": 13,
   "id": "inclusive-sharp",
   "metadata": {},
   "outputs": [],
   "source": [
    "def process_sample(sp,sample,era,verbose=1):\n",
    "    '''Process each sample and produced csv.'''\n",
    "    #get metadata\n",
    "    name,xsec,nevts = sample['name'],sample['xsec'],sample['nevts']\n",
    "    ismc,fileglob,bTagEff = int(sample['ismc']),sample['fileglob'],sample['bTagEff']\n",
    "    fileglob = fileglob.format(path=sp.path)\n",
    "    bTagEff = bTagEff.format(path=sp.path)\n",
    "    #make file glob\n",
    "    #files = toVector('string', glob(fileglob))\n",
    "    files = glob(fileglob)\n",
    "    #remove efficency files and DeepFlavour\n",
    "    files = list(filter(lambda x: \"DeepFlavour\" not in x, files))\n",
    "    files = list(filter(lambda x: \"_Eff\" not in x, files))\n",
    "    # get n events from skim if 0\n",
    "    if not nevts:\n",
    "        nevts = get_nEvents(files)\n",
    "        print(nevts)\n",
    "        \n",
    "    sample_weight = float(xsec)*sp.lumi/float(nevts)\n",
    "    if verbose: print(\"name: {} , xsec: {}, nevents: {} ismc: {}\".format(name,xsec,nevts,ismc))\n",
    "\n",
    "    #set up btagging and puid sf files\n",
    "    bTagFile, PUIDSFfile = setup_btag_puid(ismc, era, bTagEff)\n",
    "    #make rdf\n",
    "    \n",
    "    df = RDFrame('Events', files)\n",
    "    #print([x for x in df.GetColumnNames()])\n",
    "    \n",
    "    df = df.Filter(\"DiLepMass>100\", \"mass_cut\")\n",
    "    \n",
    "    if ismc:\n",
    "        df = df.Filter(mc_region, \"in_region\")\n",
    "    else:\n",
    "        df = df.Filter(data_region, \"in_region\")\n",
    "    df = def_good_leptons(df, ismc)\n",
    "    df = def_good_jet(df,ismc, bDiscValue)\n",
    "    df = def_HLT(df, ismc, era)\n",
    "    df = def_sf_and_weight(df,ismc, sp.is_inclusive, name, sample_weight)\n",
    "    df = def_lep_selections(df)\n",
    "    \n",
    "    # EE L1 prefiring test https://twiki.cern.ch/twiki/bin/viewauth/CMS/ExoPreapprovalChecklist\n",
    "    df = df.Define(\"EE_L1_range\", \"GoodJetPt > 100 && GoodJetEta > 2.25 && GoodJetEta < 3.0\")\n",
    "    df = df.Define(\"EE_L1_prefire_test\", \"max_vec(EE_L1_range)!=0\")\n",
    "    # HEEM Veto (veto events with jet in it)\n",
    "    df = df.Define(\"Jet_in_HEM\", \"(-3 < Jet_eta && -1.3 > Jet_eta) && (-1.57 < Jet_phi && -.87 > Jet_phi\")\n",
    "    #df = df.Define(\"HEM_event_veto\", \"max_vec(Jet_in_HEEM)!=0\")\n",
    "    \n",
    "    lcolumns = columns\n",
    "    if not ismc:\n",
    "        lcolumns = columns_data\n",
    "    #save as CSV\n",
    "    df_np = df.AsNumpy(lcolumns)\n",
    "    df_df = pd.DataFrame(df_np)\n",
    "    df_df.to_csv('data/tw_{}_{}.csv'.format(era,name))\n",
    "    return name,df, fileglob"
   ]
  },
  {
   "cell_type": "code",
   "execution_count": null,
   "id": "empty-consciousness",
   "metadata": {
    "scrolled": false
   },
   "outputs": [
    {
     "name": "stdout",
     "output_type": "stream",
     "text": [
      "BFFZprimeToMuMu_M_200_dbs0p04\n",
      "510736.0\n",
      "name: BFFZprimeToMuMu_M_200_dbs0p04 , xsec: 302.9, nevents: 510736.0 ismc: 1\n",
      "/eos/cms/store/group/phys_exotica/bffZprime/nanoAODskimmed/2017/BtagEff/DYJetsToLL_M-50_TuneCP5_13TeV-amcatnloFXFX-pythia8.root\n"
     ]
    }
   ],
   "source": [
    "for sample in sp.samples():\n",
    "    name = sample['name']\n",
    "    #if not (('250' in name) or ('300' in name) or ('450' in name)): continue\n",
    "    print(name)\n",
    "    start_time = perf_counter()\n",
    "    name,df,fileglob = process_sample(sp,sample,era)\n",
    "    #count = df.Count()\n",
    "    end_time = perf_counter()\n",
    "    try:\n",
    "        print(name,end_time-start_time)\n",
    "    except:\n",
    "        print(name,end_time-start_time)\n",
    "sp.close()"
   ]
  },
  {
   "cell_type": "code",
   "execution_count": null,
   "id": "505dc276",
   "metadata": {},
   "outputs": [],
   "source": []
  },
  {
   "cell_type": "code",
   "execution_count": null,
   "id": "42cdcce0",
   "metadata": {},
   "outputs": [],
   "source": []
  }
 ],
 "metadata": {
  "kernelspec": {
   "display_name": "Python 3",
   "language": "python",
   "name": "python3"
  },
  "language_info": {
   "codemirror_mode": {
    "name": "ipython",
    "version": 3
   },
   "file_extension": ".py",
   "mimetype": "text/x-python",
   "name": "python",
   "nbconvert_exporter": "python",
   "pygments_lexer": "ipython3",
   "version": "3.9.6"
  }
 },
 "nbformat": 4,
 "nbformat_minor": 5
}
