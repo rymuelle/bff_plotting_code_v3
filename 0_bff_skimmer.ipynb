{
 "cells": [
  {
   "cell_type": "code",
   "execution_count": null,
   "id": "interesting-native",
   "metadata": {},
   "outputs": [],
   "source": [
    "from __future__ import print_function\n",
    "from glob import glob\n",
    "from ROOT import vector, RDataFrame, RDF, TFile, TH1F, TH2F, gInterpreter, TMath\n",
    "import ROOT\n",
    "import sys\n",
    "import yaml\n",
    "from bff_processor.cpp_function import def_cpp\n",
    "from bff_processor.utils import toVector, get_nEvents\n",
    "from bff_processor.df_definitions import *\n",
    "import pandas as pd\n",
    "from time import perf_counter\n",
    "import uproot\n",
    "from pathlib import Path"
   ]
  },
  {
   "cell_type": "code",
   "execution_count": null,
   "id": "f9463424",
   "metadata": {},
   "outputs": [],
   "source": [
    "%load_ext autoreload\n",
    "%autoreload 2"
   ]
  },
  {
   "cell_type": "code",
   "execution_count": null,
   "id": "concrete-sociology",
   "metadata": {
    "scrolled": true
   },
   "outputs": [],
   "source": [
    "# Compile functions in c++ for the dataframe\n",
    "def_cpp()"
   ]
  },
  {
   "cell_type": "code",
   "execution_count": null,
   "id": "artistic-orlando",
   "metadata": {},
   "outputs": [],
   "source": [
    "#set up multithreading\n",
    "multiThreading = False\n",
    "if multiThreading: ROOT.ROOT.EnableImplicitMT()\n",
    "RDFrame = RDataFrame"
   ]
  },
  {
   "cell_type": "code",
   "execution_count": null,
   "id": "female-period",
   "metadata": {},
   "outputs": [],
   "source": [
    "#set up metadata for files\n",
    "era = '2016'\n",
    "deepflavour = False\n",
    "deepcsv = True\n",
    "extras = False\n",
    "csv_v_flavor=False\n",
    "if era == \"2016\":\n",
    "    fname = \"samplesCR_2016_Apr2020.yml\"\n",
    "    bDiscValue = 0.3093\n",
    "if era == \"2017\":\n",
    "    fname = \"samplesCR_2017_Apr2020.yml\"\n",
    "    bDiscValue = 0.3033\n",
    "if era == \"2018\":\n",
    "    fname = \"samplesCR_2018_Apr2020.yml\"\n",
    "    bDiscValue = 0.2770\n",
    "\n",
    "\n",
    "sampleDir = \"samples\"\n",
    "outname = fname.replace('.yml','.root')\n",
    "fname = \"{}/{}\".format(sampleDir, fname)\n",
    "outname, fname"
   ]
  },
  {
   "cell_type": "code",
   "execution_count": null,
   "id": "319b3ec6",
   "metadata": {},
   "outputs": [],
   "source": [
    "from src.assets.bff_skimmer import *\n",
    "columns = make_columns(era, columns)"
   ]
  },
  {
   "cell_type": "code",
   "execution_count": null,
   "id": "ebf266b7",
   "metadata": {},
   "outputs": [],
   "source": [
    "sample_path ='/eos/cms/store/group/phys_exotica/bffZprime/nanoAODskimmed/crab_bff/{}/{{}}'.format(era)\n",
    "eff_path ='/eos/cms/store/group/phys_exotica/bffZprime/nanoAODskimmed/crab_bff_eff/{}/{{}}'.format(era)"
   ]
  },
  {
   "cell_type": "code",
   "execution_count": null,
   "id": "bored-wrong",
   "metadata": {},
   "outputs": [],
   "source": [
    "class sample_processor():\n",
    "    '''Class that takes file name from yml and helps manage samples.'''\n",
    "    def __init__(self,file_name,outname,bDiscValue,is_inclusive=0):\n",
    "        #load config\n",
    "        self.file_name = file_name\n",
    "        with open(file_name,'r') as f:\n",
    "            self.sample_dict = yaml.load(f, Loader=yaml.FullLoader)\n",
    "        #setup outfile\n",
    "        self.outname = outname\n",
    "        self.out = TFile(outname, 'recreate')\n",
    "        self.outdirs_dict = {}\n",
    "        for sample in self.samples():\n",
    "            name = sample['name']\n",
    "            self.outdirs_dict[name] = self.out.mkdir(name)\n",
    "        self.lumi = self.sample_dict['lumi']\n",
    "        #get and write lumi info\n",
    "        hlumi = TH1F(\"lumi\", \"lumi\", 1, 0, 1)\n",
    "        hlumi.SetDirectory(self.out)\n",
    "        hlumi.SetBinContent(1, self.lumi)\n",
    "        hlumi.Write()\n",
    "        self.bDiscValue = bDiscValue\n",
    "        self.is_inclusive = is_inclusive\n",
    "    def samples(self):\n",
    "        return self.sample_dict['samples']\n",
    "    def sample_names(self):\n",
    "        return [s['name'] for s in self.samples()]\n",
    "    def close(self):\n",
    "        self.out.Close()\n",
    "    def __repr__(self):\n",
    "        text_dict = {\"fn\":self.file_name,\n",
    "                     \"on\":self.outname, \n",
    "                     \"lumi\":self.lumi,\n",
    "                    \"samples\": self.sample_names()}\n",
    "        return '''from {fn} to {on}\\nlumi: {lumi}\\nSamples {samples}'''.format(**text_dict)"
   ]
  },
  {
   "cell_type": "code",
   "execution_count": null,
   "id": "temporal-television",
   "metadata": {
    "scrolled": false
   },
   "outputs": [],
   "source": [
    "# create instance of sample manager class \n",
    "sp = sample_processor(fname, outname, bDiscValue)\n",
    "print(sp)"
   ]
  },
  {
   "cell_type": "code",
   "execution_count": null,
   "id": "brazilian-final",
   "metadata": {},
   "outputs": [],
   "source": [
    "# this creates long list of or statements for all permuations to select for events that are present in at least one region \n",
    "rs = [\"CR10\", \"CR11\", \"CR12\", \"CR13\", \"CR14\", \"CR20\", \"CR21\", \"CR22\", \"CR23\", \"CR24\", \"SR1\", \"SR2\"]\n",
    "JERC_var = ['nom','jerUp','jerDown','jesTotalUp','jesTotalDown']\n",
    "if era==\"2018\":\n",
    "    JERC_var+= ['jesHEMIssueUp', 'jesHEMIssueDown']\n",
    "string = \"\"\n",
    "for jv in JERC_var:\n",
    "    for r in rs:\n",
    "        string += \"{}_{} or \".format(r,jv)\n",
    "mc_region = string[:-3]\n",
    "JERC_var = ['nom']\n",
    "string = \"\"\n",
    "for jv in JERC_var:\n",
    "    for r in rs:\n",
    "        string += \"{}_{} or \".format(r,jv)\n",
    "data_region = string[:-3]\n",
    "mc_region"
   ]
  },
  {
   "cell_type": "code",
   "execution_count": null,
   "id": "inclusive-sharp",
   "metadata": {},
   "outputs": [],
   "source": [
    "def process_sample(sp,sample,era,verbose=1):\n",
    "    '''Process each sample and produced csv.'''\n",
    "    #get metadata\n",
    "    name,xsec,nevts = sample['name'],sample['xsec'],sample['nevts']\n",
    "    ismc,dirName = int(sample['ismc']),sample['fileglob']\n",
    "    filePathName = sample_path.format(dirName)\n",
    "    #make file list\n",
    "    files_paths = list(Path(filePathName).rglob('*.root'))\n",
    "    files = list(map(lambda x: str(x), files_paths))\n",
    "    #btageff file list\n",
    "    bTagEffGlobName = eff_path.format(dirName)\n",
    "    eff_paths = list(Path(bTagEffGlobName).rglob('*.root'))+ list(Path(bTagEffGlobName+\"_eff\").rglob('*.root'))\n",
    "    list_effs = list(map(lambda x: str(x), eff_paths))   \n",
    "    # get n events from skim if 0\n",
    "    if not nevts:\n",
    "        nevts = get_nEvents(files)\n",
    "        print(nevts)\n",
    "    sample_weight = float(xsec)*sp.lumi/float(nevts)\n",
    "    print(float(xsec), sp.lumi, float(nevts), sample_weight)\n",
    "    if verbose: print(\"name: {} , xsec: {}, nevents: {} ismc: {}\".format(name,xsec,nevts,ismc))\n",
    "    #set up btagging and puid sf files\n",
    "    bTagFile, PUIDSFfile = setup_btag_puid(ismc, era, list_effs)\n",
    "    #make rdf\n",
    "    df = RDFrame('Events', files)\n",
    "    #some filters\n",
    "    df = df.Filter(\"DiLepMass>105\", \"mass_cut\")\n",
    "    if ismc:\n",
    "        df = df.Filter(mc_region, \"in_region\")\n",
    "    else:\n",
    "        df = df.Filter(data_region, \"in_region\")\n",
    "    #met filter\n",
    "    df = df.Filter(\"Flag_METFilters==1\", \"METFilter\")\n",
    "\n",
    "    \n",
    "    df = def_good_leptons(df, ismc, era)\n",
    "    df = def_good_jet(df,ismc, bDiscValue)\n",
    "    #delta r\n",
    "    df = df.Filter(\"minGoodJetMuDR>0.4\", 'MuJDeltaR')\n",
    "    df = df.Filter(\"minGoodJetElDR>0.4\", 'ElJDeltaR')\n",
    "    \n",
    "    df = def_HLT(df, ismc, era)\n",
    "    df = def_sf_and_weight(df,ismc, sp.is_inclusive, name, sample_weight, era)\n",
    "    df = def_lep_selections(df)\n",
    "    # throw out events with more than 2 leptons\n",
    "    df = df.Filter('nLowPtLep<3', 'lowPtLeptonFilter')\n",
    "    # EE L1 prefiring test https://twiki.cern.ch/twiki/bin/viewauth/CMS/ExoPreapprovalChecklist\n",
    "    df = df.Define(\"EE_L1_range\", \"GoodJetPt > 100 && GoodJetEta > 2.25 && GoodJetEta < 3.0\")\n",
    "    df = df.Define(\"EE_L1_prefire_test\", \"max_vec(EE_L1_range)!=0\")\n",
    "\n",
    "    lcolumns = columns\n",
    "    if not ismc:\n",
    "        lcolumns = columns_data\n",
    "    #save as CSV\n",
    "    df_np = df.AsNumpy(lcolumns)\n",
    "    df_df = pd.DataFrame(df_np)\n",
    "    df_df.to_csv('data/tw_{}_{}.csv'.format(era,name))\n",
    "    hem_columns = ['GoodJetEta','GoodJetPhi','GoodJetPt','GoodBJet','GoodMuonPt','GoodMuonEta','GoodMuonPhi','GoodElePt','GoodEleEta','GoodElePhi','DiLepMass','HTLT_nom','RelMET_nom','TMB_nom','SR2_nom','SR1_nom','CR10_nom','CR11_nom','CR12_nom','CR13_nom','CR14_nom','SR2_nom','CR20_nom','CR21_nom','CR22_nom','CR23_nom','CR24_nom',\n",
    "                            'MET_phi','MET_pt',]\n",
    "    if not ismc: hem_columns.append('run')\n",
    "    df.Snapshot(\"Events\", \"data/tw_{}_{}.root\".format(era,name), hem_columns)\n",
    "    return name,df,filePathName"
   ]
  },
  {
   "cell_type": "code",
   "execution_count": null,
   "id": "empty-consciousness",
   "metadata": {
    "scrolled": true
   },
   "outputs": [],
   "source": [
    "for sample in sp.samples():\n",
    "    name = sample['name']\n",
    "    #if not 'ZToEE_M_800_1400_flavour' in name: continue\n",
    "    #if not (('250' in name) or ('300' in name) or ('450' in name)): continue\n",
    "    #if not 'data' in name: continue\n",
    "    print(name)\n",
    "    start_time = perf_counter()\n",
    "    name,df,fileglob = process_sample(sp,sample,era, verbose=1)\n",
    "    #count = df.Count()\n",
    "    end_time = perf_counter()\n",
    "    try:\n",
    "        print(name,end_time-start_time)\n",
    "    except:\n",
    "        print(name,end_time-start_time)\n",
    "sp.close()"
   ]
  }
 ],
 "metadata": {
  "kernelspec": {
   "display_name": "Python 3",
   "language": "python",
   "name": "python3"
  },
  "language_info": {
   "codemirror_mode": {
    "name": "ipython",
    "version": 3
   },
   "file_extension": ".py",
   "mimetype": "text/x-python",
   "name": "python",
   "nbconvert_exporter": "python",
   "pygments_lexer": "ipython3",
   "version": "3.9.6"
  }
 },
 "nbformat": 4,
 "nbformat_minor": 5
}
