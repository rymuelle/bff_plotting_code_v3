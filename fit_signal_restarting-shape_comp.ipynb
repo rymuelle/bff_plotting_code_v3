{
 "cells": [
  {
   "cell_type": "code",
   "execution_count": null,
   "id": "2b2d8e9f-99a4-48fb-b704-e383081d4c7f",
   "metadata": {
    "tags": []
   },
   "outputs": [],
   "source": [
    "%load_ext autoreload\n",
    "%autoreload 2"
   ]
  },
  {
   "cell_type": "markdown",
   "id": "237ddb04-b89e-4818-97ea-5b6630183166",
   "metadata": {},
   "source": [
    "This notebook makes plots to show the shape similarities of different dbs points."
   ]
  },
  {
   "cell_type": "code",
   "execution_count": null,
   "id": "ea300d24-f891-4835-8c93-80bf99cbdab5",
   "metadata": {},
   "outputs": [],
   "source": [
    "import pickle\n",
    "import numpy as np\n",
    "import pandas as pd\n",
    "import matplotlib.pyplot as plt\n",
    "import zfit\n",
    "from zfit import z\n",
    "import re\n",
    "from scipy.optimize import curve_fit"
   ]
  },
  {
   "cell_type": "code",
   "execution_count": null,
   "id": "ab25f9d6-d4c8-41b7-b9c6-871f1122827d",
   "metadata": {},
   "outputs": [],
   "source": [
    "import mplhep as hep\n",
    "hep.style.use(hep.style.CMS)\n",
    "plt.rcParams.update({\n",
    "    \"text.usetex\": True,\n",
    "})"
   ]
  },
  {
   "cell_type": "code",
   "execution_count": null,
   "id": "6fd342a3-df0e-495d-8619-bc3f9a9f9ba6",
   "metadata": {},
   "outputs": [],
   "source": [
    "from plotting_meta.plotting_meta import bins, binning_type, cms_format_fig, Bins\n",
    "\n",
    "from bff_plotting_tools.make_hists import make_sys, SysHist\n",
    "from bff_plotting_tools.data_getter import get_data\n",
    "from bff_plotting_tools.utils import hist_chi2, chi_squared\n",
    "\n",
    "from bff_signal_model.bff_signal_model import bff_signal_model, reset_params, mu, sys_func, sys_func_offset, popt_sys_dict\n",
    "from bff_signal_model.utils import fit_model\n",
    "\n",
    "from bff_processor.plotting_utils import color_fader\n",
    "from bff_processor.utils import constant"
   ]
  },
  {
   "cell_type": "code",
   "execution_count": null,
   "id": "af6fd049-32d5-4002-b3d6-720e2a653ddc",
   "metadata": {},
   "outputs": [],
   "source": [
    "era = '2016'\n",
    "df, lumi = get_data(era)\n",
    "compute_hesse=True\n",
    "masses = np.unique(df[df.type=='sig'].mass)\n",
    "masses = [mass for mass in masses if mass!=200]\n",
    "masses "
   ]
  },
  {
   "cell_type": "code",
   "execution_count": null,
   "id": "6772cbf6-f7b4-4229-8ff7-1b848c9f3f9e",
   "metadata": {},
   "outputs": [],
   "source": [
    "obs = zfit.Space(\"x\", limits=bins.calc_bin_range())"
   ]
  },
  {
   "cell_type": "code",
   "execution_count": null,
   "id": "37761872-7185-41dc-84fa-a372064bab46",
   "metadata": {},
   "outputs": [],
   "source": [
    "hists= pd.DataFrame([{\"reg\":reg, \"mass\":int(mass), \"dbs\":dbs} for reg in ['SR1','SR2'] for mass in masses for dbs in [0.04, 0.5, 1.0]])"
   ]
  },
  {
   "cell_type": "code",
   "execution_count": null,
   "id": "01a3aefe-0a28-4939-9ec2-cff1f9701c33",
   "metadata": {
    "tags": []
   },
   "outputs": [],
   "source": [
    "# make histograms\n",
    "hist_dict = {}\n",
    "for i, row in hists.iterrows():\n",
    "    reg, mass, dbs = row\n",
    "    if mass not in [125,200, 350, 500]: continue\n",
    "    # get hists\n",
    "    sig_df = df[(df.mass==mass) & (df.dbs==dbs)]\n",
    "    data = sig_df.DiLepMass.to_numpy()\n",
    "    weight = sig_df.Weight.to_numpy()\n",
    "    #fit signal\n",
    "    mu.set_value(mass)\n",
    "    sm = bff_signal_model(obs, mu=mu)\n",
    "    width = sm.sigma().numpy()\n",
    "    mean = mu.numpy()\n",
    "    print(mean, width)\n",
    "    print(reg, mass, dbs)\n",
    "    bins_centered = Bins(np.linspace(mean-width*7, mean+7*width,50))\n",
    "    if sig_df.shape[0]==0: continue\n",
    "    hist = make_sys(sig_df, 'DiLepMass', reg, bin_edges=bins_centered.bin_edges)\n",
    "    #compute needed quantities\n",
    "    normalization = np.sum(hist.nominal)\n",
    "    results_fit = fit_model(obs, data, weight, sm, compute_hesse=True)\n",
    "    popt_sys = popt_sys_dict[era][reg]\n",
    "    sys_width = sys_func_offset(row, .01, *popt_sys)\n",
    "    print(sys_width, results_fit)\n",
    "    fit_hist = sm.make_hist(bins_centered, normalization, tail_percent=1, constant_percent=sys_width) \n",
    "    #make dict\n",
    "    hist_dict[(reg, mass, dbs)] = {} \n",
    "    hist_dict[(reg, mass, dbs)]['mc'] =  hist\n",
    "    hist_dict[(reg, mass, dbs)]['fit'] = fit_hist"
   ]
  },
  {
   "cell_type": "code",
   "execution_count": null,
   "id": "a448af3f-af97-4c01-969b-8bcfaf26f56d",
   "metadata": {},
   "outputs": [],
   "source": [
    "def draw_mass_ratio(top, bottom, tmass, treg):\n",
    "    for (reg, mass, dbs), plot_dict in hist_dict.items():\n",
    "        if mass not in [tmass]: continue\n",
    "        color = color_fader('red', 'blue', float(1-dbs)/(1-0.04))\n",
    "        #if dbs!=0.04: continue\n",
    "        linestyle = {0.04:\"-\",0.5:\"--\",1:\":\"}[dbs]\n",
    "        if reg!=treg: continue\n",
    "        hist = plot_dict['mc']\n",
    "        fit_hist = plot_dict['fit']\n",
    "        sm = bff_signal_model(obs, mu=mass)\n",
    "        width = sm.sigma().numpy()\n",
    "        #remove sys for clarity \n",
    "        hist_norm = hist.calc_ratio(np.sum(hist.nominal))\n",
    "        hist_norm.up = hist_norm.up*0\n",
    "        hist_norm.down = hist_norm.down*0\n",
    "        hist_norm.bin_edges = np.linspace(-7, 7,50)\n",
    "        \n",
    "        hist_norm.make_density_hist().draw(top, color=color, error_scale=1,linestyle=linestyle, label='{} {}'.format(mass, dbs))\n",
    "        #calculate ratio compared to 0.04 point\n",
    "        ratio_hist = hist_dict[(reg,tmass,0.04)]['mc'].nominal\n",
    "        ratio_hist = ratio_hist/np.sum(ratio_hist)\n",
    "        ratio = hist_norm.calc_ratio(ratio_hist)\n",
    "        \n",
    "        ratio.draw(bottom, color=color, error_scale=1,linestyle=linestyle)\n",
    "        #fit_hist.make_density_hist().draw(ax, color='blue', label='fits')\n",
    "    top.set_yscale('log')\n",
    "    #bottom.set_yscale('log')\n",
    "    top.legend(title=treg)\n",
    "    top.set_ylabel('Events per GeV')\n",
    "    bottom.set_xlabel('DiLepMass [GeV]')\n",
    "    bottom.set_ylim(bottom=-0, top=2)\n",
    "    top.set_ylim(bottom=1e-4)\n",
    "    cms_format_fig(era, top)"
   ]
  },
  {
   "cell_type": "code",
   "execution_count": null,
   "id": "2a9fff7b-fd93-43b9-af6e-73e65a273386",
   "metadata": {},
   "outputs": [],
   "source": [
    "#non-density\n",
    "fig, axs = plt.subplots(2,3,figsize=(30,10))\n",
    "draw_mass_ratio(axs[0][0], axs[1][0], 125,\"SR1\")\n",
    "draw_mass_ratio(axs[0][1], axs[1][1], 350,\"SR1\")\n",
    "draw_mass_ratio(axs[0][2], axs[1][2], 500,\"SR1\")\n",
    "fig.savefig('fits/bff/center_binning_dbs_ratio_{}_{}_{}.png'.format(binning_type, era, \"SR1\", mass))"
   ]
  },
  {
   "cell_type": "code",
   "execution_count": null,
   "id": "ae612522-e7eb-4b55-9c51-f5778e8121e5",
   "metadata": {},
   "outputs": [],
   "source": [
    "#non-density\n",
    "fig, axs = plt.subplots(2,3,figsize=(30,10))\n",
    "    \n",
    "draw_mass_ratio(axs[0][0], axs[1][0], 125,\"SR2\")\n",
    "draw_mass_ratio(axs[0][1], axs[1][1], 350,\"SR2\")\n",
    "draw_mass_ratio(axs[0][2], axs[1][2], 500,\"SR2\")\n",
    "fig.savefig('fits/bff/center_binning_dbs_ratio_{}_{}_{}.png'.format(binning_type, era, \"SR2\", mass))"
   ]
  }
 ],
 "metadata": {
  "kernelspec": {
   "display_name": "bff_env",
   "language": "python",
   "name": "bff_env"
  },
  "language_info": {
   "codemirror_mode": {
    "name": "ipython",
    "version": 3
   },
   "file_extension": ".py",
   "mimetype": "text/x-python",
   "name": "python",
   "nbconvert_exporter": "python",
   "pygments_lexer": "ipython3",
   "version": "3.8.10"
  }
 },
 "nbformat": 4,
 "nbformat_minor": 5
}
