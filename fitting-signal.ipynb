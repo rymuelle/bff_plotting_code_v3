{
 "cells": [
  {
   "cell_type": "code",
   "execution_count": null,
   "id": "13193a71-0468-45ee-b6f8-624474d4de6b",
   "metadata": {
    "tags": []
   },
   "outputs": [],
   "source": [
    "import pandas as pd\n",
    "import numpy as np\n",
    "from bff_processor.Systogram import Systogram\n",
    "from bff_processor.bff_meta import *\n",
    "from bff_processor.sig_op_func import *\n",
    "from bff_processor.bff_cuts import bff_1, bff_2, reg_filter\n",
    "from bff_processor.plotting_utils import unc_plot, boost2unc\n",
    "from bff_processor.utils import nratio_plot_template, hist2unc, vunc2nom, chiSquared\n",
    "import os\n",
    "import re\n",
    "from time import perf_counter\n",
    "import boost_histogram as bh\n",
    "import pyarrow.feather as feather\n",
    "import zfit\n",
    "from zfit import z\n",
    "from math import pi\n",
    "import mplhep as hep\n",
    "hep.style.use(hep.style.CMS)\n",
    "plt.rcParams.update({\n",
    "    \"text.usetex\": True,\n",
    "})\n",
    "from zfit.models.physics import DoubleCB"
   ]
  },
  {
   "cell_type": "code",
   "execution_count": null,
   "id": "d1d2b89f-989c-40e9-8819-61a83be9a3b1",
   "metadata": {},
   "outputs": [],
   "source": [
    "import pickle"
   ]
  },
  {
   "cell_type": "code",
   "execution_count": null,
   "id": "5aa30c3d",
   "metadata": {},
   "outputs": [],
   "source": [
    "from zfit.models.physics import double_crystalball_func\n",
    "class DoubleCBError(zfit.pdf.ZPDF):\n",
    "    _PARAMS = ['mu', 'sigma',\n",
    "               'alphal', 'alphar',\n",
    "              'nl', 'nr']\n",
    "        \n",
    "    def uncertainty(self, x):\n",
    "        import uncertainties.unumpy as unp\n",
    "        from uncertainties import ufloat\n",
    "        y = self.pdf(x) \n",
    "        return np.asarray([ufloat(yval,0) for yval in y])  \n",
    "    \n",
    "    def _unnormalized_pdf(self, x):  # implement function\n",
    "        data = z.unstack_x(x)\n",
    "        mu = self.params['mu']\n",
    "        sigma = self.params['sigma']\n",
    "        alphal = self.params['alphal']\n",
    "        alphar = self.params['alphar']\n",
    "        nl = self.params['nl']\n",
    "        nr = self.params['nr']\n",
    "        return double_crystalball_func(data, mu=mu, sigma=sigma, alphal=alphal, alphar=alphar, nl=nl, nr=nr)\n",
    "    \n",
    "    def par2ufloat(self, name): \n",
    "        assert self.result, \"Need to add result object\"\n",
    "        from uncertainties import ufloat\n",
    "        return  ufloat(self.result.params[name]['value'], self.result.params[name]['minuit_hesse']['error'])\n",
    "\n",
    "    def uncertainty(self, x):\n",
    "        import uncertainties.unumpy as unp\n",
    "        data = x\n",
    "        name = []\n",
    "        values = []\n",
    "        for x in self.result.params:\n",
    "            name.append(x.name)\n",
    "            values.append(x.value().numpy())\n",
    "        print(values)\n",
    "        print(self.result.covariance())\n",
    "        import uncertainties\n",
    "        popt = uncertainties.correlated_values(values, self.result.covariance())\n",
    "        \n",
    "        y = self.lognorm(data, unp, **{n:p for n, p in zip(name,popt)}) \n",
    "        y = y * np.sum(self.pdf(data)) / np.sum(y)\n",
    "        return y          \n",
    "        "
   ]
  },
  {
   "cell_type": "code",
   "execution_count": null,
   "id": "989ae10c-fe98-45c7-8e38-17ae869b0862",
   "metadata": {},
   "outputs": [],
   "source": [
    "try:\n",
    "    mu = zfit.Parameter(\"mu\", 300,  100, 600)\n",
    "    sigma = zfit.Parameter(\"sigma_b\", 20,  0, 100)\n",
    "    alphal = zfit.Parameter(\"alphal\", 2,  0, 100)\n",
    "    nl = zfit.Parameter(\"nl\", 3,  -10, 10)\n",
    "    alphar = zfit.Parameter(\"alphar\", 40,  0, 100)\n",
    "    nr = zfit.Parameter(\"nr\", 10,  -100, 100)\n",
    "    Nsig = zfit.Parameter(\"Nsig\", 1., -20., 1e8)\n",
    "except:\n",
    "    print(\"already defined\")"
   ]
  },
  {
   "cell_type": "code",
   "execution_count": null,
   "id": "a7970a41-add6-48b6-88d5-841f2c78eb79",
   "metadata": {},
   "outputs": [],
   "source": [
    "obs = zfit.Space(\"x\", limits=[110,800])\n",
    "doublecb = DoubleCBError(obs=obs, mu=mu, sigma=sigma,\n",
    "                         alphal=alphal, nl=nl, \n",
    "                         alphar=alphar, nr=nr)\n"
   ]
  },
  {
   "cell_type": "code",
   "execution_count": null,
   "id": "7a7a1d74-ba24-47f7-9726-c05ef68c53ce",
   "metadata": {},
   "outputs": [],
   "source": [
    "era = 2016\n",
    "df = feather.read_feather('data/combined_{}.feather'.format(era))"
   ]
  },
  {
   "cell_type": "code",
   "execution_count": null,
   "id": "44cb7a64-416e-4bb2-b0fe-b0833fb92068",
   "metadata": {},
   "outputs": [],
   "source": [
    "bff_data = df[df.name.str.contains(\"BFF\")]\n",
    "df  = bff_data[(bff_data.mass>130) & (bff_data.mass < 800) & (bff_data.dbs==0.04)]\n",
    "df = df[df.mass == 200]\n",
    "df"
   ]
  },
  {
   "cell_type": "code",
   "execution_count": null,
   "id": "5be6580e-bb23-412c-88c4-7cfadc1c9f69",
   "metadata": {},
   "outputs": [],
   "source": [
    "data = df.DiLepMass.to_numpy()\n",
    "weights = df.Weight.to_numpy()\n",
    "mu.set_value(250)"
   ]
  },
  {
   "cell_type": "code",
   "execution_count": null,
   "id": "18db9acf-52fb-4e6b-b5f4-47fa2ea70a4d",
   "metadata": {},
   "outputs": [],
   "source": [
    "data = zfit.Data.from_numpy(obs=obs, array=data, weights=weights)"
   ]
  },
  {
   "cell_type": "code",
   "execution_count": null,
   "id": "f27edc13-d319-465f-88d9-056e2c005a11",
   "metadata": {},
   "outputs": [],
   "source": [
    "nll = zfit.loss.UnbinnedNLL(model=doublecb, data=data)"
   ]
  },
  {
   "cell_type": "code",
   "execution_count": null,
   "id": "148327cf-f4f3-4aa3-9dc6-761fc899dfcd",
   "metadata": {},
   "outputs": [],
   "source": [
    "minimizer = zfit.minimize.Minuit()"
   ]
  },
  {
   "cell_type": "code",
   "execution_count": null,
   "id": "d4af8998-abd1-4a75-bd49-123e1630336d",
   "metadata": {},
   "outputs": [],
   "source": [
    "result = minimizer.minimize(nll)"
   ]
  },
  {
   "cell_type": "code",
   "execution_count": null,
   "id": "a261d1e6",
   "metadata": {},
   "outputs": [],
   "source": [
    "result"
   ]
  },
  {
   "cell_type": "code",
   "execution_count": null,
   "id": "e5322777-3d50-48bf-996e-762f6f76bd91",
   "metadata": {},
   "outputs": [],
   "source": []
  },
  {
   "cell_type": "code",
   "execution_count": null,
   "id": "857e00f8-6f92-40ef-a6e5-0499c73481e6",
   "metadata": {},
   "outputs": [],
   "source": []
  }
 ],
 "metadata": {
  "kernelspec": {
   "display_name": "bff_post_skim",
   "language": "python",
   "name": "bff_post_skim"
  },
  "language_info": {
   "codemirror_mode": {
    "name": "ipython",
    "version": 3
   },
   "file_extension": ".py",
   "mimetype": "text/x-python",
   "name": "python",
   "nbconvert_exporter": "python",
   "pygments_lexer": "ipython3",
   "version": "3.8.10"
  }
 },
 "nbformat": 4,
 "nbformat_minor": 5
}
