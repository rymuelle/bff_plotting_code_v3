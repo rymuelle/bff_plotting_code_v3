{
 "cells": [
  {
   "cell_type": "code",
   "execution_count": null,
   "id": "13193a71-0468-45ee-b6f8-624474d4de6b",
   "metadata": {
    "tags": []
   },
   "outputs": [],
   "source": [
    "import pandas as pd\n",
    "import numpy as np\n",
    "from bff_processor.Systogram import Systogram\n",
    "from bff_processor.bff_meta import *\n",
    "from bff_processor.sig_op_func import *\n",
    "from bff_processor.bff_cuts import bff_1, bff_2, reg_filter\n",
    "from bff_processor.plotting_utils import unc_plot, boost2unc\n",
    "from bff_processor.utils import nratio_plot_template, hist2unc, vunc2nom, chiSquared, color_map\n",
    "import os\n",
    "import re\n",
    "from time import perf_counter\n",
    "import boost_histogram as bh\n",
    "import pyarrow.feather as feather\n",
    "import zfit\n",
    "from zfit import z\n",
    "from math import pi\n",
    "import mplhep as hep\n",
    "hep.style.use(hep.style.CMS)\n",
    "plt.rcParams.update({\n",
    "    \"text.usetex\": True,\n",
    "})\n",
    "from zfit.models.physics import DoubleCB"
   ]
  },
  {
   "cell_type": "code",
   "execution_count": null,
   "id": "d1d2b89f-989c-40e9-8819-61a83be9a3b1",
   "metadata": {},
   "outputs": [],
   "source": [
    "import pickle"
   ]
  },
  {
   "cell_type": "code",
   "execution_count": null,
   "id": "989ae10c-fe98-45c7-8e38-17ae869b0862",
   "metadata": {},
   "outputs": [],
   "source": [
    "try:\n",
    "    mu = zfit.Parameter(\"mu\", 300,  100, 600)\n",
    "    sigma = zfit.Parameter(\"sigma\", 20,  0, 100)\n",
    "    alphal = zfit.Parameter(\"alphal\", 2,  0, 100)\n",
    "    nl = zfit.Parameter(\"nl\", 3,  -10, 10)\n",
    "    alphar = zfit.Parameter(\"alphar\", 1.5,  0, 100)\n",
    "    nr = zfit.Parameter(\"nr\", 6,  -100, 100)\n",
    "    Nsig = zfit.Parameter(\"Nsig\", 1., -20., 1e8)\n",
    "except:\n",
    "    print(\"already defined\")"
   ]
  },
  {
   "cell_type": "code",
   "execution_count": null,
   "id": "a7970a41-add6-48b6-88d5-841f2c78eb79",
   "metadata": {},
   "outputs": [],
   "source": [
    "x_range = [110,800]\n",
    "obs = zfit.Space(\"x\", limits=x_range)\n",
    "doublecb = DoubleCB(obs=obs, mu=mu, sigma=sigma,\n",
    "                         alphal=alphal, nl=nl, \n",
    "                         alphar=alphar, nr=nr)"
   ]
  },
  {
   "cell_type": "code",
   "execution_count": null,
   "id": "7a7a1d74-ba24-47f7-9726-c05ef68c53ce",
   "metadata": {},
   "outputs": [],
   "source": [
    "era = '2016'\n",
    "df = feather.read_feather('data/combined_{}.feather'.format(era))\n",
    "if era=='2016':\n",
    "    lumi=35.50\n",
    "if era=='2017':\n",
    "    lumi=41.85\n",
    "if era=='2018':\n",
    "    lumi=58.88"
   ]
  },
  {
   "cell_type": "code",
   "execution_count": null,
   "id": "44cb7a64-416e-4bb2-b0fe-b0833fb92068",
   "metadata": {},
   "outputs": [],
   "source": [
    "bff_data = df[df.name.str.contains(\"BFF\")]\n",
    "df  = bff_data[(bff_data.DiLepMass > x_range[0]) & (bff_data.DiLepMass < x_range[1]) & (bff_data.dbs==0.04)]\n",
    "masses = df.mass.unique()\n",
    "masses = sorted(masses)\n",
    "masses"
   ]
  },
  {
   "cell_type": "code",
   "execution_count": null,
   "id": "65eb3f12-4bd9-4faa-95fe-01711e0c9d4a",
   "metadata": {},
   "outputs": [],
   "source": [
    "def reset_params(data):\n",
    "    mean = np.mean(data)\n",
    "    std = np.std(data)\n",
    "    mu.set_value(mean)\n",
    "    sigma.set_value(std)\n",
    "    alphal.set_value(2)\n",
    "    nl.set_value(3)\n",
    "    alphar.set_value(1.5)\n",
    "    nr.set_value(6)"
   ]
  },
  {
   "cell_type": "code",
   "execution_count": null,
   "id": "609c243c-7fa1-464c-beca-bfc9eabc510d",
   "metadata": {},
   "outputs": [],
   "source": [
    "def scaled_pdf(pdf, x, sumW, obs):\n",
    "        y = pdf(x)\n",
    "        n_bins = len(x)\n",
    "        plot_scaling = sumW / n_bins * obs.area()\n",
    "        return (y * plot_scaling).numpy()"
   ]
  },
  {
   "cell_type": "code",
   "execution_count": null,
   "id": "cb0b3587-bd49-4d53-87f9-217682626109",
   "metadata": {
    "tags": []
   },
   "outputs": [],
   "source": [
    "param_list = []\n",
    "plot_dict = {}\n",
    "compute_hesse = False\n",
    "for SR in [\"SR1\", \"SR2\"]:\n",
    "    plot_dict[SR] = {}\n",
    "    for mass in masses:\n",
    "        print(mass)\n",
    "        tdf = df[(df.mass==mass) & (df[SR+'_nom']==1)]\n",
    "        data, weights = tdf.DiLepMass.to_numpy(),tdf.Weight.to_numpy()\n",
    "        reset_params(data)\n",
    "        \n",
    "        doublecb = DoubleCB(obs=obs, mu=mu, sigma=sigma,\n",
    "                         alphal=alphal, nl=nl, \n",
    "                         alphar=alphar, nr=nr)\n",
    "        \n",
    "        #set up fit\n",
    "        data_zfit = zfit.Data.from_numpy(obs=obs, array=data, weights=weights)\n",
    "        nll = zfit.loss.UnbinnedNLL(model=doublecb, data=data_zfit)\n",
    "        minimizer = zfit.minimize.Minuit()\n",
    "        result = minimizer.minimize(nll)\n",
    "        if compute_hesse:\n",
    "            x = result.hesse()\n",
    "        else:\n",
    "            x = {}\n",
    "        param_dict = {'reg': SR, 'mass': mass, **{p.name:p.value().numpy() for p in result.params}, **{p.name+\"_error\":x[p]['error'] for p in x}}\n",
    "        param_list.append(param_dict)\n",
    "        \n",
    "        #make the plot\n",
    "        bins = np.linspace(*x_range, int((x_range[1]-x_range[0])/2 + 1))\n",
    "        bin_centers = [(bins[i]+bins[i+1])/2 for i in range(len(bins) - 1)]\n",
    "        y = scaled_pdf(doublecb.pdf, bin_centers, np.sum(weights), obs)\n",
    "        hist, _ = np.histogram(data, weights=weights, bins=bins)\n",
    "        \n",
    "        plot_dict[SR][mass] = {\"fit\": y, \"hist\": hist}"
   ]
  },
  {
   "cell_type": "code",
   "execution_count": null,
   "id": "dad69bcc-8373-4644-a90b-6c3ba010ec87",
   "metadata": {},
   "outputs": [],
   "source": [
    "pdf = pd.DataFrame(param_list)\n",
    "pdf"
   ]
  },
  {
   "cell_type": "code",
   "execution_count": null,
   "id": "30e1ac5a-fb0f-4400-9ae5-949541a34a68",
   "metadata": {},
   "outputs": [],
   "source": [
    "pdf.to_csv('fits/bff/bff_{}.csv'.format(era))"
   ]
  },
  {
   "cell_type": "code",
   "execution_count": null,
   "id": "1422d402-32a8-4d6b-9275-4b07ebf1dc58",
   "metadata": {},
   "outputs": [],
   "source": [
    "colors = color_map(len(masses))\n",
    "for SR, SR_dict in plot_dict.items():\n",
    "    fig, ax = nratio_plot_template(nPlots=[1,1])\n",
    "    (top, bottom) = ax[0][0]\n",
    "    for color, (mass, mass_dict) in zip(colors,SR_dict.items()):\n",
    "        #make a different color for histogram\n",
    "        hist_color = np.power(color, 1)*.75\n",
    "        #set alpha\n",
    "        hist_color[-1] = 1\n",
    "\n",
    "        fit_plot = mass_dict['fit']\n",
    "        hist = mass_dict['hist']\n",
    "        top.scatter(bin_centers, hist, label='{} GeV'.format( mass), color=hist_color)\n",
    "        top.plot(bin_centers, fit_plot, color=color)\n",
    "        \n",
    "        bottom.plot(bin_centers, fit_plot/hist, color=color)\n",
    "    top.legend(title=SR)\n",
    "    top.set_yscale('log')\n",
    "    top.set_ylim(bottom=.1e-2,top=1e3)\n",
    "    bottom.set_ylim(bottom=0, top=2)\n",
    "    bottom.plot(bin_centers, np.full(len(bin_centers), 1), color='black', linestyle=':')\n",
    "    bottom.set_xlabel('DiLepMass [GeV]')\n",
    "    top.set_ylabel('Count per 5 GeV')\n",
    "    hep.cms.label(loc=0,ax=top,lumi=lumi,year=era, data=False)\n",
    "    fig.savefig('fits/bff/bff_{}_{}.png'.format(SR, era))"
   ]
  },
  {
   "cell_type": "code",
   "execution_count": null,
   "id": "bbe0229e-cd68-4f13-85b7-b1a99ef261a3",
   "metadata": {},
   "outputs": [],
   "source": [
    "def gs_plot(xrange, yrange, **kwargs):\n",
    "    fig = plt.figure(constrained_layout=True, **kwargs)\n",
    " \n",
    "    gs = fig.add_gridspec(xrange,yrange)\n",
    "    for x in range(xrange):\n",
    "        for y in range(yrange):\n",
    "            fig.add_subplot(gs[x,y])\n",
    "    return fig"
   ]
  },
  {
   "cell_type": "code",
   "execution_count": null,
   "id": "223e4145-685e-4c6c-bc35-d88fa43af0a5",
   "metadata": {},
   "outputs": [],
   "source": [
    "params = [\"alphal\" ,\"alphar\" ,\"mu\",\"nl\" ,\"nr\" ,\"sigma\"]\n",
    "indicies =  [2,5,0,1,4,3]\n",
    "for SR in pdf.reg.unique():\n",
    "    tdf = pdf[pdf.reg==SR]\n",
    "    x = tdf.mass.to_numpy()\n",
    "    fig = gs_plot(2,3) \n",
    "    for index, par in zip(indicies, params):\n",
    "        axes = fig.axes[index]\n",
    "        y = tdf[par].to_numpy()\n",
    "        yerr = tdf[par+\"_error\"].to_numpy()\n",
    "        axes.errorbar(x, y, yerr=yerr)\n",
    "        axes.set_title(SR + \" \" + par)\n",
    "        \n",
    "    fig.savefig('fits/bff/params_{}_{}.png'.format(era, SR, par))"
   ]
  }
 ],
 "metadata": {
  "kernelspec": {
   "display_name": "bff_post_skim",
   "language": "python",
   "name": "bff_post_skim"
  },
  "language_info": {
   "codemirror_mode": {
    "name": "ipython",
    "version": 3
   },
   "file_extension": ".py",
   "mimetype": "text/x-python",
   "name": "python",
   "nbconvert_exporter": "python",
   "pygments_lexer": "ipython3",
   "version": "3.8.10"
  }
 },
 "nbformat": 4,
 "nbformat_minor": 5
}
