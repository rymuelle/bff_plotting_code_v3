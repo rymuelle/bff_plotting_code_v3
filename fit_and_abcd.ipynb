{
 "cells": [
  {
   "cell_type": "code",
   "execution_count": null,
   "id": "14f88576-51cb-49d6-903d-274ab9a67379",
   "metadata": {},
   "outputs": [],
   "source": [
    "%load_ext autoreload\n",
    "%autoreload 2"
   ]
  },
  {
   "cell_type": "code",
   "execution_count": null,
   "id": "423bcfc2-6ecd-4314-8d44-002f6a4ca55f",
   "metadata": {},
   "outputs": [],
   "source": [
    "import pickle\n",
    "import numpy as np\n",
    "import matplotlib.pyplot as plt\n",
    "import zfit\n",
    "from zfit import z"
   ]
  },
  {
   "cell_type": "code",
   "execution_count": null,
   "id": "df3a729b-98cc-4709-82de-a714fb89907f",
   "metadata": {},
   "outputs": [],
   "source": [
    "import mplhep as hep\n",
    "hep.style.use(hep.style.CMS)\n",
    "plt.rcParams.update({\n",
    "    \"text.usetex\": True,\n",
    "})"
   ]
  },
  {
   "cell_type": "code",
   "execution_count": null,
   "id": "8ca2c50d-daec-4f1f-8926-76db176b7185",
   "metadata": {},
   "outputs": [],
   "source": [
    "from plotting_meta.plotting_meta import bins\n",
    "\n",
    "from bff_plotting_tools.make_hists import make_sys, SysHist\n",
    "from bff_plotting_tools.data_getter import get_data\n",
    "\n",
    "from bff_signal_model.bff_bck_model import bff_bck_model, sigma, theta, mean"
   ]
  },
  {
   "cell_type": "code",
   "execution_count": null,
   "id": "adbb9545-273a-4397-a0bd-40568dc25499",
   "metadata": {},
   "outputs": [],
   "source": [
    "era = '2016'\n",
    "df, lumi = get_data(era)\n",
    "df = df[(df.DiLepMass > bins.calc_bin_range()[0]) & (df.DiLepMass <  bins.calc_bin_range()[1])]\n",
    "compute_hesse=True\n",
    "binning_type = 'split'"
   ]
  },
  {
   "cell_type": "code",
   "execution_count": null,
   "id": "b859561b-cc4f-40f8-bf37-4501ba1a7c9e",
   "metadata": {},
   "outputs": [],
   "source": [
    "obs = zfit.Space(\"x\", limits=bins.calc_bin_range())"
   ]
  },
  {
   "cell_type": "code",
   "execution_count": null,
   "id": "e7f09815-5d32-4763-b59e-4cd359497d8a",
   "metadata": {},
   "outputs": [],
   "source": [
    "def fit_lognorm(y, weights, obs, verbose=False):\n",
    "    lognorm = bff_bck_model(obs, sigma=sigma, theta=theta, mean=mean)\n",
    "\n",
    "    # load the data\n",
    "    data = zfit.Data.from_numpy(obs=obs, array=y, weights=weights)\n",
    "    \n",
    "    # build the loss\n",
    "    nll = zfit.loss.UnbinnedNLL(model=lognorm, data=data)\n",
    "\n",
    "    # minimize\n",
    "    minimizer = zfit.minimize.Minuit()\n",
    "    result = minimizer.minimize(nll)\n",
    "    lognorm.result = result\n",
    "    \n",
    "    # calculate errors\n",
    "    param_errors = result.hesse()\n",
    "    \n",
    "    if verbose: print(result)\n",
    "    \n",
    "    return lognorm, data"
   ]
  },
  {
   "cell_type": "code",
   "execution_count": null,
   "id": "8109a357-36ad-44f5-acaf-98cb68fd9e6f",
   "metadata": {},
   "outputs": [],
   "source": [
    "def fit_region(reg):\n",
    "    # get data\n",
    "    region = df[(df.type=='data') & (df['{}_nom'.format(reg)]==1)]\n",
    "    #make data_hist\n",
    "    y = region.DiLepMass.to_numpy()\n",
    "    weight = region.Weight.to_numpy()\n",
    "    hist = make_sys(region, 'DiLepMass', reg)\n",
    "    # fit data\n",
    "    ln, data = fit_lognorm(y, weight, obs)\n",
    "    # make fit hist\n",
    "    normalization = np.sum(hist.nominal)\n",
    "    fit = ln.fill_bins(bins, normalization, supersample=1)\n",
    "    return {\"hist\":hist, \"fit\": fit}"
   ]
  },
  {
   "cell_type": "code",
   "execution_count": null,
   "id": "9e002f1f-11ce-41ef-8b8c-1ace1ef854f0",
   "metadata": {},
   "outputs": [],
   "source": [
    "plot_dict = {}\n",
    "for reg in ['CR10', 'CR13', 'CR14', 'CR20', 'CR23', 'CR24']:\n",
    "    print(reg)\n",
    "    plot_dict[reg] = fit_region(reg)"
   ]
  },
  {
   "cell_type": "code",
   "execution_count": null,
   "id": "93954fb7-ebea-4f92-a562-b9245b317aa3",
   "metadata": {
    "tags": []
   },
   "outputs": [],
   "source": [
    "for reg, reg_dict in plot_dict.items():\n",
    "    fit, hist = reg_dict['fit'], reg_dict['hist']\n",
    "    fig, ax = plt.subplots(figsize=(10,10))\n",
    "    hist.make_density_hist().draw(ax, color='red', label='Data')\n",
    "    fit.make_density_hist().draw(ax, color='green', label='Fit')\n",
    "    ax.set_yscale('log')\n",
    "    ax.set_ylabel('Events per GeV')\n",
    "    ax.set_xlabel('DiLepMass [GeV]')\n",
    "    ax.set_ylim(bottom=1e-2, top=1e4)\n",
    "    ax.legend(title = '{}'.format(reg))\n",
    "    fig.savefig('fits/abcd/{}_binning_density_{}_{}.png'.format(binning_type, era, reg))"
   ]
  },
  {
   "cell_type": "code",
   "execution_count": null,
   "id": "5ef51e3f-5609-4648-91f3-1e10710abbd4",
   "metadata": {},
   "outputs": [],
   "source": [
    "#make abcd:\n",
    "#A*B/C = D\n",
    "for nJets in [1,2]:\n",
    "    reg = 'SR{}'.format(nJets)\n",
    "    def ufd(reg): return plot_dict[reg]['fit'].uncertainty_std_dev()\n",
    "    A,B,C = ufd('CR{}0'.format(nJets)), ufd('CR{}3'.format(nJets)), ufd('CR{}4'.format(nJets))\n",
    "    D = A*B/C\n",
    "    ABCD = SysHist.from_ufloats(bins, D)\n",
    "    \n",
    "    fig, ax = plt.subplots(figsize=(10,10))\n",
    "    ABCD.make_density_hist().draw(ax, color='red', label='ABCD')\n",
    "    ax.set_yscale('log')\n",
    "    ax.set_ylabel('Events per GeV')\n",
    "    ax.set_xlabel('DiLepMass [GeV]')\n",
    "    ax.set_ylim(bottom=1e-2, top=1e4)\n",
    "    ax.legend(title = '{}'.format(reg))\n",
    "    fig.savefig('fits/abcd/{}_binning_density_{}_{}.png'.format(binning_type, era, reg))"
   ]
  }
 ],
 "metadata": {
  "kernelspec": {
   "display_name": "bff_env",
   "language": "python",
   "name": "bff_env"
  },
  "language_info": {
   "codemirror_mode": {
    "name": "ipython",
    "version": 3
   },
   "file_extension": ".py",
   "mimetype": "text/x-python",
   "name": "python",
   "nbconvert_exporter": "python",
   "pygments_lexer": "ipython3",
   "version": "3.8.10"
  }
 },
 "nbformat": 4,
 "nbformat_minor": 5
}
