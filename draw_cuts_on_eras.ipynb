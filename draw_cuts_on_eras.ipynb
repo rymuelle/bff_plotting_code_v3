{
 "cells": [
  {
   "cell_type": "code",
   "execution_count": null,
   "id": "8b68ec4b-5187-49b2-a87f-d83aac2f8e9c",
   "metadata": {
    "tags": []
   },
   "outputs": [],
   "source": [
    "import pandas as pd\n",
    "import numpy as np\n",
    "from bff_processor.data_tools import regex_select, get_files, make_df\n",
    "from bff_processor.utils import time_func, hist2unc, linear, parabola, heaviside, significance, power_func, apply_multiple_filters\n",
    "from bff_processor.bff_meta import preselection, band_cut, isin, identity\n",
    "from bff_processor.plotting_utils import produce_bff_hists, boost_plot, boost_plot2d, unc_plot\n",
    "from bff_processor.bff_cuts import *\n",
    "from bff_processor.sig_op_func import *\n",
    "import boost_histogram as bh\n",
    "import matplotlib.pyplot as plt\n",
    "import mplhep as hep\n",
    "hep.set_style(hep.style.CMS)\n",
    "import dill as pickle"
   ]
  },
  {
   "cell_type": "code",
   "execution_count": null,
   "id": "e4d3150a-aea8-4b46-93d4-99458b6a62e9",
   "metadata": {},
   "outputs": [],
   "source": [
    "plt.rcParams.update({\n",
    "    \"text.usetex\": True,\n",
    "    })"
   ]
  },
  {
   "cell_type": "code",
   "execution_count": null,
   "id": "c1caff0d-97e7-4dcc-8148-8ec4dca7013d",
   "metadata": {},
   "outputs": [],
   "source": [
    "# get <era> files\n",
    "era = 2016\n",
    "file_re = regex_select(era)\n",
    "file_dict = get_files(file_re)"
   ]
  },
  {
   "cell_type": "code",
   "execution_count": null,
   "id": "91de201e-2bbb-47b0-ba50-aeddae2ba898",
   "metadata": {},
   "outputs": [],
   "source": [
    "#make df of background\n",
    "backgrounds = file_dict['DY']+file_dict['TT']+file_dict['ST']+file_dict['VB']\n",
    "background_df = preselection()(make_df(backgrounds))"
   ]
  },
  {
   "cell_type": "code",
   "execution_count": null,
   "id": "86f7441d-36eb-4766-bc55-357b4e492cd4",
   "metadata": {},
   "outputs": [],
   "source": [
    "#make df of signals\n",
    "import re\n",
    "bff_dict = {}\n",
    "for fname in file_dict['BFF']:\n",
    "    #print(fname)\n",
    "    name = re.findall('_M_([0-9]+)_dbs(\\d)p(\\d+)', fname)[0]\n",
    "    name = \"{} {}.{}\".format(*name)\n",
    "    #print(name)\n",
    "    if name not in bff_dict:\n",
    "        bff_dict[name] = []\n",
    "    bff_dict[name].append(fname)\n",
    "for name, item in bff_dict.items():\n",
    "    if len(item) != 1: continue\n",
    "    print(item)\n",
    "    bff_dict[name] = preselection()(make_df(item))\n",
    "bff_dict.keys()"
   ]
  },
  {
   "cell_type": "code",
   "execution_count": null,
   "id": "b6a8ffe5-497f-4bb2-8538-80fda041fc55",
   "metadata": {},
   "outputs": [],
   "source": [
    "bff_samples = ['125 0.04', '150 0.04', '200 0.04', '250 0.04', '300 0.04', '350 0.04','400 0.04','450 0.04','500 0.04']"
   ]
  },
  {
   "cell_type": "code",
   "execution_count": null,
   "id": "725b02b2-a369-4c9f-ae0b-ba3a352f3b9e",
   "metadata": {},
   "outputs": [],
   "source": [
    "SR1_nom = lambda df: df[df.SR1_nom==1]\n",
    "SR2_nom = lambda df: df[df.SR2_nom==1]"
   ]
  },
  {
   "cell_type": "code",
   "execution_count": null,
   "id": "9a3206c8-4b63-4a64-89a5-e54de05cba35",
   "metadata": {},
   "outputs": [],
   "source": [
    "popt, fig  = plot_opt_sig('RelMET_nom',bff_dict, background_df, bff_samples, power_func, filter_func=SR1_nom, p0=param_dict['popt_relmet_1'], minimize_func=False)\n",
    "fig.savefig(\"output/sig_tuning/{}_{}_{}.pdf\".format(era, 'RelMET_nom', \"_one_jet\"), transparent=False)\n",
    "popt, fig  = plot_opt_sig('RelMET_nom',bff_dict, background_df, bff_samples, power_func, filter_func=SR2_nom, p0=param_dict['popt_relmet_2'], minimize_func=False)\n",
    "fig.savefig(\"output/sig_tuning/{}_{}_{}.pdf\".format(era, 'RelMET_nom', \"_two_jet\"), transparent=False)\n",
    "\n",
    "popt, fig  = plot_opt_sig('HTLT_nom',bff_dict, background_df, bff_samples, linear, filter_func=RelMET_SR1_nom, p0=param_dict['popt_htlt_1'], minimize_func=False)\n",
    "fig.savefig(\"output/sig_tuning/{}_{}_{}.pdf\".format(era, 'HTLT_nom', \"_one_jet\"), transparent=False)\n",
    "popt, fig  = plot_opt_sig('HTLT_nom',bff_dict, background_df, bff_samples, linear, filter_func=RelMET_SR2_nom, p0=param_dict['popt_htlt_2'], minimize_func=False)\n",
    "fig.savefig(\"output/sig_tuning/{}_{}_{}.pdf\".format(era, 'HTLT_nom', \"_two_jet\"), transparent=False)\n",
    "\n",
    "popt, fig  = plot_opt_sig('TMB_nom',bff_dict, background_df, bff_samples, heaviside, filter_func=HTLT_SR1_nom, p0=param_dict['popt_TMB_1'], minimize_func=False, direction=-1)\n",
    "fig.savefig(\"output/sig_tuning/{}_{}_{}.pdf\".format(era, 'TMB_nom', \"_one_jet\"), transparent=False)\n",
    "popt, fig  = plot_opt_sig('TMB_nom',bff_dict, background_df, bff_samples, heaviside, filter_func=HTLT_SR2_nom, p0=param_dict['popt_TMB_2'], minimize_func=False, direction=-1)\n",
    "fig.savefig(\"output/sig_tuning/{}_{}_{}.pdf\".format(era, 'TMB_nom', \"_two_jet\"), transparent=False)"
   ]
  },
  {
   "cell_type": "code",
   "execution_count": null,
   "id": "9f692423-9f57-4544-a21d-3b78bf21f10e",
   "metadata": {},
   "outputs": [],
   "source": []
  },
  {
   "cell_type": "code",
   "execution_count": null,
   "id": "10ea872f-4049-43ff-9d62-284b73075bc8",
   "metadata": {},
   "outputs": [],
   "source": []
  }
 ],
 "metadata": {
  "kernelspec": {
   "display_name": "bff_plotting",
   "language": "python",
   "name": "bff_plotting"
  },
  "language_info": {
   "codemirror_mode": {
    "name": "ipython",
    "version": 3
   },
   "file_extension": ".py",
   "mimetype": "text/x-python",
   "name": "python",
   "nbconvert_exporter": "python",
   "pygments_lexer": "ipython3",
   "version": "3.8.5"
  }
 },
 "nbformat": 4,
 "nbformat_minor": 5
}
