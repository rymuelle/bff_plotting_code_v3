{
 "cells": [
  {
   "cell_type": "code",
   "execution_count": 1,
   "id": "recognized-flush",
   "metadata": {},
   "outputs": [],
   "source": [
    "import pandas as pd\n",
    "from pandas import DataFrame\n",
    "import numpy as np\n",
    "from bff_processor.SampleManager import SampleManager, SampleManagerPlotting\n",
    "from bff_processor.SampleStack import SampleStack\n",
    "from bff_processor.utils import make_view\n",
    "import matplotlib.pyplot as plt\n",
    "import mplhep as hep\n",
    "import pprint\n",
    "import matplotlib.gridspec as gridspec\n",
    "hep.set_style(hep.style.CMS)"
   ]
  },
  {
   "cell_type": "code",
   "execution_count": 2,
   "id": "logical-sarah",
   "metadata": {
    "tags": []
   },
   "outputs": [],
   "source": [
    "sample_list =[\n",
    "['data/tw_2016_BFFZprimeToMuMu_M_200.csv', 'BFFZprimeToMuMu_M_200', 'BFFZprimeToMuMu_M_200', 'sig', 'blue'],\n",
    "['data/tw_2016_BFFZprimeToMuMu_M_200_dbs0p5.csv', 'BFFZprimeToMuMu_M_200_dbs0p5', 'BFFZprimeToMuMu_M_200_dbs0p5', 'sig', 'blue'],\n",
    "['data/tw_2016_BFFZprimeToMuMu_M_200_dbs1p0.csv', 'BFFZprimeToMuMu_M_200_dbs1p0', 'BFFZprimeToMuMu_M_200_dbs1p0', 'sig', 'blue'],\n",
    "['data/tw_2016_BFFZprimeToMuMu_M_350.csv', 'BFFZprimeToMuMu_M_350', 'BFFZprimeToMuMu_M_350', 'sig', 'BFFZprimeToMuMu_M_350', 'sig', 'blue'],\n",
    "['data/tw_2016_BFFZprimeToMuMu_M_350_dbs0p5.csv', 'BFFZprimeToMuMu_M_350_dbs0p5', 'BFFZprimeToMuMu_M_350_dbs0p5', 'sig', 'blue'],\n",
    "['data/tw_2016_BFFZprimeToMuMu_M_350_dbs1p0.csv', 'BFFZprimeToMuMu_M_350_dbs1p0', 'BFFZprimeToMuMu_M_350_dbs1p0', 'sig', 'blue'],\n",
    "['data/tw_2016_BFFZprimeToMuMu_M_500.csv', 'BFFZprimeToMuMu_M_500', 'BFFZprimeToMuMu_M_500', 'sig', 'blue'],\n",
    "['data/tw_2016_BFFZprimeToMuMu_M_500_dbs0p5.csv', 'BFFZprimeToMuMu_M_500_dbs0p5', 'BFFZprimeToMuMu_M_500_dbs0p5', 'sig', 'blue'],\n",
    "['data/tw_2016_BFFZprimeToMuMu_M_500_dbs1p0.csv', 'BFFZprimeToMuMu_M_500_dbs1p0', 'BFFZprimeToMuMu_M_500_dbs1p0', 'sig', 'blue'],\n",
    "   \n",
    "['data/tw_2016_ZToEE_M_120_200.csv', 'ZToEE_M_120_200', 'DY', 'bkc', 'red'],\n",
    "['data/tw_2016_ZToEE_M_200_400.csv', 'ZToEE_M_200_400', 'DY', 'bkc', 'red'],\n",
    "['data/tw_2016_ZToEE_M_400_800.csv', 'ZToEE_M_400_800', 'DY', 'bkc', 'red'],\n",
    "['data/tw_2016_ZToEE_M_50_120.csv', 'ZToEE_M_50_120', 'DY', 'bkc', 'red'],\n",
    "['data/tw_2016_ZToEE_M_800_1400.csv', 'ZToEE_M_800_1400', 'DY', 'bkc', 'red'],\n",
    "['data/tw_2016_ZToMuMu_M_120_200.csv', 'ZToMuMu_M_120_200', 'DY', 'bkc', 'red'],\n",
    "['data/tw_2016_ZToMuMu_M_200_400.csv', 'ZToMuMu_M_200_400', 'DY', 'bkc', 'red'],\n",
    "['data/tw_2016_ZToMuMu_M_400_800.csv', 'ZToMuMu_M_400_800', 'DY', 'bkc', 'red'],\n",
    "['data/tw_2016_ZToMuMu_M_50_120.csv', 'ZToMuMu_M_50_120', 'DY', 'bkc', 'red'],\n",
    "['data/tw_2016_ZToMuMu_M_800_1400.csv', 'ZToMuMu_M_800_1400', 'DY', 'bkc', 'red'],\n",
    "    \n",
    "['data/tw_2016_mc_santitop.csv', 'mc_santitop', 'ST', 'bkc', 'green'],\n",
    "['data/tw_2016_mc_stop.csv', 'mc_stop', 'ST', 'bkc', 'green'],\n",
    "['data/tw_2016_mc_ttbar.csv', 'mc_ttbar', 'TT', 'bkc', 'orange'],\n",
    "['data/tw_2016_mc_ww.csv', 'mc_ww', 'WW/WZ/ZZ', 'bkc', 'purple'],\n",
    "['data/tw_2016_mc_wz.csv', 'mc_wz', 'WW/WZ/ZZ', 'bkc', 'purple'],\n",
    "['data/tw_2016_mc_zz.csv', 'mc_zz', 'WW/WZ/ZZ', 'bkc', 'purple']]\n",
    "    \n",
    "sample_list_data =[\n",
    "['data/tw_2016_data_el.csv', 'data_el', 'data', 'data', 'black'],\n",
    "['data/tw_2016_data_mu.csv', 'data_mu', 'data', 'data', 'black'],\n",
    "]"
   ]
  },
  {
   "cell_type": "code",
   "execution_count": 3,
   "id": "gothic-geneva",
   "metadata": {},
   "outputs": [],
   "source": [
    "labels = [x[2] for x in sample_list]\n",
    "labels = np.unique(labels)"
   ]
  },
  {
   "cell_type": "code",
   "execution_count": 5,
   "id": "ruled-application",
   "metadata": {},
   "outputs": [
    {
     "name": "stdout",
     "output_type": "stream",
     "text": [
      "('data/tw_2016_data_el.csv', 'data_el', 'data', 'data', 'black')\n",
      "('data/tw_2016_data_mu.csv', 'data_mu', 'data', 'data', 'black')\n"
     ]
    }
   ],
   "source": [
    "#stack = SampleStack(sample_list=sample_list)\n",
    "stack_data = SampleStack(sample_list=sample_list_data)"
   ]
  },
  {
   "cell_type": "code",
   "execution_count": null,
   "id": "suspended-russian",
   "metadata": {
    "tags": []
   },
   "outputs": [],
   "source": [
    "weights = [\n",
    "['Weight_PuUp','Weight_PuDown'],\n",
    "['Weight_BTagUp','Weight_BTagDown'],\n",
    "['Weight_PUIDUp','Weight_PUIDDown'],\n",
    "['Weight_PDF_ISRFSR_Up','Weight_PDF_ISRFSR_Down'],\n",
    "['Weight_MuonSFUp','Weight_MuonSFDown'],\n",
    "['Weight_ElectronSFUp','Weight_ElectronSFDown'],]\n",
    "regions = ['SR{}_{{}}','CR{}0_{{}}', 'CR{}3_{{}}', 'CR{}4_{{}}']\n",
    "nJets = [1,2]\n",
    "jes_var = [['jesDown', 'jesUp'], ['jerDown', 'jerUp']]\n",
    "BFF_cuts =  ['HTLT_{}', 'RelMET_{}', 'SBM_{}']\n",
    "def def_BFF_cuts(jv, nJet):\n",
    "    t1 =  [bff.format(jv) for bff in BFF_cuts]\n",
    "    return(list(zip(t1,BFF_cut_values[nJet])))\n",
    "\n",
    "BFF_cut_values ={1:[-18,.3125,18.75], 2:[-10,.2625,1.25]}\n",
    "def make_view(jv,nJets, region): \n",
    "    bff = def_BFF_cuts(jv, nJets)\n",
    "    view_dict = {'lt': {'DiLepMass': np.inf, bff[0][0]: bff[0][1], bff[1][0]: bff[1][1]},\n",
    "         'gt': {'DiLepMass': -np.inf, bff[2][0]: bff[2][1]},\n",
    "         'eq': { region.format(nJets).format(jv): 1},\n",
    "         'eq': {'Flag_METFilters': 1, region.format(nJets).format(jv): 1}}\n",
    "    return view_dict"
   ]
  },
  {
   "cell_type": "code",
   "execution_count": null,
   "id": "cbd498bf-7925-4ee6-961a-39ce31b6074d",
   "metadata": {},
   "outputs": [],
   "source": [
    "column = 'DiLepMass'\n",
    "bins = np.linspace(105,800,int((800-105)/5+1))\n",
    "bins"
   ]
  },
  {
   "cell_type": "code",
   "execution_count": null,
   "id": "7327b542-b400-4564-b2f3-e554c3b8aeb1",
   "metadata": {
    "tags": []
   },
   "outputs": [],
   "source": [
    "view = make_view('nominal',1,'CR{}0_{{}}')\n",
    "stack_data.view = view\n",
    "nom_hist = stack_data.sum_hists(column, bins, w_kwargs={'weight_names':['Weight']})\n",
    "stack.view = view\n",
    "nom_hist_s = stack.sum_hists(column, bins,  w_kwargs={'weight_names':['Weight']})\n",
    "view"
   ]
  },
  {
   "cell_type": "code",
   "execution_count": null,
   "id": "29eb940f-43e6-4237-9025-58ac88195f7e",
   "metadata": {
    "tags": []
   },
   "outputs": [],
   "source": [
    "plt.plot(nom_hist[3],nom_hist[0])\n",
    "plt.plot(nom_hist_s[3],nom_hist_s[0])\n",
    "plt.yscale('log')"
   ]
  },
  {
   "cell_type": "code",
   "execution_count": null,
   "id": "welsh-astronomy",
   "metadata": {
    "tags": []
   },
   "outputs": [],
   "source": [
    "def make_sys_plots(stack, column, reg, nJet, ismc=0, **kwargs):\n",
    "        n_jet_region  = reg.format(nJet)\n",
    "        nom_region = n_jet_region.format('nominal')\n",
    "        hist_dict = {}\n",
    "        weight_dict = {}\n",
    "        jv_dict = {}\n",
    "        \n",
    "        print(nom_region)\n",
    "        BFF_cut = def_BFF_cuts('nominal', nJet)\n",
    "\n",
    "        stack.view = make_view('nominal',nJet, reg)\n",
    "        nom_hist = stack.sum_hists(column, bins, **kwargs, w_kwargs={'weight_names':['Weight']})\n",
    "        if ismc: \n",
    "            for up,down in weights:\n",
    "                up_hist = stack.sum_hists(column, bins, **kwargs, w_kwargs={'weight_names':[up]})\n",
    "                down_hist = stack.sum_hists(column, bins, **kwargs, w_kwargs={'weight_names':[down]})\n",
    "                weight_dict[up] = [up_hist,down_hist]\n",
    "                \n",
    "            for up,down in jes_var:\n",
    "                stack.view = make_view(up,nJet, reg)\n",
    "                up_hist = stack.sum_hists(column, bins, **kwargs, w_kwargs={'weight_names':['Weight']})\n",
    "                stack.view = make_view(down,nJet, reg)\n",
    "                down_hist = stack.sum_hists(column, bins, **kwargs, w_kwargs={'weight_names':['Weight']})\n",
    "                jv_dict[up] = [up_hist,down_hist]\n",
    "            \n",
    "        hist_dict['nom'] = nom_hist\n",
    "        if ismc:\n",
    "            hist_dict['jv'] = weight_dict\n",
    "            hist_dict['weights'] = jv_dict\n",
    "        return hist_dict"
   ]
  },
  {
   "cell_type": "code",
   "execution_count": null,
   "id": "simple-approval",
   "metadata": {
    "tags": []
   },
   "outputs": [],
   "source": [
    "import itertools\n",
    "reg_list =  [[reg, nJet] for reg in regions for nJet in nJets]\n",
    "reg_dict = {}\n",
    "for reg, nJet in reg_list:\n",
    "        hist_dict = {}\n",
    "        print(reg,nJet)\n",
    "        if 'SR' not in reg:\n",
    "            hist_dict[\"data\"] = make_sys_plots(stack_data,column, reg, nJet)\n",
    "        for label in labels:\n",
    "            print(label)\n",
    "            hist_dict[label] = make_sys_plots(stack,column, reg, nJet, ismc=1, label=label)\n",
    "        reg_dict[reg.format(nJet)] = hist_dict\n",
    "        "
   ]
  },
  {
   "cell_type": "code",
   "execution_count": null,
   "id": "exotic-square",
   "metadata": {
    "scrolled": true
   },
   "outputs": [],
   "source": [
    "reg_dict"
   ]
  },
  {
   "cell_type": "code",
   "execution_count": null,
   "id": "separated-mitchell",
   "metadata": {},
   "outputs": [],
   "source": [
    "import pickle"
   ]
  },
  {
   "cell_type": "code",
   "execution_count": null,
   "id": "dutch-prime",
   "metadata": {},
   "outputs": [],
   "source": [
    "with open('2016_reg_dict_{}_105_old_bff.pkl'.format(column),'wb') as f:\n",
    "    pickle.dump(reg_dict,f)"
   ]
  },
  {
   "cell_type": "code",
   "execution_count": null,
   "id": "statistical-lightweight",
   "metadata": {},
   "outputs": [],
   "source": [
    "with open('2016_reg_dict_{}_105_no_MET_filter.pkl'.format(column),'rb') as f:\n",
    "    reg_dict_temp = pickle.load(f)"
   ]
  },
  {
   "cell_type": "code",
   "execution_count": null,
   "id": "bigger-moscow",
   "metadata": {},
   "outputs": [],
   "source": [
    "plt.plot(reg_dict_temp['CR14_{}']['data']['nom'][3],reg_dict_temp['CR14_{}']['data']['nom'][0])"
   ]
  },
  {
   "cell_type": "code",
   "execution_count": null,
   "id": "material-system",
   "metadata": {},
   "outputs": [],
   "source": [
    "plt.plot(reg_dict_temp['CR24_{}']['data']['nom'][0])"
   ]
  },
  {
   "cell_type": "code",
   "execution_count": null,
   "id": "d036e35b-a766-4fdd-a4f5-7a2ae904a43b",
   "metadata": {},
   "outputs": [],
   "source": []
  },
  {
   "cell_type": "code",
   "execution_count": null,
   "id": "b165ca62-9b66-4828-a51d-edbfbb45367d",
   "metadata": {},
   "outputs": [],
   "source": []
  }
 ],
 "metadata": {
  "kernelspec": {
   "display_name": "bff_plotting",
   "language": "python",
   "name": "bff_plotting"
  },
  "language_info": {
   "codemirror_mode": {
    "name": "ipython",
    "version": 3
   },
   "file_extension": ".py",
   "mimetype": "text/x-python",
   "name": "python",
   "nbconvert_exporter": "python",
   "pygments_lexer": "ipython3",
   "version": "3.8.5"
  }
 },
 "nbformat": 4,
 "nbformat_minor": 5
}
