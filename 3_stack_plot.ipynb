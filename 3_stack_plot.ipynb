{
 "cells": [
  {
   "cell_type": "code",
   "execution_count": null,
   "id": "6b338926",
   "metadata": {},
   "outputs": [],
   "source": [
    "%load_ext autoreload\n",
    "%autoreload 2"
   ]
  },
  {
   "cell_type": "code",
   "execution_count": null,
   "id": "80012654",
   "metadata": {},
   "outputs": [],
   "source": [
    "import numpy as np\n",
    "import pandas as pd\n",
    "import matplotlib.pyplot as plt"
   ]
  },
  {
   "cell_type": "code",
   "execution_count": null,
   "id": "c0fe75b5",
   "metadata": {},
   "outputs": [],
   "source": [
    "from src.plotting_tools.SysHist import make_hist, make_sys_hist, SysHist\n",
    "from src.data_tools.get_data import get_data\n",
    "from src.plotting_tools.Bins import Bins, bins, binning_type\n",
    "from src.plotting_tools.cms_format import cms_format_fig, cms_style\n",
    "from src.plotting_tools.colors import color_fader"
   ]
  },
  {
   "cell_type": "code",
   "execution_count": null,
   "id": "50085a3c",
   "metadata": {},
   "outputs": [],
   "source": [
    "cms_style()"
   ]
  },
  {
   "cell_type": "code",
   "execution_count": null,
   "id": "19e97f69",
   "metadata": {},
   "outputs": [],
   "source": [
    "era = '2016'\n",
    "output_dir = 'assets_nov_2022'\n",
    "df, lumi = get_data(era, output_dir, stitch_dy=1)"
   ]
  },
  {
   "cell_type": "code",
   "execution_count": null,
   "id": "74e6f965",
   "metadata": {},
   "outputs": [],
   "source": [
    "from src.assets.regions import nJets, regions, region_and_label\n",
    "from src.assets.file_groups import bck_dict, bck_list, bck_colors\n"
   ]
  },
  {
   "cell_type": "code",
   "execution_count": null,
   "id": "216120c3",
   "metadata": {},
   "outputs": [],
   "source": [
    "from src.plotting_tools.draw_stack_plot_hists import draw_bckground, draw_signals, draw_data, draw_stackplot"
   ]
  },
  {
   "cell_type": "code",
   "execution_count": null,
   "id": "dc0df6e4",
   "metadata": {},
   "outputs": [],
   "source": [
    "from src.plotting_tools.latexAssets import HTLT, RelMET"
   ]
  },
  {
   "cell_type": "code",
   "execution_count": null,
   "id": "25279a07",
   "metadata": {},
   "outputs": [],
   "source": [
    "draw_inline = True\n",
    "if draw_inline:\n",
    "    plt.ion()\n",
    "else:\n",
    "    plt.ioff()"
   ]
  },
  {
   "cell_type": "code",
   "execution_count": null,
   "id": "cc21ec18",
   "metadata": {},
   "outputs": [],
   "source": [
    "#HTLT relmet plt\n",
    "# select_level=.5 ensures that its pre bff seleciton cuts\n",
    "reg = 'SR1'\n",
    "feature = 'HTLT'\n",
    "fig, ax = plt.subplots(figsize=(12,12))\n",
    "draw_stackplot(ax, df, feature, reg,era, lumi, draw_bck_sys=0, draw_sig_sys=0, top=1e5,  \n",
    "               bin_edges=np.linspace(-800,800,100),\n",
    "               make_density=0,\n",
    "             select_level=.5,\n",
    "              xlabel=HTLT)\n",
    "fig.savefig('{}/stack_plots/{}_{}_{}.pdf'.format(output_dir, feature, era, reg))\n",
    "\n",
    "reg = 'SR1'\n",
    "feature = 'RelMET'\n",
    "fig, ax = plt.subplots(figsize=(12,12))\n",
    "draw_stackplot(ax, df, feature, reg,era, lumi, draw_bck_sys=0, draw_sig_sys=0, top=1e5, \n",
    "               bin_edges=np.linspace(0, 2,100),\n",
    "               make_density=0,\n",
    "              select_level=.5,\n",
    "              xlabel= RelMET)\n",
    "fig.savefig('{}/stack_plots/{}_{}_{}.pdf'.format(output_dir, feature, era, reg))\n",
    "\n"
   ]
  },
  {
   "cell_type": "code",
   "execution_count": null,
   "id": "22a061d2",
   "metadata": {
    "scrolled": true
   },
   "outputs": [],
   "source": [
    "#HTLT relmet plt\n",
    "# select_level=.5 ensures that its pre bff seleciton cuts\n",
    "reg = 'SR2'\n",
    "feature = 'HTLT'\n",
    "fig, ax = plt.subplots(figsize=(12,12))\n",
    "draw_stackplot(ax, df, feature, reg,era, lumi, draw_bck_sys=0, draw_sig_sys=0, top=1e5, \n",
    "            make_density=0,\n",
    "            bin_edges=np.linspace(-800,800,100),\n",
    "            select_level=.5,\n",
    "              xlabel=HTLT)\n",
    "fig.savefig('{}/stack_plots/{}_{}_{}.pdf'.format(output_dir, feature, era, reg))\n",
    "\n",
    "reg = 'SR2'\n",
    "feature = 'RelMET'\n",
    "fig, ax = plt.subplots(figsize=(12,12))\n",
    "draw_stackplot(ax, df, feature, reg,era, lumi, draw_bck_sys=0, draw_sig_sys=0, top=1e5, \n",
    "            make_density=0,\n",
    "            bin_edges=np.linspace(0, 2,100),\n",
    "            select_level=.5,\n",
    "              xlabel= RelMET)\n",
    "fig.savefig('{}/stack_plots/{}_{}_{}.pdf'.format(output_dir, feature, era, reg))\n",
    "\n"
   ]
  },
  {
   "cell_type": "code",
   "execution_count": null,
   "id": "46a14ccf",
   "metadata": {},
   "outputs": [],
   "source": [
    "background_df = df[df.type.str.contains('bck')]\n",
    "_bhist = make_sys_hist(background_df, feature, reg)"
   ]
  },
  {
   "cell_type": "code",
   "execution_count": null,
   "id": "88904c63",
   "metadata": {},
   "outputs": [],
   "source": [
    "dy_sel = (df.category.str.contains('DY')) & (df.category != 'DYLL')\n",
    "dy_types = df[dy_sel].category.unique()"
   ]
  },
  {
   "cell_type": "code",
   "execution_count": null,
   "id": "fee70845",
   "metadata": {},
   "outputs": [],
   "source": [
    "dy_types"
   ]
  },
  {
   "cell_type": "code",
   "execution_count": null,
   "id": "910c035a",
   "metadata": {
    "scrolled": true
   },
   "outputs": [],
   "source": [
    "feature, reg = \"DiLepMass\", \"CR10\"\n",
    "for name in df.name.unique():\n",
    "    ndf = df[df.name==name]\n",
    "    _bhist = make_sys_hist(ndf, feature, reg)\n",
    "    print(name)\n",
    "    print(_bhist.sys_summary())"
   ]
  },
  {
   "cell_type": "code",
   "execution_count": null,
   "id": "63f94001",
   "metadata": {
    "scrolled": false
   },
   "outputs": [],
   "source": [
    "reg = 'CR10'\n",
    "feature = 'DiLepMass'\n",
    "fig, ax = plt.subplots(figsize=(12,12))\n",
    "draw_stackplot(ax, df, feature, reg,era, lumi, draw_bck_sys=1)\n",
    "fig.savefig('{}/stack_plots/{}_{}_{}.pdf'.format(output_dir, feature, era, reg))\n"
   ]
  },
  {
   "cell_type": "code",
   "execution_count": null,
   "id": "0bf003d9",
   "metadata": {},
   "outputs": [],
   "source": [
    "for reg in regions:\n",
    "    fig, ax = plt.subplots(figsize=(12,12))\n",
    "    draw_stackplot(ax, df, feature, reg,era, lumi)\n",
    "    print(reg)\n",
    "fig.savefig('{}/stack_plots/{}_{}_{}.pdf'.format(output_dir, feature, era, reg))\n"
   ]
  },
  {
   "cell_type": "code",
   "execution_count": null,
   "id": "5f2127fd",
   "metadata": {},
   "outputs": [],
   "source": [
    "##\n",
    "## needs to be run after abcd fits \n",
    "##"
   ]
  },
  {
   "cell_type": "code",
   "execution_count": null,
   "id": "f4d56932",
   "metadata": {},
   "outputs": [],
   "source": [
    "file = '{}/fits/limit_setting/abcd_dict_{}.pkl'.format(output_dir, era)\n",
    "import pickle\n",
    "import os\n",
    "import sys\n",
    "if not os.path.exists(file): sys.exit()"
   ]
  },
  {
   "cell_type": "code",
   "execution_count": null,
   "id": "ec5f9abb",
   "metadata": {},
   "outputs": [],
   "source": [
    "with open(file, 'rb') as f:\n",
    "    abcd_fit_dict = pickle.load(f)"
   ]
  },
  {
   "cell_type": "code",
   "execution_count": null,
   "id": "679a7d1e",
   "metadata": {},
   "outputs": [],
   "source": [
    "from src.plotting_tools.make_abcd_hist import make_abcd_hist"
   ]
  },
  {
   "cell_type": "code",
   "execution_count": null,
   "id": "87ba5cd4",
   "metadata": {
    "scrolled": false
   },
   "outputs": [],
   "source": [
    "for reg, abdc_arrays in abcd_fit_dict.items():\n",
    "    fig, ax = plt.subplots(figsize=(12,12))\n",
    "    draw_stackplot(ax, df, feature, reg,era, lumi,draw_bck_sys=True,error_scale=0)\n",
    "    #abcd hist\n",
    "    abcd_hist = make_abcd_hist(abdc_arrays)\n",
    "    abcd_hist.make_density_hist().draw(ax, label='ABCD Pred.', color='green')\n",
    "    ax.legend(ncol=2)\n",
    "    fig.savefig('{}/stack_plots/{}_{}_{}_abcd.pdf'.format(output_dir, feature, era, reg))\n"
   ]
  },
  {
   "cell_type": "code",
   "execution_count": null,
   "id": "5844ceba",
   "metadata": {},
   "outputs": [],
   "source": [
    "##\n",
    "## needs to be run after limts \n",
    "##"
   ]
  },
  {
   "cell_type": "code",
   "execution_count": null,
   "id": "a2c99207",
   "metadata": {},
   "outputs": [],
   "source": [
    "limit_df = pd.read_csv('{}/combine_data/{}_count_limits.csv'.format(outdir, era))"
   ]
  },
  {
   "cell_type": "code",
   "execution_count": null,
   "id": "664d0750",
   "metadata": {},
   "outputs": [],
   "source": [
    "tldf = limit_df[limit_df.dbs==0.1]\n",
    "reg1 = tldf[tldf.nJets=='SR1']\n",
    "reg1 = reg1.sort_values('mass')\n",
    "count = reg1['50.0']\n",
    "mass = reg1['mass']"
   ]
  },
  {
   "cell_type": "code",
   "execution_count": null,
   "id": "e461002f",
   "metadata": {},
   "outputs": [],
   "source": [
    "def interpolate_limit(nJets, mass):\n",
    "    tldf = limit_df[limit_df.dbs==0.1]\n",
    "    reg1 = tldf[tldf.nJets==nJets]\n",
    "    reg1 = reg1.sort_values('mass')\n",
    "    counts = reg1['50.0']\n",
    "    masses = reg1['mass']\n",
    "    return np.interp(mass, masses, counts)"
   ]
  },
  {
   "cell_type": "code",
   "execution_count": null,
   "id": "65b2ef30",
   "metadata": {},
   "outputs": [],
   "source": [
    "sdf = df[df.type=='sig']"
   ]
  },
  {
   "cell_type": "code",
   "execution_count": null,
   "id": "2ef784da",
   "metadata": {
    "scrolled": true
   },
   "outputs": [],
   "source": [
    "#reweight signals to the expected limits\n",
    "Weight_columns = df.filter(regex='^Weight').columns\n",
    "for mass in sdf['mass'].unique():\n",
    "    for dbs in sdf['dbs'].unique():\n",
    "        for reg in ['SR1', 'SR2']:\n",
    "            count_limit = interpolate_limit(reg, mass)\n",
    "            reg_sel = df.filter(regex='{}'.format(reg)).sum(axis=1) > 0\n",
    "            sample_select = (df.dbs==dbs) & (df.mass==mass)\n",
    "            nEvents = df[sample_select & (df[reg+'_jet_nom_muon_corrected_pt_ele_pt']==1)].Weight.sum()\n",
    "            reweight = count_limit/nEvents\n",
    "            df.loc[sample_select & reg_sel, Weight_columns] *= reweight\n"
   ]
  },
  {
   "cell_type": "code",
   "execution_count": null,
   "id": "1269d975",
   "metadata": {},
   "outputs": [],
   "source": [
    "feature = 'DiLepMass'\n",
    "for reg, abdc_arrays in abcd_fit_dict.items():\n",
    "    fig, ax = plt.subplots(figsize=(12,12))\n",
    "    draw_stackplot(ax, df, feature, reg,era, lumi,draw_bck_sys=True,error_scale=0)\n",
    "    #abcd hist\n",
    "    abcd_hist = make_abcd_hist(abdc_arrays)\n",
    "    abcd_hist.make_density_hist().draw(ax, label='ABCD Pred.', color='green')\n",
    "    ax.legend(ncol=2)\n",
    "    fig.savefig('{}/stack_plots/{}_{}_{}_abcd_limits.pdf'.format(output_dir, feature, era, reg))\n"
   ]
  },
  {
   "cell_type": "code",
   "execution_count": null,
   "id": "977b551a",
   "metadata": {},
   "outputs": [],
   "source": [
    "feature = 'DiLepMass'\n",
    "bin_edges=np.linspace(110, 200, (200-110+1))\n",
    "for reg, abdc_arrays in abcd_fit_dict.items():\n",
    "    fig, ax = plt.subplots(figsize=(12,12))\n",
    "    draw_stackplot(ax, df, feature, reg,era, lumi,draw_bck_sys=True,error_scale=0, yscale='linear')\n",
    "    #abcd hist\n",
    "    abcd_hist = make_abcd_hist(abdc_arrays)\n",
    "    abcd_hist.make_density_hist().draw(ax, label='ABCD Pred.', color='green')\n",
    "    ax.legend(ncol=2)\n",
    "    ax.set_xlim(110,200)\n",
    "    ax.set_ylim(0,150)\n",
    "    fig.savefig('{}/stack_plots/{}_{}_{}_abcd_limits_200_max.pdf'.format(output_dir, feature, era, reg))\n"
   ]
  },
  {
   "cell_type": "code",
   "execution_count": null,
   "id": "c0cd8d9b",
   "metadata": {},
   "outputs": [],
   "source": []
  }
 ],
 "metadata": {
  "kernelspec": {
   "display_name": "bff_12_1",
   "language": "python",
   "name": "bff_12_1"
  },
  "language_info": {
   "codemirror_mode": {
    "name": "ipython",
    "version": 3
   },
   "file_extension": ".py",
   "mimetype": "text/x-python",
   "name": "python",
   "nbconvert_exporter": "python",
   "pygments_lexer": "ipython3",
   "version": "3.9.6"
  }
 },
 "nbformat": 4,
 "nbformat_minor": 5
}
