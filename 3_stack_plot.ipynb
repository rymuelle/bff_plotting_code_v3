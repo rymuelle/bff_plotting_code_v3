{
 "cells": [
  {
   "cell_type": "code",
   "execution_count": null,
   "id": "6b338926",
   "metadata": {},
   "outputs": [],
   "source": [
    "%load_ext autoreload\n",
    "%autoreload 2"
   ]
  },
  {
   "cell_type": "code",
   "execution_count": null,
   "id": "80012654",
   "metadata": {},
   "outputs": [],
   "source": [
    "import numpy as np\n",
    "import pandas as pd\n",
    "import matplotlib.pyplot as plt"
   ]
  },
  {
   "cell_type": "code",
   "execution_count": null,
   "id": "c0fe75b5",
   "metadata": {},
   "outputs": [],
   "source": [
    "from src.plotting_tools.SysHist import make_hist, make_sys_hist, SysHist\n",
    "from src.data_tools.get_data import get_data, delta_r_cut\n",
    "from src.plotting_tools.Bins import Bins, bins, binning_type\n",
    "from src.plotting_tools.cms_format import cms_format_fig, cms_style\n",
    "from src.plotting_tools.colors import color_fader\n",
    "from src.data_tools.StackPlotter import get_stack_plotter\n",
    "from src.plotting_tools.latexAssets import HTLT, RelMET"
   ]
  },
  {
   "cell_type": "code",
   "execution_count": null,
   "id": "50085a3c",
   "metadata": {},
   "outputs": [],
   "source": [
    "cms_style()"
   ]
  },
  {
   "cell_type": "code",
   "execution_count": null,
   "id": "6a14720d",
   "metadata": {},
   "outputs": [],
   "source": [
    "era = '2016'\n",
    "output_dir = 'assets_feb_23'\n"
   ]
  },
  {
   "cell_type": "code",
   "execution_count": null,
   "id": "28703c24",
   "metadata": {},
   "outputs": [],
   "source": [
    "sp = get_stack_plotter(output_dir, era, bins='none')"
   ]
  },
  {
   "cell_type": "code",
   "execution_count": null,
   "id": "4bc2d358",
   "metadata": {
    "scrolled": false
   },
   "outputs": [],
   "source": [
    "reg = 'SR1'\n",
    "feature = 'HTLT'\n",
    "sp.rebin =0\n",
    "sp.x_range = (-np.inf, np.inf)\n",
    "fig, ax = plt.subplots(figsize=(12,12))\n",
    "x = sp.draw_background(ax, feature, reg, sys_label='Stat. + Sys.', errorbar=False, nom_color='grey', make_density=0)\n",
    "x = sp.draw_signals(ax, feature, reg, make_density=0)\n",
    "\n",
    "ax.legend(ncol=2)\n",
    "ax.set_yscale('log')\n",
    "ax.set_ylim(1e-2, 1e6)\n",
    "cms_format_fig(era, ax)\n",
    "ax.set_ylabel(\"Events\")\n",
    "ax.set_xlabel(HTLT + \" [GeV]\")\n",
    "fig.savefig('{}/stack_plots/{}_{}_{}.pdf'.format(output_dir, feature, era, reg))"
   ]
  },
  {
   "cell_type": "code",
   "execution_count": null,
   "id": "0afe096e",
   "metadata": {},
   "outputs": [],
   "source": [
    "reg = 'SR2'\n",
    "feature = 'HTLT'\n",
    "sp.scale = 1\n",
    "sp.rebin =0\n",
    "sp.x_range = (-np.inf, np.inf)\n",
    "fig, ax = plt.subplots(figsize=(12,12))\n",
    "x = sp.draw_background(ax, feature, reg, sys_label='Stat. + Sys.', errorbar=False, nom_color='grey', make_density=0)\n",
    "x = sp.draw_signals(ax, feature, reg, make_density=0)\n",
    "\n",
    "ax.legend(ncol=2)\n",
    "ax.set_yscale('log')\n",
    "ax.set_ylim(1e-2, 1e6)\n",
    "cms_format_fig(era, ax)\n",
    "ax.set_ylabel(\"Events\")\n",
    "ax.set_xlabel(HTLT + \" [GeV]\")\n",
    "fig.savefig('{}/stack_plots/{}_{}_{}.pdf'.format(output_dir, feature, era, reg))\n",
    "sp.scale = 1"
   ]
  },
  {
   "cell_type": "code",
   "execution_count": null,
   "id": "e752f259",
   "metadata": {},
   "outputs": [],
   "source": [
    "reg = 'SR1'\n",
    "feature = 'RelMET'\n",
    "#scale by binning\n",
    "sp.scale = 1\n",
    "sp.rebin =0\n",
    "sp.x_range = (-np.inf, np.inf)\n",
    "fig, ax = plt.subplots(figsize=(12,12))\n",
    "x = sp.draw_background(ax, feature, reg, sys_label='Stat. + Sys.', errorbar=False, nom_color='grey', make_density=0)\n",
    "x = sp.draw_signals(ax, feature, reg, make_density=0)\n",
    "\n",
    "ax.legend(ncol=2)\n",
    "ax.set_yscale('log')\n",
    "ax.set_ylim(1e-2, 1e6)\n",
    "cms_format_fig(era, ax)\n",
    "ax.set_ylabel(\"Events\")\n",
    "ax.set_xlabel(RelMET)\n",
    "fig.savefig('{}/stack_plots/{}_{}_{}.pdf'.format(output_dir, feature, era, reg))\n",
    "sp.scale = 1"
   ]
  },
  {
   "cell_type": "code",
   "execution_count": null,
   "id": "cc510fe7",
   "metadata": {},
   "outputs": [],
   "source": [
    "reg = 'SR2'\n",
    "feature = 'RelMET'\n",
    "#scale by binning\n",
    "sp.scale = 1\n",
    "sp.rebin =0\n",
    "sp.x_range = (-np.inf, np.inf)\n",
    "fig, ax = plt.subplots(figsize=(12,12))\n",
    "x = sp.draw_background(ax, feature, reg, sys_label='Stat. + Sys.', errorbar=False, nom_color='grey', make_density=0)\n",
    "x = sp.draw_signals(ax, feature, reg, make_density=0)\n",
    "\n",
    "\n",
    "ax.legend(ncol=2)\n",
    "ax.set_yscale('log')\n",
    "ax.set_ylim(1e-2, 1e6)\n",
    "cms_format_fig(era, ax)\n",
    "ax.set_ylabel(\"Events\")\n",
    "ax.set_xlabel(RelMET)\n",
    "fig.savefig('{}/stack_plots/{}_{}_{}.pdf'.format(output_dir, feature, era, reg))\n",
    "sp.scale = 1"
   ]
  },
  {
   "cell_type": "code",
   "execution_count": null,
   "id": "5f99c680",
   "metadata": {},
   "outputs": [],
   "source": [
    "sp = get_stack_plotter(output_dir, era, bins='none')"
   ]
  },
  {
   "cell_type": "code",
   "execution_count": null,
   "id": "83948c14",
   "metadata": {
    "scrolled": false
   },
   "outputs": [],
   "source": [
    "reg = 'CR24'\n",
    "feature = 'minGoodJetElDR'\n",
    "#scale by binning\n",
    "#sp.scale = 5/1600\n",
    "sp.rebin =0\n",
    "sp.x_range = (-np.inf, np.inf)\n",
    "fig, ax = plt.subplots(figsize=(12,12))\n",
    "x = sp.draw_background(ax, feature, reg, sys_label='Stat. + Sys.', errorbar=False, nom_color='grey', make_density=0)\n",
    "#sp.scale = 10/1600\n",
    "x = sp.draw_data(ax, feature, reg, make_density=0)\n",
    "\n",
    "\n",
    "ax.legend(ncol=2)\n",
    "ax.set_yscale('log')\n",
    "ax.set_ylim(1e-2, 1e5)\n",
    "cms_format_fig(era, ax)\n",
    "ax.set_ylabel(\"Events\")\n",
    "ax.set_xlabel('$\\delta_{R}$')\n",
    "fig.savefig('{}/stack_plots/{}_{}_{}.pdf'.format(output_dir, feature, era, reg))\n",
    "sp.scale = 1"
   ]
  },
  {
   "cell_type": "code",
   "execution_count": null,
   "id": "788e2c30",
   "metadata": {},
   "outputs": [],
   "source": [
    "sp.plot_df"
   ]
  },
  {
   "cell_type": "code",
   "execution_count": null,
   "id": "ec88b6e7",
   "metadata": {},
   "outputs": [],
   "source": []
  },
  {
   "cell_type": "code",
   "execution_count": null,
   "id": "eb5c5dfc",
   "metadata": {},
   "outputs": [],
   "source": []
  },
  {
   "cell_type": "code",
   "execution_count": null,
   "id": "19e97f69",
   "metadata": {},
   "outputs": [],
   "source": [
    "era = '2016'\n",
    "output_dir = 'assets_nov_2022'\n",
    "df, lumi = get_data(era, output_dir, stitch_dy=1, filterdeltar=False)"
   ]
  },
  {
   "cell_type": "code",
   "execution_count": null,
   "id": "74e6f965",
   "metadata": {},
   "outputs": [],
   "source": [
    "from src.assets.regions import nJets, regions, region_and_label\n",
    "from src.assets.file_groups import bck_dict, bck_list, bck_colors\n"
   ]
  },
  {
   "cell_type": "code",
   "execution_count": null,
   "id": "216120c3",
   "metadata": {},
   "outputs": [],
   "source": [
    "from src.plotting_tools.draw_stack_plot_hists import draw_bckground, draw_signals, draw_data, draw_stackplot"
   ]
  },
  {
   "cell_type": "code",
   "execution_count": null,
   "id": "dc0df6e4",
   "metadata": {},
   "outputs": [],
   "source": [
    "from src.plotting_tools.latexAssets import HTLT, RelMET"
   ]
  },
  {
   "cell_type": "code",
   "execution_count": null,
   "id": "25279a07",
   "metadata": {},
   "outputs": [],
   "source": [
    "draw_inline = True\n",
    "if draw_inline:\n",
    "    plt.ion()\n",
    "else:\n",
    "    plt.ioff()"
   ]
  },
  {
   "cell_type": "code",
   "execution_count": null,
   "id": "cc21ec18",
   "metadata": {},
   "outputs": [],
   "source": [
    "#HTLT relmet plt\n",
    "# select_level=.5 ensures that its pre bff seleciton cuts\n",
    "reg = 'SR1'\n",
    "feature = 'HTLT'\n",
    "fig, ax = plt.subplots(figsize=(12,12))\n",
    "draw_stackplot(ax, df, feature, reg,era, lumi, draw_bck_sys=1, draw_sig_sys=0, top=1e5,  \n",
    "               bin_edges=np.linspace(-800,800,100),\n",
    "               make_density=0,\n",
    "             select_level=.5,\n",
    "              xlabel=HTLT)\n",
    "fig.savefig('{}/stack_plots/{}_{}_{}.pdf'.format(output_dir, feature, era, reg))\n",
    "\n",
    "reg = 'SR1'\n",
    "feature = 'RelMET'\n",
    "fig, ax = plt.subplots(figsize=(12,12))\n",
    "draw_stackplot(ax, df, feature, reg,era, lumi, draw_bck_sys=1, draw_sig_sys=0, top=1e5, \n",
    "               bin_edges=np.linspace(0, 2,100),\n",
    "               make_density=0,\n",
    "              select_level=.5,\n",
    "              xlabel= RelMET)\n",
    "fig.savefig('{}/stack_plots/{}_{}_{}.pdf'.format(output_dir, feature, era, reg))\n",
    "\n"
   ]
  },
  {
   "cell_type": "code",
   "execution_count": null,
   "id": "22a061d2",
   "metadata": {
    "scrolled": true
   },
   "outputs": [],
   "source": [
    "#HTLT relmet plt\n",
    "# select_level=.5 ensures that its pre bff seleciton cuts\n",
    "reg = 'SR2'\n",
    "feature = 'HTLT'\n",
    "fig, ax = plt.subplots(figsize=(12,12))\n",
    "draw_stackplot(ax, df, feature, reg,era, lumi, draw_bck_sys=1, draw_sig_sys=0, top=1e5, \n",
    "            make_density=0,\n",
    "            bin_edges=np.linspace(-800,800,100),\n",
    "            select_level=.5,\n",
    "              xlabel=HTLT)\n",
    "fig.savefig('{}/stack_plots/{}_{}_{}.pdf'.format(output_dir, feature, era, reg))\n",
    "\n",
    "reg = 'SR2'\n",
    "feature = 'RelMET'\n",
    "fig, ax = plt.subplots(figsize=(12,12))\n",
    "draw_stackplot(ax, df, feature, reg,era, lumi, draw_bck_sys=1, draw_sig_sys=0, top=1e5, \n",
    "            make_density=0,\n",
    "            bin_edges=np.linspace(0, 2,100),\n",
    "            select_level=.5,\n",
    "              xlabel= RelMET)\n",
    "fig.savefig('{}/stack_plots/{}_{}_{}.pdf'.format(output_dir, feature, era, reg))\n",
    "\n"
   ]
  },
  {
   "cell_type": "code",
   "execution_count": null,
   "id": "17181fa3",
   "metadata": {},
   "outputs": [],
   "source": [
    "# delta r between jet and electron\n",
    "reg = 'CR14'\n",
    "feature = 'minGoodJetElDR'\n",
    "fig, ax = plt.subplots(figsize=(12,12))\n",
    "draw_stackplot(ax, df, feature, reg,era, lumi, draw_bck_sys=1, draw_sig_sys=1, top=1e5,  \n",
    "               bin_edges=np.linspace(0,5,100),\n",
    "               make_density=0,\n",
    "             select_level=.5,\n",
    "              xlabel='$\\delta_{R}$')\n",
    "fig.savefig('{}/stack_plots/{}_{}_{}.pdf'.format(output_dir, feature, era, reg))\n"
   ]
  },
  {
   "cell_type": "code",
   "execution_count": null,
   "id": "461658a5",
   "metadata": {},
   "outputs": [],
   "source": [
    "df = delta_r_cut(df, 0.4)\n",
    "# delta r between jet and electron\n",
    "reg = 'CR14'\n",
    "feature = 'minGoodJetElDR'\n",
    "fig, ax = plt.subplots(figsize=(12,12))\n",
    "draw_stackplot(ax, df, feature, reg,era, lumi, draw_bck_sys=1, draw_sig_sys=1, top=1e5,  \n",
    "               bin_edges=np.linspace(0,5,100),\n",
    "               make_density=0,\n",
    "             select_level=.5,\n",
    "              xlabel='$\\delta_{R}$')\n",
    "fig.savefig('{}/stack_plots/{}_{}_{}_drcut.pdf'.format(output_dir, feature, era, reg))"
   ]
  },
  {
   "cell_type": "code",
   "execution_count": null,
   "id": "46a14ccf",
   "metadata": {},
   "outputs": [],
   "source": [
    "background_df = df[df.type.str.contains('bck')]\n",
    "_bhist = make_sys_hist(background_df, feature, reg)"
   ]
  },
  {
   "cell_type": "code",
   "execution_count": null,
   "id": "88904c63",
   "metadata": {},
   "outputs": [],
   "source": [
    "dy_sel = (df.category.str.contains('DY')) & (df.category != 'DYLL')\n",
    "dy_types = df[dy_sel].category.unique()"
   ]
  },
  {
   "cell_type": "code",
   "execution_count": null,
   "id": "fee70845",
   "metadata": {},
   "outputs": [],
   "source": [
    "dy_types"
   ]
  },
  {
   "cell_type": "code",
   "execution_count": null,
   "id": "910c035a",
   "metadata": {
    "scrolled": true
   },
   "outputs": [],
   "source": [
    "feature, reg = \"DiLepMass\", \"CR10\"\n",
    "for name in df.name.unique():\n",
    "    ndf = df[df.name==name]\n",
    "    _bhist = make_sys_hist(ndf, feature, reg)\n",
    "    print(name)\n",
    "    print(_bhist.sys_summary())"
   ]
  },
  {
   "cell_type": "code",
   "execution_count": null,
   "id": "63f94001",
   "metadata": {
    "scrolled": false
   },
   "outputs": [],
   "source": [
    "reg = 'CR10'\n",
    "feature = 'DiLepMass'\n",
    "fig, ax = plt.subplots(figsize=(12,12))\n",
    "draw_stackplot(ax, df, feature, reg,era, lumi, draw_bck_sys=1)\n",
    "fig.savefig('{}/stack_plots/{}_{}_{}.pdf'.format(output_dir, feature, era, reg))\n"
   ]
  },
  {
   "cell_type": "code",
   "execution_count": null,
   "id": "0bf003d9",
   "metadata": {},
   "outputs": [],
   "source": [
    "for reg in regions:\n",
    "    fig, ax = plt.subplots(figsize=(12,12))\n",
    "    draw_stackplot(ax, df, feature, reg,era, lumi)\n",
    "    print(reg)\n",
    "fig.savefig('{}/stack_plots/{}_{}_{}.pdf'.format(output_dir, feature, era, reg))\n"
   ]
  },
  {
   "cell_type": "code",
   "execution_count": null,
   "id": "5f2127fd",
   "metadata": {},
   "outputs": [],
   "source": [
    "##\n",
    "## needs to be run after abcd fits \n",
    "##"
   ]
  },
  {
   "cell_type": "code",
   "execution_count": null,
   "id": "f4d56932",
   "metadata": {},
   "outputs": [],
   "source": [
    "file = '{}/fits/limit_setting/abcd_dict_{}.pkl'.format(output_dir, era)\n",
    "import pickle\n",
    "import os\n",
    "import sys\n",
    "if not os.path.exists(file): sys.exit()"
   ]
  },
  {
   "cell_type": "code",
   "execution_count": null,
   "id": "ec5f9abb",
   "metadata": {},
   "outputs": [],
   "source": [
    "with open(file, 'rb') as f:\n",
    "    abcd_fit_dict = pickle.load(f)"
   ]
  },
  {
   "cell_type": "code",
   "execution_count": null,
   "id": "679a7d1e",
   "metadata": {},
   "outputs": [],
   "source": [
    "from src.plotting_tools.make_abcd_hist import make_abcd_hist"
   ]
  },
  {
   "cell_type": "code",
   "execution_count": null,
   "id": "87ba5cd4",
   "metadata": {
    "scrolled": false
   },
   "outputs": [],
   "source": [
    "for reg, abdc_arrays in abcd_fit_dict.items():\n",
    "    fig, ax = plt.subplots(figsize=(12,12))\n",
    "    draw_stackplot(ax, df, feature, reg,era, lumi,draw_bck_sys=True,error_scale=0)\n",
    "    #abcd hist\n",
    "    abcd_hist = make_abcd_hist(abdc_arrays)\n",
    "    abcd_hist.make_density_hist().draw(ax, label='ABCD Pred.', color='green')\n",
    "    ax.legend(ncol=2)\n",
    "    fig.savefig('{}/stack_plots/{}_{}_{}_abcd.pdf'.format(output_dir, feature, era, reg))\n"
   ]
  },
  {
   "cell_type": "code",
   "execution_count": null,
   "id": "5844ceba",
   "metadata": {},
   "outputs": [],
   "source": [
    "##\n",
    "## needs to be run after limts \n",
    "##"
   ]
  },
  {
   "cell_type": "code",
   "execution_count": null,
   "id": "a2c99207",
   "metadata": {},
   "outputs": [],
   "source": [
    "limit_df = pd.read_csv('{}/combine_data/{}_count_limits.csv'.format(outdir, era))"
   ]
  },
  {
   "cell_type": "code",
   "execution_count": null,
   "id": "664d0750",
   "metadata": {},
   "outputs": [],
   "source": [
    "tldf = limit_df[limit_df.dbs==0.1]\n",
    "reg1 = tldf[tldf.nJets=='SR1']\n",
    "reg1 = reg1.sort_values('mass')\n",
    "count = reg1['50.0']\n",
    "mass = reg1['mass']"
   ]
  },
  {
   "cell_type": "code",
   "execution_count": null,
   "id": "e461002f",
   "metadata": {},
   "outputs": [],
   "source": [
    "def interpolate_limit(nJets, mass):\n",
    "    tldf = limit_df[limit_df.dbs==0.1]\n",
    "    reg1 = tldf[tldf.nJets==nJets]\n",
    "    reg1 = reg1.sort_values('mass')\n",
    "    counts = reg1['50.0']\n",
    "    masses = reg1['mass']\n",
    "    return np.interp(mass, masses, counts)"
   ]
  },
  {
   "cell_type": "code",
   "execution_count": null,
   "id": "65b2ef30",
   "metadata": {},
   "outputs": [],
   "source": [
    "sdf = df[df.type=='sig']"
   ]
  },
  {
   "cell_type": "code",
   "execution_count": null,
   "id": "2ef784da",
   "metadata": {
    "scrolled": true
   },
   "outputs": [],
   "source": [
    "#reweight signals to the expected limits\n",
    "Weight_columns = df.filter(regex='^Weight').columns\n",
    "for mass in sdf['mass'].unique():\n",
    "    for dbs in sdf['dbs'].unique():\n",
    "        for reg in ['SR1', 'SR2']:\n",
    "            count_limit = interpolate_limit(reg, mass)\n",
    "            reg_sel = df.filter(regex='{}'.format(reg)).sum(axis=1) > 0\n",
    "            sample_select = (df.dbs==dbs) & (df.mass==mass)\n",
    "            nEvents = df[sample_select & (df[reg+'_jet_nom_muon_corrected_pt_ele_pt']==1)].Weight.sum()\n",
    "            reweight = count_limit/nEvents\n",
    "            df.loc[sample_select & reg_sel, Weight_columns] *= reweight\n"
   ]
  },
  {
   "cell_type": "code",
   "execution_count": null,
   "id": "1269d975",
   "metadata": {},
   "outputs": [],
   "source": [
    "feature = 'DiLepMass'\n",
    "for reg, abdc_arrays in abcd_fit_dict.items():\n",
    "    fig, ax = plt.subplots(figsize=(12,12))\n",
    "    draw_stackplot(ax, df, feature, reg,era, lumi,draw_bck_sys=True,error_scale=0)\n",
    "    #abcd hist\n",
    "    abcd_hist = make_abcd_hist(abdc_arrays)\n",
    "    abcd_hist.make_density_hist().draw(ax, label='ABCD Pred.', color='green')\n",
    "    ax.legend(ncol=2)\n",
    "    fig.savefig('{}/stack_plots/{}_{}_{}_abcd_limits.pdf'.format(output_dir, feature, era, reg))\n"
   ]
  },
  {
   "cell_type": "code",
   "execution_count": null,
   "id": "977b551a",
   "metadata": {},
   "outputs": [],
   "source": [
    "feature = 'DiLepMass'\n",
    "bin_edges=np.linspace(110, 200, (200-110+1))\n",
    "for reg, abdc_arrays in abcd_fit_dict.items():\n",
    "    fig, ax = plt.subplots(figsize=(12,12))\n",
    "    draw_stackplot(ax, df, feature, reg,era, lumi,draw_bck_sys=True,error_scale=0, yscale='linear')\n",
    "    #abcd hist\n",
    "    abcd_hist = make_abcd_hist(abdc_arrays)\n",
    "    abcd_hist.make_density_hist().draw(ax, label='ABCD Pred.', color='green')\n",
    "    ax.legend(ncol=2)\n",
    "    ax.set_xlim(110,200)\n",
    "    ax.set_ylim(0,150)\n",
    "    fig.savefig('{}/stack_plots/{}_{}_{}_abcd_limits_200_max.pdf'.format(output_dir, feature, era, reg))\n"
   ]
  },
  {
   "cell_type": "code",
   "execution_count": null,
   "id": "c0cd8d9b",
   "metadata": {},
   "outputs": [],
   "source": [
    "##\n",
    "## jes jer variaitons\n",
    "##\n",
    "from src.assets.regions import region_and_label_AN\n",
    "def sum_region(reg):\n",
    "    return \"{:.1f}\".format(df[(df.mass==200) &\n",
    "        (df[reg]==1)].Weight.sum())"
   ]
  },
  {
   "cell_type": "code",
   "execution_count": null,
   "id": "13c0ef76",
   "metadata": {},
   "outputs": [],
   "source": [
    "reg_list = []\n",
    "for reg, item in region_and_label_AN.items():\n",
    "    if 'SR' not in reg: continue\n",
    "\n",
    "    reg_dict = {\n",
    "        'era': era,\n",
    "        'reg': item, \n",
    "        'nominal': sum_region(reg+'_jet_nom_muon_corrected_pt_ele_pt'),\n",
    "        'JER Up': sum_region(reg+'_jet_jerUp_muon_corrected_pt_ele_pt'),\n",
    "        'JER Down': sum_region(reg+'_jet_jerDown_muon_corrected_pt_ele_pt'),\n",
    "        'JES Up': sum_region(reg+'_jet_jesTotalUp_muon_corrected_pt_ele_pt'),\n",
    "        'JES Down': sum_region(reg+'_jet_jesTotalDown_muon_corrected_pt_ele_pt'),\n",
    "    }\n",
    "    reg_list.append(reg_dict)"
   ]
  },
  {
   "cell_type": "code",
   "execution_count": null,
   "id": "9baf36d5",
   "metadata": {},
   "outputs": [],
   "source": [
    "print(pd.DataFrame(reg_list).to_latex())"
   ]
  },
  {
   "cell_type": "code",
   "execution_count": null,
   "id": "fa4bd82f",
   "metadata": {},
   "outputs": [],
   "source": [
    "from src.plotting_tools.utils import ratio_plot_template"
   ]
  },
  {
   "cell_type": "code",
   "execution_count": null,
   "id": "d02083d8",
   "metadata": {},
   "outputs": [],
   "source": [
    "bck_df = df[df.type.str.contains('bck')]"
   ]
  },
  {
   "cell_type": "code",
   "execution_count": null,
   "id": "5b1f683d",
   "metadata": {},
   "outputs": [],
   "source": [
    "relmet_bins = Bins(np.linspace(0, 1,10))\n",
    "HTLT_bins = Bins(np.linspace(-800,800, 10))"
   ]
  },
  {
   "cell_type": "code",
   "execution_count": null,
   "id": "d46a7523",
   "metadata": {},
   "outputs": [],
   "source": [
    "def make_bff_hist(column, region, var, bins): \n",
    "    tdf = bck_df[bck_df['{}_{}'.format(region, var)]>-1]\n",
    "    return make_hist(tdf['{}_{}'.format(column, var)],\n",
    "                       bin_edges=bins.bin_edges, weights=tdf.Weight, std=1)"
   ]
  },
  {
   "cell_type": "code",
   "execution_count": null,
   "id": "b8c6d0b4",
   "metadata": {},
   "outputs": [],
   "source": [
    "def make_bff_plot(column, region, bins, xlabel):\n",
    "    nom, std = make_bff_hist(column, region, 'jet_nom_muon_corrected_pt_ele_pt', bins)\n",
    "    jerUp, _ = make_bff_hist(column, region, 'jet_jerUp_muon_corrected_pt_ele_pt', bins)\n",
    "    jerDown, _ = make_bff_hist(column, region, 'jet_jerDown_muon_corrected_pt_ele_pt', bins)\n",
    "    jesUp, _ = make_bff_hist(column, region, 'jet_jesTotalUp_muon_corrected_pt_ele_pt', bins)\n",
    "    jesDown, _ = make_bff_hist(column, region, 'jet_jesTotalDown_muon_corrected_pt_ele_pt', bins)\n",
    "    jer = sorted([jerUp, jerDown], key=lambda x: x.sum())\n",
    "    jes = sorted([jesUp, jesDown], key=lambda x: x.sum())\n",
    "    \n",
    "    down = (((jer[0]-nom)**2 + (jes[0]-nom)**2)**.5)*((jer[0]-nom) + (jes[0]-nom))/abs(((jer[0]-nom) + (jes[0]-nom)))  +nom\n",
    "    up = (((jer[1]-nom)**2 + (jes[1]-nom)**2)**.5)*((jer[1]-nom) + (jes[1]-nom))/abs(((jer[1]-nom) + (jes[1]-nom)))+nom\n",
    "    \n",
    "    fig, ax, rax = ratio_plot_template(figsize=(12,10))\n",
    "    ax.errorbar(bins.calc_bin_centers(), nom, yerr=std, color='black', label='nom', ds='steps-mid')\n",
    "    ax.plot(bins.calc_bin_centers(), down, color='red', label='down', ds='steps-mid')\n",
    "    ax.plot(bins.calc_bin_centers(), up, color='green', label='up', ds='steps-mid')\n",
    "    \n",
    "    rax.plot(bins.calc_bin_centers(), nom/nom, color='black', label='nom', ds='steps-mid')\n",
    "    rax.plot(bins.calc_bin_centers(), down/nom, color='red', label='down', ds='steps-mid')\n",
    "    rax.plot(bins.calc_bin_centers(), up/nom, color='green', label='up', ds='steps-mid')\n",
    "    rax.set_ylim(.75,1.25)\n",
    "    cms_format_fig(era, ax)\n",
    "    \n",
    "    ax.set_yscale('log')\n",
    "    ax.set_ylabel('counts')\n",
    "    rax.set_ylabel(\"ratio\")\n",
    "    rax.set_xlabel(xlabel)\n",
    "    ax.legend()\n",
    "    return fig"
   ]
  },
  {
   "cell_type": "code",
   "execution_count": null,
   "id": "77e46035",
   "metadata": {},
   "outputs": [],
   "source": [
    "column, region = 'RelMET', 'SR1'\n",
    "fig = make_bff_plot(column, region, relmet_bins, RelMET)\n",
    "fig.savefig('{}/BFF_sys_plots/{}_{}.pdf'.format(output_dir, era, column,))"
   ]
  },
  {
   "cell_type": "code",
   "execution_count": null,
   "id": "17aa9235",
   "metadata": {},
   "outputs": [],
   "source": [
    "column, region = 'HTLT', 'SR1'\n",
    "fig = make_bff_plot(column, region, HTLT_bins, RelMET)\n",
    "fig.savefig('{}/BFF_sys_plots/{}_{}.pdf'.format(output_dir, era, column, region))"
   ]
  },
  {
   "cell_type": "code",
   "execution_count": null,
   "id": "8cb75197",
   "metadata": {},
   "outputs": [],
   "source": []
  }
 ],
 "metadata": {
  "kernelspec": {
   "display_name": "bff_12_1",
   "language": "python",
   "name": "bff_12_1"
  },
  "language_info": {
   "codemirror_mode": {
    "name": "ipython",
    "version": 3
   },
   "file_extension": ".py",
   "mimetype": "text/x-python",
   "name": "python",
   "nbconvert_exporter": "python",
   "pygments_lexer": "ipython3",
   "version": "3.9.6"
  }
 },
 "nbformat": 4,
 "nbformat_minor": 5
}
