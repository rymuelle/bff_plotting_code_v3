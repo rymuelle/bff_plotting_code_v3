{
 "cells": [
  {
   "cell_type": "code",
   "execution_count": null,
   "id": "6b338926",
   "metadata": {},
   "outputs": [],
   "source": [
    "%load_ext autoreload\n",
    "%autoreload 2"
   ]
  },
  {
   "cell_type": "code",
   "execution_count": null,
   "id": "80012654",
   "metadata": {},
   "outputs": [],
   "source": [
    "import numpy as np\n",
    "import pandas as pd\n",
    "import matplotlib.pyplot as plt"
   ]
  },
  {
   "cell_type": "code",
   "execution_count": null,
   "id": "c0fe75b5",
   "metadata": {},
   "outputs": [],
   "source": [
    "from src.plotting_tools.SysHist import make_hist, make_sys_hist, SysHist\n",
    "from src.data_tools.get_data import get_data, delta_r_cut\n",
    "from src.plotting_tools.Bins import Bins, bins, binning_type\n",
    "from src.plotting_tools.cms_format import cms_format_fig, cms_style\n",
    "from src.plotting_tools.colors import color_fader\n",
    "from src.data_tools.StackPlotter import get_stack_plotter\n",
    "from src.plotting_tools.latexAssets import HTLT, RelMET\n",
    "from src.plotting_tools.utils import ratio_plot_template\n"
   ]
  },
  {
   "cell_type": "code",
   "execution_count": null,
   "id": "50085a3c",
   "metadata": {},
   "outputs": [],
   "source": [
    "cms_style()"
   ]
  },
  {
   "cell_type": "code",
   "execution_count": null,
   "id": "6a14720d",
   "metadata": {},
   "outputs": [],
   "source": [
    "era = 'Run 2'\n",
    "fstring_era = era.replace(' ', '_')\n",
    "from src.assets.output_dir import output_dir\n",
    "output_dir"
   ]
  },
  {
   "cell_type": "code",
   "execution_count": null,
   "id": "28703c24",
   "metadata": {},
   "outputs": [],
   "source": [
    "sp6 = get_stack_plotter(output_dir, '2016', bins='none')\n",
    "sp7 = get_stack_plotter(output_dir, '2017', bins='none')\n",
    "sp8 = get_stack_plotter(output_dir, '2018', bins='none')"
   ]
  },
  {
   "cell_type": "code",
   "execution_count": null,
   "id": "22311cf9",
   "metadata": {},
   "outputs": [],
   "source": [
    "sp = sp6\n",
    "sp.plot_df = pd.concat([sp6.plot_df , sp7.plot_df, sp8.plot_df])\n",
    "#sp.plot_df = pd.concat([sp.plot_df , sp8.plot_df])\n",
    "sp.plot_df.era = 2000\n",
    "sp.era=2000"
   ]
  },
  {
   "cell_type": "code",
   "execution_count": null,
   "id": "f9b1d3b5",
   "metadata": {},
   "outputs": [],
   "source": [
    "# add missing weights\n",
    "keys = []\n",
    "for i, row in sp.plot_df.iterrows():\n",
    "    keys += list(row.sys.keys())\n",
    "unique = np.unique(keys)\n",
    "unique = list(filter( lambda x: \"Weight\" in x, unique))\n",
    "\n",
    "for i, row in sp.plot_df.iterrows():\n",
    "    keys = list(row.sys.keys())\n",
    "    # don't do for data\n",
    "    if len(keys) == 0: continue\n",
    "    for w in unique:\n",
    "        if w not in keys: row.sys[w] = [row.sys[keys[0]][0]*0,row.sys[keys[0]][0]]\n",
    "    "
   ]
  },
  {
   "cell_type": "code",
   "execution_count": null,
   "id": "abb66d09",
   "metadata": {},
   "outputs": [],
   "source": [
    "reg = 'SR1'\n",
    "feature = 'HTLT'\n",
    "sp.rebin =0\n",
    "sp.x_range = (-np.inf, np.inf)\n",
    "fig, ax = plt.subplots(figsize=(12,12))\n",
    "x = sp.draw_background(ax, feature, reg, sys_label='Stat. + Sys.', errorbar=False, nom_color='grey', make_density=0)\n",
    "x = sp.draw_signals(ax, feature, reg, make_density=0)\n",
    "\n",
    "ax.legend(ncol=2)\n",
    "ax.set_yscale('log')\n",
    "ax.set_ylim(1e-2, 1e7)\n",
    "cms_format_fig(\"Run 2\", ax, \"\\emph{Simulation}\")\n",
    "ax.set_ylabel(\"Events\")\n",
    "ax.set_xlabel(HTLT + \" [GeV]\")\n",
    "fig.savefig('{}/stack_plots/{}_{}_{}.pdf'.format(output_dir, feature, fstring_era, reg))"
   ]
  },
  {
   "cell_type": "code",
   "execution_count": null,
   "id": "5abd9ee1",
   "metadata": {},
   "outputs": [],
   "source": [
    "reg = 'SR2'\n",
    "feature = 'HTLT'\n",
    "sp.scale = 1\n",
    "sp.rebin =0\n",
    "sp.x_range = (-np.inf, np.inf)\n",
    "fig, ax = plt.subplots(figsize=(12,12))\n",
    "x = sp.draw_background(ax, feature, reg, sys_label='Stat. + Sys.', errorbar=False, nom_color='grey', make_density=0)\n",
    "x = sp.draw_signals(ax, feature, reg, make_density=0)\n",
    "\n",
    "ax.legend(ncol=2)\n",
    "ax.set_yscale('log')\n",
    "ax.set_ylim(1e-2, 1e7)\n",
    "cms_format_fig(\"Run 2\", ax, \"\\emph{Simulation}\")\n",
    "ax.set_ylabel(\"Events\")\n",
    "ax.set_xlabel(HTLT + \" [GeV]\")\n",
    "fig.savefig('{}/stack_plots/{}_{}_{}.pdf'.format(output_dir, feature, fstring_era, reg))\n",
    "sp.scale = 1"
   ]
  },
  {
   "cell_type": "code",
   "execution_count": null,
   "id": "e752f259",
   "metadata": {},
   "outputs": [],
   "source": [
    "reg = 'SR1'\n",
    "feature = 'RelMET'\n",
    "#scale by binning\n",
    "sp.scale = 1\n",
    "sp.rebin =0\n",
    "sp.x_range = (-np.inf, np.inf)\n",
    "fig, ax = plt.subplots(figsize=(12,12))\n",
    "x = sp.draw_background(ax, feature, reg, sys_label='Stat. + Sys.', errorbar=False, nom_color='grey', make_density=0)\n",
    "x = sp.draw_signals(ax, feature, reg, make_density=0)\n",
    "\"\"\n",
    "ax.legend(ncol=2)\n",
    "ax.set_yscale('log')\n",
    "ax.set_ylim(1e-2, 1e7)\n",
    "cms_format_fig(\"Run 2\", ax, \"\\emph{Simulation}\")\n",
    "ax.set_ylabel(\"Events\")\n",
    "ax.set_xlabel(RelMET)\n",
    "fig.savefig('{}/stack_plots/{}_{}_{}.pdf'.format(output_dir, feature, fstring_era, reg))\n",
    "sp.scale = 1"
   ]
  },
  {
   "cell_type": "code",
   "execution_count": null,
   "id": "cc510fe7",
   "metadata": {},
   "outputs": [],
   "source": [
    "reg = 'SR2'\n",
    "feature = 'RelMET'\n",
    "#scale by binning\n",
    "sp.scale = 1\n",
    "sp.rebin =0\n",
    "sp.x_range = (-np.inf, np.inf)\n",
    "fig, ax = plt.subplots(figsize=(12,12))\n",
    "x = sp.draw_background(ax, feature, reg, sys_label='Stat. + Sys.', errorbar=False, nom_color='grey', make_density=0)\n",
    "x = sp.draw_signals(ax, feature, reg, make_density=0)\n",
    "\n",
    "\n",
    "ax.legend(ncol=2)\n",
    "ax.set_yscale('log')\n",
    "ax.set_ylim(1e-2, 1e7)\n",
    "cms_format_fig(\"Run 2\", ax, \"\\emph{Simulation}\")\n",
    "ax.set_ylabel(\"Events\")\n",
    "ax.set_xlabel(RelMET)\n",
    "fig.savefig('{}/stack_plots/{}_{}_{}.pdf'.format(output_dir, feature, fstring_era, reg))\n",
    "sp.scale = 1"
   ]
  },
  {
   "cell_type": "code",
   "execution_count": null,
   "id": "83948c14",
   "metadata": {
    "scrolled": false
   },
   "outputs": [],
   "source": [
    "def plot_reg_feature_ratio(reg, feature, xlabel='$\\delta_{R}$'):\n",
    "    fig, ax, rax = ratio_plot_template(figsize=(10,10))\n",
    "    sp.scale = 1\n",
    "    bhist = sp.draw_background(ax, feature, reg, sys_label='Stat. + Sys.', errorbar=False, nom_color='grey', make_density=0)\n",
    "    _ = sp.draw_data(ax, feature, reg, make_density=0)\n",
    "        \n",
    "    #ratio\n",
    "    x = bhist.calc_bin_centers()\n",
    "    rax.plot(x, np.full(len(x), .5) , color='black', linestyle=':')\n",
    "    rax.plot(x, np.full(len(x), 1) , color='black')\n",
    "    rax.plot(x, np.full(len(x), 1.5) , color='black', linestyle=':') \n",
    "    rax.set_ylim(0,2)\n",
    "    rax.set_ylabel('Obs./MC')\n",
    "    if 'SR' in reg: \n",
    "        'none'\n",
    "    else:\n",
    "        _dhist = sp.make_data_hist(feature, reg).calc_ratio(bhist.nominal)\n",
    "        rax.errorbar(_dhist.calc_bin_centers(), _dhist.nominal, yerr=_dhist.std, color='black',\n",
    "                    label='Observed', ls='', marker='o')\n",
    "    bhist.calc_ratio(bhist.nominal+1e-10).draw(rax, errorbar=False)\n",
    "    \n",
    "    \n",
    "    ax.legend(ncol=2)\n",
    "    ax.set_yscale('log')\n",
    "    ax.set_ylim(1e-2, 1e5)\n",
    "    cms_format_fig(\"Run 2\", ax, \"\\emph{Preliminary}\")\n",
    "    ax.set_ylabel(\"Events\")\n",
    "    ax.set_xlabel(xlabel)\n",
    "    fig.savefig('{}/stack_plots/{}_{}_{}.pdf'.format(output_dir, feature, fstring_era, reg))"
   ]
  },
  {
   "cell_type": "code",
   "execution_count": null,
   "id": "2894c7a9",
   "metadata": {
    "scrolled": true
   },
   "outputs": [],
   "source": [
    "reg = 'CR24'\n",
    "feature = 'minGoodJetElDR'\n",
    "plot_reg_feature_ratio(reg, feature, xlabel='$\\Delta_{R}$ min(Electron, Jet)')"
   ]
  },
  {
   "cell_type": "code",
   "execution_count": null,
   "id": "cab98a16",
   "metadata": {
    "scrolled": true
   },
   "outputs": [],
   "source": [
    "reg = 'CR20'\n",
    "feature = 'minGoodJetMuDR'\n",
    "plot_reg_feature_ratio(reg, feature, xlabel='$\\Delta_{R}$ min(Muon, Jet)')"
   ]
  },
  {
   "cell_type": "code",
   "execution_count": null,
   "id": "daa46d11",
   "metadata": {},
   "outputs": [],
   "source": [
    "def make_uncertainty_dict(reg):\n",
    "    nom, std = abcd[reg]['nom'], abcd[reg]['std']\n",
    "    max_val, min_val, summed = np.max(std/nom), np.min(std/nom), np.sum(std)/np.sum(nom)\n",
    "    avg = np.average(std/nom)\n",
    "    return {\"era\": era, \"reg\": reg, \n",
    "            \"max_val\": max_val, \"min_val\": min_val, \"summed\": summed, \"avg\":avg}"
   ]
  },
  {
   "cell_type": "code",
   "execution_count": null,
   "id": "45998acb",
   "metadata": {},
   "outputs": [],
   "source": [
    "import pickle as pkl\n",
    "firstHist=1\n",
    "reg_dict = {}\n",
    "uncertainty_list = []\n",
    "for _era in [\"2016\", \"2017\", \"2018\"]:\n",
    "    #if _era !=\"2016\": continue\n",
    "    outname=\"{}/abcd/abcd_dict_data_{}_ismc0.pkl\".format(output_dir, _era)\n",
    "    with open(outname,'rb') as f:\n",
    "        abcd = pkl.load(f)\n",
    "        for reg in abcd.keys():\n",
    "            if'SR' in reg: uncertainty_list.append(make_uncertainty_dict(reg))\n",
    "            \n",
    "            if firstHist==1:\n",
    "                reg_dict[reg] = SysHist.from_dict(abcd[reg])\n",
    "            else:\n",
    "                other = reg_dict[reg]\n",
    "                self = SysHist.from_dict(abcd[reg])\n",
    "                print(self.bin_edges, other.bin_edges)\n",
    "                reg_dict[reg] += SysHist.from_dict(abcd[reg])\n",
    "        firstHist=0\n",
    "uncertainty_df = pd.DataFrame(uncertainty_list)"
   ]
  },
  {
   "cell_type": "code",
   "execution_count": null,
   "id": "67b7f5d0",
   "metadata": {
    "scrolled": true
   },
   "outputs": [],
   "source": [
    "uncertainty_df"
   ]
  },
  {
   "cell_type": "code",
   "execution_count": null,
   "id": "72cffea7",
   "metadata": {},
   "outputs": [],
   "source": [
    "uncertainty_df.max(), uncertainty_df.min()"
   ]
  },
  {
   "cell_type": "code",
   "execution_count": null,
   "id": "be645469",
   "metadata": {
    "scrolled": false
   },
   "outputs": [],
   "source": [
    "def draw_dilep(reg, draw_sig=False, blinded=True):\n",
    "    \n",
    "    fig, ax, rax = ratio_plot_template(figsize=(10,10))\n",
    "    \n",
    "    \n",
    "    feature = 'DiLepMass'\n",
    "\n",
    "    sp.rebin = bins.bin_edges\n",
    "    sp.x_range = (120, 400.5)\n",
    "    bhist = sp.draw_background(ax, feature, reg, sys_label='Stat. + Sys.', errorbar=False, nom_color='grey', make_density=1)\n",
    "    #sp.scale = 10/1600\n",
    "    dhist = sp.draw_data(ax, feature, reg, make_density=1, blinded=blinded)\n",
    "    if 'SR' in reg and draw_sig: \n",
    "        _ = sp.draw_signals(ax, feature, reg, make_density=1, labels=False)\n",
    "    \n",
    "    if ('SR' in reg): kwargs = {\"label\": \"ABCD\", \"zorder\": 4}\n",
    "    else: kwargs = {\"label\": \"Observed Fit\", \"color\": \"red\", \"zorder\": 4}\n",
    "    reg_dict[reg].make_density_hist().draw(ax,**kwargs)\n",
    "    \n",
    "    ax.legend(ncol=2)\n",
    "    ax.set_yscale('log')\n",
    "    ax.set_ylim(1e-2, 1e5)\n",
    "    cms_format_fig(era, ax, \"\\emph{Preliminary}\")\n",
    "    ax.set_ylabel(\"Events per GeV\")\n",
    "    \n",
    "    ax.set_xlabel('$m_{\\ell\\ell}$ [GeV]')\n",
    "    \n",
    "    #ratio\n",
    "    x = bhist.calc_bin_centers()\n",
    "    rax.plot(x, np.full(len(x), .5) , color='black', linestyle=':')\n",
    "    rax.plot(x, np.full(len(x), 1) , color='black')\n",
    "    rax.plot(x, np.full(len(x), 1.5) , color='black', linestyle=':') \n",
    "    rax.set_ylim(0,2)\n",
    "    rax.set_ylabel('Obs./Fit')\n",
    "    fhist = reg_dict[reg].rebin(dhist.bin_edges).make_density_hist()\n",
    "    if 'SR' in reg and blinded: \n",
    "        rax.set_ylabel('Obs./ABCD')\n",
    "    else:\n",
    "        _dhist = dhist.calc_ratio(fhist.nominal) #sp.make_data_hist(feature, reg, blinded=blinded, make_density=1).calc_ratio(bhist.nominal)\n",
    "        rax.errorbar(_dhist.calc_bin_centers(), _dhist.nominal, yerr=_dhist.std, color='black',\n",
    "                    label='Observed', ls='', marker='o')\n",
    "        \n",
    "    fhist.calc_ratio(fhist.nominal).draw(rax, **kwargs)\n",
    "    bhist.calc_ratio(fhist.nominal).draw(rax, zorder=1, errorbar=False, color='grey')\n",
    "    if not draw_sig: \n",
    "        fig.savefig('{}/stack_plots/{}_{}_{}.pdf'.format(output_dir, feature, fstring_era, reg))\n",
    "    else:\n",
    "        ax.legend(ncol=3)\n",
    "        fig.savefig('{}/stack_plots/{}_{}_{}_signal.pdf'.format(output_dir, feature, fstring_era, reg))\n",
    "    sp.scale = 1"
   ]
  },
  {
   "cell_type": "code",
   "execution_count": null,
   "id": "9435b7b7",
   "metadata": {
    "scrolled": false
   },
   "outputs": [],
   "source": [
    "draw_dilep(\"SR1\", blinded=False)\n",
    "draw_dilep(\"SR1\", blinded=False, draw_sig=True)"
   ]
  },
  {
   "cell_type": "code",
   "execution_count": null,
   "id": "69725155",
   "metadata": {},
   "outputs": [],
   "source": [
    "draw_dilep(\"SR2\", blinded=False)\n",
    "draw_dilep(\"SR2\", blinded=False, draw_sig=True)"
   ]
  },
  {
   "cell_type": "code",
   "execution_count": null,
   "id": "ba784694",
   "metadata": {
    "scrolled": false
   },
   "outputs": [],
   "source": [
    "for reg in reg_dict.keys():\n",
    "    print(reg)\n",
    "    draw_dilep(reg, draw_sig=True)"
   ]
  },
  {
   "cell_type": "code",
   "execution_count": null,
   "id": "36a74ef7",
   "metadata": {},
   "outputs": [],
   "source": [
    "break"
   ]
  },
  {
   "cell_type": "code",
   "execution_count": null,
   "id": "cc4204bc",
   "metadata": {},
   "outputs": [],
   "source": [
    "#closure test\n",
    "import pickle as pkl\n",
    "firstHist=1\n",
    "reg_dict = {}\n",
    "uncertainty_list = []\n",
    "for _era in [\"2016\", \"2017\", \"2018\"]:\n",
    "    #if _era !=\"2016\": continue\n",
    "    outname=\"{}/abcd/abcd_dict_data_{}_ismc1.pkl\".format(output_dir, _era)\n",
    "    with open(outname,'rb') as f:\n",
    "        abcd = pkl.load(f)\n",
    "        for reg in abcd.keys():\n",
    "            if'SR' in reg: uncertainty_list.append(make_uncertainty_dict(reg))\n",
    "            \n",
    "            if firstHist==1:\n",
    "                reg_dict[reg] = SysHist.from_dict(abcd[reg])\n",
    "            else:\n",
    "                reg_dict[reg] += SysHist.from_dict(abcd[reg])\n",
    "        firstHist=0\n",
    "uncertainty_df = pd.DataFrame(uncertainty_list)"
   ]
  },
  {
   "cell_type": "code",
   "execution_count": null,
   "id": "3ea4bf96",
   "metadata": {},
   "outputs": [],
   "source": [
    "def draw_dilep_closure(reg, draw_sig=False):\n",
    "    \n",
    "    fig, ax, rax = ratio_plot_template(figsize=(10,10))\n",
    "    \n",
    "    \n",
    "    feature = 'DiLepMass'\n",
    "\n",
    "    sp.rebin =reg_dict[reg].bin_edges\n",
    "    sp.x_range = (120, 400)\n",
    "    bhist = sp.draw_background(ax, feature, reg, sys_label='Stat. + Sys.', errorbar=False, nom_color='grey', make_density=1)\n",
    "    #sp.scale = 10/1600\n",
    "    #_ = sp.draw_data(ax, feature, reg, make_density=0)\n",
    "    if  draw_sig: _ = sp.draw_signals(ax, feature, reg, make_density=1)\n",
    "    \n",
    "    if ('SR' in reg): kwargs = {\"label\": \"ABCD\", \"zorder\": 4}\n",
    "    else: kwargs = {\"label\": \"Observed Fit\", \"color\": \"red\", \"zorder\": 4}\n",
    "    reg_dict[reg].make_density_hist().draw(ax,**kwargs)\n",
    "    \n",
    "    ax.legend(ncol=2)\n",
    "    ax.set_yscale('log')\n",
    "    ax.set_ylim(1e-2, 1e5)\n",
    "    cms_format_fig(era, ax, \"\\emph{Simulation}\")\n",
    "    ax.set_ylabel(\"Events per GeV\")\n",
    "    \n",
    "    ax.set_xlabel('$m_{\\ell\\ell}$ [GeV]')\n",
    "    \n",
    "    #ratio\n",
    "    x = bhist.calc_bin_centers()\n",
    "    rax.plot(x, np.full(len(x), .5) , color='black', linestyle=':')\n",
    "    rax.plot(x, np.full(len(x), 1) , color='black')\n",
    "    rax.plot(x, np.full(len(x), 1.5) , color='black', linestyle=':') \n",
    "    rax.set_ylim(0,2)\n",
    "    rax.set_ylabel('Obs./MC')\n",
    "    if 'SR' in reg: \n",
    "        rax.set_ylabel('ABCD/MC')\n",
    "        \n",
    "    reg_dict[reg].make_density_hist().calc_ratio(bhist.nominal).draw(rax, **kwargs)\n",
    "    bhist.calc_ratio(bhist.nominal).draw(rax, zorder=1, errorbar=False)\n",
    "    if not draw_sig: \n",
    "        fig.savefig('{}/stack_plots/{}_{}_{}_closure.pdf'.format(output_dir, feature, fstring_era, reg))\n",
    "    else:\n",
    "        ax.legend(ncol=3)\n",
    "        fig.savefig('{}/stack_plots/{}_{}_{}_signal_closure.pdf'.format(output_dir, feature, fstring_era, reg))\n",
    "    sp.scale = 1"
   ]
  },
  {
   "cell_type": "code",
   "execution_count": null,
   "id": "dfc0714a",
   "metadata": {
    "scrolled": true
   },
   "outputs": [],
   "source": [
    "for reg in reg_dict.keys():\n",
    "    print(reg)\n",
    "    draw_dilep_closure(reg, draw_sig=False)"
   ]
  },
  {
   "cell_type": "code",
   "execution_count": null,
   "id": "cebb27ac",
   "metadata": {},
   "outputs": [],
   "source": [
    "!ls -rt /eos/cms/store/group/phys_exotica/bffZprime/assets_june_23/data"
   ]
  },
  {
   "cell_type": "code",
   "execution_count": null,
   "id": "9d51359c",
   "metadata": {
    "scrolled": false
   },
   "outputs": [],
   "source": [
    "##\n",
    "## Compare different dbs distributions\n",
    "##\n",
    "def compare_dbs(reg, feature, label):\n",
    "    #scale by binning\n",
    "    sp.scale = 1\n",
    "    sp.rebin =0\n",
    "    sp.x_range = (-np.inf, np.inf)\n",
    "    fig, ax = plt.subplots(figsize=(12,12))\n",
    "    #x = sp.draw_background(ax, feature, reg, sys_label='Stat. + Sys.', errorbar=False, nom_color='grey', make_density=0)\n",
    "    x = sp.draw_signals_compare_dbs(ax, feature, reg, make_density=1, \n",
    "                                    dbs_values = [0.04], mass_values = [125., 350.])\n",
    "    x = sp.draw_signals_compare_dbs(ax, feature, reg, make_density=1, \n",
    "                                    dbs_values = [1.0], mass_values = [125., 350.],\n",
    "                                   c1='#00da2b', c2='#e67e22')    \n",
    "    \n",
    "    ax.legend(ncol=2)\n",
    "    ax.set_yscale('log')\n",
    "    ax.set_ylim(1e-5, 1e0)\n",
    "    cms_format_fig(\"Run 2\", ax, \"\\emph{Simulation}\")\n",
    "    ax.set_ylabel(\"Events\")\n",
    "    ax.set_xlabel(label)\n",
    "    fig.savefig('{}/stack_plots/dbs_comp_{}_{}_{}.pdf'.format(output_dir, feature, fstring_era, reg))\n",
    "    sp.scale = 1"
   ]
  },
  {
   "cell_type": "code",
   "execution_count": null,
   "id": "e29867ef",
   "metadata": {},
   "outputs": [],
   "source": [
    "reg = 'SR2'\n",
    "feature = 'RelMET'\n",
    "compare_dbs(reg, feature, RelMET)"
   ]
  },
  {
   "cell_type": "code",
   "execution_count": null,
   "id": "91b76dfe",
   "metadata": {},
   "outputs": [],
   "source": [
    "reg = 'SR1'\n",
    "feature = 'RelMET'\n",
    "compare_dbs(reg, feature, RelMET)"
   ]
  },
  {
   "cell_type": "code",
   "execution_count": null,
   "id": "de594748",
   "metadata": {},
   "outputs": [],
   "source": [
    "reg = 'SR1'\n",
    "feature = 'HTLT'\n",
    "compare_dbs(reg, feature, HTLT)"
   ]
  },
  {
   "cell_type": "code",
   "execution_count": null,
   "id": "2eb9843c",
   "metadata": {},
   "outputs": [],
   "source": [
    "reg = 'SR2'\n",
    "feature = 'HTLT'\n",
    "compare_dbs(reg, feature, HTLT)"
   ]
  },
  {
   "cell_type": "code",
   "execution_count": null,
   "id": "4e625483",
   "metadata": {},
   "outputs": [],
   "source": [
    "#CRA-B test\n",
    "from src.assets.regions import test_regions"
   ]
  },
  {
   "cell_type": "code",
   "execution_count": null,
   "id": "a4cccf49",
   "metadata": {},
   "outputs": [],
   "source": [
    "def draw_dilep_test_closure(reg, draw_sig=False):\n",
    "    fig, ax, rax = ratio_plot_template(figsize=(10,10))\n",
    "    sp = sp6\n",
    "    \n",
    "    feature = 'DiLepMass'\n",
    "        \n",
    "    sp.rebin = reg_dict['CR10'].bin_edges\n",
    "    sp.x_range = (120, 400)\n",
    "    bhist = sp.draw_background(ax, feature, reg, sys_label='Stat. + Sys.', errorbar=False, nom_color='grey', make_density=1)\n",
    "    #sp.scale = 10/1600\n",
    "    _ = sp.draw_data(ax, feature, reg, make_density=0)\n",
    "    print(reg, _.calc_sum())\n",
    "    if  draw_sig: _ = sp.draw_signals(ax, feature, reg, make_density=1)\n",
    "    \n",
    "    if ('SR' in reg): kwargs = {\"label\": \"ABCD\", \"zorder\": 4}\n",
    "    else: kwargs = {\"label\": \"Observed Fit\", \"color\": \"red\", \"zorder\": 4}\n",
    "    #reg_dict[reg].make_density_hist().draw(ax,**kwargs)\n",
    "    \n",
    "    ax.legend(ncol=2, title=reg.replace(\"_\", \" \"))\n",
    "    ax.set_yscale('log')\n",
    "    ax.set_ylim(1e-2, 1e5)\n",
    "    cms_format_fig(era, ax, \"\\emph{Simulation}\")\n",
    "    ax.set_ylabel(\"Events per GeV\")\n",
    "    \n",
    "    ax.set_xlabel('$m_{\\ell\\ell}$ [GeV]')\n",
    "    \n",
    "    #ratio\n",
    "    x = bhist.calc_bin_centers()\n",
    "    rax.plot(x, np.full(len(x), .5) , color='black', linestyle=':')\n",
    "    rax.plot(x, np.full(len(x), 1) , color='black')\n",
    "    rax.plot(x, np.full(len(x), 1.5) , color='black', linestyle=':') \n",
    "    rax.set_ylim(0,2)\n",
    "    rax.set_ylabel('Obs./MC')\n",
    "    if 'SR' in reg: \n",
    "        rax.set_ylabel('ABCD/MC')\n",
    "        \n",
    "    #reg_dict[reg].make_density_hist().calc_ratio(bhist.nominal).draw(rax, **kwargs)\n",
    "    bhist.calc_ratio(bhist.nominal).draw(rax, zorder=1, errorbar=False)\n",
    "    if not draw_sig: \n",
    "        fig.savefig('{}/stack_plots/{}_{}_{}_closure.pdf'.format(output_dir, feature, fstring_era, reg))\n",
    "    else:\n",
    "        ax.legend(ncol=3)\n",
    "        fig.savefig('{}/stack_plots/{}_{}_{}_signal_closure.pdf'.format(output_dir, feature, fstring_era, reg))\n",
    "    sp.scale = 1"
   ]
  },
  {
   "cell_type": "code",
   "execution_count": null,
   "id": "0b114596",
   "metadata": {
    "scrolled": false
   },
   "outputs": [],
   "source": [
    "for reg in test_regions:\n",
    "    print(reg)\n",
    "    draw_dilep_test_closure(reg, draw_sig=False)"
   ]
  },
  {
   "cell_type": "code",
   "execution_count": null,
   "id": "a86d9bbb",
   "metadata": {},
   "outputs": [],
   "source": []
  }
 ],
 "metadata": {
  "kernelspec": {
   "display_name": "bff_12_1",
   "language": "python",
   "name": "bff_12_1"
  },
  "language_info": {
   "codemirror_mode": {
    "name": "ipython",
    "version": 3
   },
   "file_extension": ".py",
   "mimetype": "text/x-python",
   "name": "python",
   "nbconvert_exporter": "python",
   "pygments_lexer": "ipython3",
   "version": "3.9.6"
  }
 },
 "nbformat": 4,
 "nbformat_minor": 5
}
