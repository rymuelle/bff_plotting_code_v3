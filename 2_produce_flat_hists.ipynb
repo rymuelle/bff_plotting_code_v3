{
 "cells": [
  {
   "cell_type": "code",
   "execution_count": null,
   "id": "78115bf1-c74c-4744-8be4-a7a73206cc32",
   "metadata": {
    "scrolled": false
   },
   "outputs": [],
   "source": [
    "%load_ext autoreload\n",
    "%autoreload 2"
   ]
  },
  {
   "cell_type": "code",
   "execution_count": null,
   "id": "42dc12f2",
   "metadata": {},
   "outputs": [],
   "source": [
    "from src.general.make_noise import beep_on_error, beep_repeat, beep\n",
    "beep_on_error()"
   ]
  },
  {
   "cell_type": "code",
   "execution_count": null,
   "id": "5a989c37-c113-46fd-b26f-6fd000074d64",
   "metadata": {
    "scrolled": false
   },
   "outputs": [],
   "source": [
    "import pandas as pd\n",
    "import numpy as np\n",
    "from src.data_tools.filename_skim_tools import regex_select, get_files, make_df\n",
    "from src.data_tools.bff_meta import preselection, band_cut, isin, identity, all_reg, jet_variations\n",
    "from src.data_tools.bff_cuts import *\n",
    "\n",
    "from glob import glob\n",
    "import re"
   ]
  },
  {
   "cell_type": "code",
   "execution_count": null,
   "id": "00400b5b",
   "metadata": {
    "scrolled": false
   },
   "outputs": [],
   "source": [
    "def one_in(list_of_strings, test_string):\n",
    "    for string_in in list_of_strings:\n",
    "        if string_in in test_string: return True\n",
    "    return False"
   ]
  },
  {
   "cell_type": "code",
   "execution_count": null,
   "id": "fe9058f0",
   "metadata": {},
   "outputs": [],
   "source": [
    "from src.data_tools.get_file_list import get_file_df\n",
    "from src.data_tools.get_data import get_data\n",
    "from src.data_tools.apply_cuts_v2 import  process_sample"
   ]
  },
  {
   "cell_type": "code",
   "execution_count": null,
   "id": "5c619a8c",
   "metadata": {},
   "outputs": [],
   "source": [
    "output_dir = 'assets_feb_23'"
   ]
  },
  {
   "cell_type": "code",
   "execution_count": null,
   "id": "894fd008-4063-4462-8b0f-cc8e684db55d",
   "metadata": {
    "scrolled": false
   },
   "outputs": [],
   "source": [
    "era = 2016\n",
    "file_df = get_file_df(path = \"{}/data\".format(output_dir))\n",
    "file_df = file_df[file_df.era==era]\n",
    "file_df.reset_index(inplace=True)"
   ]
  },
  {
   "cell_type": "code",
   "execution_count": null,
   "id": "baa48456",
   "metadata": {},
   "outputs": [],
   "source": [
    "##\n",
    "## hist making\n",
    "##"
   ]
  },
  {
   "cell_type": "code",
   "execution_count": null,
   "id": "52cab592",
   "metadata": {},
   "outputs": [],
   "source": [
    "from src.plotting_tools.Bins import Bins, bins, binning_type\n",
    "from src.plotting_tools.cms_format import cms_format_fig, cms_style\n",
    "from src.plotting_tools.colors import color_fader\n",
    "from src.assets.regions import nJets, regions, region_and_label\n",
    "from src.assets.file_groups import bck_dict, bck_list, bck_colors\n",
    "from src.plotting_tools.draw_stack_plot_hists import draw_bckground, draw_signals, draw_data, draw_stackplot\n",
    "from src.plotting_tools.latexAssets import HTLT, RelMET\n",
    "import matplotlib.pyplot as plt\n",
    "\n",
    "from src.plotting_tools.SysHist import make_sys_hist, SysHist\n",
    "\n",
    "from src.assets.lumi import lumi_dict\n",
    "lumi = lumi_dict[str(era)]"
   ]
  },
  {
   "cell_type": "code",
   "execution_count": null,
   "id": "2e6270f9",
   "metadata": {},
   "outputs": [],
   "source": [
    "hists = {\n",
    "\"DiLepMass\": (Bins(np.linspace(105, 900, (900-105)+1)), 1), \n",
    "\"HTLT\": (Bins(np.linspace(-800,800,100)), .1), \n",
    "\"RelMET\": (Bins(np.linspace(0, 2,100)), .1), \n",
    "\"minGoodJetElDR\": (Bins(np.linspace(0,5,100)), .1), \n",
    "}"
   ]
  },
  {
   "cell_type": "code",
   "execution_count": null,
   "id": "87f19dc1",
   "metadata": {},
   "outputs": [],
   "source": [
    "draw_inline = True\n",
    "if draw_inline:\n",
    "    plt.ion()\n",
    "else:\n",
    "    plt.ioff()"
   ]
  },
  {
   "cell_type": "code",
   "execution_count": null,
   "id": "2b5f5897",
   "metadata": {},
   "outputs": [],
   "source": [
    "def make_hist_dict(row, reg, feature):\n",
    "    bins, select_level = hists[feature]\n",
    "    isdata = row.type=='data'\n",
    "    \n",
    "    hist = make_sys_hist(df, feature, reg, bin_edges=bins.bin_edges,\n",
    "                     ind_sys_hist=False, select_level=select_level, \n",
    "                         isdata=isdata)\n",
    "    \n",
    "    hist_dict = hist.to_dict()\n",
    "    \n",
    "    hist_dict['reg'] = reg\n",
    "    hist_dict['feature'] = feature\n",
    "    if feature=='minGoodJetElDR': print(reg, feature, hist.nominal.sum())\n",
    "    return {**row.to_dict(), **hist_dict}\n",
    "    "
   ]
  },
  {
   "cell_type": "code",
   "execution_count": null,
   "id": "8d27c634",
   "metadata": {
    "scrolled": true
   },
   "outputs": [],
   "source": [
    "hist_list = []\n",
    "first_iter = 0\n",
    "for i, row in file_df.iterrows():\n",
    "    print(\"-----\")\n",
    "    df = process_sample(row, era, verbose=True, trigger_fix=True)\n",
    "    for reg in regions:\n",
    "        for hist in hists:\n",
    "            hist_list.append(make_hist_dict(row, reg, hist))\n",
    "            \n",
    "    del df\n",
    "    \n",
    "pd.DataFrame(hist_list).to_pickle('{}/data/combined_{}_flat_hist.pkl'.format(output_dir, era))"
   ]
  },
  {
   "cell_type": "code",
   "execution_count": null,
   "id": "bbe5c93d",
   "metadata": {},
   "outputs": [],
   "source": [
    "pd.DataFrame(hist_list).to_pickle('{}/data/combined_{}_flat_hist.pkl'.format(output_dir, era))"
   ]
  },
  {
   "cell_type": "code",
   "execution_count": null,
   "id": "4aa49517",
   "metadata": {
    "scrolled": true
   },
   "outputs": [],
   "source": [
    "beep_repeat()"
   ]
  },
  {
   "cell_type": "code",
   "execution_count": null,
   "id": "15f34e76",
   "metadata": {},
   "outputs": [],
   "source": [
    "test_df = pd.read_pickle('{}/data/combined_{}_flat_hist.pkl'.format(output_dir, era))"
   ]
  },
  {
   "cell_type": "code",
   "execution_count": null,
   "id": "2d625892",
   "metadata": {},
   "outputs": [],
   "source": [
    "fig, ax = plt.subplots(1)\n",
    "hist = SysHist.from_dict(test_df.iloc[20].to_dict())\n",
    "hist.draw(ax)\n",
    "print(hist.sys_summary())"
   ]
  },
  {
   "cell_type": "code",
   "execution_count": null,
   "id": "9a71725c",
   "metadata": {},
   "outputs": [],
   "source": [
    "fig, ax = plt.subplots(1)\n",
    "SysHist.from_dict(hist_list[20]).draw(ax)"
   ]
  }
 ],
 "metadata": {
  "kernelspec": {
   "display_name": "bff_12_1",
   "language": "python",
   "name": "bff_12_1"
  },
  "language_info": {
   "codemirror_mode": {
    "name": "ipython",
    "version": 3
   },
   "file_extension": ".py",
   "mimetype": "text/x-python",
   "name": "python",
   "nbconvert_exporter": "python",
   "pygments_lexer": "ipython3",
   "version": "3.9.6"
  }
 },
 "nbformat": 4,
 "nbformat_minor": 5
}
