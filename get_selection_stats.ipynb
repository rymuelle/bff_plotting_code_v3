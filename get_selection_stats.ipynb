{
 "cells": [
  {
   "cell_type": "code",
   "execution_count": null,
   "id": "recognized-flush",
   "metadata": {},
   "outputs": [],
   "source": [
    "import pickle\n",
    "import numpy as np\n",
    "from bff_processor.plotting_utils import meta_df, make_stack, plot_w_error\n",
    "from bff_processor.utils import make_view, ratio_plot_template, nratio_plot_template\n",
    "import matplotlib.pyplot as plt\n",
    "import matplotlib.gridspec as gridspec\n",
    "import mplhep as hep\n",
    "hep.set_style(hep.style.CMS)\n",
    "import pickle\n",
    "import pandas as pd"
   ]
  },
  {
   "cell_type": "code",
   "execution_count": null,
   "id": "logical-sarah",
   "metadata": {
    "tags": []
   },
   "outputs": [],
   "source": [
    "lumi=35.5\n",
    "pkl_name = '2016_reg_dict_DiLepMass_105'\n",
    "with open(pkl_name+'.pkl','rb') as f:\n",
    "    reg_dict_temp = pickle.load(f)"
   ]
  },
  {
   "cell_type": "code",
   "execution_count": null,
   "id": "b6168442-159e-4978-ac6c-372c3c5fd883",
   "metadata": {},
   "outputs": [],
   "source": [
    "region_count_dict = {}\n",
    "for key in reg_dict_temp:\n",
    "    snom, _, _, bin_center, color, label = make_stack(meta_df[meta_df.type=='background'],reg_dict_temp, key, sum_hist=False)\n",
    "    region_count_dict[key] = {l:np.sum(x) for l,x in zip(label,snom)}\n",
    "    print([np.sum(x) for x in snom])"
   ]
  },
  {
   "cell_type": "code",
   "execution_count": null,
   "id": "d46dccc8-3b97-41b2-b073-c69e247f5361",
   "metadata": {},
   "outputs": [],
   "source": [
    "pd.DataFrame(region_count_dict).to_"
   ]
  },
  {
   "cell_type": "code",
   "execution_count": null,
   "id": "gothic-geneva",
   "metadata": {},
   "outputs": [],
   "source": [
    "reg = 'SR1_{}'\n",
    "snom, _, _, bin_center, color, label = make_stack(meta_df[meta_df.type=='background'],reg_dict_temp, reg, sum_hist=False)\n",
    "SR1 = [np.sum(x) for x in snom]"
   ]
  },
  {
   "cell_type": "code",
   "execution_count": null,
   "id": "ruled-application",
   "metadata": {},
   "outputs": [],
   "source": [
    "reg = 'SR2_{}'\n",
    "snom, _, _, bin_center, color, label = make_stack(meta_df[meta_df.type=='background'],reg_dict_temp, reg, sum_hist=False)\n",
    "SR2 = [np.sum(x) for x in snom]"
   ]
  },
  {
   "cell_type": "code",
   "execution_count": null,
   "id": "12bb5c7f-e128-4846-a87b-8d3fffc3409b",
   "metadata": {},
   "outputs": [],
   "source": [
    "reg = 'CR13_{}'\n",
    "snom, _, _, bin_center, color, label = make_stack(meta_df[meta_df.type=='background'],reg_dict_temp, reg, sum_hist=False)\n",
    "CR13 = [np.sum(x) for x in snom]"
   ]
  },
  {
   "cell_type": "code",
   "execution_count": null,
   "id": "6ca05cd7-82be-4d4d-bb4a-5fa0630f7afc",
   "metadata": {},
   "outputs": [],
   "source": [
    "reg = 'CR23_{}'\n",
    "snom, _, _, bin_center, color, label = make_stack(meta_df[meta_df.type=='background'],reg_dict_temp, reg, sum_hist=False)\n",
    "CR23 = [np.sum(x) for x in snom]"
   ]
  },
  {
   "cell_type": "code",
   "execution_count": null,
   "id": "4ffc064f-f9c8-444a-b557-d07e85d9992c",
   "metadata": {},
   "outputs": [],
   "source": [
    "print('{} & {} & {} & {} & {}\\\\\\\\'.format('','mumu_1b','mumu_1b1j','ee_1b', 'ee_1b1j'))\n",
    "for x in zip(label,SR1,SR2,CR13,CR23):\n",
    "    print('{} & {:.2f} & {:.2f} & {:.2f} & {:.2f} \\\\\\\\'.format(*x))"
   ]
  },
  {
   "cell_type": "code",
   "execution_count": null,
   "id": "df2b5b5d-09b2-4e8b-83f4-5cd32b302082",
   "metadata": {},
   "outputs": [],
   "source": [
    "import pandas as pd\n",
    "from pandas import DataFrame\n",
    "import numpy as np\n",
    "from bff_processor.SampleManager import SampleManager, SampleManagerPlotting\n",
    "from bff_processor.SampleStack import SampleStack\n",
    "from bff_processor.utils import make_view\n",
    "import matplotlib.pyplot as plt\n",
    "import mplhep as hep\n",
    "import pprint\n",
    "import matplotlib.gridspec as gridspec\n",
    "hep.set_style(hep.style.CMS)\n",
    "from uncertainties import ufloat"
   ]
  },
  {
   "cell_type": "code",
   "execution_count": null,
   "id": "b7e9a572-82d3-40bf-bb12-5b8fc9a75997",
   "metadata": {},
   "outputs": [],
   "source": [
    "era = 2016"
   ]
  },
  {
   "cell_type": "code",
   "execution_count": null,
   "id": "f1a620ff-c77c-4f35-b499-6c041da68d11",
   "metadata": {},
   "outputs": [],
   "source": [
    "sample_list =[\n",
    "   \n",
    "['data/tw_{}_ZToEE_M_120_200.csv'.format(era), 'ZToEE_M_120_200', 'DY', 'bkc', 'red'],\n",
    "['data/tw_{}_ZToEE_M_200_400.csv'.format(era), 'ZToEE_M_200_400', 'DY', 'bkc', 'red'],\n",
    "['data/tw_{}_ZToEE_M_400_800.csv'.format(era), 'ZToEE_M_400_800', 'DY', 'bkc', 'red'],\n",
    "['data/tw_{}_ZToEE_M_50_120.csv'.format(era), 'ZToEE_M_50_120', 'DY', 'bkc', 'red'],\n",
    "['data/tw_{}_ZToEE_M_800_1400.csv'.format(era), 'ZToEE_M_800_1400', 'DY', 'bkc', 'red'],\n",
    "['data/tw_{}_ZToMuMu_M_120_200.csv'.format(era), 'ZToMuMu_M_120_200', 'DY', 'bkc', 'red'],\n",
    "['data/tw_{}_ZToMuMu_M_200_400.csv'.format(era), 'ZToMuMu_M_200_400', 'DY', 'bkc', 'red'],\n",
    "['data/tw_{}_ZToMuMu_M_400_800.csv'.format(era), 'ZToMuMu_M_400_800', 'DY', 'bkc', 'red'],\n",
    "['data/tw_{}_ZToMuMu_M_50_120.csv'.format(era), 'ZToMuMu_M_50_120', 'DY', 'bkc', 'red'],\n",
    "['data/tw_{}_ZToMuMu_M_800_1400.csv'.format(era), 'ZToMuMu_M_800_1400', 'DY', 'bkc', 'red'],\n",
    "    \n",
    "['data/tw_{}_mc_santitop.csv'.format(era), 'mc_santitop', 'ST', 'bkc', 'green'],\n",
    "['data/tw_{}_mc_stop.csv'.format(era), 'mc_stop', 'ST', 'bkc', 'green'],\n",
    "['data/tw_{}_mc_ttbar.csv'.format(era), 'mc_ttbar', 'TT', 'bkc', 'orange'],\n",
    "['data/tw_{}_mc_ww.csv'.format(era), 'mc_ww', 'WW/WZ/ZZ', 'bkc', 'purple'],\n",
    "['data/tw_{}_mc_wz.csv'.format(era), 'mc_wz', 'WW/WZ/ZZ', 'bkc', 'purple'],\n",
    "['data/tw_{}_mc_zz.csv'.format(era), 'mc_zz', 'WW/WZ/ZZ', 'bkc', 'purple']]\n",
    "    \n"
   ]
  },
  {
   "cell_type": "code",
   "execution_count": null,
   "id": "7fb685b1-6edc-4300-852e-53ae4b0d4bb9",
   "metadata": {},
   "outputs": [],
   "source": [
    "stack = SampleStack(sample_list=sample_list)"
   ]
  },
  {
   "cell_type": "code",
   "execution_count": null,
   "id": "fcae3516-e1d8-4a5a-b1c1-829877587370",
   "metadata": {},
   "outputs": [],
   "source": [
    "weights = [\n",
    "['Weight_PuUp','Weight_PuDown'],\n",
    "['Weight_BTagUp','Weight_BTagDown'],\n",
    "['Weight_PUIDUp','Weight_PUIDDown'],\n",
    "['Weight_PDF_ISRFSR_Up','Weight_PDF_ISRFSR_Down'],\n",
    "['Weight_MuonSFUp','Weight_MuonSFDown'],\n",
    "['Weight_ElectronSFUp','Weight_ElectronSFDown'],]\n",
    "regions = ['SR{}_{{}}','CR{}0_{{}}', 'CR{}3_{{}}', 'CR{}4_{{}}']\n",
    "nJets = [1,2]\n",
    "jes_var = [['jesDown', 'jesUp'], ['jerDown', 'jerUp']]\n",
    "BFF_cuts =  ['HTLT_{}', 'RelMET_{}', 'SBM_{}']\n",
    "def def_BFF_cuts(jv, nJet):\n",
    "    t1 =  [bff.format(jv) for bff in BFF_cuts]\n",
    "    return(list(zip(t1,BFF_cut_values[nJet])))\n",
    "\n",
    "BFF_cut_values ={1:[-18,.3125,18.75], 2:[-10,.2625,1.25]}\n",
    "def make_view(jv,nJets, region): \n",
    "    bff = def_BFF_cuts(jv, nJets)\n",
    "    view_dict = {'lt': {'DiLepMass': np.inf, bff[0][0]: bff[0][1], bff[1][0]: bff[1][1]},\n",
    "         'gt': {'DiLepMass': -np.inf, bff[2][0]: bff[2][1]},\n",
    "         'eq': { region.format(nJets).format(jv): 1},\n",
    "         'eq': {'Flag_METFilters': 1, region.format(nJets).format(jv): 1}}\n",
    "    return view_dict"
   ]
  },
  {
   "cell_type": "code",
   "execution_count": null,
   "id": "8906a82b-0220-4913-a7ce-2df0b33cd862",
   "metadata": {},
   "outputs": [],
   "source": [
    "\n",
    "view = make_view('nominal',1,'CR{}0_{{}}')\n",
    "stack.view = view\n",
    "\n",
    "for smp in stack.SMP():\n",
    "    print(smp.name, smp.total(sumW2=1))\n",
    "#nom_hist = stack.sum_hists(column, bins, w_kwargs={'weight_names':['Weight']},label='DY')"
   ]
  },
  {
   "cell_type": "code",
   "execution_count": null,
   "id": "49212f00-468c-4542-b22a-712e27af7bc6",
   "metadata": {},
   "outputs": [],
   "source": [
    "region_count_dict = {}\n",
    "for key in reg_dict_temp:\n",
    "    nJets=1\n",
    "    key= (key.format('{{}}'))\n",
    "    if key[2]=='2': nJets=2\n",
    "    view = make_view('nominal',nJets,key)\n",
    "    print(view)\n",
    "    stack.view = view\n",
    "    region_count_dict[key] = {smp.name: ufloat(*smp.total(sumW2=1)) for smp in stack.SMP()}\n",
    "    #print([np.sum(x) for x in snom])"
   ]
  },
  {
   "cell_type": "code",
   "execution_count": null,
   "id": "fef7f633-b57a-4624-b5fd-1760a7688845",
   "metadata": {},
   "outputs": [],
   "source": [
    "df = pd.DataFrame(region_count_dict)"
   ]
  },
  {
   "cell_type": "code",
   "execution_count": null,
   "id": "0fcd03ce-eaee-482b-be76-db41fcda8f10",
   "metadata": {},
   "outputs": [],
   "source": [
    "df"
   ]
  },
  {
   "cell_type": "code",
   "execution_count": null,
   "id": "17903795-2ec0-4782-9b8f-d79e1b56d9e4",
   "metadata": {},
   "outputs": [],
   "source": []
  },
  {
   "cell_type": "code",
   "execution_count": null,
   "id": "73180b6d-9321-4310-9e62-26a0e13d804a",
   "metadata": {},
   "outputs": [],
   "source": [
    "import re\n",
    "columns = df.columns\n",
    "onejet = [c for c in columns if re.match('(SR|CR)1[0-9]*',c)]\n",
    "twojet = [c for c in columns if re.match('(SR|CR)2[0-9]*',c)]\n",
    "onejet = ['SR1_{{}}',  'CR13_{{}}',  'CR10_{{}}','CR14_{{}}']\n",
    "twojet = ['SR2_{{}}', 'CR23_{{}}', 'CR20_{{}}',  'CR24_{{}}']\n",
    "\n",
    "dfone = df[onejet]\n",
    "dtwo = df[twojet]"
   ]
  },
  {
   "cell_type": "code",
   "execution_count": null,
   "id": "efbd6f51-22a8-49b5-bc46-e1b3127bfa4c",
   "metadata": {},
   "outputs": [],
   "source": [
    "twojet"
   ]
  },
  {
   "cell_type": "code",
   "execution_count": null,
   "id": "b7b7b751-42fa-443a-9baf-a74c9b3ce143",
   "metadata": {},
   "outputs": [],
   "source": [
    "dfone #re.findall('((?:SR|CR)2[0-9]*)',c)[0]"
   ]
  },
  {
   "cell_type": "code",
   "execution_count": null,
   "id": "2f8681ec-a44d-467c-9d7b-6af6a483290f",
   "metadata": {},
   "outputs": [],
   "source": [
    "def reduce_df(df):\n",
    "    dy_sum = df.iloc[0:10].sum(axis=0)\n",
    "    dy_sum.name='mc_DY'\n",
    "    df = df.append(dy_sum)\n",
    "    df.drop(index=df.iloc[0:10, :].index.tolist(), inplace=True)\n",
    "    dy_sum = df.iloc[0:2].sum(axis=0)\n",
    "    dy_sum.name='mc_ST'\n",
    "    df = df.append(dy_sum)\n",
    "    df.drop(index=df.iloc[0:2, :].index.tolist(), inplace=True)\n",
    "    return df"
   ]
  },
  {
   "cell_type": "code",
   "execution_count": null,
   "id": "ee57f984-a02d-4c8a-8dab-23ab377482e6",
   "metadata": {},
   "outputs": [],
   "source": [
    "dfone = reduce_df(dfone)\n",
    "dtwo = reduce_df(dtwo)"
   ]
  },
  {
   "cell_type": "code",
   "execution_count": null,
   "id": "c0f4918c-0be1-4c6f-b050-77107f47fd22",
   "metadata": {},
   "outputs": [],
   "source": [
    "dfone.sort_values(by=['SR1_{{}}'])"
   ]
  },
  {
   "cell_type": "code",
   "execution_count": null,
   "id": "f27a6259-2429-4b7f-91ee-50ac14ae4c7f",
   "metadata": {},
   "outputs": [],
   "source": [
    "dfone.divide(dfone.sum(axis=0)).sort_values(by=['SR1_{{}}'])"
   ]
  },
  {
   "cell_type": "code",
   "execution_count": null,
   "id": "f38c1349-ca41-48a4-9cd3-899a4db68e8f",
   "metadata": {},
   "outputs": [],
   "source": [
    "print(dfone.sort_values(by=['SR1_{{}}']).to_latex())"
   ]
  },
  {
   "cell_type": "code",
   "execution_count": null,
   "id": "13e926b1-7870-4df6-95b6-21f5e6eb5fb9",
   "metadata": {},
   "outputs": [],
   "source": [
    "print((dfone.divide(dfone.sum(axis=0))*100).round(1).sort_values(by=['SR1_{{}}']).to_latex())"
   ]
  },
  {
   "cell_type": "code",
   "execution_count": null,
   "id": "cd5cfdfa-b83d-48e1-a34e-a65556fa411b",
   "metadata": {},
   "outputs": [],
   "source": [
    "print(dtwo.sort_values(by=['SR2_{{}}']).apply(lambda x : x.map(lambda y: y.nominal_value), axis=1).round(1).to_latex())\n",
    "print((dtwo.divide(dtwo.sum(axis=0))*100).round(1).sort_values(by=['SR2_{{}}']).to_latex())"
   ]
  },
  {
   "cell_type": "code",
   "execution_count": null,
   "id": "a98086e7-c302-439d-a8a4-68b4342dc413",
   "metadata": {},
   "outputs": [],
   "source": [
    "print(dfone.sort_values(by=['SR1_{{}}']).apply(lambda x : x.map(lambda y: y.nominal_value), axis=1).round(1).to_latex())\n",
    "print((dfone.divide(dfone.sum(axis=0))*100).round(1).sort_values(by=['SR1_{{}}']).to_latex())"
   ]
  },
  {
   "cell_type": "code",
   "execution_count": null,
   "id": "6a73a62a-0631-47e1-ae73-c2be8e1c7bf0",
   "metadata": {},
   "outputs": [],
   "source": []
  }
 ],
 "metadata": {
  "kernelspec": {
   "display_name": "bff_plotting",
   "language": "python",
   "name": "bff_plotting"
  },
  "language_info": {
   "codemirror_mode": {
    "name": "ipython",
    "version": 3
   },
   "file_extension": ".py",
   "mimetype": "text/x-python",
   "name": "python",
   "nbconvert_exporter": "python",
   "pygments_lexer": "ipython3",
   "version": "3.8.5"
  }
 },
 "nbformat": 4,
 "nbformat_minor": 5
}
