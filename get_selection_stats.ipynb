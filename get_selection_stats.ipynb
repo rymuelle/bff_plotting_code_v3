{
 "cells": [
  {
   "cell_type": "code",
   "execution_count": 46,
   "id": "recognized-flush",
   "metadata": {},
   "outputs": [],
   "source": [
    "import pandas as pd\n",
    "import pyarrow.feather as feather\n",
    "import numpy as np\n",
    "from uncertainties import ufloat"
   ]
  },
  {
   "cell_type": "code",
   "execution_count": 8,
   "id": "logical-sarah",
   "metadata": {
    "tags": []
   },
   "outputs": [],
   "source": [
    "era='2017'\n",
    "import os \n",
    "os.listdir('data')\n",
    "\n",
    "df = feather.read_feather('data/combined_{}.feather'.format(era))"
   ]
  },
  {
   "cell_type": "code",
   "execution_count": 25,
   "id": "3dbe2448-afec-42a8-aee8-69317c8c5246",
   "metadata": {},
   "outputs": [],
   "source": [
    "df_bck = df[df.type=='bck']\n",
    "names = {'DY':['ZToEE_M_120_200', 'ZToEE_M_200_400', 'ZToEE_M_400_800',\n",
    "       'ZToEE_M_50_120', 'ZToEE_M_800_1400', 'ZToMuMu_M_120_200',\n",
    "       'ZToMuMu_M_200_400', 'ZToMuMu_M_400_800', 'ZToMuMu_M_50_120',\n",
    "       'ZToMuMu_M_800_1400'],\n",
    "        'TT':['mc_ttbar'],\n",
    "        'ST':['mc_santitop', 'mc_stop'],\n",
    "        'VB':['mc_ww', 'mc_wz', 'mc_zz']}"
   ]
  },
  {
   "cell_type": "code",
   "execution_count": 17,
   "id": "78ecadef-fdce-4693-9921-158db771063f",
   "metadata": {},
   "outputs": [],
   "source": [
    "regions = ['SR{}_nom', 'CR{}3_nom','CR{}0_nom','CR{}4_nom']\n",
    "nJets = [1,2]"
   ]
  },
  {
   "cell_type": "code",
   "execution_count": 49,
   "id": "a097be49-4e4d-4f62-a8fa-c79edbcf31a5",
   "metadata": {},
   "outputs": [],
   "source": [
    "name_dict = {}\n",
    "for name, namelist in names.items():\n",
    "    region_dict = {}\n",
    "    for nJet in nJets:  \n",
    "        for reg in regions:\n",
    "            reg = reg.format(nJet)\n",
    "            sum_val = df_bck[(df_bck[reg]==1) & (df_bck.name.isin(namelist))]['Weight'].sum().round()\n",
    "            sumw2 =  df_bck[(df_bck[reg]==1) & (df_bck.name.isin(namelist))]['Weight'].to_numpy()\n",
    "            region_dict[reg] = ufloat(sum_val,np.sum(sumw2**2)**.5)\n",
    "    name_dict[name] = region_dict"
   ]
  },
  {
   "cell_type": "code",
   "execution_count": 51,
   "id": "4a8e65fe-451f-4088-b9dc-37d057b645a8",
   "metadata": {},
   "outputs": [],
   "source": [
    "df = pd.DataFrame(name_dict)"
   ]
  },
  {
   "cell_type": "code",
   "execution_count": 52,
   "id": "cd863221-fb42-4c73-9f9c-9c8fb530acfd",
   "metadata": {},
   "outputs": [
    {
     "data": {
      "text/html": [
       "<div>\n",
       "<style scoped>\n",
       "    .dataframe tbody tr th:only-of-type {\n",
       "        vertical-align: middle;\n",
       "    }\n",
       "\n",
       "    .dataframe tbody tr th {\n",
       "        vertical-align: top;\n",
       "    }\n",
       "\n",
       "    .dataframe thead th {\n",
       "        text-align: right;\n",
       "    }\n",
       "</style>\n",
       "<table border=\"1\" class=\"dataframe\">\n",
       "  <thead>\n",
       "    <tr style=\"text-align: right;\">\n",
       "      <th></th>\n",
       "      <th>DY</th>\n",
       "      <th>TT</th>\n",
       "      <th>ST</th>\n",
       "      <th>VB</th>\n",
       "    </tr>\n",
       "  </thead>\n",
       "  <tbody>\n",
       "    <tr>\n",
       "      <th>SR1_nom</th>\n",
       "      <td>(2.63+/-0.21)e+03</td>\n",
       "      <td>(2.82+/-0.05)e+03</td>\n",
       "      <td>604+/-11</td>\n",
       "      <td>16.0+/-2.3</td>\n",
       "    </tr>\n",
       "    <tr>\n",
       "      <th>CR13_nom</th>\n",
       "      <td>(1.82+/-0.15)e+03</td>\n",
       "      <td>(2.13+/-0.05)e+03</td>\n",
       "      <td>469+/-10</td>\n",
       "      <td>16.0+/-2.4</td>\n",
       "    </tr>\n",
       "    <tr>\n",
       "      <th>CR10_nom</th>\n",
       "      <td>(4.94+/-0.08)e+04</td>\n",
       "      <td>(1.47+/-0.04)e+03</td>\n",
       "      <td>334+/-9</td>\n",
       "      <td>247+/-10</td>\n",
       "    </tr>\n",
       "    <tr>\n",
       "      <th>CR14_nom</th>\n",
       "      <td>(3.94+/-0.07)e+04</td>\n",
       "      <td>(1.20+/-0.04)e+03</td>\n",
       "      <td>266+/-8</td>\n",
       "      <td>212+/-9</td>\n",
       "    </tr>\n",
       "    <tr>\n",
       "      <th>SR2_nom</th>\n",
       "      <td>(7.4+/-1.0)e+02</td>\n",
       "      <td>(4.40+/-0.07)e+03</td>\n",
       "      <td>285+/-8</td>\n",
       "      <td>22.0+/-2.8</td>\n",
       "    </tr>\n",
       "    <tr>\n",
       "      <th>CR23_nom</th>\n",
       "      <td>(7.0+/-1.2)e+02</td>\n",
       "      <td>(3.44+/-0.06)e+03</td>\n",
       "      <td>217+/-7</td>\n",
       "      <td>14.0+/-2.2</td>\n",
       "    </tr>\n",
       "    <tr>\n",
       "      <th>CR20_nom</th>\n",
       "      <td>(8.4+/-0.4)e+03</td>\n",
       "      <td>854+/-32</td>\n",
       "      <td>85+/-4</td>\n",
       "      <td>112+/-7</td>\n",
       "    </tr>\n",
       "    <tr>\n",
       "      <th>CR24_nom</th>\n",
       "      <td>(7.1+/-0.4)e+03</td>\n",
       "      <td>639+/-28</td>\n",
       "      <td>70+/-4</td>\n",
       "      <td>96+/-7</td>\n",
       "    </tr>\n",
       "  </tbody>\n",
       "</table>\n",
       "</div>"
      ],
      "text/plain": [
       "                         DY                 TT        ST          VB\n",
       "SR1_nom   (2.63+/-0.21)e+03  (2.82+/-0.05)e+03  604+/-11  16.0+/-2.3\n",
       "CR13_nom  (1.82+/-0.15)e+03  (2.13+/-0.05)e+03  469+/-10  16.0+/-2.4\n",
       "CR10_nom  (4.94+/-0.08)e+04  (1.47+/-0.04)e+03   334+/-9    247+/-10\n",
       "CR14_nom  (3.94+/-0.07)e+04  (1.20+/-0.04)e+03   266+/-8     212+/-9\n",
       "SR2_nom     (7.4+/-1.0)e+02  (4.40+/-0.07)e+03   285+/-8  22.0+/-2.8\n",
       "CR23_nom    (7.0+/-1.2)e+02  (3.44+/-0.06)e+03   217+/-7  14.0+/-2.2\n",
       "CR20_nom    (8.4+/-0.4)e+03           854+/-32    85+/-4     112+/-7\n",
       "CR24_nom    (7.1+/-0.4)e+03           639+/-28    70+/-4      96+/-7"
      ]
     },
     "execution_count": 52,
     "metadata": {},
     "output_type": "execute_result"
    }
   ],
   "source": [
    "df"
   ]
  },
  {
   "cell_type": "code",
   "execution_count": 54,
   "id": "b6168442-159e-4978-ac6c-372c3c5fd883",
   "metadata": {},
   "outputs": [],
   "source": [
    "cr_sums = df.sum(axis=1)"
   ]
  },
  {
   "cell_type": "code",
   "execution_count": 56,
   "id": "d46dccc8-3b97-41b2-b073-c69e247f5361",
   "metadata": {},
   "outputs": [
    {
     "data": {
      "text/html": [
       "<div>\n",
       "<style scoped>\n",
       "    .dataframe tbody tr th:only-of-type {\n",
       "        vertical-align: middle;\n",
       "    }\n",
       "\n",
       "    .dataframe tbody tr th {\n",
       "        vertical-align: top;\n",
       "    }\n",
       "\n",
       "    .dataframe thead th {\n",
       "        text-align: right;\n",
       "    }\n",
       "</style>\n",
       "<table border=\"1\" class=\"dataframe\">\n",
       "  <thead>\n",
       "    <tr style=\"text-align: right;\">\n",
       "      <th></th>\n",
       "      <th>DY</th>\n",
       "      <th>TT</th>\n",
       "      <th>ST</th>\n",
       "      <th>VB</th>\n",
       "    </tr>\n",
       "  </thead>\n",
       "  <tbody>\n",
       "    <tr>\n",
       "      <th>SR1_nom</th>\n",
       "      <td>0.433+/-0.020</td>\n",
       "      <td>0.465+/-0.017</td>\n",
       "      <td>0.099+/-0.004</td>\n",
       "      <td>0.0026+/-0.0004</td>\n",
       "    </tr>\n",
       "    <tr>\n",
       "      <th>CR13_nom</th>\n",
       "      <td>0.410+/-0.020</td>\n",
       "      <td>0.481+/-0.017</td>\n",
       "      <td>0.106+/-0.004</td>\n",
       "      <td>0.0036+/-0.0005</td>\n",
       "    </tr>\n",
       "    <tr>\n",
       "      <th>CR10_nom</th>\n",
       "      <td>0.9601+/-0.0010</td>\n",
       "      <td>0.0286+/-0.0009</td>\n",
       "      <td>0.00649+/-0.00020</td>\n",
       "      <td>0.00480+/-0.00020</td>\n",
       "    </tr>\n",
       "    <tr>\n",
       "      <th>CR14_nom</th>\n",
       "      <td>0.9590+/-0.0012</td>\n",
       "      <td>0.0293+/-0.0010</td>\n",
       "      <td>0.00648+/-0.00023</td>\n",
       "      <td>0.00517+/-0.00024</td>\n",
       "    </tr>\n",
       "    <tr>\n",
       "      <th>SR2_nom</th>\n",
       "      <td>0.135+/-0.016</td>\n",
       "      <td>0.808+/-0.015</td>\n",
       "      <td>0.0523+/-0.0018</td>\n",
       "      <td>0.0040+/-0.0005</td>\n",
       "    </tr>\n",
       "    <tr>\n",
       "      <th>CR23_nom</th>\n",
       "      <td>0.159+/-0.023</td>\n",
       "      <td>0.788+/-0.022</td>\n",
       "      <td>0.0497+/-0.0021</td>\n",
       "      <td>0.0032+/-0.0005</td>\n",
       "    </tr>\n",
       "    <tr>\n",
       "      <th>CR20_nom</th>\n",
       "      <td>0.889+/-0.006</td>\n",
       "      <td>0.090+/-0.005</td>\n",
       "      <td>0.0090+/-0.0006</td>\n",
       "      <td>0.0119+/-0.0009</td>\n",
       "    </tr>\n",
       "    <tr>\n",
       "      <th>CR24_nom</th>\n",
       "      <td>0.898+/-0.006</td>\n",
       "      <td>0.081+/-0.005</td>\n",
       "      <td>0.0088+/-0.0007</td>\n",
       "      <td>0.0121+/-0.0010</td>\n",
       "    </tr>\n",
       "  </tbody>\n",
       "</table>\n",
       "</div>"
      ],
      "text/plain": [
       "                       DY               TT                 ST  \\\n",
       "SR1_nom     0.433+/-0.020    0.465+/-0.017      0.099+/-0.004   \n",
       "CR13_nom    0.410+/-0.020    0.481+/-0.017      0.106+/-0.004   \n",
       "CR10_nom  0.9601+/-0.0010  0.0286+/-0.0009  0.00649+/-0.00020   \n",
       "CR14_nom  0.9590+/-0.0012  0.0293+/-0.0010  0.00648+/-0.00023   \n",
       "SR2_nom     0.135+/-0.016    0.808+/-0.015    0.0523+/-0.0018   \n",
       "CR23_nom    0.159+/-0.023    0.788+/-0.022    0.0497+/-0.0021   \n",
       "CR20_nom    0.889+/-0.006    0.090+/-0.005    0.0090+/-0.0006   \n",
       "CR24_nom    0.898+/-0.006    0.081+/-0.005    0.0088+/-0.0007   \n",
       "\n",
       "                         VB  \n",
       "SR1_nom     0.0026+/-0.0004  \n",
       "CR13_nom    0.0036+/-0.0005  \n",
       "CR10_nom  0.00480+/-0.00020  \n",
       "CR14_nom  0.00517+/-0.00024  \n",
       "SR2_nom     0.0040+/-0.0005  \n",
       "CR23_nom    0.0032+/-0.0005  \n",
       "CR20_nom    0.0119+/-0.0009  \n",
       "CR24_nom    0.0121+/-0.0010  "
      ]
     },
     "execution_count": 56,
     "metadata": {},
     "output_type": "execute_result"
    }
   ],
   "source": [
    "df.divide(cr_sums, axis=0)"
   ]
  },
  {
   "cell_type": "code",
   "execution_count": 62,
   "id": "gothic-geneva",
   "metadata": {},
   "outputs": [
    {
     "name": "stdout",
     "output_type": "stream",
     "text": [
      "\\begin{tabular}{lllll}\n",
      "\\toprule\n",
      "{} &               DY &               TT &                 ST &                 VB \\\\\n",
      "\\midrule\n",
      "SR1\\_nom  &    0.433$\\pm$0.020 &    0.465$\\pm$0.017 &      0.099$\\pm$0.004 &    0.0026$\\pm$0.0004 \\\\\n",
      "CR13\\_nom &    0.410$\\pm$0.020 &    0.481$\\pm$0.017 &      0.106$\\pm$0.004 &    0.0036$\\pm$0.0005 \\\\\n",
      "CR10\\_nom &  0.9601$\\pm$0.0010 &  0.0286$\\pm$0.0009 &  0.00649$\\pm$0.00020 &  0.00480$\\pm$0.00020 \\\\\n",
      "CR14\\_nom &  0.9590$\\pm$0.0012 &  0.0293$\\pm$0.0010 &  0.00648$\\pm$0.00023 &  0.00517$\\pm$0.00024 \\\\\n",
      "SR2\\_nom  &    0.135$\\pm$0.016 &    0.808$\\pm$0.015 &    0.0523$\\pm$0.0018 &    0.0040$\\pm$0.0005 \\\\\n",
      "CR23\\_nom &    0.159$\\pm$0.023 &    0.788$\\pm$0.022 &    0.0497$\\pm$0.0021 &    0.0032$\\pm$0.0005 \\\\\n",
      "CR20\\_nom &    0.889$\\pm$0.006 &    0.090$\\pm$0.005 &    0.0090$\\pm$0.0006 &    0.0119$\\pm$0.0009 \\\\\n",
      "CR24\\_nom &    0.898$\\pm$0.006 &    0.081$\\pm$0.005 &    0.0088$\\pm$0.0007 &    0.0121$\\pm$0.0010 \\\\\n",
      "\\bottomrule\n",
      "\\end{tabular}\n",
      "\n"
     ]
    }
   ],
   "source": [
    "print(df.divide(cr_sums, axis=0).to_latex().replace(\"+/-\",\"$\\pm$\"))"
   ]
  },
  {
   "cell_type": "code",
   "execution_count": 63,
   "id": "ea39ab33-32c9-48d7-8f4d-713d8dd758b4",
   "metadata": {},
   "outputs": [
    {
     "name": "stdout",
     "output_type": "stream",
     "text": [
      "\\begin{tabular}{lllll}\n",
      "\\toprule\n",
      "{} &                 DY &                 TT &        ST &          VB \\\\\n",
      "\\midrule\n",
      "SR1\\_nom  &  (2.63$\\pm$0.21)e+03 &  (2.82$\\pm$0.05)e+03 &  604$\\pm$11 &  16.0$\\pm$2.3 \\\\\n",
      "CR13\\_nom &  (1.82$\\pm$0.15)e+03 &  (2.13$\\pm$0.05)e+03 &  469$\\pm$10 &  16.0$\\pm$2.4 \\\\\n",
      "CR10\\_nom &  (4.94$\\pm$0.08)e+04 &  (1.47$\\pm$0.04)e+03 &   334$\\pm$9 &    247$\\pm$10 \\\\\n",
      "CR14\\_nom &  (3.94$\\pm$0.07)e+04 &  (1.20$\\pm$0.04)e+03 &   266$\\pm$8 &     212$\\pm$9 \\\\\n",
      "SR2\\_nom  &    (7.4$\\pm$1.0)e+02 &  (4.40$\\pm$0.07)e+03 &   285$\\pm$8 &  22.0$\\pm$2.8 \\\\\n",
      "CR23\\_nom &    (7.0$\\pm$1.2)e+02 &  (3.44$\\pm$0.06)e+03 &   217$\\pm$7 &  14.0$\\pm$2.2 \\\\\n",
      "CR20\\_nom &    (8.4$\\pm$0.4)e+03 &           854$\\pm$32 &    85$\\pm$4 &     112$\\pm$7 \\\\\n",
      "CR24\\_nom &    (7.1$\\pm$0.4)e+03 &           639$\\pm$28 &    70$\\pm$4 &      96$\\pm$7 \\\\\n",
      "\\bottomrule\n",
      "\\end{tabular}\n",
      "\n"
     ]
    }
   ],
   "source": [
    "print(df.to_latex().replace(\"+/-\",\"$\\pm$\"))"
   ]
  },
  {
   "cell_type": "code",
   "execution_count": null,
   "id": "6a73a62a-0631-47e1-ae73-c2be8e1c7bf0",
   "metadata": {},
   "outputs": [],
   "source": []
  }
 ],
 "metadata": {
  "kernelspec": {
   "display_name": "bff_plotting",
   "language": "python",
   "name": "bff_plotting"
  },
  "language_info": {
   "codemirror_mode": {
    "name": "ipython",
    "version": 3
   },
   "file_extension": ".py",
   "mimetype": "text/x-python",
   "name": "python",
   "nbconvert_exporter": "python",
   "pygments_lexer": "ipython3",
   "version": "3.8.5"
  }
 },
 "nbformat": 4,
 "nbformat_minor": 5
}
