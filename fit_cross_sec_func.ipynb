{
 "cells": [
  {
   "cell_type": "code",
   "execution_count": null,
   "id": "ad1a4d7d",
   "metadata": {},
   "outputs": [],
   "source": [
    "import yaml as yml\n",
    "import numpy as np\n",
    "import pandas as pd\n",
    "import re\n",
    "import matplotlib.pyplot as plt\n",
    "from scipy.optimize import curve_fit"
   ]
  },
  {
   "cell_type": "code",
   "execution_count": null,
   "id": "43edf77f",
   "metadata": {},
   "outputs": [],
   "source": [
    "import mplhep as hep\n",
    "hep.style.use(hep.style.CMS)\n",
    "plt.rcParams.update({\n",
    "    \"text.usetex\": True,\n",
    "})"
   ]
  },
  {
   "cell_type": "code",
   "execution_count": null,
   "id": "effd7770-d4d0-466b-80cd-2e1f4db1d01f",
   "metadata": {},
   "outputs": [],
   "source": [
    "from plotting_meta.plotting_meta import cms_format_fig, color_cycle, lumi_dict\n",
    "from bff_processor.plotting_utils import color_fader"
   ]
  },
  {
   "cell_type": "code",
   "execution_count": null,
   "id": "773a5642",
   "metadata": {},
   "outputs": [],
   "source": [
    "plt.rcParams.update({\n",
    "    \"text.usetex\": False,\n",
    "    \"font.family\": \"sans-serif\",\n",
    "    \"font.sans-serif\": [\"Helvetica\"]})"
   ]
  },
  {
   "cell_type": "code",
   "execution_count": null,
   "id": "86bcaeec-7f27-452b-8055-b7b718a35f4e",
   "metadata": {},
   "outputs": [],
   "source": [
    "fnames = {2016:\"samplesCR_2016_Apr2020.yml\", \n",
    "          2017: \"samplesCR_2017_Apr2020.yml\",  \n",
    "          2018:\"samplesCR_2018_Apr2020.yml\"}\n",
    "era = '16-18'\n",
    "\n",
    "#fnames = {2016:\"samplesCR_2016_Apr2020.yml\"}\n",
    "#era = '2016'"
   ]
  },
  {
   "cell_type": "code",
   "execution_count": null,
   "id": "82279299",
   "metadata": {},
   "outputs": [],
   "source": [
    "def make_df(fnames):\n",
    "    xsec_df = pd.DataFrame()\n",
    "    for era, fname in fnames.items():\n",
    "        with open(fname,'r') as f:\n",
    "            sample_dict = yml.load(f, Loader=yml.FullLoader)\n",
    "        tdf = pd.DataFrame(sample_dict['samples'])[['name','xsec']]\n",
    "        tdf['era']  = era\n",
    "        xsec_df = xsec_df.append(tdf)\n",
    "    xsec_df.reset_index(inplace=True)\n",
    "    bff_index = xsec_df.name.map(lambda x: not \"BFF\" in x)\n",
    "    xsec_df.drop(xsec_df[bff_index].index, inplace=True)\n",
    "    return xsec_df\n",
    "        "
   ]
  },
  {
   "cell_type": "code",
   "execution_count": null,
   "id": "83808cab-a744-464c-8d01-b43e5743bf7c",
   "metadata": {},
   "outputs": [],
   "source": [
    "xsec_df = make_df(fnames)"
   ]
  },
  {
   "cell_type": "code",
   "execution_count": null,
   "id": "538ff9b4",
   "metadata": {},
   "outputs": [],
   "source": [
    "def format_dbs(x):\n",
    "    string = re.findall('dbs(\\dp\\d+)', x)[0]\n",
    "    return float('{}.{}'.format(*string.split('p')))"
   ]
  },
  {
   "cell_type": "code",
   "execution_count": null,
   "id": "709ab81b",
   "metadata": {},
   "outputs": [],
   "source": [
    "# format dbs gmu mass columns\n",
    "xsec_df['mass'] = xsec_df.name.map(lambda x:int(re.findall('_M_(\\d+)', x)[0]))\n",
    "xsec_df['dbs'] = xsec_df.name.map(lambda x:format_dbs(x))\n",
    "xsec_df['gb'] = xsec_df.name.map(lambda x:.02)\n",
    "xsec_df['gmu'] = xsec_df.name.map(lambda x:.17)\n",
    "xsec_df['gtau'] = xsec_df.name.map(lambda x:0)"
   ]
  },
  {
   "cell_type": "code",
   "execution_count": null,
   "id": "f1e7bf4f",
   "metadata": {},
   "outputs": [],
   "source": [
    "def branching_ratio(x):\n",
    "    gbgm_ratio = x.gb/x.gmu\n",
    "    return 2/3*(1 + gbgm_ratio**2 * (1 + 2*x.dbs**2))**-1\n",
    "\n",
    "def total_xsec(x):\n",
    "    return x.xsec/branching_ratio(x)"
   ]
  },
  {
   "cell_type": "code",
   "execution_count": null,
   "id": "f6e3404f",
   "metadata": {},
   "outputs": [],
   "source": [
    "xsec_df['branching_ratio'] = branching_ratio(xsec_df)\n",
    "xsec_df['total_xsec'] = total_xsec(xsec_df)"
   ]
  },
  {
   "cell_type": "code",
   "execution_count": null,
   "id": "d99ecbca",
   "metadata": {},
   "outputs": [],
   "source": [
    "# formula to fit for c1 and k per mass point \n",
    "def mm_xsec_func(x, c1, k):\n",
    "    gb = x.gb\n",
    "    #gb = x.mass**2/(x.gmu*x.dbs)\n",
    "    return c1 * gb**2 * (1 + k * x.dbs**2) * x.gmu**2\n",
    "# formula to fit for c1 and k per mass point \n",
    "def total_xsec_func(x, c1, k):\n",
    "    gb = x.gb\n",
    "    #gb = x.mass**2/(x.gmu*x.dbs)\n",
    "    return c1 * gb**2 * (1 + k * x.dbs**2) "
   ]
  },
  {
   "cell_type": "code",
   "execution_count": null,
   "id": "a1a65914",
   "metadata": {},
   "outputs": [],
   "source": [
    "def make_x_df(mass, nSamples = 100):\n",
    "    dbs_gb_df = pd.DataFrame()\n",
    "    dbs_gb_df['dbs'] = np.linspace(0,1, nSamples)\n",
    "    dbs_gb_df['gb'] = np.full(nSamples, 0.02)\n",
    "    dbs_gb_df['gmu'] = np.full(nSamples, 0.17)\n",
    "    dbs_gb_df['mass'] = np.full(nSamples, mass)\n",
    "    return dbs_gb_df"
   ]
  },
  {
   "cell_type": "code",
   "execution_count": null,
   "id": "97986694",
   "metadata": {},
   "outputs": [],
   "source": [
    "fit_params = []\n",
    "masses = np.unique(xsec_df.mass)\n",
    "fig, ax = plt.subplots(figsize=[10,10])\n",
    "for mass in masses:\n",
    "    tdf = xsec_df[xsec_df.mass==mass]\n",
    "    if tdf.shape[0] < 3: continue\n",
    "    popt, pcov = curve_fit(total_xsec_func, tdf, tdf.total_xsec)\n",
    "    \n",
    "    plt.scatter(tdf.dbs, tdf.total_xsec, label=mass)\n",
    "    dbs_gb_df = make_x_df(mass)\n",
    "    plt.plot(dbs_gb_df.dbs, total_xsec_func(dbs_gb_df, *popt))\n",
    "    fit_params.append({\"mass\": mass, \"c1\": popt[0], \"k\": popt[1]})\n",
    "plt.legend()\n",
    "plt.yscale('log')\n",
    "plt.xlabel(\"Z' mass [GeV]\")\n",
    "plt.ylabel(\"$ \\\\sigma \\\\left( pp\\\\rightarrow Z'\\\\right )$\")\n",
    "cms_format_fig(era, ax)\n",
    "fig.savefig('fits/limit_setting/true_xsec_fit_{}.png'.format(era))"
   ]
  },
  {
   "cell_type": "code",
   "execution_count": null,
   "id": "450c4d77",
   "metadata": {},
   "outputs": [],
   "source": [
    "fit_df = pd.DataFrame(fit_params)"
   ]
  },
  {
   "cell_type": "code",
   "execution_count": null,
   "id": "3e922a4a-691f-45d2-9847-6a909c58495c",
   "metadata": {},
   "outputs": [],
   "source": [
    "from math import e\n",
    "def power_law(x, c, *params):\n",
    "    x = x.astype('float')\n",
    "    y = x*0.\n",
    "    for i, par in enumerate(params):\n",
    "        y += np.power(x,i)*par\n",
    "    return c*np.exp(y)\n",
    "def linear(x, c1, c2):\n",
    "    return c1*x + c2\n",
    "def exponet_500(x,c1,c2,c3,c4,c5,c6,c7):\n",
    "    #x = x.astype('float')\n",
    "    x = x/500\n",
    "    return np.exp(c2*x+c3*x**-1+c4*x**-2+c5*x**-3)*(c1)"
   ]
  },
  {
   "cell_type": "code",
   "execution_count": null,
   "id": "80d49975-b968-4f1e-98bd-9632899998d6",
   "metadata": {},
   "outputs": [],
   "source": [
    "masses = np.linspace(125,800,100)\n",
    "#c1 fit\n",
    "#popt_c1, pcov_c1 = curve_fit(power_law, fit_df.mass, fit_df.c1, p0=[ 6.13322541e+06,  4.48061026e+00, -4.74447592e-02,  1.03518420e-04, -1.02802728e-07, 0])\n",
    "popt_c1, pcov_c1 = curve_fit(exponet_500, fit_df.mass, fit_df.c1, p0=[ 1,0,0,0,0,0,0],maxfev=int(2e4))"
   ]
  },
  {
   "cell_type": "code",
   "execution_count": null,
   "id": "18ba2a9e-9dc5-476b-a883-6a56471805ed",
   "metadata": {},
   "outputs": [],
   "source": [
    "fig, ((left, right), (bl, br)) = plt.subplots(2,2, figsize=[20,10])\n",
    "\n",
    "def plot_whole_range(ax, val, **kwargs):\n",
    "    ax.plot((masses[0],masses[-1]),\n",
    "            (val,val), \n",
    "            **kwargs)  \n",
    "def plot_ratio(ax):\n",
    "    plot_whole_range(ax, 1, linestyle='-.', color='black')\n",
    "    plot_whole_range(ax, 1.1, linestyle=':', color='black')\n",
    "    plot_whole_range(ax, .9, linestyle=':', color='black')\n",
    "    ax.set_ylim(.5,1.5)\n",
    "    ax.set_ylabel('ratio to fit')\n",
    "\n",
    "def compute_c1(x): return exponet_500(x, *popt_c1)\n",
    "left.plot(masses, compute_c1(masses))\n",
    "left.scatter(fit_df.mass, fit_df.c1)\n",
    "left.set_yscale('log')\n",
    "#ratio\n",
    "bl.scatter(fit_df.mass, fit_df.c1/compute_c1(fit_df.mass))\n",
    "plot_ratio(bl)\n",
    "#k fit\n",
    "popt_k, pcov_k = curve_fit(linear, fit_df.mass, fit_df.k)\n",
    "def compute_k(x): return linear(x, *popt_k)\n",
    "right.plot(masses, compute_k(masses))\n",
    "right.scatter(fit_df.mass, fit_df.k)\n",
    "#ratio\n",
    "br.scatter(fit_df.mass, fit_df.k/compute_k(fit_df.mass))\n",
    "plot_ratio(br)\n",
    "left.set_xlabel(\"Z' mass [GeV]\")\n",
    "right.set_xlabel(\"Z' mass [GeV]\")\n",
    "cms_format_fig(era, left)\n",
    "cms_format_fig(era, right)\n",
    "print(popt_c1, popt_k)\n",
    "\n",
    "fig.savefig('fits/limit_setting/c1_k_fit_{}.png'.format(era))"
   ]
  },
  {
   "cell_type": "code",
   "execution_count": null,
   "id": "d0dd9368-f20c-45a8-8f86-61718b893313",
   "metadata": {},
   "outputs": [],
   "source": [
    "def compute_expected_xsec(x):\n",
    "    mass = x.mass\n",
    "    c1, k  = compute_c1(mass), compute_k(mass)\n",
    "    return total_xsec_func(x, c1, k)\n",
    "xsec_df['comp_total_xsec'] = compute_expected_xsec(xsec_df)\n",
    "xsec_df['comp_xsec']  = xsec_df['comp_total_xsec']*xsec_df['branching_ratio']"
   ]
  },
  {
   "cell_type": "code",
   "execution_count": null,
   "id": "045aa8f6",
   "metadata": {},
   "outputs": [],
   "source": [
    "from bff_plotting_tools.data_getter import get_data"
   ]
  },
  {
   "cell_type": "code",
   "execution_count": null,
   "id": "2f21bfa8",
   "metadata": {},
   "outputs": [],
   "source": [
    "sample_dict = {}\n",
    "for lera in ['2016', '2017', '2018']:\n",
    "    sample_dict[int(lera)] = get_data(lera)"
   ]
  },
  {
   "cell_type": "code",
   "execution_count": null,
   "id": "22e08f0c-fb2b-45b2-843d-cc1842ea9244",
   "metadata": {},
   "outputs": [],
   "source": [
    "def compute_weight(row, region, sumw2=False):\n",
    "    era = row.era\n",
    "    dbs = row.dbs\n",
    "    mass = row.mass\n",
    "    tdf = sample_dict[era][0]\n",
    "    sample = tdf[(tdf.mass==mass) & (tdf.dbs==dbs) & (tdf[region]==1)]\n",
    "    if sumw2: return (sample.Weight**2).sum()**.5\n",
    "    return sample.Weight.sum()\n",
    "def get_lumi(row):\n",
    "    era = row.era\n",
    "    return sample_dict[era][1]"
   ]
  },
  {
   "cell_type": "code",
   "execution_count": null,
   "id": "07e13c86-7204-4a02-9946-943765744641",
   "metadata": {},
   "outputs": [],
   "source": [
    "xsec_df['lumi'] = xsec_df.apply(get_lumi, axis=1)\n",
    "def make_acceptance(reg):\n",
    "    xsec_df['weight_'+reg] = xsec_df.apply(lambda x: compute_weight(x,reg+\"_nom\"), axis=1)\n",
    "    xsec_df['weight_unc_'+reg] = xsec_df.apply(lambda x: compute_weight(x,reg+\"_nom\",sumw2=True), axis=1)\n",
    "    xsec_df['acceptance_'+reg] = xsec_df['weight_'+reg]/(xsec_df.xsec*xsec_df.lumi)\n",
    "    xsec_df['acceptance_unc_'+reg] = xsec_df['weight_unc_'+reg]/(xsec_df.xsec*xsec_df.lumi)\n",
    "    \n",
    "make_acceptance('SR1')\n",
    "make_acceptance('SR2')"
   ]
  },
  {
   "cell_type": "code",
   "execution_count": null,
   "id": "9c2693e3-a904-4ea9-90c0-04171f23c72c",
   "metadata": {},
   "outputs": [],
   "source": [
    "def poln(x, *params):\n",
    "    x = x.astype('float')\n",
    "    y = x*0.\n",
    "    for i, par in enumerate(params):\n",
    "        y += np.power(x,i)*par\n",
    "    return y\n",
    "\n",
    "def logisitic(x, c1, c2):\n",
    "    return 1/(1+10**(-(x-c1)/c2))\n",
    "\n",
    "def dbs_func(x, c1, c2):\n",
    "    return c1*(1+c2*x**.5)\n",
    "\n",
    "def dbs_acceptance_fit(x, c1, c2, c3, c4, c5, *params):\n",
    "    #y = poln(x.mass, *params)\n",
    "    y = logisitic(x.mass, *params)\n",
    "    yp = c3 + c4*y + c5*y**2\n",
    "    return yp*dbs_func(x.dbs, c1, c2)"
   ]
  },
  {
   "cell_type": "code",
   "execution_count": null,
   "id": "a7d9447f-d549-45ec-ab6c-e8eb6216abb1",
   "metadata": {},
   "outputs": [],
   "source": [
    "def make_mass_x_df(dbs, nSamples = 100):\n",
    "    dbs_gb_df = pd.DataFrame()\n",
    "    dbs_gb_df['mass'] = np.linspace(125,500, nSamples)\n",
    "    dbs_gb_df['dbs'] = np.full(nSamples, dbs)\n",
    "    return dbs_gb_df"
   ]
  },
  {
   "cell_type": "code",
   "execution_count": null,
   "id": "c5a5b5f6-fefa-4fb8-a441-89bd5e9c4fef",
   "metadata": {},
   "outputs": [],
   "source": [
    "####\n",
    "## Now, produce era specific plots\n",
    "####\n",
    "lera = 2016\n",
    "era_sel = xsec_df.era==lera\n",
    "lxsec_df = xsec_df[xsec_df.era==lera]\n",
    "lera = str(lera)"
   ]
  },
  {
   "cell_type": "code",
   "execution_count": null,
   "id": "fbe37fd4-eeda-4bda-b386-c402608f8ccb",
   "metadata": {},
   "outputs": [],
   "source": [
    "acceptance_dict = {}\n",
    "for reg in ['SR1','SR2']:\n",
    "    tdf = xsec_df[era_sel & (xsec_df.acceptance_SR1 < .2) & (xsec_df.acceptance_SR2 < .1)]\n",
    "    popt_acc, _ = curve_fit(dbs_acceptance_fit, tdf,tdf['acceptance_{}'.format(reg)], p0=[.1, .3, 0, 1, 0, 180,100], maxfev = int(2e5))\n",
    "    acceptance_dict[reg] = popt_acc"
   ]
  },
  {
   "cell_type": "code",
   "execution_count": null,
   "id": "f72ea608-3c24-4904-960a-67a4d5d3a34c",
   "metadata": {},
   "outputs": [],
   "source": [
    "acceptance_dict"
   ]
  },
  {
   "cell_type": "code",
   "execution_count": null,
   "id": "e9c4da73-5559-4d90-8e24-32e85c22689b",
   "metadata": {},
   "outputs": [],
   "source": [
    "def compute_acceptance(x_df, reg):\n",
    "    popt_acc = acceptance_dict[reg]\n",
    "    return dbs_acceptance_fit(x_df,*popt_acc)"
   ]
  },
  {
   "cell_type": "code",
   "execution_count": null,
   "id": "4f927de4-6c33-408b-bd54-4a468ce069e0",
   "metadata": {},
   "outputs": [],
   "source": [
    "fig, axs = plt.subplots(2,1, figsize=[10,10])\n",
    "for i, (reg, popt_acc) in enumerate(acceptance_dict.items()):\n",
    "    ax = axs[i]\n",
    "    acceptance_string = 'acceptance_{}'.format(reg)\n",
    "    acceptance_uc_string = 'acceptance_unc_{}'.format(reg)\n",
    "    colors = [ color_fader('blue', 'red', mix=float(i)/3) for i in range(3)]\n",
    "    for dbs, c in zip([0.04, 0.5, 1.0],colors):\n",
    "        tdf = xsec_df[era_sel & (xsec_df.dbs==dbs)]\n",
    "        x = tdf.mass\n",
    "        y = tdf[acceptance_string]\n",
    "        yerr = tdf[acceptance_uc_string]\n",
    "        x_df = make_mass_x_df(dbs)\n",
    "        yacc = compute_acceptance(x_df, reg)\n",
    "        ax.plot(x_df.mass, yacc, color=c)\n",
    "        ax.errorbar(x,y, yerr=yerr, label='$\\delta_{{bs}}={}$'.format(dbs), linestyle='', marker='.', color=c)\n",
    "        ax.text(290,1.1e-3, reg, fontsize=15) \n",
    "        if reg=='SR1':\n",
    "            ax.set_ylim(1e-3,2e-1)\n",
    "        else: \n",
    "            ax.set_ylim(1e-3,1e-1)\n",
    "    #plt.yscale('log')\n",
    "    ax.set_ylabel('acceptance')\n",
    "    \n",
    "    ax.set_yscale('log')\n",
    "axs[1].set_xlabel('DiLepMass [Gev]')\n",
    "cms_format_fig(lera, axs[0])\n",
    "plt.legend()\n",
    "fig.savefig('fits/limit_setting/acceptance_{}.png'.format(era))"
   ]
  },
  {
   "cell_type": "code",
   "execution_count": null,
   "id": "675a3a46-17b4-4d15-a2fb-28cdf28f723d",
   "metadata": {},
   "outputs": [],
   "source": [
    "for i, (reg, popt_acc) in enumerate(acceptance_dict.items()):\n",
    "    acc_string = 'comp_acceptance_{}'.format(reg)\n",
    "    weight_string = 'comp_weight_{}'.format(reg)\n",
    "    xsec_df.loc[era_sel, acc_string] = xsec_df[era_sel].apply(lambda x: dbs_acceptance_fit(x,*popt_acc), axis=1)\n",
    "    xsec_df.loc[era_sel, weight_string] = xsec_df[era_sel][acc_string]*xsec_df.lumi*xsec_df.comp_xsec"
   ]
  },
  {
   "cell_type": "code",
   "execution_count": null,
   "id": "52825324-d1e7-486f-9f42-447533672bbc",
   "metadata": {},
   "outputs": [],
   "source": [
    "gmu = [0.08, 0.14, 0.20]\n",
    "mass = np.array([200,350,500])\n",
    "def linear(x,c1,c2): \n",
    "    return x*c1+c2\n",
    "popt_mass_gmu ,_ = curve_fit(linear, mass, gmu)\n",
    "plt.plot(mass, gmu)\n",
    "def mass_to_gmu(x): return linear(x, *popt_mass_gmu)\n",
    "plt.plot(mass, mass_to_gmu(mass))"
   ]
  },
  {
   "cell_type": "code",
   "execution_count": null,
   "id": "79739a79-aef3-43ae-bc16-8efd6fe31c03",
   "metadata": {},
   "outputs": [],
   "source": [
    "def calc_gm(row):\n",
    "    constant = 1.3*1e-5\n",
    "    return constant*(row.mass/100)**2/(row.gb*row.dbs)\n",
    "def calc_gb(row):\n",
    "    constant = 1.3*1e-5\n",
    "    return constant*(row.mass/100)**2/(row.gmu*row.dbs)"
   ]
  },
  {
   "cell_type": "code",
   "execution_count": null,
   "id": "85cbbb4f-3d96-422c-b36e-2645303b29b1",
   "metadata": {},
   "outputs": [],
   "source": [
    "def compute_xsec(df):\n",
    "    df['comp_total_xsec'] = compute_expected_xsec(df)\n",
    "    df['branching_ratio'] = branching_ratio(df)\n",
    "    df['comp_xsec'] = df['branching_ratio']*df['comp_total_xsec']\n",
    "    for reg in ['SR1', 'SR2']:\n",
    "        df['comp_acc_'+reg] = compute_acceptance(df, reg)\n",
    "        df['comp_xsec_'+reg] = df['comp_xsec']*df['comp_acc_'+reg]\n",
    "        for era in [2016, 2017, 2018]:\n",
    "            lumi = lumi_dict[str(era)]\n",
    "            df['comp_nevt_{}_{}'.format(reg,era)] = df['comp_xsec_'+reg]*lumi\n",
    "    return df"
   ]
  },
  {
   "cell_type": "code",
   "execution_count": null,
   "id": "84705dec-fdeb-4dc9-b837-e558d37a6ec7",
   "metadata": {},
   "outputs": [],
   "source": [
    "def make_dbs_mass_df():\n",
    "    mass = np.array([125,150,175,200,350,500])\n",
    "    gmu = mass_to_gmu(mass)\n",
    "    #gb = np.linspace(2e-4, 2e-2, int((2e-2-2e-4)/2e-4+1))\n",
    "    dbs = np.linspace(1e-2, 1., int((1-1e-2)/(1e-2)+1))\n",
    "    df =  pd.DataFrame([{\"mass\": m, \"gmu\": mass_to_gmu(m), \"dbs\": d} for m in mass for d in dbs])\n",
    "    df['gb'] = df.apply(calc_gb, axis=1)\n",
    "    return compute_xsec(df)\n",
    "def make_gb_dbs_mass_df():\n",
    "    mass = np.array([125,150,175,200,350,500])\n",
    "    gmu = mass_to_gmu(mass)\n",
    "    gb = np.linspace(2e-4, 2e-2, int((2e-2-2e-4)/2e-4+1))\n",
    "    dbs = np.linspace(1e-2, 1., int((1-1e-2)/(1e-2)+1))\n",
    "    df = pd.DataFrame([{\"mass\": m, \"gmu\": mass_to_gmu(m),\"gb\":b, \"dbs\": d} for m in mass for b in gb for d in dbs])\n",
    "    return compute_xsec(df)\n"
   ]
  },
  {
   "cell_type": "code",
   "execution_count": null,
   "id": "fd4ba2ae-b3ca-4453-b72f-7aa71a5a86b0",
   "metadata": {},
   "outputs": [],
   "source": [
    "dbs_mass_df = make_dbs_mass_df()\n",
    "gb_dbs_mass_df = make_gb_dbs_mass_df()"
   ]
  },
  {
   "cell_type": "code",
   "execution_count": null,
   "id": "23bdb3bb-6d5c-4fc6-8ecf-01dbc45def2f",
   "metadata": {},
   "outputs": [],
   "source": [
    "gb_dbs_mass_df[(gb_dbs_mass_df.mass==125) & \n",
    "               (gb_dbs_mass_df.dbs==0.5) & \n",
    "              (gb_dbs_mass_df.gb==0.02)][['comp_total_xsec','branching_ratio','gmu','comp_acc_SR1', 'comp_nevt_SR1_2016','comp_nevt_SR2_2016']]"
   ]
  },
  {
   "cell_type": "code",
   "execution_count": null,
   "id": "68c18244-af55-47f8-bc55-995310be04a2",
   "metadata": {},
   "outputs": [],
   "source": [
    "xsec_df[era_sel &\n",
    "             (xsec_df.mass==125) & \n",
    "               (xsec_df.dbs==0.5) & \n",
    "              (xsec_df.gb==0.02)][['era','comp_total_xsec','branching_ratio','gmu','comp_acceptance_SR1','comp_weight_SR1','comp_weight_SR2']]"
   ]
  },
  {
   "cell_type": "code",
   "execution_count": null,
   "id": "b7b029e8-d40a-43d9-a34e-e3a47c64e831",
   "metadata": {},
   "outputs": [],
   "source": [
    "for mass in  [125,150,175,200,350,500]:\n",
    "    tdf = gb_dbs_mass_df[gb_dbs_mass_df.mass==mass].sort_values(['dbs'])\n",
    "    y = (tdf['comp_nevt_SR1_2016']/tdf['comp_nevt_SR2_2016']).to_numpy()\n",
    "    plt.plot(tdf.dbs, y, label=mass)\n",
    "    print(y[-1]/y[0])\n",
    "plt.ylabel('$\\\\frac{n_{SR1}}{n_{SR2}}$')\n",
    "plt.xlabel('$\\delta_{bs}$')\n",
    "plt.legend()"
   ]
  },
  {
   "cell_type": "code",
   "execution_count": null,
   "id": "841ac21b-1167-4787-b451-81652624bdc1",
   "metadata": {},
   "outputs": [],
   "source": [
    "dbss = [.04,.5,1]\n",
    "fig, axs = plt.subplots(1,len(dbss), figsize=[15,10])\n",
    "for i, (dbs,ax) in enumerate(zip(dbss,axs)):\n",
    "    for mass, c in zip([125,150,175,200,350,500],color_cycle):\n",
    "            tdf = gb_dbs_mass_df[(gb_dbs_mass_df.mass==mass) &  (gb_dbs_mass_df.dbs==dbs)]\n",
    "            tdf = tdf.sort_values(['gb', 'mass'])\n",
    "            ax.plot(tdf.gb, tdf.branching_ratio, label=mass, color=c)\n",
    "            ax.set_title('$\\\\delta_{{bs}}={}$'.format(dbs))\n",
    "            ax.set_ylim(0, .7)\n",
    "plt.legend()\n",
    "axs[0].set_ylabel(\"$\\\\frac{\\\\sigma \\\\left( pp\\\\rightarrow Z'\\\\rightarrow\\\\mu\\\\mu\\\\right )}{\\\\sigma \\\\left( pp\\\\rightarrow Z'\\\\right )}$\")\n",
    "axs[2].set_xlabel('$g_b$')\n",
    "fig.savefig('fits/limit_setting/branching_ratios.png')  \n"
   ]
  },
  {
   "cell_type": "code",
   "execution_count": null,
   "id": "c502ad52-1eb7-4baa-a32d-42cbe013290e",
   "metadata": {},
   "outputs": [],
   "source": [
    "def dbs_mass_nevents_reg_to_gb(df,nevents, reg, lumi):\n",
    "    acceptance = compute_acceptance(df, reg)\n",
    "    mm_xsec = nevents/(acceptance*lumi)\n",
    "    gb = gb_from_mm_xsec_gmu_dbs(mm_xsec,df)\n",
    "    return gb"
   ]
  },
  {
   "cell_type": "code",
   "execution_count": null,
   "id": "45f99973-1a2e-4ef3-ad7a-b07813f54c99",
   "metadata": {},
   "outputs": [],
   "source": [
    "def gb_from_mm_xsec_gmu_dbs(mm, df): \n",
    "    c1, k = compute_c1(df.mass), compute_k(df.mass)\n",
    "    noom =  mm\n",
    "    denom = 2/3*c1*mm*(1+k*df.dbs**2)-2*df.dbs**2 -1\n",
    "    return noom/denom**.5"
   ]
  },
  {
   "cell_type": "code",
   "execution_count": null,
   "id": "f4b6d5fe-fc76-4ebd-ba55-e00b06627ebd",
   "metadata": {},
   "outputs": [],
   "source": [
    "def xsec_gmu_dbs_to_gb(x, xsec):\n",
    "    c1, k = compute_c1(tdf.mass), compute_k(tdf.mass)\n",
    "    return (xsec/(c1*(1 + k * x.dbs**2) * x.gmu**2))**.5\n",
    "def total_xsec_gmu_dbs_to_gb(x, xsec):\n",
    "    c1, k = compute_c1(tdf.mass), compute_k(tdf.mass)\n",
    "    return (xsec/(c1*(1 + k * x.dbs**2) ))**.5"
   ]
  },
  {
   "cell_type": "code",
   "execution_count": null,
   "id": "24d82a5a-6ac1-40b0-8518-633a1276af3a",
   "metadata": {},
   "outputs": [],
   "source": [
    "lim_df = pd.read_csv('limits/limit_{}.csv'.format(lera))"
   ]
  },
  {
   "cell_type": "code",
   "execution_count": null,
   "id": "a0feaaa2-3050-43ef-a91c-763b178fc041",
   "metadata": {},
   "outputs": [],
   "source": [
    "def make_gb_dbs_df(reg, limit_level):\n",
    "    selection = lim_df.nJets==reg\n",
    "    tdf = lim_df[selection]\n",
    "    gb = dbs_mass_nevents_reg_to_gb(lim_df,lim_df[limit_level], reg, lumi_dict[lera])\n",
    "    lim_df.loc[selection, \"{}_gb\".format(limit_level)] = gb"
   ]
  },
  {
   "cell_type": "code",
   "execution_count": null,
   "id": "e84c8123-efb5-4c98-8e03-0352a4c632a2",
   "metadata": {},
   "outputs": [],
   "source": [
    "for reg in ['SR1', 'SR2']:\n",
    "    for level in ['16.0', '2.5', '50.0', '84.0', '97.5']:\n",
    "        make_gb_dbs_df(reg, level)"
   ]
  },
  {
   "cell_type": "code",
   "execution_count": null,
   "id": "bbe7df75-cdf6-49b1-ab5b-db6346389998",
   "metadata": {},
   "outputs": [],
   "source": [
    "lim_count_mean_df = pd.DataFrame()\n",
    "for reg in ['SR1', 'SR2']:\n",
    "    for mass in np.unique(lim_df.mass):\n",
    "        tdf = lim_df[(lim_df.nJets==reg)&\n",
    "               (lim_df.mass==mass)]\n",
    "        means = tdf[['mass','16.0', '2.5', '50.0', '84.0', '97.5']].mean(axis=0)\n",
    "        means['reg'] = reg\n",
    "        lim_count_mean_df = lim_count_mean_df.append(means,ignore_index=True)"
   ]
  },
  {
   "cell_type": "code",
   "execution_count": null,
   "id": "389fdd53-6e33-49b6-be64-f36b4ef17f6d",
   "metadata": {},
   "outputs": [],
   "source": [
    "def make_mass_df(mass):\n",
    "    gmu = mass_to_gmu(mass)\n",
    "    #gb = np.linspace(2e-4, 2e-2, int((2e-2-2e-4)/2e-4+1))\n",
    "    dbs = np.linspace(1e-2, 1., int((1-1e-2)/(1e-2)+1))\n",
    "    df =  pd.DataFrame([{\"mass\": mass, \"gmu\": mass_to_gmu(mass), \"dbs\": d} for d in dbs])\n",
    "    return df"
   ]
  },
  {
   "cell_type": "code",
   "execution_count": null,
   "id": "28b71bde-8c5e-4e65-a11d-4e6e1f830b6d",
   "metadata": {},
   "outputs": [],
   "source": [
    "#sigma[%] = exp[2ln(g_mu) + 1.381] + 0.00038\n",
    "\n",
    "def width_to_gmu(width):\n",
    "    return np.exp((np.log(width-0.00038)-1.381)/2)\n",
    "def curve_of_const_gmu(zmass, gmu):\n",
    "    dbs = np.linspace(1e-2, 1., int((1-1e-2)/(1e-2)+1))\n",
    "    constant = 1.3*1e-5\n",
    "    gb = constant*(zmass/100)**2/(gmu*dbs)\n",
    "    return gb, dbs"
   ]
  },
  {
   "cell_type": "code",
   "execution_count": null,
   "id": "f11f6103-a3dd-4288-9432-a0c60700fc27",
   "metadata": {},
   "outputs": [],
   "source": [
    "fig, axs = plt.subplots(1,2, figsize=[20,10])\n",
    "for i, (reg, ax) in enumerate(zip(['SR1', 'SR2'], axs)):\n",
    "    reg_df = lim_count_mean_df[lim_count_mean_df.reg==reg]\n",
    "    for k, (j, row) in enumerate(reg_df.iterrows()):\n",
    "        if row.mass not in [125,350,500]: continue\n",
    "        dbs_mass_df =  make_mass_df(row.mass)\n",
    "        def gb_from_lim_level(ll):\n",
    "            return dbs_mass_nevents_reg_to_gb(dbs_mass_df,row[ll], row.reg, lumi_dict[lera])\n",
    "        gbs = {ll: gb_from_lim_level(ll) for ll in ['16.0', '2.5', '50.0', '84.0', '97.5']}\n",
    "        \n",
    "        color = color_fader('blue', 'red', mix=float(k)/reg_df.shape[0])\n",
    "        ax.plot(gbs['50.0'], dbs_mass_df.dbs, label='{}'.format(row.mass), color=color)\n",
    "        ax.fill_betweenx( dbs_mass_df.dbs,gbs['16.0'], gbs['84.0'], color=color, alpha=.1)\n",
    "        #plot data\n",
    "        def plot_data(dtype, **kwargs):\n",
    "            tldf = lim_df[(lim_df.mass==row.mass) & (lim_df.nJets==reg)]\n",
    "            ftldf = tldf[tldf.sig_type==dtype]\n",
    "            xerror = (ftldf['50.0_gb']-ftldf['16.0_gb'],ftldf['84.0_gb']-ftldf['50.0_gb'])\n",
    "            ax.errorbar(ftldf['50.0_gb'], ftldf.dbs, xerr = xerror, **kwargs)\n",
    "        plot_data('fit', color=color,linestyle='', marker='o')\n",
    "        plot_data('hist', color=color,linestyle='', marker='x')\n",
    "        if reg=='SR1':\n",
    "            ax.set_xlim(0,.025)\n",
    "        else: \n",
    "            ax.set_xlim(0,0.04)\n",
    "        ax.set_ylim(0,1.01)\n",
    "        #draw gmu width curve\n",
    "        gb, dbs = curve_of_const_gmu(row.mass, width_to_gmu(1))\n",
    "        ax.plot(gb, dbs, color=color,linestyle='-.')\n",
    "        \n",
    "    ax.scatter(-10,-10, marker='o', label='fit', color='black')\n",
    "    ax.scatter(-10,-10, marker='x', label='hist', color='black')\n",
    "    ax.plot(-10,-10, marker='', linestyle='-.', label='$g_\\mu$ broad. : 1\\%', color='black')\n",
    "    ax.legend()\n",
    "axs[1].set_xlabel('$g_b$')\n",
    "axs[0].set_xlabel('$g_b$')\n",
    "axs[0].set_ylabel('$\\\\delta_{bs}$')\n",
    "cms_format_fig(str(lera), axs[0])\n",
    "cms_format_fig(str(lera), axs[1])\n",
    "fig.savefig('fits/limit_setting/gb_dbs_lim_{}.png'.format(lera))  \n"
   ]
  }
 ],
 "metadata": {
  "kernelspec": {
   "display_name": "bff_env",
   "language": "python",
   "name": "bff_env"
  },
  "language_info": {
   "codemirror_mode": {
    "name": "ipython",
    "version": 3
   },
   "file_extension": ".py",
   "mimetype": "text/x-python",
   "name": "python",
   "nbconvert_exporter": "python",
   "pygments_lexer": "ipython3",
   "version": "3.8.10"
  }
 },
 "nbformat": 4,
 "nbformat_minor": 5
}
