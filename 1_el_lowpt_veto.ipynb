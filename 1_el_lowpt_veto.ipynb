{
 "cells": [
  {
   "cell_type": "code",
   "execution_count": 2,
   "id": "0b190506",
   "metadata": {},
   "outputs": [],
   "source": [
    "import pandas as pd\n",
    "import numpy as np"
   ]
  },
  {
   "cell_type": "code",
   "execution_count": 20,
   "id": "d5b8afd9",
   "metadata": {},
   "outputs": [],
   "source": [
    "samples = ['tw_2016_ZToEE_M_120_200', 'tw_2016_mc_ttbar', 'tw_2016_mc_zz']"
   ]
  },
  {
   "cell_type": "code",
   "execution_count": 30,
   "id": "71b2bf37",
   "metadata": {},
   "outputs": [],
   "source": [
    "def return_stats(sample):\n",
    "    print(sample)\n",
    "    df = pd.read_csv('data/{}.csv'.format(sample))\n",
    "    df14 = df[df.CR14_nom==1]\n",
    "    return {\"sample\": sample, \"nLepLowPt > 2\": (df14.nLowPtLep>2).sum(), \"nLep = 2\":(df14.nLep==2).sum()}"
   ]
  },
  {
   "cell_type": "code",
   "execution_count": 31,
   "id": "011c05c5",
   "metadata": {},
   "outputs": [
    {
     "name": "stdout",
     "output_type": "stream",
     "text": [
      "tw_2016_ZToEE_M_120_200\n",
      "tw_2016_mc_ttbar\n",
      "tw_2016_mc_zz\n"
     ]
    }
   ],
   "source": [
    "stat_list = [return_stats(samp) for samp in samples]"
   ]
  },
  {
   "cell_type": "code",
   "execution_count": 32,
   "id": "154f6591",
   "metadata": {},
   "outputs": [],
   "source": [
    "stat_df = pd.DataFrame(stat_list)"
   ]
  },
  {
   "cell_type": "code",
   "execution_count": 35,
   "id": "605ff9f8",
   "metadata": {},
   "outputs": [],
   "source": [
    "stat_df['perc. lost'] = stat_df[\"nLepLowPt > 2\"]/stat_df[\"nLep = 2\"]"
   ]
  },
  {
   "cell_type": "code",
   "execution_count": 38,
   "id": "822c1495",
   "metadata": {},
   "outputs": [
    {
     "name": "stdout",
     "output_type": "stream",
     "text": [
      "\\begin{tabular}{llrrr}\n",
      "\\toprule\n",
      "{} &                   sample &  nLepLowPt > 2 &  nLep = 2 &  perc. lost \\\\\n",
      "\\midrule\n",
      "0 &  tw\\_2016\\_ZToEE\\_M\\_120\\_200 &             11 &      5271 &    0.002087 \\\\\n",
      "1 &         tw\\_2016\\_mc\\_ttbar &           1065 &     39400 &    0.027030 \\\\\n",
      "2 &            tw\\_2016\\_mc\\_zz &             27 &       129 &    0.209302 \\\\\n",
      "\\bottomrule\n",
      "\\end{tabular}\n",
      "\n"
     ]
    }
   ],
   "source": [
    "print(stat_df.to_latex())"
   ]
  }
 ],
 "metadata": {
  "kernelspec": {
   "display_name": "Python 3",
   "language": "python",
   "name": "python3"
  },
  "language_info": {
   "codemirror_mode": {
    "name": "ipython",
    "version": 3
   },
   "file_extension": ".py",
   "mimetype": "text/x-python",
   "name": "python",
   "nbconvert_exporter": "python",
   "pygments_lexer": "ipython3",
   "version": "3.9.6"
  }
 },
 "nbformat": 4,
 "nbformat_minor": 5
}
