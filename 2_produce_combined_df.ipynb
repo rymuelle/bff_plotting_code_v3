{
 "cells": [
  {
   "cell_type": "code",
   "execution_count": null,
   "id": "78115bf1-c74c-4744-8be4-a7a73206cc32",
   "metadata": {
    "scrolled": false
   },
   "outputs": [],
   "source": [
    "%load_ext autoreload\n",
    "%autoreload 2"
   ]
  },
  {
   "cell_type": "code",
   "execution_count": null,
   "id": "5a989c37-c113-46fd-b26f-6fd000074d64",
   "metadata": {
    "scrolled": false
   },
   "outputs": [],
   "source": [
    "import pandas as pd\n",
    "import numpy as np\n",
    "from bff_processor.data_tools import regex_select, get_files, make_df\n",
    "from bff_processor.bff_meta import preselection, band_cut, isin, identity, all_reg, jet_variations\n",
    "from bff_processor.bff_cuts import *\n",
    "\n",
    "from glob import glob\n",
    "import re"
   ]
  },
  {
   "cell_type": "code",
   "execution_count": null,
   "id": "00400b5b",
   "metadata": {
    "scrolled": false
   },
   "outputs": [],
   "source": [
    "def one_in(list_of_strings, test_string):\n",
    "    for string_in in list_of_strings:\n",
    "        if string_in in test_string: return True\n",
    "    return False"
   ]
  },
  {
   "cell_type": "code",
   "execution_count": null,
   "id": "fe9058f0",
   "metadata": {},
   "outputs": [],
   "source": [
    "from src.data_tools.get_file_list import get_file_df"
   ]
  },
  {
   "cell_type": "code",
   "execution_count": null,
   "id": "894fd008-4063-4462-8b0f-cc8e684db55d",
   "metadata": {
    "scrolled": false
   },
   "outputs": [],
   "source": [
    "era = 2016\n",
    "file_df = get_file_df()\n",
    "file_df = file_df[file_df.era==era]\n",
    "file_df.reset_index(inplace=True)"
   ]
  },
  {
   "cell_type": "code",
   "execution_count": null,
   "id": "57105d11",
   "metadata": {},
   "outputs": [],
   "source": [
    "from src.data_tools.apply_cuts import process_sample"
   ]
  },
  {
   "cell_type": "code",
   "execution_count": null,
   "id": "c29648ca",
   "metadata": {},
   "outputs": [],
   "source": [
    "for i, row in file_df.iterrows():\n",
    "    df = process_sample(row, verbose=True)\n",
    "    if i==0: combined_df = df\n",
    "    else: combined_df = pd.concat([combined_df, df])"
   ]
  },
  {
   "cell_type": "code",
   "execution_count": null,
   "id": "ddabc32d",
   "metadata": {
    "scrolled": false
   },
   "outputs": [],
   "source": [
    "np.unique(df.CR10_nom)"
   ]
  },
  {
   "cell_type": "code",
   "execution_count": null,
   "id": "f20b0e74-c5db-4f66-9348-ce3ecb0ec4e8",
   "metadata": {
    "scrolled": false
   },
   "outputs": [],
   "source": [
    "# convert to bool\n",
    "combined_df['TriggerWeight'] = combined_df['TriggerWeight'].astype(bool)"
   ]
  },
  {
   "cell_type": "code",
   "execution_count": null,
   "id": "511e8971-1626-4983-8208-322b1cfec6ba",
   "metadata": {
    "scrolled": false
   },
   "outputs": [],
   "source": [
    "import pyarrow.feather as feather\n",
    "feather.write_feather(combined_df, 'data/combined_{}.feather'.format(era))"
   ]
  },
  {
   "cell_type": "code",
   "execution_count": null,
   "id": "fe5c48a3-d53e-48c1-95f3-b8d4ff9280f1",
   "metadata": {
    "scrolled": false
   },
   "outputs": [],
   "source": [
    "combined_df.to_parquet('data/combined_{}.parquet'.format(era))"
   ]
  },
  {
   "cell_type": "code",
   "execution_count": null,
   "id": "34fb1377-557b-4156-9088-f00db18568fe",
   "metadata": {
    "scrolled": false
   },
   "outputs": [],
   "source": [
    "import matplotlib.pyplot as plt"
   ]
  },
  {
   "cell_type": "code",
   "execution_count": null,
   "id": "8d7ce9a5",
   "metadata": {},
   "outputs": [],
   "source": [
    "bck_df = combined_df[(combined_df.type=='bck')]\n",
    "no_bff = bck_df[(bck_df.SR1_nom > 0 )]\n",
    "post_bff = bck_df[(bck_df.SR1_nom ==1)]\n",
    "from src.plotting_tools.Bins import make_bins\n",
    "bins=make_bins()"
   ]
  },
  {
   "cell_type": "code",
   "execution_count": null,
   "id": "63f1ca96-8053-4c78-8406-42dcb1096589",
   "metadata": {
    "scrolled": false
   },
   "outputs": [],
   "source": [
    "counts, _  = np.histogram(no_bff.DiLepMass,bins=bins.bin_edges, weights=no_bff.Weight)"
   ]
  },
  {
   "cell_type": "code",
   "execution_count": null,
   "id": "16bb5946-6492-434f-a534-4600065487f4",
   "metadata": {
    "scrolled": false
   },
   "outputs": [],
   "source": [
    "counts_cut, _  = np.histogram(post_bff.DiLepMass,bins=bins.bin_edges, weights=post_bff.Weight)"
   ]
  },
  {
   "cell_type": "code",
   "execution_count": null,
   "id": "e3ecb167-047d-4897-8e41-60a17aaf1485",
   "metadata": {
    "scrolled": false
   },
   "outputs": [],
   "source": [
    "plt.plot(bins.calc_bin_centers(), counts)\n",
    "plt.plot(bins.calc_bin_centers(),counts_cut)\n"
   ]
  },
  {
   "cell_type": "code",
   "execution_count": null,
   "id": "7a5e9ca0-fcc6-4f5d-b4f2-a649c5d6b53f",
   "metadata": {
    "scrolled": false
   },
   "outputs": [],
   "source": [
    "plt.plot(bins.calc_bin_centers(),counts_cut/counts)\n",
    "plt.ylim(top=1, bottom=0)"
   ]
  },
  {
   "cell_type": "code",
   "execution_count": null,
   "id": "ed287a93",
   "metadata": {},
   "outputs": [],
   "source": []
  }
 ],
 "metadata": {
  "kernelspec": {
   "display_name": "bff_12_1",
   "language": "python",
   "name": "bff_12_1"
  },
  "language_info": {
   "codemirror_mode": {
    "name": "ipython",
    "version": 3
   },
   "file_extension": ".py",
   "mimetype": "text/x-python",
   "name": "python",
   "nbconvert_exporter": "python",
   "pygments_lexer": "ipython3",
   "version": "3.9.6"
  }
 },
 "nbformat": 4,
 "nbformat_minor": 5
}
