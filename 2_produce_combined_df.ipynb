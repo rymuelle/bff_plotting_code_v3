{
 "cells": [
  {
   "cell_type": "code",
   "execution_count": 1,
   "id": "78115bf1-c74c-4744-8be4-a7a73206cc32",
   "metadata": {
    "scrolled": false
   },
   "outputs": [],
   "source": [
    "%load_ext autoreload\n",
    "%autoreload 2"
   ]
  },
  {
   "cell_type": "code",
   "execution_count": 2,
   "id": "42dc12f2",
   "metadata": {},
   "outputs": [],
   "source": [
    "from src.general.make_noise import beep_on_error, beep_repeat\n",
    "beep_on_error()"
   ]
  },
  {
   "cell_type": "code",
   "execution_count": 3,
   "id": "5a989c37-c113-46fd-b26f-6fd000074d64",
   "metadata": {
    "scrolled": false
   },
   "outputs": [
    {
     "name": "stderr",
     "output_type": "stream",
     "text": [
      "/cvmfs/cms.cern.ch/slc7_amd64_gcc900/external/py3-scipy/1.7.1-c59502069094870046fda47cb5a5065e/lib/python3.9/site-packages/scipy/optimize/minpack.py:833: OptimizeWarning: Covariance of the parameters could not be estimated\n",
      "  warnings.warn('Covariance of the parameters could not be estimated',\n"
     ]
    }
   ],
   "source": [
    "import pandas as pd\n",
    "import numpy as np\n",
    "from src.data_tools.filename_skim_tools import regex_select, get_files, make_df\n",
    "from src.data_tools.bff_meta import preselection, band_cut, isin, identity, all_reg, jet_variations\n",
    "from src.data_tools.bff_cuts import *\n",
    "\n",
    "from glob import glob\n",
    "import re"
   ]
  },
  {
   "cell_type": "code",
   "execution_count": 4,
   "id": "00400b5b",
   "metadata": {
    "scrolled": false
   },
   "outputs": [],
   "source": [
    "def one_in(list_of_strings, test_string):\n",
    "    for string_in in list_of_strings:\n",
    "        if string_in in test_string: return True\n",
    "    return False"
   ]
  },
  {
   "cell_type": "code",
   "execution_count": 5,
   "id": "fe9058f0",
   "metadata": {},
   "outputs": [],
   "source": [
    "from src.data_tools.get_file_list import get_file_df\n",
    "from src.data_tools.get_data import get_data"
   ]
  },
  {
   "cell_type": "code",
   "execution_count": 6,
   "id": "5c619a8c",
   "metadata": {},
   "outputs": [],
   "source": [
    "output_dir = 'assets_feb_23'"
   ]
  },
  {
   "cell_type": "code",
   "execution_count": 7,
   "id": "894fd008-4063-4462-8b0f-cc8e684db55d",
   "metadata": {
    "scrolled": false
   },
   "outputs": [],
   "source": [
    "era = 2016\n",
    "file_df = get_file_df(path = \"{}/data\".format(output_dir))\n",
    "file_df = file_df[file_df.era==era]\n",
    "file_df.reset_index(inplace=True)"
   ]
  },
  {
   "cell_type": "code",
   "execution_count": 8,
   "id": "9dc64a96",
   "metadata": {},
   "outputs": [
    {
     "data": {
      "text/html": [
       "<div>\n",
       "<style scoped>\n",
       "    .dataframe tbody tr th:only-of-type {\n",
       "        vertical-align: middle;\n",
       "    }\n",
       "\n",
       "    .dataframe tbody tr th {\n",
       "        vertical-align: top;\n",
       "    }\n",
       "\n",
       "    .dataframe thead th {\n",
       "        text-align: right;\n",
       "    }\n",
       "</style>\n",
       "<table border=\"1\" class=\"dataframe\">\n",
       "  <thead>\n",
       "    <tr style=\"text-align: right;\">\n",
       "      <th></th>\n",
       "      <th>index</th>\n",
       "      <th>type</th>\n",
       "      <th>category</th>\n",
       "      <th>file</th>\n",
       "      <th>mass</th>\n",
       "      <th>dbs</th>\n",
       "      <th>gmu</th>\n",
       "      <th>gb</th>\n",
       "      <th>era</th>\n",
       "      <th>xsec</th>\n",
       "      <th>sample_name</th>\n",
       "    </tr>\n",
       "  </thead>\n",
       "  <tbody>\n",
       "    <tr>\n",
       "      <th>38</th>\n",
       "      <td>118</td>\n",
       "      <td>pri</td>\n",
       "      <td>pri</td>\n",
       "      <td>assets_feb_23/data/tw_2016_Private_M_200_dbs0p...</td>\n",
       "      <td>200.0</td>\n",
       "      <td>0.04</td>\n",
       "      <td>0.17</td>\n",
       "      <td>NaN</td>\n",
       "      <td>2016</td>\n",
       "      <td>288.9</td>\n",
       "      <td>Private_M_200_dbs0p04</td>\n",
       "    </tr>\n",
       "    <tr>\n",
       "      <th>39</th>\n",
       "      <td>119</td>\n",
       "      <td>pri</td>\n",
       "      <td>pri</td>\n",
       "      <td>assets_feb_23/data/tw_2016_Private_M_200_dbs1p...</td>\n",
       "      <td>200.0</td>\n",
       "      <td>1.00</td>\n",
       "      <td>0.17</td>\n",
       "      <td>NaN</td>\n",
       "      <td>2016</td>\n",
       "      <td>1486.0</td>\n",
       "      <td>Private_M_200_dbs1p0</td>\n",
       "    </tr>\n",
       "    <tr>\n",
       "      <th>40</th>\n",
       "      <td>120</td>\n",
       "      <td>pri</td>\n",
       "      <td>pri</td>\n",
       "      <td>assets_feb_23/data/tw_2016_Private_M_200_dbs0p...</td>\n",
       "      <td>200.0</td>\n",
       "      <td>0.50</td>\n",
       "      <td>0.17</td>\n",
       "      <td>NaN</td>\n",
       "      <td>2016</td>\n",
       "      <td>592.6</td>\n",
       "      <td>Private_M_200_dbs0p5</td>\n",
       "    </tr>\n",
       "  </tbody>\n",
       "</table>\n",
       "</div>"
      ],
      "text/plain": [
       "    index type category                                               file  \\\n",
       "38    118  pri      pri  assets_feb_23/data/tw_2016_Private_M_200_dbs0p...   \n",
       "39    119  pri      pri  assets_feb_23/data/tw_2016_Private_M_200_dbs1p...   \n",
       "40    120  pri      pri  assets_feb_23/data/tw_2016_Private_M_200_dbs0p...   \n",
       "\n",
       "     mass   dbs   gmu  gb   era    xsec            sample_name  \n",
       "38  200.0  0.04  0.17 NaN  2016   288.9  Private_M_200_dbs0p04  \n",
       "39  200.0  1.00  0.17 NaN  2016  1486.0   Private_M_200_dbs1p0  \n",
       "40  200.0  0.50  0.17 NaN  2016   592.6   Private_M_200_dbs0p5  "
      ]
     },
     "execution_count": 8,
     "metadata": {},
     "output_type": "execute_result"
    }
   ],
   "source": [
    "file_df[file_df.type=='pri']"
   ]
  },
  {
   "cell_type": "code",
   "execution_count": 9,
   "id": "57105d11",
   "metadata": {},
   "outputs": [],
   "source": [
    "from src.data_tools.apply_cuts_v2 import  process_sample"
   ]
  },
  {
   "cell_type": "code",
   "execution_count": 24,
   "id": "8d27c634",
   "metadata": {
    "scrolled": true
   },
   "outputs": [
    {
     "name": "stdout",
     "output_type": "stream",
     "text": [
      "-----\n",
      "ZToEE_M_120_200\n",
      "\t0.936382393397524 remaining\n"
     ]
    }
   ],
   "source": [
    "first_iter = 0\n",
    "for i, row in file_df.iterrows():\n",
    "    print(\"-----\")\n",
    "    df = process_sample(row, era, verbose=True)\n",
    "    if first_iter==0: \n",
    "        combined_df = df\n",
    "        first_iter=1\n",
    "    else: combined_df = pd.concat([combined_df, df])\n",
    "\n",
    "        \n",
    "np.unique(df.SR1_jet_nom_muon_corrected_pt_ele_pt)\n",
    "\n",
    "# convert to bool\n",
    "combined_df['TriggerWeight'] = combined_df['TriggerWeight'].astype(bool)\n",
    "combined_df['type'] = combined_df['type'].astype(str)\n",
    "combined_df['name'] = combined_df['name'].astype(str)\n",
    "combined_df['category'] = combined_df['category'].astype(str)\n",
    "\n",
    "import pyarrow.feather as feather\n",
    "feather.write_feather(combined_df, '{}/data/tcombined_{}.feather'.format(output_dir,era))\n",
    "\n",
    "combined_df.to_parquet('{}/data/combined_{}.parquet'.format(output_dir, era))"
   ]
  },
  {
   "cell_type": "code",
   "execution_count": null,
   "id": "3bb9ba40",
   "metadata": {},
   "outputs": [],
   "source": [
    "beep_repeat()"
   ]
  },
  {
   "cell_type": "code",
   "execution_count": null,
   "id": "981396bc",
   "metadata": {},
   "outputs": [],
   "source": [
    "combined_df[combined_df.category=='BFF'].iloc[0:100]['Weight']"
   ]
  },
  {
   "cell_type": "code",
   "execution_count": null,
   "id": "48b19288",
   "metadata": {},
   "outputs": [],
   "source": [
    "combined_df[combined_df.category=='BFF'][[x for x in combined_df.keys() if 'BTag' in x]]"
   ]
  },
  {
   "cell_type": "code",
   "execution_count": null,
   "id": "26c4fd8a",
   "metadata": {},
   "outputs": [],
   "source": [
    "combined_df.name.unique()"
   ]
  },
  {
   "cell_type": "code",
   "execution_count": null,
   "id": "e54817f9",
   "metadata": {},
   "outputs": [],
   "source": [
    "[x for x in combined_df.keys() if 'Weight' in x]"
   ]
  },
  {
   "cell_type": "code",
   "execution_count": null,
   "id": "d14eb426",
   "metadata": {
    "scrolled": true
   },
   "outputs": [],
   "source": [
    "beep_repeat()"
   ]
  },
  {
   "cell_type": "code",
   "execution_count": null,
   "id": "34fb1377-557b-4156-9088-f00db18568fe",
   "metadata": {
    "scrolled": false
   },
   "outputs": [],
   "source": [
    "import matplotlib.pyplot as plt"
   ]
  },
  {
   "cell_type": "code",
   "execution_count": null,
   "id": "8d7ce9a5",
   "metadata": {},
   "outputs": [],
   "source": [
    "bck_df = combined_df[(combined_df.type=='bck')]\n",
    "no_bff = bck_df[(bck_df.SR1_nom > 0 )]\n",
    "post_bff = bck_df[(bck_df.SR1_nom ==1)]\n",
    "from src.plotting_tools.Bins import make_bins\n",
    "bins=make_bins()"
   ]
  },
  {
   "cell_type": "code",
   "execution_count": null,
   "id": "63f1ca96-8053-4c78-8406-42dcb1096589",
   "metadata": {
    "scrolled": false
   },
   "outputs": [],
   "source": [
    "counts, _  = np.histogram(no_bff.DiLepMass,bins=bins.bin_edges, weights=no_bff.Weight)"
   ]
  },
  {
   "cell_type": "code",
   "execution_count": null,
   "id": "16bb5946-6492-434f-a534-4600065487f4",
   "metadata": {
    "scrolled": false
   },
   "outputs": [],
   "source": [
    "counts_cut, _  = np.histogram(post_bff.DiLepMass,bins=bins.bin_edges, weights=post_bff.Weight)"
   ]
  },
  {
   "cell_type": "code",
   "execution_count": null,
   "id": "e3ecb167-047d-4897-8e41-60a17aaf1485",
   "metadata": {
    "scrolled": false
   },
   "outputs": [],
   "source": [
    "plt.plot(bins.calc_bin_centers(), counts)\n",
    "plt.plot(bins.calc_bin_centers(),counts_cut)\n"
   ]
  },
  {
   "cell_type": "code",
   "execution_count": null,
   "id": "7a5e9ca0-fcc6-4f5d-b4f2-a649c5d6b53f",
   "metadata": {
    "scrolled": false
   },
   "outputs": [],
   "source": [
    "plt.plot(bins.calc_bin_centers(),counts_cut/counts)\n",
    "plt.ylim(top=1, bottom=0)"
   ]
  },
  {
   "cell_type": "code",
   "execution_count": null,
   "id": "ed287a93",
   "metadata": {},
   "outputs": [],
   "source": [
    "#make counts for regions\n",
    "\n",
    "columns = combined_df.iloc[0:1].filter(regex='[C|S]R.+nom.+ted_pt').columns\n",
    "\n",
    "import re\n",
    "cd = combined_df[combined_df.DiLepMass_jet_nom_muon_corrected_pt_ele_pt>120]\n",
    "def get_sample_stats(name, cd):\n",
    "    tdf = cd[cd.name==name]\n",
    "    return {'name': name, **{re.findall('([C|S]R[0-9]+)', x)[0]:  tdf[tdf[x]==1].Weight.sum()  for x in columns}}\n",
    "\n",
    "samples  = []\n",
    "for name in combined_df.name.unique():\n",
    "    print(name)\n",
    "    samples.append(get_sample_stats(name, cd))\n",
    "    \n",
    "df = pd.DataFrame(samples)\n",
    "df[['SR2','SR1','CR10', 'CR13', 'CR14', 'CR20','CR23','CR24']].round(2)"
   ]
  },
  {
   "cell_type": "code",
   "execution_count": null,
   "id": "5e7f1968",
   "metadata": {},
   "outputs": [],
   "source": [
    "print(df[['SR2','SR1','CR10', 'CR13', 'CR14', 'CR20','CR23','CR24']].round(1).to_latex())"
   ]
  },
  {
   "cell_type": "code",
   "execution_count": null,
   "id": "299bfc98",
   "metadata": {},
   "outputs": [],
   "source": []
  },
  {
   "cell_type": "code",
   "execution_count": null,
   "id": "6a9ef234",
   "metadata": {},
   "outputs": [],
   "source": []
  },
  {
   "cell_type": "code",
   "execution_count": null,
   "id": "cbe6b2ab",
   "metadata": {},
   "outputs": [],
   "source": []
  }
 ],
 "metadata": {
  "kernelspec": {
   "display_name": "bff_12_1",
   "language": "python",
   "name": "bff_12_1"
  },
  "language_info": {
   "codemirror_mode": {
    "name": "ipython",
    "version": 3
   },
   "file_extension": ".py",
   "mimetype": "text/x-python",
   "name": "python",
   "nbconvert_exporter": "python",
   "pygments_lexer": "ipython3",
   "version": "3.9.6"
  }
 },
 "nbformat": 4,
 "nbformat_minor": 5
}
