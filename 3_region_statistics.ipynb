{
 "cells": [
  {
   "cell_type": "code",
   "execution_count": null,
   "id": "9604f64a",
   "metadata": {},
   "outputs": [],
   "source": [
    "%load_ext autoreload\n",
    "%autoreload 2"
   ]
  },
  {
   "cell_type": "code",
   "execution_count": null,
   "id": "4ce8be6d",
   "metadata": {},
   "outputs": [],
   "source": [
    "from IPython.display import display, HTML\n",
    "display(HTML(\"<style>.container { width:100% !important; }</style>\"))"
   ]
  },
  {
   "cell_type": "code",
   "execution_count": null,
   "id": "f3a45aa5",
   "metadata": {},
   "outputs": [],
   "source": [
    "import numpy as np\n",
    "import pandas as pd\n",
    "import matplotlib.pyplot as plt"
   ]
  },
  {
   "cell_type": "code",
   "execution_count": null,
   "id": "7297bd47",
   "metadata": {},
   "outputs": [],
   "source": [
    "from bff_plotting_tools.data_getter import get_data\n",
    "from plotting_meta.plotting_meta import bins, color_cycle, cms_format_fig, Bins\n",
    "\n",
    "from bff_plotting_tools.make_hists import make_sys, SysHist"
   ]
  },
  {
   "cell_type": "code",
   "execution_count": null,
   "id": "a30066d6",
   "metadata": {},
   "outputs": [],
   "source": [
    "era = '2016'\n",
    "df, lumi = get_data(era)\n",
    "df = df[df.DiLepMass > 105]"
   ]
  },
  {
   "cell_type": "code",
   "execution_count": null,
   "id": "0cd1e961",
   "metadata": {},
   "outputs": [],
   "source": [
    "#This dict organizes backgrounds into categories\n",
    "bck_dict = {\n",
    "    \"DY\": ['ZToEE_M_120_200', 'ZToEE_M_200_400', 'ZToEE_M_400_800',\n",
    "       'ZToEE_M_50_120', 'ZToEE_M_800_1400', 'ZToMuMu_M_120_200',\n",
    "       'ZToMuMu_M_200_400', 'ZToMuMu_M_400_800', 'ZToMuMu_M_50_120',\n",
    "       'ZToMuMu_M_800_1400'],\n",
    "    \"TT\": ['mc_ttbar'],\n",
    "    \"ST\": ['mc_santitop', 'mc_stop'],\n",
    "    \"WW\": [ 'mc_ww'],\n",
    "    \"WZ\": ['mc_wz'],\n",
    "    \"ZZ\": ['mc_zz'],\n",
    "    \"data\": ['data_mu', 'data_el']\n",
    "}"
   ]
  },
  {
   "cell_type": "code",
   "execution_count": null,
   "id": "7fe3c465",
   "metadata": {},
   "outputs": [],
   "source": [
    "def get_count_unc(reg, name_list):\n",
    "    '''Get sum of weights meeting some region and name. Returns sum weight and sum weight**2 **.5 (aka uncertainty)'''\n",
    "    reg_string = \"{}_nom\".format(reg)\n",
    "    tdf = df[(df[reg_string]==1) \n",
    "      & (df.name.isin(name_list))]\n",
    "    sys_hist = make_sys(tdf, 'DiLepMass', reg, bin_edges=[105,1e5])\n",
    "    nominal = sys_hist.nominal[0]\n",
    "    sys = ((sys_hist.up-sys_hist.down)/2)[0]\n",
    "    std = sys_hist.std[0]\n",
    "    return nominal, sys, std"
   ]
  },
  {
   "cell_type": "code",
   "execution_count": null,
   "id": "d6259d26",
   "metadata": {},
   "outputs": [],
   "source": [
    "# This dict lists regions and provieds a latex string\n",
    "region_and_label = {'SR1': \"#mu#mu_{b}\", \n",
    "           'CR10': \"#mu#mu_{j}\", \n",
    "           'CR13': \"ee_{b}\", \n",
    "           'CR14': \"ee_{j}\", \n",
    "           'SR2': \"#mu#mu_{1,2 b}\", \n",
    "           'CR20': \"#mu#mu_{2 j}\", \n",
    "           'CR23': \"ee_{1,2 b}\", \n",
    "           'CR24': \"ee_{2 j}\", \n",
    "          }\n",
    "# This dict lists regions and provieds a latex string for AN\n",
    "region_and_label_AN = {'SR1': \"\\SR\", \n",
    "           'CR10': \"\\CRmmj\", \n",
    "           'CR13': \"\\CReeb\", \n",
    "           'CR14': \"\\CReej\", \n",
    "           'SR2': \"\\SRTwo\", \n",
    "           'CR20': \"\\CRmmjTwo\", \n",
    "           'CR23': \"\\CReebTwo\", \n",
    "           'CR24': \"\\CReejTwo\", \n",
    "          }"
   ]
  },
  {
   "cell_type": "code",
   "execution_count": null,
   "id": "0b84cb1f",
   "metadata": {},
   "outputs": [],
   "source": [
    "stat_list = []\n",
    "for reg in region_and_label:\n",
    "    for bcks, name_list in bck_dict.items():\n",
    "        nom, sys, std = get_count_unc(reg, name_list)\n",
    "        stat_list.append({\"reg\": reg, \"name\": bcks, \"nom\": nom, \"sys\":sys, \"stat\": std})"
   ]
  },
  {
   "cell_type": "code",
   "execution_count": null,
   "id": "c110a7c4",
   "metadata": {},
   "outputs": [],
   "source": [
    "count_df = pd.DataFrame(stat_list)"
   ]
  },
  {
   "cell_type": "code",
   "execution_count": null,
   "id": "839ed480",
   "metadata": {
    "scrolled": true
   },
   "outputs": [],
   "source": [
    "# blinds data\n",
    "count_df.loc[(count_df.reg.str.contains('SR')) & (count_df.name=='data'), 'nom'] = 0 \n",
    "count_df.loc[(count_df.reg.str.contains('SR')) & (count_df.name=='data'), 'sys'] = 0 \n",
    "count_df.loc[(count_df.reg.str.contains('SR')) & (count_df.name=='data'), 'stat'] = 0 "
   ]
  },
  {
   "cell_type": "code",
   "execution_count": null,
   "id": "6d53b7bb",
   "metadata": {},
   "outputs": [],
   "source": [
    "import pandas as pd\n",
    "count_df = count_df.to_csv('output/count_csv_region_{}.csv'.format(era))"
   ]
  },
  {
   "cell_type": "code",
   "execution_count": null,
   "id": "d754411d",
   "metadata": {},
   "outputs": [],
   "source": [
    "count_df = pd.read_csv('output/count_csv_region_{}.csv'.format(era))"
   ]
  },
  {
   "cell_type": "code",
   "execution_count": null,
   "id": "317475fb",
   "metadata": {},
   "outputs": [],
   "source": [
    "#reformating it in a way to be easier to read in AN\n",
    "usestring = True\n",
    "reg_list = []\n",
    "for reg in region_and_label:\n",
    "    bck_string_dict = {}\n",
    "    bck_string_dict['reg'] = region_and_label_AN[reg]\n",
    "    for bcks, name_list in bck_dict.items():\n",
    "        tcdf = count_df[(count_df.reg==reg) & (count_df.name==bcks)]\n",
    "        row = tcdf.iloc[0]\n",
    "        \n",
    "        if usestring:\n",
    "            bck_string_dict[bcks] = \"{:.1f}+/-{:.1f}\".format(row.nom, (row.sys**2+row.stat**2)**.5)\n",
    "        else:\n",
    "            bck_string_dict[bcks] = uncertainties.ufloat(row.nom, (row.sys**2+row.stat**2)**.5)\n",
    "    reg_list.append(bck_string_dict)"
   ]
  },
  {
   "cell_type": "code",
   "execution_count": null,
   "id": "dd289c47",
   "metadata": {},
   "outputs": [],
   "source": [
    "count_df_by_reg = pd.DataFrame(reg_list)"
   ]
  },
  {
   "cell_type": "code",
   "execution_count": null,
   "id": "10af883e",
   "metadata": {},
   "outputs": [],
   "source": [
    "print(count_df_by_reg[['reg', 'DY', 'TT', 'ST', 'WW', 'WZ', 'ZZ']].to_latex(escape=False, index=False))"
   ]
  },
  {
   "cell_type": "code",
   "execution_count": null,
   "id": "ce620342",
   "metadata": {},
   "outputs": [],
   "source": [
    "count_df_by_reg"
   ]
  },
  {
   "cell_type": "code",
   "execution_count": null,
   "id": "3e8e4ff0",
   "metadata": {},
   "outputs": [],
   "source": [
    "#reformating it in a way to be easier to read in AN\n",
    "reg_list_norm = []\n",
    "for reg in region_and_label:\n",
    "    bck_string_dict = {}\n",
    "    bck_string_dict['reg'] = region_and_label_AN[reg]\n",
    "    total_events = count_df[(count_df.reg==reg) & (count_df.name!='data')]\n",
    "    sum_events = total_events.nom.sum()\n",
    "    for bcks, name_list in bck_dict.items():\n",
    "        tcdf = count_df[(count_df.reg==reg) & (count_df.name==bcks)]\n",
    "        row = tcdf.iloc[0]\n",
    "        bck_string_dict[bcks] = \"{:.2f}+/-{:.2f}\".format(row.nom/sum_events, (row.sys**2+row.stat**2)**.5/sum_events)\n",
    "    reg_list_norm.append(bck_string_dict)\n",
    "count_df_by_reg_norm = pd.DataFrame(reg_list_norm)"
   ]
  },
  {
   "cell_type": "code",
   "execution_count": null,
   "id": "07964e91",
   "metadata": {},
   "outputs": [],
   "source": [
    "print(count_df_by_reg_norm[['reg', 'DY', 'TT', 'ST', 'WW', 'WZ', 'ZZ']].to_latex(escape=False, index=False))"
   ]
  },
  {
   "cell_type": "code",
   "execution_count": null,
   "id": "2cf67a9f",
   "metadata": {},
   "outputs": [],
   "source": [
    "def signficance(row):\n",
    "    return row.BFF200/(row.BFF200+row.DY+row.TT)**.5"
   ]
  },
  {
   "cell_type": "code",
   "execution_count": null,
   "id": "b2d673c4",
   "metadata": {},
   "outputs": [],
   "source": [
    "count_df_by_reg.apply(signficance, axis=1)"
   ]
  },
  {
   "cell_type": "code",
   "execution_count": null,
   "id": "007e9f55",
   "metadata": {},
   "outputs": [],
   "source": [
    "count_df_by_reg"
   ]
  },
  {
   "cell_type": "code",
   "execution_count": null,
   "id": "80e464fa",
   "metadata": {},
   "outputs": [],
   "source": [
    "count_df_by_reg.apply(signficance, axis=1)"
   ]
  }
 ],
 "metadata": {
  "kernelspec": {
   "display_name": "bff_12_1",
   "language": "python",
   "name": "bff_12_1"
  },
  "language_info": {
   "codemirror_mode": {
    "name": "ipython",
    "version": 3
   },
   "file_extension": ".py",
   "mimetype": "text/x-python",
   "name": "python",
   "nbconvert_exporter": "python",
   "pygments_lexer": "ipython3",
   "version": "3.9.6"
  }
 },
 "nbformat": 4,
 "nbformat_minor": 5
}
