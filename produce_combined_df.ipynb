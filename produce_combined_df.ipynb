{
 "cells": [
  {
   "cell_type": "code",
   "execution_count": 5,
   "id": "5a989c37-c113-46fd-b26f-6fd000074d64",
   "metadata": {},
   "outputs": [],
   "source": [
    "import pandas as pd\n",
    "import numpy as np\n",
    "from bff_processor.data_tools import regex_select, get_files, make_df\n",
    "from bff_processor.bff_meta import preselection, band_cut, isin, identity, all_reg, jet_variations\n",
    "from bff_processor.bff_cuts import *\n",
    "from glob import glob\n",
    "import re"
   ]
  },
  {
   "cell_type": "code",
   "execution_count": 21,
   "id": "894fd008-4063-4462-8b0f-cc8e684db55d",
   "metadata": {},
   "outputs": [],
   "source": [
    "era = 2018\n",
    "regex_select = \".+/tw_{}_(.+)\\.csv\".format(era)\n",
    "files = [x for x in glob('data/*') if re.match(regex_select, x)]\n",
    "DY = [x for x in files if re.match('.+ZTo(?:Mu|EE).+', x)]\n",
    "ST = [x for x in files if re.match('.+top.csv', x)]\n",
    "VB = [x for x in files if re.match('.+mc_(?:ww|wz|zz)', x)]\n",
    "TT = [x for x in files if re.match('.+ttbar', x)]\n",
    "BFF = [x for x in files if re.match('.+BFFZp', x)]\n",
    "data = [x for x in files if re.match('.+_data_', x)]\n",
    "assert len(files) == len(DY+ST+TT+VB+data+BFF), \"duplicate or uncaught file\""
   ]
  },
  {
   "cell_type": "code",
   "execution_count": 22,
   "id": "12ddbfd7-39dc-45c9-808e-373028988466",
   "metadata": {},
   "outputs": [],
   "source": [
    "sample_types = [\n",
    "['.+ZTo(?:Mu|EE).+', 'bck'],\n",
    "['.+top.csv', 'bck'],\n",
    "['.+mc_(?:ww|wz|zz)', 'bck'],\n",
    "['.+ttbar', 'bck'],\n",
    "['.+BFFZp', 'sig'],\n",
    "['.+_data_', 'data']\n",
    "]"
   ]
  },
  {
   "cell_type": "code",
   "execution_count": 23,
   "id": "db749334-bbdc-4f16-8c84-03379ee2a19b",
   "metadata": {},
   "outputs": [],
   "source": [
    "def process_file(file):\n",
    "    name = re.findall(regex_select, file)[0]\n",
    "    #get stuff for bff samples\n",
    "    dbs = re.findall('dbs(\\dp\\d+)', name)\n",
    "    mass = re.findall('_M_(\\d+)', name)\n",
    "    if len(dbs) == 1 : dbs = float(dbs[0].replace('p','.'))\n",
    "    else: dbs = None\n",
    "    if len(mass) == 1 : mass = int(mass[0])\n",
    "    else: mass = None\n",
    "    type_label = 0\n",
    "    for re_sample, type_sample in sample_types:\n",
    "        if re.match(re_sample, file): \n",
    "            type_label = type_sample\n",
    "            break\n",
    "            \n",
    "    #open file and filter out events with bff selection\n",
    "    df = preselection()(pd.read_csv(file))\n",
    "    \n",
    "    for reg in df.filter(regex='(?:SR|CR)\\d+_.+'):\n",
    "        nJets, jv = re.findall('(?:SR|CR)(\\d)\\d*_(.+)', reg)[0]\n",
    "        df[reg] = df[reg]*bff_no_tmb_value[nJets](df, jv)\n",
    "    selected_events = df.filter(regex='(?:SR|CR)\\d+_.+').sum(axis=1)>0\n",
    "    df['deltaR'] = df[[\"minGoodJetElDR\",\"minGoodJetMuDR\"]].min(axis=1)\n",
    "    deltaR = df['deltaR'] > 0.4\n",
    "    print( \"{} remaining\".format(   (df.filter(regex='(?:SR|CR)\\d+_.+').sum(axis=1)>0).mean()))\n",
    "    df = df[selected_events & deltaR]\n",
    "    #remove unnamed column from index, probably a better way, but ok for now\n",
    "    df = df.loc[:, ~df.columns.str.contains('^Unnamed')]\n",
    "    \n",
    "    #add metadata\n",
    "    df['name'] = name\n",
    "    df['dbs'] = dbs\n",
    "    df['mass'] = mass\n",
    "    df['type'] = type_label\n",
    "    return df\n"
   ]
  },
  {
   "cell_type": "code",
   "execution_count": 24,
   "id": "252376e7-5e9b-42f1-8705-6fc089b97eb3",
   "metadata": {},
   "outputs": [
    {
     "name": "stdout",
     "output_type": "stream",
     "text": [
      "data/tw_2018_BFFZprimeToMuMu_M_125_dbs0p04.csv\n",
      "0.9537698172576546 remaining\n",
      "data/tw_2018_BFFZprimeToMuMu_M_150_dbs0p04.csv\n",
      "0.9452616095818449 remaining\n",
      "data/tw_2018_BFFZprimeToMuMu_M_175_dbs0p04.csv\n",
      "0.9359595821669967 remaining\n",
      "data/tw_2018_BFFZprimeToMuMu_M_200_dbs0p04.csv\n",
      "0.9270585850851809 remaining\n",
      "data/tw_2018_BFFZprimeToMuMu_M_200_dbs0p5.csv\n",
      "0.9288025114428814 remaining\n",
      "data/tw_2018_BFFZprimeToMuMu_M_200_dbs1p0.csv\n",
      "0.9328932307610402 remaining\n",
      "data/tw_2018_BFFZprimeToMuMu_M_250_dbs0p04.csv\n",
      "0.9018579642248722 remaining\n",
      "data/tw_2018_BFFZprimeToMuMu_M_300_dbs0p04.csv\n",
      "0.8762545736604169 remaining\n",
      "data/tw_2018_BFFZprimeToMuMu_M_350_dbs0p04.csv\n",
      "0.8416799161291666 remaining\n",
      "data/tw_2018_BFFZprimeToMuMu_M_350_dbs0p5.csv\n",
      "0.8425273305764346 remaining\n",
      "data/tw_2018_BFFZprimeToMuMu_M_350_dbs1p0.csv\n",
      "0.8462707159634052 remaining\n",
      "data/tw_2018_BFFZprimeToMuMu_M_400_dbs0p04.csv\n",
      "0.7943406416856383 remaining\n",
      "data/tw_2018_BFFZprimeToMuMu_M_450_dbs0p04.csv\n",
      "0.7339226137975994 remaining\n",
      "data/tw_2018_BFFZprimeToMuMu_M_500_dbs0p04.csv\n",
      "0.6723910439883889 remaining\n",
      "data/tw_2018_BFFZprimeToMuMu_M_500_dbs0p5.csv\n",
      "0.6772673815288828 remaining\n",
      "data/tw_2018_BFFZprimeToMuMu_M_500_dbs1p0.csv\n",
      "0.6803435247535795 remaining\n",
      "data/tw_2018_data_el.csv\n",
      "0.5902132689393116 remaining\n",
      "data/tw_2018_data_mu.csv\n",
      "0.6151704061736193 remaining\n",
      "data/tw_2018_mc_santitop.csv\n",
      "0.4813941806097608 remaining\n",
      "data/tw_2018_mc_stop.csv\n",
      "0.4785622130877014 remaining\n",
      "data/tw_2018_mc_ttbar.csv\n",
      "0.4171501482237175 remaining\n",
      "data/tw_2018_mc_ww.csv\n",
      "0.5814839350778404 remaining\n",
      "data/tw_2018_mc_wz.csv\n",
      "0.7047101449275363 remaining\n",
      "data/tw_2018_mc_zz.csv\n",
      "0.808529945553539 remaining\n",
      "data/tw_2018_ZToEE_M_120_200.csv\n",
      "0.9542508577964163 remaining\n",
      "data/tw_2018_ZToEE_M_200_400.csv\n",
      "0.911150029188558 remaining\n",
      "data/tw_2018_ZToEE_M_400_800.csv\n",
      "0.732385575589459 remaining\n",
      "data/tw_2018_ZToEE_M_50_120.csv\n",
      "0.9551020408163265 remaining\n",
      "data/tw_2018_ZToEE_M_800_1400.csv\n",
      "0.4749552772808587 remaining\n",
      "data/tw_2018_ZToMuMu_M_120_200.csv\n",
      "0.9554242749731472 remaining\n",
      "data/tw_2018_ZToMuMu_M_200_400.csv\n",
      "0.9067897053843549 remaining\n",
      "data/tw_2018_ZToMuMu_M_400_800.csv\n",
      "0.6895633385257022 remaining\n",
      "data/tw_2018_ZToMuMu_M_50_120.csv\n",
      "0.9637305699481865 remaining\n",
      "data/tw_2018_ZToMuMu_M_800_1400.csv\n",
      "0.3988 remaining\n"
     ]
    }
   ],
   "source": [
    "combined_df = pd.DataFrame()\n",
    "for file in files:\n",
    "    print(file)\n",
    "    df = process_file(file)\n",
    "    combined_df = pd.concat([combined_df, df])"
   ]
  },
  {
   "cell_type": "code",
   "execution_count": 25,
   "id": "f20b0e74-c5db-4f66-9348-ce3ecb0ec4e8",
   "metadata": {},
   "outputs": [],
   "source": [
    "# convert to bool\n",
    "combined_df['TriggerWeight'] = combined_df['TriggerWeight'].astype(bool)"
   ]
  },
  {
   "cell_type": "code",
   "execution_count": 26,
   "id": "511e8971-1626-4983-8208-322b1cfec6ba",
   "metadata": {},
   "outputs": [],
   "source": [
    "import pyarrow.feather as feather\n",
    "feather.write_feather(combined_df, 'data/combined_{}.feather'.format(era))"
   ]
  },
  {
   "cell_type": "code",
   "execution_count": 27,
   "id": "fe5c48a3-d53e-48c1-95f3-b8d4ff9280f1",
   "metadata": {},
   "outputs": [],
   "source": [
    "combined_df.to_parquet('data/combined_{}.parquet'.format(era))"
   ]
  },
  {
   "cell_type": "code",
   "execution_count": null,
   "id": "ff033d02-0318-456e-a751-1eee2a1d65aa",
   "metadata": {},
   "outputs": [],
   "source": []
  },
  {
   "cell_type": "code",
   "execution_count": null,
   "id": "95f0fa9f-4777-4974-b289-cbbfd0f02547",
   "metadata": {},
   "outputs": [],
   "source": []
  },
  {
   "cell_type": "code",
   "execution_count": null,
   "id": "34fb1377-557b-4156-9088-f00db18568fe",
   "metadata": {},
   "outputs": [],
   "source": []
  },
  {
   "cell_type": "code",
   "execution_count": null,
   "id": "63f1ca96-8053-4c78-8406-42dcb1096589",
   "metadata": {},
   "outputs": [],
   "source": []
  }
 ],
 "metadata": {
  "kernelspec": {
   "display_name": "bff_env",
   "language": "python",
   "name": "bff_env"
  },
  "language_info": {
   "codemirror_mode": {
    "name": "ipython",
    "version": 3
   },
   "file_extension": ".py",
   "mimetype": "text/x-python",
   "name": "python",
   "nbconvert_exporter": "python",
   "pygments_lexer": "ipython3",
   "version": "3.8.10"
  }
 },
 "nbformat": 4,
 "nbformat_minor": 5
}
