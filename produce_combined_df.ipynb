{
 "cells": [
  {
   "cell_type": "code",
   "execution_count": 93,
   "id": "5a989c37-c113-46fd-b26f-6fd000074d64",
   "metadata": {},
   "outputs": [],
   "source": [
    "import pandas as pd\n",
    "import numpy as np\n",
    "from bff_processor.data_tools import regex_select, get_files, make_df\n",
    "from bff_processor.bff_meta import preselection, band_cut, isin, identity, all_reg, jet_variations\n",
    "from bff_processor.bff_cuts import *\n",
    "from glob import glob\n",
    "import re"
   ]
  },
  {
   "cell_type": "code",
   "execution_count": 120,
   "id": "894fd008-4063-4462-8b0f-cc8e684db55d",
   "metadata": {},
   "outputs": [],
   "source": [
    "era = 2016\n",
    "regex_select = \".+/tw_{}_(.+)\\.csv\".format(era)\n",
    "files = [x for x in glob('data/*') if re.match(regex_select, x)]\n",
    "DY = [x for x in files if re.match('.+ZTo(?:Mu|EE).+', x)]\n",
    "ST = [x for x in files if re.match('.+top.csv', x)]\n",
    "VB = [x for x in files if re.match('.+mc_(?:ww|wz|zz)', x)]\n",
    "TT = [x for x in files if re.match('.+ttbar', x)]\n",
    "BFF = [x for x in files if re.match('.+BFFZp', x)]\n",
    "data = [x for x in files if re.match('.+_data_', x)]\n",
    "assert len(files) == len(DY+ST+TT+VB+data+BFF), \"duplicate or uncaught file\""
   ]
  },
  {
   "cell_type": "code",
   "execution_count": 121,
   "id": "12ddbfd7-39dc-45c9-808e-373028988466",
   "metadata": {},
   "outputs": [],
   "source": [
    "sample_types = [\n",
    "['.+ZTo(?:Mu|EE).+', 'bck'],\n",
    "['.+top.csv', 'bck'],\n",
    "['.+mc_(?:ww|wz|zz)', 'bck'],\n",
    "['.+ttbar', 'bck'],\n",
    "['.+BFFZp', 'sig'],\n",
    "['.+_data_', 'data']\n",
    "]"
   ]
  },
  {
   "cell_type": "code",
   "execution_count": 122,
   "id": "db749334-bbdc-4f16-8c84-03379ee2a19b",
   "metadata": {},
   "outputs": [],
   "source": [
    "def process_file(file):\n",
    "    name = re.findall(regex_select, file)[0]\n",
    "    #get stuff for bff samples\n",
    "    dbs = re.findall('dbs(\\dp\\d+)', name)\n",
    "    mass = re.findall('_M_(\\d+)', name)\n",
    "    if len(dbs) == 1 : dbs = float(dbs[0].replace('p','.'))\n",
    "    else: dbs = None\n",
    "    if len(mass) == 1 : mass = int(mass[0])\n",
    "    else: mass = None\n",
    "    type_label = 0\n",
    "    for re_sample, type_sample in sample_types:\n",
    "        if re.match(re_sample, file): \n",
    "            type_label = type_sample\n",
    "            break\n",
    "            \n",
    "    #open file and filter out events with bff selection\n",
    "    df = preselection()(pd.read_csv(file))\n",
    "    \n",
    "    for reg in df.filter(regex='(?:SR|CR)\\d+_.+'):\n",
    "        nJets, jv = re.findall('(?:SR|CR)(\\d)\\d*_(.+)', reg)[0]\n",
    "        # selected events are ==1, events pre bff selection are .5\n",
    "        df[reg] = ((df[reg])+(df[reg])*bff_no_tmb_value[nJets](df, jv))/2\n",
    "    selected_events = df.filter(regex='(?:SR|CR)\\d+_.+').sum(axis=1)>0\n",
    "    df['deltaR'] = df[[\"minGoodJetElDR\",\"minGoodJetMuDR\"]].min(axis=1)\n",
    "    deltaR = df['deltaR'] > 0.4\n",
    "    print( \"{} remaining\".format(   (df.filter(regex='(?:SR|CR)\\d+_.+').sum(axis=1)>0).mean()))\n",
    "    df = df[selected_events & deltaR]\n",
    "    #remove unnamed column from index, probably a better way, but ok for now\n",
    "    df = df.loc[:, ~df.columns.str.contains('^Unnamed')]\n",
    "    \n",
    "    #add metadata\n",
    "    df['name'] = name\n",
    "    df['dbs'] = dbs\n",
    "    df['mass'] = mass\n",
    "    df['type'] = type_label\n",
    "    return df\n"
   ]
  },
  {
   "cell_type": "code",
   "execution_count": 123,
   "id": "252376e7-5e9b-42f1-8705-6fc089b97eb3",
   "metadata": {
    "tags": []
   },
   "outputs": [
    {
     "name": "stdout",
     "output_type": "stream",
     "text": [
      "data/tw_2016_mc_santitop.csv\n",
      "1.0 remaining\n",
      "data/tw_2016_data_el.csv\n",
      "1.0 remaining\n",
      "data/tw_2016_mc_wz.csv\n",
      "1.0 remaining\n",
      "data/tw_2016_BFFZprimeToMuMu_M_150_dbs0p04.csv\n",
      "1.0 remaining\n",
      "data/tw_2016_ZToMuMu_M_800_1400.csv\n",
      "1.0 remaining\n",
      "data/tw_2016_ZToMuMu_M_120_200.csv\n",
      "1.0 remaining\n",
      "data/tw_2016_data_mu.csv\n",
      "1.0 remaining\n",
      "data/tw_2016_ZToMuMu_M_400_800.csv\n",
      "1.0 remaining\n",
      "data/tw_2016_BFFZprimeToMuMu_M_200_dbs0p5.csv\n",
      "1.0 remaining\n",
      "data/tw_2016_BFFZprimeToMuMu_M_350_dbs1p0.csv\n",
      "1.0 remaining\n",
      "data/tw_2016_ZToEE_M_400_800.csv\n",
      "1.0 remaining\n",
      "data/tw_2016_BFFZprimeToMuMu_M_500_dbs0p04.csv\n",
      "1.0 remaining\n",
      "data/tw_2016_ZToEE_M_200_400.csv\n",
      "1.0 remaining\n",
      "data/tw_2016_BFFZprimeToMuMu_M_350_dbs0p04.csv\n",
      "1.0 remaining\n",
      "data/tw_2016_BFFZprimeToMuMu_M_500_dbs0p5.csv\n",
      "1.0 remaining\n",
      "data/tw_2016_ZToMuMu_M_50_120.csv\n",
      "1.0 remaining\n",
      "data/tw_2016_mc_ttbar.csv\n",
      "1.0 remaining\n",
      "data/tw_2016_BFFZprimeToMuMu_M_200_dbs1p0.csv\n",
      "1.0 remaining\n",
      "data/tw_2016_BFFZprimeToMuMu_M_125_dbs0p04.csv\n",
      "1.0 remaining\n",
      "data/tw_2016_mc_ww.csv\n",
      "1.0 remaining\n",
      "data/tw_2016_ZToMuMu_M_200_400.csv\n",
      "1.0 remaining\n",
      "data/tw_2016_ZToEE_M_50_120.csv\n",
      "1.0 remaining\n",
      "data/tw_2016_BFFZprimeToMuMu_M_175_dbs0p04.csv\n",
      "1.0 remaining\n",
      "data/tw_2016_mc_zz.csv\n",
      "1.0 remaining\n",
      "data/tw_2016_mc_stop.csv\n",
      "1.0 remaining\n",
      "data/tw_2016_BFFZprimeToMuMu_M_350_dbs0p5.csv\n",
      "1.0 remaining\n",
      "data/tw_2016_ZToEE_M_120_200.csv\n",
      "1.0 remaining\n",
      "data/tw_2016_ZToEE_M_800_1400.csv\n",
      "1.0 remaining\n",
      "data/tw_2016_BFFZprimeToMuMu_M_500_dbs1p0.csv\n",
      "1.0 remaining\n",
      "data/tw_2016_BFFZprimeToMuMu_M_200_dbs0p04.csv\n",
      "1.0 remaining\n"
     ]
    }
   ],
   "source": [
    "combined_df = pd.DataFrame()\n",
    "for file in files:\n",
    "    print(file)\n",
    "    df = process_file(file)\n",
    "    combined_df = pd.concat([combined_df, df])"
   ]
  },
  {
   "cell_type": "code",
   "execution_count": 124,
   "id": "f20b0e74-c5db-4f66-9348-ce3ecb0ec4e8",
   "metadata": {},
   "outputs": [],
   "source": [
    "# convert to bool\n",
    "combined_df['TriggerWeight'] = combined_df['TriggerWeight'].astype(bool)"
   ]
  },
  {
   "cell_type": "code",
   "execution_count": 125,
   "id": "511e8971-1626-4983-8208-322b1cfec6ba",
   "metadata": {},
   "outputs": [],
   "source": [
    "import pyarrow.feather as feather\n",
    "feather.write_feather(combined_df, 'data/combined_prebff_{}.feather'.format(era))"
   ]
  },
  {
   "cell_type": "code",
   "execution_count": 126,
   "id": "fe5c48a3-d53e-48c1-95f3-b8d4ff9280f1",
   "metadata": {},
   "outputs": [],
   "source": [
    "combined_df.to_parquet('data/combined_prebff_{}.parquet'.format(era))"
   ]
  },
  {
   "cell_type": "code",
   "execution_count": null,
   "id": "ff033d02-0318-456e-a751-1eee2a1d65aa",
   "metadata": {},
   "outputs": [],
   "source": []
  },
  {
   "cell_type": "code",
   "execution_count": 127,
   "id": "34fb1377-557b-4156-9088-f00db18568fe",
   "metadata": {},
   "outputs": [],
   "source": [
    "import matplotlib.pyplot as plt"
   ]
  },
  {
   "cell_type": "code",
   "execution_count": 128,
   "id": "63f1ca96-8053-4c78-8406-42dcb1096589",
   "metadata": {},
   "outputs": [],
   "source": [
    "counts, bins  = np.histogram(combined_df[(combined_df.SR1_nom > 0) & (combined_df.type=='sig')].DiLepMass, bins=np.linspace(110,800,100))"
   ]
  },
  {
   "cell_type": "code",
   "execution_count": 129,
   "id": "16bb5946-6492-434f-a534-4600065487f4",
   "metadata": {},
   "outputs": [],
   "source": [
    "counts_cut, bins  = np.histogram(combined_df[(combined_df.SR1_nom > .5) & (combined_df.type=='sig')].DiLepMass, bins=bins)"
   ]
  },
  {
   "cell_type": "code",
   "execution_count": 130,
   "id": "e3ecb167-047d-4897-8e41-60a17aaf1485",
   "metadata": {},
   "outputs": [
    {
     "data": {
      "text/plain": [
       "[<matplotlib.lines.Line2D at 0x7f40b607c700>]"
      ]
     },
     "execution_count": 130,
     "metadata": {},
     "output_type": "execute_result"
    },
    {
     "data": {
      "image/png": "[encoded data removed]",
      "text/plain": [
       "<Figure size 432x288 with 1 Axes>"
      ]
     },
     "metadata": {
      "needs_background": "light"
     },
     "output_type": "display_data"
    }
   ],
   "source": [
    "plt.plot(counts)\n",
    "plt.plot(counts_cut)"
   ]
  },
  {
   "cell_type": "code",
   "execution_count": 131,
   "id": "c3b0199e-e995-4063-a40b-0ce5450f9577",
   "metadata": {},
   "outputs": [
    {
     "data": {
      "text/plain": [
       "array([110.        , 116.96969697, 123.93939394, 130.90909091,\n",
       "       137.87878788, 144.84848485, 151.81818182, 158.78787879,\n",
       "       165.75757576, 172.72727273, 179.6969697 , 186.66666667,\n",
       "       193.63636364, 200.60606061, 207.57575758, 214.54545455,\n",
       "       221.51515152, 228.48484848, 235.45454545, 242.42424242,\n",
       "       249.39393939, 256.36363636, 263.33333333, 270.3030303 ,\n",
       "       277.27272727, 284.24242424, 291.21212121, 298.18181818,\n",
       "       305.15151515, 312.12121212, 319.09090909, 326.06060606,\n",
       "       333.03030303, 340.        , 346.96969697, 353.93939394,\n",
       "       360.90909091, 367.87878788, 374.84848485, 381.81818182,\n",
       "       388.78787879, 395.75757576, 402.72727273, 409.6969697 ,\n",
       "       416.66666667, 423.63636364, 430.60606061, 437.57575758,\n",
       "       444.54545455, 451.51515152, 458.48484848, 465.45454545,\n",
       "       472.42424242, 479.39393939, 486.36363636, 493.33333333,\n",
       "       500.3030303 , 507.27272727, 514.24242424, 521.21212121,\n",
       "       528.18181818, 535.15151515, 542.12121212, 549.09090909,\n",
       "       556.06060606, 563.03030303, 570.        , 576.96969697,\n",
       "       583.93939394, 590.90909091, 597.87878788, 604.84848485,\n",
       "       611.81818182, 618.78787879, 625.75757576, 632.72727273,\n",
       "       639.6969697 , 646.66666667, 653.63636364, 660.60606061,\n",
       "       667.57575758, 674.54545455, 681.51515152, 688.48484848,\n",
       "       695.45454545, 702.42424242, 709.39393939, 716.36363636,\n",
       "       723.33333333, 730.3030303 , 737.27272727, 744.24242424,\n",
       "       751.21212121, 758.18181818, 765.15151515, 772.12121212,\n",
       "       779.09090909, 786.06060606, 793.03030303, 800.        ])"
      ]
     },
     "execution_count": 131,
     "metadata": {},
     "output_type": "execute_result"
    }
   ],
   "source": [
    "bins"
   ]
  },
  {
   "cell_type": "code",
   "execution_count": 132,
   "id": "7a5e9ca0-fcc6-4f5d-b4f2-a649c5d6b53f",
   "metadata": {},
   "outputs": [
    {
     "name": "stderr",
     "output_type": "stream",
     "text": [
      "/tmp/ipykernel_562848/1318506214.py:1: RuntimeWarning: invalid value encountered in true_divide\n",
      "  plt.plot(counts_cut/counts)\n"
     ]
    },
    {
     "data": {
      "text/plain": [
       "(0.0, 1.0)"
      ]
     },
     "execution_count": 132,
     "metadata": {},
     "output_type": "execute_result"
    },
    {
     "data": {
      "image/png": "[encoded data removed]",
      "text/plain": [
       "<Figure size 432x288 with 1 Axes>"
      ]
     },
     "metadata": {
      "needs_background": "light"
     },
     "output_type": "display_data"
    }
   ],
   "source": [
    "plt.plot(counts_cut/counts)\n",
    "plt.ylim(top=1, bottom=0)"
   ]
  },
  {
   "cell_type": "code",
   "execution_count": null,
   "id": "ca768618-5181-4870-a6e8-00794db43579",
   "metadata": {},
   "outputs": [],
   "source": []
  },
  {
   "cell_type": "code",
   "execution_count": null,
   "id": "dc36fdb4-5f18-4d5e-b296-3745f2908817",
   "metadata": {},
   "outputs": [],
   "source": []
  }
 ],
 "metadata": {
  "kernelspec": {
   "display_name": "bff_post_skim",
   "language": "python",
   "name": "bff_post_skim"
  },
  "language_info": {
   "codemirror_mode": {
    "name": "ipython",
    "version": 3
   },
   "file_extension": ".py",
   "mimetype": "text/x-python",
   "name": "python",
   "nbconvert_exporter": "python",
   "pygments_lexer": "ipython3",
   "version": "3.8.10"
  }
 },
 "nbformat": 4,
 "nbformat_minor": 5
}
