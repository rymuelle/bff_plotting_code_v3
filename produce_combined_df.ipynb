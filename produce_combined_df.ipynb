{
 "cells": [
  {
   "cell_type": "code",
   "execution_count": null,
   "id": "78115bf1-c74c-4744-8be4-a7a73206cc32",
   "metadata": {},
   "outputs": [],
   "source": [
    "%load_ext autoreload\n",
    "%autoreload 2"
   ]
  },
  {
   "cell_type": "code",
   "execution_count": null,
   "id": "5a989c37-c113-46fd-b26f-6fd000074d64",
   "metadata": {},
   "outputs": [],
   "source": [
    "import pandas as pd\n",
    "import numpy as np\n",
    "from bff_processor.data_tools import regex_select, get_files, make_df\n",
    "from bff_processor.bff_meta import preselection, band_cut, isin, identity, all_reg, jet_variations\n",
    "from bff_processor.bff_cuts import *\n",
    "\n",
    "from glob import glob\n",
    "import re"
   ]
  },
  {
   "cell_type": "code",
   "execution_count": null,
   "id": "894fd008-4063-4462-8b0f-cc8e684db55d",
   "metadata": {},
   "outputs": [],
   "source": [
    "era = 2016\n",
    "regex_select = \".+/tw_{}_(.+)\\.csv\".format(era)\n",
    "files = [x for x in glob('data/*') if re.match(regex_select, x)]\n",
    "DY = [x for x in files if re.match('.+ZTo(?:Mu|EE).+', x)]\n",
    "ST = [x for x in files if re.match('.+top.csv', x)]\n",
    "VB = [x for x in files if re.match('.+mc_(?:ww|wz|zz)', x)]\n",
    "TT = [x for x in files if re.match('.+ttbar', x)]\n",
    "BFF = [x for x in files if re.match('.+BFFZp', x)]\n",
    "data = [x for x in files if re.match('.+_data_', x)]\n",
    "assert len(files) == len(DY+ST+TT+VB+data+BFF), \"duplicate or uncaught file\""
   ]
  },
  {
   "cell_type": "code",
   "execution_count": null,
   "id": "12ddbfd7-39dc-45c9-808e-373028988466",
   "metadata": {},
   "outputs": [],
   "source": [
    "sample_types = [\n",
    "['.+ZTo(?:Mu|EE).+', 'bck'],\n",
    "['.+top.csv', 'bck'],\n",
    "['.+mc_(?:ww|wz|zz)', 'bck'],\n",
    "['.+ttbar', 'bck'],\n",
    "['.+BFFZp', 'sig'],\n",
    "['.+_data_', 'data']\n",
    "]"
   ]
  },
  {
   "cell_type": "code",
   "execution_count": null,
   "id": "db749334-bbdc-4f16-8c84-03379ee2a19b",
   "metadata": {},
   "outputs": [],
   "source": [
    "def process_file(file):\n",
    "    name = re.findall(regex_select, file)[0]\n",
    "    #get stuff for bff samples\n",
    "    dbs = re.findall('dbs(\\dp\\d+)', name)\n",
    "    mass = re.findall('_M_(\\d+)', name)\n",
    "    if len(dbs) == 1 : dbs = float(dbs[0].replace('p','.'))\n",
    "    else: dbs = None\n",
    "    if len(mass) == 1 : mass = int(mass[0])\n",
    "    else: mass = None\n",
    "    type_label = 0\n",
    "    for re_sample, type_sample in sample_types:\n",
    "        if re.match(re_sample, file): \n",
    "            type_label = type_sample\n",
    "            break\n",
    "            \n",
    "    #open file and filter out events with bff selection\n",
    "    df = preselection()(pd.read_csv(file))\n",
    "    \n",
    "    for reg in df.filter(regex='(?:SR|CR)\\d+_.+'):\n",
    "        nJets, jv = re.findall('(?:SR|CR)(\\d)\\d*_(.+)', reg)[0]\n",
    "        # selected events are ==1, events pre bff selection are .5\n",
    "        df[reg] = df[reg]*(1+bff_no_tmb_value[nJets](df, jv))/2\n",
    "    selected_events = df.filter(regex='(?:SR|CR)\\d+_.+').sum(axis=1)>0\n",
    "    df['deltaR'] = df[[\"minGoodJetElDR\",\"minGoodJetMuDR\"]].min(axis=1)\n",
    "    deltaR = df['deltaR'] > 0.4\n",
    "    print( \"{} remaining\".format(   (df.filter(regex='(?:SR|CR)\\d+_.+').sum(axis=1)>0).mean()))\n",
    "    df = df[selected_events & deltaR]\n",
    "    #remove unnamed column from index, probably a better way, but ok for now\n",
    "    df = df.loc[:, ~df.columns.str.contains('^Unnamed')]\n",
    "    \n",
    "    #add metadata\n",
    "    df['name'] = name\n",
    "    df['dbs'] = dbs\n",
    "    df['mass'] = mass\n",
    "    df['type'] = type_label\n",
    "    return df\n"
   ]
  },
  {
   "cell_type": "code",
   "execution_count": null,
   "id": "252376e7-5e9b-42f1-8705-6fc089b97eb3",
   "metadata": {
    "tags": []
   },
   "outputs": [],
   "source": [
    "combined_df = pd.DataFrame()\n",
    "for file in files:\n",
    "    print(file)\n",
    "    df = process_file(file)\n",
    "    combined_df = pd.concat([combined_df, df])"
   ]
  },
  {
   "cell_type": "code",
   "execution_count": null,
   "id": "f20b0e74-c5db-4f66-9348-ce3ecb0ec4e8",
   "metadata": {},
   "outputs": [],
   "source": [
    "# convert to bool\n",
    "combined_df['TriggerWeight'] = combined_df['TriggerWeight'].astype(bool)"
   ]
  },
  {
   "cell_type": "code",
   "execution_count": null,
   "id": "511e8971-1626-4983-8208-322b1cfec6ba",
   "metadata": {},
   "outputs": [],
   "source": [
    "import pyarrow.feather as feather\n",
    "feather.write_feather(combined_df, 'data/combined_{}.feather'.format(era))"
   ]
  },
  {
   "cell_type": "code",
   "execution_count": null,
   "id": "fe5c48a3-d53e-48c1-95f3-b8d4ff9280f1",
   "metadata": {},
   "outputs": [],
   "source": [
    "combined_df.to_parquet('data/combined_{}.parquet'.format(era))"
   ]
  },
  {
   "cell_type": "code",
   "execution_count": null,
   "id": "ff033d02-0318-456e-a751-1eee2a1d65aa",
   "metadata": {},
   "outputs": [],
   "source": []
  },
  {
   "cell_type": "code",
   "execution_count": null,
   "id": "34fb1377-557b-4156-9088-f00db18568fe",
   "metadata": {},
   "outputs": [],
   "source": [
    "import matplotlib.pyplot as plt"
   ]
  },
  {
   "cell_type": "code",
   "execution_count": null,
   "id": "63f1ca96-8053-4c78-8406-42dcb1096589",
   "metadata": {},
   "outputs": [],
   "source": [
    "counts, bins  = np.histogram(combined_df[(combined_df.SR1_nom > 0) & (combined_df.type=='sig')].DiLepMass, bins=np.linspace(110,800,100))"
   ]
  },
  {
   "cell_type": "code",
   "execution_count": null,
   "id": "16bb5946-6492-434f-a534-4600065487f4",
   "metadata": {},
   "outputs": [],
   "source": [
    "counts_cut, bins  = np.histogram(combined_df[(combined_df.SR1_nom > .5) & (combined_df.type=='sig')].DiLepMass, bins=bins)"
   ]
  },
  {
   "cell_type": "code",
   "execution_count": null,
   "id": "e3ecb167-047d-4897-8e41-60a17aaf1485",
   "metadata": {},
   "outputs": [],
   "source": [
    "plt.plot(counts)\n",
    "plt.plot(counts_cut)"
   ]
  },
  {
   "cell_type": "code",
   "execution_count": null,
   "id": "c3b0199e-e995-4063-a40b-0ce5450f9577",
   "metadata": {},
   "outputs": [],
   "source": [
    "bins"
   ]
  },
  {
   "cell_type": "code",
   "execution_count": null,
   "id": "7a5e9ca0-fcc6-4f5d-b4f2-a649c5d6b53f",
   "metadata": {},
   "outputs": [],
   "source": [
    "plt.plot(counts_cut/counts)\n",
    "plt.ylim(top=1, bottom=0)"
   ]
  },
  {
   "cell_type": "code",
   "execution_count": null,
   "id": "ca768618-5181-4870-a6e8-00794db43579",
   "metadata": {},
   "outputs": [],
   "source": []
  },
  {
   "cell_type": "code",
   "execution_count": null,
   "id": "dc36fdb4-5f18-4d5e-b296-3745f2908817",
   "metadata": {},
   "outputs": [],
   "source": []
  }
 ],
 "metadata": {
  "kernelspec": {
   "display_name": "bff_post_skim",
   "language": "python",
   "name": "bff_post_skim"
  },
  "language_info": {
   "codemirror_mode": {
    "name": "ipython",
    "version": 3
   },
   "file_extension": ".py",
   "mimetype": "text/x-python",
   "name": "python",
   "nbconvert_exporter": "python",
   "pygments_lexer": "ipython3",
   "version": "3.8.10"
  }
 },
 "nbformat": 4,
 "nbformat_minor": 5
}
