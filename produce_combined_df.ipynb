{
 "cells": [
  {
   "cell_type": "code",
   "execution_count": 1,
   "id": "5a989c37-c113-46fd-b26f-6fd000074d64",
   "metadata": {},
   "outputs": [],
   "source": [
    "import pandas as pd\n",
    "import numpy as np\n",
    "from bff_processor.data_tools import regex_select, get_files, make_df\n",
    "from bff_processor.bff_meta import preselection, band_cut, isin, identity, all_reg, jet_variations\n",
    "from bff_processor.bff_cuts import *\n",
    "from glob import glob\n",
    "import re"
   ]
  },
  {
   "cell_type": "code",
   "execution_count": 9,
   "id": "894fd008-4063-4462-8b0f-cc8e684db55d",
   "metadata": {},
   "outputs": [],
   "source": [
    "era = 2017\n",
    "regex_select = \".+/tw_{}_(.+)\\.csv\".format(era)\n",
    "files = [x for x in glob('data/*') if re.match(regex_select, x)]\n",
    "DY = [x for x in files if re.match('.+ZTo(?:Mu|EE).+', x)]\n",
    "ST = [x for x in files if re.match('.+top.csv', x)]\n",
    "VB = [x for x in files if re.match('.+mc_(?:ww|wz|zz)', x)]\n",
    "TT = [x for x in files if re.match('.+ttbar', x)]\n",
    "BFF = [x for x in files if re.match('.+BFFZp', x)]\n",
    "data = [x for x in files if re.match('.+_data_', x)]\n",
    "assert len(files) == len(DY+ST+TT+VB+data+BFF), \"duplicate or uncaught file\""
   ]
  },
  {
   "cell_type": "code",
   "execution_count": 15,
   "id": "12ddbfd7-39dc-45c9-808e-373028988466",
   "metadata": {},
   "outputs": [],
   "source": [
    "sample_types = [\n",
    "['.+ZTo(?:Mu|EE).+', 'bck'],\n",
    "['.+top.csv', 'bck'],\n",
    "['.+mc_(?:ww|wz|zz)', 'bck'],\n",
    "['.+ttbar', 'bck'],\n",
    "['.+BFFZp', 'sig'],\n",
    "['.+_data_', 'data']\n",
    "]"
   ]
  },
  {
   "cell_type": "code",
   "execution_count": 16,
   "id": "db749334-bbdc-4f16-8c84-03379ee2a19b",
   "metadata": {},
   "outputs": [],
   "source": [
    "def process_file(file):\n",
    "    name = re.findall(regex_select, file)[0]\n",
    "    #get stuff for bff samples\n",
    "    dbs = re.findall('dbs(\\dp\\d+)', name)\n",
    "    mass = re.findall('_M_(\\d+)', name)\n",
    "    if len(dbs) == 1 : dbs = float(dbs[0].replace('p','.'))\n",
    "    else: dbs = None\n",
    "    if len(mass) == 1 : mass = int(mass[0])\n",
    "    else: mass = None\n",
    "    type_label = 0\n",
    "    for re_sample, type_sample in sample_types:\n",
    "        if re.match(re_sample, file): \n",
    "            type_label = type_sample\n",
    "            break\n",
    "            \n",
    "    #open file and filter out events with bff selection\n",
    "    df = preselection()(pd.read_csv(file))\n",
    "    \n",
    "    for reg in df.filter(regex='(?:SR|CR)\\d+_.+'):\n",
    "        nJets, jv = re.findall('(?:SR|CR)(\\d)\\d*_(.+)', reg)[0]\n",
    "        df[reg] = df[reg]*bff_no_tmb_value[nJets](df, jv)\n",
    "    selected_events = df.filter(regex='(?:SR|CR)\\d+_.+').sum(axis=1)>0\n",
    "    print( \"{} remaining\".format(   (df.filter(regex='(?:SR|CR)\\d+_.+').sum(axis=1)>0).mean()))\n",
    "    df = df[selected_events]\n",
    "    #remove unnamed column from index, probably a better way, but ok for now\n",
    "    df = df.loc[:, ~df.columns.str.contains('^Unnamed')]\n",
    "    \n",
    "    #add metadata\n",
    "    df['name'] = name\n",
    "    df['dbs'] = dbs\n",
    "    df['mass'] = mass\n",
    "    df['type'] = type_label\n",
    "    return df\n"
   ]
  },
  {
   "cell_type": "code",
   "execution_count": 17,
   "id": "252376e7-5e9b-42f1-8705-6fc089b97eb3",
   "metadata": {},
   "outputs": [
    {
     "name": "stdout",
     "output_type": "stream",
     "text": [
      "data/tw_2018_BFFZprimeToMuMu_M_300_dbs0p04.csv\n",
      "0.8635057681877483 remaining\n",
      "data/tw_2018_mc_wz.csv\n",
      "0.6926713947990544 remaining\n",
      "data/tw_2018_ZToMuMu_M_50_120.csv\n",
      "0.9622641509433962 remaining\n",
      "data/tw_2018_ZToMuMu_M_800_1400.csv\n",
      "0.2511467889908257 remaining\n",
      "data/tw_2018_data_mu.csv\n",
      "0.6385354739270704 remaining\n",
      "data/tw_2018_mc_zz.csv\n",
      "0.7973421926910299 remaining\n",
      "data/tw_2018_ZToMuMu_M_200_400.csv\n",
      "0.8972809667673716 remaining\n",
      "data/tw_2018_BFFZprimeToMuMu_M_175_dbs0p04.csv\n",
      "0.9338082517067379 remaining\n",
      "data/tw_2018_mc_ww.csv\n",
      "0.5758738862234407 remaining\n",
      "data/tw_2018_ZToEE_M_200_400.csv\n",
      "0.8854033918243309 remaining\n",
      "data/tw_2018_ZToEE_M_800_1400.csv\n",
      "0.35671191553544496 remaining\n",
      "data/tw_2018_BFFZprimeToMuMu_M_500_dbs0p04.csv\n",
      "0.58553156959221 remaining\n",
      "data/tw_2018_mc_ttbar.csv\n",
      "0.4199483555313944 remaining\n",
      "data/tw_2018_BFFZprimeToMuMu_M_200_dbs1p0.csv\n",
      "0.9297859384514497 remaining\n",
      "data/tw_2018_ZToEE_M_50_120.csv\n",
      "0.9549071618037135 remaining\n",
      "data/tw_2018_BFFZprimeToMuMu_M_350_dbs0p5.csv\n",
      "0.8074347988987897 remaining\n",
      "data/tw_2018_BFFZprimeToMuMu_M_350_dbs1p0.csv\n",
      "0.8087892831615595 remaining\n",
      "data/tw_2018_BFFZprimeToMuMu_M_125_dbs0p04.csv\n",
      "0.9493717664449371 remaining\n",
      "data/tw_2018_mc_santitop.csv\n",
      "0.4792611558156547 remaining\n",
      "data/tw_2018_BFFZprimeToMuMu_M_500_dbs0p5.csv\n",
      "0.5897597479322568 remaining\n",
      "data/tw_2018_ZToMuMu_M_400_800.csv\n",
      "0.6056908654072644 remaining\n",
      "data/tw_2018_ZToEE_M_120_200.csv\n",
      "0.9457485654668754 remaining\n",
      "data/tw_2018_ZToMuMu_M_120_200.csv\n",
      "0.9493223335297584 remaining\n",
      "data/tw_2018_data_el.csv\n",
      "0.6151525119238895 remaining\n",
      "data/tw_2018_BFFZprimeToMuMu_M_150_dbs0p04.csv\n",
      "0.9427467662123448 remaining\n",
      "data/tw_2018_BFFZprimeToMuMu_M_500_dbs1p0.csv\n",
      "0.5911973759759245 remaining\n",
      "data/tw_2018_BFFZprimeToMuMu_M_250_dbs0p04.csv\n",
      "0.8986050623792528 remaining\n",
      "data/tw_2018_BFFZprimeToMuMu_M_200_dbs0p04.csv\n",
      "0.9254652764511296 remaining\n",
      "data/tw_2018_BFFZprimeToMuMu_M_350_dbs0p04.csv\n",
      "0.80619977338669 remaining\n",
      "data/tw_2018_BFFZprimeToMuMu_M_450_dbs0p04.csv\n",
      "0.6538931102971993 remaining\n",
      "data/tw_2018_BFFZprimeToMuMu_M_400_dbs0p04.csv\n",
      "0.7296237736680448 remaining\n",
      "data/tw_2018_ZToEE_M_400_800.csv\n",
      "0.6072751976284585 remaining\n",
      "data/tw_2018_mc_stop.csv\n",
      "0.47670046712999886 remaining\n",
      "data/tw_2018_BFFZprimeToMuMu_M_200_dbs0p5.csv\n",
      "0.9266027752395929 remaining\n"
     ]
    }
   ],
   "source": [
    "combined_df = pd.DataFrame()\n",
    "for file in files:\n",
    "    print(file)\n",
    "    df = process_file(file)\n",
    "    combined_df = pd.concat([combined_df, df])"
   ]
  },
  {
   "cell_type": "code",
   "execution_count": 18,
   "id": "511e8971-1626-4983-8208-322b1cfec6ba",
   "metadata": {},
   "outputs": [],
   "source": [
    "import pyarrow.feather as feather\n",
    "feather.write_feather(combined_df, 'data/combined_{}.feather'.format(era))"
   ]
  }
 ],
 "metadata": {
  "kernelspec": {
   "display_name": "bff_plotting",
   "language": "python",
   "name": "bff_plotting"
  },
  "language_info": {
   "codemirror_mode": {
    "name": "ipython",
    "version": 3
   },
   "file_extension": ".py",
   "mimetype": "text/x-python",
   "name": "python",
   "nbconvert_exporter": "python",
   "pygments_lexer": "ipython3",
   "version": "3.8.5"
  }
 },
 "nbformat": 4,
 "nbformat_minor": 5
}
