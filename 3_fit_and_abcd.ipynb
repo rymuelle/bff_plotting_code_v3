{
 "cells": [
  {
   "cell_type": "code",
   "execution_count": null,
   "id": "14f88576-51cb-49d6-903d-274ab9a67379",
   "metadata": {
    "scrolled": false
   },
   "outputs": [],
   "source": [
    "%load_ext autoreload\n",
    "%autoreload 2"
   ]
  },
  {
   "cell_type": "code",
   "execution_count": null,
   "id": "423bcfc2-6ecd-4314-8d44-002f6a4ca55f",
   "metadata": {
    "scrolled": false
   },
   "outputs": [],
   "source": [
    "import pickle\n",
    "import numpy as np\n",
    "import matplotlib.pyplot as plt\n",
    "import zfit\n",
    "from zfit import z"
   ]
  },
  {
   "cell_type": "code",
   "execution_count": null,
   "id": "df3a729b-98cc-4709-82de-a714fb89907f",
   "metadata": {
    "scrolled": false
   },
   "outputs": [],
   "source": [
    "import mplhep as hep"
   ]
  },
  {
   "cell_type": "code",
   "execution_count": null,
   "id": "8ca2c50d-daec-4f1f-8926-76db176b7185",
   "metadata": {
    "scrolled": false
   },
   "outputs": [],
   "source": [
    "from plotting_meta.plotting_meta import bins, color_cycle, cms_format_fig\n",
    "\n",
    "from src.plotting_tools.Bins import Bins, make_bins\n",
    "\n",
    "#from bff_plotting_tools.make_hists import make_sys\n",
    "from src.plotting_tools.SysHist import SysHist, make_hist, make_sys_hist\n",
    "from bff_plotting_tools.utils import hist_chi2\n",
    "from bff_plotting_tools.data_getter import get_data\n",
    "\n",
    "from bff_signal_model.bff_bck_model import bff_bck_model, sigma, theta, mean\n",
    "\n",
    "from bff_processor.utils import ratio_plot_template"
   ]
  },
  {
   "cell_type": "code",
   "execution_count": null,
   "id": "de0be94a",
   "metadata": {
    "scrolled": false
   },
   "outputs": [],
   "source": [
    "bins = make_bins()"
   ]
  },
  {
   "cell_type": "code",
   "execution_count": null,
   "id": "cd28a2fd",
   "metadata": {},
   "outputs": [],
   "source": [
    "bins"
   ]
  },
  {
   "cell_type": "code",
   "execution_count": null,
   "id": "adbb9545-273a-4397-a0bd-40568dc25499",
   "metadata": {
    "scrolled": false
   },
   "outputs": [],
   "source": [
    "era = '2016'\n",
    "df, lumi = get_data(era)\n",
    "df = df[(df.DiLepMass > bins.calc_bin_range()[0]) & (df.DiLepMass <  bins.calc_bin_range()[1])]\n",
    "compute_hesse=True\n",
    "binning_type = 'split'"
   ]
  },
  {
   "cell_type": "code",
   "execution_count": null,
   "id": "d21dfdc5",
   "metadata": {
    "scrolled": false
   },
   "outputs": [],
   "source": [
    "df.replace([np.inf, -np.inf], 0, inplace=True)"
   ]
  },
  {
   "cell_type": "code",
   "execution_count": null,
   "id": "b859561b-cc4f-40f8-bf37-4501ba1a7c9e",
   "metadata": {
    "scrolled": false
   },
   "outputs": [],
   "source": [
    "obs = zfit.Space(\"x\", limits=bins.calc_bin_range())"
   ]
  },
  {
   "cell_type": "code",
   "execution_count": null,
   "id": "e7f09815-5d32-4763-b59e-4cd359497d8a",
   "metadata": {
    "scrolled": false
   },
   "outputs": [],
   "source": [
    "def fit_lognorm(y, weights, obs, reg, verbose=False):\n",
    "    \n",
    "    \n",
    "    if reg!='CR20' and reg!='CR24':\n",
    "        lognorm = bff_bck_model(obs, sigma=sigma, theta=theta, mean=mean)\n",
    "    else:\n",
    "        lognorm = bff_bck_model(obs, sigma=sigma, theta=0.05, mean=mean)     \n",
    "        \n",
    "\n",
    "    # load the data\n",
    "    data = zfit.Data.from_numpy(obs=obs, array=y, weights=weights)\n",
    "    \n",
    "    # build the loss\n",
    "    nll = zfit.loss.UnbinnedNLL(model=lognorm, data=data)\n",
    "\n",
    "    # minimize\n",
    "    minimizer = zfit.minimize.Minuit()\n",
    "    result = minimizer.minimize(nll)\n",
    "    lognorm.result = result\n",
    "    \n",
    "    # calculate errors\n",
    "    param_errors = result.hesse()\n",
    "    \n",
    "    if verbose: print(result,\"\\n\", param_errors)\n",
    "    \n",
    "    return lognorm, data"
   ]
  },
  {
   "cell_type": "code",
   "execution_count": null,
   "id": "8109a357-36ad-44f5-acaf-98cb68fd9e6f",
   "metadata": {
    "scrolled": false
   },
   "outputs": [],
   "source": [
    "def fit_region(reg, type_data):\n",
    "    # get data\n",
    "    region = df[(df.type==type_data) & (df['{}_nom'.format(reg)]==1)]\n",
    "    #make data_hist\n",
    "    y = region.DiLepMass.to_numpy()\n",
    "    weight = region.Weight.to_numpy()\n",
    "    hist = make_sys_hist(region, 'DiLepMass', reg)\n",
    "    # fit data\n",
    "    print(y.shape, weight.sum())\n",
    "    ln, data = fit_lognorm(y, weight, obs, reg, verbose=True)\n",
    "    # make fit hist\n",
    "    normalization = np.sum(hist.nominal)\n",
    "    fit = ln.fill_bins(bins, normalization, supersample=1)\n",
    "    return {\"hist\":hist, \"fit\": fit}"
   ]
  },
  {
   "cell_type": "code",
   "execution_count": null,
   "id": "eac0bba6-d159-4b7c-be31-5841700de67e",
   "metadata": {
    "scrolled": false
   },
   "outputs": [],
   "source": [
    "def make_plot(reg, reg_dict, label):\n",
    "    fit, hist = reg_dict['fit'], reg_dict['hist']\n",
    "    fig, ax, rax = ratio_plot_template(figsize=(10,10))\n",
    "    hist.make_density_hist().draw(ax, color=color_cycle[3], label=label)\n",
    "    fit.make_density_hist().draw(ax, color=color_cycle[0], label='Fit', error_scale=1)\n",
    "    #ratio plot\n",
    "    hist.calc_ratio(fit.nominal).draw(rax, color=color_cycle[3])\n",
    "    fit.calc_ratio(fit.nominal).draw(rax, color=color_cycle[0], error_scale=1)\n",
    "    rax.set_ylim(bottom=0, top=2)\n",
    "    ax.set_yscale('log')\n",
    "    ax.set_ylabel('Events per GeV')\n",
    "    ax.set_xlabel('DiLepMass [GeV]')\n",
    "    ax.set_ylim(bottom=1e-2, top=1e4)\n",
    "    ax.legend(title = '{}'.format(reg))\n",
    "    cms_format_fig(era, ax)\n",
    "    fig.savefig('fits/abcd/{}_binning_density_{}_{}_{}.png'.format(binning_type, era, reg, label))\n",
    "    fit_chi2 = hist_chi2(hist, fit, nDOF=4)\n",
    "    return {'era': era, 'reg': reg, 'bck':np.sum(hist.nominal), 'bck_unc': np.sum(hist.std**2)**.5, \n",
    "                      'ABCD mc': np.sum(fit.nominal), 'fit chi2': fit_chi2, 'label': label}"
   ]
  },
  {
   "cell_type": "code",
   "execution_count": null,
   "id": "f059a559-5c43-4568-b921-dc77136ca9ff",
   "metadata": {
    "scrolled": true,
    "tags": []
   },
   "outputs": [],
   "source": [
    "plot_dict_mc = {}\n",
    "plot_dict = {}\n",
    "for reg in ['CR10', 'CR13', 'CR14', 'CR20', 'CR23', 'CR24']:\n",
    "    print(reg)\n",
    "    plot_dict_mc[reg] = fit_region(reg, \"bck\")\n",
    "    plot_dict[reg] = fit_region(reg, \"data\")\n",
    "    "
   ]
  },
  {
   "cell_type": "code",
   "execution_count": null,
   "id": "9e002f1f-11ce-41ef-8b8c-1ace1ef854f0",
   "metadata": {
    "scrolled": true,
    "tags": []
   },
   "outputs": [],
   "source": [
    "fit_stats = []\n",
    "for reg in ['CR10', 'CR13', 'CR14', 'CR20', 'CR23', 'CR24']:\n",
    "    print(reg)\n",
    "    fit_stats.append(make_plot(reg, plot_dict_mc[reg], \"MC\"))\n",
    "    fit_stats.append(make_plot(reg, plot_dict[reg], \"data\"))"
   ]
  },
  {
   "cell_type": "code",
   "execution_count": null,
   "id": "ead1c869-5e56-45fa-bda9-615f4276e4d8",
   "metadata": {
    "scrolled": false
   },
   "outputs": [],
   "source": [
    "def make_abcd(reg, plot_dict):\n",
    "    def ufd(reg): return plot_dict[reg]['fit'].uncertainty_std_dev()\n",
    "    A,B,C = ufd('CR{}0'.format(nJets)), ufd('CR{}3'.format(nJets)), ufd('CR{}4'.format(nJets))\n",
    "    D = A*B/C\n",
    "    return SysHist.from_ufloats(bins, D)"
   ]
  },
  {
   "cell_type": "code",
   "execution_count": null,
   "id": "5ef51e3f-5609-4648-91f3-1e10710abbd4",
   "metadata": {
    "scrolled": true
   },
   "outputs": [],
   "source": [
    "abcd_dict = {}\n",
    "abcd_stats = []\n",
    "#make abcd:\n",
    "#A*B/C = D\n",
    "for nJets in [1,2]:\n",
    "    reg = 'SR{}'.format(nJets)\n",
    "    ABCD = make_abcd(reg, plot_dict)\n",
    "    abcd_dict[reg] = {\"nom\": ABCD.nominal, \"std\": ABCD.std, \"bins\": ABCD.bins.bin_edges}\n",
    "    fig, ax, rax = ratio_plot_template(figsize=(10,10))\n",
    "    ABCD.make_density_hist().draw(ax, color=color_cycle[0], label='data ABCD', zorder=4, error_scale=1)\n",
    "    plot_dict[reg] = {}\n",
    "    plot_dict[reg]['fit'] = ABCD\n",
    "    #mc background\n",
    "    bck = make_sys_hist(df[(df.type=='bck')], 'DiLepMass', reg)\n",
    "    bck.make_density_hist().draw(ax, color=color_cycle[3], label='MC', zorder=2)\n",
    "    ABCD_mc = make_abcd(reg, plot_dict_mc)\n",
    "    ABCD_mc.make_density_hist().draw(ax, color=color_cycle[6], label='fit ABCD', zorder=3, error_scale=0)\n",
    "    plot_dict_mc[reg] = {}\n",
    "    plot_dict_mc[reg]['fit'] = ABCD_mc\n",
    "    plot_dict_mc[reg]['hist'] = bck\n",
    "    #ratio plot\n",
    "    bck.calc_ratio(ABCD_mc.nominal).draw(rax, color=color_cycle[3])\n",
    "    ABCD.calc_ratio(ABCD_mc.nominal).draw(rax, color=color_cycle[0], error_scale=0)\n",
    "    ABCD_mc.calc_ratio(ABCD_mc.nominal).draw(rax, color=color_cycle[6], error_scale=0)\n",
    "    rax.set_ylim(bottom=0, top=2)\n",
    "    ax.set_yscale('log')\n",
    "    ax.set_ylabel('Events per GeV')\n",
    "    ax.set_xlabel('DiLepMass [GeV]')\n",
    "    ax.set_ylim(bottom=1e-2, top=1e4)\n",
    "    cms_format_fig(era, ax)\n",
    "    ax.legend(title = '{}'.format(reg))\n",
    "    fig.savefig('fits/abcd/{}_binning_density_{}_{}.png'.format(binning_type, era, reg))\n",
    "    abcd_mc_chi2 = hist_chi2(bck, ABCD_mc, nDOF=4)\n",
    "    abcd_data_chi2 = hist_chi2(bck, ABCD, nDOF=4)\n",
    "    abcd_stats.append({'era': era, 'reg': reg, 'bck':np.sum(bck.nominal), 'bck_unc': np.sum(bck.std**2)**.5, 'ABCD mc': np.sum(ABCD_mc.nominal), 'ABCD data': np.sum(ABCD.nominal), 'MC chi2': abcd_mc_chi2, 'Data chi2': abcd_data_chi2})\n",
    "    "
   ]
  },
  {
   "cell_type": "code",
   "execution_count": null,
   "id": "d677e26f-5ee1-4c16-97eb-6516a0cec9c4",
   "metadata": {
    "scrolled": false
   },
   "outputs": [],
   "source": [
    "import pandas as pd\n",
    "df_stats = pd.DataFrame(abcd_stats)\n",
    "df_stats.round(2)"
   ]
  },
  {
   "cell_type": "code",
   "execution_count": null,
   "id": "a07afb85-1f7a-4469-9715-a4cb943e8613",
   "metadata": {
    "scrolled": false
   },
   "outputs": [],
   "source": [
    "print(df_stats.round(2).to_latex())"
   ]
  },
  {
   "cell_type": "code",
   "execution_count": null,
   "id": "fda6c29c-4990-428e-a38d-3753f07bbd4e",
   "metadata": {
    "scrolled": false
   },
   "outputs": [],
   "source": [
    "fit_stats_df = pd.DataFrame(fit_stats)\n",
    "fit_stats_df.round(2)"
   ]
  },
  {
   "cell_type": "code",
   "execution_count": null,
   "id": "f3cb1621-7f02-4fbc-b274-9e0468e490af",
   "metadata": {
    "scrolled": false
   },
   "outputs": [],
   "source": [
    "print(fit_stats_df.round(2).to_latex())"
   ]
  },
  {
   "cell_type": "code",
   "execution_count": null,
   "id": "c0f62ac3-5149-4efd-8d95-62214efcc259",
   "metadata": {
    "scrolled": false
   },
   "outputs": [],
   "source": [
    "with open('fits/limit_setting/abcd_dict_{}.pkl'.format(era), 'wb') as f:\n",
    "    pickle.dump(abcd_dict, f, protocol=2)"
   ]
  },
  {
   "cell_type": "code",
   "execution_count": null,
   "id": "e1fa1d22",
   "metadata": {},
   "outputs": [],
   "source": []
  },
  {
   "cell_type": "code",
   "execution_count": null,
   "id": "9b1cbc1d",
   "metadata": {
    "scrolled": false
   },
   "outputs": [],
   "source": [
    "#save mc fits and hists\n",
    "for reg in plot_dict_mc:\n",
    "    print(reg)\n",
    "    plot_dict_mc[reg]['hist'] = plot_dict_mc[reg]['hist'].to_dict()\n",
    "    plot_dict_mc[reg]['fit'] = plot_dict_mc[reg]['fit'].to_dict()\n",
    "    \n",
    "with open('fits/limit_setting/plot_dict_mc_{}.pkl'.format(era), 'wb') as f:\n",
    "    pickle.dump(plot_dict_mc, f, protocol=2)"
   ]
  },
  {
   "cell_type": "code",
   "execution_count": null,
   "id": "b610fd18",
   "metadata": {},
   "outputs": [],
   "source": [
    "#save mc fits and hists\n",
    "for reg in plot_dict:\n",
    "    print(reg)\n",
    "    if 'hist' in plot_dict[reg]:\n",
    "        plot_dict[reg]['hist'] = plot_dict[reg]['hist'].to_dict()\n",
    "    plot_dict[reg]['fit'] = plot_dict[reg]['fit'].to_dict()\n",
    "    \n",
    "with open('fits/limit_setting/plot_dict_data_{}.pkl'.format(era), 'wb') as f:\n",
    "    pickle.dump(plot_dict, f, protocol=2)"
   ]
  },
  {
   "cell_type": "code",
   "execution_count": null,
   "id": "4dd797b2",
   "metadata": {},
   "outputs": [],
   "source": []
  },
  {
   "cell_type": "code",
   "execution_count": null,
   "id": "8174561d",
   "metadata": {
    "scrolled": false
   },
   "outputs": [],
   "source": [
    "from scipy.interpolate import BPoly\n",
    "\n",
    "def make_bpoly(x, *constants, x_range=[105,900]):\n",
    "    constants = [[c] for c in constants]\n",
    "    bp = BPoly(constants, x_range )\n",
    "    return bp(x)\n",
    "    "
   ]
  },
  {
   "cell_type": "code",
   "execution_count": null,
   "id": "7ed1e62c",
   "metadata": {
    "scrolled": false
   },
   "outputs": [],
   "source": [
    "from scipy.optimize import curve_fit"
   ]
  },
  {
   "cell_type": "code",
   "execution_count": null,
   "id": "c651c2b7",
   "metadata": {
    "scrolled": false
   },
   "outputs": [],
   "source": []
  },
  {
   "cell_type": "code",
   "execution_count": null,
   "id": "c396a04e",
   "metadata": {
    "scrolled": false
   },
   "outputs": [],
   "source": [
    "def fit_order(order, bin_centers, y, yerr,  ax=0):\n",
    "    y_log = np.log(y+.01)\n",
    "    popt, pcov = curve_fit(make_bpoly, bin_centers, y_log, p0=[1 for i in range(order)])\n",
    "    print(popt)\n",
    "    fit_y_log = make_bpoly(bin_centers, *popt)\n",
    "    fit_y = np.exp(fit_y_log)\n",
    "    if ax != 0:\n",
    "        ax.plot(bin_centers,fit_y , label='Log. Berstein poly of order {}'.format(order), zorder = 2, color='red')\n",
    "    return fit_y\n",
    "    "
   ]
  },
  {
   "cell_type": "code",
   "execution_count": null,
   "id": "9ff786c6",
   "metadata": {
    "scrolled": false
   },
   "outputs": [],
   "source": [
    "from math import pi"
   ]
  },
  {
   "cell_type": "code",
   "execution_count": null,
   "id": "44b521d7",
   "metadata": {
    "scrolled": false
   },
   "outputs": [],
   "source": [
    "def lognorm( data, norm, sigma, theta, mean):\n",
    "    return norm/((data-theta)*sigma*2*pi)*np.exp(-(np.log((data-theta)/mean))**2/(2*sigma**2))"
   ]
  },
  {
   "cell_type": "code",
   "execution_count": null,
   "id": "731bdcac",
   "metadata": {
    "scrolled": false
   },
   "outputs": [],
   "source": [
    "reg = 'CR10'\n",
    "\n",
    "def make_berstein_plot(reg, order):\n",
    "    y = plot_dict[reg]['hist'].make_density_hist().nominal\n",
    "    yerr = plot_dict[reg]['fit'].make_density_hist().nominal**.5\n",
    "    fit = plot_dict[reg]['fit'].make_density_hist()\n",
    "    \n",
    "    bin_centers = plot_dict[reg]['hist'].calc_bin_centers()\n",
    "    \n",
    "    fig, ax, rax = ratio_plot_template(figsize=(10,10))\n",
    "    ax.errorbar(bin_centers, y, yerr=yerr,zorder = -1)\n",
    "    fit.draw(ax, label='lognorm', zorder=0, color='green')\n",
    "    \n",
    "    ln_popt, ln_pcov = curve_fit(lognorm, bin_centers, y, maxfev=int(1e5))\n",
    "    y_ln = lognorm(bin_centers, *ln_popt)\n",
    "    ax.plot(bin_centers,y_ln , label='log norm with curve fit', zorder = 2, color='purple')\n",
    "    \n",
    "    y_fit = fit_order(order, bin_centers, y,yerr, ax = ax)\n",
    "    \n",
    "    ax.set_ylim(.1,900)\n",
    "    ax.set_yscale('log')\n",
    "    ax.legend(title=reg)\n",
    "    \n",
    "    rax.errorbar(bin_centers, y/y, yerr=yerr/y, zorder=1)\n",
    "    fit.calc_ratio(y).draw(rax, zorder=2, color='green')\n",
    "    rax.plot(bin_centers, y_ln/y, color='purple')\n",
    "    \n",
    "    rax.set_ylim(0,2)\n",
    "    rax.plot(bin_centers, [1 for x in bin_centers], color='red')\n",
    "    \n",
    "    rax.plot(bin_centers, [1.1 for x in bin_centers], color='black', alpha=.4)\n",
    "    rax.plot(bin_centers, [.9 for x in bin_centers], color='black', alpha=.4, label='10%')\n",
    "    fig.savefig('fits/abcd/berstein_ord{}_{}_binning_density_{}_{}.png'.format(order, binning_type, era, reg))\n",
    "    return y_fit"
   ]
  },
  {
   "cell_type": "code",
   "execution_count": null,
   "id": "9f195fca",
   "metadata": {
    "scrolled": false
   },
   "outputs": [],
   "source": [
    "berstein_fits = {}\n",
    "for reg in ['CR10', 'CR13', 'CR14', 'CR20', 'CR23', 'CR24']:\n",
    "    berstein_fits[reg] = make_berstein_plot(reg,7)"
   ]
  },
  {
   "cell_type": "code",
   "execution_count": null,
   "id": "7a01c970",
   "metadata": {
    "scrolled": false
   },
   "outputs": [],
   "source": [
    "def make_berstein_plot_SR(reg, order):\n",
    "    #bernstein abcd \n",
    "    nJets = int(reg[-1])\n",
    "    abcd = berstein_fits['CR{}0'.format(nJets)]*berstein_fits['CR{}3'.format(nJets)]/berstein_fits['CR{}4'.format(nJets)]\n",
    "    \n",
    "    y = plot_dict[reg]['hist'].make_density_hist().nominal\n",
    "    yerr = plot_dict[reg]['fit'].make_density_hist().nominal**.5\n",
    "    fit = plot_dict[reg]['fit'].make_density_hist()\n",
    "    \n",
    "    bin_centers = plot_dict[reg]['hist'].calc_bin_centers()\n",
    "    \n",
    "    fig, ax, rax = ratio_plot_template(figsize=(10,10))\n",
    "    ax.errorbar(bin_centers, y, yerr=yerr,zorder = -1)\n",
    "    fit.draw(ax, label='lognorm', zorder=0, color='green', alpha=1, error_scale=0)\n",
    "    \n",
    "    ax.plot(bin_centers,abcd , label='Bernstein abcd', zorder = 2, color='purple')\n",
    "    \n",
    "    #y_fit = fit_order(order, bin_centers, y,yerr, ax = ax)\n",
    "    \n",
    "    ax.set_ylim(.1,900)\n",
    "    ax.set_yscale('log')\n",
    "    ax.legend(title=reg)\n",
    "    \n",
    "    rax.errorbar(bin_centers, y/y, yerr=yerr/y, zorder=1)\n",
    "    fit.calc_ratio(y).draw(rax, zorder=.5, color='green', alpha=1, error_scale=0)\n",
    "    rax.plot(bin_centers, abcd/y, color='purple')\n",
    "    \n",
    "    rax.set_ylim(0,2)\n",
    "    rax.plot(bin_centers, [1 for x in bin_centers], color='red')\n",
    "    \n",
    "    rax.plot(bin_centers, [1.1 for x in bin_centers], color='black', alpha=.4)\n",
    "    rax.plot(bin_centers, [.9 for x in bin_centers], color='black', alpha=.4, label='10%')\n",
    "    fig.savefig('fits/abcd/berstein_ord{}_{}_binning_density_{}_{}.png'.format(order, binning_type, era, reg))"
   ]
  },
  {
   "cell_type": "code",
   "execution_count": null,
   "id": "6eb92282",
   "metadata": {
    "scrolled": false
   },
   "outputs": [],
   "source": [
    "for reg in ['SR1', 'SR2']:\n",
    "    make_berstein_plot_SR(reg,7)"
   ]
  },
  {
   "cell_type": "code",
   "execution_count": null,
   "id": "4294fd4f",
   "metadata": {},
   "outputs": [],
   "source": []
  },
  {
   "cell_type": "code",
   "execution_count": null,
   "id": "964c58f9",
   "metadata": {},
   "outputs": [],
   "source": []
  }
 ],
 "metadata": {
  "kernelspec": {
   "display_name": "bff_12_1",
   "language": "python",
   "name": "bff_12_1"
  },
  "language_info": {
   "codemirror_mode": {
    "name": "ipython",
    "version": 3
   },
   "file_extension": ".py",
   "mimetype": "text/x-python",
   "name": "python",
   "nbconvert_exporter": "python",
   "pygments_lexer": "ipython3",
   "version": "3.9.6"
  }
 },
 "nbformat": 4,
 "nbformat_minor": 5
}
