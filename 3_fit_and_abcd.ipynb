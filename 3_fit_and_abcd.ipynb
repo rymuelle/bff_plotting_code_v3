{
 "cells": [
  {
   "cell_type": "code",
   "execution_count": null,
   "id": "14f88576-51cb-49d6-903d-274ab9a67379",
   "metadata": {},
   "outputs": [],
   "source": [
    "%load_ext autoreload\n",
    "%autoreload 2"
   ]
  },
  {
   "cell_type": "code",
   "execution_count": null,
   "id": "423bcfc2-6ecd-4314-8d44-002f6a4ca55f",
   "metadata": {},
   "outputs": [],
   "source": [
    "import pickle\n",
    "import numpy as np\n",
    "import matplotlib.pyplot as plt\n",
    "import zfit\n",
    "from zfit import z"
   ]
  },
  {
   "cell_type": "code",
   "execution_count": null,
   "id": "df3a729b-98cc-4709-82de-a714fb89907f",
   "metadata": {},
   "outputs": [],
   "source": [
    "import mplhep as hep"
   ]
  },
  {
   "cell_type": "code",
   "execution_count": null,
   "id": "8ca2c50d-daec-4f1f-8926-76db176b7185",
   "metadata": {},
   "outputs": [],
   "source": [
    "from plotting_meta.plotting_meta import bins, color_cycle, cms_format_fig, Bins\n",
    "\n",
    "from bff_plotting_tools.make_hists import make_sys, SysHist\n",
    "from bff_plotting_tools.utils import hist_chi2\n",
    "from bff_plotting_tools.data_getter import get_data\n",
    "\n",
    "from bff_signal_model.bff_bck_model import bff_bck_model, sigma, theta, mean\n",
    "\n",
    "from bff_processor.utils import ratio_plot_template"
   ]
  },
  {
   "cell_type": "code",
   "execution_count": null,
   "id": "adbb9545-273a-4397-a0bd-40568dc25499",
   "metadata": {},
   "outputs": [],
   "source": [
    "era = '2016'\n",
    "df, lumi = get_data(era)\n",
    "df = df[(df.DiLepMass > bins.calc_bin_range()[0]) & (df.DiLepMass <  bins.calc_bin_range()[1])]\n",
    "compute_hesse=True\n",
    "binning_type = 'split'"
   ]
  },
  {
   "cell_type": "code",
   "execution_count": null,
   "id": "b859561b-cc4f-40f8-bf37-4501ba1a7c9e",
   "metadata": {},
   "outputs": [],
   "source": [
    "obs = zfit.Space(\"x\", limits=bins.calc_bin_range())"
   ]
  },
  {
   "cell_type": "code",
   "execution_count": null,
   "id": "e7f09815-5d32-4763-b59e-4cd359497d8a",
   "metadata": {},
   "outputs": [],
   "source": [
    "def fit_lognorm(y, weights, obs, verbose=False):\n",
    "    lognorm = bff_bck_model(obs, sigma=sigma, theta=theta, mean=mean)\n",
    "\n",
    "    # load the data\n",
    "    data = zfit.Data.from_numpy(obs=obs, array=y, weights=weights)\n",
    "    \n",
    "    # build the loss\n",
    "    nll = zfit.loss.UnbinnedNLL(model=lognorm, data=data)\n",
    "\n",
    "    # minimize\n",
    "    minimizer = zfit.minimize.Minuit()\n",
    "    result = minimizer.minimize(nll)\n",
    "    lognorm.result = result\n",
    "    \n",
    "    # calculate errors\n",
    "    param_errors = result.hesse()\n",
    "    \n",
    "    if verbose: print(result,\"\\n\", param_errors)\n",
    "    \n",
    "    return lognorm, data"
   ]
  },
  {
   "cell_type": "code",
   "execution_count": null,
   "id": "8109a357-36ad-44f5-acaf-98cb68fd9e6f",
   "metadata": {},
   "outputs": [],
   "source": [
    "def fit_region(reg, type_data):\n",
    "    # get data\n",
    "    region = df[(df.type==type_data) & (df['{}_nom'.format(reg)]==1)]\n",
    "    #make data_hist\n",
    "    y = region.DiLepMass.to_numpy()\n",
    "    weight = region.Weight.to_numpy()\n",
    "    hist = make_sys(region, 'DiLepMass', reg)\n",
    "    # fit data\n",
    "    ln, data = fit_lognorm(y, weight, obs, verbose=True)\n",
    "    # make fit hist\n",
    "    normalization = np.sum(hist.nominal)\n",
    "    fit = ln.fill_bins(bins, normalization, supersample=1)\n",
    "    return {\"hist\":hist, \"fit\": fit}"
   ]
  },
  {
   "cell_type": "code",
   "execution_count": null,
   "id": "eac0bba6-d159-4b7c-be31-5841700de67e",
   "metadata": {},
   "outputs": [],
   "source": [
    "def make_plot(reg, reg_dict, label):\n",
    "    fit, hist = reg_dict['fit'], reg_dict['hist']\n",
    "    fig, ax, rax = ratio_plot_template(figsize=(10,10))\n",
    "    hist.make_density_hist().draw(ax, color=color_cycle[3], label=label)\n",
    "    fit.make_density_hist().draw(ax, color=color_cycle[0], label='Fit', error_scale=0)\n",
    "    #ratio plot\n",
    "    hist.calc_ratio(fit.nominal).draw(rax, color=color_cycle[3])\n",
    "    fit.calc_ratio(fit.nominal).draw(rax, color=color_cycle[0], error_scale=0)\n",
    "    rax.set_ylim(bottom=0, top=2)\n",
    "    ax.set_yscale('log')\n",
    "    ax.set_ylabel('Events per GeV')\n",
    "    ax.set_xlabel('DiLepMass [GeV]')\n",
    "    ax.set_ylim(bottom=1e-2, top=1e4)\n",
    "    ax.legend(title = '{}'.format(reg))\n",
    "    cms_format_fig(era, ax)\n",
    "    fig.savefig('fits/abcd/{}_binning_density_{}_{}_{}.png'.format(binning_type, era, reg, label))\n",
    "    fit_chi2 = hist_chi2(hist, fit, nDOF=4)\n",
    "    return {'era': era, 'reg': reg, 'bck':np.sum(hist.nominal), 'bck_unc': np.sum(hist.std**2)**.5, \n",
    "                      'ABCD mc': np.sum(fit.nominal), 'fit chi2': fit_chi2, 'label': label}"
   ]
  },
  {
   "cell_type": "code",
   "execution_count": null,
   "id": "f059a559-5c43-4568-b921-dc77136ca9ff",
   "metadata": {
    "tags": []
   },
   "outputs": [],
   "source": [
    "plot_dict_mc = {}\n",
    "plot_dict = {}\n",
    "for reg in ['CR10', 'CR13', 'CR14', 'CR20', 'CR23', 'CR24']:\n",
    "    print(reg)\n",
    "    plot_dict_mc[reg] = fit_region(reg, \"bck\")\n",
    "    plot_dict[reg] = fit_region(reg, \"data\")\n",
    "    "
   ]
  },
  {
   "cell_type": "code",
   "execution_count": null,
   "id": "9e002f1f-11ce-41ef-8b8c-1ace1ef854f0",
   "metadata": {
    "scrolled": false,
    "tags": []
   },
   "outputs": [],
   "source": [
    "fit_stats = []\n",
    "for reg in ['CR10', 'CR13', 'CR14', 'CR20', 'CR23', 'CR24']:\n",
    "    print(reg)\n",
    "    fit_stats.append(make_plot(reg, plot_dict_mc[reg], \"MC\"))\n",
    "    fit_stats.append(make_plot(reg, plot_dict[reg], \"data\"))"
   ]
  },
  {
   "cell_type": "code",
   "execution_count": null,
   "id": "ead1c869-5e56-45fa-bda9-615f4276e4d8",
   "metadata": {},
   "outputs": [],
   "source": [
    "def make_abcd(reg, plot_dict):\n",
    "    def ufd(reg): return plot_dict[reg]['fit'].uncertainty_std_dev()\n",
    "    A,B,C = ufd('CR{}0'.format(nJets)), ufd('CR{}3'.format(nJets)), ufd('CR{}4'.format(nJets))\n",
    "    D = A*B/C\n",
    "    return SysHist.from_ufloats(bins, D)"
   ]
  },
  {
   "cell_type": "code",
   "execution_count": null,
   "id": "5ef51e3f-5609-4648-91f3-1e10710abbd4",
   "metadata": {},
   "outputs": [],
   "source": [
    "abcd_dict = {}\n",
    "abcd_stats = []\n",
    "#make abcd:\n",
    "#A*B/C = D\n",
    "for nJets in [1,2]:\n",
    "    reg = 'SR{}'.format(nJets)\n",
    "    ABCD = make_abcd(reg, plot_dict)\n",
    "    abcd_dict[reg] = {\"nom\": ABCD.nominal, \"std\": ABCD.std, \"bins\": ABCD.bins.bin_edges}\n",
    "    fig, ax, rax = ratio_plot_template(figsize=(10,10))\n",
    "    ABCD.make_density_hist().draw(ax, color=color_cycle[0], label='data ABCD', zorder=4, error_scale=0)\n",
    "    \n",
    "    #mc background\n",
    "    bck = make_sys(df[(df.type=='bck')], 'DiLepMass', reg)\n",
    "    bck.make_density_hist().draw(ax, color=color_cycle[3], label='MC', zorder=2)\n",
    "    ABCD_mc = make_abcd(reg, plot_dict_mc)\n",
    "    ABCD_mc.make_density_hist().draw(ax, color=color_cycle[6], label='fit ABCD', zorder=3, error_scale=0)\n",
    "    #ratio plot\n",
    "    bck.calc_ratio(ABCD_mc.nominal).draw(rax, color=color_cycle[3])\n",
    "    ABCD.calc_ratio(ABCD_mc.nominal).draw(rax, color=color_cycle[0], error_scale=0)\n",
    "    ABCD_mc.calc_ratio(ABCD_mc.nominal).draw(rax, color=color_cycle[6], error_scale=0)\n",
    "    rax.set_ylim(bottom=0, top=2)\n",
    "    ax.set_yscale('log')\n",
    "    ax.set_ylabel('Events per GeV')\n",
    "    ax.set_xlabel('DiLepMass [GeV]')\n",
    "    ax.set_ylim(bottom=1e-2, top=1e4)\n",
    "    cms_format_fig(era, ax)\n",
    "    ax.legend(title = '{}'.format(reg))\n",
    "    fig.savefig('fits/abcd/{}_binning_density_{}_{}.png'.format(binning_type, era, reg))\n",
    "    abcd_mc_chi2 = hist_chi2(bck, ABCD_mc, nDOF=4)\n",
    "    abcd_data_chi2 = hist_chi2(bck, ABCD, nDOF=4)\n",
    "    abcd_stats.append({'era': era, 'reg': reg, 'bck':np.sum(bck.nominal), 'bck_unc': np.sum(bck.std**2)**.5, 'ABCD mc': np.sum(ABCD_mc.nominal), 'ABCD data': np.sum(ABCD.nominal), 'MC chi2': abcd_mc_chi2, 'Data chi2': abcd_data_chi2})"
   ]
  },
  {
   "cell_type": "code",
   "execution_count": null,
   "id": "d677e26f-5ee1-4c16-97eb-6516a0cec9c4",
   "metadata": {},
   "outputs": [],
   "source": [
    "import pandas as pd\n",
    "df_stats = pd.DataFrame(abcd_stats)\n",
    "df_stats.round(2)"
   ]
  },
  {
   "cell_type": "code",
   "execution_count": null,
   "id": "a07afb85-1f7a-4469-9715-a4cb943e8613",
   "metadata": {},
   "outputs": [],
   "source": [
    "print(df_stats.round(2).to_latex())"
   ]
  },
  {
   "cell_type": "code",
   "execution_count": null,
   "id": "fda6c29c-4990-428e-a38d-3753f07bbd4e",
   "metadata": {},
   "outputs": [],
   "source": [
    "fit_stats_df = pd.DataFrame(fit_stats)\n",
    "fit_stats_df.round(2)"
   ]
  },
  {
   "cell_type": "code",
   "execution_count": null,
   "id": "f3cb1621-7f02-4fbc-b274-9e0468e490af",
   "metadata": {},
   "outputs": [],
   "source": [
    "print(fit_stats_df.round(2).to_latex())"
   ]
  },
  {
   "cell_type": "code",
   "execution_count": null,
   "id": "c0f62ac3-5149-4efd-8d95-62214efcc259",
   "metadata": {},
   "outputs": [],
   "source": [
    "with open('fits/limit_setting/abcd_dict_{}.pkl'.format(era), 'wb') as f:\n",
    "    pickle.dump(abcd_dict, f, protocol=2)"
   ]
  },
  {
   "cell_type": "code",
   "execution_count": null,
   "id": "aee07052-157e-40eb-94b3-1e8842d6d359",
   "metadata": {},
   "outputs": [],
   "source": [
    "abcd_dict"
   ]
  }
 ],
 "metadata": {
  "kernelspec": {
   "display_name": "bff_12_1",
   "language": "python",
   "name": "bff_12_1"
  },
  "language_info": {
   "codemirror_mode": {
    "name": "ipython",
    "version": 3
   },
   "file_extension": ".py",
   "mimetype": "text/x-python",
   "name": "python",
   "nbconvert_exporter": "python",
   "pygments_lexer": "ipython3",
   "version": "3.9.6"
  }
 },
 "nbformat": 4,
 "nbformat_minor": 5
}
