{
 "cells": [
  {
   "cell_type": "code",
   "execution_count": 46,
   "id": "13193a71-0468-45ee-b6f8-624474d4de6b",
   "metadata": {
    "tags": []
   },
   "outputs": [],
   "source": [
    "import pandas as pd\n",
    "import numpy as np\n",
    "from bff_processor.Systogram import Systogram\n",
    "from bff_processor.bff_meta import *\n",
    "import os\n",
    "import re\n",
    "from time import perf_counter\n",
    "import boost_histogram as bh"
   ]
  },
  {
   "cell_type": "code",
   "execution_count": 47,
   "id": "bbe302d1-ec41-4160-99be-01505ab729ba",
   "metadata": {},
   "outputs": [],
   "source": [
    "def make_dict(name, files):\n",
    "    t_dict = {}\n",
    "    t_dict['data'] = files\n",
    "    for reg in all_reg:\n",
    "        t_dict[reg] = Systogram(bh.axis.Regular(*bin_meta), storage=bh.storage.Weight(), metadata='DiLepMass ({}/{})'.format(name,reg))\n",
    "    return t_dict"
   ]
  },
  {
   "cell_type": "code",
   "execution_count": 48,
   "id": "77ee5937-a9c0-43d6-83c7-af26df7fcb37",
   "metadata": {},
   "outputs": [],
   "source": [
    "era = 2016\n",
    "regex_select = \"tw_{}.+\\.csv\".format(era)\n",
    "files = [x for x in os.listdir('data') if re.match(regex_select, x)]\n",
    "DY = [x for x in files if re.match('.+ZTo(?:Mu|EE).+', x)]\n",
    "ST = [x for x in files if re.match('.+top.csv', x)]\n",
    "VB = [x for x in files if re.match('.+mc_(?:ww|wz|zz)', x)]\n",
    "TT = [x for x in files if re.match('.+ttbar', x)]\n",
    "BFF = [x for x in files if re.match('.+BFFZp', x)]\n",
    "data = [x for x in files if re.match('.+_data_', x)]\n",
    "assert len(files) == len(DY+ST+TT+VB+data+BFF), \"duplicate or uncaught file\""
   ]
  },
  {
   "cell_type": "code",
   "execution_count": 49,
   "id": "d6213feb-e17d-4f87-ba40-9bc8076deeb9",
   "metadata": {},
   "outputs": [],
   "source": [
    "bin_meta = [int((800-105)/5+1),105,800]\n",
    "DY_dict = make_dict('DY', DY)\n",
    "ST_dict = make_dict('ST', ST)\n",
    "TT_dict = make_dict('TT', TT)\n",
    "VB_dict = make_dict('VB', VB)\n",
    "data_dict = make_dict('data', data)\n",
    "bff_list = []\n",
    "for bff in BFF:\n",
    "    name = re.findall('tw_[0-9]+_(.+).csv',bff)[0]\n",
    "    bff_list.append(make_dict(name, [bff]))"
   ]
  },
  {
   "cell_type": "code",
   "execution_count": 50,
   "id": "72b81098-6dbc-419d-a42e-58a8076c87d8",
   "metadata": {},
   "outputs": [
    {
     "name": "stdout",
     "output_type": "stream",
     "text": [
      "{'data': ['tw_2016_data_el.csv', 'tw_2016_data_mu.csv'], 'SR1': Systogram(Regular(140, 105, 800), storage=Weight()) # Sum: WeightedSum(value=0, variance=0), 'SR2': Systogram(Regular(140, 105, 800), storage=Weight()) # Sum: WeightedSum(value=0, variance=0), 'CR10': Systogram(Regular(140, 105, 800), storage=Weight()) # Sum: WeightedSum(value=0, variance=0), 'CR20': Systogram(Regular(140, 105, 800), storage=Weight()) # Sum: WeightedSum(value=0, variance=0), 'CR13': Systogram(Regular(140, 105, 800), storage=Weight()) # Sum: WeightedSum(value=0, variance=0), 'CR23': Systogram(Regular(140, 105, 800), storage=Weight()) # Sum: WeightedSum(value=0, variance=0), 'CR14': Systogram(Regular(140, 105, 800), storage=Weight()) # Sum: WeightedSum(value=0, variance=0), 'CR24': Systogram(Regular(140, 105, 800), storage=Weight()) # Sum: WeightedSum(value=0, variance=0)}\n"
     ]
    }
   ],
   "source": [
    "print(data_dict)"
   ]
  },
  {
   "cell_type": "code",
   "execution_count": 51,
   "id": "a00a890d-5153-4289-8915-6edfafd7d840",
   "metadata": {},
   "outputs": [],
   "source": [
    "bin_meta = [int((800-105)/5+1),105,800]\n",
    "column = 'DiLepMass'"
   ]
  },
  {
   "cell_type": "code",
   "execution_count": 52,
   "id": "6da6a9f4-7e33-4eb5-896a-a6883d89e758",
   "metadata": {},
   "outputs": [],
   "source": [
    "def process_sample(df, hist_dict, bff_cv=BFF_cut_values, ismc=0, blinded=True):\n",
    "    start = perf_counter()\n",
    "    for reg in all_reg:\n",
    "        rdf = bff_cuts_pd(df, reg, 'nominal', bff_cv=bff_cv)\n",
    "        #remove blinded data\n",
    "        if  (not ismc) and blinded and ('SR' in reg): continue\n",
    "        hist_dict[reg].fill(rdf['DiLepMass'], weight=rdf['Weight'])\n",
    "        if ismc:\n",
    "            for wup, wdown in weights:\n",
    "                w = wup.replace('Up','')\n",
    "                hist_dict[reg].get_sys(w)['up'].fill(rdf['DiLepMass'], weight=rdf[wup])\n",
    "                hist_dict[reg].get_sys(w)['down'].fill(rdf['DiLepMass'], weight=rdf[wdown])    \n",
    "            for jvup, jvdown in jet_variations:\n",
    "                jv = jvup.replace('Up','')\n",
    "                rdfup = bff_cuts_pd(df, reg, jvup)\n",
    "                hist_dict[reg].get_sys(jv)['up'].fill(rdfup['DiLepMass'], weight=rdfup['Weight'])\n",
    "                rdfdown = bff_cuts_pd(df, reg, jvdown)\n",
    "                hist_dict[reg].get_sys(jv)['down'].fill(rdfdown['DiLepMass'], weight=rdfdown['Weight'])\n",
    "    print(perf_counter()-start)\n",
    "    return hist_dict\n",
    "\n",
    "def process_all_sample(s_dict, **kwargs):\n",
    "    for files in s_dict['data']:\n",
    "        print(files)\n",
    "        df = pd.read_csv('data/'+files)\n",
    "        process_sample(df, s_dict, **kwargs)"
   ]
  },
  {
   "cell_type": "code",
   "execution_count": 53,
   "id": "e5604545-fcbe-4037-8897-e823ccb31e9c",
   "metadata": {},
   "outputs": [
    {
     "name": "stdout",
     "output_type": "stream",
     "text": [
      "tw_2016_ZToMuMu_M_400_800.csv\n",
      "0.5149880150020181\n",
      "tw_2016_ZToMuMu_M_200_400.csv\n",
      "0.356775058000494\n",
      "tw_2016_ZToEE_M_400_800.csv\n",
      "0.34095883600093657\n",
      "tw_2016_ZToEE_M_200_400.csv\n",
      "0.586916554999334\n",
      "tw_2016_ZToMuMu_M_120_200.csv\n",
      "0.3419921530003194\n",
      "tw_2016_ZToEE_M_800_1400.csv\n",
      "0.3213938839980983\n",
      "tw_2016_ZToMuMu_M_50_120.csv\n",
      "0.2971746559996973\n",
      "tw_2016_ZToMuMu_M_800_1400.csv\n",
      "0.32234336500187055\n",
      "tw_2016_ZToEE_M_50_120.csv\n",
      "0.29860410499895806\n",
      "tw_2016_ZToEE_M_120_200.csv\n",
      "0.3895937220004271\n",
      "tw_2016_mc_stop.csv\n",
      "0.3479391910004779\n",
      "tw_2016_mc_santitop.csv\n",
      "0.32565375299964217\n",
      "tw_2016_mc_ttbar.csv\n",
      "3.479951264002011\n",
      "tw_2016_mc_ww.csv\n",
      "0.4436876809995738\n",
      "tw_2016_mc_zz.csv\n",
      "0.32541917799972\n",
      "tw_2016_mc_wz.csv\n",
      "0.33687063199977274\n",
      "tw_2016_data_el.csv\n",
      "0.12351801000113483\n",
      "tw_2016_data_mu.csv\n",
      "0.14101802599907387\n",
      "tw_2016_BFFZprimeToMuMu_M_200.csv\n",
      "0.9087746660006815\n",
      "tw_2016_BFFZprimeToMuMu_M_500_dbs1p0.csv\n",
      "0.849771700999554\n",
      "tw_2016_BFFZprimeToMuMu_M_200_dbs0p5.csv\n",
      "0.7900839799985988\n",
      "tw_2016_BFFZprimeToMuMu_M_500_dbs0p5.csv\n",
      "0.9396244950003165\n",
      "tw_2016_BFFZprimeToMuMu_M_200_dbs1p0.csv\n",
      "0.8978176659984456\n",
      "tw_2016_BFFZprimeToMuMu_M_350_dbs1p0.csv\n",
      "0.9128400340014196\n",
      "tw_2016_BFFZprimeToMuMu_M_350_dbs0p5.csv\n",
      "1.433399861001817\n",
      "tw_2016_BFFZprimeToMuMu_M_500.csv\n",
      "1.2562124920004862\n",
      "tw_2016_BFFZprimeToMuMu_M_350.csv\n",
      "1.2389210610017471\n"
     ]
    }
   ],
   "source": [
    "process_all_sample(DY_dict,ismc=1)\n",
    "process_all_sample(ST_dict,ismc=1)\n",
    "process_all_sample(TT_dict,ismc=1)\n",
    "process_all_sample(VB_dict,ismc=1)\n",
    "process_all_sample(data_dict,ismc=0)\n",
    "for bff in bff_list:\n",
    "    process_all_sample(bff,ismc=1)"
   ]
  },
  {
   "cell_type": "code",
   "execution_count": 54,
   "id": "ea505b61-f137-4a2e-8334-14915a85e04c",
   "metadata": {},
   "outputs": [],
   "source": [
    "processed_stuff = {\n",
    "\"DY_dict\":DY_dict,\n",
    "\"ST_dict\":ST_dict,\n",
    "\"TT_dict\":TT_dict,\n",
    "\"VB_dict\":VB_dict,\n",
    "\"data_dict\":data_dict,\n",
    "\"bff_list\":bff_list,\n",
    "}\n",
    "import pickle\n",
    "outname=\"2016_functional_plotter.pkl\"\n",
    "with open(outname,'wb') as f:\n",
    "    pickle.dump(processed_stuff, f)"
   ]
  },
  {
   "cell_type": "code",
   "execution_count": 55,
   "id": "c4bea317-60f1-4057-a179-eb89d56e1922",
   "metadata": {},
   "outputs": [],
   "source": [
    "reg = 'CR10'\n",
    "center = DY_dict[reg].axes[0].centers\n",
    "DY_nom, DY_up, DY_down = DY_dict[reg].nom_std_arrays()\n",
    "TT_nom, TT_up, TT_down = TT_dict[reg].nom_std_arrays()\n",
    "ST_nom, ST_up, ST_down = ST_dict[reg].nom_std_arrays()\n",
    "VB_nom, VB_up, VB_down = VB_dict[reg].nom_std_arrays()\n",
    "bff_plt_list = [x[reg].nom_std_arrays() for x in  bff_list]\n",
    "data_nom,data_err  = data_dict[reg].values(),  data_dict[reg].variances()\n"
   ]
  },
  {
   "cell_type": "code",
   "execution_count": 56,
   "id": "4f364c97-8297-4297-9156-09b7120d00e0",
   "metadata": {},
   "outputs": [
    {
     "data": {
      "text/plain": [
       "(0.1, 100000.0)"
      ]
     },
     "execution_count": 56,
     "metadata": {},
     "output_type": "execute_result"
    },
    {
     "data": {
      "image/png": "[encoded data removed]",
      "text/plain": [
       "<Figure size 432x288 with 1 Axes>"
      ]
     },
     "metadata": {
      "needs_background": "light"
     },
     "output_type": "display_data"
    }
   ],
   "source": [
    "import matplotlib.pyplot as plt\n",
    "plt.stackplot(center, [VB_nom,ST_nom,TT_nom,DY_nom], alpha=.25)\n",
    "plt.errorbar(center, data_nom)\n",
    "for nom,up, down in bff_plt_list:\n",
    "    plt.plot(center, nom)\n",
    "#plt.fill_between(center, up, down, alpha=.25)\n",
    "plt.yscale('log')\n",
    "plt.ylim(bottom=1e-1, top=1e5)"
   ]
  },
  {
   "cell_type": "code",
   "execution_count": null,
   "id": "6e55343c-c5c5-4547-84d2-04b0b361ce90",
   "metadata": {},
   "outputs": [],
   "source": []
  },
  {
   "cell_type": "code",
   "execution_count": null,
   "id": "ee8a4f5c-0878-45d3-863f-7e35b79accbb",
   "metadata": {},
   "outputs": [],
   "source": []
  }
 ],
 "metadata": {
  "kernelspec": {
   "display_name": "bff_plotting",
   "language": "python",
   "name": "bff_plotting"
  },
  "language_info": {
   "codemirror_mode": {
    "name": "ipython",
    "version": 3
   },
   "file_extension": ".py",
   "mimetype": "text/x-python",
   "name": "python",
   "nbconvert_exporter": "python",
   "pygments_lexer": "ipython3",
   "version": "3.8.5"
  }
 },
 "nbformat": 4,
 "nbformat_minor": 5
}
