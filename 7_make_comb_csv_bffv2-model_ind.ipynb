{
 "cells": [
  {
   "cell_type": "code",
   "execution_count": null,
   "id": "c9856c8f",
   "metadata": {},
   "outputs": [],
   "source": [
    "import pandas as pd\n",
    "import glob \n",
    "import matplotlib.pyplot as plt\n",
    "import re\n",
    "from src.plotting_tools.cms_format import cms_format_fig, cms_style\n",
    "cms_style()\n",
    "\n",
    "from src.assets.lumi import lumi_dict\n",
    "from src.assets.shape_scaling import scale"
   ]
  },
  {
   "cell_type": "code",
   "execution_count": null,
   "id": "b789a1ad",
   "metadata": {},
   "outputs": [],
   "source": [
    "era = '201X'\n",
    "lumi_fraction = lumi_dict[str(era)]/lumi_dict['201X']\n",
    "scale = scale*lumi_fraction\n",
    "from src.assets.output_dir import output_dir\n",
    "outdir = output_dir\n",
    "outdir"
   ]
  },
  {
   "cell_type": "code",
   "execution_count": null,
   "id": "2a8c76bc",
   "metadata": {},
   "outputs": [],
   "source": [
    "scale"
   ]
  },
  {
   "cell_type": "code",
   "execution_count": null,
   "id": "fcaac558",
   "metadata": {
    "scrolled": true
   },
   "outputs": [],
   "source": [
    "filestring = '{}/combine_data/model_ind/out/{}/*.out'.format(output_dir, era)\n",
    "#filestring ='/afs/cern.ch/work/r/rymuelle/public/nanoAODzPrime/CMSSW_12_1_0/src/bff_plotting_code_v3/model_ind/out/{}/*.out'.format( era)\n",
    "files = glob.glob(filestring)\n",
    "files"
   ]
  },
  {
   "cell_type": "code",
   "execution_count": null,
   "id": "7ef23004",
   "metadata": {},
   "outputs": [],
   "source": [
    "multiplicities = ['0b(1b)', '0b(2b)', '1b', '1s', '1b+1s', '2b', '2s', 'shape']\n",
    "def getmultiplicity(text):\n",
    "    selected_mul = \"unkown\"\n",
    "    for mul in multiplicities:\n",
    "        tmul = mul.replace('(', '-').replace(')', '-')\n",
    "        tmul = '_{}.'.format(tmul)\n",
    "        if tmul in text: \n",
    "            selected_mul=mul\n",
    "    print(selected_mul, text)\n",
    "    return selected_mul"
   ]
  },
  {
   "cell_type": "code",
   "execution_count": null,
   "id": "02d0b829",
   "metadata": {},
   "outputs": [],
   "source": [
    "def get_data_from_file(f):\n",
    "    try:\n",
    "        nJets = re.findall(r'SR[0-9]', f)[0]\n",
    "    except:\n",
    "        nJets = -1\n",
    "    mass = float((re.findall(r'_(\\d{3}|\\d{3}.\\d)_', f)[0]))\n",
    "    try:\n",
    "        dbs = re.findall(r'_(\\d)p(\\d+)_', f)[0]\n",
    "    except:\n",
    "        dbs = ['0','0']\n",
    "    try:\n",
    "        reg = re.findall(r'_(SR[0-9])_', f)[0]\n",
    "    except:\n",
    "        reg = 'Comb.'\n",
    "    \n",
    "    dbs = float(('{}.{}'.format(*dbs)))\n",
    "    era = ((re.findall(r'(201.)',f)[0]))\n",
    "    condor_run = int(re.findall('txt([0-9]+)\\.',f)[0])\n",
    "    multiplicity = getmultiplicity(f)\n",
    "    with open(f, 'r') as _f:\n",
    "        r = _f.read()\n",
    "        limits = re.findall(r'Expected +(\\d+.\\d+)%: r < (\\d+.\\d+)',r)\n",
    "        limits = {float(x): float(y) for (x,y) in limits}\n",
    "        obs = re.findall(r'Observed Limit: r < (\\d+.\\d+)',r)\n",
    "        if len(obs)==1: obs = float(obs[0])\n",
    "        else: obs = 0\n",
    "    return { \"condor_run\": condor_run, \"nJets\":nJets, \"reg\":reg, \"multiplicity\":multiplicity,\n",
    "            \"mass\":mass, \"dbs\":dbs, \"era\": era, \"obs\": obs, **limits}"
   ]
  },
  {
   "cell_type": "code",
   "execution_count": null,
   "id": "8e0f6e56",
   "metadata": {
    "scrolled": true
   },
   "outputs": [],
   "source": [
    "df = pd.DataFrame(list(map(get_data_from_file, files)))"
   ]
  },
  {
   "cell_type": "code",
   "execution_count": null,
   "id": "4e9e6824",
   "metadata": {},
   "outputs": [],
   "source": [
    "# only keep latest run\n",
    "max_run = max(df.condor_run.unique())\n",
    "df = df[df.condor_run==max_run]\n",
    "max_run, df.era.unique()"
   ]
  },
  {
   "cell_type": "code",
   "execution_count": null,
   "id": "a07eec9a",
   "metadata": {},
   "outputs": [],
   "source": [
    "import matplotlib.pyplot as plt\n",
    "# confirms observed is as expected (only for synthetic data)\n",
    "plt.hist(df.obs/df[50.0])"
   ]
  },
  {
   "cell_type": "code",
   "execution_count": null,
   "id": "7acbca36",
   "metadata": {},
   "outputs": [],
   "source": [
    "#This is for style only\n",
    "era = era if era != '201X' else 'Run 2'"
   ]
  },
  {
   "cell_type": "code",
   "execution_count": null,
   "id": "fbe51781",
   "metadata": {},
   "outputs": [],
   "source": [
    "df = df[~ df.mass.isin([125, 150,175,200, 250, 300, 350])]"
   ]
  },
  {
   "cell_type": "code",
   "execution_count": null,
   "id": "2b98952a",
   "metadata": {},
   "outputs": [],
   "source": [
    "df = df[df.reg!='Comb.']"
   ]
  },
  {
   "cell_type": "code",
   "execution_count": null,
   "id": "203e3233",
   "metadata": {},
   "outputs": [],
   "source": [
    "df = df.dropna()"
   ]
  },
  {
   "cell_type": "code",
   "execution_count": null,
   "id": "da9dc690",
   "metadata": {
    "scrolled": false
   },
   "outputs": [],
   "source": [
    "for reg in ['SR1', 'SR2']:\n",
    "    fig, ax = plt.subplots()\n",
    "    cms_format_fig(era, ax, \"\\emph{Preliminary}\")\n",
    "    ax.set_ylim(1,10000)\n",
    "    ax.set_yscale('log')\n",
    "    ax.set_ylabel(' $\\sigma$ [fb]')\n",
    "    ax.set_xlabel('$m_{Z^{\\prime}}$ [GeV]')\n",
    "    for fs_type in multiplicities:\n",
    "        if fs_type in ['2s', 'shape']: continue\n",
    "        #if fs_type=='2s': continue\n",
    "        tdf = df[(df.reg==reg) & (df.multiplicity==fs_type)]\n",
    "        tdf = tdf.sort_values(\"mass\")\n",
    "        err = (tdf[50.0]-tdf[16.0])*scale/lumi_dict[era]\n",
    "        #print(fs_type, tdf[50.0]*scale/lumi_dict['Run 2'])\n",
    "        ax.errorbar(tdf.mass, tdf[50.0]*scale/lumi_dict[era], label=fs_type)\n",
    "        \n",
    "        obs = tdf.obs*scale/lumi_dict[era]\n",
    "        ax.plot(tdf.mass, obs, color='black', ls='-', marker='o')\n",
    "            \n",
    "        plt.fill_between(tdf.mass, tdf[16]*scale/lumi_dict[era], tdf[84]*scale/lumi_dict[era], alpha=.2)\n",
    "    ax.legend()\n",
    "    fig.savefig('{}/gen_b_s/{}_limit_{}.pdf'.format(outdir, reg, era))\n",
    "    "
   ]
  },
  {
   "cell_type": "code",
   "execution_count": null,
   "id": "142a71e3",
   "metadata": {
    "scrolled": true
   },
   "outputs": [],
   "source": [
    "'{}/gen_b_s/{}_limit.pdf'.format(outdir, reg)"
   ]
  },
  {
   "cell_type": "code",
   "execution_count": null,
   "id": "9a273db7",
   "metadata": {
    "scrolled": false
   },
   "outputs": [],
   "source": [
    "for reg in [ 'SR1', 'SR2']:\n",
    "    fig, ax = plt.subplots()\n",
    "    cms_format_fig(era, ax, \"\\emph{Preliminary}\")\n",
    "    ax.set_ylim(1e-2,1e3)\n",
    "    ax.set_yscale('log')\n",
    "    ax.set_ylabel(\"$\\sigma \\\\cdot Br(Z' \\\\rightarrow  \\mu\\mu)  \\\\cdot A$ [fb]\")\n",
    "    ax.set_xlabel('$m_{Z^{\\prime}}$ [GeV]')\n",
    "    tdf = df[(df.reg==reg) & (df.multiplicity=='shape')]\n",
    "    tdf = tdf.sort_values(\"mass\")\n",
    "    err = (tdf[50.0]-tdf[16.0])*scale/lumi_dict[era]\n",
    "    values = tdf[[2.5, 16.0, 50.0, 84.0, 97.5]]*scale/lumi_dict[era]\n",
    "    obs = tdf.obs*scale/lumi_dict[era]\n",
    "    plt.plot(tdf.mass, values[50], color='black', ls=':')\n",
    "    plt.plot(tdf.mass, obs, color='black', ls='-', marker='o', label='Obs.')\n",
    "    plt.fill_between(tdf.mass, values[2.5], values[97.5], color='#fffe59')\n",
    "    plt.fill_between(tdf.mass, values[16], values[84], color='#a3fb56')\n",
    "    plt.legend()\n",
    "    fig.savefig('{}/gen_b_s/{}_shape_limit_{}.pdf'.format(outdir, reg, era))\n",
    "    "
   ]
  },
  {
   "cell_type": "code",
   "execution_count": null,
   "id": "6a0d9925",
   "metadata": {},
   "outputs": [],
   "source": [
    "for reg in [ 'SR1', 'SR2']:\n",
    "    fig, ax = plt.subplots()\n",
    "    cms_format_fig(era, ax, \"\\emph{Preliminary}\")\n",
    "    ax.set_ylim(0,300)\n",
    "    #ax.set_yscale('log')\n",
    "    ax.set_ylabel(\"95\\% CL upper limit on number of events?\")\n",
    "    ax.set_xlabel('$m_{Z^{\\prime}}$ [GeV]')\n",
    "    tdf = df[(df.reg==reg) & (df.multiplicity=='shape')]\n",
    "    tdf = tdf.sort_values(\"mass\")\n",
    "    err = (tdf[50.0]-tdf[16.0])*scale\n",
    "    values = tdf[[2.5, 16.0, 50.0, 84.0, 97.5]]*scale\n",
    "    obs = tdf.obs*scale\n",
    "    plt.plot(tdf.mass, values[50], color='black', ls=':')\n",
    "    plt.plot(tdf.mass, obs, color='black', ls='-', marker='o', label='Obs.')\n",
    "    plt.fill_between(tdf.mass, values[2.5], values[97.5], color='#fffe59')\n",
    "    plt.fill_between(tdf.mass, values[16], values[84], color='#a3fb56')\n",
    "    plt.legend()\n",
    "    fig.savefig('{}/gen_b_s/{}_shape_limit_counts_{}.pdf'.format(outdir, reg, era))\n",
    "    "
   ]
  },
  {
   "cell_type": "code",
   "execution_count": null,
   "id": "e595f356",
   "metadata": {},
   "outputs": [],
   "source": [
    "'{}/gen_b_s/{}_shape_limit.pdf'.format(outdir, reg)"
   ]
  },
  {
   "cell_type": "code",
   "execution_count": null,
   "id": "c926f8cf",
   "metadata": {},
   "outputs": [],
   "source": [
    "break"
   ]
  },
  {
   "cell_type": "code",
   "execution_count": null,
   "id": "36c4ad8f",
   "metadata": {},
   "outputs": [],
   "source": []
  },
  {
   "cell_type": "code",
   "execution_count": null,
   "id": "d7b57b38",
   "metadata": {},
   "outputs": [],
   "source": []
  },
  {
   "cell_type": "code",
   "execution_count": null,
   "id": "7fedaad9",
   "metadata": {},
   "outputs": [],
   "source": []
  },
  {
   "cell_type": "code",
   "execution_count": null,
   "id": "88e8d5a6",
   "metadata": {},
   "outputs": [],
   "source": [
    "for reg in ['Comb.']:\n",
    "    fig, ax = plt.subplots()\n",
    "    cms_format_fig('Run 2', ax)\n",
    "    ax.set_ylim(0,100)\n",
    "    #ax.set_yscale('log')\n",
    "    ax.set_ylabel('x-section [fb]')\n",
    "    ax.set_xlabel('$m_{Z^{\\prime}}$ [GeV]')\n",
    "    for fs_type in ['0b', '1b', '1s', '1b+1s', '2b']:\n",
    "        tdf = df[(df.reg==reg) & (df.multiplicty==fs_type)]\n",
    "        tdf = tdf.sort_values(\"mass\")\n",
    "        err = (tdf[50.0]-tdf[16.0])*1000/lumi_dict['Run 2']\n",
    "        \n",
    "        print(fs_type, tdf[50.0]*1000/lumi_dict['Run 2'])\n",
    "        ax.errorbar(tdf.mass, tdf[50.0]*1000/lumi_dict['Run 2'], yerr=err, label=fs_type)\n",
    "    ax.legend()\n",
    "    fig.savefig('{}/gen_b_s/{}_limit.pdf'.format(output, reg))\n",
    "    "
   ]
  },
  {
   "cell_type": "code",
   "execution_count": null,
   "id": "205c0075",
   "metadata": {},
   "outputs": [],
   "source": [
    "tdf = df[df.nJets=='SRX']"
   ]
  },
  {
   "cell_type": "code",
   "execution_count": null,
   "id": "0bfd83d1",
   "metadata": {},
   "outputs": [],
   "source": [
    "import numpy as np"
   ]
  },
  {
   "cell_type": "code",
   "execution_count": null,
   "id": "e7149b66",
   "metadata": {},
   "outputs": [],
   "source": [
    "def array_to_indicies(arr):\n",
    "    unique_values = np.unique(arr)\n",
    "    index_dict = {val:i for i, val in enumerate(unique_values)}\n",
    "    return [index_dict[val] for val in arr]"
   ]
  },
  {
   "cell_type": "code",
   "execution_count": null,
   "id": "43e9de46",
   "metadata": {},
   "outputs": [],
   "source": [
    "x_val, y_val, z  = tdf.mass, tdf.dbs, tdf[50.0].values\n",
    "x, y = array_to_indicies(x_val), array_to_indicies(y_val)\n",
    "image = 0* np.empty( (np.unique(y).shape[0], np.unique(x).shape[0]) )\n",
    "image[y,x] = z"
   ]
  },
  {
   "cell_type": "code",
   "execution_count": null,
   "id": "e68c4bf1",
   "metadata": {
    "scrolled": true
   },
   "outputs": [],
   "source": [
    "fig, ax = plt.subplots()\n",
    "im_shows = ax.imshow(image, aspect='auto', extent=[x_val.min(),x_val.max(),y_val.min(),y_val.max()])\n",
    "fig.colorbar(im_shows, ax=ax)\n",
    "ax.set_xlabel(\"Z' Mass [GeV]\")\n",
    "ax.set_ylabel(\"$\\delta_{bs}$\")\n",
    "ax.set_title('50% expected limits: counts')"
   ]
  },
  {
   "cell_type": "code",
   "execution_count": null,
   "id": "932deb52",
   "metadata": {
    "scrolled": true
   },
   "outputs": [],
   "source": [
    "plt.plot(*list(zip(*sorted(zip(tdf.mass, tdf[50.0].values), key=lambda x: x[0]))))"
   ]
  },
  {
   "cell_type": "code",
   "execution_count": null,
   "id": "e1eed7ab",
   "metadata": {},
   "outputs": [],
   "source": [
    "df.to_csv('{}/combine_data/{}_count_limits.csv'.format(output_dir, era))"
   ]
  },
  {
   "cell_type": "code",
   "execution_count": null,
   "id": "b6f17403",
   "metadata": {},
   "outputs": [],
   "source": [
    "# don't run past\n",
    "break"
   ]
  },
  {
   "cell_type": "code",
   "execution_count": null,
   "id": "975f4e4e",
   "metadata": {},
   "outputs": [],
   "source": []
  },
  {
   "cell_type": "code",
   "execution_count": null,
   "id": "d955d1c9",
   "metadata": {},
   "outputs": [],
   "source": []
  },
  {
   "cell_type": "code",
   "execution_count": null,
   "id": "6a83dc73",
   "metadata": {},
   "outputs": [],
   "source": []
  },
  {
   "cell_type": "code",
   "execution_count": null,
   "id": "116901d5",
   "metadata": {},
   "outputs": [],
   "source": [
    "import matplotlib.pyplot as plt"
   ]
  },
  {
   "cell_type": "code",
   "execution_count": null,
   "id": "77377257",
   "metadata": {},
   "outputs": [],
   "source": [
    "import uproot as upr"
   ]
  },
  {
   "cell_type": "code",
   "execution_count": null,
   "id": "9f005e5e",
   "metadata": {},
   "outputs": [],
   "source": [
    "upf = upr.open('/afs/cern.ch/work/r/rymuelle/public/nanoAODzPrime/CMSSW_12_1_0/src/bff_plotting_code_v3/assets_nov_2022/combine_data/2017/2017_shapes_df_input.root')"
   ]
  },
  {
   "cell_type": "code",
   "execution_count": null,
   "id": "a5b61abb",
   "metadata": {},
   "outputs": [],
   "source": [
    "upf.keys()"
   ]
  },
  {
   "cell_type": "code",
   "execution_count": null,
   "id": "2d069a30",
   "metadata": {},
   "outputs": [],
   "source": [
    "plt.plot(upf['SR1-sys_0_nominal-background'].values())\n",
    "plt.plot(upf['SR1-sys_0_jer_2017_Up-sig202'].values()*100)\n"
   ]
  },
  {
   "cell_type": "code",
   "execution_count": null,
   "id": "329f92b7",
   "metadata": {},
   "outputs": [],
   "source": [
    "plt.plot(upf['SR1-sys_0_nominal-background'].values())\n",
    "plt.plot(upf['SR1-sys_0_jer_2016_Up-sig202'].values()*100)\n",
    "plt.plot(upf['SR1-sys_0_nominal-sig202'].values()*100)\n",
    "\n",
    "plt.plot(upf['SR1-sys_0_jer_2016_Up-sig195'].values()*100)\n",
    "plt.plot(upf['SR1-sys_0_nominal-sig202'].values()*100)"
   ]
  },
  {
   "cell_type": "code",
   "execution_count": null,
   "id": "b4192331",
   "metadata": {},
   "outputs": [],
   "source": []
  },
  {
   "cell_type": "code",
   "execution_count": null,
   "id": "875db9f3",
   "metadata": {},
   "outputs": [],
   "source": []
  }
 ],
 "metadata": {
  "kernelspec": {
   "display_name": "bff_12_1",
   "language": "python",
   "name": "bff_12_1"
  },
  "language_info": {
   "codemirror_mode": {
    "name": "ipython",
    "version": 3
   },
   "file_extension": ".py",
   "mimetype": "text/x-python",
   "name": "python",
   "nbconvert_exporter": "python",
   "pygments_lexer": "ipython3",
   "version": "3.9.6"
  }
 },
 "nbformat": 4,
 "nbformat_minor": 5
}
