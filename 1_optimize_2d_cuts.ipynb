{
 "cells": [
  {
   "cell_type": "code",
   "execution_count": null,
   "id": "8b68ec4b-5187-49b2-a87f-d83aac2f8e9c",
   "metadata": {},
   "outputs": [],
   "source": [
    "import pandas as pd\n",
    "import numpy as np\n",
    "from bff_processor.data_tools import regex_select, get_files, make_df\n",
    "from bff_processor.utils import time_func, hist2unc, linear_old, parabola, significance, power_func, apply_multiple_filters\n",
    "linear = linear_old\n",
    "from bff_processor.bff_meta import preselection, band_cut, isin, identity\n",
    "from bff_processor.plotting_utils import produce_bff_hists, boost_plot, boost_plot2d, unc_plot\n",
    "import boost_histogram as bh\n",
    "import matplotlib.pyplot as plt\n",
    "import mplhep as hep\n",
    "hep.style.use(hep.style.CMS)"
   ]
  },
  {
   "cell_type": "code",
   "execution_count": null,
   "id": "e843b32d-f4ca-4922-9ffb-9b043af0137a",
   "metadata": {},
   "outputs": [],
   "source": [
    "# This sets up matplotlib to use latex\n",
    "plt.rcParams.update({\n",
    "    \"text.usetex\": True,\n",
    "    })"
   ]
  },
  {
   "cell_type": "code",
   "execution_count": null,
   "id": "c1caff0d-97e7-4dcc-8148-8ec4dca7013d",
   "metadata": {
    "scrolled": true
   },
   "outputs": [],
   "source": [
    "# set which eras you want, 9999 == all eras\n",
    "era = 9999\n",
    "file_re = 'tw_(?:2016|2017|2018).+\\.csv'\n",
    "#get files matching regex\n",
    "file_dict = get_files(file_re)\n",
    "file_dict"
   ]
  },
  {
   "cell_type": "code",
   "execution_count": null,
   "id": "91de201e-2bbb-47b0-ba50-aeddae2ba898",
   "metadata": {},
   "outputs": [],
   "source": [
    "#make df of background\n",
    "backgrounds = file_dict['DY']+file_dict['TT']+file_dict['ST']+file_dict['VB']\n",
    "background_df = preselection()(make_df(backgrounds))"
   ]
  },
  {
   "cell_type": "code",
   "execution_count": null,
   "id": "86f7441d-36eb-4766-bc55-357b4e492cd4",
   "metadata": {},
   "outputs": [],
   "source": [
    "#make df of background signals\n",
    "import re\n",
    "bff_dict_names = {}\n",
    "for fname in file_dict['BFF']:\n",
    "    name = re.findall('_M_([0-9]+)_dbs(\\d)p(\\d+)', fname)\n",
    "    if len(name)==1: name = name[0]\n",
    "    else: continue\n",
    "    name = \"{} {}.{}\".format(*name)\n",
    "    if name not in bff_dict_names:\n",
    "        bff_dict_names[name] = []\n",
    "    bff_dict_names[name].append(fname)"
   ]
  },
  {
   "cell_type": "code",
   "execution_count": null,
   "id": "4413ca94",
   "metadata": {},
   "outputs": [],
   "source": [
    "#make signal dict only if they have right number of samples (3 for 16, 17, 18)\n",
    "bff_dict = {} \n",
    "for name, item in bff_dict_names.items():\n",
    "    if len(item) != 3: continue\n",
    "    if '0.04' not in name: continue\n",
    "    print(name)\n",
    "    bff_dict[name] = preselection()(make_df(item))\n",
    "bff_samples = ['125 0.04', '150 0.04', '200 0.04', '350 0.04', '500 0.04']\n",
    "bff_dict.keys()"
   ]
  },
  {
   "cell_type": "code",
   "execution_count": null,
   "id": "bdc2ec36-1cf4-4ebd-b267-e6406c1f617c",
   "metadata": {},
   "outputs": [],
   "source": [
    "#defines plots to make, and ranges to plot them over\n",
    "columns = [\n",
    "    ['DiLepMass', [139,105,800]],\n",
    "    ['TMB_nom',       [80,0, 800]],\n",
    "    ['HTLT_nom',      [100,-500,500]],\n",
    "    ['RelMET_nom',    [100, 0,1]]\n",
    "]"
   ]
  },
  {
   "cell_type": "code",
   "execution_count": null,
   "id": "81c318d5-4b74-477f-91df-d239a4e5b541",
   "metadata": {
    "tags": []
   },
   "outputs": [],
   "source": [
    "#optimize RelMET cut:\n",
    "def column_1d_sig(sig_df, bck_df, mass_band=1, filter_func=lambda x: x):\n",
    "    #select for region\n",
    "    _sig_df = filter_func(sig_df)\n",
    "    _bck_df =  filter_func(bck_df)\n",
    "    mean, std = sig_df['DiLepMass'].mean(), sig_df['DiLepMass'].std()\n",
    "    widht = std*mass_band\n",
    "    #mass band cut\n",
    "    _sig_df = band_cut('DiLepMass',mean-widht, mean+widht)(_sig_df)\n",
    "    _bck_df = band_cut('DiLepMass',mean-widht, mean+widht)(_bck_df)\n",
    "    bck_1d_hist, bck_2d_hist = produce_bff_hists(_bck_df, \"\", columns, weight='Weight')\n",
    "    sig_1d_hist, sig_2d_hist = produce_bff_hists(_sig_df, \"\", columns, weight='Weight')\n",
    "    return bck_1d_hist, sig_1d_hist, bck_2d_hist, sig_2d_hist"
   ]
  },
  {
   "cell_type": "code",
   "execution_count": null,
   "id": "2a392778-271b-4f86-a4e3-b6fcbe7bb367",
   "metadata": {
    "tags": []
   },
   "outputs": [],
   "source": [
    "def calc_sig_cut(s,b, direction=1):\n",
    "    '''Calculates significance (s/sqrt(s+b)) for a left cut for each bin. direction=-1 reverses direction'''\n",
    "    from itertools import accumulate\n",
    "    s,b = np.array(list(accumulate(s[::direction])))[::direction], np.array(list(accumulate(b[::direction])))[::direction]\n",
    "    return significance(s,b)"
   ]
  },
  {
   "cell_type": "code",
   "execution_count": null,
   "id": "871cb733-cab5-49e5-b2b0-3f665a247db7",
   "metadata": {
    "tags": []
   },
   "outputs": [],
   "source": [
    "from scipy.stats import norm\n",
    "def map_signf(value, signf, centers):\n",
    "    '''For fitting'''\n",
    "    diff = np.abs(centers - value)\n",
    "    delta  = (centers[1] - centers[0])\n",
    "    weight = norm.pdf(diff, loc=0, scale=delta*1)\n",
    "    wval = np.dot(signf,weight)/np.sum(weight+1e-12)\n",
    "    return wval.nominal_value\n"
   ]
  },
  {
   "cell_type": "code",
   "execution_count": null,
   "id": "f8df8087-4268-4d8e-9512-0ff24e5b5e87",
   "metadata": {
    "tags": []
   },
   "outputs": [],
   "source": [
    "def fit_sig(masses, sigs, centers, fit_function, *popt):\n",
    "    '''Fit function for curve fit?'''\n",
    "    signfs = []\n",
    "    for m, sig in zip(masses,sigs):\n",
    "        cut_val = fit_function(m,*popt)\n",
    "        signf = map_signf(cut_val, sig, centers)\n",
    "        signfs.append(signf+1e-12)\n",
    "    return np.dot(-np.array(signfs), np.power(masses, 0))"
   ]
  },
  {
   "cell_type": "code",
   "execution_count": null,
   "id": "433fabee-959b-4a65-a412-ccbc6fa229a5",
   "metadata": {},
   "outputs": [],
   "source": [
    "from scipy.optimize import curve_fit, minimize, differential_evolution\n",
    "from bff_processor.utils import vunc2nom, vunc2std\n",
    "import uncertainties"
   ]
  },
  {
   "cell_type": "code",
   "execution_count": null,
   "id": "85dbe195-798a-4f84-9467-541fa2d32f40",
   "metadata": {
    "tags": []
   },
   "outputs": [],
   "source": [
    "def plot_opt_sig(column,bff_dict, background_df, func2fit, minimize_func=True,  filter_func=lambda x: x, postfix=\"\",direction=1, p0=[0,.5], title_size=20):\n",
    "    '''Makes plot of funcitons, significance, etc... Also fits function'''\n",
    "    fig,ax = plt.subplots(2,len(bff_samples), figsize=[38,15])\n",
    "    fit_x = []\n",
    "    fit_y = []\n",
    "    fit_y_unc = []\n",
    "    sigs = []\n",
    "    masses = []\n",
    "    for j, m in enumerate(bff_samples):\n",
    "        mass = int(re.findall('([0-9]+)',m)[0])\n",
    "        if m not in bff_dict: continue\n",
    "        bck_1d_hist, sig_1d_hist, bck_2d_hist, sig_2d_hist = column_1d_sig(bff_dict[m], background_df, mass_band=2,filter_func=filter_func)\n",
    "        \n",
    "        top_ax = ax[0,j]\n",
    "        top_ax.set_xlabel(column.replace('_',' '))\n",
    "        boost_plot(top_ax, bck_1d_hist[column] ,label='bck')\n",
    "        boost_plot(top_ax, sig_1d_hist[column] ,label='sig')\n",
    "        title = r'{} GeV $\\delta_{{bs}}$ {}'.format(*m.split(' '))\n",
    "        top_ax.set_title(title, fontsize=title_size)\n",
    "        top_ax.legend()\n",
    "        \n",
    "        s,b = hist2unc(sig_1d_hist[column]), hist2unc(bck_1d_hist[column])\n",
    "        signf_val = calc_sig_cut(s,b, direction=direction)\n",
    "        \n",
    "        centers = sig_1d_hist[column].axes[0].centers\n",
    "        unc_plot(ax[1][j], centers, signf_val, zorder=1)\n",
    "        peak_index = np.argmax(signf_val)\n",
    "        peak_center = centers[peak_index]\n",
    "        peak_height = signf_val[peak_index]\n",
    "        \n",
    "        sigs.append(signf_val)\n",
    "        masses.append(mass)\n",
    "            \n",
    "        #uncertainty of center\n",
    "        upper_limit = vunc2nom(signf_val)+vunc2std(signf_val)\n",
    "        in_range = centers[upper_limit > peak_height]\n",
    "        sigma_range = np.asarray((in_range[0], in_range[-1]))\n",
    "        unc = np.max(np.abs(sigma_range-peak_center))\n",
    "        fit_x.append(mass)\n",
    "        fit_y.append(peak_center)\n",
    "        fit_y_unc.append(unc)\n",
    "        \n",
    "        ax[1][j].set_title(\"max: {:.2f}+/-{:.2f}\".format(peak_center, unc), fontsize=title_size)\n",
    "    \n",
    "    ax[0][0].set_ylabel('Counts')\n",
    "    ax[1][0].set_ylabel(r'Significance $\\frac{s}{\\sqrt{s+b}}$')\n",
    "    \n",
    "    fit_func = lambda popt: fit_sig(masses, sigs, centers, func2fit, *popt)\n",
    "    if minimize_func:\n",
    "        min_val = minimize(fit_func, p0)\n",
    "        print(min_val)\n",
    "        popt = min_val.x\n",
    "    masses = np.array(masses)\n",
    "    #cut_points = linear(masses, *popt)\n",
    "    cut_points = func2fit(masses, *popt)\n",
    "    \n",
    "    for j, (m, c, s) in enumerate(zip(masses, cut_points, sigs)):\n",
    "        sig_at_cut = map_signf(c, s, centers)\n",
    "        print(sig_at_cut, c)\n",
    "        #ax[1][j].plot([c,c], [0,sig_at_cut], zorder=1)\n",
    "        ax[1][j].scatter([c], [sig_at_cut], zorder=1,s=150, c='red', marker=(5, 1), label='cut loc.')\n",
    "        ax[1][j].legend(loc=4)\n",
    "    fig.savefig(\"output/sig_tuning/{}_{}_{}.pdf\".format(era, column, postfix), transparent=False)\n",
    "    return popt\n",
    "    \n",
    "    #return popt\n",
    "        #break"
   ]
  },
  {
   "cell_type": "code",
   "execution_count": null,
   "id": "b944c9b1-eff0-4d1b-a7c4-36458ae8835b",
   "metadata": {},
   "outputs": [],
   "source": [
    "# fit Relmet first\n",
    "popt_relmet_1  = plot_opt_sig('RelMET_nom',bff_dict, background_df, power_func, filter_func=isin('SR1_nom'), postfix='_one_jet', p0=[300,-1.33])\n",
    "popt_relmet_2  = plot_opt_sig('RelMET_nom',bff_dict, background_df, power_func, filter_func=isin('SR2_nom'), postfix='_two_jet', p0=[300,-1.2])"
   ]
  },
  {
   "cell_type": "code",
   "execution_count": null,
   "id": "a06f10c4-6422-4e7e-bda0-0467e5a0c421",
   "metadata": {},
   "outputs": [],
   "source": [
    "def band_cut2d(column1, column2, function, low=[0,-np.inf], high=[0,np.inf]):\n",
    "    '''cuts a linear band in 2d space.'''\n",
    "    import pandas as pd \n",
    "    def cut_df(df):\n",
    "        return df[(function(df[column1],*low) < df[column2]) & (function(df[column1],*high) > df[column2])]\n",
    "    return cut_df    "
   ]
  },
  {
   "cell_type": "code",
   "execution_count": null,
   "id": "d304adda-8acc-4ef3-b605-94fbf3efa134",
   "metadata": {},
   "outputs": [],
   "source": [
    "def replace_bf_metadata(bf_dict, name1, name2):\n",
    "    '''Renames axes for boost hist'''\n",
    "    for reg in bf_dict:\n",
    "        bf_dict[reg].axes[0].metadata = name1\n",
    "        bf_dict[reg].axes[1].metadata = name2\n",
    "    return bf_dict\n",
    "\n",
    "def visualize_2d(col2, bff_dict, background_df, name='', filter_func=lambda x: x, title_size=20,**kwargs):\n",
    "    '''This wont work if the plot producer doesn't have the right format'''\n",
    "    col1= 'DiLepMass'\n",
    "    test_cut_bck = filter_func(background_df)\n",
    "    _, test_2d = produce_bff_hists(test_cut_bck, name, columns, weight='Weight')\n",
    "    test_2d =  replace_bf_metadata(test_2d, col1, col2.replace('_',' '))\n",
    "    \n",
    "    sig_plts = {}\n",
    "    for m in bff_samples:\n",
    "        test_cut_sig = filter_func(bff_dict[m])\n",
    "        _, test_2d_sig = produce_bff_hists(test_cut_sig, name, columns, weight='Weight')\n",
    "        test_2d_sig =  replace_bf_metadata(test_2d_sig, col1, col2.replace('_',' '))\n",
    "        sig_plts[m] = test_2d_sig\n",
    "        \n",
    "    fig,ax = plt.subplots(1,1+len(sig_plts), figsize=[38,7])\n",
    "    boost_plot2d(ax[0], test_2d['{}_{}'.format(col1,col2)],log=1)\n",
    "    ax[0].set_title('background')\n",
    "    for i, (m,tdict) in enumerate(sig_plts.items()):\n",
    "        boost_plot2d(ax[i+1], tdict['{}_{}'.format(col1,col2)],log=1)\n",
    "        ax[i+1].set_ylabel('')\n",
    "        ax[i+1].set_title(r'{} GeV $\\delta_{{bs}}$ {}'.format(*m.split(' ')), fontsize=title_size)\n",
    "    fig.savefig('output/sig_tuning/{}_{}_{}_2d.pdf'.format(name,col1,col2))"
   ]
  },
  {
   "cell_type": "code",
   "execution_count": null,
   "id": "7d61f653-5b75-43cc-b8dc-d6c0cb1a3cc3",
   "metadata": {
    "tags": []
   },
   "outputs": [],
   "source": [
    "# Draw relmet 2d cut\n",
    "visualize_2d('RelMET_nom', bff_dict, background_df, name='oneJet_nocut', filter_func=isin('SR1_nom'))\n",
    "visualize_2d('RelMET_nom', bff_dict, background_df, name='twoJet_nocut', filter_func=isin('SR2_nom'))"
   ]
  },
  {
   "cell_type": "code",
   "execution_count": null,
   "id": "6232a015-dc61-4816-8613-2b1047d30eca",
   "metadata": {},
   "outputs": [],
   "source": [
    "#print best fit params\n",
    "popt_relmet_1, popt_relmet_2"
   ]
  },
  {
   "cell_type": "code",
   "execution_count": null,
   "id": "2e0a487c-de4d-442c-ab41-e7c96058aa6a",
   "metadata": {},
   "outputs": [],
   "source": [
    "def RelMET_filter(df, col, *popt):\n",
    "    '''This function filters relmet'''\n",
    "    return power_func(df.DiLepMass, *popt) > df[col]\n",
    "\n",
    "#remet filter function\n",
    "RelMET_filter1 = lambda df, col: RelMET_filter(df, col, *popt_relmet_1)\n",
    "RelMET_filter2 = lambda df, col: RelMET_filter(df, col, *popt_relmet_2)\n",
    "\n",
    "#filter function for whole string\n",
    "RelMET_f1_SR1_nom = lambda df: apply_multiple_filters(df, [df.SR1_nom, RelMET_filter1(df, 'RelMET_nom')])\n",
    "RelMET_f2_SR2_nom = lambda df: apply_multiple_filters(df, [df.SR2_nom, RelMET_filter2(df, 'RelMET_nom')])\n",
    "\n",
    "#draw post filter\n",
    "visualize_2d('RelMET_nom', bff_dict, background_df, name='oneJet_cut', filter_func=RelMET_f1_SR1_nom)\n",
    "visualize_2d('RelMET_nom', bff_dict, background_df, name='twoJet_cut', filter_func=RelMET_f2_SR2_nom)"
   ]
  },
  {
   "cell_type": "code",
   "execution_count": null,
   "id": "a3b57c7a-db22-4325-b610-d134d5ff70bc",
   "metadata": {},
   "outputs": [],
   "source": [
    "popt_htlt_1 = plot_opt_sig('HTLT_nom',bff_dict, background_df, linear, filter_func=RelMET_f1_SR1_nom, postfix='_one_jet', p0=[-1.13,351])\n",
    "popt_htlt_2 = plot_opt_sig('HTLT_nom',bff_dict, background_df,linear, filter_func=RelMET_f2_SR2_nom, postfix='_two_jet', p0=[-1.11,332])"
   ]
  },
  {
   "cell_type": "code",
   "execution_count": null,
   "id": "02b819e2-eb29-436c-a972-6593886bf4e1",
   "metadata": {},
   "outputs": [],
   "source": [
    "visualize_2d('HTLT_nom', bff_dict, background_df, name='oneJet_nocut', filter_func=RelMET_f1_SR1_nom)\n",
    "visualize_2d('HTLT_nom', bff_dict, background_df, name='twoJet_nocut', filter_func=RelMET_f2_SR2_nom)"
   ]
  },
  {
   "cell_type": "code",
   "execution_count": null,
   "id": "23594cd5-1501-4738-8d7b-87c77e029ef9",
   "metadata": {},
   "outputs": [],
   "source": [
    "def HTLT_filter(df, col, *popt):\n",
    "    return linear(df.DiLepMass, *popt) > df[col]\n",
    "\n",
    "HTLT_filter1 = lambda df, col: HTLT_filter(df, col, *popt_htlt_1)\n",
    "HTLT_filter2 = lambda df, col: HTLT_filter(df, col, *popt_htlt_2)\n",
    "\n",
    "\n",
    "HTLT_f1_SR1_nom = lambda df: apply_multiple_filters(df, [df.SR1_nom, RelMET_filter1(df, 'RelMET_nom'), HTLT_filter1(df, 'HTLT_nom')])\n",
    "HTLT_f2_SR2_nom = lambda df: apply_multiple_filters(df, [df.SR2_nom, RelMET_filter2(df, 'RelMET_nom'), HTLT_filter2(df, 'HTLT_nom')])\n",
    "\n",
    "visualize_2d('HTLT_nom', bff_dict, background_df, name='oneJet_cut', filter_func=HTLT_f1_SR1_nom)\n",
    "visualize_2d('HTLT_nom', bff_dict, background_df, name='twoJet_cut', filter_func=HTLT_f2_SR2_nom)"
   ]
  },
  {
   "cell_type": "code",
   "execution_count": null,
   "id": "95496f83-5d78-4521-925e-64e64ae1c8df",
   "metadata": {},
   "outputs": [],
   "source": [
    "def heaviside(x, cutoff, scale):\n",
    "    return np.heaviside(x-cutoff, 0)*scale"
   ]
  },
  {
   "cell_type": "code",
   "execution_count": null,
   "id": "0bcfeb52-1959-4590-99c0-f53d74eae122",
   "metadata": {},
   "outputs": [],
   "source": [
    "popt_TMB_1 = plot_opt_sig('TMB_nom',bff_dict, background_df,heaviside, filter_func=HTLT_f1_SR1_nom, postfix='_one_jet',direction=-1, p0=[300,100])\n",
    "popt_TMB_2 = plot_opt_sig('TMB_nom',bff_dict, background_df,heaviside, filter_func=HTLT_f2_SR2_nom, postfix='_two_jet',direction=-1, p0=[225,100])"
   ]
  },
  {
   "cell_type": "code",
   "execution_count": null,
   "id": "fe044119-1d25-4971-b6d8-7340f6fb6314",
   "metadata": {},
   "outputs": [],
   "source": [
    "visualize_2d('TMB_nom', bff_dict, background_df, name='oneJet_nocut', filter_func=HTLT_f1_SR1_nom)\n",
    "visualize_2d('TMB_nom', bff_dict, background_df, name='twoJet_nocut', filter_func=HTLT_f2_SR2_nom)"
   ]
  },
  {
   "cell_type": "code",
   "execution_count": null,
   "id": "8dd9bd00-73b9-45d3-aca6-1da85cb06289",
   "metadata": {},
   "outputs": [],
   "source": [
    "popt_TMB_2"
   ]
  },
  {
   "cell_type": "code",
   "execution_count": null,
   "id": "80cc52da-6105-4dca-b13a-bfaf00f9f482",
   "metadata": {},
   "outputs": [],
   "source": [
    "def TMB_filter(df, col, *popt):\n",
    "    return heaviside(df.DiLepMass, *popt) < df[col]\n",
    "\n",
    "TMB_filter1 = lambda df, col: TMB_filter(df, col, *popt_TMB_1)\n",
    "TMB_filter2 = lambda df, col: TMB_filter(df, col, *popt_TMB_2)\n",
    "\n",
    "\n",
    "TMB_f1_SR1_nom = lambda df: apply_multiple_filters(df, [df.SR1_nom, RelMET_filter1(df, 'RelMET_nom'), HTLT_filter1(df, 'HTLT_nom'), TMB_filter1(df, 'TMB_nom') ])\n",
    "TMB_f2_SR2_nom = lambda df: apply_multiple_filters(df, [df.SR2_nom, RelMET_filter2(df, 'RelMET_nom'), HTLT_filter2(df, 'HTLT_nom'), TMB_filter2(df, 'TMB_nom')])\n",
    "\n",
    "\n",
    "visualize_2d('TMB_nom', bff_dict, background_df, name='oneJet_cut', filter_func=TMB_f1_SR1_nom)\n",
    "visualize_2d('TMB_nom', bff_dict, background_df, name='twoJet_cut', filter_func=TMB_f2_SR2_nom)"
   ]
  },
  {
   "cell_type": "code",
   "execution_count": null,
   "id": "74c8ecb8-f25f-4062-aa1f-d0145447119c",
   "metadata": {},
   "outputs": [],
   "source": [
    "import dill as pickle"
   ]
  },
  {
   "cell_type": "code",
   "execution_count": null,
   "id": "d63c6b77-72a0-4f79-898a-7892a5e073f1",
   "metadata": {},
   "outputs": [],
   "source": [
    "param_dict = {\n",
    "    \"popt_TMB_1\":popt_TMB_1,\n",
    "    \"popt_TMB_2\":popt_TMB_2,\n",
    "    \"popt_htlt_1\":popt_htlt_1,\n",
    "    \"popt_htlt_2\":popt_htlt_2,\n",
    "    \"popt_relmet_1\":popt_relmet_1,\n",
    "    \"popt_relmet_2\":popt_relmet_2,\n",
    "    #'htlt_func': 'linear',\n",
    "    #'relmet_func':'power',\n",
    "    #'TMB_func': 'heaviside',\n",
    "    #\"RelMET_filter1\":RelMET_filter1,\n",
    "    #\"RelMET_filter2\":RelMET_filter2,\n",
    "    #\"TMB_filter1\":TMB_filter1,\n",
    "    #\"TMB_filter2\":TMB_filter2,\n",
    "    #\"HTLT_filter1\":HTLT_filter1,\n",
    "    #\"HTLT_filter2\":HTLT_filter2,\n",
    "    #'bff_1': lambda df,jv: apply_multiple_filters(df, [RelMET_filter1(df, 'RelMET_{}'.format(jv)), HTLT_filter1(df, 'HTLT_{}'.format(jv)), TMB_filter1(df, 'TMB_{}'.format(jv))]),\n",
    "    #'bff_2': lambda df,jv: apply_multiple_filters(df, [RelMET_filter2(df, 'RelMET_{}'.format(jv)), HTLT_filter2(df, 'HTLT_{}'.format(jv)), TMB_filter2(df, 'TMB_{}'.format(jv))]),\n",
    "}"
   ]
  },
  {
   "cell_type": "code",
   "execution_count": null,
   "id": "e24717c8-e532-4056-aa53-d97872b90d78",
   "metadata": {},
   "outputs": [],
   "source": [
    "import yaml\n",
    "with open('bff_cut.yml', 'w') as f:\n",
    "     yaml.dump(param_dict, f)"
   ]
  },
  {
   "cell_type": "code",
   "execution_count": null,
   "id": "db8646c7-f622-41cd-8d88-14cd007acde1",
   "metadata": {},
   "outputs": [],
   "source": [
    "with open('bff_cut.dill', 'wb') as f:\n",
    "    pickle.dump(param_dict, f)"
   ]
  },
  {
   "cell_type": "code",
   "execution_count": null,
   "id": "9a7975e5-a18f-4ddd-bf6f-1c04b3725413",
   "metadata": {},
   "outputs": [],
   "source": [
    "with open('bff_cut.dill', 'rb') as f:\n",
    "    param_dict_loaded = pickle.load(f)"
   ]
  },
  {
   "cell_type": "code",
   "execution_count": null,
   "id": "be8975b9-32c1-419c-b099-482adc0badfc",
   "metadata": {},
   "outputs": [],
   "source": [
    "param_dict"
   ]
  }
 ],
 "metadata": {
  "kernelspec": {
   "display_name": "bff_12_1",
   "language": "python",
   "name": "bff_12_1"
  },
  "language_info": {
   "codemirror_mode": {
    "name": "ipython",
    "version": 3
   },
   "file_extension": ".py",
   "mimetype": "text/x-python",
   "name": "python",
   "nbconvert_exporter": "python",
   "pygments_lexer": "ipython3",
   "version": "3.9.6"
  }
 },
 "nbformat": 4,
 "nbformat_minor": 5
}
