{
 "cells": [
  {
   "cell_type": "code",
   "execution_count": 1,
   "id": "8b68ec4b-5187-49b2-a87f-d83aac2f8e9c",
   "metadata": {
    "tags": []
   },
   "outputs": [],
   "source": [
    "import pandas as pd\n",
    "import numpy as np\n",
    "from bff_processor.data_tools import regex_select, get_files, make_df\n",
    "from bff_processor.utils import time_func, hist2unc, linear, parabola, heaviside, significance, power_func, apply_multiple_filters\n",
    "from bff_processor.bff_meta import preselection, band_cut, isin, identity, all_reg, weights, jet_variations\n",
    "from bff_processor.plotting_utils import produce_bff_hists, boost_plot, boost_plot2d, unc_plot\n",
    "from bff_processor.bff_cuts import bff_1, bff_2, reg_filter\n",
    "from bff_processor.sig_op_func import *\n",
    "import boost_histogram as bh\n",
    "import matplotlib.pyplot as plt\n",
    "import mplhep as hep\n",
    "hep.set_style(hep.style.CMS)\n",
    "import dill as pickle"
   ]
  },
  {
   "cell_type": "code",
   "execution_count": 2,
   "id": "e4d3150a-aea8-4b46-93d4-99458b6a62e9",
   "metadata": {},
   "outputs": [],
   "source": [
    "plt.rcParams.update({\n",
    "    \"text.usetex\": True,\n",
    "    })"
   ]
  },
  {
   "cell_type": "code",
   "execution_count": 3,
   "id": "c1caff0d-97e7-4dcc-8148-8ec4dca7013d",
   "metadata": {},
   "outputs": [],
   "source": [
    "# get <era> files\n",
    "era = 2016\n",
    "file_re = regex_select(era)\n",
    "file_dict = get_files(file_re)"
   ]
  },
  {
   "cell_type": "code",
   "execution_count": 4,
   "id": "91de201e-2bbb-47b0-ba50-aeddae2ba898",
   "metadata": {},
   "outputs": [],
   "source": [
    "#make df of background\n",
    "backgrounds = file_dict['DY']+file_dict['TT']+file_dict['ST']+file_dict['VB']\n",
    "background_df = preselection()(make_df(backgrounds))"
   ]
  },
  {
   "cell_type": "code",
   "execution_count": 5,
   "id": "86f7441d-36eb-4766-bc55-357b4e492cd4",
   "metadata": {},
   "outputs": [
    {
     "name": "stdout",
     "output_type": "stream",
     "text": [
      "['data/tw_2016_BFFZprimeToMuMu_M_500_dbs0p04.csv']\n",
      "['data/tw_2016_BFFZprimeToMuMu_M_250_dbs0p04.csv']\n",
      "['data/tw_2016_BFFZprimeToMuMu_M_200_dbs0p04.csv']\n",
      "['data/tw_2016_BFFZprimeToMuMu_M_500_dbs1p0.csv']\n",
      "['data/tw_2016_BFFZprimeToMuMu_M_200_dbs0p5.csv']\n",
      "['data/tw_2016_BFFZprimeToMuMu_M_175_dbs0p04.csv']\n",
      "['data/tw_2016_BFFZprimeToMuMu_M_350_dbs0p04.csv']\n",
      "['data/tw_2016_BFFZprimeToMuMu_M_500_dbs0p5.csv']\n",
      "['data/tw_2016_BFFZprimeToMuMu_M_125_dbs0p04.csv']\n",
      "['data/tw_2016_BFFZprimeToMuMu_M_200_dbs1p0.csv']\n",
      "['data/tw_2016_BFFZprimeToMuMu_M_350_dbs1p0.csv']\n",
      "['data/tw_2016_BFFZprimeToMuMu_M_350_dbs0p5.csv']\n",
      "['data/tw_2016_BFFZprimeToMuMu_M_150_dbs0p04.csv']\n",
      "['data/tw_2016_BFFZprimeToMuMu_M_400_dbs0p04.csv']\n",
      "['data/tw_2016_BFFZprimeToMuMu_M_300_dbs0p04.csv']\n"
     ]
    },
    {
     "data": {
      "text/plain": [
       "dict_keys(['500 0.04', '250 0.04', '200 0.04', '500 1.0', '200 0.5', '175 0.04', '350 0.04', '500 0.5', '125 0.04', '200 1.0', '350 1.0', '350 0.5', '150 0.04', '400 0.04', '300 0.04'])"
      ]
     },
     "execution_count": 5,
     "metadata": {},
     "output_type": "execute_result"
    }
   ],
   "source": [
    "#make df of signals\n",
    "import re\n",
    "bff_dict = {}\n",
    "for fname in file_dict['BFF']:\n",
    "    #print(fname)\n",
    "    name = re.findall('_M_([0-9]+)_dbs(\\d)p(\\d+)', fname)[0]\n",
    "    name = \"{} {}.{}\".format(*name)\n",
    "    #print(name)\n",
    "    if name not in bff_dict:\n",
    "        bff_dict[name] = []\n",
    "    bff_dict[name].append(fname)\n",
    "for name, item in bff_dict.items():\n",
    "    if len(item) != 1: continue\n",
    "    print(item)\n",
    "    bff_dict[name] = preselection()(make_df(item))\n",
    "bff_dict.keys()"
   ]
  },
  {
   "cell_type": "code",
   "execution_count": 7,
   "id": "725b02b2-a369-4c9f-ae0b-ba3a352f3b9e",
   "metadata": {},
   "outputs": [],
   "source": [
    "reg_filter = lambda df, reg: df[df[reg]==1]"
   ]
  },
  {
   "cell_type": "code",
   "execution_count": 13,
   "id": "1ac0bd72-cafa-447a-8e49-c35284d2eca4",
   "metadata": {},
   "outputs": [
    {
     "data": {
      "text/plain": [
       "(['SR1', 'SR2', 'CR10', 'CR20', 'CR13', 'CR23', 'CR14', 'CR24'],\n",
       " [['Weight_PuUp', 'Weight_PuDown'],\n",
       "  ['Weight_BTagUp', 'Weight_BTagDown'],\n",
       "  ['Weight_PUIDUp', 'Weight_PUIDDown'],\n",
       "  ['Weight_PDF_ISRFSR_Up', 'Weight_PDF_ISRFSR_Down'],\n",
       "  ['Weight_MuonSFUp', 'Weight_MuonSFDown'],\n",
       "  ['Weight_ElectronSFUp', 'Weight_ElectronSFDown']],\n",
       " [['jerUp', 'jerDown'], ['jesUp', 'jesDown']])"
      ]
     },
     "execution_count": 13,
     "metadata": {},
     "output_type": "execute_result"
    }
   ],
   "source": [
    "all_reg, weights, jet_variations"
   ]
  },
  {
   "cell_type": "code",
   "execution_count": 15,
   "id": "9f692423-9f57-4544-a21d-3b78bf21f10e",
   "metadata": {},
   "outputs": [
    {
     "name": "stdout",
     "output_type": "stream",
     "text": [
      "SR1\n",
      "{'DiLepMass': Histogram(Regular(139, 105, 800, metadata='DiLepMass test'), storage=Weight()) # Sum: WeightedSum(value=5984.71, variance=33728.7), 'TMB_nom': Histogram(Regular(80, 0, 800, metadata='TMB_nom test'), storage=Weight()) # Sum: WeightedSum(value=5984.65, variance=33728.7) (WeightedSum(value=5984.71, variance=33728.7) with flow), 'HTLT_nom': Histogram(Regular(100, -500, 500, metadata='HTLT_nom test'), storage=Weight()) # Sum: WeightedSum(value=5974.43, variance=33712.6) (WeightedSum(value=5984.71, variance=33728.7) with flow), 'RelMET_nom': Histogram(Regular(100, 0, 1, metadata='RelMET_nom test'), storage=Weight()) # Sum: WeightedSum(value=5984.71, variance=33728.7)}\n"
     ]
    }
   ],
   "source": [
    "for reg in all_reg:\n",
    "    for jv in ['nom']:\n",
    "        reg_nom = '{}_{}'.format(reg, jv)\n",
    "        df = bff_1(reg_filter(background_df, reg_nom), jv)\n",
    "        hist_1d_dict, hist_2d_dict = produce_bff_hists(df, 'test', columns, weight='Weight')\n",
    "        print(reg)\n",
    "        print(hist_1d_dict['DiLepMass'])\n",
    "        fix = \n",
    "    break"
   ]
  },
  {
   "cell_type": "code",
   "execution_count": null,
   "id": "201c6430-2ff2-43cf-9cd1-a05dd32fcd20",
   "metadata": {},
   "outputs": [],
   "source": [
    "def boost_plot(ax, bh, **kwargs):\n",
    "    val, var = bh.values(), bh.variances()\n",
    "    center = bh.axes[0].centers\n",
    "    ax.errorbar(center, val, yerr=var**.5, **kwargs)\n",
    "    \n",
    "def boost_plot2d(ax, h, lock_aspect=0, log=0, min_val=.1, **kwargs):\n",
    "    w, x, y = h.to_numpy()\n",
    "    # Draw the count matrix\n",
    "    if not log:\n",
    "        ax.pcolormesh(x, y, w.T)\n",
    "    else:\n",
    "        import matplotlib.colors as colors\n",
    "        vmin = max(w.T.min(),min_val)\n",
    "        vmax = w.T.max()\n",
    "        ax.pcolor(x, y, w.T,\n",
    "                   norm=colors.LogNorm(vmin=vmin, vmax=vmax),\n",
    "                   cmap='PuBu_r', shading='auto')\n",
    "    ax.set_xlabel(h.axes[0].metadata)\n",
    "    ax.set_ylabel(h.axes[1].metadata)\n",
    "    if lock_aspect: ax.set_aspect(\"equal\")"
   ]
  }
 ],
 "metadata": {
  "kernelspec": {
   "display_name": "bff_plotting",
   "language": "python",
   "name": "bff_plotting"
  },
  "language_info": {
   "codemirror_mode": {
    "name": "ipython",
    "version": 3
   },
   "file_extension": ".py",
   "mimetype": "text/x-python",
   "name": "python",
   "nbconvert_exporter": "python",
   "pygments_lexer": "ipython3",
   "version": "3.8.5"
  }
 },
 "nbformat": 4,
 "nbformat_minor": 5
}
