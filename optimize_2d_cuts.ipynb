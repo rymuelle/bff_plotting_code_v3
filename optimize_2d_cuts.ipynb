{
 "cells": [
  {
   "cell_type": "code",
   "execution_count": null,
   "id": "8b68ec4b-5187-49b2-a87f-d83aac2f8e9c",
   "metadata": {},
   "outputs": [],
   "source": [
    "import pandas as pd\n",
    "import numpy as np\n",
    "from bff_processor.data_tools import regex_select, get_files, make_df\n",
    "from bff_processor.utils import time_func, hist2unc, linear, parabola \n",
    "from bff_processor.bff_meta import preselection, band_cut, isin, identity\n",
    "from bff_processor.plotting_utils import produce_bff_hists, boost_plot, boost_plot2d, unc_plot\n",
    "import boost_histogram as bh\n",
    "import matplotlib.pyplot as plt\n",
    "import mplhep as hep\n",
    "hep.set_style(hep.style.CMS)"
   ]
  },
  {
   "cell_type": "code",
   "execution_count": null,
   "id": "c1caff0d-97e7-4dcc-8148-8ec4dca7013d",
   "metadata": {},
   "outputs": [],
   "source": [
    "# get 2017 files\n",
    "#era = 2016\n",
    "era = 9999\n",
    "#file_re = regex_select(era)\n",
    "#print(file_re)\n",
    "file_re = 'tw_.+\\.csv'\n",
    "file_dict = get_files(file_re)"
   ]
  },
  {
   "cell_type": "code",
   "execution_count": null,
   "id": "91de201e-2bbb-47b0-ba50-aeddae2ba898",
   "metadata": {},
   "outputs": [],
   "source": [
    "#make df of background\n",
    "backgrounds = file_dict['DY']+file_dict['TT']+file_dict['ST']+file_dict['VB']\n",
    "background_df = preselection()(make_df(backgrounds))"
   ]
  },
  {
   "cell_type": "code",
   "execution_count": null,
   "id": "86f7441d-36eb-4766-bc55-357b4e492cd4",
   "metadata": {},
   "outputs": [],
   "source": [
    "#make df of signals\n",
    "import re\n",
    "bff_dict = {}\n",
    "for fname in file_dict['BFF']:\n",
    "    #print(fname)\n",
    "    name = re.findall('_M_([0-9]+)_dbs(\\d)p(\\d+)', fname)[0]\n",
    "    name = \"{} {}.{}\".format(*name)\n",
    "    #print(name)\n",
    "    if name not in bff_dict:\n",
    "        bff_dict[name] = []\n",
    "    bff_dict[name].append(fname)\n",
    "for name, item in bff_dict.items():\n",
    "    if len(item) != 3: continue\n",
    "    print(item)\n",
    "    bff_dict[name] = preselection()(make_df(item))\n",
    "bff_samples = ['125 0.04', '200 0.04','350 0.04','500 0.04']\n",
    "bff_dict.keys()"
   ]
  },
  {
   "cell_type": "code",
   "execution_count": null,
   "id": "bdc2ec36-1cf4-4ebd-b267-e6406c1f617c",
   "metadata": {},
   "outputs": [],
   "source": [
    "columns = [\n",
    "    ['DiLepMass', [139,105,800]],\n",
    "    ['TMB_nom',       [80,0, 800]],\n",
    "    ['HTLT_nom',      [100,-500,500]],\n",
    "    ['RelMET_nom',    [100, 0,1]]\n",
    "]"
   ]
  },
  {
   "cell_type": "code",
   "execution_count": null,
   "id": "711655d5-85aa-4561-88b9-387894d47623",
   "metadata": {},
   "outputs": [],
   "source": [
    "def significance(sig,bck):\n",
    "    return sig/(sig+bck+1e-12)**.5"
   ]
  },
  {
   "cell_type": "code",
   "execution_count": null,
   "id": "81c318d5-4b74-477f-91df-d239a4e5b541",
   "metadata": {},
   "outputs": [],
   "source": [
    "#optimize RelMET cut:\n",
    "def column_1d_sig(sig_df, bck_df, mass_band=1, filter_func=lambda x: x):\n",
    "    #select for region\n",
    "    _sig_df = filter_func(sig_df)\n",
    "    _bck_df =  filter_func(bck_df)\n",
    "    mean, std = sig_df['DiLepMass'].mean(), sig_df['DiLepMass'].std()\n",
    "    widht = std*mass_band\n",
    "    #mass band cut\n",
    "    _sig_df = band_cut('DiLepMass',mean-widht, mean+widht)(_sig_df)\n",
    "    _bck_df = band_cut('DiLepMass',mean-widht, mean+widht)(_bck_df)\n",
    "    bck_1d_hist, bck_2d_hist = produce_bff_hists(_bck_df, \"\", columns, weight='Weight')\n",
    "    sig_1d_hist, sig_2d_hist = produce_bff_hists(_sig_df, \"\", columns, weight='Weight')\n",
    "    return bck_1d_hist, sig_1d_hist, bck_2d_hist, sig_2d_hist"
   ]
  },
  {
   "cell_type": "code",
   "execution_count": null,
   "id": "2a392778-271b-4f86-a4e3-b6fcbe7bb367",
   "metadata": {},
   "outputs": [],
   "source": [
    "def calc_sig_cut(s,b, direction=1):\n",
    "    from itertools import accumulate\n",
    "    s,b = np.array(list(accumulate(s[::direction])))[::direction], np.array(list(accumulate(b[::direction])))[::direction]\n",
    "    return significance(s,b)"
   ]
  },
  {
   "cell_type": "code",
   "execution_count": null,
   "id": "871cb733-cab5-49e5-b2b0-3f665a247db7",
   "metadata": {},
   "outputs": [],
   "source": [
    "from scipy.stats import norm\n",
    "def map_signf(value, signf, centers):\n",
    "    diff = np.abs(centers - value)\n",
    "    delta  = (centers[1] - centers[0])\n",
    "    weight = norm.pdf(diff, loc=0, scale=delta*1)\n",
    "    wval = np.dot(signf,weight)/np.sum(weight+1e-12)\n",
    "    return wval.nominal_value\n"
   ]
  },
  {
   "cell_type": "code",
   "execution_count": null,
   "id": "f2492c32-d518-4c1d-9e7a-25f7b4c87e29",
   "metadata": {},
   "outputs": [],
   "source": [
    "def linear_sig(masses, sigs, centers, *popt):\n",
    "    signfs = []\n",
    "    for m, sig in zip(masses,sigs):\n",
    "        cut_val = linear(m,*popt)\n",
    "        signf = map_signf(cut_val, sig, centers)\n",
    "        signfs.append(signf+1e-12)\n",
    "    return np.dot(-np.array(signfs), np.power(masses, 0))"
   ]
  },
  {
   "cell_type": "code",
   "execution_count": null,
   "id": "433fabee-959b-4a65-a412-ccbc6fa229a5",
   "metadata": {},
   "outputs": [],
   "source": [
    "from scipy.optimize import curve_fit, minimize\n",
    "from bff_processor.utils import vunc2nom, vunc2std\n",
    "import uncertainties"
   ]
  },
  {
   "cell_type": "code",
   "execution_count": null,
   "id": "85dbe195-798a-4f84-9467-541fa2d32f40",
   "metadata": {},
   "outputs": [],
   "source": [
    "def plot_opt_sig(column,bff_dict, background_df, fit=False, filter_func=lambda x: x, postfix=\"\",direction=1, p0=[0,.5]):\n",
    "    fig,ax = plt.subplots(2,4, figsize=[30,20])\n",
    "    fit_x = []\n",
    "    fit_y = []\n",
    "    fit_y_unc = []\n",
    "    sigs = []\n",
    "    masses = []\n",
    "    for j, m in enumerate(bff_samples):\n",
    "        mass = int(re.findall('([0-9]+)',m)[0])\n",
    "        bck_1d_hist, sig_1d_hist, bck_2d_hist, sig_2d_hist = column_1d_sig(bff_dict[m], background_df, mass_band=2,filter_func=filter_func)\n",
    "        \n",
    "        top_ax = ax[0,j]\n",
    "        boost_plot(top_ax, bck_1d_hist[column] ,label='background')\n",
    "        boost_plot(top_ax, sig_1d_hist[column] ,label='Signal {} GeV'.format(m))\n",
    "        top_ax.set_ylabel(column)\n",
    "        top_ax.set_xlabel('Counts')\n",
    "        top_ax.legend()\n",
    "        \n",
    "        s,b = hist2unc(sig_1d_hist[column]), hist2unc(bck_1d_hist[column])\n",
    "        signf_val = calc_sig_cut(s,b, direction=direction)\n",
    "        \n",
    "        centers = sig_1d_hist[column].axes[0].centers\n",
    "        unc_plot(ax[1][j], signf_val,centers, zorder=1)\n",
    "        peak_index = np.argmax(signf_val)\n",
    "        peak_center = centers[peak_index]\n",
    "        peak_height = signf_val[peak_index]\n",
    "        \n",
    "        sigs.append(signf_val)\n",
    "        masses.append(mass)\n",
    "        \n",
    "        if fit:\n",
    "                lims = (peak_index-5,peak_index+5)\n",
    "                c_band = centers[lims[0]:lims[1]]\n",
    "                nom_band = vunc2nom(signf_val)[lims[0]:lims[1]]\n",
    "                std_band = vunc2std(signf_val)[lims[0]:lims[1]]\n",
    "                popt, pcov = curve_fit(parabola,c_band, nom_band, sigma=std_band, absolute_sigma=True)\n",
    "                corr_values = uncertainties.correlated_values(popt,pcov)\n",
    "                ax[1][j].plot(c_band,parabola(c_band,*popt), zorder=2)\n",
    "                peak_center = popt[0]\n",
    "                peak_height = popt[1]\n",
    "            \n",
    "        #uncertainty of center\n",
    "        upper_limit = vunc2nom(signf_val)+vunc2std(signf_val)\n",
    "        in_range = centers[upper_limit > peak_height]\n",
    "        sigma_range = np.asarray((in_range[0], in_range[-1]))\n",
    "        unc = np.max(np.abs(sigma_range-peak_center))\n",
    "        fit_x.append(mass)\n",
    "        fit_y.append(peak_center)\n",
    "        fit_y_unc.append(unc)\n",
    "            \n",
    "        ax[1][j].set_title(\"max: {:.2f}+/-{:.2f}\".format(peak_center, unc), zorder=2)\n",
    "        \n",
    "    fit_func = lambda popt: linear_sig(masses, sigs, centers, *popt)\n",
    "\n",
    "    min_val = minimize(fit_func, p0)\n",
    "    popt = min_val.x\n",
    "    masses = np.array(masses)\n",
    "    cut_points = linear(masses, *popt)\n",
    "    for j, (m, c, s) in enumerate(zip(masses, cut_points, sigs)):\n",
    "        sig_at_cut = map_signf(c, s, centers)\n",
    "        print(sig_at_cut, c)\n",
    "        #ax[1][j].plot([c,c], [0,sig_at_cut], zorder=1)\n",
    "        ax[1][j].scatter([c], [sig_at_cut], zorder=1,s=150, c='red', marker=(5, 1), label='cut location')\n",
    "        ax[1][j].legend()\n",
    "    fig.savefig(\"output/sig_tuning/{}_{}_{}.pdf\".format(era, column, postfix), transparent=False)\n",
    "    return popt\n",
    "    \n",
    "    #return popt\n",
    "        #break"
   ]
  },
  {
   "cell_type": "code",
   "execution_count": null,
   "id": "2d0b91f3-a10d-4e08-b606-9ac8c3820a18",
   "metadata": {},
   "outputs": [],
   "source": [
    "popt_relmet_1  = plot_opt_sig('RelMET_nom',bff_dict, background_df,filter_func=isin('SR1_nom'), postfix='_one_jet')\n",
    "popt_relmet_2  = plot_opt_sig('RelMET_nom',bff_dict, background_df,filter_func=isin('SR2_nom'), postfix='_two_jet')"
   ]
  },
  {
   "cell_type": "code",
   "execution_count": null,
   "id": "a06f10c4-6422-4e7e-bda0-0467e5a0c421",
   "metadata": {},
   "outputs": [],
   "source": [
    "def band_cut2d(column1, column2, low=[0,-np.inf], high=[0,np.inf]):\n",
    "    import pandas as pd \n",
    "    def cut_df(df):\n",
    "        return df[(linear(df[column1],*low) < df[column2]) & (linear(df[column1],*high) > df[column2])]\n",
    "    return cut_df    "
   ]
  },
  {
   "cell_type": "code",
   "execution_count": null,
   "id": "04daf3cd-2b77-40b1-8378-603eb26b4185",
   "metadata": {},
   "outputs": [],
   "source": [
    "def boost_plot2d(ax, h, lock_aspect=0, log=0,**kwargs):\n",
    "    w, x, y = h.to_numpy()\n",
    "    # Draw the count matrix\n",
    "    if not log:\n",
    "        ax.pcolormesh(x, y, w.T)\n",
    "    else:\n",
    "        import matplotlib.colors as colors\n",
    "        print(w.T.min(),w.T.max())\n",
    "        vmin = max(w.T.min(),.1)\n",
    "        vmax = w.T.max()\n",
    "        print(vmin,vmax)\n",
    "        ax.pcolor(x, y, w.T,\n",
    "                   norm=colors.LogNorm(vmin=vmin, vmax=vmax),\n",
    "                   cmap='PuBu_r', shading='auto')\n",
    "    ax.set_xlabel(h.axes[0].metadata)\n",
    "    ax.set_ylabel(h.axes[1].metadata)\n",
    "    if lock_aspect: ax.set_aspect(\"equal\")"
   ]
  },
  {
   "cell_type": "code",
   "execution_count": null,
   "id": "d304adda-8acc-4ef3-b605-94fbf3efa134",
   "metadata": {},
   "outputs": [],
   "source": [
    "def visualize_2d(col2, bff_dict, background_df, name='', filter_func=lambda x: x, **kwargs):\n",
    "    '''This wont work if the plot producer doesn't ahve the right format'''\n",
    "    col1= 'DiLepMass'\n",
    "    test_cut_bck = filter_func(background_df)\n",
    "    _, test_2d = produce_bff_hists(test_cut_bck, name, columns, weight='Weight')\n",
    "    sig_plts = {}\n",
    "    for m in bff_samples:\n",
    "        test_cut_sig = filter_func(bff_dict[m])\n",
    "        _, test_2d_sig = produce_bff_hists(test_cut_sig, name, columns, weight='Weight')\n",
    "        sig_plts[m] = test_2d_sig\n",
    "        \n",
    "    fig,ax = plt.subplots(1,1+len(sig_plts), figsize=[35,6])\n",
    "    boost_plot2d(ax[0], test_2d['{}_{}'.format(col1,col2)],log=1)\n",
    "    ax[0].set_title('background')\n",
    "    for i, (m,tdict) in enumerate(sig_plts.items()):\n",
    "        boost_plot2d(ax[i+1], tdict['{}_{}'.format(col1,col2)],log=1)\n",
    "        ax[i+1].set_title(m)\n",
    "    fig.savefig('output/sig_tuning/{}_{}_{}_2d.pdf'.format(name,col1,col2))"
   ]
  },
  {
   "cell_type": "code",
   "execution_count": null,
   "id": "7d61f653-5b75-43cc-b8dc-d6c0cb1a3cc3",
   "metadata": {
    "tags": []
   },
   "outputs": [],
   "source": [
    "visualize_2d('RelMET_nom', bff_dict, background_df, name='oneJet_nocut', filter_func=isin('SR1_nom'))\n",
    "visualize_2d('RelMET_nom', bff_dict, background_df, name='twoJet_nocut', filter_func=isin('SR2_nom'))"
   ]
  },
  {
   "cell_type": "code",
   "execution_count": null,
   "id": "2e0a487c-de4d-442c-ab41-e7c96058aa6a",
   "metadata": {},
   "outputs": [],
   "source": [
    "popt_relmet_1\n",
    "popt_relmet_2\n",
    "RelMET_ff1 = lambda x: band_cut2d('DiLepMass','RelMET_nom', high=popt_relmet_1)(isin('SR1_nom')(x))\n",
    "RelMET_ff2 = lambda x: band_cut2d('DiLepMass','RelMET_nom', high=popt_relmet_2)(isin('SR2_nom')(x))\n",
    "\n",
    "visualize_2d('RelMET_nom', bff_dict, background_df, name='oneJet_cut', filter_func=RelMET_ff1)\n",
    "visualize_2d('RelMET_nom', bff_dict, background_df, name='twoJet_cut', filter_func=RelMET_ff2)"
   ]
  },
  {
   "cell_type": "code",
   "execution_count": null,
   "id": "a3b57c7a-db22-4325-b610-d134d5ff70bc",
   "metadata": {},
   "outputs": [],
   "source": [
    "popt_htlt_1 = plot_opt_sig('HTLT_nom',bff_dict, background_df,filter_func=RelMET_ff1, postfix='_one_jet', p0=[-1,300])\n",
    "popt_htlt_2 = plot_opt_sig('HTLT_nom',bff_dict, background_df,filter_func=RelMET_ff2, postfix='_two_jet')"
   ]
  },
  {
   "cell_type": "code",
   "execution_count": null,
   "id": "02b819e2-eb29-436c-a972-6593886bf4e1",
   "metadata": {},
   "outputs": [],
   "source": [
    "visualize_2d('HTLT_nom', bff_dict, background_df, name='oneJet_nocut', filter_func=RelMET_ff1)\n",
    "visualize_2d('HTLT_nom', bff_dict, background_df, name='twoJet_nocut', filter_func=RelMET_ff2)"
   ]
  },
  {
   "cell_type": "code",
   "execution_count": null,
   "id": "23594cd5-1501-4738-8d7b-87c77e029ef9",
   "metadata": {},
   "outputs": [],
   "source": [
    "HTLT_ff1 = lambda x: band_cut2d('DiLepMass','HTLT_nom', high=popt_htlt_1)(RelMET_ff1(x))\n",
    "HTLT_ff2 = lambda x: band_cut2d('DiLepMass','HTLT_nom', high=popt_htlt_2)(RelMET_ff2(x))\n",
    "\n",
    "visualize_2d('HTLT_nom', bff_dict, background_df, name='oneJet_cut', filter_func=HTLT_ff1)\n",
    "visualize_2d('HTLT_nom', bff_dict, background_df, name='twoJet_cut', filter_func=HTLT_ff2)"
   ]
  },
  {
   "cell_type": "code",
   "execution_count": null,
   "id": "0bcfeb52-1959-4590-99c0-f53d74eae122",
   "metadata": {},
   "outputs": [],
   "source": [
    "popt_TMB_1 = plot_opt_sig('TMB_nom',bff_dict, background_df,filter_func=HTLT_ff1, postfix='_one_jet',direction=-1)\n",
    "popt_TMB_2 = plot_opt_sig('TMB_nom',bff_dict, background_df,filter_func=HTLT_ff2, postfix='_two_jet',direction=-1, p0=[.5,0])"
   ]
  },
  {
   "cell_type": "code",
   "execution_count": null,
   "id": "fe044119-1d25-4971-b6d8-7340f6fb6314",
   "metadata": {},
   "outputs": [],
   "source": [
    "visualize_2d('TMB_nom', bff_dict, background_df, name='oneJet_nocut', filter_func=HTLT_ff1)\n",
    "visualize_2d('TMB_nom', bff_dict, background_df, name='twoJet_nocut', filter_func=HTLT_ff2)"
   ]
  },
  {
   "cell_type": "code",
   "execution_count": null,
   "id": "80cc52da-6105-4dca-b13a-bfaf00f9f482",
   "metadata": {},
   "outputs": [],
   "source": [
    "TMB_ff1 = lambda x: band_cut2d('DiLepMass','TMB_nom', low=popt_TMB_1)(HTLT_ff1(x))\n",
    "TMB_ff2 = lambda x: band_cut2d('DiLepMass','TMB_nom', low=popt_TMB_2)(HTLT_ff2(x))\n",
    "\n",
    "visualize_2d('TMB_nom', bff_dict, background_df, name='oneJet_cut', filter_func=TMB_ff1)\n",
    "visualize_2d('TMB_nom', bff_dict, background_df, name='twoJet_cut', filter_func=TMB_ff2)"
   ]
  },
  {
   "cell_type": "code",
   "execution_count": null,
   "id": "fcb302e0-f13f-495c-86ca-f53f2555ea69",
   "metadata": {},
   "outputs": [],
   "source": []
  },
  {
   "cell_type": "code",
   "execution_count": null,
   "id": "3779284a-3ffe-4d3d-a3d4-52a921eb337d",
   "metadata": {},
   "outputs": [],
   "source": [
    "cut_dict = {\n",
    "\"RelMET_ff1\":RelMET_ff1,\n",
    "\"RelMET_ff2\":RelMET_ff2,\n",
    "\"HTLT_ff1\":HTLT_ff1,\n",
    "\"HTLT_ff2\":HTLT_ff2,\n",
    "\"TMB_ff1\":TMB_ff1,\n",
    "\"TMB_ff2\":TMB_ff2\n",
    "}\n"
   ]
  },
  {
   "cell_type": "code",
   "execution_count": null,
   "id": "5165ab4b-9c73-41fa-a652-ce0305745424",
   "metadata": {},
   "outputs": [],
   "source": [
    "param_dict = {\n",
    "\"popt_relmet_1\":popt_relmet_1.tolist(),\n",
    "\"popt_relmet_2\":popt_relmet_2.tolist(),\n",
    "\"popt_htlt_1\":popt_htlt_1.tolist(),\n",
    "\"popt_htlt_2\":popt_htlt_2.tolist(),\n",
    "\"popt_TMB_1\":popt_TMB_1.tolist(),\n",
    "\"popt_TMB_2\":popt_TMB_2.tolist(),\n",
    "}"
   ]
  },
  {
   "cell_type": "code",
   "execution_count": null,
   "id": "ad1f5e28-4d6f-4b42-a571-b044156746f3",
   "metadata": {},
   "outputs": [],
   "source": [
    "cut_dict"
   ]
  },
  {
   "cell_type": "code",
   "execution_count": null,
   "id": "0693323f-97a5-488f-bfe3-7ce88451c67d",
   "metadata": {},
   "outputs": [],
   "source": [
    "param_dict"
   ]
  },
  {
   "cell_type": "code",
   "execution_count": null,
   "id": "5dc274b8-ce43-4a02-a3d9-973caba0d85d",
   "metadata": {},
   "outputs": [],
   "source": [
    "import pickle\n",
    "with open('bff_cut_dict.py', 'wb') as f:\n",
    "    pickle.dump(param_dict, f)"
   ]
  },
  {
   "cell_type": "code",
   "execution_count": null,
   "id": "8d38ddb4-95ba-4280-86c2-a2ac388b71fc",
   "metadata": {},
   "outputs": [],
   "source": [
    "import yaml\n",
    "with open('bff_cut.yml', 'w') as f:\n",
    "    yaml.dump(param_dict, f)"
   ]
  },
  {
   "cell_type": "code",
   "execution_count": null,
   "id": "5cd91367-5d53-4bd1-a36b-cdffebaa98c5",
   "metadata": {},
   "outputs": [],
   "source": []
  },
  {
   "cell_type": "code",
   "execution_count": null,
   "id": "74c8ecb8-f25f-4062-aa1f-d0145447119c",
   "metadata": {},
   "outputs": [],
   "source": []
  }
 ],
 "metadata": {
  "kernelspec": {
   "display_name": "bff_plotting",
   "language": "python",
   "name": "bff_plotting"
  },
  "language_info": {
   "codemirror_mode": {
    "name": "ipython",
    "version": 3
   },
   "file_extension": ".py",
   "mimetype": "text/x-python",
   "name": "python",
   "nbconvert_exporter": "python",
   "pygments_lexer": "ipython3",
   "version": "3.8.5"
  }
 },
 "nbformat": 4,
 "nbformat_minor": 5
}
