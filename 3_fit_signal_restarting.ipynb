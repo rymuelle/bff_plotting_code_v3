{
 "cells": [
  {
   "cell_type": "code",
   "execution_count": null,
   "id": "bfde7720",
   "metadata": {
    "scrolled": false,
    "tags": []
   },
   "outputs": [],
   "source": [
    "%load_ext autoreload\n",
    "%autoreload 2"
   ]
  },
  {
   "cell_type": "code",
   "execution_count": null,
   "id": "d9945ba0",
   "metadata": {
    "scrolled": false
   },
   "outputs": [],
   "source": [
    "import pickle\n",
    "import numpy as np\n",
    "import pandas as pd\n",
    "import matplotlib.pyplot as plt\n",
    "import zfit\n",
    "from zfit import z\n",
    "import re\n",
    "import math"
   ]
  },
  {
   "cell_type": "code",
   "execution_count": null,
   "id": "253d0467",
   "metadata": {
    "scrolled": false
   },
   "outputs": [],
   "source": [
    "import mplhep as hep\n",
    "hep.style.use(hep.style.CMS)\n",
    "plt.rcParams.update({\n",
    "    \"text.usetex\": True,\n",
    "})"
   ]
  },
  {
   "cell_type": "code",
   "execution_count": null,
   "id": "90eac6f9",
   "metadata": {
    "scrolled": false
   },
   "outputs": [],
   "source": [
    "from plotting_meta.plotting_meta import bins, binning_type, cms_format_fig\n",
    "\n",
    "from bff_signal_model.bff_signal_model import bff_signal_model, reset_params, mu, sys_func, sys_func_offset, popt_sys_dict\n",
    "from bff_signal_model.utils import fit_model"
   ]
  },
  {
   "cell_type": "code",
   "execution_count": null,
   "id": "f3a6fdd3",
   "metadata": {
    "scrolled": false
   },
   "outputs": [],
   "source": [
    "from src.data_tools.get_data import get_data\n",
    "\n",
    "from src.plotting_tools.SysHist import era_corrected_sys_hist"
   ]
  },
  {
   "cell_type": "code",
   "execution_count": null,
   "id": "4e88136c",
   "metadata": {
    "scrolled": false
   },
   "outputs": [],
   "source": [
    "era = '2016'\n",
    "df, lumi = get_data(era)\n",
    "compute_hesse=True\n",
    "masses = np.unique(df[df.type=='sig'].mass)\n",
    "masses = [mass for mass in masses if not math.isnan(mass)]\n",
    "#mp = MassIterator(df)\n",
    "\n",
    "make_sys= lambda *args, **kwargs: era_corrected_sys_hist(era, *args, **kwargs)"
   ]
  },
  {
   "cell_type": "code",
   "execution_count": null,
   "id": "21377813",
   "metadata": {
    "scrolled": false
   },
   "outputs": [],
   "source": [
    "obs = zfit.Space(\"x\", limits=bins.calc_bin_range())"
   ]
  },
  {
   "cell_type": "code",
   "execution_count": null,
   "id": "00372b0c",
   "metadata": {
    "scrolled": false
   },
   "outputs": [],
   "source": [
    "hists= pd.DataFrame([{\"reg\":reg, \"mass\":int(mass), \"dbs\":dbs} for reg in ['SR1','SR2'] for mass in masses for dbs in [0.04, 0.5, 1.0]])"
   ]
  },
  {
   "cell_type": "code",
   "execution_count": null,
   "id": "f5579638",
   "metadata": {
    "scrolled": true,
    "tags": []
   },
   "outputs": [],
   "source": [
    "# make histograms\n",
    "hist_dict = {}\n",
    "bck_dict = {}\n",
    "for i, row in hists.iterrows():\n",
    "    reg, mass, dbs = row\n",
    "    print(reg, mass, dbs)\n",
    "    # get hists\n",
    "    bck_dict[(reg, mass, dbs)] = make_sys(df[(df.type=='bck')], 'DiLepMass', reg)\n",
    "    sig_df = df[(df.mass==mass) & (df.dbs==dbs)]\n",
    "    if sig_df.shape[0]==0: continue\n",
    "    hist = make_sys(sig_df, 'DiLepMass', reg)\n",
    "    #compute needed quantities\n",
    "    normalization = np.sum(hist.nominal)\n",
    "    \n",
    "    #fit signal\n",
    "    mu.set_value(mass)\n",
    "    sm = bff_signal_model(obs, mu=mu)\n",
    "    data = sig_df.DiLepMass.to_numpy()\n",
    "    weight = sig_df.Weight.to_numpy()\n",
    "    results_fit = fit_model(obs, data, weight, sm, compute_hesse=True)\n",
    "    popt_sys = popt_sys_dict[era][reg]\n",
    "    sys_width = sys_func_offset(row, .01, *popt_sys)\n",
    "    print(sys_width, results_fit)\n",
    "    fit_hist = sm.make_hist(bins, normalization, tail_percent=1, constant_percent=sys_width) \n",
    "    #make dict\n",
    "    hist_dict[(reg, mass, dbs)] = {} \n",
    "    hist_dict[(reg, mass, dbs)]['mc'] =  hist\n",
    "    hist_dict[(reg, mass, dbs)]['fit'] = fit_hist"
   ]
  },
  {
   "cell_type": "code",
   "execution_count": null,
   "id": "17932617",
   "metadata": {
    "scrolled": false
   },
   "outputs": [],
   "source": [
    "#make non-density plots\n",
    "fig, ax = plt.subplots(figsize=(10,10))\n",
    "for (reg, mass, dbs), plot_dict in hist_dict.items():\n",
    "    if dbs!=0.04: continue\n",
    "    if reg!=\"SR1\": continue\n",
    "    bck = bck_dict[(reg, mass, dbs)]\n",
    "    hist = plot_dict['mc']\n",
    "    fit_hist = plot_dict['fit']\n",
    "    sm = bff_signal_model(obs, mu=mass)\n",
    "    width = sm.sigma().numpy()\n",
    "\n",
    "    #bck.draw(ax, color='green', label='MC bck')\n",
    "    if mass==350 and dbs==0.04:\n",
    "        hist.draw(ax, color='red', label='MC')\n",
    "        fit_hist.draw(ax, color='blue', label='parametric')\n",
    "    else:\n",
    "        hist.draw(ax, color='red')\n",
    "        fit_hist.draw(ax, color='blue')\n",
    "ax.set_yscale('log')\n",
    "ax.set_ylabel('Events per GeV')\n",
    "ax.set_xlabel('DiLepMass [GeV]')\n",
    "ax.set_ylim(bottom=1e-2, top=1e4)\n",
    "#ax.set_xlim([mass-width*4, mass+width*4])\n",
    "ax.legend(title = '{} {} GeV'.format(reg, mass))\n",
    "cms_format_fig(era, ax)\n",
    "fig.savefig('fits/bff/{}_binning_{}_{}.png'.format(binning_type, era, reg, mass))\n"
   ]
  },
  {
   "cell_type": "code",
   "execution_count": null,
   "id": "0347ce67",
   "metadata": {
    "scrolled": false,
    "tags": []
   },
   "outputs": [],
   "source": [
    "# make non-density plots\n",
    "np.seterr(divide='ignore', invalid='ignore')\n",
    "for (reg, mass, dbs), plot_dict in hist_dict.items():\n",
    "    bck = bck_dict[(reg, mass, dbs)]\n",
    "    hist = plot_dict['mc']\n",
    "    fit_hist = plot_dict['fit']\n",
    "    sm = bff_signal_model(obs, mu=mass)\n",
    "    width = sm.sigma().numpy()\n",
    "    \n",
    "    #non-density\n",
    "    fig, ax = plt.subplots(figsize=(10,10))\n",
    "    #bck.draw(ax, color='green', label='MC bck')\n",
    "    hist.draw(ax, color='red', label='MC')\n",
    "    fit_hist.draw(ax, color='blue', label='parametric')\n",
    "    ax.set_yscale('log')\n",
    "    ax.set_ylabel('Events per GeV')\n",
    "    ax.set_xlabel('DiLepMass [GeV]')\n",
    "    ax.set_ylim(bottom=1e-2, top=1e4)\n",
    "    #ax.set_xlim([mass-width*4, mass+width*4])\n",
    "    ax.legend(title = '{} {} GeV'.format(reg, mass))\n",
    "    fig.savefig('fits/bff/{}_binning_{}_{}_{}.png'.format(binning_type, era, reg, mass))\n",
    "    ax.autoscale(enable=True, axis='y')\n",
    "    ax.set_yscale('linear')\n",
    "    cms_format_fig(era, ax)\n",
    "    fig.savefig('fits/bff/{}_binning_{}_{}_{}_linear.png'.format(binning_type, era, reg, mass))\n",
    "    if not(mass==200 and dbs==0.04): plt.close()\n",
    "    \n",
    "    #density\n",
    "    fig, ax = plt.subplots(figsize=(10,10))\n",
    "    bck.make_density_hist().draw(ax, color='green', label='MC bck')\n",
    "    hist.make_density_hist().draw(ax, color='red', label='MC')\n",
    "    fit_hist.make_density_hist().draw(ax, color='blue', label='parametric')\n",
    "    ax.set_yscale('log')\n",
    "    ax.set_ylabel('Events per GeV')\n",
    "    ax.set_xlabel('DiLepMass [GeV]')\n",
    "    ax.set_ylim(bottom=1e-2, top=1e4)\n",
    "    #ax.set_xlim([mass-width*4, mass+width*4])\n",
    "    #ax.legend(title = '{} {} GeV'.format(reg, mass))\n",
    "    cms_format_fig(era, ax)\n",
    "    fig.savefig('fits/bff/{}_binning_density_{}_{}_{}.png'.format(binning_type, era, reg, mass))\n",
    "    if not(mass==200 and dbs==0.04): plt.close()\n",
    "    \n",
    "    # ratio\n",
    "    fig, ax = plt.subplots(figsize=(10,10))\n",
    "    hist.calc_ratio(hist.nominal).draw(ax, color='red', label='MC')\n",
    "    fit_hist.calc_ratio(fit_hist.nominal).draw(ax, color='blue', label='parametric')\n",
    "    #ax.set_yscale('log')\n",
    "    ax.set_ylabel('Ratio with nominal')\n",
    "    ax.set_xlabel('DiLepMass [GeV]')\n",
    "    ax.set_ylim(bottom=0, top=2)\n",
    "    ax.set_xlim([mass-width*4, mass+width*4])\n",
    "    ax.legend(title = '{} {} GeV'.format(reg, mass))\n",
    "    cms_format_fig(era, ax)\n",
    "    fig.savefig('fits/bff/{}_binning_ratio_{}_{}_{}_nom.png'.format(binning_type, era, reg, mass))\n",
    "    if not(mass==200 and dbs==0.04): plt.close()\n",
    "    \n",
    "    # ratio\n",
    "    fig, ax = plt.subplots(figsize=(10,10))\n",
    "    hist.calc_ratio(fit_hist.nominal).draw(ax, color='red', label='MC')\n",
    "    fit_hist.calc_ratio(fit_hist.nominal).draw(ax, color='blue', label='parametric')\n",
    "    #ax.set_yscale('log')\n",
    "    ax.set_ylabel('Ratio with fit')\n",
    "    ax.set_xlabel('DiLepMass [GeV]')\n",
    "    ax.set_ylim(bottom=0, top=2)\n",
    "    ax.set_xlim([mass-width*4, mass+width*4])\n",
    "    ax.legend(title = '{} {} GeV'.format(reg, mass))\n",
    "    cms_format_fig(era, ax)\n",
    "    fig.savefig('fits/bff/{}_binning_ratio_{}_{}_{}.png'.format(binning_type, era, reg, mass))\n",
    "    if not(mass==200 and dbs==0.04): plt.close()"
   ]
  },
  {
   "cell_type": "code",
   "execution_count": null,
   "id": "3c12fbfb",
   "metadata": {
    "scrolled": false
   },
   "outputs": [],
   "source": [
    "pckl_plt_dict = {}\n",
    "for (reg, mass, dbs), plot_dict in hist_dict.items():\n",
    "    bck = bck_dict[(reg, mass, dbs)]\n",
    "    hist = plot_dict['mc']\n",
    "    fit_hist = plot_dict['fit']\n",
    "    def make_plot_dict(plot): return {\"nom\": plot.nominal, \"up\": plot.up, \"down\": plot.down, 'std': plot.std, 'bins':plot.bins.bin_edges}\n",
    "    pckl_plt_dict[(reg, mass, dbs)] = {}\n",
    "    pckl_plt_dict[(reg, mass, dbs)]['hist'] = make_plot_dict(hist)\n",
    "    pckl_plt_dict[(reg, mass, dbs)]['fit_hist'] = make_plot_dict(fit_hist)"
   ]
  },
  {
   "cell_type": "code",
   "execution_count": null,
   "id": "db9a8e32",
   "metadata": {
    "scrolled": false,
    "tags": []
   },
   "outputs": [],
   "source": [
    "with open('fits/limit_setting/fit_dict_{}_{}.pkl'.format(binning_type, era), 'wb') as f:\n",
    "    pickle.dump(pckl_plt_dict, f, protocol=2)"
   ]
  },
  {
   "cell_type": "code",
   "execution_count": null,
   "id": "36addb13",
   "metadata": {
    "scrolled": false
   },
   "outputs": [],
   "source": [
    "##\n",
    "## make sys model\n",
    "##"
   ]
  },
  {
   "cell_type": "code",
   "execution_count": null,
   "id": "0503ed73",
   "metadata": {
    "scrolled": false
   },
   "outputs": [],
   "source": [
    "# compute relative sys levels per mass and dbs\n",
    "sys_list = []\n",
    "for (reg, mass, dbs), plot_dict in hist_dict.items():\n",
    "    if mass == 201: continue\n",
    "    nJets = int(re.findall('SR([1,2])', reg)[0])\n",
    "    reg = \"SR{}\".format(nJets)\n",
    "    mass = int(mass)\n",
    "    print(\"\\tmass\", mass)\n",
    "    mass_dict = {}\n",
    "    hist = make_sys(df[(df.mass==mass) & (df.dbs==dbs)], 'DiLepMass', reg)\n",
    "    up, down = np.sum(hist.down)/np.sum(hist.nominal), np.sum(hist.up)/np.sum(hist.nominal)\n",
    "    sys_list.append({\"nJets\":nJets, \"mass\":mass, \"dbs\":dbs, \"up\": up, \"down\": down, \"nominal\": np.sum(hist.nominal)})"
   ]
  },
  {
   "cell_type": "code",
   "execution_count": null,
   "id": "42d86860",
   "metadata": {
    "scrolled": false
   },
   "outputs": [],
   "source": [
    "\n",
    "from scipy.optimize import curve_fit\n",
    "import numpy as np\n",
    "sys_df = pd.DataFrame(sys_list)"
   ]
  },
  {
   "cell_type": "code",
   "execution_count": null,
   "id": "2bbba27f",
   "metadata": {
    "scrolled": false
   },
   "outputs": [],
   "source": [
    "sys_df['y'] = (abs(sys_df.up)+sys_df.down)/2\n",
    "sys_df['mass'] = sys_df['mass'].astype('float')\n",
    "sys_df.dropna(inplace=True)\n",
    "if era=='2018': sys_df = sys_df[sys_df.mass>=200]"
   ]
  },
  {
   "cell_type": "code",
   "execution_count": null,
   "id": "e22087c6",
   "metadata": {
    "scrolled": false
   },
   "outputs": [],
   "source": [
    "print(sys_df.round(2).to_latex())"
   ]
  },
  {
   "cell_type": "code",
   "execution_count": null,
   "id": "e4fee42a",
   "metadata": {
    "scrolled": false
   },
   "outputs": [],
   "source": [
    "for nJets in [1,2]:\n",
    "    tdf = sys_df[(sys_df.nJets==nJets)]\n",
    "    popt, pcov = curve_fit(sys_func, tdf, tdf.y, p0=[2.08975535e+01,  1.85339127e-01, -1.28145436e-02])\n",
    "    print(popt)\n",
    "    colors = [\"#1f77b4\", \"#ff7f0e\", \"#2ca02c\"]\n",
    "    for i, dbs in enumerate([0.04, 0.5, 1.0]):\n",
    "        color = colors[i]\n",
    "        print(color)\n",
    "        tdf = sys_df[(sys_df.dbs==dbs) & (sys_df.nJets==nJets)]\n",
    "        y_offset = sys_func_offset(tdf, 0.01, *popt)\n",
    "        y = sys_func_offset(tdf, 0.0, *popt)\n",
    "        plt.plot(tdf.mass, y, color=color)\n",
    "        if i==0:\n",
    "            plt.plot(tdf.mass, y_offset, linestyle=':', label='widdened fit', color=color)\n",
    "        else: plt.plot(tdf.mass, y_offset, linestyle=':', color=color)\n",
    "        plt.scatter(tdf.mass, tdf.y, label=dbs, color=color)\n",
    "    plt.legend(title=nJets)\n",
    "    plt.xlabel('DiLepMass [GeV]')\n",
    "    plt.ylabel('avg. sys. (perc. of nominal)')\n",
    "    plt.savefig('fits/bff/sys_percent_{}_{}_{}.png'.format(era, mass, nJets))\n",
    "    cms_format_fig(era, plt.gca())\n",
    "    plt.show()"
   ]
  },
  {
   "cell_type": "code",
   "execution_count": null,
   "id": "0b774e53",
   "metadata": {
    "scrolled": false
   },
   "outputs": [],
   "source": [
    "table_template = r'''\n",
    "\\begin{{table}}[h]\n",
    "    \\centering\n",
    "    \\begin{{tabular}}{{c|c}}\n",
    "       SR1  &  SR2\\\\\n",
    "       \\includegraphics[width=.4\\linewidth]{{figures/fits/bff/split_binning_density_{era}_SR1_{mass}.png}} &\n",
    "       \\includegraphics[width=.4\\linewidth]{{figures/fits/bff/split_binning_density_{era}_SR2_{mass}.png}} \\\\\n",
    "       \\hline \\\\\n",
    "       \\includegraphics[width=.4\\linewidth]{{figures/fits/bff/split_binning_ratio_{era}_SR1_{mass}.png}} &\n",
    "       \\includegraphics[width=.4\\linewidth]{{figures/fits/bff/split_binning_ratio_{era}_SR2_{mass}.png}} \\\\\n",
    "    \\end{{tabular}}\n",
    "    \\caption{{Signal model vs mc histogram for \\dbs=0.04 {mass} GeV sample in {era}. Bottom plot shows ratio plot for the 4 sigma width of the distribution.}}\n",
    "    \\label{{fig:{era}_{mass}_fit}}\n",
    "\\end{{table}}\n",
    "'''"
   ]
  },
  {
   "cell_type": "code",
   "execution_count": null,
   "id": "8218925f",
   "metadata": {
    "scrolled": false
   },
   "outputs": [],
   "source": [
    "for mass in masses:\n",
    "    print(table_template.format(mass=int(mass), era=era))"
   ]
  },
  {
   "cell_type": "code",
   "execution_count": null,
   "id": "e8cde2d7",
   "metadata": {
    "scrolled": false
   },
   "outputs": [],
   "source": []
  },
  {
   "cell_type": "code",
   "execution_count": null,
   "id": "585031b9",
   "metadata": {
    "scrolled": false
   },
   "outputs": [],
   "source": []
  }
 ],
 "metadata": {
  "kernelspec": {
   "display_name": "bff_12_1",
   "language": "python",
   "name": "bff_12_1"
  },
  "language_info": {
   "codemirror_mode": {
    "name": "ipython",
    "version": 3
   },
   "file_extension": ".py",
   "mimetype": "text/x-python",
   "name": "python",
   "nbconvert_exporter": "python",
   "pygments_lexer": "ipython3",
   "version": "3.9.6"
  }
 },
 "nbformat": 4,
 "nbformat_minor": 5
}
