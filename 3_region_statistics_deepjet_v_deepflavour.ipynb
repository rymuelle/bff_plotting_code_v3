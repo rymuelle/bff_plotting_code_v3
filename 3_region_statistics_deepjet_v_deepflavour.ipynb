{
 "cells": [
  {
   "cell_type": "code",
   "execution_count": 1,
   "id": "9604f64a",
   "metadata": {},
   "outputs": [],
   "source": [
    "%load_ext autoreload\n",
    "%autoreload 2"
   ]
  },
  {
   "cell_type": "code",
   "execution_count": 2,
   "id": "f3a45aa5",
   "metadata": {},
   "outputs": [],
   "source": [
    "import numpy as np\n",
    "import pandas as pd\n",
    "import matplotlib.pyplot as plt\n",
    "import uncertainties"
   ]
  },
  {
   "cell_type": "code",
   "execution_count": 3,
   "id": "7297bd47",
   "metadata": {},
   "outputs": [],
   "source": [
    "from bff_plotting_tools.data_getter import get_data\n",
    "from plotting_meta.plotting_meta import bins, color_cycle, cms_format_fig, Bins\n",
    "\n",
    "from bff_plotting_tools.make_hists import make_sys, SysHist"
   ]
  },
  {
   "cell_type": "code",
   "execution_count": 4,
   "id": "a30066d6",
   "metadata": {},
   "outputs": [],
   "source": [
    "era = '2016'\n",
    "wdf, lumi = get_data(era)"
   ]
  },
  {
   "cell_type": "code",
   "execution_count": 5,
   "id": "0cd1e961",
   "metadata": {},
   "outputs": [],
   "source": [
    "#This dict organizes backgrounds into categories\n",
    "bck_dict = {\n",
    "    \"DY\": ['ZToEE_M_120_200', 'ZToEE_M_200_400', 'ZToEE_M_400_800',\n",
    "       'ZToEE_M_50_120', 'ZToEE_M_800_1400', 'ZToMuMu_M_120_200',\n",
    "       'ZToMuMu_M_200_400', 'ZToMuMu_M_400_800', 'ZToMuMu_M_50_120',\n",
    "       'ZToMuMu_M_800_1400'],\n",
    "    \"TT\": ['mc_ttbar'],\n",
    "    \"ST\": ['mc_santitop', 'mc_stop'],\n",
    "    \"WW\": [ 'mc_ww'],\n",
    "    \"WZ\": ['mc_wz'],\n",
    "    \"ZZ\": ['mc_zz'],\n",
    "    \"BFF200\": ['BFFZprimeToMuMu_M_200_dbs0p04']\n",
    "}\n",
    "for sample in bck_dict:\n",
    "    bck_dict[sample] += [smp+\"_DeepFlavour\"  for smp in bck_dict[sample]]"
   ]
  },
  {
   "cell_type": "code",
   "execution_count": 6,
   "id": "7fe3c465",
   "metadata": {},
   "outputs": [],
   "source": [
    "def get_count_unc(_df, reg, name_list):\n",
    "    '''Get sum of weights meeting some region and name. Returns sum weight and sum weight**2 **.5 (aka uncertainty)'''\n",
    "    reg_string = \"{}_nom\".format(reg)\n",
    "    tdf = _df[(_df[reg_string]==1) \n",
    "      & (_df.name.isin(name_list))]\n",
    "    sys_hist = make_sys(tdf, 'DiLepMass', reg, bin_edges=[0,1e5])\n",
    "    nominal = sys_hist.nominal[0]\n",
    "    sys = ((sys_hist.up-sys_hist.down)/2)[0]\n",
    "    std = sys_hist.std[0]\n",
    "    return nominal, sys, std"
   ]
  },
  {
   "cell_type": "code",
   "execution_count": 7,
   "id": "d6259d26",
   "metadata": {},
   "outputs": [],
   "source": [
    "# This dict lists regions and provieds a latex string\n",
    "region_and_label = {'SR1': \"#mu#mu_{b}\", \n",
    "           'CR10': \"#mu#mu_{j}\", \n",
    "           'CR13': \"ee_{b}\", \n",
    "           'CR14': \"ee_{j}\", \n",
    "           'SR2': \"#mu#mu_{1,2 b}\", \n",
    "           'CR20': \"#mu#mu_{2 j}\", \n",
    "           'CR23': \"ee_{1,2 b}\", \n",
    "           'CR24': \"ee_{2 j}\", \n",
    "          }\n",
    "# This dict lists regions and provieds a latex string for AN\n",
    "region_and_label_AN = {'SR1': \"\\SR\", \n",
    "           'CR10': \"\\CRmmj\", \n",
    "           'CR13': \"\\CReeb\", \n",
    "           'CR14': \"\\CReej\", \n",
    "           'SR2': \"\\SRTwo\", \n",
    "           'CR20': \"\\CRmmjTwo\", \n",
    "           'CR23': \"\\CReebTwo\", \n",
    "           'CR24': \"\\CReejTwo\", \n",
    "          }"
   ]
  },
  {
   "cell_type": "code",
   "execution_count": 8,
   "id": "3b23c26b",
   "metadata": {},
   "outputs": [],
   "source": [
    "def make_count_by_region(_df):\n",
    "    stat_list = []\n",
    "    for reg in region_and_label:\n",
    "        for bcks, name_list in bck_dict.items():\n",
    "            nom, sys, std = get_count_unc(_df, reg, name_list)\n",
    "            stat_list.append({\"reg\": reg, \"name\": bcks, \"nom\": nom, \"sys\":sys, \"stat\": std})\n",
    "    count_df = pd.DataFrame(stat_list)\n",
    "    #reformating it in a way to be easier to read in AN\n",
    "    usestring = False\n",
    "    reg_list = []\n",
    "    for reg in region_and_label:\n",
    "        bck_string_dict = {}\n",
    "        bck_string_dict['reg'] = region_and_label_AN[reg]\n",
    "        for bcks, name_list in bck_dict.items():\n",
    "            tcdf = count_df[(count_df.reg==reg) & (count_df.name==bcks)]\n",
    "            row = tcdf.iloc[0]\n",
    "            \n",
    "            if usestring:\n",
    "                bck_string_dict[bcks] = \"{:.1f}+/-{:.1f}\".format(row.nom, (row.sys**2+row.stat**2)**.5)\n",
    "            else:\n",
    "                bck_string_dict[bcks] = uncertainties.ufloat(row.nom, (row.sys**2+row.stat**2)**.5)\n",
    "        reg_list.append(bck_string_dict)\n",
    "    return pd.DataFrame(reg_list)"
   ]
  },
  {
   "cell_type": "code",
   "execution_count": 9,
   "id": "b8804ce5",
   "metadata": {},
   "outputs": [],
   "source": [
    "count_df_by_reg = make_count_by_region(wdf)"
   ]
  },
  {
   "cell_type": "code",
   "execution_count": 10,
   "id": "10af883e",
   "metadata": {},
   "outputs": [
    {
     "name": "stdout",
     "output_type": "stream",
     "text": [
      "\\begin{tabular}{llllllll}\n",
      "\\toprule\n",
      "      reg &                DY &                TT &         ST &          WW &        WZ &         ZZ &            BFF200 \\\\\n",
      "\\midrule\n",
      "      \\SR &   (5.0+/-0.8)e+03 &   (3.8+/-0.7)e+03 &   322+/-19 &   1.3+/-0.5 & 4.0+/-1.9 &  6.6+/-1.5 & (1.35+/-0.25)e+03 \\\\\n",
      "   \\CRmmj &   (5.4+/-0.5)e+04 &   (1.9+/-0.4)e+03 &   192+/-12 &  23.9+/-2.7 &    52+/-7 &     43+/-5 &   (7.3+/-1.5)e+02 \\\\\n",
      "   \\CReeb & (2.11+/-0.29)e+03 &   (2.1+/-0.4)e+03 &    178+/-9 & 0.49+/-0.35 &   0.0+/-0 &  3.4+/-1.0 &           0.0+/-0 \\\\\n",
      "   \\CReej & (2.84+/-0.27)e+04 & (1.04+/-0.20)e+03 &    114+/-8 &  12.9+/-1.8 &    36+/-6 & 25.4+/-3.0 &           0.0+/-0 \\\\\n",
      "   \\SRTwo & (1.35+/-0.18)e+03 &   (5.8+/-1.1)e+03 &    132+/-9 &   0.8+/-0.4 & 3.4+/-1.9 &  5.4+/-1.4 &   (3.9+/-0.7)e+02 \\\\\n",
      "\\CRmmjTwo & (1.10+/-0.11)e+04 &   (9.5+/-2.0)e+02 & 45.1+/-2.7 &   2.1+/-0.7 &    23+/-5 & 23.2+/-3.2 &          105+/-20 \\\\\n",
      "\\CReebTwo &   (7.1+/-1.1)e+02 &   (3.2+/-0.6)e+03 & 79.5+/-2.3 &   0.7+/-0.4 & 1.6+/-1.1 &  4.0+/-1.1 &           0.0+/-0 \\\\\n",
      "\\CReejTwo &   (5.2+/-0.7)e+03 &   (5.2+/-1.1)e+02 & 21.5+/-1.2 &   1.8+/-0.7 &    14+/-4 & 10.3+/-1.8 &           0.0+/-0 \\\\\n",
      "\\bottomrule\n",
      "\\end{tabular}\n",
      "\n"
     ]
    }
   ],
   "source": [
    "print(count_df_by_reg.to_latex(escape=False, index=False))"
   ]
  },
  {
   "cell_type": "code",
   "execution_count": 11,
   "id": "2cf67a9f",
   "metadata": {},
   "outputs": [],
   "source": [
    "def signficance(row):\n",
    "    return row.BFF200/(row.BFF200+row.DY+row.TT)**.5"
   ]
  },
  {
   "cell_type": "code",
   "execution_count": 36,
   "id": "54a29491",
   "metadata": {},
   "outputs": [],
   "source": [
    "def make_counts_of_regions():\n",
    "    deepcsv_df = wdf[wdf.deepflavor==0]\n",
    "    deepcsv_df_narror = deepcsv_df[abs(deepcsv_df.DiLepMass-200) < 10]\n",
    "    \n",
    "    deepflavour_df = wdf[wdf.deepflavor==1]\n",
    "    deepflavour_df_narror = deepflavour_df[abs(deepflavour_df.DiLepMass-200) < 10]\n",
    "    \n",
    "    deepcsv_counts = make_count_by_region(deepcsv_df)\n",
    "    deepcsv_narrow_counts = make_count_by_region(deepcsv_df_narror)\n",
    "    \n",
    "    deepflavour_counts = make_count_by_region(deepflavour_df)\n",
    "    deepflavour_narrow_counts = make_count_by_region(deepflavour_df_narror)\n",
    "    \n",
    "    return deepcsv_counts, deepcsv_narrow_counts, deepflavour_counts, deepflavour_narrow_counts"
   ]
  },
  {
   "cell_type": "code",
   "execution_count": 37,
   "id": "74c0fc72",
   "metadata": {},
   "outputs": [],
   "source": [
    "deepcsv_counts, deepcsv_narrow_counts, deepflavour_counts, deepflavour_narrow_counts = make_counts_of_regions()"
   ]
  },
  {
   "cell_type": "code",
   "execution_count": 55,
   "id": "0f803ab3",
   "metadata": {},
   "outputs": [],
   "source": [
    "def print_counts(_df):\n",
    "    print(_df[['reg', 'DY', 'TT', 'BFF200']].to_latex())\n",
    "    print(signficance(_df).to_latex())"
   ]
  },
  {
   "cell_type": "code",
   "execution_count": 56,
   "id": "b5908963",
   "metadata": {},
   "outputs": [
    {
     "name": "stdout",
     "output_type": "stream",
     "text": [
      "\\begin{tabular}{lllll}\n",
      "\\toprule\n",
      "{} &        reg &                 DY &                 TT &           BFF200 \\\\\n",
      "\\midrule\n",
      "0 &        \\textbackslash SR &  (1.48+/-0.23)e+03 &  (1.06+/-0.20)e+03 &  (4.2+/-0.8)e+02 \\\\\n",
      "1 &     \\textbackslash CRmmj &  (1.86+/-0.17)e+04 &    (6.5+/-1.3)e+02 &  (2.7+/-0.5)e+02 \\\\\n",
      "2 &     \\textbackslash CReeb &    (8.1+/-1.1)e+02 &    (5.7+/-1.1)e+02 &          0.0+/-0 \\\\\n",
      "3 &     \\textbackslash CReej &  (1.19+/-0.11)e+04 &    (3.5+/-0.7)e+02 &          0.0+/-0 \\\\\n",
      "4 &     \\textbackslash SRTwo &    (4.3+/-0.7)e+02 &  (1.63+/-0.31)e+03 &         123+/-21 \\\\\n",
      "5 &  \\textbackslash CRmmjTwo &    (3.8+/-0.4)e+03 &    (3.5+/-0.7)e+02 &           40+/-7 \\\\\n",
      "6 &  \\textbackslash CReebTwo &    (2.9+/-0.6)e+02 &    (9.1+/-1.7)e+02 &          0.0+/-0 \\\\\n",
      "7 &  \\textbackslash CReejTwo &  (2.25+/-0.30)e+03 &    (1.9+/-0.4)e+02 &          0.0+/-0 \\\\\n",
      "\\bottomrule\n",
      "\\end{tabular}\n",
      "\n",
      "\\begin{tabular}{ll}\n",
      "\\toprule\n",
      "{} &            0 \\\\\n",
      "\\midrule\n",
      "0 &    7.8+/-1.4 \\\\\n",
      "1 &    1.9+/-0.4 \\\\\n",
      "2 &      0.0+/-0 \\\\\n",
      "3 &      0.0+/-0 \\\\\n",
      "4 &    2.6+/-0.5 \\\\\n",
      "5 &  0.62+/-0.12 \\\\\n",
      "6 &      0.0+/-0 \\\\\n",
      "7 &      0.0+/-0 \\\\\n",
      "\\bottomrule\n",
      "\\end{tabular}\n",
      "\n"
     ]
    }
   ],
   "source": [
    "print_counts(deepcsv_counts)"
   ]
  },
  {
   "cell_type": "code",
   "execution_count": 57,
   "id": "53b75113",
   "metadata": {},
   "outputs": [
    {
     "name": "stdout",
     "output_type": "stream",
     "text": [
      "\\begin{tabular}{lllll}\n",
      "\\toprule\n",
      "{} &        reg &                 DY &                 TT &           BFF200 \\\\\n",
      "\\midrule\n",
      "0 &        \\textbackslash SR &    (3.5+/-0.6)e+03 &    (2.7+/-0.5)e+03 &  (9.3+/-1.7)e+02 \\\\\n",
      "1 &     \\textbackslash CRmmj &  (3.55+/-0.33)e+04 &  (1.28+/-0.25)e+03 &  (4.7+/-0.9)e+02 \\\\\n",
      "2 &     \\textbackslash CReeb &  (1.30+/-0.20)e+03 &  (1.49+/-0.27)e+03 &          0.0+/-0 \\\\\n",
      "3 &     \\textbackslash CReej &  (1.65+/-0.18)e+04 &    (6.9+/-1.3)e+02 &          0.0+/-0 \\\\\n",
      "4 &     \\textbackslash SRTwo &    (9.2+/-1.4)e+02 &    (4.1+/-0.8)e+03 &  (2.7+/-0.5)e+02 \\\\\n",
      "5 &  \\textbackslash CRmmjTwo &    (7.3+/-0.8)e+03 &    (6.0+/-1.3)e+02 &          65+/-12 \\\\\n",
      "6 &  \\textbackslash CReebTwo &    (4.2+/-0.8)e+02 &    (2.3+/-0.4)e+03 &          0.0+/-0 \\\\\n",
      "7 &  \\textbackslash CReejTwo &    (2.9+/-0.5)e+03 &    (3.2+/-0.7)e+02 &          0.0+/-0 \\\\\n",
      "\\bottomrule\n",
      "\\end{tabular}\n",
      "\n",
      "\\begin{tabular}{ll}\n",
      "\\toprule\n",
      "{} &            0 \\\\\n",
      "\\midrule\n",
      "0 &   10.9+/-2.0 \\\\\n",
      "1 &    2.4+/-0.5 \\\\\n",
      "2 &      0.0+/-0 \\\\\n",
      "3 &      0.0+/-0 \\\\\n",
      "4 &    3.6+/-0.7 \\\\\n",
      "5 &  0.73+/-0.14 \\\\\n",
      "6 &      0.0+/-0 \\\\\n",
      "7 &      0.0+/-0 \\\\\n",
      "\\bottomrule\n",
      "\\end{tabular}\n",
      "\n"
     ]
    }
   ],
   "source": [
    "print_counts(deepflavour_counts)"
   ]
  },
  {
   "cell_type": "code",
   "execution_count": 58,
   "id": "6396ff85",
   "metadata": {},
   "outputs": [
    {
     "name": "stdout",
     "output_type": "stream",
     "text": [
      "\\begin{tabular}{lllll}\n",
      "\\toprule\n",
      "{} &        reg &                 DY &        TT &           BFF200 \\\\\n",
      "\\midrule\n",
      "0 &        \\textbackslash SR &            67+/-14 &  112+/-21 &  (3.9+/-0.7)e+02 \\\\\n",
      "1 &     \\textbackslash CRmmj &  (1.23+/-0.12)e+03 &   67+/-13 &  (2.5+/-0.5)e+02 \\\\\n",
      "2 &     \\textbackslash CReeb &            59+/-12 &   62+/-11 &          0.0+/-0 \\\\\n",
      "3 &     \\textbackslash CReej &    (9.6+/-1.2)e+02 &    40+/-8 &          0.0+/-0 \\\\\n",
      "4 &     \\textbackslash SRTwo &             15+/-5 &  173+/-33 &         114+/-20 \\\\\n",
      "5 &  \\textbackslash CRmmjTwo &    (2.9+/-0.4)e+02 &    36+/-8 &           37+/-7 \\\\\n",
      "6 &  \\textbackslash CReebTwo &             19+/-6 &   98+/-18 &          0.0+/-0 \\\\\n",
      "7 &  \\textbackslash CReejTwo &           126+/-18 &    21+/-4 &          0.0+/-0 \\\\\n",
      "\\bottomrule\n",
      "\\end{tabular}\n",
      "\n",
      "\\begin{tabular}{ll}\n",
      "\\toprule\n",
      "{} &           0 \\\\\n",
      "\\midrule\n",
      "0 &  16.4+/-2.1 \\\\\n",
      "1 &   6.3+/-1.2 \\\\\n",
      "2 &     0.0+/-0 \\\\\n",
      "3 &     0.0+/-0 \\\\\n",
      "4 &   6.6+/-1.0 \\\\\n",
      "5 &   2.0+/-0.4 \\\\\n",
      "6 &     0.0+/-0 \\\\\n",
      "7 &     0.0+/-0 \\\\\n",
      "\\bottomrule\n",
      "\\end{tabular}\n",
      "\n"
     ]
    }
   ],
   "source": [
    "print_counts(deepcsv_narrow_counts)"
   ]
  },
  {
   "cell_type": "code",
   "execution_count": 59,
   "id": "804644de",
   "metadata": {},
   "outputs": [
    {
     "name": "stdout",
     "output_type": "stream",
     "text": [
      "\\begin{tabular}{lllll}\n",
      "\\toprule\n",
      "{} &        reg &                 DY &               TT &           BFF200 \\\\\n",
      "\\midrule\n",
      "0 &        \\textbackslash SR &    (2.0+/-0.4)e+02 &  (2.9+/-0.5)e+02 &  (8.6+/-1.6)e+02 \\\\\n",
      "1 &     \\textbackslash CRmmj &  (2.43+/-0.24)e+03 &         133+/-26 &  (4.3+/-0.9)e+02 \\\\\n",
      "2 &     \\textbackslash CReeb &            48+/-21 &         161+/-30 &          0.0+/-0 \\\\\n",
      "3 &     \\textbackslash CReej &    (8.9+/-2.2)e+02 &          77+/-15 &          0.0+/-0 \\\\\n",
      "4 &     \\textbackslash SRTwo &            50+/-16 &  (4.4+/-0.8)e+02 &  (2.5+/-0.4)e+02 \\\\\n",
      "5 &  \\textbackslash CRmmjTwo &    (5.7+/-0.7)e+02 &          63+/-13 &          61+/-12 \\\\\n",
      "6 &  \\textbackslash CReebTwo &            24+/-14 &  (2.5+/-0.5)e+02 &          0.0+/-0 \\\\\n",
      "7 &  \\textbackslash CReejTwo &            75+/-27 &           34+/-7 &          0.0+/-0 \\\\\n",
      "\\bottomrule\n",
      "\\end{tabular}\n",
      "\n",
      "\\begin{tabular}{ll}\n",
      "\\toprule\n",
      "{} &           0 \\\\\n",
      "\\midrule\n",
      "0 &  23.4+/-3.0 \\\\\n",
      "1 &   7.9+/-1.5 \\\\\n",
      "2 &     0.0+/-0 \\\\\n",
      "3 &     0.0+/-0 \\\\\n",
      "4 &   9.1+/-1.4 \\\\\n",
      "5 &   2.3+/-0.4 \\\\\n",
      "6 &     0.0+/-0 \\\\\n",
      "7 &     0.0+/-0 \\\\\n",
      "\\bottomrule\n",
      "\\end{tabular}\n",
      "\n"
     ]
    }
   ],
   "source": [
    "print_counts(deepflavour_narrow_counts)"
   ]
  },
  {
   "cell_type": "code",
   "execution_count": 50,
   "id": "908509fd",
   "metadata": {},
   "outputs": [
    {
     "data": {
      "text/html": [
       "<div>\n",
       "<style scoped>\n",
       "    .dataframe tbody tr th:only-of-type {\n",
       "        vertical-align: middle;\n",
       "    }\n",
       "\n",
       "    .dataframe tbody tr th {\n",
       "        vertical-align: top;\n",
       "    }\n",
       "\n",
       "    .dataframe thead th {\n",
       "        text-align: right;\n",
       "    }\n",
       "</style>\n",
       "<table border=\"1\" class=\"dataframe\">\n",
       "  <thead>\n",
       "    <tr style=\"text-align: right;\">\n",
       "      <th></th>\n",
       "      <th>reg</th>\n",
       "      <th>DY</th>\n",
       "      <th>TT</th>\n",
       "      <th>BFF200</th>\n",
       "    </tr>\n",
       "  </thead>\n",
       "  <tbody>\n",
       "    <tr>\n",
       "      <th>0</th>\n",
       "      <td>\\SR</td>\n",
       "      <td>67+/-14</td>\n",
       "      <td>112+/-21</td>\n",
       "      <td>(3.9+/-0.7)e+02</td>\n",
       "    </tr>\n",
       "    <tr>\n",
       "      <th>1</th>\n",
       "      <td>\\CRmmj</td>\n",
       "      <td>(1.23+/-0.12)e+03</td>\n",
       "      <td>67+/-13</td>\n",
       "      <td>(2.5+/-0.5)e+02</td>\n",
       "    </tr>\n",
       "    <tr>\n",
       "      <th>2</th>\n",
       "      <td>\\CReeb</td>\n",
       "      <td>59+/-12</td>\n",
       "      <td>62+/-11</td>\n",
       "      <td>0.0+/-0</td>\n",
       "    </tr>\n",
       "    <tr>\n",
       "      <th>3</th>\n",
       "      <td>\\CReej</td>\n",
       "      <td>(9.6+/-1.2)e+02</td>\n",
       "      <td>40+/-8</td>\n",
       "      <td>0.0+/-0</td>\n",
       "    </tr>\n",
       "    <tr>\n",
       "      <th>4</th>\n",
       "      <td>\\SRTwo</td>\n",
       "      <td>15+/-5</td>\n",
       "      <td>173+/-33</td>\n",
       "      <td>114+/-20</td>\n",
       "    </tr>\n",
       "    <tr>\n",
       "      <th>5</th>\n",
       "      <td>\\CRmmjTwo</td>\n",
       "      <td>(2.9+/-0.4)e+02</td>\n",
       "      <td>36+/-8</td>\n",
       "      <td>37+/-7</td>\n",
       "    </tr>\n",
       "    <tr>\n",
       "      <th>6</th>\n",
       "      <td>\\CReebTwo</td>\n",
       "      <td>19+/-6</td>\n",
       "      <td>98+/-18</td>\n",
       "      <td>0.0+/-0</td>\n",
       "    </tr>\n",
       "    <tr>\n",
       "      <th>7</th>\n",
       "      <td>\\CReejTwo</td>\n",
       "      <td>126+/-18</td>\n",
       "      <td>21+/-4</td>\n",
       "      <td>0.0+/-0</td>\n",
       "    </tr>\n",
       "  </tbody>\n",
       "</table>\n",
       "</div>"
      ],
      "text/plain": [
       "         reg                 DY        TT           BFF200\n",
       "0        \\SR            67+/-14  112+/-21  (3.9+/-0.7)e+02\n",
       "1     \\CRmmj  (1.23+/-0.12)e+03   67+/-13  (2.5+/-0.5)e+02\n",
       "2     \\CReeb            59+/-12   62+/-11          0.0+/-0\n",
       "3     \\CReej    (9.6+/-1.2)e+02    40+/-8          0.0+/-0\n",
       "4     \\SRTwo             15+/-5  173+/-33         114+/-20\n",
       "5  \\CRmmjTwo    (2.9+/-0.4)e+02    36+/-8           37+/-7\n",
       "6  \\CReebTwo             19+/-6   98+/-18          0.0+/-0\n",
       "7  \\CReejTwo           126+/-18    21+/-4          0.0+/-0"
      ]
     },
     "execution_count": 50,
     "metadata": {},
     "output_type": "execute_result"
    }
   ],
   "source": [
    "deepcsv_narrow_counts[['reg', 'DY', 'TT', 'BFF200']]"
   ]
  },
  {
   "cell_type": "code",
   "execution_count": 52,
   "id": "2b5bc775",
   "metadata": {},
   "outputs": [
    {
     "data": {
      "text/html": [
       "<div>\n",
       "<style scoped>\n",
       "    .dataframe tbody tr th:only-of-type {\n",
       "        vertical-align: middle;\n",
       "    }\n",
       "\n",
       "    .dataframe tbody tr th {\n",
       "        vertical-align: top;\n",
       "    }\n",
       "\n",
       "    .dataframe thead th {\n",
       "        text-align: right;\n",
       "    }\n",
       "</style>\n",
       "<table border=\"1\" class=\"dataframe\">\n",
       "  <thead>\n",
       "    <tr style=\"text-align: right;\">\n",
       "      <th></th>\n",
       "      <th>reg</th>\n",
       "      <th>DY</th>\n",
       "      <th>TT</th>\n",
       "      <th>BFF200</th>\n",
       "    </tr>\n",
       "  </thead>\n",
       "  <tbody>\n",
       "    <tr>\n",
       "      <th>0</th>\n",
       "      <td>\\SR</td>\n",
       "      <td>(2.0+/-0.4)e+02</td>\n",
       "      <td>(2.9+/-0.5)e+02</td>\n",
       "      <td>(8.6+/-1.6)e+02</td>\n",
       "    </tr>\n",
       "    <tr>\n",
       "      <th>1</th>\n",
       "      <td>\\CRmmj</td>\n",
       "      <td>(2.43+/-0.24)e+03</td>\n",
       "      <td>133+/-26</td>\n",
       "      <td>(4.3+/-0.9)e+02</td>\n",
       "    </tr>\n",
       "    <tr>\n",
       "      <th>2</th>\n",
       "      <td>\\CReeb</td>\n",
       "      <td>48+/-21</td>\n",
       "      <td>161+/-30</td>\n",
       "      <td>0.0+/-0</td>\n",
       "    </tr>\n",
       "    <tr>\n",
       "      <th>3</th>\n",
       "      <td>\\CReej</td>\n",
       "      <td>(8.9+/-2.2)e+02</td>\n",
       "      <td>77+/-15</td>\n",
       "      <td>0.0+/-0</td>\n",
       "    </tr>\n",
       "    <tr>\n",
       "      <th>4</th>\n",
       "      <td>\\SRTwo</td>\n",
       "      <td>50+/-16</td>\n",
       "      <td>(4.4+/-0.8)e+02</td>\n",
       "      <td>(2.5+/-0.4)e+02</td>\n",
       "    </tr>\n",
       "    <tr>\n",
       "      <th>5</th>\n",
       "      <td>\\CRmmjTwo</td>\n",
       "      <td>(5.7+/-0.7)e+02</td>\n",
       "      <td>63+/-13</td>\n",
       "      <td>61+/-12</td>\n",
       "    </tr>\n",
       "    <tr>\n",
       "      <th>6</th>\n",
       "      <td>\\CReebTwo</td>\n",
       "      <td>24+/-14</td>\n",
       "      <td>(2.5+/-0.5)e+02</td>\n",
       "      <td>0.0+/-0</td>\n",
       "    </tr>\n",
       "    <tr>\n",
       "      <th>7</th>\n",
       "      <td>\\CReejTwo</td>\n",
       "      <td>75+/-27</td>\n",
       "      <td>34+/-7</td>\n",
       "      <td>0.0+/-0</td>\n",
       "    </tr>\n",
       "  </tbody>\n",
       "</table>\n",
       "</div>"
      ],
      "text/plain": [
       "         reg                 DY               TT           BFF200\n",
       "0        \\SR    (2.0+/-0.4)e+02  (2.9+/-0.5)e+02  (8.6+/-1.6)e+02\n",
       "1     \\CRmmj  (2.43+/-0.24)e+03         133+/-26  (4.3+/-0.9)e+02\n",
       "2     \\CReeb            48+/-21         161+/-30          0.0+/-0\n",
       "3     \\CReej    (8.9+/-2.2)e+02          77+/-15          0.0+/-0\n",
       "4     \\SRTwo            50+/-16  (4.4+/-0.8)e+02  (2.5+/-0.4)e+02\n",
       "5  \\CRmmjTwo    (5.7+/-0.7)e+02          63+/-13          61+/-12\n",
       "6  \\CReebTwo            24+/-14  (2.5+/-0.5)e+02          0.0+/-0\n",
       "7  \\CReejTwo            75+/-27           34+/-7          0.0+/-0"
      ]
     },
     "execution_count": 52,
     "metadata": {},
     "output_type": "execute_result"
    }
   ],
   "source": [
    "deepflavour_narrow_counts[['reg', 'DY', 'TT', 'BFF200']]"
   ]
  },
  {
   "cell_type": "code",
   "execution_count": 53,
   "id": "3e0dd01f",
   "metadata": {},
   "outputs": [
    {
     "data": {
      "text/plain": [
       "0    16.4+/-2.1\n",
       "1     6.3+/-1.2\n",
       "2       0.0+/-0\n",
       "3       0.0+/-0\n",
       "4     6.6+/-1.0\n",
       "5     2.0+/-0.4\n",
       "6       0.0+/-0\n",
       "7       0.0+/-0\n",
       "dtype: object"
      ]
     },
     "execution_count": 53,
     "metadata": {},
     "output_type": "execute_result"
    }
   ],
   "source": [
    "signficance(deepcsv_narrow_counts)"
   ]
  },
  {
   "cell_type": "code",
   "execution_count": 54,
   "id": "bc96806c",
   "metadata": {},
   "outputs": [
    {
     "data": {
      "text/plain": [
       "0    23.4+/-3.0\n",
       "1     7.9+/-1.5\n",
       "2       0.0+/-0\n",
       "3       0.0+/-0\n",
       "4     9.1+/-1.4\n",
       "5     2.3+/-0.4\n",
       "6       0.0+/-0\n",
       "7       0.0+/-0\n",
       "dtype: object"
      ]
     },
     "execution_count": 54,
     "metadata": {},
     "output_type": "execute_result"
    }
   ],
   "source": [
    "signficance(deepflavour_narrow_counts)"
   ]
  },
  {
   "cell_type": "code",
   "execution_count": null,
   "id": "287aa056",
   "metadata": {},
   "outputs": [],
   "source": []
  }
 ],
 "metadata": {
  "kernelspec": {
   "display_name": "bff_12_1",
   "language": "python",
   "name": "bff_12_1"
  },
  "language_info": {
   "codemirror_mode": {
    "name": "ipython",
    "version": 3
   },
   "file_extension": ".py",
   "mimetype": "text/x-python",
   "name": "python",
   "nbconvert_exporter": "python",
   "pygments_lexer": "ipython3",
   "version": "3.9.6"
  }
 },
 "nbformat": 4,
 "nbformat_minor": 5
}
