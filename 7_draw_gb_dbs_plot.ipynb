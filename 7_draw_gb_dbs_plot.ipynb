{
 "cells": [
  {
   "cell_type": "code",
   "execution_count": null,
   "id": "64f2b022",
   "metadata": {},
   "outputs": [],
   "source": [
    "import pandas as pd\n",
    "import numpy as np\n",
    "from scipy.optimize import curve_fit\n",
    "import matplotlib.pyplot as plt"
   ]
  },
  {
   "cell_type": "code",
   "execution_count": null,
   "id": "ae0ba564",
   "metadata": {},
   "outputs": [],
   "source": [
    "%load_ext autoreload\n",
    "%autoreload 2"
   ]
  },
  {
   "cell_type": "code",
   "execution_count": null,
   "id": "f8559081",
   "metadata": {},
   "outputs": [],
   "source": [
    "import mplhep as hep\n",
    "hep.style.use(hep.style.CMS)\n",
    "plt.rcParams.update({\n",
    "    \"text.usetex\": True,\n",
    "})"
   ]
  },
  {
   "cell_type": "code",
   "execution_count": null,
   "id": "7c8d3ce5",
   "metadata": {},
   "outputs": [],
   "source": [
    "from plotting_meta.plotting_meta import cms_format_fig, color_cycle, lumi_dict, BS_BS_y, trident_y, lighten_color\n",
    "from bff_processor.plotting_utils import color_fader\n",
    "from limit_utils.utils import *"
   ]
  },
  {
   "cell_type": "code",
   "execution_count": null,
   "id": "89ecfa6f",
   "metadata": {},
   "outputs": [],
   "source": [
    "# csv era which we get the sample data from\n",
    "era = '16-18'\n",
    "xsec_df = pd.read_csv('fits/limit_setting/xsec_fits_after_6_{}.csv'.format(era))"
   ]
  },
  {
   "cell_type": "code",
   "execution_count": null,
   "id": "ddbf39bd",
   "metadata": {},
   "outputs": [],
   "source": [
    "####\n",
    "## Now, produce era specific plots\n",
    "####\n",
    "lera = 2018\n",
    "era_sel = xsec_df.era==lera\n",
    "lxsec_df = xsec_df[xsec_df.era==lera]\n",
    "lera = str(lera)"
   ]
  },
  {
   "cell_type": "code",
   "execution_count": null,
   "id": "b7487861",
   "metadata": {},
   "outputs": [],
   "source": [
    "def poln(x, *params):\n",
    "    x = x.astype('float')\n",
    "    y = x*0.\n",
    "    for i, par in enumerate(params):\n",
    "        y += np.power(x,i)*par\n",
    "    return y\n",
    "\n",
    "def logisitic(x, c1, c2):\n",
    "    return 1/(1+10**(-(x-c1)/c2))\n",
    "\n",
    "def dbs_func(x, c1, c2):\n",
    "    return c1*(1+c2*x**.5)\n",
    "\n",
    "def dbs_acceptance_fit(x, c1, c2, c3, c4, c5, *params):\n",
    "    #y = poln(x.mass, *params)\n",
    "    y = logisitic(x.mass, *params)\n",
    "    yp = c3 + c4*y + c5*y**2\n",
    "    return yp*dbs_func(x.dbs, c1, c2)"
   ]
  },
  {
   "cell_type": "code",
   "execution_count": null,
   "id": "b62b7f13",
   "metadata": {},
   "outputs": [],
   "source": [
    "def make_mass_x_df(dbs, nSamples = 100):\n",
    "    dbs_gb_df = pd.DataFrame()\n",
    "    dbs_gb_df['mass'] = np.linspace(125,500, nSamples)\n",
    "    dbs_gb_df['dbs'] = np.full(nSamples, dbs)\n",
    "    return dbs_gb_df"
   ]
  },
  {
   "cell_type": "code",
   "execution_count": null,
   "id": "1cd5fe52",
   "metadata": {},
   "outputs": [],
   "source": [
    "# computes the best fit acceptance for lera\n",
    "acceptance_dict = {}\n",
    "for reg in ['SR1','SR2', 'SRX']:\n",
    "    tdf = xsec_df[era_sel & (xsec_df.acceptance_SR1 < .2) & (xsec_df.acceptance_SR2 < .1)]\n",
    "    popt_acc, _ = curve_fit(dbs_acceptance_fit, tdf,tdf['acceptance_{}'.format(reg)], p0=[.1, .3, 0, 1, 0, 180,100], maxfev = int(2e5))\n",
    "    acceptance_dict[reg] = popt_acc"
   ]
  },
  {
   "cell_type": "code",
   "execution_count": null,
   "id": "e50dfca7",
   "metadata": {},
   "outputs": [],
   "source": [
    "def compute_acceptance(x_df, reg):\n",
    "    '''From region, df, use previous fit params to compute acceptance'''\n",
    "    popt_acc = acceptance_dict[reg]\n",
    "    return dbs_acceptance_fit(x_df,*popt_acc)"
   ]
  },
  {
   "cell_type": "code",
   "execution_count": null,
   "id": "8e5c4115",
   "metadata": {},
   "outputs": [],
   "source": [
    "# make acceptance plot\n",
    "fig, axs = plt.subplots(3,1, figsize=[10,10])\n",
    "for i, (reg, popt_acc) in enumerate(acceptance_dict.items()):\n",
    "    ax = axs[i]\n",
    "    acceptance_string = 'acceptance_{}'.format(reg)\n",
    "    acceptance_uc_string = 'acceptance_unc_{}'.format(reg)\n",
    "    colors = [ color_fader('blue', 'red', mix=float(i)/3) for i in range(3)]\n",
    "    for dbs, c in zip([0.04, 0.5, 1.0],colors):\n",
    "        tdf = xsec_df[era_sel & (xsec_df.dbs==dbs)]\n",
    "        x = tdf.mass\n",
    "        y = tdf[acceptance_string]\n",
    "        yerr = tdf[acceptance_uc_string]\n",
    "        x_df = make_mass_x_df(dbs)\n",
    "        yacc = compute_acceptance(x_df, reg)\n",
    "        ax.plot(x_df.mass, yacc, color=c)\n",
    "        ax.errorbar(x,y, yerr=yerr, label='$\\delta_{{bs}}={}$'.format(dbs), linestyle='', marker='.', color=c)\n",
    "        ax.text(290,1.1e-3, reg, fontsize=15) \n",
    "        if reg=='SR1':\n",
    "            ax.set_ylim(1e-3,3e-1)\n",
    "        if reg=='SRX':\n",
    "            ax.set_ylim(1e-3,3e-1)\n",
    "        else: \n",
    "            ax.set_ylim(1e-3,3e-1)\n",
    "    #plt.yscale('log')\n",
    "    ax.set_ylabel('acceptance')\n",
    "    \n",
    "    ax.set_yscale('log')\n",
    "axs[1].set_xlabel('DiLepMass [Gev]')\n",
    "cms_format_fig(lera, axs[0])\n",
    "plt.legend()\n",
    "fig.savefig('fits/limit_setting/acceptance_{}.png'.format(lera))"
   ]
  },
  {
   "cell_type": "code",
   "execution_count": null,
   "id": "e3dbf2f1",
   "metadata": {},
   "outputs": [],
   "source": [
    "#added computed acceptance to xsec_df\n",
    "for i, (reg, popt_acc) in enumerate(acceptance_dict.items()):\n",
    "    acc_string = 'comp_acceptance_{}'.format(reg)\n",
    "    weight_string = 'comp_weight_{}'.format(reg)\n",
    "    xsec_df.loc[era_sel, acc_string] = xsec_df[era_sel].apply(lambda x: dbs_acceptance_fit(x,*popt_acc), axis=1)\n",
    "    xsec_df.loc[era_sel, weight_string] = xsec_df[era_sel][acc_string]*xsec_df.lumi*xsec_df.comp_xsec"
   ]
  },
  {
   "cell_type": "code",
   "execution_count": null,
   "id": "fcc04b2a",
   "metadata": {},
   "outputs": [],
   "source": [
    "# not needed really, but making a linear fit to mass and gmu values from paper values to show validity of min gmu value for mass\n",
    "gmu = [0.08, 0.14, 0.20]\n",
    "mass = np.array([200,350,500])\n",
    "def linear(x,c1,c2): \n",
    "    return x*c1+c2\n",
    "popt_mass_gmu ,_ = curve_fit(linear, mass, gmu)\n",
    "plt.plot(mass, gmu)\n",
    "def mass_to_gmu(x): return linear(x, *popt_mass_gmu)\n",
    "plt.plot(mass, mass_to_gmu(mass))"
   ]
  },
  {
   "cell_type": "code",
   "execution_count": null,
   "id": "13b569fe",
   "metadata": {},
   "outputs": [],
   "source": [
    "def calc_gm(row):\n",
    "    constant = 1.3*1e-5\n",
    "    return constant*(row.mass/100)**2/(row.gb*row.dbs)\n",
    "def calc_gb(row):\n",
    "    constant = 1.3*1e-5\n",
    "    return constant*(row.mass/100)**2/(row.gmu*row.dbs)"
   ]
  },
  {
   "cell_type": "code",
   "execution_count": null,
   "id": "759a56c1",
   "metadata": {},
   "outputs": [],
   "source": [
    "import pickle\n",
    "with open('fits/limit_setting/popt_c1.pkl', 'rb') as f:\n",
    "    popt_c1 = pickle.load(f)\n",
    "with open('fits/limit_setting/popt_k.pkl', 'rb') as f:\n",
    "    popt_k = pickle.load(f)\n",
    "def produce_xsec_model(popt_c1, popt_k):\n",
    "    '''load xsec model using c1 and k'''\n",
    "    return lambda x: compute_expected_xsec(x, popt_c1, popt_k)\n",
    "xsec_model = produce_xsec_model(popt_c1, popt_k)"
   ]
  },
  {
   "cell_type": "code",
   "execution_count": null,
   "id": "83692c8b",
   "metadata": {},
   "outputs": [],
   "source": [
    "def compute_xsec(df):\n",
    "    df['comp_total_xsec'] = xsec_model(df)\n",
    "    df['branching_ratio'] = branching_ratio(df)\n",
    "    df['comp_xsec'] = df['branching_ratio']*df['comp_total_xsec']\n",
    "    for reg in ['SR1', 'SR2', 'SRX']:\n",
    "        df['comp_acc_'+reg] = compute_acceptance(df, reg)\n",
    "        df['comp_xsec_'+reg] = df['comp_xsec']*df['comp_acc_'+reg]\n",
    "        for era in [2016, 2017, 2018]:\n",
    "            lumi = lumi_dict[str(era)]\n",
    "            df['comp_nevt_{}_{}'.format(reg,era)] = df['comp_xsec_'+reg]*lumi\n",
    "    return df"
   ]
  },
  {
   "cell_type": "code",
   "execution_count": null,
   "id": "19520365",
   "metadata": {},
   "outputs": [],
   "source": [
    "def make_dbs_mass_df():\n",
    "    mass = np.array([125,150,175,200,350,500])\n",
    "    gmu = mass_to_gmu(mass)\n",
    "    #gb = np.linspace(2e-4, 2e-2, int((2e-2-2e-4)/2e-4+1))\n",
    "    dbs = np.linspace(1e-2, 1., int((1-1e-2)/(1e-2)+1))\n",
    "    df =  pd.DataFrame([{\"mass\": m, \"gmu\": mass_to_gmu(m), \"dbs\": d} for m in mass for d in dbs])\n",
    "    df['gb'] = df.apply(calc_gb, axis=1)\n",
    "    return compute_xsec(df)\n",
    "def make_gb_dbs_mass_df():\n",
    "    mass = np.array([125,150,175,200,350,500])\n",
    "    gmu = mass_to_gmu(mass)\n",
    "    gb = np.linspace(2e-4, 2e-2, int((2e-2-2e-4)/2e-4+1))\n",
    "    dbs = np.linspace(1e-2, 1., int((1-1e-2)/(1e-2)+1))\n",
    "    df = pd.DataFrame([{\"mass\": m, \"gmu\": mass_to_gmu(m),\"gb\":b, \"dbs\": d} for m in mass for b in gb for d in dbs])\n",
    "    return compute_xsec(df)"
   ]
  },
  {
   "cell_type": "code",
   "execution_count": null,
   "id": "87163f3f",
   "metadata": {},
   "outputs": [],
   "source": [
    "dbs_mass_df = make_dbs_mass_df()\n",
    "gb_dbs_mass_df = make_gb_dbs_mass_df()"
   ]
  },
  {
   "cell_type": "code",
   "execution_count": null,
   "id": "bdf8e784",
   "metadata": {},
   "outputs": [],
   "source": [
    "# plot change from dbs value to dbs value\n",
    "for mass in  [125,150,175,200,350,500]:\n",
    "    tdf = gb_dbs_mass_df[gb_dbs_mass_df.mass==mass].sort_values(['dbs'])\n",
    "    y = (tdf['comp_nevt_SR1_2016']/tdf['comp_nevt_SR2_2016']).to_numpy()\n",
    "    plt.plot(tdf.dbs, y, label=mass)\n",
    "    print(y[-1]/y[0])\n",
    "plt.ylabel('$\\\\frac{n_{SR1}}{n_{SR2}}$')\n",
    "plt.xlabel('$\\delta_{bs}$')\n",
    "plt.legend()"
   ]
  },
  {
   "cell_type": "code",
   "execution_count": null,
   "id": "27d514dd",
   "metadata": {},
   "outputs": [],
   "source": [
    "#draw branching ratio plot\n",
    "dbss = [.04,.5,1]\n",
    "fig, axs = plt.subplots(1,len(dbss), figsize=[15,10])\n",
    "for i, (dbs,ax) in enumerate(zip(dbss,axs)):\n",
    "    for mass, c in zip([125,150,175,200,350,500],color_cycle):\n",
    "            tdf = gb_dbs_mass_df[(gb_dbs_mass_df.mass==mass) &  (gb_dbs_mass_df.dbs==dbs)]\n",
    "            tdf = tdf.sort_values(['gb', 'mass'])\n",
    "            ax.plot(tdf.gb, tdf.branching_ratio, label=mass, color=c)\n",
    "            ax.set_title('$\\\\delta_{{bs}}={}$'.format(dbs))\n",
    "            ax.set_ylim(0, .7)\n",
    "plt.legend()\n",
    "axs[0].set_ylabel(\"$\\\\frac{\\\\sigma \\\\left( pp\\\\rightarrow Z'\\\\rightarrow\\\\mu\\\\mu\\\\right )}{\\\\sigma \\\\left( pp\\\\rightarrow Z'\\\\right )}$\")\n",
    "axs[2].set_xlabel('$g_b$')\n",
    "fig.savefig('fits/limit_setting/branching_ratios.png')  "
   ]
  },
  {
   "cell_type": "code",
   "execution_count": null,
   "id": "3bcc7a96",
   "metadata": {},
   "outputs": [],
   "source": [
    "def dbs_mass_nevents_reg_to_gb(df,nevents, reg, lumi):\n",
    "    acceptance = compute_acceptance(df, reg)\n",
    "    mm_xsec = nevents/(acceptance*lumi)\n",
    "    gb = gb_from_mm_xsec_gmu_dbs(mm_xsec,df)\n",
    "    return gb"
   ]
  },
  {
   "cell_type": "code",
   "execution_count": null,
   "id": "f88dcb82",
   "metadata": {},
   "outputs": [],
   "source": [
    "def gb_from_mm_xsec_gmu_dbs(mm, df): \n",
    "    c1, k = compute_c1(df.mass, popt_c1), compute_k(df.mass, popt_k)\n",
    "    noom =  mm\n",
    "    denom = 2/3*c1*mm*(1+k*df.dbs**2)-2*df.dbs**2 -1\n",
    "    return noom/denom**.5"
   ]
  },
  {
   "cell_type": "code",
   "execution_count": null,
   "id": "5068a7ff",
   "metadata": {},
   "outputs": [],
   "source": [
    "#def xsec_gmu_dbs_to_gb(x, xsec):\n",
    "#    c1, k = compute_c1(tdf.mass), compute_k(tdf.mass)\n",
    "#    return (xsec/(c1*(1 + k * x.dbs**2) * x.gmu**2))**.5\n",
    "#def total_xsec_gmu_dbs_to_gb(x, xsec):\n",
    "#    c1, k = compute_c1(tdf.mass), compute_k(tdf.mass)\n",
    "#    return (xsec/(c1*(1 + k * x.dbs**2) ))**.5"
   ]
  },
  {
   "cell_type": "code",
   "execution_count": null,
   "id": "671a64a3",
   "metadata": {},
   "outputs": [],
   "source": [
    "lim_df = pd.read_csv('limits/limit_{}.csv'.format(lera))\n",
    "comb_lim_df = pd.read_csv('limits/limit_201X.csv'.format(lera))\n",
    "comb_lim_df.era='16-18'"
   ]
  },
  {
   "cell_type": "code",
   "execution_count": null,
   "id": "c94ca265",
   "metadata": {},
   "outputs": [],
   "source": [
    "def make_gb_dbs_df(reg, limit_level, lera, lim_df):\n",
    "    selection = lim_df.nJets==reg\n",
    "    tdf = lim_df[selection]\n",
    "    gb = dbs_mass_nevents_reg_to_gb(lim_df,lim_df[limit_level], reg, lumi_dict[lera])\n",
    "    lim_df.loc[selection, \"{}_gb\".format(limit_level)] = gb"
   ]
  },
  {
   "cell_type": "code",
   "execution_count": null,
   "id": "eb9e8c73",
   "metadata": {},
   "outputs": [],
   "source": [
    "# compute gb, dbs for the limits\n",
    "for reg in ['SR1', 'SR2', 'SRX']:\n",
    "    for level in ['16.0', '2.5', '50.0', '84.0', '97.5']:\n",
    "        make_gb_dbs_df(reg, level, lera, lim_df)\n",
    "        make_gb_dbs_df(reg, level, '16-18', comb_lim_df)"
   ]
  },
  {
   "cell_type": "code",
   "execution_count": null,
   "id": "83b30c79",
   "metadata": {},
   "outputs": [],
   "source": [
    "# prepare data frame with correct limits\n",
    "lim_count_mean_df = pd.DataFrame()\n",
    "for reg in ['SR1', 'SR2', 'SRX']:\n",
    "    for mass in np.unique(lim_df.mass):\n",
    "        tdf = lim_df[(lim_df.nJets==reg)&\n",
    "               (lim_df.mass==mass)]\n",
    "        means = tdf[['mass','16.0', '2.5', '50.0', '84.0', '97.5']].mean(axis=0)\n",
    "        means['reg'] = reg\n",
    "        lim_count_mean_df = lim_count_mean_df.append(means,ignore_index=True)"
   ]
  },
  {
   "cell_type": "code",
   "execution_count": null,
   "id": "f07c9468",
   "metadata": {},
   "outputs": [],
   "source": [
    "def make_mass_df(mass):\n",
    "    gmu = mass_to_gmu(mass)\n",
    "    #gb = np.linspace(2e-4, 2e-2, int((2e-2-2e-4)/2e-4+1))\n",
    "    dbs = np.linspace(1e-4, 1., int((1-1e-4)/(1e-4)+1))\n",
    "    df =  pd.DataFrame([{\"mass\": mass, \"gmu\": mass_to_gmu(mass), \"dbs\": d} for d in dbs])\n",
    "    return df"
   ]
  },
  {
   "cell_type": "code",
   "execution_count": null,
   "id": "25f295b7",
   "metadata": {},
   "outputs": [],
   "source": [
    "#sigma[%] = exp[2ln(g_mu) + 1.381] + 0.00038\n",
    "\n",
    "def width_to_gmu(width):\n",
    "    return np.exp((np.log(width-0.00038)-1.381)/2)\n",
    "def curve_of_const_gmu(zmass, gmu):\n",
    "    dbs = np.linspace(1e-4, 1., int((1-1e-4)/(1e-2)+1))\n",
    "    c9 = 1.3*1e-5\n",
    "    #updated c9 value\n",
    "    c9 =  6.5e-6\n",
    "    gb = c9*(zmass/100)**2/(gmu*dbs)\n",
    "    return gb, dbs"
   ]
  },
  {
   "cell_type": "code",
   "execution_count": null,
   "id": "65239011",
   "metadata": {},
   "outputs": [],
   "source": [
    "def make_gb_dbs_plot(ax, reg_df,masses=[125,350,500], duplicate=0, postfix = \"\", single_color=\"blue\"):\n",
    "    for k, (j, row) in enumerate(reg_df.iterrows()):\n",
    "        if row.mass not in masses: continue\n",
    "        dbs_mass_df =  make_mass_df(row.mass)\n",
    "        def gb_from_lim_level(ll):\n",
    "            return dbs_mass_nevents_reg_to_gb(dbs_mass_df,row[ll], row.reg, lumi_dict[lera])\n",
    "        gbs = {ll: gb_from_lim_level(ll) for ll in ['16.0', '2.5', '50.0', '84.0', '97.5']}\n",
    "        \n",
    "        color = color_fader('blue', 'red', mix=float(k)/reg_df.shape[0])\n",
    "        #color = color_fader('blue', 'purple', mix=float(k)/reg_df.shape[0])\n",
    "        if len(masses)==1: \n",
    "            color=single_color\n",
    "        #if duplicate: color = lighten_color(color, amount=.5)\n",
    "        if len(masses)==1:\n",
    "            ax.plot(gbs['50.0'], dbs_mass_df.dbs, label='{} exp. limit'.format(postfix), color=color, zorder=1)\n",
    "        else: \n",
    "            ax.plot(gbs['50.0'], dbs_mass_df.dbs, label='{}{}'.format(int(row.mass), postfix), color=color, zorder=1)\n",
    "        ax.fill_betweenx( dbs_mass_df.dbs,gbs['16.0'], gbs['84.0'], color=color, alpha=.1, zorder=1)\n",
    "        #plot data\n",
    "        def plot_data(dtype, **kwargs):\n",
    "            tldf = lim_df[(lim_df.mass==row.mass) & (lim_df.nJets==reg)]\n",
    "            ftldf = tldf[tldf.sig_type==dtype]\n",
    "            xerror = (ftldf['50.0_gb']-ftldf['16.0_gb'],ftldf['84.0_gb']-ftldf['50.0_gb'])\n",
    "            ax.errorbar(ftldf['50.0_gb'], ftldf.dbs, xerr = xerror, **kwargs, zorder=1)\n",
    "        plot_data('fit', color=color,linestyle='', marker='o')\n",
    "        plot_data('hist', color=color,linestyle='', marker='x')\n",
    "        if reg=='SR1':\n",
    "            ax.set_xlim(0,.025)\n",
    "        else: \n",
    "            ax.set_xlim(0,0.02)\n",
    "        ax.set_ylim(0,1.01)\n",
    "        if not duplicate: \n",
    "            #color=\"green\"\n",
    "            #draw gmu width curve\n",
    "            gb, dbs = curve_of_const_gmu(row.mass, width_to_gmu(1))\n",
    "            ax.plot(gb, dbs, color='black',linestyle='-.', zorder=1, label='width $<$ 1\\%')\n",
    "            #draw BS-BS, neutrino triden\n",
    "            gb = np.linspace(1e-8, 0.25,1000)\n",
    "            bsbsy = BS_BS_y(row.mass, gb)\n",
    "            ty = trident_y(row.mass, gb)\n",
    "            ax.fill_between(gb,bsbsy,bsbsy+999, color='#c2c2c2', label=r'$B_s-\\bar{B_s}$', zorder=0)\n",
    "            ax.fill_between(gb,ty, color='#ffd7ff', label='$\\\\nu$ Trident', zorder=0)\n",
    "    if not duplicate: \n",
    "        ax.set_xlim(0,0.02)\n",
    "        #ax.plot(-10,-10, marker='', linestyle='-.', label='width $<$ 1\\%', color='black')\n",
    "        legend_opts = {\n",
    "            \"facecolor\": 'white',\n",
    "            \"framealpha\": 1,\n",
    "            \"frameon\": True\n",
    "        }\n",
    "        if len(masses)==1:\n",
    "            legend_opts[\"title\"] = \"$m_{{Z'}} = {}$ GeV\".format(masses[0])\n",
    "        legend = ax.legend( **legend_opts)\n",
    "        ax.set_xlabel('$g_b$')\n",
    "        ax.set_ylabel('$\\\\delta_{bs}$')\n",
    "    cms_format_fig(str(lera), ax,  data=True, label=\"Work in Progress\")"
   ]
  },
  {
   "cell_type": "code",
   "execution_count": null,
   "id": "caf65eb7",
   "metadata": {},
   "outputs": [],
   "source": [
    "def draw_other_experiments(ax, mass):\n",
    "    #this draws exclusion curves from other experiments\n",
    "    #draw BS-BS, neutrino triden\n",
    "    gb = np.linspace(1e-8, 0.25,1000)\n",
    "    bsbsy = BS_BS_y(mass, gb)\n",
    "    ty = trident_y(mass, gb)\n",
    "    ax.fill_between(gb,bsbsy,bsbsy+999, color='#c2c2c2', label=r'$B_s-\\bar{B_s}$', zorder=0)\n",
    "    ax.fill_between(gb,ty, color='#ffd7ff', label='$\\\\nu$ Trident', zorder=0)\n",
    "def draw_gmu_curve(ax, mass):\n",
    "    #draw gmu width curve\n",
    "    gb, dbs = curve_of_const_gmu(mass, width_to_gmu(1))\n",
    "    ax.plot(gb, dbs, color='black',linestyle='-.', zorder=1, label='width $<$ 1\\%')\n",
    "def format_gb_gmu_plot(ax, mass=\"\"):\n",
    "    ax.set_ylim(0,1.01)\n",
    "    ax.set_xlim(0,0.02)\n",
    "    legend_opts = {\n",
    "            \"facecolor\": 'white',\n",
    "            \"framealpha\": 1,\n",
    "            \"frameon\": True\n",
    "        }\n",
    "    if mass!=\"\": legend_opts[\"title\"] = \"$m_{{Z'}} = {}$ GeV\".format(mass)\n",
    "    legend = ax.legend( **legend_opts)\n",
    "    ax.set_xlabel('$g_b$')\n",
    "    ax.set_ylabel('$\\\\delta_{bs}$')\n",
    "    cms_format_fig(str(lera), ax,  data=True, label=\"Work in Progress\")"
   ]
  },
  {
   "cell_type": "code",
   "execution_count": null,
   "id": "5283850a",
   "metadata": {},
   "outputs": [],
   "source": [
    "def make_single_curve(ax, row, lim_df, lera, duplicate=0, postfix = \"\", color=\"blue\"):\n",
    "    mass = row.mass\n",
    "    dbs_mass_df =  make_mass_df(mass)\n",
    "    def gb_from_lim_level(ll):\n",
    "        return dbs_mass_nevents_reg_to_gb(dbs_mass_df,row[ll], row.reg, lumi_dict[lera])\n",
    "    gbs = {ll: gb_from_lim_level(ll) for ll in ['16.0', '2.5', '50.0', '84.0', '97.5']}\n",
    "    ax.plot(gbs['50.0'], dbs_mass_df.dbs, label='{} exp. limit'.format(postfix), color=color, zorder=1)\n",
    "    ax.fill_betweenx( dbs_mass_df.dbs,gbs['16.0'], gbs['84.0'], color=color, alpha=.1, zorder=1)\n",
    "    #def plot data\n",
    "    def plot_data(dtype, **kwargs):\n",
    "            tldf = lim_df[(lim_df.mass==row.mass) & (lim_df.nJets==reg)]\n",
    "            ftldf = tldf[tldf.sig_type==dtype]\n",
    "            xerror = (ftldf['50.0_gb']-ftldf['16.0_gb'],ftldf['84.0_gb']-ftldf['50.0_gb'])\n",
    "            ax.errorbar(ftldf['50.0_gb'], ftldf.dbs, xerr = xerror, **kwargs, zorder=1)\n",
    "    plot_data('fit', color=color,linestyle='', marker='o')"
   ]
  },
  {
   "cell_type": "code",
   "execution_count": null,
   "id": "725415a8",
   "metadata": {},
   "outputs": [],
   "source": [
    "lim_count_mean_df.loc[lim_count_mean_df.mass==201, \"mass\"] = 200\n",
    "dbs_mass_df.loc[dbs_mass_df.mass==201, \"mass\"] = 200\n",
    "lim_df.loc[lim_df.mass==201, \"mass\"] = 200\n",
    "comb_lim_df.loc[comb_lim_df.mass==201, \"mass\"] = 200\n",
    "comb_lim_df = comb_lim_df.dropna()\n",
    "comb_lim_df['reg'] = comb_lim_df.nJets"
   ]
  },
  {
   "cell_type": "code",
   "execution_count": null,
   "id": "cba4cabe",
   "metadata": {},
   "outputs": [],
   "source": [
    "fig, ax = plt.subplots(1,1, figsize=[10,10], frameon=True)\n",
    "mass = 200\n",
    "draw_other_experiments(ax, mass)\n",
    "draw_gmu_curve(ax, mass)\n",
    "for i, (reg) in enumerate(['SR1', 'SR2', 'SRX']):\n",
    "    reg_df = lim_count_mean_df[lim_count_mean_df.reg==reg]\n",
    "    tdf = reg_df[reg_df.mass==mass].dropna()\n",
    "    row = tdf.iloc[-1]\n",
    "    if reg=='SR1':\n",
    "        make_single_curve(ax, row, lim_df, lera, duplicate=1, postfix=\" {}\".format(reg), color=\"blue\")\n",
    "    elif reg=='SR2': \n",
    "        make_single_curve(ax, row, lim_df, lera, duplicate=1, postfix=\" {}\".format(reg), color=\"red\")\n",
    "    elif reg=='SRX': \n",
    "        make_single_curve(ax, row, lim_df, lera, duplicate=1, postfix=\" {}\".format(\"Comb.\"), color=\"green\")\n",
    "#combine all years\n",
    "tdf = comb_lim_df[comb_lim_df.mass==mass]\n",
    "row = tdf.iloc[-1]\n",
    "make_single_curve(ax, row, comb_lim_df, '16-18', duplicate=1, postfix=\" {}\".format(\"Comb. 16, 17\"), color=\"purple\")\n",
    "format_gb_gmu_plot(ax, mass=mass)        \n",
    "fig.savefig('fits/limit_setting/gb_dbs_lim_200_{}.pdf'.format(lera))  "
   ]
  },
  {
   "cell_type": "code",
   "execution_count": null,
   "id": "271915c0",
   "metadata": {},
   "outputs": [],
   "source": []
  },
  {
   "cell_type": "code",
   "execution_count": null,
   "id": "f2dfcb5d",
   "metadata": {},
   "outputs": [],
   "source": []
  },
  {
   "cell_type": "code",
   "execution_count": null,
   "id": "b38d6714",
   "metadata": {},
   "outputs": [],
   "source": []
  }
 ],
 "metadata": {
  "kernelspec": {
   "display_name": "bff_12_1",
   "language": "python",
   "name": "bff_12_1"
  },
  "language_info": {
   "codemirror_mode": {
    "name": "ipython",
    "version": 3
   },
   "file_extension": ".py",
   "mimetype": "text/x-python",
   "name": "python",
   "nbconvert_exporter": "python",
   "pygments_lexer": "ipython3",
   "version": "3.9.6"
  }
 },
 "nbformat": 4,
 "nbformat_minor": 5
}
