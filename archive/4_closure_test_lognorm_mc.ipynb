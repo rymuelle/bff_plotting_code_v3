{
 "cells": [
  {
   "cell_type": "code",
   "execution_count": 1,
   "id": "1d6d00e9",
   "metadata": {},
   "outputs": [],
   "source": [
    "import pandas as pd\n",
    "import numpy as np\n",
    "import matplotlib.pyplot as plt\n",
    "import pickle\n",
    "from src.data_tools.get_data import get_data"
   ]
  },
  {
   "cell_type": "code",
   "execution_count": 2,
   "id": "e271a5ef",
   "metadata": {},
   "outputs": [
    {
     "data": {
      "text/html": [
       "<style>.container { width:100% !important; }</style>"
      ],
      "text/plain": [
       "<IPython.core.display.HTML object>"
      ]
     },
     "metadata": {},
     "output_type": "display_data"
    }
   ],
   "source": [
    "from IPython.display import display, HTML\n",
    "display(HTML(\"<style>.container { width:100% !important; }</style>\"))"
   ]
  },
  {
   "cell_type": "code",
   "execution_count": 3,
   "id": "9a433950",
   "metadata": {},
   "outputs": [],
   "source": [
    "%load_ext autoreload\n",
    "%autoreload 2"
   ]
  },
  {
   "cell_type": "code",
   "execution_count": 4,
   "id": "30fa8a3c",
   "metadata": {},
   "outputs": [],
   "source": [
    "from src.plotting_tools.draw_stack_plot_hists import draw_bckground, draw_signals, draw_data, draw_stackplot\n",
    "from src.plotting_tools.SysHist import SysHist, rebin_np\n",
    "from src.plotting_tools.Bins import Bins, bins\n",
    "from src.plotting_tools.utils import ratio_plot_template"
   ]
  },
  {
   "cell_type": "code",
   "execution_count": 5,
   "id": "ec68f1b2",
   "metadata": {},
   "outputs": [],
   "source": [
    "split_bins = bins"
   ]
  },
  {
   "cell_type": "code",
   "execution_count": 6,
   "id": "1ed905cd",
   "metadata": {},
   "outputs": [],
   "source": [
    "from src.general.array_utils import moving_average, moving_sum, super_sample, super_sample_function, moving_avg_func, unp_array_to_nom_std\n",
    "from src.plotting_tools.cms_format import cms_style, cms_format_fig"
   ]
  },
  {
   "cell_type": "code",
   "execution_count": 7,
   "id": "a1c434fd",
   "metadata": {},
   "outputs": [],
   "source": [
    "cms_style()"
   ]
  },
  {
   "cell_type": "code",
   "execution_count": 8,
   "id": "175a6aa7",
   "metadata": {},
   "outputs": [],
   "source": [
    "output_dir = 'assets_feb_23'\n",
    "outdir = '{}/abcd'.format(output_dir)"
   ]
  },
  {
   "cell_type": "code",
   "execution_count": 9,
   "id": "6aea5195",
   "metadata": {},
   "outputs": [],
   "source": [
    "era = '2016'\n",
    "#mdf, lumi = get_data(era, output_dir, df_filter=lambda x: x.type.str.contains('bck'), stitch_dy=1)"
   ]
  },
  {
   "cell_type": "code",
   "execution_count": 10,
   "id": "67e3a66b",
   "metadata": {},
   "outputs": [],
   "source": [
    "plot_df = pd.read_pickle('{}/data/combined_{}_flat_hist.pkl'.format(output_dir, era))"
   ]
  },
  {
   "cell_type": "code",
   "execution_count": 31,
   "id": "2290acd4",
   "metadata": {},
   "outputs": [],
   "source": [
    "hist = SysHist.from_dict(plot_df.iloc[20].to_dict())"
   ]
  },
  {
   "cell_type": "code",
   "execution_count": 200,
   "id": "b2328dd1",
   "metadata": {},
   "outputs": [],
   "source": [
    "from src.plotting_tools.colors import color_fader\n",
    "from src.assets.file_groups import bck_dict, bck_list, bck_colors\n",
    "import numpy as np\n",
    "\n",
    "def is_equal(x,y):\n",
    "    if type(x)!=type(y): return False\n",
    "    return x==y\n",
    "\n",
    "class stack_plotter():\n",
    "    def __init__(self, plot_df, era, rebin=0, x_range=(-np.inf, np.inf)):\n",
    "        self.plot_df = plot_df\n",
    "        self.era = era\n",
    "        self.rebin = rebin\n",
    "        self.x_range = x_range\n",
    "    def make_hist(self, row):\n",
    "        sh = SysHist.from_dict(row)\n",
    "        if not is_equal(self.rebin, 0): sh = sh.rebin(self.rebin)\n",
    "        sh = sh.reduce_range(bottom=self.x_range[0], top=self.x_range[1])\n",
    "        # ST isr fsr issue\n",
    "        if row.sample_name in ['mc_santitop','mc_stop']:\n",
    "            sh.sys['Weight_ISRFSR_Up'] = [sh.sys['Weight_ISRFSR_Up'][0]*0, sh.sys['Weight_ISRFSR_Up'][0]*0]\n",
    "        if sh.sys != {}: sh.sys_from_sys_dict()\n",
    "        return sh \n",
    "    \n",
    "    def feature_reg_df(self, feature, reg):\n",
    "        return self.plot_df[(self.plot_df.reg==reg) & (self.plot_df.feature==feature) & (self.plot_df.era==int(self.era))]\n",
    "    def bck_df(self, feature, reg):\n",
    "        tdf = self.feature_reg_df(feature, reg)\n",
    "        return tdf[tdf.type==\"bck\"]\n",
    "    def combine_hists(self, df):\n",
    "        nhists = 0\n",
    "        for i, row in df.iterrows():\n",
    "            if not nhists:\n",
    "                chist = self.make_hist(row)\n",
    "            else: chist += self.make_hist(row)\n",
    "            nhists += 1\n",
    "        return chist\n",
    "    def combine_back(self, feature, reg):\n",
    "        bdf = self.bck_df(feature, reg)\n",
    "        return self.combine_hists(bdf)     \n",
    "    def draw_background(self, ax, feature, reg, ratio = -1, draw_sys=1,  error_scale=1, make_density=1, scale = 1, **kwargs):\n",
    "        bdf = self.bck_df(feature, reg)\n",
    "        hist_dict = {}\n",
    "        nhists = 0\n",
    "        _nominal_values = []\n",
    "        for cat in bck_dict:\n",
    "            _name_list = bck_dict[cat]\n",
    "            _name_tdf = bdf[bdf.sample_name.isin(_name_list)]\n",
    "            _chist = self.combine_hists(_name_tdf)\n",
    "            if make_density: _chist = _chist.make_density_hist()\n",
    "            _nominal_values.append(_chist.nominal) \n",
    "        ax.stackplot(_chist.calc_bin_centers(), _nominal_values,\n",
    "                     labels=[x for x in bck_dict], alpha=1, step='mid', colors=bck_colors)\n",
    "        bhist = self.combine_back(feature, reg)\n",
    "        if make_density: bhist = bhist.make_density_hist()\n",
    "        bhist.draw(ax, color='gray', alpha=.5, draw_sys=draw_sys, error_scale=error_scale)\n",
    "        return bhist\n",
    "    def draw_signals(self, ax, feature, reg,\n",
    "                     dbs_values = [0.04], mass_values = [125., 150., 175., 200., 250, 300, 350.],\n",
    "                    c1='#ff2f00', c2='#0486ff',\n",
    "                    ratio=-1,  draw_sys=1, make_density=1, **kwargs):\n",
    "        nmass = len(mass_values)\n",
    "        colors = [color_fader(c1,c2,mix=(i+.0)/nmass) for i in range(nmass)]\n",
    "        \n",
    "        tdf = self.feature_reg_df(feature, reg)\n",
    "        sdf =  tdf[tdf.type=='sig']\n",
    "        for dbs in dbs_values:\n",
    "            for color, mass in zip(colors, mass_values): \n",
    "                _sdf = sdf[(sdf.mass==mass) & (sdf.dbs==dbs)]\n",
    "                _shist = self.make_hist(_sdf.iloc[0])\n",
    "                if make_density: _shist = _shist.make_density_hist()\n",
    "                _shist.draw(ax, color=color, label='{} GeV'.format(int(mass)), draw_sys=draw_sys)\n",
    "    def draw_data(self, ax, feature, reg, return_hist=0, make_density=1, **kwargs):\n",
    "        mu_regions = ['SR1', 'SR2', 'CR10', 'CR20']\n",
    "        tdf = self.feature_reg_df(feature, reg)\n",
    "        data_string = '_ele.csv'\n",
    "        if reg in mu_regions: data_string = '_mu.csv'\n",
    "        ddf = tdf[(tdf.type=='data') & (tdf.file.str.contains(data_string))]\n",
    "        _dhist = self.combine_hists(ddf)\n",
    "        if make_density: _dhist = _dhist.make_density_hist()\n",
    "        ax.errorbar(_dhist.calc_bin_centers(), _dhist.nominal, yerr=_dhist.std, color='black', label='data',\n",
    "           ls='', marker='o')\n",
    "        if return_hist: return _dhist\n",
    "        return _dhist.nominal.sum()"
   ]
  },
  {
   "cell_type": "code",
   "execution_count": 202,
   "id": "44954166",
   "metadata": {
    "scrolled": false
   },
   "outputs": [
    {
     "data": {
      "image/png": "[encoded data removed]",
      "text/plain": [
       "<Figure size 720x720 with 1 Axes>"
      ]
     },
     "metadata": {
      "needs_background": "light"
     },
     "output_type": "display_data"
    }
   ],
   "source": [
    "sp = stack_plotter(plot_df, era, rebin=split_bins.bin_edges, x_range=[100,500])\n",
    "fig, ax = plt.subplots(1)\n",
    "sp.draw_background(ax, 'DiLepMass', 'CR10', make_density=1)\n",
    "sp.draw_signals(ax, 'DiLepMass', 'CR10', make_density=1)\n",
    "sp.draw_data(ax, 'DiLepMass', 'CR10', make_density=1)\n",
    "ax.legend()\n",
    "ax.set_yscale('log')"
   ]
  },
  {
   "cell_type": "code",
   "execution_count": null,
   "id": "3b5fac32",
   "metadata": {},
   "outputs": [],
   "source": []
  },
  {
   "cell_type": "code",
   "execution_count": null,
   "id": "d88301f9",
   "metadata": {},
   "outputs": [],
   "source": []
  },
  {
   "cell_type": "code",
   "execution_count": 15,
   "id": "a373ff94",
   "metadata": {},
   "outputs": [],
   "source": [
    "#sel = mdf.name.str.contains('DYJetsToLL')\n",
    "#mdf.loc[sel, 'Weight_PDF_ISRFSR_Up'] = mdf.loc[sel, 'Weight']*1.16\n",
    "#mdf.loc[sel, 'Weight_PDF_ISRFSR_Down'] = mdf.loc[sel, 'Weight']*(1-.16)"
   ]
  },
  {
   "cell_type": "code",
   "execution_count": 16,
   "id": "864b62e6",
   "metadata": {},
   "outputs": [
    {
     "ename": "NameError",
     "evalue": "name 'mdf' is not defined",
     "output_type": "error",
     "traceback": [
      "\u001b[0;31m---------------------------------------------------------------------------\u001b[0m",
      "\u001b[0;31mNameError\u001b[0m                                 Traceback (most recent call last)",
      "\u001b[0;32m/tmp/rymuelle/ipykernel_23657/2295408086.py\u001b[0m in \u001b[0;36m<module>\u001b[0;34m\u001b[0m\n\u001b[0;32m----> 1\u001b[0;31m \u001b[0mmdf\u001b[0m\u001b[0;34m.\u001b[0m\u001b[0mtype\u001b[0m\u001b[0;34m.\u001b[0m\u001b[0munique\u001b[0m\u001b[0;34m(\u001b[0m\u001b[0;34m)\u001b[0m\u001b[0;34m\u001b[0m\u001b[0;34m\u001b[0m\u001b[0m\n\u001b[0m",
      "\u001b[0;31mNameError\u001b[0m: name 'mdf' is not defined"
     ]
    }
   ],
   "source": [
    "mdf.type.unique()"
   ]
  },
  {
   "cell_type": "code",
   "execution_count": null,
   "id": "93e222cc",
   "metadata": {},
   "outputs": [],
   "source": [
    "bins_red = Bins(np.linspace(105,900, int((900-105)/5+1)))\n",
    "bins_red = Bins(np.linspace(105,900, 300))\n",
    "\n",
    "bins_red"
   ]
  },
  {
   "cell_type": "code",
   "execution_count": null,
   "id": "bb93958e",
   "metadata": {
    "scrolled": true
   },
   "outputs": [],
   "source": [
    "mc_hists = {}\n",
    "for reg in ['CR14','CR24', 'CR10','CR20', 'CR13', 'CR23']:\n",
    "    fig, ax = plt.subplots(1)\n",
    "    mc_hists[reg] = draw_data(ax, mdf, 'DiLepMass', reg, era, bin_edges=bins_red.bin_edges, return_hist=1, make_density=0)\n",
    "    ax.set_yscale('log')"
   ]
  },
  {
   "cell_type": "code",
   "execution_count": null,
   "id": "be94ae7c",
   "metadata": {
    "scrolled": true
   },
   "outputs": [],
   "source": [
    "mc_hists_other_binning = {}\n",
    "for reg in ['CR14','CR24', 'CR10','CR20', 'CR13', 'CR23']:\n",
    "    fig, ax = plt.subplots(1)\n",
    "    mc_hists_other_binning[reg] = draw_data(ax, mdf, 'DiLepMass', reg, era, bin_edges=bins.bin_edges, return_hist=1)\n",
    "    ax.set_yscale('log')"
   ]
  },
  {
   "cell_type": "code",
   "execution_count": null,
   "id": "b10fb7bd",
   "metadata": {},
   "outputs": [],
   "source": [
    "def open_and_convert_plotting_dict(fn):\n",
    "    with open(fn, 'rb') as f:\n",
    "        plot_dict= pickle.load(f)\n",
    "        \n",
    "    for reg in plot_dict:\n",
    "        if 'hist' in plot_dict[reg]:\n",
    "            plot_dict[reg]['hist'] = SysHist.from_dict(plot_dict[reg]['hist'])\n",
    "        plot_dict[reg]['fit'] = SysHist.from_dict(plot_dict[reg]['fit'])\n",
    "    return plot_dict"
   ]
  },
  {
   "cell_type": "code",
   "execution_count": null,
   "id": "ceb3fd9a",
   "metadata": {
    "scrolled": false
   },
   "outputs": [],
   "source": [
    "def compare_hists(hist1, hist2, ismc = False, n=10, ndof=0, log=1, color='red', label1=\"\", label2=\"\", isdata=0, **kwargs):\n",
    "    fig, ax, rax = ratio_plot_template(figsize=(10,10))\n",
    "    hist1.draw(ax, label=label1, zorder=3)\n",
    "    if isdata:\n",
    "        ax.errorbar(hist2.calc_bin_centers(), hist2.nominal, yerr=hist2.std, color='black', label=label2,\n",
    "           ls='', marker='o', zorder=1)\n",
    "    else:\n",
    "        hist2.draw(ax, label=label2, color=color)\n",
    "    \n",
    "    x = hist1.calc_bin_centers()\n",
    "\n",
    "    rax.plot(x, np.full(len(x), 1) , color='black', linestyle=':')\n",
    "    rax.plot(x, np.full(len(x), 0) , color='black')\n",
    "    rax.plot(x, np.full(len(x), -1) , color='black', linestyle=':')\n",
    "    \n",
    "    cms_format_fig(era, ax)\n",
    "    if log:\n",
    "        ax.set_yscale('Log')\n",
    "    ax.set_ylabel('Counts per GeV')\n",
    "    rax.set_xlabel('DiLepMass [GeV]')\n",
    "    rax.set_ylim(-5,5)\n",
    "    rax.set_ylabel('Pull')\n",
    "    \n",
    "    nom1_avg = moving_sum(hist1.nominal, n = n)\n",
    "    nom2_avg = moving_sum(hist2.nominal, n = n)\n",
    "    var1_avg = moving_sum(hist1.std**2, n = n)\n",
    "    var2_avg = moving_sum(hist2.std**2, n = n)\n",
    "    x_avg = moving_average(x, n=n)\n",
    "    if ismc:\n",
    "        pull = (nom1_avg-nom2_avg)/(var2_avg+var1_avg)**.5\n",
    "    else:\n",
    "        pull = (nom1_avg-nom2_avg)/nom1_avg**.5\n",
    "    pullsquare = pull**2\n",
    "    \n",
    "    rax.plot(x_avg, pull)\n",
    "    \n",
    "    return  {'chi2': (pullsquare).sum()/(hist1.calc_nBins()-ndof),\n",
    "             'fig': fig,\n",
    "             'ax': ax,\n",
    "             'rax': rax}\n",
    "    "
   ]
  },
  {
   "cell_type": "code",
   "execution_count": null,
   "id": "dc7d6151",
   "metadata": {},
   "outputs": [],
   "source": [
    "from scipy.optimize import curve_fit\n",
    "from src.general.functions import power_func, power_law, make_bpoly, linear, parabola, make_bpoly_exp"
   ]
  },
  {
   "cell_type": "code",
   "execution_count": null,
   "id": "a288a94b",
   "metadata": {},
   "outputs": [],
   "source": [
    "from scipy.optimize import curve_fit\n",
    "from src.general.functions import make_bpoly, lognorm, log_norm_np, log_norm_unp\n",
    "from src.plotting_tools.SysHist import SysHist"
   ]
  },
  {
   "cell_type": "code",
   "execution_count": null,
   "id": "b287fa04",
   "metadata": {},
   "outputs": [],
   "source": [
    "import uncertainties\n",
    "import uncertainties.unumpy as unp"
   ]
  },
  {
   "cell_type": "code",
   "execution_count": null,
   "id": "24d8b1b4",
   "metadata": {},
   "outputs": [],
   "source": [
    "def fit_hist(func, hist, n=10, comp_hist_n =10, do_super_sample=1, ismc=False,  do_unc=1, color='red', label1=\"\", label2=\"\", isdata=0, **kwargs):\n",
    "    x = np.array(hist.calc_bin_centers())\n",
    "    popt, pcov = curve_fit(func, x, hist.nominal, \n",
    "                       **kwargs,\n",
    "                       sigma=hist.std, maxfev = int(1e6))  \n",
    "\n",
    "    if do_unc:\n",
    "        #create fit values with uncertainties\n",
    "        popt_unc = uncertainties.correlated_values(popt, pcov)\n",
    "        #make_fit_hist\n",
    "        y = log_norm_unp(x, *popt_unc)\n",
    "        y_nom, y_std = unp_array_to_nom_std(y)\n",
    "    else: \n",
    "        y_nom = func(x, *popt)\n",
    "        varper = ((hist.nominal-y_nom)**2/y_nom).mean()\n",
    "        y_std = (varper*y_nom)**.5\n",
    "        y_std = y_nom**.5\n",
    "    fit_hist = SysHist(\n",
    "            y_nom,\n",
    "            x*0, x*0, \n",
    "            y_std,\n",
    "            np.array(hist.bin_edges)\n",
    "        ).normalize().calc_ratio(1/hist.calc_sum())\n",
    "    \n",
    "    #bins from analysis\n",
    "    x_other = np.array(bins_other_binning.calc_bin_centers())\n",
    "    y_nom = func(x_other, *popt)\n",
    "    y_std = y_nom*.1   \n",
    "    if do_unc:\n",
    "        popt_unc = uncertainties.correlated_values(popt, pcov)\n",
    "        y = log_norm_unp(x_other, *popt_unc)\n",
    "        _, y_std = unp_array_to_nom_std(y)\n",
    "    fit_hist_other_binning = SysHist(\n",
    "            y_nom,\n",
    "            x_other*0, x_other*0, \n",
    "            y_std,\n",
    "            np.array(bins_other_binning.bin_edges)\n",
    "        ).reduce_range(bottom=bottom_value, top=1000).inverse_make_density_hist().normalize().calc_ratio(1/hist.calc_sum())\n",
    "    \n",
    "        #)#.reduce_range(bottom=bottom_value, top=top_value).inverse_make_density_hist().normalize().calc_ratio(1/hist.calc_sum())\n",
    "\n",
    "    compare_dict = compare_hists(fit_hist, hist, ismc=ismc, n=comp_hist_n, color = color, ndof=5, label1=label1, label2=label2, isdata=isdata)\n",
    "    return {**compare_dict, \n",
    "            \"popt\" : popt,\n",
    "            \"fit_hist\": fit_hist,\n",
    "            \"fit_hist_other_binning\": fit_hist_other_binning\n",
    "           }"
   ]
  },
  {
   "cell_type": "code",
   "execution_count": null,
   "id": "8f5d3110",
   "metadata": {},
   "outputs": [],
   "source": [
    "bottom_value = 120\n",
    "top_value=400"
   ]
  },
  {
   "cell_type": "code",
   "execution_count": null,
   "id": "fb1704a5",
   "metadata": {
    "scrolled": false
   },
   "outputs": [],
   "source": [
    "comp_hist_n = 1\n",
    "fit_dict = {}\n",
    "ismc=1\n",
    "for reg in ['CR14','CR24', 'CR10','CR20', 'CR13', 'CR23']:\n",
    "    _plot_dict = mc_hists[reg]\n",
    "\n",
    "    hist = mc_hists[reg].reduce_range(bottom=bottom_value, top=top_value)\n",
    "    hist.up *=0\n",
    "    hist.down *=0\n",
    "\n",
    "    total_events = hist.nominal.sum()\n",
    "    curve_fit_chi2 = fit_hist(log_norm_np, hist, comp_hist_n=comp_hist_n, do_super_sample=0, \n",
    "                              ismc=True, p0=[total_events*10, .8, 80, 70], \n",
    "                              bounds = ([0, .2, 50, 50], [total_events*100, 1, 100, 100]),\n",
    "                              do_unc=1, label1='fit', label2='MC', isdata=0,\n",
    "                             )\n",
    "    \n",
    "    \n",
    "    draw_bckground(curve_fit_chi2['ax'], mdf, 'DiLepMass', reg, era, bin_edges=hist.bin_edges, make_density=0)\n",
    "    fit_dict[reg] = curve_fit_chi2\n",
    "    print(reg, curve_fit_chi2['chi2'],  repr(curve_fit_chi2['popt']))\n",
    "    curve_fit_chi2['ax'].legend(ncol=2)\n",
    "    curve_fit_chi2['fig'].savefig('{}/mc_fit_era{}_ismc{}_reg{}_bottom{}_lognorm.pdf'.format(outdir,era,ismc,reg,bottom_value))\n",
    "    #curve_fit_chi2['fig'].savefig('fits/curve_fit_closure_test_22/mc_fit_era{}_ismc{}_reg{}_bottom{}_lognorm.pdf'.format(era,ismc,reg,bottom_value))"
   ]
  },
  {
   "cell_type": "code",
   "execution_count": null,
   "id": "dc6c36c0",
   "metadata": {
    "scrolled": true
   },
   "outputs": [],
   "source": [
    "real_mc_hists_other_binning = {}\n",
    "for reg in ['SR1', 'SR2']:\n",
    "    fig, ax = plt.subplots(1)\n",
    "    real_mc_hists_other_binning[reg] = draw_bckground(ax, mdf, 'DiLepMass', reg, era, bin_edges=bins.bin_edges, make_density=0)\n",
    "    ax.set_yscale('log')"
   ]
  },
  {
   "cell_type": "code",
   "execution_count": null,
   "id": "0f150876",
   "metadata": {
    "scrolled": false
   },
   "outputs": [],
   "source": [
    "for nJets in [1,2]:\n",
    "    reg = 'SR{}'.format(nJets)\n",
    "    A = fit_dict['CR{}0'.format(nJets)]['fit_hist_other_binning'].reduce_range(bottom=bottom_value, top=1000)\n",
    "    B = fit_dict['CR{}3'.format(nJets)]['fit_hist_other_binning'].reduce_range(bottom=bottom_value, top=1000)\n",
    "    C = fit_dict['CR{}4'.format(nJets)]['fit_hist_other_binning'].reduce_range(bottom=bottom_value, top=1000)\n",
    "    print(A.calc_sum(), B.calc_sum(), C.calc_sum(), ( A.uncertainty_std_dev()*B.uncertainty_std_dev()/C.uncertainty_std_dev()).sum() )\n",
    "    abcd = A.uncertainty_std_dev()*B.uncertainty_std_dev()/C.uncertainty_std_dev()\n",
    "    abcd_nom, abcd_std = unp_array_to_nom_std(abcd)\n",
    "    #abcd_std = abcd_nom**.5\n",
    "    \n",
    "    hist =  real_mc_hists_other_binning['SR{}'.format(nJets)].reduce_range(bottom=bottom_value, top=1000).make_density_hist()\n",
    "    hist.up *=0\n",
    "    hist.down *=0\n",
    "    \n",
    "    #abcd_hist = SysHist(abcd_nom, abcd_nom*0,abcd_nom*0,abcd_std, hist.bin_edges)#.reduce_range(bottom=bottom_value, top=top_value).make_density_hist()\n",
    "    abcd_hist = SysHist(abcd_nom, abcd_nom*0,abcd_nom*0,abcd_std, hist.bin_edges).make_density_hist()\n",
    "    print(hist.inverse_make_density_hist().calc_sum(), abcd_hist.inverse_make_density_hist().calc_sum())\n",
    "    #reduce the range to the area used for chi2\n",
    "    compare_hist_dict = compare_hists(abcd_hist.reduce_range(bottom=bottom_value, top=top_value), \n",
    "                                      hist.reduce_range(bottom=bottom_value, top=top_value), \n",
    "                                      ismc=True, n=1, log=True, color='black', label1='ABCD pred.', label2='MC',  isdata=0)\n",
    "    \n",
    "    #draw stack plot background\n",
    "    draw_bckground(compare_hist_dict['ax'], mdf, 'DiLepMass', reg, era, \n",
    "                   bin_edges=abcd_hist.reduce_range(bottom=bottom_value, top=top_value).bin_edges, make_density=1)\n",
    "    \n",
    "    compare_hist_dict['ax'].legend(ncol=2)\n",
    "    \n",
    "    #compare_hist_dict['fig'].savefig('fits/curve_fit_closure_test_22/abcd_era{}_ismc{}_regSR{}_bottom{}_lognorm_splt_binning.pdf'.format(era,ismc,nJets,bottom_value))\n",
    "    compare_hist_dict['fig'].savefig('{}/mc_abcd_era{}_ismc{}_regSR{}_bottom{}_lognorm_splt_binning.pdf'.format(outdir,era,ismc,nJets,bottom_value))\n",
    "    compare_hist_dict['fig'].show()\n",
    "    \n",
    "    compare_hist_dict['ax'].set_xlim(120,200)\n",
    "    compare_hist_dict['rax'].set_xlim(120,200)\n",
    "    compare_hist_dict['ax'].set_ylim(bottom=0.001, top=150)\n",
    "    compare_hist_dict['ax'].set_yscale('linear')\n",
    "    compare_hist_dict['fig'].savefig('{}/mc_abcd_era{}_ismc{}_regSR{}_bottom{}_lognorm_splt_binning_200GeV_max.pdf'.format(outdir,era,ismc,nJets,bottom_value))\n",
    "\n",
    "    fit_dict['SR{}'.format(nJets)]= compare_hist_dict\n",
    "    fit_dict['SR{}'.format(nJets)]['fit_hist'] = abcd_hist\n",
    "    "
   ]
  },
  {
   "cell_type": "code",
   "execution_count": null,
   "id": "5e3670d6",
   "metadata": {},
   "outputs": [],
   "source": [
    "for nJets in [1,2]:\n",
    "    reg = 'SR{}'.format(nJets)\n",
    "    A = fit_dict['CR{}0'.format(nJets)]['fit_hist_other_binning'].reduce_range(bottom=bottom_value, top=1000)\n",
    "    B = fit_dict['CR{}3'.format(nJets)]['fit_hist_other_binning'].reduce_range(bottom=bottom_value, top=1000)\n",
    "    C = fit_dict['CR{}4'.format(nJets)]['fit_hist_other_binning'].reduce_range(bottom=bottom_value, top=1000)\n",
    "    print(A.calc_sum(), B.calc_sum(), C.calc_sum(), ( A.uncertainty_std_dev()*B.uncertainty_std_dev()/C.uncertainty_std_dev()).sum() )\n",
    "    abcd = A.uncertainty_std_dev()*B.uncertainty_std_dev()/C.uncertainty_std_dev()\n",
    "    abcd_nom, abcd_std = unp_array_to_nom_std(abcd)\n",
    "    #abcd_std = abcd_nom**.5\n",
    "    \n",
    "    hist =  real_mc_hists_other_binning['SR{}'.format(nJets)].reduce_range(bottom=bottom_value, top=1000).make_density_hist()\n",
    "    hist.up *=0\n",
    "    hist.down *=0\n",
    "    \n",
    "    #abcd_hist = SysHist(abcd_nom, abcd_nom*0,abcd_nom*0,abcd_std, hist.bin_edges)#.reduce_range(bottom=bottom_value, top=top_value).make_density_hist()\n",
    "    abcd_hist = SysHist(abcd_nom, abcd_nom*0,abcd_nom*0,abcd_std, hist.bin_edges).make_density_hist()\n",
    "    print(hist.inverse_make_density_hist().calc_sum(), abcd_hist.inverse_make_density_hist().calc_sum())\n",
    "    #reduce the range to the area used for chi2\n",
    "    compare_hist_dict = compare_hists(abcd_hist.reduce_range(bottom=bottom_value, top=top_value), \n",
    "                                      hist.reduce_range(bottom=bottom_value, top=top_value), \n",
    "                                      ismc=True, n=1, log=True, color='black', label1='ABCD pred.', label2='MC',  isdata=0)\n",
    "    \n",
    "    #draw stack plot background\n",
    "    draw_bckground(compare_hist_dict['ax'], mdf, 'DiLepMass', reg, era, \n",
    "                   bin_edges=abcd_hist.reduce_range(bottom=bottom_value, top=top_value).bin_edges, make_density=1)\n",
    "    \n",
    "    compare_hist_dict['ax'].legend(ncol=2)\n",
    "    \n",
    "    #compare_hist_dict['fig'].savefig('fits/curve_fit_closure_test_22/abcd_era{}_ismc{}_regSR{}_bottom{}_lognorm_splt_binning.pdf'.format(era,ismc,nJets,bottom_value))\n",
    "    compare_hist_dict['fig'].savefig('{}/mc_abcd_era{}_ismc{}_regSR{}_bottom{}_lognorm_splt_binning.pdf'.format(outdir,era,ismc,nJets,bottom_value))\n",
    "    compare_hist_dict['fig'].show()\n",
    "    \n",
    "    compare_hist_dict['ax'].set_xlim(120,200)\n",
    "    compare_hist_dict['rax'].set_xlim(120,200)\n",
    "    compare_hist_dict['ax'].set_ylim(bottom=0.001, top=150)\n",
    "    compare_hist_dict['ax'].set_yscale('linear')\n",
    "    compare_hist_dict['fig'].savefig('{}/mc_abcd_era{}_ismc{}_regSR{}_bottom{}_lognorm_splt_binning_200GeV_max.pdf'.format(outdir,era,ismc,nJets,bottom_value))\n",
    "\n",
    "    fit_dict['SR{}'.format(nJets)]= compare_hist_dict\n",
    "    fit_dict['SR{}'.format(nJets)]['fit_hist'] = abcd_hist\n",
    "    "
   ]
  },
  {
   "cell_type": "code",
   "execution_count": null,
   "id": "613b3e04",
   "metadata": {},
   "outputs": [],
   "source": [
    "{reg: item['chi2'] for reg, item in fit_dict.items()}"
   ]
  },
  {
   "cell_type": "code",
   "execution_count": null,
   "id": "be752fdf",
   "metadata": {},
   "outputs": [],
   "source": [
    "fit_list = []\n",
    "for reg, item in fit_dict.items():\n",
    "    try:\n",
    "        _plot_dict = mc_hists[reg].reduce_range(bottom=bottom_value, top=top_value)\n",
    "    except:\n",
    "        _plot_dict = real_mc_hists_other_binning[reg].reduce_range(bottom=bottom_value, top=top_value)\n",
    "    _fit_dict = {\n",
    "        \"era\": era,\n",
    "        \"region\": reg,\n",
    "    'n_{background}': \"{:.2f}\".format(_plot_dict.uncertainty_std_dev().sum()),\n",
    "    'n_{ABCD,Data}': \"{:.2f}\".format(item['fit_hist'].inverse_make_density_hist().uncertainty_std_dev().sum()),\n",
    "    ' Data $\\chi^2/n_{DOF}$': \"{:.2f}\".format(item['chi2'])\n",
    "    }\n",
    "    fit_list.append(_fit_dict)"
   ]
  },
  {
   "cell_type": "code",
   "execution_count": null,
   "id": "a28d3a0b",
   "metadata": {},
   "outputs": [],
   "source": [
    "with open('{}/fit_stats_mc_{}.txt'.format(outdir,era), 'w') as f:\n",
    "    latex = pd.DataFrame(fit_list).to_latex()\n",
    "    print(latex)\n",
    "    f.write(latex)"
   ]
  },
  {
   "cell_type": "code",
   "execution_count": null,
   "id": "6a49562e",
   "metadata": {},
   "outputs": [],
   "source": [
    "#format dict for saving\n",
    "limit_dict = {}\n",
    "for reg, item in fit_dict.items():\n",
    "    limit_dict[reg] = item['fit_hist'].to_dict()"
   ]
  },
  {
   "cell_type": "code",
   "execution_count": null,
   "id": "b29a66dc",
   "metadata": {
    "scrolled": false
   },
   "outputs": [],
   "source": [
    "import pickle as pkl\n",
    "with open('{}/abcd_dict_mc_{}.pkl'.format(outdir, era), 'wb') as f:\n",
    "    pkl.dump(limit_dict, f)"
   ]
  }
 ],
 "metadata": {
  "kernelspec": {
   "display_name": "bff_12_1",
   "language": "python",
   "name": "bff_12_1"
  },
  "language_info": {
   "codemirror_mode": {
    "name": "ipython",
    "version": 3
   },
   "file_extension": ".py",
   "mimetype": "text/x-python",
   "name": "python",
   "nbconvert_exporter": "python",
   "pygments_lexer": "ipython3",
   "version": "3.9.6"
  }
 },
 "nbformat": 4,
 "nbformat_minor": 5
}
