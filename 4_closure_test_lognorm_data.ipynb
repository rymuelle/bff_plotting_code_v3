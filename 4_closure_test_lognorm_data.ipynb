{
 "cells": [
  {
   "cell_type": "code",
   "execution_count": null,
   "id": "1d6d00e9",
   "metadata": {},
   "outputs": [],
   "source": [
    "import pandas as pd\n",
    "import numpy as np\n",
    "import matplotlib.pyplot as plt\n",
    "import pickle\n",
    "from src.data_tools.get_data import get_data"
   ]
  },
  {
   "cell_type": "code",
   "execution_count": null,
   "id": "e271a5ef",
   "metadata": {},
   "outputs": [],
   "source": [
    "from IPython.display import display, HTML\n",
    "display(HTML(\"<style>.container { width:100% !important; }</style>\"))"
   ]
  },
  {
   "cell_type": "code",
   "execution_count": null,
   "id": "9a433950",
   "metadata": {},
   "outputs": [],
   "source": [
    "%load_ext autoreload\n",
    "%autoreload 2"
   ]
  },
  {
   "cell_type": "code",
   "execution_count": null,
   "id": "30fa8a3c",
   "metadata": {},
   "outputs": [],
   "source": [
    "from src.plotting_tools.draw_stack_plot_hists import draw_bckground, draw_signals, draw_data, draw_stackplot\n",
    "from src.plotting_tools.SysHist import SysHist\n",
    "from src.plotting_tools.Bins import Bins, bins\n",
    "from src.plotting_tools.utils import ratio_plot_template"
   ]
  },
  {
   "cell_type": "code",
   "execution_count": null,
   "id": "ec68f1b2",
   "metadata": {},
   "outputs": [],
   "source": [
    "bins_other_binning = bins"
   ]
  },
  {
   "cell_type": "code",
   "execution_count": null,
   "id": "1ed905cd",
   "metadata": {},
   "outputs": [],
   "source": [
    "from src.general.array_utils import moving_average, moving_sum, super_sample, super_sample_function, moving_avg_func, unp_array_to_nom_std\n",
    "from src.plotting_tools.cms_format import cms_style, cms_format_fig"
   ]
  },
  {
   "cell_type": "code",
   "execution_count": null,
   "id": "a1c434fd",
   "metadata": {},
   "outputs": [],
   "source": [
    "cms_style()"
   ]
  },
  {
   "cell_type": "code",
   "execution_count": null,
   "id": "6aea5195",
   "metadata": {},
   "outputs": [],
   "source": [
    "era = '2016'\n",
    "mdf, lumi = get_data(era, df_filter=lambda x: x.type.str.contains('bck'), stitch_dy=1)\n",
    "mdf_data, lumi = get_data(era, df_filter=lambda x: x.type.str.contains('data'), stitch_dy=1)"
   ]
  },
  {
   "cell_type": "code",
   "execution_count": null,
   "id": "4e773cbc",
   "metadata": {},
   "outputs": [],
   "source": [
    "outdir = 'assets_nov_2022/abcd'"
   ]
  },
  {
   "cell_type": "code",
   "execution_count": null,
   "id": "864b62e6",
   "metadata": {},
   "outputs": [],
   "source": [
    "mdf_data.type.unique()"
   ]
  },
  {
   "cell_type": "code",
   "execution_count": null,
   "id": "93e222cc",
   "metadata": {},
   "outputs": [],
   "source": [
    "bins_red = Bins(np.linspace(105,900, int((900-105)/5+1)))\n",
    "bins_red = Bins(np.linspace(105,900, 300))\n",
    "\n",
    "bins_red"
   ]
  },
  {
   "cell_type": "code",
   "execution_count": null,
   "id": "bb93958e",
   "metadata": {
    "scrolled": true
   },
   "outputs": [],
   "source": [
    "data_hists = {}\n",
    "for reg in ['CR14','CR24', 'CR10','CR20', 'CR13', 'CR23']:\n",
    "    fig, ax = plt.subplots(1)\n",
    "    data_hists[reg] = draw_data(ax, mdf_data, 'DiLepMass', reg, era, bin_edges=bins_red.bin_edges, \n",
    "                                return_hist=1, make_density=0, isdata=1)\n",
    "\n",
    "    ax.set_yscale('log')"
   ]
  },
  {
   "cell_type": "code",
   "execution_count": null,
   "id": "b9c8ee27",
   "metadata": {},
   "outputs": [],
   "source": [
    "mc_hists_other_binning = {}\n",
    "for reg in ['CR14','CR24', 'CR10','CR20', 'CR13', 'CR23']:\n",
    "    fig, ax = plt.subplots(1)\n",
    "    mc_hists_other_binning[reg] = draw_data(ax, mdf, 'DiLepMass', reg, era, bin_edges=bins.bin_edges, \n",
    "                                              return_hist=1, isdata=1)\n",
    "    ax.set_yscale('log')"
   ]
  },
  {
   "cell_type": "code",
   "execution_count": null,
   "id": "be94ae7c",
   "metadata": {
    "scrolled": true
   },
   "outputs": [],
   "source": [
    "data_hists_other_binning = {}\n",
    "for reg in ['CR14','CR24', 'CR10','CR20', 'CR13', 'CR23']:\n",
    "    fig, ax = plt.subplots(1)\n",
    "    data_hists_other_binning[reg] = draw_data(ax, mdf_data, 'DiLepMass', reg, era, bin_edges=bins.bin_edges, \n",
    "                                              return_hist=1, isdata=1)\n",
    "    data_hists_other_binning[reg].sys = {}\n",
    "    ax.set_yscale('log')"
   ]
  },
  {
   "cell_type": "code",
   "execution_count": null,
   "id": "b10fb7bd",
   "metadata": {},
   "outputs": [],
   "source": [
    "#def open_and_convert_plotting_dict(fn):\n",
    "#    with open(fn, 'rb') as f:\n",
    "#        plot_dict= pickle.load(f)\n",
    "#        \n",
    "#    for reg in plot_dict:\n",
    "#        if 'hist' in plot_dict[reg]:\n",
    "#            plot_dict[reg]['hist'] = SysHist.from_dict(plot_dict[reg]['hist'])\n",
    "#        plot_dict[reg]['fit'] = SysHist.from_dict(plot_dict[reg]['fit'])\n",
    "#    return plot_dict"
   ]
  },
  {
   "cell_type": "code",
   "execution_count": null,
   "id": "ceb3fd9a",
   "metadata": {
    "scrolled": false
   },
   "outputs": [],
   "source": [
    "def compare_hists(hist1, hist2, ismc = False, n=10, ndof=0, log=1, color='red', label1=\"\", label2=\"\", isdata=0, **kwargs):\n",
    "    fig, ax, rax = ratio_plot_template(figsize=(10,10))\n",
    "    hist1.draw(ax, label=label1, zorder=3)\n",
    "    if isdata:\n",
    "        ax.errorbar(hist2.calc_bin_centers(), hist2.nominal, yerr=hist2.std, color='black', label=label2,\n",
    "           ls='', marker='o', zorder=1)\n",
    "    else:\n",
    "        hist2.draw(ax, label=label2, color=color)\n",
    "    \n",
    "    x = hist1.calc_bin_centers()\n",
    "\n",
    "    rax.plot(x, np.full(len(x), 1) , color='black', linestyle=':')\n",
    "    rax.plot(x, np.full(len(x), 0) , color='black')\n",
    "    rax.plot(x, np.full(len(x), -1) , color='black', linestyle=':')\n",
    "    \n",
    "    cms_format_fig(era, ax)\n",
    "    if log:\n",
    "        ax.set_yscale('Log')\n",
    "    ax.set_ylabel('Counts per GeV')\n",
    "    rax.set_xlabel('DiLepMass [GeV]')\n",
    "    rax.set_ylim(-5,5)\n",
    "    rax.set_ylabel('Pull')\n",
    "    \n",
    "    nom1_avg = moving_sum(hist1.nominal, n = n)\n",
    "    nom2_avg = moving_sum(hist2.nominal, n = n)\n",
    "    var1_avg = moving_sum(hist1.std**2, n = n)\n",
    "    var2_avg = moving_sum(hist2.std**2, n = n)\n",
    "    x_avg = moving_average(x, n=n)\n",
    "    if ismc:\n",
    "        pull = (nom1_avg-nom2_avg)/(var2_avg+var1_avg)**.5\n",
    "    else:\n",
    "        pull = (nom1_avg-nom2_avg)/nom1_avg**.5\n",
    "    pullsquare = pull**2\n",
    "    \n",
    "    rax.plot(x_avg, pull)\n",
    "    \n",
    "    return  {'chi2': (pullsquare).sum()/(hist1.calc_nBins()-ndof),\n",
    "             'fig': fig,\n",
    "             'ax': ax,\n",
    "             'rax': rax}\n",
    "    "
   ]
  },
  {
   "cell_type": "code",
   "execution_count": null,
   "id": "dc7d6151",
   "metadata": {},
   "outputs": [],
   "source": [
    "from scipy.optimize import curve_fit\n",
    "from src.general.functions import power_func, power_law, make_bpoly, linear, parabola, make_bpoly_exp"
   ]
  },
  {
   "cell_type": "code",
   "execution_count": null,
   "id": "a288a94b",
   "metadata": {},
   "outputs": [],
   "source": [
    "from scipy.optimize import curve_fit\n",
    "from src.general.functions import make_bpoly, lognorm, log_norm_np, log_norm_unp\n",
    "from src.plotting_tools.SysHist import SysHist"
   ]
  },
  {
   "cell_type": "code",
   "execution_count": null,
   "id": "b287fa04",
   "metadata": {},
   "outputs": [],
   "source": [
    "import uncertainties\n",
    "import uncertainties.unumpy as unp"
   ]
  },
  {
   "cell_type": "code",
   "execution_count": null,
   "id": "24d8b1b4",
   "metadata": {},
   "outputs": [],
   "source": [
    "def fit_hist(func, hist, n=10, comp_hist_n =10, do_super_sample=1, ismc=False,  do_unc=1, color='red', label1=\"\", label2=\"\", isdata=0, **kwargs):\n",
    "    x = np.array(hist.calc_bin_centers())\n",
    "    if not isdata:\n",
    "        popt, pcov = curve_fit(func, x, hist.nominal, \n",
    "                       **kwargs,\n",
    "                       sigma=hist.std, maxfev = int(1e6))  \n",
    "    else:\n",
    "        #std is not optimal for data: zero and low count bins will be subotimal error estimates\n",
    "        popt, pcov = curve_fit(func, x, hist.nominal, \n",
    "               **kwargs, maxfev = int(1e6))  \n",
    "    if do_unc:\n",
    "        #create fit values with uncertainties\n",
    "        popt_unc = uncertainties.correlated_values(popt, pcov)\n",
    "        #make_fit_hist\n",
    "        y = log_norm_unp(x, *popt_unc)\n",
    "        y_nom, y_std = unp_array_to_nom_std(y)\n",
    "    else: \n",
    "        y_nom = func(x, *popt)\n",
    "        varper = ((hist.nominal-y_nom)**2/y_nom).mean()\n",
    "        y_std = (varper*y_nom)**.5\n",
    "        y_std = y_nom**.5\n",
    "    fit_hist = SysHist(\n",
    "            y_nom,\n",
    "            x*0, x*0, \n",
    "            y_std,\n",
    "            np.array(hist.bin_edges)\n",
    "        ).normalize().calc_ratio(1/hist.calc_sum())\n",
    "    \n",
    "    #bins from analysis\n",
    "    x_other = np.array(bins_other_binning.calc_bin_centers())\n",
    "    y_nom = func(x_other, *popt)\n",
    "    y_std = y_nom*.1   \n",
    "    if do_unc:\n",
    "        popt_unc = uncertainties.correlated_values(popt, pcov)\n",
    "        y = log_norm_unp(x_other, *popt_unc)\n",
    "        _, y_std = unp_array_to_nom_std(y)\n",
    "    fit_hist_other_binning = SysHist(\n",
    "            y_nom,\n",
    "            x_other*0, x_other*0, \n",
    "            y_std,\n",
    "            np.array(bins_other_binning.bin_edges)\n",
    "        ).reduce_range(bottom=bottom_value, top=1000).inverse_make_density_hist().normalize().calc_ratio(1/hist.calc_sum())\n",
    "    \n",
    "        #)#.reduce_range(bottom=bottom_value, top=top_value).inverse_make_density_hist().normalize().calc_ratio(1/hist.calc_sum())\n",
    "\n",
    "    compare_dict = compare_hists(fit_hist, hist, ismc=ismc, n=comp_hist_n, color = color, ndof=5, label1=label1, label2=label2, isdata=isdata)\n",
    "    return {**compare_dict, \n",
    "            \"popt\" : popt,\n",
    "            \"fit_hist\": fit_hist,\n",
    "            \"fit_hist_other_binning\": fit_hist_other_binning\n",
    "           }"
   ]
  },
  {
   "cell_type": "code",
   "execution_count": null,
   "id": "8f5d3110",
   "metadata": {},
   "outputs": [],
   "source": [
    "bottom_value = 120\n",
    "top_value=400"
   ]
  },
  {
   "cell_type": "code",
   "execution_count": null,
   "id": "fb1704a5",
   "metadata": {
    "scrolled": true
   },
   "outputs": [],
   "source": [
    "comp_hist_n = 1\n",
    "fit_dict = {}\n",
    "ismc=0\n",
    "isdata = ismc==0\n",
    "for reg in ['CR14','CR24', 'CR10','CR20', 'CR13', 'CR23']:\n",
    "    _plot_dict = data_hists[reg]\n",
    "    print(reg)\n",
    "\n",
    "    hist = data_hists[reg].reduce_range(bottom=bottom_value, top=top_value)\n",
    "    hist.up *=0\n",
    "    hist.down *=0\n",
    "\n",
    "    total_events = hist.nominal.sum()\n",
    "    curve_fit_chi2 = fit_hist(log_norm_np, hist, comp_hist_n=comp_hist_n, do_super_sample=0, \n",
    "                              ismc=ismc, p0=[total_events*10, .8, 80, 70], \n",
    "                              bounds = ([0, .2, 50, 50], [total_events*100, 1, 100, 100]),\n",
    "                              do_unc=1, label1='fit', label2='Data', isdata=isdata,\n",
    "                             )\n",
    "    \n",
    "    \n",
    "    draw_bckground(curve_fit_chi2['ax'], mdf_data, 'DiLepMass', reg, era, bin_edges=hist.bin_edges, make_density=0)\n",
    "    fit_dict[reg] = curve_fit_chi2\n",
    "    print(reg, curve_fit_chi2['chi2'],  repr(curve_fit_chi2['popt']))\n",
    "    curve_fit_chi2['ax'].legend(ncol=2)\n",
    "    curve_fit_chi2['fig'].savefig('{}/data_fit_era{}_ismc{}_reg{}_bottom{}_lognorm.pdf'.format(outdir,era,ismc,reg,bottom_value))\n",
    "    #curve_fit_chi2['fig'].savefig('fits/curve_fit_closure_test_22/mc_fit_era{}_ismc{}_reg{}_bottom{}_lognorm.pdf'.format(era,ismc,reg,bottom_value))"
   ]
  },
  {
   "cell_type": "code",
   "execution_count": null,
   "id": "dc6c36c0",
   "metadata": {
    "scrolled": true
   },
   "outputs": [],
   "source": [
    "real_mc_hists_other_binning = {}\n",
    "for reg in ['SR1', 'SR2']:\n",
    "    fig, ax = plt.subplots(1)\n",
    "    real_mc_hists_other_binning[reg] = draw_bckground(ax, mdf, 'DiLepMass', reg, era, bin_edges=bins.bin_edges, make_density=0)\n",
    "    ax.set_yscale('log')"
   ]
  },
  {
   "cell_type": "code",
   "execution_count": null,
   "id": "0f150876",
   "metadata": {
    "scrolled": false
   },
   "outputs": [],
   "source": [
    "for nJets in [1,2]:\n",
    "    reg = 'SR{}'.format(nJets)\n",
    "    A = fit_dict['CR{}0'.format(nJets)]['fit_hist_other_binning'].reduce_range(bottom=bottom_value, top=1000)\n",
    "    B = fit_dict['CR{}3'.format(nJets)]['fit_hist_other_binning'].reduce_range(bottom=bottom_value, top=1000)\n",
    "    C = fit_dict['CR{}4'.format(nJets)]['fit_hist_other_binning'].reduce_range(bottom=bottom_value, top=1000)\n",
    "    print(A.calc_sum(), B.calc_sum(), C.calc_sum(), ( A.uncertainty_std_dev()*B.uncertainty_std_dev()/C.uncertainty_std_dev()).sum() )\n",
    "    abcd = A.uncertainty_std_dev()*B.uncertainty_std_dev()/C.uncertainty_std_dev()\n",
    "    abcd_nom, abcd_std = unp_array_to_nom_std(abcd)\n",
    "    #abcd_std = abcd_nom**.5\n",
    "    \n",
    "    hist =  real_mc_hists_other_binning['SR{}'.format(nJets)].reduce_range(bottom=bottom_value, top=1000).make_density_hist()\n",
    "    hist.up *=0\n",
    "    hist.down *=0\n",
    "    \n",
    "    #abcd_hist = SysHist(abcd_nom, abcd_nom*0,abcd_nom*0,abcd_std, hist.bin_edges)#.reduce_range(bottom=bottom_value, top=top_value).make_density_hist()\n",
    "    abcd_hist = SysHist(abcd_nom, abcd_nom*0,abcd_nom*0,abcd_std, hist.bin_edges).make_density_hist()\n",
    "    print(hist.inverse_make_density_hist().calc_sum(), abcd_hist.inverse_make_density_hist().calc_sum())\n",
    "    #reduce the range to the area used for chi2\n",
    "    compare_hist_dict = compare_hists(abcd_hist.reduce_range(bottom=bottom_value, top=top_value), \n",
    "                                      hist.reduce_range(bottom=bottom_value, top=top_value), \n",
    "                                      ismc=True, n=1, log=True, color='black', label1='Data ABCD pred.', label2='MC',  isdata=0)\n",
    "    \n",
    "    #draw stack plot background\n",
    "    draw_bckground(compare_hist_dict['ax'], mdf, 'DiLepMass', reg, era, \n",
    "                   bin_edges=abcd_hist.reduce_range(bottom=bottom_value, top=top_value).bin_edges, make_density=1)\n",
    "    \n",
    "    compare_hist_dict['ax'].legend(ncol=2)\n",
    "    \n",
    "    #compare_hist_dict['fig'].savefig('fits/curve_fit_closure_test_22/abcd_era{}_ismc{}_regSR{}_bottom{}_lognorm_splt_binning.pdf'.format(era,ismc,nJets,bottom_value))\n",
    "    compare_hist_dict['fig'].savefig('{}/data_abcd_era{}_ismc{}_regSR{}_bottom{}_lognorm_splt_binning.pdf'.format(outdir,era,ismc,nJets,bottom_value))\n",
    "    compare_hist_dict['fig'].show()\n",
    "    \n",
    "    compare_hist_dict['ax'].set_xlim(120,200)\n",
    "    compare_hist_dict['rax'].set_xlim(120,200)\n",
    "    compare_hist_dict['ax'].set_ylim(bottom=0.001, top=150)\n",
    "    compare_hist_dict['ax'].set_yscale('linear')\n",
    "    compare_hist_dict['fig'].savefig('{}/data_abcd_era{}_ismc{}_regSR{}_bottom{}_lognorm_splt_binning_200GeV_max.pdf'.format(outdir,era,ismc,nJets,bottom_value))\n",
    "\n",
    "    fit_dict['SR{}'.format(nJets)]= compare_hist_dict\n",
    "    fit_dict['SR{}'.format(nJets)]['fit_hist'] = abcd_hist\n",
    "    "
   ]
  },
  {
   "cell_type": "code",
   "execution_count": null,
   "id": "613b3e04",
   "metadata": {},
   "outputs": [],
   "source": [
    "{reg: item['chi2'] for reg, item in fit_dict.items()}"
   ]
  },
  {
   "cell_type": "code",
   "execution_count": null,
   "id": "be752fdf",
   "metadata": {},
   "outputs": [],
   "source": [
    "fit_list = []\n",
    "for reg, item in fit_dict.items():\n",
    "    try:\n",
    "        _plot_dict = data_hists[reg].reduce_range(bottom=bottom_value, top=top_value)\n",
    "    except:\n",
    "        _plot_dict = real_mc_hists_other_binning[reg].reduce_range(bottom=bottom_value, top=top_value)\n",
    "    _fit_dict = {\n",
    "        \"era\": era,\n",
    "        \"region\": reg,\n",
    "    'n_{background}': \"{:.2f}\".format(_plot_dict.uncertainty_std_dev().sum()),\n",
    "    'n_{ABCD,Data}': \"{:.2f}\".format(item['fit_hist'].inverse_make_density_hist().uncertainty_std_dev().sum()),\n",
    "    ' Data $\\chi^2/n_{DOF}$': \"{:.2f}\".format(item['chi2'])\n",
    "    }\n",
    "    fit_list.append(_fit_dict)"
   ]
  },
  {
   "cell_type": "code",
   "execution_count": null,
   "id": "a28d3a0b",
   "metadata": {},
   "outputs": [],
   "source": [
    "with open('{}/fit_stats_data_{}.txt'.format(outdir,era), 'w') as f:\n",
    "    latex = pd.DataFrame(fit_list).to_latex()\n",
    "    print(latex)\n",
    "    f.write(latex)"
   ]
  },
  {
   "cell_type": "code",
   "execution_count": null,
   "id": "6a49562e",
   "metadata": {},
   "outputs": [],
   "source": [
    "#format dict for saving\n",
    "limit_dict = {}\n",
    "for reg, item in fit_dict.items():\n",
    "    limit_dict[reg] = item['fit_hist'].to_dict()"
   ]
  },
  {
   "cell_type": "code",
   "execution_count": null,
   "id": "b29a66dc",
   "metadata": {
    "scrolled": false
   },
   "outputs": [],
   "source": [
    "import pickle as pkl\n",
    "with open('{}/abcd_dict_data_{}.pkl'.format(outdir, era), 'wb') as f:\n",
    "    pkl.dump(limit_dict, f)"
   ]
  },
  {
   "cell_type": "code",
   "execution_count": null,
   "id": "867811b2",
   "metadata": {
    "scrolled": true
   },
   "outputs": [],
   "source": [
    "limit_dict"
   ]
  },
  {
   "cell_type": "code",
   "execution_count": null,
   "id": "a2fefef7",
   "metadata": {},
   "outputs": [],
   "source": []
  }
 ],
 "metadata": {
  "kernelspec": {
   "display_name": "bff_12_1",
   "language": "python",
   "name": "bff_12_1"
  },
  "language_info": {
   "codemirror_mode": {
    "name": "ipython",
    "version": 3
   },
   "file_extension": ".py",
   "mimetype": "text/x-python",
   "name": "python",
   "nbconvert_exporter": "python",
   "pygments_lexer": "ipython3",
   "version": "3.9.6"
  }
 },
 "nbformat": 4,
 "nbformat_minor": 5
}
