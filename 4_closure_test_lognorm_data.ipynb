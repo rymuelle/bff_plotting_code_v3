{
 "cells": [
  {
   "cell_type": "code",
   "execution_count": null,
   "id": "1d6d00e9",
   "metadata": {},
   "outputs": [],
   "source": [
    "import pandas as pd\n",
    "import numpy as np\n",
    "#surpress divide warnings\n",
    "np.errstate(invalid='ignore', divide='ignore')\n",
    "import matplotlib.pyplot as plt\n",
    "import pickle\n",
    "from src.data_tools.get_data import get_data"
   ]
  },
  {
   "cell_type": "code",
   "execution_count": null,
   "id": "e271a5ef",
   "metadata": {},
   "outputs": [],
   "source": [
    "from IPython.display import display, HTML\n",
    "display(HTML(\"<style>.container { width:100% !important; }</style>\"))"
   ]
  },
  {
   "cell_type": "code",
   "execution_count": null,
   "id": "9a433950",
   "metadata": {},
   "outputs": [],
   "source": [
    "%load_ext autoreload\n",
    "%autoreload 2"
   ]
  },
  {
   "cell_type": "code",
   "execution_count": null,
   "id": "30fa8a3c",
   "metadata": {},
   "outputs": [],
   "source": [
    "from src.plotting_tools.draw_stack_plot_hists import draw_bckground, draw_signals, draw_data, draw_stackplot\n",
    "from src.plotting_tools.SysHist import SysHist\n",
    "from src.plotting_tools.Bins import Bins, bins\n",
    "from src.plotting_tools.utils import ratio_plot_template\n",
    "from src.data_tools.StackPlotter import get_stack_plotter\n",
    "from src.plotting_tools.latexAssets import mll"
   ]
  },
  {
   "cell_type": "code",
   "execution_count": null,
   "id": "ec68f1b2",
   "metadata": {},
   "outputs": [],
   "source": [
    "split_bins = bins"
   ]
  },
  {
   "cell_type": "code",
   "execution_count": null,
   "id": "1ed905cd",
   "metadata": {},
   "outputs": [],
   "source": [
    "from src.general.array_utils import moving_average, moving_sum, super_sample, super_sample_function, moving_avg_func, unp_array_to_nom_std\n",
    "from src.plotting_tools.cms_format import cms_style, cms_format_fig"
   ]
  },
  {
   "cell_type": "code",
   "execution_count": null,
   "id": "87bf0013",
   "metadata": {},
   "outputs": [],
   "source": [
    "from scipy.optimize import curve_fit\n",
    "from src.general.functions import power_func, power_law, make_bpoly, linear, parabola, make_bpoly_exp"
   ]
  },
  {
   "cell_type": "code",
   "execution_count": null,
   "id": "b85a70e3",
   "metadata": {},
   "outputs": [],
   "source": [
    "from scipy.optimize import curve_fit\n",
    "from src.general.functions import make_bpoly, lognorm, log_norm_np, log_norm_unp\n",
    "from src.plotting_tools.SysHist import SysHist\n",
    "import uncertainties\n",
    "import uncertainties.unumpy as unp"
   ]
  },
  {
   "cell_type": "code",
   "execution_count": null,
   "id": "a1c434fd",
   "metadata": {},
   "outputs": [],
   "source": [
    "cms_style()"
   ]
  },
  {
   "cell_type": "code",
   "execution_count": null,
   "id": "16860067",
   "metadata": {},
   "outputs": [],
   "source": [
    "output_dir = 'assets_feb_23'\n",
    "outdir = '{}/abcd'.format(output_dir)\n",
    "era = '2018'\n",
    "ismc=0\n",
    "isdata = ismc==0"
   ]
  },
  {
   "cell_type": "code",
   "execution_count": null,
   "id": "2b7f3f7f",
   "metadata": {},
   "outputs": [],
   "source": [
    "sp = get_stack_plotter(output_dir, era, bins='none')"
   ]
  },
  {
   "cell_type": "code",
   "execution_count": null,
   "id": "ceb3fd9a",
   "metadata": {
    "scrolled": false
   },
   "outputs": [],
   "source": [
    "def compare_hists(fhist, dhist, ismc_pull = False, n=10, ndof=0, log=1, color='red', flabel=\"\", dlabel=\"\", \n",
    "                  dhist_isdata=0, fhist_is_data=0, ratio=False,  isabcd=0, **kwargs):\n",
    "    fig, ax, rax = ratio_plot_template(figsize=(10,10))\n",
    "    \n",
    "    \n",
    "    fhist.draw(ax, label=flabel, zorder=3)\n",
    "    if dhist_isdata:\n",
    "        ax.errorbar(dhist.calc_bin_centers(), dhist.nominal, yerr=dhist.std, color='black', label=dlabel,\n",
    "           ls='', marker='o', zorder=3)\n",
    "    else:\n",
    "        dhist.draw(ax, label=dlabel, zorder=1, color=color, errorbar=False, draw_sys=0)#, sys_label='Background Systematics')\n",
    "    \n",
    "    x = fhist.calc_bin_centers()\n",
    "    \n",
    "    cms_format_fig(era, ax)\n",
    "    if log:\n",
    "        ax.set_yscale('Log')\n",
    "    ax.set_ylabel('Counts per GeV')\n",
    "    \n",
    "    #calc pull\n",
    "    nom1_avg = moving_sum(fhist.nominal, n = n)\n",
    "    nom2_avg = moving_sum(dhist.nominal, n = n)\n",
    "    var1_avg = moving_sum(fhist.std**2, n = n)\n",
    "    var2_avg = moving_sum(dhist.std**2, n = n)\n",
    "    x_avg = moving_average(x, n=n)\n",
    "    if ismc_pull:\n",
    "        pull = (nom1_avg-nom2_avg)/(var2_avg+var1_avg)**.5\n",
    "    else:\n",
    "        pull = (nom1_avg-nom2_avg)/nom1_avg**.5\n",
    "    pullsquare = pull**2\n",
    "        \n",
    "    \n",
    "    if ratio:\n",
    "        rax.plot(x, np.full(len(x), .5) , color='black', linestyle=':')\n",
    "        rax.plot(x, np.full(len(x), 0) , color='black')\n",
    "        rax.plot(x, np.full(len(x), 1.5) , color='black', linestyle=':') \n",
    "        rax.set_ylim(0,2)\n",
    "        if fhist_is_data:\n",
    "            rax.set_ylabel('Obs./MC')\n",
    "        else:\n",
    "            if isabcd: rax.set_ylabel('ABCD/MC')\n",
    "            else: rax.set_ylabel('Fit/MC')\n",
    "        fhist.calc_ratio(dhist.nominal).draw(rax, zorder=1)\n",
    "        if dhist_isdata:\n",
    "            dhist.calc_ratio(dhist.nominal).draw(rax, color=color, zorder=0)\n",
    "        else:\n",
    "            dhist.calc_ratio(dhist.nominal).draw(rax, color=color, zorder=0, errorbar=False)\n",
    "    else:\n",
    "        rax.plot(x, np.full(len(x), 1) , color='black', linestyle=':')\n",
    "        rax.plot(x, np.full(len(x), 0) , color='black')\n",
    "        rax.plot(x, np.full(len(x), -1) , color='black', linestyle=':')\n",
    "        rax.set_ylim(-5,5)\n",
    "        rax.set_ylabel('Pull')\n",
    "        rax.plot(x_avg, pull)\n",
    "        \n",
    "    rax.set_xlabel('{} [GeV]'.format(mll))\n",
    "    return  {'chi2': (pullsquare).sum()/(fhist.calc_nBins()-ndof),\n",
    "             'fig': fig,\n",
    "             'ax': ax,\n",
    "             'rax': rax}\n",
    "    "
   ]
  },
  {
   "cell_type": "code",
   "execution_count": null,
   "id": "24d8b1b4",
   "metadata": {},
   "outputs": [],
   "source": [
    "def fit_hist(func, hist, n=10, comp_hist_n =10, do_super_sample=1, ismc=False,  do_unc=1, color='red', \n",
    "             flabel=\"\", dlabel=\"\", dhist_isdata=0, fhist_is_data=0, **kwargs):\n",
    "    x = np.array(hist.calc_bin_centers())\n",
    "    if not isdata:\n",
    "        popt, pcov = curve_fit(func, x, hist.nominal, \n",
    "                       **kwargs,\n",
    "                       sigma=hist.std, maxfev = int(1e6))  \n",
    "    else:\n",
    "        #std is not optimal for data: zero and low count bins will be subotimal error estimates\n",
    "        popt, pcov = curve_fit(func, x, hist.nominal, \n",
    "               **kwargs, maxfev = int(1e6))  \n",
    "    if do_unc:\n",
    "        #create fit values with uncertainties\n",
    "        popt_unc = uncertainties.correlated_values(popt, pcov)\n",
    "        #make_fit_hist\n",
    "        y = log_norm_unp(x, *popt_unc)\n",
    "        y_nom, y_std = unp_array_to_nom_std(y)\n",
    "    else: \n",
    "        y_nom = func(x, *popt)\n",
    "        varper = ((hist.nominal-y_nom)**2/y_nom).mean()\n",
    "        y_std = (varper*y_nom)**.5\n",
    "        y_std = y_nom**.5\n",
    "    fit_hist = SysHist(\n",
    "            y_nom,\n",
    "            x*0, x*0, \n",
    "            y_std,\n",
    "            np.array(hist.bin_edges)\n",
    "        ).normalize().calc_ratio(1/hist.calc_sum())\n",
    "\n",
    "    compare_dict = compare_hists(fit_hist, hist, ismc=ismc, n=comp_hist_n, color = color, ndof=5, flabel=flabel, dlabel=dlabel, dhist_isdata=dhist_isdata)\n",
    "    \n",
    "    return {**compare_dict, \n",
    "            \"popt\" : np.array(popt),\n",
    "            \"pcov\": np.array(pcov),\n",
    "            \"fit_hist\": fit_hist\n",
    "           }"
   ]
  },
  {
   "cell_type": "code",
   "execution_count": null,
   "id": "8f5d3110",
   "metadata": {},
   "outputs": [],
   "source": [
    "bottom_value = 120\n",
    "top_value=400\n",
    "feature='DiLepMass'\n",
    "sp.x_range = (bottom_value, top_value)"
   ]
  },
  {
   "cell_type": "code",
   "execution_count": null,
   "id": "23516dd7",
   "metadata": {},
   "outputs": [],
   "source": [
    "from scipy.ndimage import gaussian_filter"
   ]
  },
  {
   "cell_type": "code",
   "execution_count": null,
   "id": "fb1704a5",
   "metadata": {
    "scrolled": false
   },
   "outputs": [],
   "source": [
    "comp_hist_n = 1\n",
    "sp.rebin = 0\n",
    "fit_dict = {}\n",
    "for reg in ['CR14','CR24', 'CR10','CR20', 'CR13', 'CR23']:\n",
    "    #data for fitting, data or MC?\n",
    "    if isdata:\n",
    "        _plot_dict = sp.make_data_hist(feature, reg)\n",
    "    else:\n",
    "        _plot_dict = sp.combine_back(feature, reg)\n",
    "    #reduce the range for fitting\n",
    "    hist = _plot_dict.reduce_range(bottom=bottom_value, top=top_value)\n",
    "    if ismc: hist.std += gaussian_filter(hist.std,2)\n",
    "    #hist.up *=0\n",
    "    #hist.down *=0\n",
    "    total_events = hist.nominal.sum()\n",
    "    #fit the hist\n",
    "    flabel='Observed Fit' if isdata else 'MC Fit'\n",
    "    dlabel = 'Observed' if isdata else None\n",
    "    # fit and pull plot\n",
    "    \n",
    "    \n",
    "    curve_fit_chi2 = fit_hist(log_norm_np, hist, comp_hist_n=comp_hist_n, do_super_sample=0, \n",
    "                              ismc=ismc, p0=[total_events*10, .8, 80, 70], \n",
    "                              bounds = ([0, .2, 50, 50], [total_events*100, 1, 100, 100]),\n",
    "                              do_unc=1, flabel=flabel, dlabel=dlabel, dhist_isdata=isdata,fhist_is_data=isdata,\n",
    "                             )\n",
    "    \n",
    "    \n",
    "    sp.draw_background(curve_fit_chi2['ax'], feature, reg, sys_label='Stat. + Sys.', errorbar=False)\n",
    "    print(reg)\n",
    "    fit_dict[reg] = curve_fit_chi2\n",
    "    print(reg, curve_fit_chi2['chi2'],  repr(curve_fit_chi2['popt']))\n",
    "    # reorder legend\n",
    "    handles, labels = curve_fit_chi2['ax'].get_legend_handles_labels()\n",
    "    order = [0,1,2,3,4,5,7,6]\n",
    "    if ismc: order = np.linspace(0,len(handles)-1, len(handles), dtype=int)\n",
    "    curve_fit_chi2['ax'].legend([handles[idx] for idx in order],[labels[idx] for idx in order], \n",
    "                                ncol=2)\n",
    "    curve_fit_chi2['ax'].set_ylim(bottom=1e0, top=1e4)\n",
    "    curve_fit_chi2['fig'].savefig('{}/fit_data_pull_era{}_ismc{}_reg{}_bottom{}_lognorm.pdf'.format(outdir,era,ismc,reg,bottom_value))\n",
    "    \n",
    "    #200gev pull\n",
    "    curve_fit_chi2['ax'].set_xlim(left=bottom_value, right=200)\n",
    "    curve_fit_chi2['rax'].set_xlim(left=bottom_value, right=200)\n",
    "    curve_fit_chi2['fig'].savefig('{}/fit_data_pull_era{}_ismc{}_reg{}_bottom{}_lognorm_200GeVMax.pdf'.format(outdir,era,ismc,reg,bottom_value))\n",
    "\n",
    "    ### ratio plot\n",
    "    #rebin to split binning for these plots\n",
    "    sp.rebin = split_bins.bin_edges\n",
    "    bhist = sp.combine_back(feature, reg).make_density_hist()\n",
    "    bhist.nominal += 1e-10\n",
    "    fit_hist_rebin = curve_fit_chi2['fit_hist'].rebin(split_bins.bin_edges).reduce_range(bottom=bottom_value, top=top_value).make_density_hist()\n",
    "    ratio_dict = compare_hists(fit_hist_rebin, bhist, n=comp_hist_n, \n",
    "                               color = 'red', ndof=5, flabel=flabel, ratio=True, dhist_isdata=0, fhist_is_data=isdata)\n",
    "    ratio_dict['ax'].legend()\n",
    "    sp.draw_background(ratio_dict['ax'], feature, reg, sys_label='Stat. + Sys.', errorbar=False)\n",
    "    if isdata:\n",
    "        data_plot = sp.make_data_hist(feature, reg).make_density_hist()\n",
    "        ratio_dict['ax'].errorbar(data_plot.calc_bin_centers(), data_plot.nominal, yerr=data_plot.std, \n",
    "                    color='black', label='Observed', ls='', marker='o', zorder=2)\n",
    "        \n",
    "        ratio_dict['rax'].errorbar(data_plot.calc_bin_centers(), data_plot.nominal/bhist.nominal,\n",
    "                                   yerr=data_plot.std/bhist.nominal, \n",
    "                    color='black', ls='', marker='o', zorder=.5)        \n",
    "        \n",
    "    handles, labels = ratio_dict['ax'].get_legend_handles_labels()\n",
    "    order = [0,1,2,3,4,6,5,7]\n",
    "    if ismc: order = np.linspace(0,len(handles)-1, len(handles), dtype=int)\n",
    "    ratio_dict['ax'].legend([handles[idx] for idx in order],[labels[idx] for idx in order], \n",
    "                                ncol=2)\n",
    "\n",
    "    ratio_dict['ax'].set_ylim(bottom=1e0, top=1e4)\n",
    "    ratio_dict['fig'].savefig('{}/fit_mc_ratio_era{}_ismc{}_reg{}_bottom{}_lognorm.pdf'.format(outdir,era,ismc,reg,bottom_value))\n",
    "    #200gev pull\n",
    "    ratio_dict['ax'].set_xlim(left=bottom_value, right=200)\n",
    "    ratio_dict['rax'].set_xlim(left=bottom_value, right=200)\n",
    "    ratio_dict['fig'].savefig('{}/fit_mc_ratio_era{}_ismc{}_reg{}_bottom{}_lognorm_200GeVMax.pdf'.format(outdir,era,ismc,reg,bottom_value))\n",
    "    sp.rebin = 0\n",
    "    \n",
    "\n",
    "\n"
   ]
  },
  {
   "cell_type": "code",
   "execution_count": null,
   "id": "e54a458d",
   "metadata": {},
   "outputs": [],
   "source": [
    "#### abcd"
   ]
  },
  {
   "cell_type": "code",
   "execution_count": null,
   "id": "dde7ec9d",
   "metadata": {},
   "outputs": [],
   "source": [
    "def make_fit_hist(template_hist, reg):\n",
    "    tmp_xrange = sp.x_range\n",
    "    sp.x_range = (-np.inf, np.inf)\n",
    "    template_hist = sp.combine_back(feature, reg)\n",
    "    x = np.array(template_hist.calc_bin_centers())\n",
    "    popt, pcov = fit_dict[reg]['popt'], fit_dict[reg]['pcov']\n",
    "    popt_unc = uncertainties.correlated_values(popt, pcov)\n",
    "    y = log_norm_unp(x, *popt_unc)\n",
    "    y_nom, y_std = unp_array_to_nom_std(y)\n",
    "    fit_hist = SysHist(\n",
    "            y_nom,\n",
    "            x*0, x*0, \n",
    "            y_std,\n",
    "            np.array(template_hist.bin_edges)\n",
    "        )\n",
    "    sp.x_range = tmp_xrange\n",
    "    return fit_hist"
   ]
  },
  {
   "cell_type": "code",
   "execution_count": null,
   "id": "b10e44bb",
   "metadata": {},
   "outputs": [],
   "source": [
    "def make_abcd(nJets):\n",
    "    A = make_fit_hist(bhist, 'CR{}0'.format(nJets))\n",
    "    B = make_fit_hist(bhist, 'CR{}3'.format(nJets))\n",
    "    C = make_fit_hist(bhist, 'CR{}4'.format(nJets))\n",
    "    abcd = A.uncertainty_std_dev()*B.uncertainty_std_dev()/C.uncertainty_std_dev()\n",
    "    abcd_nom, abcd_std = unp_array_to_nom_std(abcd)\n",
    "    return SysHist(abcd_nom, abcd_nom*0,abcd_nom*0,abcd_std, A.bin_edges)"
   ]
  },
  {
   "cell_type": "code",
   "execution_count": null,
   "id": "72306d19",
   "metadata": {
    "scrolled": false
   },
   "outputs": [],
   "source": [
    "#abcd plots\n",
    "for nJets in [1,2]:\n",
    "    reg = 'SR{}'.format(nJets)\n",
    "    #make abcd hist\n",
    "    abcd_hist = make_abcd(nJets)\n",
    "    abcd_hist = abcd_hist.rebin(split_bins.bin_edges).reduce_range(bottom=bottom_value, top=top_value)\n",
    "    #background hist\n",
    "    sp.rebin = split_bins.bin_edges\n",
    "    bhist = sp.combine_back(feature, reg)\n",
    "\n",
    "    #ratio\n",
    "    flabel = 'Obs. ABCD' if isdata else 'MC ABCD'\n",
    "    ratio_dict = compare_hists(abcd_hist.make_density_hist(), bhist.make_density_hist(), isdata=0, n=comp_hist_n, \n",
    "                                   color = 'red', ndof=5, flabel=flabel, ratio=True, isabcd=1)\n",
    "    sp.draw_background(ratio_dict['ax'], feature, reg, sys_label='Stat. + Sys.', errorbar=False)\n",
    "    \n",
    "    handles, labels = ratio_dict['ax'].get_legend_handles_labels()\n",
    "    order = [0,1,2,3,4,6,5]\n",
    "    if ismc: order = np.linspace(0,len(handles)-1, len(handles), dtype=int)\n",
    "    ratio_dict['ax'].legend([handles[idx] for idx in order],[labels[idx] for idx in order], \n",
    "                                ncol=2)\n",
    "    \n",
    "    ratio_dict['ax'].set_ylim(bottom=1e0, top=1e3)\n",
    "    ratio_dict['fig'].savefig('{}/abcd_mc_ratio_era{}_ismc{}_regSR{}_bottom{}_lognorm_splt_binning.pdf'.format(outdir,era,ismc,nJets,bottom_value))\n",
    "    #200 GeV zoom in \n",
    "    ratio_dict['ax'].set_xlim(left=bottom_value, right=200)\n",
    "    ratio_dict['rax'].set_xlim(left=bottom_value, right=200)\n",
    "    ratio_dict['fig'].savefig('{}/abcd_mc_ratio_era{}_ismc{}_regSR{}_bottom{}_lognorm_splt_binning_200GeVMax.pdf'.format(outdir,era,ismc,nJets,bottom_value))\n",
    "    \n",
    "    #pull\n",
    "    pull_dict = compare_hists(abcd_hist.make_density_hist(), bhist.make_density_hist(), isdata=0, n=comp_hist_n, \n",
    "                                   color = 'red', ndof=5, flabel=flabel, ratio=False, isabcd=1)\n",
    "    sp.draw_background(pull_dict['ax'], feature, reg, sys_label='Stat. + Sys.', errorbar=False)\n",
    "    handles, labels = pull_dict['ax'].get_legend_handles_labels()\n",
    "    order = [0,1,2,3,4,6,5]\n",
    "    if ismc: order = np.linspace(0,len(handles)-1, len(handles), dtype=int)\n",
    "    pull_dict['ax'].legend([handles[idx] for idx in order],[labels[idx] for idx in order], \n",
    "                                ncol=2)\n",
    "    pull_dict['ax'].set_ylim(bottom=1e0, top=1e3)\n",
    "    pull_dict['fig'].savefig('{}/abcd_mc_pull_era{}_ismc{}_regSR{}_bottom{}_lognorm_splt_binning.pdf'.format(outdir,era,ismc,nJets,bottom_value))\n",
    "    #200 GeV zoom in \n",
    "    pull_dict['ax'].set_xlim(left=bottom_value, right=200)\n",
    "    pull_dict['rax'].set_xlim(left=bottom_value, right=200)\n",
    "    pull_dict['fig'].savefig('{}/abcd_mc_pull_era{}_ismc{}_regSR{}_bottom{}_lognorm_splt_binning_200GeVMax.pdf'.format(outdir,era,ismc,nJets,bottom_value))\n",
    "    sp.rebin = 0\n",
    "\n",
    "    #save data\n",
    "    fit_dict['SR{}'.format(nJets)]= ratio_dict\n",
    "    fit_dict['SR{}'.format(nJets)]['fit_hist'] = abcd_hist"
   ]
  },
  {
   "cell_type": "code",
   "execution_count": null,
   "id": "410ae407",
   "metadata": {},
   "outputs": [],
   "source": [
    "{reg: item['chi2'] for reg, item in fit_dict.items()}"
   ]
  },
  {
   "cell_type": "code",
   "execution_count": null,
   "id": "be752fdf",
   "metadata": {},
   "outputs": [],
   "source": [
    "fit_list = []\n",
    "for reg, item in fit_dict.items():\n",
    "\n",
    "    _plot_dict = sp.make_data_hist(feature, reg).reduce_range(bottom=bottom_value, top=top_value)\n",
    "    _fit_dict = {\n",
    "        \"era\": era,\n",
    "        \"region\": reg,\n",
    "    'n_{background}': \"{:.2f}\".format(_plot_dict.uncertainty_std_dev().sum()),\n",
    "    'n_{ABCD,Data}': \"{:.2f}\".format(item['fit_hist'].inverse_make_density_hist().uncertainty_std_dev().sum()),\n",
    "    ' Data $\\chi^2/n_{DOF}$': \"{:.2f}\".format(item['chi2'])\n",
    "    }\n",
    "    fit_list.append(_fit_dict)"
   ]
  },
  {
   "cell_type": "code",
   "execution_count": null,
   "id": "a28d3a0b",
   "metadata": {},
   "outputs": [],
   "source": [
    "with open('{}/fit_stats_data_{}_ismc{}.txt'.format(outdir,era, ismc), 'w') as f:\n",
    "    latex = pd.DataFrame(fit_list).to_latex()\n",
    "    print(latex)\n",
    "    f.write(latex)"
   ]
  },
  {
   "cell_type": "code",
   "execution_count": null,
   "id": "6a49562e",
   "metadata": {},
   "outputs": [],
   "source": [
    "#format dict for saving\n",
    "limit_dict = {}\n",
    "for reg, item in fit_dict.items():\n",
    "    limit_dict[reg] = item['fit_hist'].to_dict()"
   ]
  },
  {
   "cell_type": "code",
   "execution_count": null,
   "id": "b29a66dc",
   "metadata": {
    "scrolled": false
   },
   "outputs": [],
   "source": [
    "import pickle as pkl\n",
    "with open('{}/abcd_dict_data_{}_ismc{}.pkl'.format(outdir, era, ismc), 'wb') as f:\n",
    "    pkl.dump(limit_dict, f)"
   ]
  },
  {
   "cell_type": "code",
   "execution_count": null,
   "id": "dd52e5d8",
   "metadata": {},
   "outputs": [],
   "source": [
    "fit_dict_skimmed = {}\n",
    "for k, v in fit_dict.items():\n",
    "    v = {k2:v2 for k2,v2 in v.items() if not k2 in ['fig', 'ax','rax']}\n",
    "    fit_dict_skimmed[k] = v"
   ]
  },
  {
   "cell_type": "code",
   "execution_count": null,
   "id": "867811b2",
   "metadata": {
    "scrolled": true
   },
   "outputs": [],
   "source": [
    "import pickle as pkl\n",
    "with open('{}/fit_dict_data_{}_ismc{}.pkl'.format(outdir, era, ismc), 'wb') as f:\n",
    "    pkl.dump(fit_dict_skimmed, f)"
   ]
  },
  {
   "cell_type": "code",
   "execution_count": null,
   "id": "d27ee448",
   "metadata": {},
   "outputs": [],
   "source": []
  },
  {
   "cell_type": "code",
   "execution_count": null,
   "id": "3ea1bf7d",
   "metadata": {},
   "outputs": [],
   "source": []
  },
  {
   "cell_type": "code",
   "execution_count": null,
   "id": "32dfb041",
   "metadata": {},
   "outputs": [],
   "source": []
  },
  {
   "cell_type": "code",
   "execution_count": null,
   "id": "da4d5fba",
   "metadata": {},
   "outputs": [],
   "source": []
  },
  {
   "cell_type": "code",
   "execution_count": null,
   "id": "6d17e773",
   "metadata": {},
   "outputs": [],
   "source": []
  },
  {
   "cell_type": "code",
   "execution_count": null,
   "id": "d2683f32",
   "metadata": {},
   "outputs": [],
   "source": []
  },
  {
   "cell_type": "code",
   "execution_count": null,
   "id": "b6f241af",
   "metadata": {},
   "outputs": [],
   "source": []
  }
 ],
 "metadata": {
  "kernelspec": {
   "display_name": "bff_12_1",
   "language": "python",
   "name": "bff_12_1"
  },
  "language_info": {
   "codemirror_mode": {
    "name": "ipython",
    "version": 3
   },
   "file_extension": ".py",
   "mimetype": "text/x-python",
   "name": "python",
   "nbconvert_exporter": "python",
   "pygments_lexer": "ipython3",
   "version": "3.9.6"
  }
 },
 "nbformat": 4,
 "nbformat_minor": 5
}
