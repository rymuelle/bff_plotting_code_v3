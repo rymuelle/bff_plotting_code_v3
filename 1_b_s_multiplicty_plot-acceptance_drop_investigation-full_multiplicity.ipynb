{
 "cells": [
  {
   "cell_type": "code",
   "execution_count": null,
   "id": "7c7e2cee",
   "metadata": {},
   "outputs": [],
   "source": [
    "import pandas as pd\n",
    "import numpy as np\n",
    "import matplotlib.pyplot as plt\n",
    "from glob import glob\n",
    "import uncertainties as unc\n",
    "from uncertainties import unumpy"
   ]
  },
  {
   "cell_type": "code",
   "execution_count": null,
   "id": "e7450150",
   "metadata": {},
   "outputs": [],
   "source": [
    "from src.plotting_tools.cms_format import cms_format_fig, cms_style\n",
    "cms_style()\n",
    "from src.data_tools.get_file_list import get_file_df\n",
    "from src.data_tools.apply_cuts_v2 import  process_sample\n",
    "from src.plotting_tools.SysHist import make_sys_hist, SysHist\n",
    "from src.assets.lumi import lumi_dict\n",
    "from src.assets.regions import region_and_label"
   ]
  },
  {
   "cell_type": "code",
   "execution_count": null,
   "id": "94af6f75",
   "metadata": {},
   "outputs": [],
   "source": [
    "output_dir = '/eos/cms/store/group/phys_exotica/bffZprime/assets_june_23'\n",
    "era='2018'"
   ]
  },
  {
   "cell_type": "code",
   "execution_count": null,
   "id": "f4a77eb3",
   "metadata": {},
   "outputs": [],
   "source": [
    "skimmed_df = get_file_df(path = \"{}/data\".format(output_dir))\n",
    "skimmed_df = skimmed_df[skimmed_df.category=='BFF']"
   ]
  },
  {
   "cell_type": "code",
   "execution_count": null,
   "id": "22f7fe64",
   "metadata": {},
   "outputs": [],
   "source": [
    "unskimmed_df = get_file_df(path = \"{}/data_gen_b_s\".format(output_dir))\n",
    "unskimmed_df = unskimmed_df[unskimmed_df.category=='BFF']"
   ]
  },
  {
   "cell_type": "code",
   "execution_count": null,
   "id": "2b071a5b",
   "metadata": {},
   "outputs": [],
   "source": [
    "def isKthBitSet(value, k):\n",
    "    return bool(value & (1 << k))\n",
    "\n",
    "def multiplicity(value):\n",
    "    multi = -1\n",
    "    # in some cases, multple bits can be set, e.g. it is in the 0b state, so the 0 bit is added, but it has 2 outgoing bs\n",
    "    # so only the highest multplicity case is taken\n",
    "    for i in range(18):\n",
    "        # no 2s\n",
    "        #if i in [15,16]: continue\n",
    "        if isKthBitSet(value, i): multi = i\n",
    "    return multi\n",
    "# 0j: 0,1, 1b: 2,3,4, 1s: 5,6, 1b+1s: 7,8,9,10, 2b: 11,12,13,14, 2s: 15, 16, underlying b jet, but otherwise 0b case: 17\n",
    "def is0b(value):\n",
    "    return multiplicity(value) in [0,1, 17]\n",
    "\n",
    "def is1b(value):\n",
    "    return multiplicity(value) in [2,3,4]\n",
    "\n",
    "def is1s(value):\n",
    "    return multiplicity(value) in [5,6]\n",
    "\n",
    "def is1b1s(value):\n",
    "    return multiplicity(value) in [7,8,9,10]\n",
    "\n",
    "def is2b(value):\n",
    "    return multiplicity(value) in [11,12,13,14]\n",
    "\n",
    "\n",
    "def which_bits(value):\n",
    "    string = \"\"\n",
    "    for i in range(18):\n",
    "        if isKthBitSet(value, i): string+=\"{},\".format(i)\n",
    "    return string[:-1]"
   ]
  },
  {
   "cell_type": "code",
   "execution_count": null,
   "id": "a5c91ceb",
   "metadata": {},
   "outputs": [],
   "source": [
    "def make_hist(row):\n",
    "    tdf = pd.read_csv(row.file)\n",
    "    multiplicity_values = tdf.GenMultiplicity.apply(multiplicity)\n",
    "    unique = range(22)\n",
    "    return {**{value: (multiplicity_values==value).sum() for value in unique}, **row.to_dict()}"
   ]
  },
  {
   "cell_type": "code",
   "execution_count": null,
   "id": "a280f841",
   "metadata": {
    "scrolled": true
   },
   "outputs": [],
   "source": [
    "def make_sum(_df, weight, postfix=''):\n",
    "    #only takes constant weights\n",
    "    tsum = np.histogram(_df.GenMultiplicity.apply(multiplicity), bins=np.linspace(-0.5,23.5, 24))[0]\n",
    "    return  tsum*np.mean(weight), tsum**.5*np.mean(weight)"
   ]
  },
  {
   "cell_type": "code",
   "execution_count": null,
   "id": "7eb65c59",
   "metadata": {},
   "outputs": [],
   "source": [
    "def setup_df(_df, recompute_weights=False, xsec=0, lumi=0):\n",
    "    #select states\n",
    "    _df['0b'] = _df.GenMultiplicity.apply(is0b)\n",
    "    _df['1b'] = _df.GenMultiplicity.apply(is1b)\n",
    "    _df['1s'] = _df.GenMultiplicity.apply(is1s)\n",
    "    _df['1b1s'] = _df.GenMultiplicity.apply(is1b1s)\n",
    "    _df['2b'] = _df.GenMultiplicity.apply(is2b)\n",
    "    _df['uncategorized'] =  1-(_df['0b'] | _df['1b'] | _df['1s'] | _df['1b1s'] | _df['2b'])\n",
    "    # general multplicity\n",
    "    _df['multiplicity'] = _df.GenMultiplicity.apply(multiplicity)\n",
    "    \n",
    "    #set weights\n",
    "    if xsec:\n",
    "        nEvents = _df.shape[0]\n",
    "        uweight = float(xsec)*lumi/float(nEvents)\n",
    "        _df['sample_weight'] = uweight \n",
    "    if recompute_weights:\n",
    "        _df['fsr_isr_weightDown'] = _df['Weight_ISRFSR_Down']/_df['Weight']\n",
    "        _df['fsr_isr_weightUp'] = _df['Weight_ISRFSR_Up']/_df['Weight']\n",
    "        _df['pdf_weightDown'] = _df['Weight_PDF_Down']/_df['Weight']\n",
    "        _df['pdf_weightUp'] = _df['Weight_PDF_Up']/_df['Weight']\n",
    "    _df['Weight_ISRFSR_Down'] = _df['fsr_isr_weightDown']*_df['sample_weight']\n",
    "    _df['Weight_ISRFSR_Up'] = _df['fsr_isr_weightUp']*_df['sample_weight']\n",
    "    _df['Weight_PDF_Down'] = _df['pdf_weightDown']*_df['sample_weight']\n",
    "    _df['Weight_PDF_Up'] = _df['pdf_weightUp']*_df['sample_weight']  \n",
    "  \n",
    "    return _df"
   ]
  },
  {
   "cell_type": "code",
   "execution_count": null,
   "id": "0a3c16cb",
   "metadata": {},
   "outputs": [],
   "source": [
    "def make_ratio(nom_dict, denom_dict):\n",
    "    def safe_divide(a, b):\n",
    "        if b==0: return np.inf\n",
    "        else: return a/b\n",
    "    return  {x[0]+\"_ratio\": safe_divide(x[1],y[1]) for x, y in zip(nom_dict.items(), denom_dict.items())}"
   ]
  },
  {
   "cell_type": "code",
   "execution_count": null,
   "id": "0598798f",
   "metadata": {},
   "outputs": [],
   "source": [
    "def do_row(row):\n",
    "    era = row.era\n",
    "    lumi = lumi_dict[str(row.era)]\n",
    "    # get dfs\n",
    "    tudf = unskimmed_df[(unskimmed_df.mass==row.mass)&\n",
    "                       (unskimmed_df.dbs==row.dbs) & \n",
    "                       (unskimmed_df.era==row.era)]\n",
    "    #unskimmed df\n",
    "    urow = tudf.iloc[0]\n",
    "    print(urow.file)\n",
    "    udf = pd.read_csv(urow.file)\n",
    "    print(urow.file)\n",
    "    udf = setup_df(udf, xsec=urow.xsec, lumi=lumi)\n",
    "    \n",
    "    #processes sample\n",
    "    df = process_sample(row, era, verbose=True, trigger_fix=True)\n",
    "    df = setup_df(df, recompute_weights=True)\n",
    "    \n",
    "    # nominal weight\n",
    "    for weight in [\"sample_weight\",  \"Weight_ISRFSR_Up\", \"Weight_ISRFSR_Down\", \"Weight_PDF_Up\", \"Weight_PDF_Down\"]:\n",
    "        u_sum, _ = make_sum(udf, udf[weight], postfix='_u')\n",
    "        for reg in ['SR1_jet_nom_muon_corrected_pt_ele_pt', 'SR2_jet_nom_muon_corrected_pt_ele_pt']: \n",
    "            tdf = df[df[reg]==1]\n",
    "            regstr = 'SR1' if 'SR1' in reg else 'SR2'\n",
    "    \n",
    "            r_sum, r_err = make_sum(tdf, tdf[weight])\n",
    "            \n",
    "            r_ratio = r_sum/u_sum\n",
    "            r_err_ratio = r_err/u_sum\n",
    "            r_ratio_ufloat = np.array([unc.ufloat(r, re) for r, re in zip(r_ratio, r_err_ratio)])\n",
    "            reg_hist.append({\"era\": row.era, \"mass\": int(row.mass), \"dbs\": row.dbs,\n",
    "                             \"reg\": regstr, \"weight\": weight, \n",
    "                            \"r_sum\": list(r_sum), \"r_err\":list(r_err), \n",
    "                             \"u_sum\": list(u_sum), \"r_ratio_ufloat\": list(r_ratio_ufloat)})\n",
    " "
   ]
  },
  {
   "cell_type": "code",
   "execution_count": null,
   "id": "d4ea8d8c",
   "metadata": {
    "scrolled": true
   },
   "outputs": [],
   "source": [
    "from time import perf_counter \n",
    "import datetime\n",
    "\n",
    "reg_hist = []\n",
    "sdf = skimmed_df\n",
    "j = 0 \n",
    "start = perf_counter()\n",
    "for i, row in sdf.iterrows():\n",
    "    j+=1\n",
    "    print(\"-----\")\n",
    "    #if row.mass > 350: continue\n",
    "    print(row)\n",
    "    do_row(row)\n",
    "    \n",
    "    # time estimate\n",
    "    delta = perf_counter() - start\n",
    "    timeper = delta/j\n",
    "    time_remaining = (sdf.shape[0] - j)*timeper\n",
    "    print(j, sdf.shape[0], \"{:.1f}\".format(j/sdf.shape[0]), timeper, str(datetime.timedelta(seconds=time_remaining)))\n"
   ]
  },
  {
   "cell_type": "code",
   "execution_count": null,
   "id": "d802a5f5",
   "metadata": {},
   "outputs": [],
   "source": [
    "tempdf = pd.DataFrame(reg_hist)\n",
    "tempdf.to_csv(output_dir+\"/data_gen_b_s/multiplicity_eff.csv\")"
   ]
  },
  {
   "cell_type": "code",
   "execution_count": null,
   "id": "8381c90e",
   "metadata": {},
   "outputs": [],
   "source": [
    "break"
   ]
  },
  {
   "cell_type": "code",
   "execution_count": null,
   "id": "247449c4",
   "metadata": {},
   "outputs": [],
   "source": []
  },
  {
   "cell_type": "code",
   "execution_count": null,
   "id": "3c5cba59",
   "metadata": {},
   "outputs": [],
   "source": []
  },
  {
   "cell_type": "code",
   "execution_count": null,
   "id": "c20f9955",
   "metadata": {},
   "outputs": [],
   "source": []
  },
  {
   "cell_type": "code",
   "execution_count": null,
   "id": "a821c8ed",
   "metadata": {},
   "outputs": [],
   "source": []
  },
  {
   "cell_type": "code",
   "execution_count": null,
   "id": "0ef972e2",
   "metadata": {},
   "outputs": [],
   "source": []
  },
  {
   "cell_type": "code",
   "execution_count": null,
   "id": "abf6daa9",
   "metadata": {},
   "outputs": [],
   "source": [
    "def list_from_str(string):\n",
    "    arr = string.strip('][').split(', ')\n",
    "    if '+/-' in arr[0]: arr = [unc.ufloat_fromstr(x) for x in arr]\n",
    "    else: arr = [float(x) for x in arr]\n",
    "    return np.array(arr)"
   ]
  },
  {
   "cell_type": "code",
   "execution_count": null,
   "id": "b25459a0",
   "metadata": {},
   "outputs": [],
   "source": [
    "rdf = pd.read_csv(output_dir+\"/data_gen_b_s/multiplicity_eff.csv\")\n",
    "rdf['r_sum'] = rdf.r_sum.apply(list_from_str)\n",
    "rdf['r_err'] = rdf.r_err.apply(list_from_str)\n",
    "rdf['u_sum'] = rdf.u_sum.apply(list_from_str)\n",
    "rdf['r_ratio_ufloat'] = rdf.r_ratio_ufloat.apply(list_from_str)\n",
    "\n",
    "rdf = rdf[ ~((rdf.mass==125) & (rdf.dbs==1.0) & (rdf.era>2016))]"
   ]
  },
  {
   "cell_type": "code",
   "execution_count": null,
   "id": "000d434c",
   "metadata": {},
   "outputs": [],
   "source": [
    "# this is necesary because I set zero denoms to 1 previously\n",
    "def set_one_zero(arr): arr[arr==1] = 0\n",
    "rdf.u_sum.apply(set_one_zero)"
   ]
  },
  {
   "cell_type": "code",
   "execution_count": null,
   "id": "fc4b0091",
   "metadata": {},
   "outputs": [],
   "source": [
    "def select(df, **kwargs):\n",
    "    _df = df\n",
    "    for k, v in kwargs.items():\n",
    "        _df = _df[_df[k]==v]\n",
    "    return _df"
   ]
  },
  {
   "cell_type": "code",
   "execution_count": null,
   "id": "27255a85",
   "metadata": {
    "scrolled": true
   },
   "outputs": [],
   "source": [
    "for mul in range(23):\n",
    "    for reg in ['SR1', 'SR2']:\n",
    "        #make era, dbs plot\n",
    "        fig, ax = plt.subplots()\n",
    "        cms_format_fig('Run 2', ax)\n",
    "        #ax.set_ylim(0,25)\n",
    "        ax.set_ylabel('Acceptance')\n",
    "        ax.set_xlabel('$m_{Z^{\\prime}}$ [GeV]')\n",
    "\n",
    "        for c, era in zip(['r', 'g', 'b'], [2016, 2017, 2018]):\n",
    "            trdf = rdf[(rdf.era==era) & (rdf.reg==reg) & (rdf.mass<400) ]\n",
    "            for ls, dbs in zip(['solid', 'dashed', 'dotted'], trdf.dbs.unique()):\n",
    "                tdrdf = trdf[trdf.dbs==dbs]\n",
    "                tdrdf = tdrdf.sort_values('mass')\n",
    "                r_sum = tdrdf.r_sum.apply(lambda x: x[mul])\n",
    "                r_err = tdrdf.r_err.apply(lambda x: x[mul])\n",
    "                u_sum = tdrdf.u_sum.apply(lambda x: x[mul])\n",
    "                ax.errorbar(tdrdf.mass, r_sum/u_sum, yerr=r_err/u_sum , color=c, ls=ls, label='{} {}'.format(dbs, era))\n",
    "        plt.legend(title='{} {}'.format(mul, reg), ncol=2)\n",
    "        plt.show()\n",
    "        plt.close()"
   ]
  },
  {
   "cell_type": "code",
   "execution_count": null,
   "id": "c1bc08d7",
   "metadata": {},
   "outputs": [],
   "source": [
    "# combine multiplicities\n",
    "def sum_via_index(arr, *args):\n",
    "    value = 0\n",
    "    for v in args:\n",
    "        value += arr[v]\n",
    "    return value\n",
    "def ratio_via_index(_df, *args):\n",
    "    r_sum = sum_via_index(_df.r_sum_unp, *args)\n",
    "    u_sum = sum_via_index(_df.u_sum, *args)\n",
    "    return r_sum/u_sum\n",
    "def make_unumpy(row):\n",
    "    return unumpy.uarray(row.r_sum, row.r_err)"
   ]
  },
  {
   "cell_type": "code",
   "execution_count": null,
   "id": "05d2d558",
   "metadata": {},
   "outputs": [],
   "source": [
    "accept_list = []\n",
    "for reg in ['SR1', 'SR2']:\n",
    "    for mass in rdf.mass.unique():\n",
    "        print(mass, reg)\n",
    "        tdf = select(rdf, reg=reg, mass=mass)\n",
    "        nera = len(tdf.era.unique())\n",
    "        if nera!=3: continue\n",
    "        tdf['r_sum_unp'] = tdf.apply(make_unumpy, axis=1)            \n",
    "        stdf = tdf.sum()\n",
    "        reg_mass_dict = {}\n",
    "        reg_mass_dict['0b(1b)'] = ratio_via_index(stdf, 1, 21)\n",
    "        reg_mass_dict['0b(2b)'] = ratio_via_index(stdf, 0, 17)\n",
    "        reg_mass_dict['1b'] = ratio_via_index(stdf, 2, 3, 4, 10)\n",
    "        reg_mass_dict['1s'] = ratio_via_index(stdf, 5,6)\n",
    "        reg_mass_dict['1b+1s'] = ratio_via_index(stdf, 7, 8,9, 19)\n",
    "        reg_mass_dict['2b'] = ratio_via_index(stdf, 11,12,13,14)\n",
    "        reg_mass_dict['2s'] = ratio_via_index(stdf,  15, 16)\n",
    "        reg_mass_dict['mass'] = mass\n",
    "        reg_mass_dict['reg'] = reg\n",
    "        accept_list.append(reg_mass_dict)\n",
    "        \n",
    "        "
   ]
  },
  {
   "cell_type": "code",
   "execution_count": null,
   "id": "ce16f593",
   "metadata": {},
   "outputs": [],
   "source": [
    "acc_df = pd.DataFrame(accept_list)"
   ]
  },
  {
   "cell_type": "code",
   "execution_count": null,
   "id": "a48f2405",
   "metadata": {},
   "outputs": [],
   "source": [
    "def plot_reg(ax, _df, key, **kwargs):\n",
    "    _tacc_df = tacc_df.sort_values('mass')\n",
    "    nom, std = unumpy.nominal_values(_tacc_df[key]), unumpy.std_devs(_tacc_df[key])\n",
    "    ax.errorbar(_tacc_df.mass, nom*100, yerr=std*100, **kwargs)"
   ]
  },
  {
   "cell_type": "code",
   "execution_count": null,
   "id": "a463f9e2",
   "metadata": {},
   "outputs": [],
   "source": [
    "for reg in ['SR1', 'SR2']:\n",
    "    tacc_df = acc_df[acc_df.reg==reg]\n",
    "    tacc_df = tacc_df[tacc_df.mass <400]\n",
    "    \n",
    "    fig, ax = plt.subplots()\n",
    "    cms_format_fig('Run 2', ax)\n",
    "    ax.set_ylim(0,25)\n",
    "    ax.set_ylabel('Acceptance [\\%]')\n",
    "    ax.set_xlabel('$m_{Z^{\\prime}}$ [GeV]')\n",
    "    \n",
    "    plot_reg(ax, tacc_df, '0b(1b)', label='0b(1b)')\n",
    "    plot_reg(ax, tacc_df, '0b(2b)', label='0b(2b)')\n",
    "\n",
    "    plot_reg(ax, tacc_df, '1b', label='1b')\n",
    "    plot_reg(ax, tacc_df, '1s', label='1s')\n",
    "    plot_reg(ax, tacc_df, '1b+1s', label='1b+1s')\n",
    "    plot_reg(ax, tacc_df, '2b', label='2b')\n",
    "    #plot_reg(ax, tacc_df, '2s', label='2s')\n",
    "    plt.legend()\n",
    "    plt.ylim(0, 25)\n",
    "    fig.savefig('{}/gen_b_s/{}_acceptance.pdf'.format(output_dir, reg))\n",
    "    plt.show()\n",
    "    plt.clf()"
   ]
  },
  {
   "cell_type": "code",
   "execution_count": null,
   "id": "fc451573",
   "metadata": {},
   "outputs": [],
   "source": [
    "acc_df"
   ]
  },
  {
   "cell_type": "code",
   "execution_count": null,
   "id": "65888ed4",
   "metadata": {},
   "outputs": [],
   "source": []
  },
  {
   "cell_type": "code",
   "execution_count": null,
   "id": "1f5e1dfa",
   "metadata": {},
   "outputs": [],
   "source": []
  },
  {
   "cell_type": "code",
   "execution_count": null,
   "id": "e3a800fc",
   "metadata": {},
   "outputs": [],
   "source": []
  },
  {
   "cell_type": "code",
   "execution_count": null,
   "id": "2e501840",
   "metadata": {},
   "outputs": [],
   "source": []
  },
  {
   "cell_type": "code",
   "execution_count": null,
   "id": "fc840254",
   "metadata": {},
   "outputs": [],
   "source": []
  },
  {
   "cell_type": "code",
   "execution_count": null,
   "id": "27d081d0",
   "metadata": {},
   "outputs": [],
   "source": []
  },
  {
   "cell_type": "code",
   "execution_count": null,
   "id": "a0d525e9",
   "metadata": {},
   "outputs": [],
   "source": []
  },
  {
   "cell_type": "code",
   "execution_count": null,
   "id": "252dc1aa",
   "metadata": {},
   "outputs": [],
   "source": []
  },
  {
   "cell_type": "code",
   "execution_count": null,
   "id": "d0b25555",
   "metadata": {},
   "outputs": [],
   "source": []
  },
  {
   "cell_type": "code",
   "execution_count": null,
   "id": "43269729",
   "metadata": {},
   "outputs": [],
   "source": []
  },
  {
   "cell_type": "code",
   "execution_count": null,
   "id": "7edf6dc2",
   "metadata": {},
   "outputs": [],
   "source": []
  },
  {
   "cell_type": "code",
   "execution_count": null,
   "id": "da6cdb3c",
   "metadata": {},
   "outputs": [],
   "source": []
  },
  {
   "cell_type": "code",
   "execution_count": null,
   "id": "22899b08",
   "metadata": {},
   "outputs": [],
   "source": []
  },
  {
   "cell_type": "code",
   "execution_count": null,
   "id": "0e043a47",
   "metadata": {},
   "outputs": [],
   "source": []
  },
  {
   "cell_type": "code",
   "execution_count": null,
   "id": "beb6c52b",
   "metadata": {},
   "outputs": [],
   "source": [
    "fig, ax = plt.subplots()\n",
    "for reg in ['SR1', 'SR2']:\n",
    "    tacc_df = acc_df[acc_df.reg==reg]\n",
    "    tacc_df = tacc_df[tacc_df.mass <400]\n",
    "    \n",
    "    \n",
    "    cms_format_fig('Run 2', ax)\n",
    "    ax.set_ylim(0,25)\n",
    "    ax.set_ylabel('Acceptance [\\%]')\n",
    "    ax.set_xlabel('$m_{Z^{\\prime}}$ [GeV]')\n",
    "\n",
    "    plot_reg(ax, tacc_df, '1b', label='1b {}'.format(reg))\n",
    "    plt.legend()\n",
    "    plt.ylim(0, .25)\n",
    "\n",
    "    #plt.show()\n",
    "    #plt.clf()"
   ]
  },
  {
   "cell_type": "code",
   "execution_count": null,
   "id": "20215499",
   "metadata": {},
   "outputs": [],
   "source": [
    "for reg in ['SR1', 'SR2']:\n",
    "    tacc_df = acc_df[acc_df.reg==reg]\n",
    "    tacc_df = tacc_df[tacc_df.mass <400]\n",
    "    \n",
    "    fig, ax = plt.subplots()\n",
    "    cms_format_fig('Run 2', ax)\n",
    "    ax.set_ylim(0,25)\n",
    "    ax.set_ylabel('Acceptance [\\%]')\n",
    "    ax.set_xlabel('$m_{Z^{\\prime}}$ [GeV]')\n",
    "    \n",
    "    plot_reg(ax, tacc_df, '0b', label='0b')\n",
    "    plot_reg(ax, tacc_df, '1b', label='1b')\n",
    "    plot_reg(ax, tacc_df, '1s', label='1s')\n",
    "    plot_reg(ax, tacc_df, '1b+1s', label='1b+1s')\n",
    "    plot_reg(ax, tacc_df, '2b', label='2b')\n",
    "    plt.legend()\n",
    "    plt.ylim(0, .25)\n",
    "\n",
    "    plt.show()\n",
    "    plt.clf()"
   ]
  },
  {
   "cell_type": "code",
   "execution_count": null,
   "id": "15e08072",
   "metadata": {},
   "outputs": [],
   "source": [
    "for reg in ['SR1', 'SR2']:\n",
    "    tacc_df = acc_df[acc_df.reg==reg]\n",
    "    tacc_df = tacc_df[tacc_df.mass <400]\n",
    "    \n",
    "    fig, ax = plt.subplots()\n",
    "    cms_format_fig('Run 2', ax)\n",
    "    ax.set_ylim(0,25)\n",
    "    ax.set_ylabel('Acceptance [\\%]')\n",
    "    ax.set_xlabel('$m_{Z^{\\prime}}$ [GeV]')\n",
    "    \n",
    "    plot_reg(ax, tacc_df, '0b', label='0b')\n",
    "    plot_reg(ax, tacc_df, '1b', label='1b')\n",
    "    plot_reg(ax, tacc_df, '1s', label='1s')\n",
    "    plot_reg(ax, tacc_df, '1b+1s', label='1b+1s')\n",
    "    plot_reg(ax, tacc_df, '2b', label='2b')\n",
    "    plt.legend()\n",
    "    plt.ylim(0, .25)\n",
    "\n",
    "    plt.show()\n",
    "    plt.clf()"
   ]
  },
  {
   "cell_type": "code",
   "execution_count": null,
   "id": "025946f9",
   "metadata": {},
   "outputs": [],
   "source": [
    "p04s = select(rdf, reg='SR1', mass=350, dbs=0.04)"
   ]
  },
  {
   "cell_type": "code",
   "execution_count": null,
   "id": "6de2f98c",
   "metadata": {},
   "outputs": [],
   "source": [
    "p5s = select(rdf, reg='SR1', mass=350, dbs=0.5)"
   ]
  },
  {
   "cell_type": "code",
   "execution_count": null,
   "id": "130cd263",
   "metadata": {},
   "outputs": [],
   "source": [
    "for i, (p5, p04) in enumerate(zip(p5s.r_ratio_ufloat.sum(), p04s.r_ratio_ufloat.sum())):\n",
    "    if p04*p5 == 0: continue\n",
    "    if abs(unc.nominal_value(p5-p04)) < abs(unc.std_dev(p5-p04)): continue\n",
    "    print(\"{} {:.2f} {:.2f} {:.2f}\".format( i, (p5-p04)*100/3, p5*100/3, p04*100/3))"
   ]
  },
  {
   "cell_type": "code",
   "execution_count": null,
   "id": "deac22d6",
   "metadata": {},
   "outputs": [],
   "source": [
    "0, 2, 3"
   ]
  },
  {
   "cell_type": "code",
   "execution_count": null,
   "id": "e57bd46c",
   "metadata": {},
   "outputs": [],
   "source": [
    "reg_hist = []\n",
    "do_row(skimmed_df.loc[2])\n",
    "do_row(skimmed_df.loc[0])"
   ]
  },
  {
   "cell_type": "code",
   "execution_count": null,
   "id": "1fd80992",
   "metadata": {},
   "outputs": [],
   "source": [
    "df = pd.DataFrame(reg_hist)\n",
    "df = df[(df.weight=='sample_weight')]"
   ]
  },
  {
   "cell_type": "code",
   "execution_count": null,
   "id": "3d52592f",
   "metadata": {},
   "outputs": [],
   "source": [
    "df"
   ]
  },
  {
   "cell_type": "code",
   "execution_count": null,
   "id": "ef63cc0a",
   "metadata": {},
   "outputs": [],
   "source": [
    "for i, uflt in enumerate((df[df.reg=='SR1'].iloc[0].r_ratio_ufloat)):\n",
    "    print(i, uflt)\n",
    "    \n",
    "df[df.reg=='SR1'].iloc[0]"
   ]
  },
  {
   "cell_type": "code",
   "execution_count": null,
   "id": "d872cad5",
   "metadata": {},
   "outputs": [],
   "source": [
    "for i, uflt in enumerate((df[df.reg=='SR1'].iloc[1].r_ratio_ufloat)):\n",
    "    print(i, uflt)\n",
    "df[df.reg=='SR1'].iloc[1]"
   ]
  },
  {
   "cell_type": "code",
   "execution_count": null,
   "id": "db1948ea",
   "metadata": {},
   "outputs": [],
   "source": [
    "sum(df[df.reg=='SR1'].iloc[0].r_ratio_ufloat[2:5]), sum(df[df.reg=='SR1'].iloc[1].r_ratio_ufloat[2:5])"
   ]
  },
  {
   "cell_type": "code",
   "execution_count": null,
   "id": "84d65ed6",
   "metadata": {},
   "outputs": [],
   "source": [
    "0,3, 17"
   ]
  },
  {
   "cell_type": "code",
   "execution_count": null,
   "id": "44f85a36",
   "metadata": {},
   "outputs": [],
   "source": [
    "df150 = pd.read_csv(skimmed_df.file[5])\n",
    "df150 = df150[df150.SR2_jet_nom_muon_corrected_pt_ele_pt==1]\n",
    "df150.GenMultiplicity.apply(is1b1s).sum()/df125.shape[0]"
   ]
  },
  {
   "cell_type": "code",
   "execution_count": null,
   "id": "5aa435cf",
   "metadata": {
    "scrolled": true
   },
   "outputs": [],
   "source": [
    "from time import perf_counter \n",
    "import datetime\n",
    "\n",
    "reg_hist = []\n",
    "sdf = skimmed_df\n",
    "j = 0 \n",
    "start = perf_counter()\n",
    "for i, row in sdf.iterrows():\n",
    "    j+=1\n",
    "    print(\"-----\")\n",
    "    print(row)\n",
    "    do_row(row)\n",
    "    \n",
    "    # time estimate\n",
    "    delta = perf_counter() - start\n",
    "    timeper = delta/j\n",
    "    time_remaining = (sdf.shape[0] - j)*timeper\n",
    "    print(j, sdf.shape[0], \"{:.1f}\".format(j/sdf.shape[0]), timeper, str(datetime.timedelta(seconds=time_remaining)))\n"
   ]
  },
  {
   "cell_type": "code",
   "execution_count": null,
   "id": "aca19a8e",
   "metadata": {
    "scrolled": true
   },
   "outputs": [],
   "source": [
    "tempdf = pd.DataFrame(reg_hist)\n",
    "tempdf.to_csv(output_dir+\"/data_gen_b_s/efficency_df.csv\")"
   ]
  },
  {
   "cell_type": "code",
   "execution_count": null,
   "id": "73089f0f",
   "metadata": {},
   "outputs": [],
   "source": [
    "tempdf.to_csv(output_dir+\"/data_gen_b_s/efficency_df.csv\")"
   ]
  },
  {
   "cell_type": "code",
   "execution_count": null,
   "id": "64fee8fc",
   "metadata": {},
   "outputs": [],
   "source": [
    "rdf = pd.read_csv(output_dir+\"/data_gen_b_s/efficency_df.csv\")\n"
   ]
  },
  {
   "cell_type": "code",
   "execution_count": null,
   "id": "831b7587",
   "metadata": {},
   "outputs": [],
   "source": [
    "trdf = rdf[(rdf.reg=='SR2') & (rdf.weight=='sample_weight') & (rdf.mass<150)]"
   ]
  },
  {
   "cell_type": "code",
   "execution_count": null,
   "id": "b1073555",
   "metadata": {},
   "outputs": [],
   "source": [
    "trdf[['era', 'mass', 'dbs', 'reg', 'weight', '1b1s', '1b1s_u', '1b1s_ratio_ufloat']]"
   ]
  },
  {
   "cell_type": "code",
   "execution_count": null,
   "id": "ba4caefc",
   "metadata": {
    "scrolled": true
   },
   "outputs": [],
   "source": [
    "rdf = pd.read_csv(output_dir+\"/data_gen_b_s/efficency_df.csv\")\n",
    "rdf['0b_ratio_ufloat'] = rdf['0b_ratio_ufloat'].apply(unc.ufloat_fromstr)\n",
    "rdf['1b_ratio_ufloat'] = rdf['1b_ratio_ufloat'].apply(unc.ufloat_fromstr)\n",
    "rdf['1s_ratio_ufloat'] = rdf['1s_ratio_ufloat'].apply(unc.ufloat_fromstr)\n",
    "rdf['1b1s_ratio_ufloat'] = rdf['1b1s_ratio_ufloat'].apply(unc.ufloat_fromstr)\n",
    "rdf['2b_ratio_ufloat'] = rdf['2b_ratio_ufloat'].apply(unc.ufloat_fromstr)"
   ]
  },
  {
   "cell_type": "code",
   "execution_count": null,
   "id": "8310419a",
   "metadata": {},
   "outputs": [],
   "source": [
    "def weighted_mean(ufloats):\n",
    "    noms, stds = unumpy.nominal_values(ufloats), unumpy.std_devs(ufloats)\n",
    "    stds[stds==0]=np.inf\n",
    "    weights = 1/stds**2\n",
    "    return np.multiply(ufloats,weights).sum(axis=0)/weights.sum(axis=0)\n",
    "def average_df(**kwargs):\n",
    "    df_filter = []\n",
    "    for k,v in kwargs.items():\n",
    "        if len(df_filter) == 0 : df_filter = (rdf[k] == v)\n",
    "        else: df_filter = df_filter & (rdf[k] == v)   \n",
    "    \n",
    "    tdf = rdf[df_filter]\n",
    "    \n",
    "    multiplicities = tdf[['0b_ratio_ufloat', '1b_ratio_ufloat', '1s_ratio_ufloat', '1b1s_ratio_ufloat', '2b_ratio_ufloat']]\n",
    "    average =  weighted_mean(multiplicities)\n",
    "    return {**kwargs, **average.to_dict()}"
   ]
  },
  {
   "cell_type": "code",
   "execution_count": null,
   "id": "13b691ce",
   "metadata": {},
   "outputs": [],
   "source": [
    "average_list = []\n",
    "regions, masses, weights = rdf.reg.unique(), rdf.mass.unique(), rdf.weight.unique()\n",
    "for reg in regions:\n",
    "    print(reg)\n",
    "    for mass in masses:\n",
    "        print(\"\\t \", mass)\n",
    "        for weight in weights:\n",
    "            average_list.append(average_df(reg=reg, mass=mass, weight=weight))\n",
    "            "
   ]
  },
  {
   "cell_type": "code",
   "execution_count": null,
   "id": "b4cdce68",
   "metadata": {},
   "outputs": [],
   "source": [
    "average_df = pd.DataFrame(average_list)"
   ]
  },
  {
   "cell_type": "code",
   "execution_count": null,
   "id": "bd597e62",
   "metadata": {},
   "outputs": [],
   "source": [
    "average_df[(average_df.mass==125) & (average_df.weight==\"sample_weight\")]"
   ]
  },
  {
   "cell_type": "code",
   "execution_count": null,
   "id": "00295ce8",
   "metadata": {},
   "outputs": [],
   "source": [
    "def print_mass_reg(mass, reg):\n",
    "    def calc_nom(value): return unc.nominal_value(value)\n",
    "    def calc_std(value): return unc.std_dev(value)\n",
    "    def format_value(value): return \"{:.2f}%\".format(value*100)\n",
    "    #def format_value(value): return value\n",
    "    tdf = average_df[(average_df.mass==mass) & (average_df.reg==reg)]\n",
    "    keys = tdf.filter(regex='ratio').keys()\n",
    "    weights = ['Weight_ISRFSR_Up', 'Weight_ISRFSR_Down', 'Weight_PDF_Up', 'Weight_PDF_Down']\n",
    "    \n",
    "    row_list = []\n",
    "    for key in keys:\n",
    "        row_dict = {}\n",
    "        unom = tdf[(tdf.weight=='sample_weight')].iloc[0][key]\n",
    "        nom, std = calc_nom(unom), calc_std(unom) \n",
    "        \n",
    "        row_dict['mass'] = mass\n",
    "        row_dict['reg'] =  reg\n",
    "        row_dict['type'] = key.replace('_ratio_ufloat', '')\n",
    "        row_dict['acceptance'] = format_value(nom)\n",
    "        row_dict['statistical'] = format_value(std)\n",
    "        for w in weights:\n",
    "            sunom = tdf[(tdf.weight==w)].iloc[0][key]\n",
    "            snom = calc_nom(sunom)\n",
    "            row_dict[w] = format_value((snom-nom))\n",
    "        row_list.append(row_dict)        \n",
    "    return row_list"
   ]
  },
  {
   "cell_type": "code",
   "execution_count": null,
   "id": "8d260ec3",
   "metadata": {},
   "outputs": [],
   "source": [
    "row_lists = []\n",
    "for mass in [125, 150, 175, 200, 350]:\n",
    "    for reg in ['SR1', \"SR2\"]:\n",
    "        row_lists += print_mass_reg(mass, reg)"
   ]
  },
  {
   "cell_type": "code",
   "execution_count": null,
   "id": "7d16b597",
   "metadata": {},
   "outputs": [],
   "source": [
    "print_df = pd.DataFrame(row_lists)"
   ]
  },
  {
   "cell_type": "code",
   "execution_count": null,
   "id": "3a789b1b",
   "metadata": {},
   "outputs": [],
   "source": [
    "print_df.to_csv(output_dir+\"/data_gen_b_s/summary_df.csv\")"
   ]
  },
  {
   "cell_type": "code",
   "execution_count": null,
   "id": "afa03fc3",
   "metadata": {},
   "outputs": [],
   "source": [
    "###\n",
    "## seeing range of systematic \n",
    "###\n",
    "from scipy.optimize import curve_fit\n",
    "\n",
    "x = pd.concat([print_df.acceptance,print_df.acceptance])\n",
    "y = pd.concat([abs(print_df.Weight_ISRFSR_Up),abs(print_df.Weight_ISRFSR_Down)])\n",
    "yerr = pd.concat([abs(print_df.statistical),abs(print_df.statistical)])\n",
    "\n",
    "plt.errorbar(print_df.acceptance, abs(print_df.Weight_ISRFSR_Up), linestyle='', yerr=print_df.statistical)\n",
    "plt.errorbar(print_df.acceptance, abs(print_df.Weight_ISRFSR_Down), linestyle='', yerr=print_df.statistical)"
   ]
  },
  {
   "cell_type": "code",
   "execution_count": null,
   "id": "94dccf3a",
   "metadata": {
    "scrolled": false
   },
   "outputs": [],
   "source": [
    "for reg in ['SR1', 'SR2']:\n",
    "    fig, ax = plt.subplots()\n",
    "    cms_format_fig('Run 2', ax)\n",
    "    ax.set_ylim(0,25)\n",
    "    ax.set_ylabel('Acceptance [\\%]')\n",
    "    ax.set_xlabel('$m_{Z^{\\prime}}$ [GeV]')\n",
    "    for fs_type in print_df.type.unique():\n",
    "        \n",
    "        tdf = print_df[(print_df.reg==reg) & (print_df.type==fs_type)]\n",
    "        if fs_type =='1b1s': fs_type ='1b+1s'\n",
    "        ax.errorbar(tdf.mass, tdf.acceptance*100, yerr=tdf.statistical*100, label=fs_type)\n",
    "    ax.legend()\n",
    "    fig.savefig('{}/gen_b_s/{}_acceptance.pdf'.format(output_dir, reg))\n",
    "    "
   ]
  },
  {
   "cell_type": "code",
   "execution_count": null,
   "id": "c0fb0b54",
   "metadata": {},
   "outputs": [],
   "source": [
    "'{}/gen_b_s/{}_acceptance.pdf'.format(output_dir, reg)"
   ]
  },
  {
   "cell_type": "code",
   "execution_count": null,
   "id": "f6b27658",
   "metadata": {},
   "outputs": [],
   "source": [
    "print(print_df[print_df.mass==125].to_latex(index=False))"
   ]
  },
  {
   "cell_type": "code",
   "execution_count": null,
   "id": "8fbd6a5e",
   "metadata": {},
   "outputs": [],
   "source": []
  },
  {
   "cell_type": "code",
   "execution_count": null,
   "id": "bf1a0183",
   "metadata": {
    "scrolled": true
   },
   "outputs": [],
   "source": [
    "a_list = []\n",
    "for reg in ['SR1', 'SR2']:\n",
    "    for ctype in ['0b', '1b', '1s', '1b1s', '2b']:\n",
    "    \n",
    "        a_list.append({\"reg\": reg, \"type\":ctype, **print_df[(print_df.type==ctype) & (print_df.reg==reg)].mean().to_dict()})"
   ]
  },
  {
   "cell_type": "code",
   "execution_count": null,
   "id": "cb44095d",
   "metadata": {},
   "outputs": [],
   "source": [
    "adf = pd.DataFrame(a_list)"
   ]
  },
  {
   "cell_type": "code",
   "execution_count": null,
   "id": "cc0ae16f",
   "metadata": {},
   "outputs": [],
   "source": [
    "adf[['reg', 'type', 'acceptance', 'statistical', 'Weight_ISRFSR_Up','Weight_ISRFSR_Down', 'Weight_PDF_Up', 'Weight_PDF_Down']]"
   ]
  },
  {
   "cell_type": "code",
   "execution_count": null,
   "id": "e591213c",
   "metadata": {},
   "outputs": [],
   "source": []
  },
  {
   "cell_type": "code",
   "execution_count": null,
   "id": "292d1982",
   "metadata": {},
   "outputs": [],
   "source": [
    "adf.mass.unique()"
   ]
  },
  {
   "cell_type": "code",
   "execution_count": null,
   "id": "07569dd9",
   "metadata": {},
   "outputs": [],
   "source": []
  },
  {
   "cell_type": "code",
   "execution_count": null,
   "id": "0375f11c",
   "metadata": {},
   "outputs": [],
   "source": []
  },
  {
   "cell_type": "code",
   "execution_count": null,
   "id": "86c19db9",
   "metadata": {
    "scrolled": true
   },
   "outputs": [],
   "source": [
    "def get_nom_values(series):\n",
    "    nom, err = series.apply(unumpy.nominal_values), series.apply(unumpy.std_devs)\n",
    "    return nom.to_numpy(), err.to_numpy()"
   ]
  },
  {
   "cell_type": "code",
   "execution_count": null,
   "id": "424e1855",
   "metadata": {},
   "outputs": [],
   "source": [
    "def plot_series(ax, tdf, key):\n",
    "    mass = tdf['mass']\n",
    "    nom, err = get_nom_values(tdf[key])\n",
    "    plt.errorbar(mass, nom, yerr=err, label=key)"
   ]
  },
  {
   "cell_type": "code",
   "execution_count": null,
   "id": "3f79de78",
   "metadata": {},
   "outputs": [],
   "source": [
    "values = []\n",
    "for w in rdf.weight.unique():\n",
    "    for mass in [350]:\n",
    "        values.append(average_df(mass=mass, reg='SR1', weight=w))\n",
    "tdf = pd.DataFrame(values)\n",
    "tdf"
   ]
  },
  {
   "cell_type": "code",
   "execution_count": null,
   "id": "98664f21",
   "metadata": {},
   "outputs": [],
   "source": [
    "def draw_by_reg_weight(ax, reg,  weight, ratio, **kwargs):\n",
    "    values = []\n",
    "    for mass in rdf.mass.unique():\n",
    "        values.append(average_df(mass=mass, reg=reg, weight=weight))\n",
    "    tdf = pd.DataFrame(values)\n",
    "\n",
    "    plot_series(ax, tdf, ratio)"
   ]
  },
  {
   "cell_type": "code",
   "execution_count": null,
   "id": "4d3558d6",
   "metadata": {},
   "outputs": [],
   "source": [
    "fig, ax = plt.subplots()\n",
    "for rat in ['rat_0b', 'rat_1b', 'rat_1s', 'rat_1b1s', 'rat_2b']:\n",
    "    for w in rdf.weight.unique():\n",
    "        draw_by_reg_weight(ax, 'SR1',  w, rat)\n"
   ]
  },
  {
   "cell_type": "code",
   "execution_count": null,
   "id": "9aadcf20",
   "metadata": {},
   "outputs": [],
   "source": [
    "fig, ax = plt.subplots()\n",
    "for rat in ['rat_0b', 'rat_1b', 'rat_1s', 'rat_1b1s', 'rat_2b']:\n",
    "    for w in rdf.weight.unique():\n",
    "        draw_by_reg_weight(ax, 'SR2',  w, rat)\n"
   ]
  },
  {
   "cell_type": "code",
   "execution_count": null,
   "id": "043ee449",
   "metadata": {},
   "outputs": [],
   "source": []
  },
  {
   "cell_type": "code",
   "execution_count": null,
   "id": "90c1ca0b",
   "metadata": {},
   "outputs": [],
   "source": [
    "dbs_test = []\n",
    "for mass in df.mass.unique():\n",
    "    dbs_test.append(average_df(mass=mass, reg=reg, weight=))\n",
    "    \n",
    "tdf = pd.DataFrame(dbs_test)\n",
    "\n",
    "fig, ax = plt.subplots(figsize=[10,10])\n",
    "plot_series(ax, '0b')\n",
    "plot_series(ax, '1b')\n",
    "plot_series(ax, '1s')\n",
    "plot_series(ax, '1b+1s')\n",
    "plot_series(ax, '2b')\n",
    "ax.legend(title='${}$'.format(region_and_label['SR2']))\n",
    "ax.set_ylim(0,25)\n",
    "cms_format_fig('Run 2', ax)\n",
    "ax.set_ylabel('Acceptance [\\%]')\n",
    "ax.set_xlabel('$m_{Z^{\\prime}}$ [GeV]')\n",
    "\n",
    "\n",
    "#fig.savefig('{}/gen_b_s/SR2_acceptance.pdf'.format(output_dir))\n",
    "print(tdf.to_latex(index=False))\n",
    "\n",
    "tdf"
   ]
  },
  {
   "cell_type": "code",
   "execution_count": null,
   "id": "6cab8d26",
   "metadata": {
    "scrolled": false
   },
   "outputs": [],
   "source": [
    "dbs_test = []\n",
    "for mass in df.mass.unique():\n",
    "    dbs_test.append(average_df(mass=mass, reg='SR1'))\n",
    "    \n",
    "tdf = pd.DataFrame(dbs_test)\n",
    "\n",
    "fig, ax = plt.subplots(figsize=[10,10])\n",
    "plot_series(ax, '0b')\n",
    "plot_series(ax, '1b')\n",
    "plot_series(ax, '1s')\n",
    "plot_series(ax, '1b+1s')\n",
    "plot_series(ax, '2b')\n",
    "ax.legend(title='${}$'.format(region_and_label['SR1']))\n",
    "cms_format_fig('Run 2', ax)\n",
    "ax.set_ylim(0,25)\n",
    "ax.set_ylabel('Acceptance [\\%]')\n",
    "ax.set_xlabel('$m_{Z^{\\prime}}$ [GeV]')\n",
    "fig.savefig('{}/gen_b_s/SR1_acceptance.pdf'.format(output_dir))\n",
    "\n",
    "print(tdf.to_latex(index=False))\n",
    "\n",
    "tdf"
   ]
  },
  {
   "cell_type": "code",
   "execution_count": null,
   "id": "b8e9ef83",
   "metadata": {},
   "outputs": [],
   "source": []
  },
  {
   "cell_type": "code",
   "execution_count": null,
   "id": "fe2712e1",
   "metadata": {},
   "outputs": [],
   "source": []
  },
  {
   "cell_type": "code",
   "execution_count": null,
   "id": "d4266b8a",
   "metadata": {},
   "outputs": [],
   "source": []
  },
  {
   "cell_type": "code",
   "execution_count": null,
   "id": "6c1a768a",
   "metadata": {},
   "outputs": [],
   "source": [
    "def draw_bar(values, log = False, **kwargs):\n",
    "    fig = plt.figure()\n",
    "    ax = fig.add_axes([0,0,1,1])\n",
    "    ax.bar(['0b', '1b', '1s', '1b+1s', '2b'], values, **kwargs)\n",
    "    ax.set_ylim([0,.5])\n",
    "    if log: plt.yscale('log')    \n",
    "    return fig, ax"
   ]
  },
  {
   "cell_type": "code",
   "execution_count": null,
   "id": "244c1a76",
   "metadata": {},
   "outputs": [],
   "source": [
    "def comparison_bar(uncut, region, reg):\n",
    "    # The data\n",
    "    indices = range(len(nom))\n",
    "    names = [\"\", '0b', '1b', '1s', '1b+1s', '2b']\n",
    "    # Calculate optimal width\n",
    "    width = np.min(np.diff(indices))/3.\n",
    "    \n",
    "    fig = plt.figure()\n",
    "    ax = fig.add_subplot(111)\n",
    "    ax.bar(indices-width/2.,uncut/np.sum(uncut),width,color='b',label='pre-cuts')\n",
    "    ax.bar(indices+width/2.,region/np.sum(uncut),width,color='r',label='{}'.format(reg))\n",
    "    #tiks = ax.get_xticks().tolist()\n",
    "    ax.axes.set_xticklabels(names)\n",
    "    #plt.yscale(\"log\")\n",
    "    return fig, ax\n"
   ]
  },
  {
   "cell_type": "code",
   "execution_count": null,
   "id": "4bb927f5",
   "metadata": {
    "scrolled": true
   },
   "outputs": [],
   "source": [
    "for row_dict in reg_hist:\n",
    "    era = row_dict['era']\n",
    "    \n",
    "    nom = unumpy.uarray(row_dict['region_hist'], row_dict['region_hist']**.5)\n",
    "    denom = unumpy.uarray(row_dict['uncut_hist'], row_dict['uncut_hist']**.5)\n",
    "    ratio  = nom/denom\n",
    "    nom, std = unumpy.nominal_values(ratio), unumpy.std_devs(ratio)\n",
    "    fig, ax = draw_bar(nom, yerr=std)\n",
    "    cms_format_fig(str(era), ax)\n",
    "    ax.set_xlabel(\"Final State b and s Multiplicity\")\n",
    "    ax.set_ylabel(\"Acceptance\")\n",
    "    title='{mass} GeV $\\delta_{{bs}}={dbs}$'.format(**row_dict)\n",
    "    ax.legend(title=title)\n",
    "    \n",
    "    reg = 'SR1' if 'SR1' in row_dict['reg'] else 'SR2'\n",
    "    fig, ax = comparison_bar(row_dict['uncut_hist'], row_dict['region_hist'], reg)\n",
    "    \n",
    "    ax.legend(title=title)\n",
    "    \n",
    "    propreg  = row_dict['region_hist']/np.sum(row_dict['uncut_hist'])\n",
    "    propunc = row_dict['uncut_hist']/np.sum(row_dict['uncut_hist'])\n",
    "    print(\"--------\")\n",
    "    print(title + \" \" + row_dict['reg'] + \" \" + str(era))\n",
    "    for bin_name, reg, unc, rat, std in zip(['0b', '1b', '1s', '1b+1s', '2b'], propreg, propunc, nom, std):\n",
    "    \n",
    "        print(\"{} & {:.2f} & {:.2f} & {:.2f} & {:.2f} \\\\\\\\\".format(bin_name, reg*100, unc*100, rat*100, std*100))\n",
    "        "
   ]
  },
  {
   "cell_type": "code",
   "execution_count": null,
   "id": "d28282e7",
   "metadata": {},
   "outputs": [],
   "source": []
  },
  {
   "cell_type": "code",
   "execution_count": null,
   "id": "dcc92edc",
   "metadata": {},
   "outputs": [],
   "source": []
  },
  {
   "cell_type": "code",
   "execution_count": null,
   "id": "d1094fba",
   "metadata": {},
   "outputs": [],
   "source": [
    "df.keys()"
   ]
  },
  {
   "cell_type": "code",
   "execution_count": null,
   "id": "98d94913",
   "metadata": {},
   "outputs": [],
   "source": []
  }
 ],
 "metadata": {
  "kernelspec": {
   "display_name": "bff_12_1",
   "language": "python",
   "name": "bff_12_1"
  },
  "language_info": {
   "codemirror_mode": {
    "name": "ipython",
    "version": 3
   },
   "file_extension": ".py",
   "mimetype": "text/x-python",
   "name": "python",
   "nbconvert_exporter": "python",
   "pygments_lexer": "ipython3",
   "version": "3.9.6"
  }
 },
 "nbformat": 4,
 "nbformat_minor": 5
}
