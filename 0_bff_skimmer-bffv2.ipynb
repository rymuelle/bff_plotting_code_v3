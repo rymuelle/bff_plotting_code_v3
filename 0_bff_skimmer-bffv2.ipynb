{
 "cells": [
  {
   "cell_type": "code",
   "execution_count": 1,
   "id": "interesting-native",
   "metadata": {},
   "outputs": [
    {
     "name": "stdout",
     "output_type": "stream",
     "text": [
      "Welcome to JupyROOT 6.22/09\n"
     ]
    }
   ],
   "source": [
    "from __future__ import print_function\n",
    "from glob import glob\n",
    "from ROOT import vector, RDataFrame, RDF, TFile, TH1F, TH2F, gInterpreter, TMath\n",
    "import ROOT\n",
    "import sys\n",
    "import yaml\n",
    "from src.RDF_tools.cpp_function import def_cpp\n",
    "from src.general.utils import toVector, get_files, prep_filelist\n",
    "import pandas as pd\n",
    "from time import perf_counter\n",
    "import uproot\n",
    "from pathlib import Path\n",
    "from os.path import exists\n",
    "from src.general.make_noise import beep_on_error, beep_repeat\n",
    "beep_on_error()"
   ]
  },
  {
   "cell_type": "code",
   "execution_count": 20,
   "id": "e7aff722",
   "metadata": {},
   "outputs": [],
   "source": [
    "from src.RDF_tools.df_definitions import *"
   ]
  },
  {
   "cell_type": "code",
   "execution_count": 21,
   "id": "f9463424",
   "metadata": {},
   "outputs": [
    {
     "name": "stdout",
     "output_type": "stream",
     "text": [
      "The autoreload extension is already loaded. To reload it, use:\n",
      "  %reload_ext autoreload\n"
     ]
    }
   ],
   "source": [
    "%load_ext autoreload\n",
    "%autoreload 2"
   ]
  },
  {
   "cell_type": "code",
   "execution_count": 22,
   "id": "concrete-sociology",
   "metadata": {
    "scrolled": true
   },
   "outputs": [
    {
     "data": {
      "text/plain": [
       "False"
      ]
     },
     "execution_count": 22,
     "metadata": {},
     "output_type": "execute_result"
    },
    {
     "name": "stderr",
     "output_type": "stream",
     "text": [
      "input_line_182:6:7: error: redefinition of 'bTagEff'\n",
      "TH2F *bTagEff = 0;\n",
      "      ^\n",
      "input_line_62:6:7: note: previous definition is here\n",
      "TH2F *bTagEff = 0;\n",
      "      ^\n",
      "input_line_182:11:7: error: redefinition of 'CalcMinPhi'\n",
      "float CalcMinPhi(float phi1, float phi2){\n",
      "      ^\n",
      "input_line_62:11:7: note: previous definition is here\n",
      "float CalcMinPhi(float phi1, float phi2){\n",
      "      ^\n",
      "input_line_182:19:7: error: redefinition of 'CalcDeltaR'\n",
      "float CalcDeltaR(float eta1, float  eta2, float  phi1, float  phi2) {\n",
      "      ^\n",
      "input_line_62:19:7: note: previous definition is here\n",
      "float CalcDeltaR(float eta1, float  eta2, float  phi1, float  phi2) {\n",
      "      ^\n",
      "input_line_182:23:6: error: redefinition of 'hard_process'\n",
      "bool hard_process(int value){\n",
      "     ^\n",
      "input_line_62:23:6: note: previous definition is here\n",
      "bool hard_process(int value){\n",
      "     ^\n",
      "input_line_182:28:5: error: redefinition of 'GetGenMultiplicity'\n",
      "int GetGenMultiplicity(const RVec<int> &GenPart_statusFlags, const RVec<int> &GenPart_pdgId,\n",
      "    ^\n",
      "input_line_62:28:5: note: previous definition is here\n",
      "int GetGenMultiplicity(const RVec<int> &GenPart_statusFlags, const RVec<int> &GenPart_pdgId,\n",
      "    ^\n",
      "input_line_182:228:13: error: redefinition of 'DivideVec'\n",
      "RVec<float> DivideVec(const RVec<float> &one, const RVec<float> &two){\n",
      "            ^\n",
      "input_line_62:228:13: note: previous definition is here\n",
      "RVec<float> DivideVec(const RVec<float> &one, const RVec<float> &two){\n",
      "            ^\n",
      "input_line_182:238:5: error: redefinition of 'GetNbJets'\n",
      "int GetNbJets(const RVec<int> &GenPart_statusFlags, const RVec<int> &GenPart_pdgId){\n",
      "    ^\n",
      "input_line_62:238:5: note: previous definition is here\n",
      "int GetNbJets(const RVec<int> &GenPart_statusFlags, const RVec<int> &GenPart_pdgId){\n",
      "    ^\n",
      "input_line_182:249:5: error: redefinition of 'GetNsJets'\n",
      "int GetNsJets(const RVec<int> &GenPart_statusFlags, const RVec<int> &GenPart_pdgId){\n",
      "    ^\n",
      "input_line_62:249:5: note: previous definition is here\n",
      "int GetNsJets(const RVec<int> &GenPart_statusFlags, const RVec<int> &GenPart_pdgId){\n",
      "    ^\n",
      "input_line_182:258:13: error: redefinition of 'GetPDFWeight'\n",
      "RVec<float> GetPDFWeight(const RVec<float> &LHEPdfWeight){\n",
      "            ^\n",
      "input_line_62:258:13: note: previous definition is here\n",
      "RVec<float> GetPDFWeight(const RVec<float> &LHEPdfWeight){\n",
      "            ^\n",
      "input_line_182:276:14: error: redefinition of 'GetScaleUncertainty'\n",
      " RVec<float> GetScaleUncertainty( const RVec<float> &LHEScaleWeight){\n",
      "             ^\n",
      "input_line_62:276:14: note: previous definition is here\n",
      " RVec<float> GetScaleUncertainty( const RVec<float> &LHEScaleWeight){\n",
      "             ^\n",
      "input_line_182:305:21: error: redefinition of 'min_delta_r'\n",
      "        RVec<float> min_delta_r(const RVec<float> eta1, const RVec<float> eta2, const RVec<float> phi1, const RVec<float> phi2){\n",
      "                    ^\n",
      "input_line_62:305:21: note: previous definition is here\n",
      "        RVec<float> min_delta_r(const RVec<float> eta1, const RVec<float> eta2, const RVec<float> phi1, const RVec<float> phi2){\n",
      "                    ^\n",
      "input_line_182:321:15: error: redefinition of 'min_vec'\n",
      "        float min_vec(const RVec<float> x){\n",
      "              ^\n",
      "input_line_62:321:15: note: previous definition is here\n",
      "        float min_vec(const RVec<float> x){\n",
      "              ^\n",
      "input_line_182:328:15: error: redefinition of 'max_vec'\n",
      "        float max_vec(const RVec<float> x){\n",
      "              ^\n",
      "input_line_62:328:15: note: previous definition is here\n",
      "        float max_vec(const RVec<float> x){\n",
      "              ^\n",
      "input_line_182:335:15: error: redefinition of 'CalcAverage'\n",
      "        float CalcAverage(const RVec<float> x){\n",
      "              ^\n",
      "input_line_62:335:15: note: previous definition is here\n",
      "        float CalcAverage(const RVec<float> x){\n",
      "              ^\n",
      "input_line_182:343:15: error: redefinition of 'GetBTagWeight'\n",
      "        float GetBTagWeight(const RVec<int> &isGoodBJet, const RVec<int> &isGoodJet, const RVec<int> &JetHadronFlav, const RVec<float> &JetPt, const RVec<float> &bTagSF) {\n",
      "              ^\n",
      "input_line_62:343:15: note: previous definition is here\n",
      "        float GetBTagWeight(const RVec<int> &isGoodBJet, const RVec<int> &isGoodJet, const RVec<int> &JetHadronFlav, const RVec<float> &JetPt, const RVec<float> &bTagSF) {\n",
      "              ^\n",
      "input_line_182:362:21: error: redefinition of 'GetBTagWeightPerJet'\n",
      "        RVec<float> GetBTagWeightPerJet(const RVec<int> &isGoodBJet, const RVec<int> &isGoodJet, const RVec<int> &JetHadronFlav, const RVec<float> &JetPt, const RVec<float> &bTagSF) {\n",
      "                    ^\n",
      "input_line_62:362:21: note: previous definition is here\n",
      "        RVec<float> GetBTagWeightPerJet(const RVec<int> &isGoodBJet, const RVec<int> &isGoodJet, const RVec<int> &JetHadronFlav, const RVec<float> &JetPt, const RVec<float> &bTagSF) {\n",
      "                    ^\n",
      "input_line_182:383:15: error: redefinition of 'PUIDSF_true'\n",
      "        TH2F *PUIDSF_true  = 0;\n",
      "              ^\n",
      "input_line_62:383:15: note: previous definition is here\n",
      "        TH2F *PUIDSF_true  = 0;\n",
      "              ^\n",
      "input_line_182:384:15: error: redefinition of 'PUIDSF_false'\n",
      "        TH2F *PUIDSF_false = 0;\n",
      "              ^\n",
      "input_line_62:384:15: note: previous definition is here\n",
      "        TH2F *PUIDSF_false = 0;\n",
      "              ^\n",
      "input_line_182:385:15: error: redefinition of 'PUIDUnc_true'\n",
      "        TH2F *PUIDUnc_true = 0;\n",
      "              ^\n",
      "input_line_62:385:15: note: previous definition is here\n",
      "        TH2F *PUIDUnc_true = 0;\n",
      "              ^\n",
      "fatal error: too many errors emitted, stopping now [-ferror-limit=]\n"
     ]
    }
   ],
   "source": [
    "# Compile functions in c++ for the dataframe\n",
    "def_cpp()"
   ]
  },
  {
   "cell_type": "code",
   "execution_count": 48,
   "id": "artistic-orlando",
   "metadata": {},
   "outputs": [],
   "source": [
    "#set up multithreading\n",
    "multiThreading = False\n",
    "if multiThreading: ROOT.ROOT.EnableImplicitMT()\n",
    "RDFrame = RDataFrame"
   ]
  },
  {
   "cell_type": "code",
   "execution_count": 49,
   "id": "f0755a7f",
   "metadata": {},
   "outputs": [
    {
     "data": {
      "text/plain": [
       "'/eos/cms/store/group/phys_exotica/bffZprime/assets_june_23'"
      ]
     },
     "execution_count": 49,
     "metadata": {},
     "output_type": "execute_result"
    }
   ],
   "source": [
    "from src.assets.output_dir import output_dir\n",
    "output_dir"
   ]
  },
  {
   "cell_type": "code",
   "execution_count": 50,
   "id": "female-period",
   "metadata": {},
   "outputs": [
    {
     "data": {
      "text/plain": [
       "('samplesCR_2016_Apr2020.root', 'samples/samplesCR_2016_Apr2020.yml')"
      ]
     },
     "execution_count": 50,
     "metadata": {},
     "output_type": "execute_result"
    }
   ],
   "source": [
    "#set up metadata for files\n",
    "era = '2016'\n",
    "deepflavour = False\n",
    "deepcsv = True\n",
    "extras = False\n",
    "csv_v_flavor=False\n",
    "if era == \"2016\":\n",
    "    #https://twiki.cern.ch/twiki/bin/viewauth/CMS/BtagRecommendation2016Legacy\n",
    "    fname = \"samplesCR_2016_Apr2020.yml\"\n",
    "    bDiscValue = 0.3093\n",
    "    bDiscValueLoose = 0.0614 \n",
    "    bDiscValueMedian = 0.015163421630859375\n",
    "    bDiscValueTight = 0.7221\n",
    "if era == \"2017\":\n",
    "    fname = \"samplesCR_2017_Apr2020.yml\"\n",
    "    bDiscValue = 0.3033\n",
    "    bDiscValueLoose = 0.0521\n",
    "    bDiscValueMedian = 0.015163421630859375\n",
    "    bDiscValueTight = 0.7489\n",
    "if era == \"2018\":\n",
    "    fname = \"samplesCR_2018_Apr2020.yml\"\n",
    "    bDiscValue = 0.2770\n",
    "    bDiscValueLoose = 0.0494 \n",
    "    bDiscValueMedian = 0.015163421630859375\n",
    "    bDiscValueTight =  0.7264\n",
    "\n",
    "sampleDir = \"samples\"\n",
    "outname = fname.replace('.yml','.root')\n",
    "fname = \"{}/{}\".format(sampleDir, fname)\n",
    "outname, fname"
   ]
  },
  {
   "cell_type": "code",
   "execution_count": 51,
   "id": "319b3ec6",
   "metadata": {},
   "outputs": [],
   "source": [
    "from src.assets.bff_skimmer_bffv2 import *\n",
    "columns_data, columns_mc, var_postfix = make_columns(era, columns_data)"
   ]
  },
  {
   "cell_type": "code",
   "execution_count": 52,
   "id": "ebf266b7",
   "metadata": {},
   "outputs": [],
   "source": [
    "sample_path ='/eos/cms/store/group/phys_exotica/bffZprime/nanoAODskimmed/crab_bffv2/{}/{{}}'.format(era)\n",
    "eff_path ='/eos/cms/store/group/phys_exotica/bffZprime/nanoAODskimmed/crab_bff_eff/{}/{{}}'.format(era)"
   ]
  },
  {
   "cell_type": "code",
   "execution_count": 53,
   "id": "bored-wrong",
   "metadata": {},
   "outputs": [],
   "source": [
    "class sample_processor():\n",
    "    '''Class that takes file name from yml and helps manage samples.'''\n",
    "    def __init__(self,file_name,outname,bDiscValue,is_inclusive=0):\n",
    "        #load config\n",
    "        self.file_name = file_name\n",
    "        with open(file_name,'r') as f:\n",
    "            self.sample_dict = yaml.load(f, Loader=yaml.FullLoader)\n",
    "        #setup outfile\n",
    "        self.outname = outname\n",
    "        self.out = TFile(outname, 'recreate')\n",
    "        self.outdirs_dict = {}\n",
    "        for sample in self.samples():\n",
    "            name = sample['name']\n",
    "            self.outdirs_dict[name] = self.out.mkdir(name)\n",
    "        self.lumi = self.sample_dict['lumi']\n",
    "        #get and write lumi info\n",
    "        hlumi = TH1F(\"lumi\", \"lumi\", 1, 0, 1)\n",
    "        hlumi.SetDirectory(self.out)\n",
    "        hlumi.SetBinContent(1, self.lumi)\n",
    "        hlumi.Write()\n",
    "        self.bDiscValue = bDiscValue\n",
    "        self.is_inclusive = is_inclusive\n",
    "    def samples(self):\n",
    "        return self.sample_dict['samples']\n",
    "    def sample_names(self):\n",
    "        return [s['name'] for s in self.samples()]\n",
    "    def close(self):\n",
    "        self.out.Close()\n",
    "    def __repr__(self):\n",
    "        text_dict = {\"fn\":self.file_name,\n",
    "                     \"on\":self.outname, \n",
    "                     \"lumi\":self.lumi,\n",
    "                    \"samples\": self.sample_names()}\n",
    "        return '''from {fn} to {on}\\nlumi: {lumi}\\nSamples {samples}'''.format(**text_dict)"
   ]
  },
  {
   "cell_type": "code",
   "execution_count": 54,
   "id": "73c14378",
   "metadata": {},
   "outputs": [
    {
     "data": {
      "text/plain": [
       "'samples/samplesCR_2016_Apr2020.yml'"
      ]
     },
     "execution_count": 54,
     "metadata": {},
     "output_type": "execute_result"
    }
   ],
   "source": [
    "fname"
   ]
  },
  {
   "cell_type": "code",
   "execution_count": 55,
   "id": "temporal-television",
   "metadata": {
    "scrolled": false
   },
   "outputs": [],
   "source": [
    "# create instance of sample manager class \n",
    "sp = sample_processor(fname, outname, bDiscValue)\n",
    "#print(sp)"
   ]
  },
  {
   "cell_type": "code",
   "execution_count": 56,
   "id": "31e30ade",
   "metadata": {
    "scrolled": true
   },
   "outputs": [
    {
     "data": {
      "text/plain": [
       "from samples/samplesCR_2016_Apr2020.yml to samplesCR_2016_Apr2020.root\n",
       "lumi: 36.31\n",
       "Samples ['y3_250_deepflavour_bff', 'y3_400_deepflavour_bff', 'y3_1000_deepflavour_bff', 'y3_700_deepflavour_bff', 'ST_t-channel_top_4f_inclusiveDecays_13TeV-powhegV2-madspin-pythia8_TuneCUETP8M1', 'ST_s-channel_4f_leptonDecays_13TeV-amcatnlo-pythia8_TuneCUETP8M1', 'WWZ_TuneCUETP8M1_13TeV-amcatnlo-pythia8', 'ZZZ_TuneCUETP8M1_13TeV-amcatnlo-pythia8', 'WZZ_TuneCUETP8M1_13TeV-amcatnlo-pythia8', 'WWW_4F_TuneCUETP8M1_13TeV-amcatnlo-pythia8', 'WJetsToQQ_HT-800toInf_qc19_3j_TuneCUETP8M1_13TeV-madgraphMLM-pythia8', 'WJetsToQQ_HT-600ToInf_TuneCUETP8M1_13TeV-madgraphMLM-pythia8', 'WJetsToLNu_TuneCUETP8M1_13TeV-madgraphMLM-pythia8', 'TTWJetsToQQ_TuneCUETP8M1_13TeV-amcatnloFXFX-madspin-pythia8', 'TTWJetsToLNu_TuneCUETP8M1_13TeV-amcatnloFXFX-madspin-pythia8', 'TTZToQQ_TuneCUETP8M1_13TeV-amcatnlo-pythia8', 'TTZToLL_M-1to10_TuneCUETP8M1_13TeV-madgraphMLM-pythia8', 'TTZToLLNuNu_M-10_TuneCUETP8M1_13TeV-amcatnlo-pythia8', 'ttHToMuMu_M125_TuneCP5_PSweights_13TeV-powheg-pythia8', 'ZH_HToMuMu_ZToAll_M125_TuneCP5_PSweights_13TeV_powheg_pythia8', 'WplusH_HToMuMu_WToAll_M125_TuneCP5_PSweights_13TeV_powheg_pythia8', 'VBFHToMuMu_M125_TuneCP5_PSweights_13TeV_amcatnlo_pythia8', 'GluGluHToMuMu_M125_TuneCP5_PSweights_13TeV_amcatnloFXFX_pythia8', 'DYJetsToLL_M-50_TuneCUETP8M1_13TeV-amcatnloFXFX-pythia8', 'DYJetsToLL_M-50_TuneCUETP8M1_13TeV-madgraphMLM-pythia8', 'DYJetsToLL_M-100to200_TuneCUETP8M1_13TeV-amcatnloFXFX-pythia8', 'DYJetsToLL_M-500to700_TuneCUETP8M1_13TeV-amcatnloFXFX-pythia8', 'DYJetsToLL_M-400to500_TuneCUETP8M1_13TeV-amcatnloFXFX-pythia8', 'DYJetsToLL_M-200to400_TuneCUETP8M1_13TeV-amcatnloFXFX-pythia8', 'DYJetsToLL_M-800to1000_TuneCUETP8M1_13TeV-amcatnloFXFX-pythia8', 'BFFZprimeToMuMu_M_250_dbs0p04', 'BFFZprimeToMuMu_M_300_dbs0p04', 'BFFZprimeToMuMu_M_400_dbs0p04', 'ZToEE_M_120_200', 'ZToEE_M_200_400', 'ZToEE_M_400_800', 'ZToEE_M_50_120', 'ZToEE_M_800_1400', 'ZToMuMu_M_120_200', 'ZToMuMu_M_200_400', 'ZToMuMu_M_400_800', 'ZToMuMu_M_50_120', 'ZToMuMu_M_800_1400', 'mc_santitop', 'mc_stop', 'mc_ttbar', 'mc_ww', 'mc_wz', 'mc_zz', 'BFFZprimeToMuMu_M_500_dbs0p04', 'BFFZprimeToMuMu_M_500_dbs0p5', 'BFFZprimeToMuMu_M_500_dbs1p0', 'BFFZprimeToMuMu_M_350_dbs0p04', 'BFFZprimeToMuMu_M_350_dbs0p5', 'BFFZprimeToMuMu_M_350_dbs1p0', 'BFFZprimeToMuMu_M_200_dbs0p04', 'BFFZprimeToMuMu_M_200_dbs1p0', 'BFFZprimeToMuMu_M_200_dbs0p5', 'Private_M_200_dbs0p04', 'Private_M_200_dbs1p0', 'Private_M_200_dbs0p5', 'BFFZprimeToMuMu_M_125_dbs0p04', 'BFFZprimeToMuMu_M_125_dbs0p5', 'BFFZprimeToMuMu_M_125_dbs1p0', 'BFFZprimeToMuMu_M_150_dbs0p04', 'BFFZprimeToMuMu_M_150_dbs0p5', 'BFFZprimeToMuMu_M_150_dbs1p0', 'BFFZprimeToMuMu_M_175_dbs0p04', 'BFFZprimeToMuMu_M_175_dbs0p5', 'BFFZprimeToMuMu_M_175_dbs1p0', 'BFFZprimeToMuMu_M_750_dbs0p04', 'data_mu', 'data_el']"
      ]
     },
     "execution_count": 56,
     "metadata": {},
     "output_type": "execute_result"
    }
   ],
   "source": [
    "sp"
   ]
  },
  {
   "cell_type": "code",
   "execution_count": 57,
   "id": "brazilian-final",
   "metadata": {},
   "outputs": [],
   "source": [
    "# this creates long list of or statements for all permuations to select for events that are present in at least one region \n",
    "rs = [\"CR10\", \"CR11\", \"CR12\", \"CR13\", \"CR14\", \"CR20\", \"CR21\", \"CR22\", \"CR23\", \"CR24\", \"SR1\", \"SR2\"]\n",
    "\n",
    "mcstring = \"\"\n",
    "for jv in var_postfix:\n",
    "    for r in rs:\n",
    "        mcstring += \"{}{} or \".format(r,jv)\n",
    "\n",
    "JERC_var = ['jet_nom_muon_corrected_pt_ele_pt']\n",
    "string = \"\"\n",
    "for jv in JERC_var:\n",
    "    for r in rs:\n",
    "        string += \"{}_{} or \".format(r,jv)\n",
    "        mcstring += \"{}_{} or \".format(r,jv)\n",
    "data_region = string[:-3]\n",
    "mc_region = mcstring[:-3]\n",
    "#mc_region"
   ]
  },
  {
   "cell_type": "code",
   "execution_count": 58,
   "id": "464c66a8",
   "metadata": {},
   "outputs": [
    {
     "data": {
      "text/plain": [
       "'/eos/cms/store/group/phys_exotica/bffZprime/nanoAODskimmed/crab_bff_eff/2016/{}'"
      ]
     },
     "execution_count": 58,
     "metadata": {},
     "output_type": "execute_result"
    }
   ],
   "source": [
    "eff_path"
   ]
  },
  {
   "cell_type": "code",
   "execution_count": 67,
   "id": "99238b40",
   "metadata": {},
   "outputs": [],
   "source": [
    "def process_sample(sp,sample,era,verbose=1, maxEvents=1e6):\n",
    "    '''Process each sample and produced csv.'''\n",
    "    info_dict = {}\n",
    "    #get metadata\n",
    "    name,xsec,nEvents = sample['name'],sample['xsec'],sample['nevts']\n",
    "    ismc,dirName = int(sample['ismc']),sample['fileglob']\n",
    "    \n",
    "    # get files fit for processing\n",
    "    # filters out files that can't be opened, or are from old runs\n",
    "    # then it selects a fewer number of files to open if there are too many files\n",
    "    files_df = get_files(dirName, sample_path)\n",
    "\n",
    "    files, nEvents = prep_filelist(files_df, ismc, verbose=True, maxEvents=maxEvents)\n",
    "    #btageff file list\n",
    "    if not 'eff_path' in sample:\n",
    "        bTagEffGlobName = eff_path.format(dirName)\n",
    "        eff_paths = list(Path(bTagEffGlobName).rglob('*.root'))+ list(Path(bTagEffGlobName+\"_eff\").rglob('*.root'))\n",
    "        list_effs = list(map(lambda x: str(x), eff_paths)) \n",
    "    else:\n",
    "        bTagEffGlobName = eff_path.format(sample['eff_path'])\n",
    "        eff_paths = list(Path(bTagEffGlobName).rglob('*.root'))+list(Path(bTagEffGlobName+\"_eff\").rglob('*.root'))\n",
    "        list_effs = list(map(lambda x: str(x), eff_paths)) \n",
    "\n",
    "    # get n events from skim if 0\n",
    "    sample_weight = float(xsec)*sp.lumi/float(nEvents)\n",
    "    info_dict = {**sample}\n",
    "    info_dict['sample_weight'] = sample_weight\n",
    "    info_dict['len(files)'] = len(files)\n",
    "    info_dict['lumi'] = sp.lumi\n",
    "    info_dict['nEvents_from_files'] = nEvents\n",
    "\n",
    "    if verbose: print(\"name: {} , xsec: {}, nevents: {} ismc: {}, nfiles: {}\".format(name,xsec,\n",
    "                                                                                     nEvents,ismc,\n",
    "                                                                                    len(files)))\n",
    "    #return \"name\",\"df_df\", info_dict\n",
    "    #set up btagging and puid sf files\n",
    "    bTagFile, PUIDSFfile = setup_btag_puid(ismc, era, list_effs)\n",
    "    #make rdf\n",
    "    df = RDFrame('Events', files)\n",
    "    if ismc:\n",
    "        df = df.Range(0, int(maxEvents))\n",
    "    #df = df.Range(0, int(1000000))\n",
    "        \n",
    "    ##\n",
    "    ## filter\n",
    "    ##\n",
    "    df = df.Filter(\"DiLepMass_jet_nom_muon_corrected_pt_ele_pt>105\", \"mass_cut\")\n",
    "    if ismc:\n",
    "        df = df.Filter(mc_region, \"in_region\")\n",
    "    else:\n",
    "        df = df.Filter(data_region, \"in_region\")\n",
    "    df = df.Filter(\"Flag_METFilters==1\", \"METFilter\")    \n",
    "    ##\n",
    "    ## set up objects\n",
    "    ##    \n",
    "    var_string = '_jet_nom_muon_corrected_pt_ele_pt'\n",
    "    df = def_good_leptons(df, ismc, era, var_string)\n",
    "    ##\n",
    "    ## set weights\n",
    "    ##     \n",
    "    df = def_HLT(df, ismc, era)\n",
    "    df = bjet_weight(df,ismc, sp.is_inclusive, name, sample_weight, era)\n",
    "    df = pdf_weight(df,ismc, sp.is_inclusive, name, sample_weight, era)\n",
    "    df = fsr_isr_weight(df,ismc, sp.is_inclusive, name, sample_weight, era)\n",
    "    df = muon_weight(df,ismc, sp.is_inclusive, name, sample_weight, era)\n",
    "    df = electron_weight(df,ismc, sp.is_inclusive, name, sample_weight, era)\n",
    "    df = k_factor(df,ismc, sp.is_inclusive, name, sample_weight, era)\n",
    "    df = PU_weight(df,ismc, sp.is_inclusive, name, sample_weight, era, bDiscValue)\n",
    "    df = finalize_weights(df,ismc, sp.is_inclusive, name, sample_weight, era)\n",
    "    \n",
    "    df = def_lep_selections(df)\n",
    "    df = test_data_abcd(df, ismc, bDiscValueLoose, postfix=\"\" )\n",
    "    df = test_data_abcd(df, ismc, bDiscValueMedian, postfix=\"_median\" )\n",
    "    \n",
    "    df = medium_to_tight_region(df, ismc, bDiscValueTight )\n",
    "    #gen inforamtion\n",
    "    if ismc:\n",
    "        df = df.Define(\"GenMultiplicity\", \"GetGenMultiplicity(GenPart_statusFlags, GenPart_pdgId, GenPart_pt, GenPart_eta, GenPart_phi)\")  \n",
    "        df = df.Define(\"JER\", \"SysPercPerObj(Jet_pt_nom, Jet_pt_jerUp, Jet_pt_jerDown, 0)\")\n",
    "        df = df.Define(\"AvgJER\", \"clip(CalcAverage(JER))\")\n",
    "        df = df.Define(\"JES\", \"SysPercPerObj(Jet_pt_nom, Jet_pt_jesTotalUp, Jet_pt_jesTotalDown, 0)\")\n",
    "        df = df.Define(\"AvgJES\", \"CalcAverage(JES)\")\n",
    "        df = df.Define(\"HEM\", \"SysPercPerObj(Jet_pt_nom, Jet_pt_jesHEMIssueUp, Jet_pt_jesHEMIssueDown, 0)\")\n",
    "        df = df.Define(\"AvgHEM\", \"CalcAverage(HEM)\")\n",
    "    else:\n",
    "        df = df.Define(\"GenMultiplicity\", \"0.\")\n",
    "        df = df.Define(\"JER\", \"1.\")\n",
    "        df = df.Define(\"AvgJER\", \"1.\")\n",
    "        df = df.Define(\"JES\", \"1.\")\n",
    "        df = df.Define(\"AvgJES\", \"1.\")\n",
    "        df = df.Define(\"HEM\", \"1.\")\n",
    "        df = df.Define(\"AvgHEM\", \"1.\")     \n",
    "    lcolumn = columns_mc\n",
    "    if not ismc:\n",
    "        lcolumn = columns_data\n",
    "    lcolumn += ['PUIDWeight','PUIDWeightUp','PUIDWeightDown',\n",
    "                'MuonTriggerEff', 'Weight_MuonTriggerUp', 'Weight_MuonTriggerDown',\n",
    "                'genWeight'\n",
    "                ,'k_factor'\n",
    "                ,'puWeight'\n",
    "                ,'PUIDWeight'\n",
    "                ,'MuonSFweight'\n",
    "                ,'ElectronSFweight'\n",
    "                ,'TriggerWeight'\n",
    "                ,'AvgMuonRecoIdIsoSFPerMuon'\n",
    "                ,'AvgMuonRocPer',\n",
    "               'AvgJER', 'AvgJES', 'AvgHEM',\n",
    "                'AvgPUIDWeightsPerJet',\n",
    "                'AvgBtagWeightCorr',\n",
    "                'AvgBtagWeightUncorr', 'GenMultiplicity',\n",
    "                #'nGoodJet_subloose', 'nGoodJet_loose_to_medium',\n",
    "                'CRA','CRB','CRC','CRD',\n",
    "                'CRA2','CRB2','CRC2','CRD2',\n",
    "                'CRA_median','CRB_median','CRC_median','CRD_median',\n",
    "                'CRA2_median','CRB2_median','CRC2_median','CRD2_median',\n",
    "                'CRA_tight_to_medium','CRA2_tight_to_medium'\n",
    "               ]\n",
    "    #print(lcolumn)\n",
    "    #lcolumn = ['nGoodJet_subloose', 'nGoodJet_loose_to_medium', 'CR10_jet_nom_muon_corrected_pt_ele_pt', 'CRD', 'CRA']\n",
    "    df_np = df.AsNumpy(lcolumn)\n",
    "    df_df = pd.DataFrame(df_np)\n",
    "    print('{}/data/tw_{}_{}.csv'.format(output_dir, era,name))\n",
    "    df_df.to_csv('{}/data/tw_{}_{}.csv'.format(output_dir, era,name))\n",
    "    return name,df_df, info_dict"
   ]
  },
  {
   "cell_type": "code",
   "execution_count": 68,
   "id": "fd143239",
   "metadata": {},
   "outputs": [],
   "source": [
    "info_list = []"
   ]
  },
  {
   "cell_type": "code",
   "execution_count": 69,
   "id": "7291a298",
   "metadata": {},
   "outputs": [
    {
     "data": {
      "text/plain": [
       "{'fileglob': 'BFF_125_dbs0p04_deepflavour_bffv2',\n",
       " 'ismc': 1,\n",
       " 'name': 'BFFZprimeToMuMu_M_125_dbs0p04',\n",
       " 'nevts': 0,\n",
       " 'xsec': 1528,\n",
       " 'eff_path': 'BFF_125_dbs0p04_deepflavour_bff_eff'}"
      ]
     },
     "execution_count": 69,
     "metadata": {},
     "output_type": "execute_result"
    }
   ],
   "source": [
    "sample"
   ]
  },
  {
   "cell_type": "code",
   "execution_count": null,
   "id": "empty-consciousness",
   "metadata": {
    "scrolled": true
   },
   "outputs": [
    {
     "name": "stdout",
     "output_type": "stream",
     "text": [
      "{'fileglob': 'BFFZprimeToMuMu_M_250_TuneCUETP8M1_13TeV-madgraph-pythia8', 'ismc': 1, 'name': 'BFFZprimeToMuMu_M_250_dbs0p04', 'nevts': 0, 'xsec': 122.5}\n",
      "exits.......\n",
      "sample BFFZprimeToMuMu_M_250_dbs0p04 took 0.0 seconds\n",
      "{'fileglob': 'BFFZprimeToMuMu_M_300_TuneCUETP8M1_13TeV-madgraph-pythia8', 'ismc': 1, 'name': 'BFFZprimeToMuMu_M_300_dbs0p04', 'nevts': 0, 'xsec': 58.86}\n",
      "exits.......\n",
      "sample BFFZprimeToMuMu_M_300_dbs0p04 took 0.0 seconds\n",
      "{'fileglob': 'BFFZprimeToMuMu_M_400_TuneCUETP8M1_13TeV-madgraph-pythia8', 'ismc': 1, 'name': 'BFFZprimeToMuMu_M_400_dbs0p04', 'nevts': 0, 'xsec': 17.42}\n",
      "exits.......\n",
      "sample BFFZprimeToMuMu_M_400_dbs0p04 took 0.0 seconds\n",
      "{'fileglob': 'BFFZprimeToMuMu_M_500_TuneCUETP8M1_13TeV-madgraph-pythia8', 'ismc': 1, 'name': 'BFFZprimeToMuMu_M_500_dbs0p04', 'nevts': 0, 'xsec': 6.42}\n",
      "exits.......\n",
      "sample BFFZprimeToMuMu_M_500_dbs0p04 took 0.0 seconds\n",
      "{'fileglob': 'BFFZprimeToMuMu_M_500_dbs0p5_TuneCUETP8M1_13TeV-madgraph-pythia8', 'ismc': 1, 'name': 'BFFZprimeToMuMu_M_500_dbs0p5', 'nevts': 0, 'xsec': 13.81}\n",
      "exits.......\n",
      "sample BFFZprimeToMuMu_M_500_dbs0p5 took 0.0 seconds\n",
      "{'fileglob': 'BFFZprimeToMuMu_M_500_dbs1p0_TuneCUETP8M1_13TeV-madgraph-pythia8', 'ismc': 1, 'name': 'BFFZprimeToMuMu_M_500_dbs1p0', 'nevts': 0, 'xsec': 35.56}\n",
      "exits.......\n",
      "sample BFFZprimeToMuMu_M_500_dbs1p0 took 0.0 seconds\n",
      "{'fileglob': 'BFFZprimeToMuMu_M_350_TuneCUETP8M1_13TeV-madgraph-pythia8', 'ismc': 1, 'name': 'BFFZprimeToMuMu_M_350_dbs0p04', 'nevts': 0, 'xsec': 31.04}\n",
      "exits.......\n",
      "sample BFFZprimeToMuMu_M_350_dbs0p04 took 0.0 seconds\n",
      "{'fileglob': 'BFFZprimeToMuMu_M_350_dbs0p5_TuneCUETP8M1_13TeV-madgraph-pythia8', 'ismc': 1, 'name': 'BFFZprimeToMuMu_M_350_dbs0p5', 'nevts': 0, 'xsec': 65.35}\n",
      "exits.......\n",
      "sample BFFZprimeToMuMu_M_350_dbs0p5 took 0.0 seconds\n",
      "{'fileglob': 'BFFZprimeToMuMu_M_350_dbs1p0_TuneCUETP8M1_13TeV-madgraph-pythia8', 'ismc': 1, 'name': 'BFFZprimeToMuMu_M_350_dbs1p0', 'nevts': 0, 'xsec': 165.8}\n",
      "exits.......\n",
      "sample BFFZprimeToMuMu_M_350_dbs1p0 took 0.0 seconds\n",
      "{'fileglob': 'BFFZprimeToMuMu_M_200_TuneCUETP8M1_13TeV-madgraph-pythia8', 'ismc': 1, 'name': 'BFFZprimeToMuMu_M_200_dbs0p04', 'nevts': 0, 'xsec': 288.9}\n",
      "exits.......\n",
      "sample BFFZprimeToMuMu_M_200_dbs0p04 took 0.0 seconds\n",
      "{'fileglob': 'BFFZprimeToMuMu_M_200_dbs1p0_TuneCUETP8M1_13TeV-madgraph-pythia8', 'ismc': 1, 'name': 'BFFZprimeToMuMu_M_200_dbs1p0', 'nevts': 0, 'xsec': 1486}\n",
      "exits.......\n",
      "sample BFFZprimeToMuMu_M_200_dbs1p0 took 0.0 seconds\n",
      "{'fileglob': 'BFFZprimeToMuMu_M_200_dbs0p5_TuneCUETP8M1_13TeV-madgraph-pythia8', 'ismc': 1, 'name': 'BFFZprimeToMuMu_M_200_dbs0p5', 'nevts': 0, 'xsec': 592.6}\n",
      "exits.......\n",
      "sample BFFZprimeToMuMu_M_200_dbs0p5 took 0.0 seconds\n",
      "{'fileglob': 'BFF_125_dbs0p04_deepflavour_bffv2', 'ismc': 1, 'name': 'BFFZprimeToMuMu_M_125_dbs0p04', 'nevts': 0, 'xsec': 1528, 'eff_path': 'BFF_125_dbs0p04_deepflavour_bff_eff'}\n",
      "exits.......\n",
      "sample BFFZprimeToMuMu_M_125_dbs0p04 took 0.0 seconds\n",
      "{'fileglob': 'BFF_125_dbs0p5_deepflavour_bffv2', 'ismc': 1, 'name': 'BFFZprimeToMuMu_M_125_dbs0p5', 'nevts': 0, 'xsec': 3119, 'eff_path': 'BFF_125_dbs0p5_deepflavour_bff_eff'}\n",
      "running......\n",
      "1 out of 1 files selected, 100.0% of events\n",
      "['/eos/cms/store/group/phys_exotica/bffZprime/nanoAODskimmed/crab_bff_eff/2016/BFF_125_dbs0p5_deepflavour_bff_eff/220616_195425/0000/tree_1.root']\n",
      "name: BFFZprimeToMuMu_M_125_dbs0p5 , xsec: 3119, nevents: 347033.0 ismc: 1, nfiles: 1\n",
      "/eos/cms/store/group/phys_exotica/bffZprime/assets_june_23/data/tw_2016_BFFZprimeToMuMu_M_125_dbs0p5.csv\n",
      "sample BFFZprimeToMuMu_M_125_dbs0p5 took 19.8 seconds\n",
      "{'fileglob': 'BFF_125_dbs1p0_deepflavour_bffv2', 'ismc': 1, 'name': 'BFFZprimeToMuMu_M_125_dbs1p0', 'nevts': 0, 'xsec': 7866, 'eff_path': 'BFF_125_dbs1p0_deepflavour_bff_eff'}\n",
      "running......\n",
      "1 out of 1 files selected, 100.0% of events\n",
      "['/eos/cms/store/group/phys_exotica/bffZprime/nanoAODskimmed/crab_bff_eff/2016/BFF_125_dbs1p0_deepflavour_bff_eff/220616_195711/0000/tree_1.root']\n",
      "name: BFFZprimeToMuMu_M_125_dbs1p0 , xsec: 7866, nevents: 349518.0 ismc: 1, nfiles: 1\n",
      "/eos/cms/store/group/phys_exotica/bffZprime/assets_june_23/data/tw_2016_BFFZprimeToMuMu_M_125_dbs1p0.csv\n",
      "sample BFFZprimeToMuMu_M_125_dbs1p0 took 19.2 seconds\n",
      "{'fileglob': 'BFF_150_dbs0p04_deepflavour_bffv2', 'ismc': 1, 'name': 'BFFZprimeToMuMu_M_150_dbs0p04', 'nevts': 0, 'xsec': 815.0, 'eff_path': 'BFF_150_dbs0p04_deepflavour_bff_eff'}\n",
      "running......\n",
      "1 out of 1 files selected, 100.0% of events\n",
      "['/eos/cms/store/group/phys_exotica/bffZprime/nanoAODskimmed/crab_bff_eff/2016/BFF_150_dbs0p04_deepflavour_bff_eff/220616_200001/0000/tree_1.root']\n",
      "name: BFFZprimeToMuMu_M_150_dbs0p04 , xsec: 815.0, nevents: 316360.0 ismc: 1, nfiles: 1\n"
     ]
    }
   ],
   "source": [
    "failed_files = []\n",
    "existing_files = []\n",
    "\n",
    "for sample in sp.samples():\n",
    "    name = sample['name']\n",
    "    maxEvents=int(2e10) if (('ZTo' in name) or ('DY' in name)) else int(1e7)\n",
    "    if  'y3' in name: continue\n",
    "    #if 'BFFZprimeToMuMu_M_125_dbs0p04' not in name: continue\n",
    "    if not 'BFF' in name: continue\n",
    "    #if  'data' in name: continue\n",
    "    #if  'y3' in name: continue\n",
    "    start_time = perf_counter()\n",
    "    print(sample)\n",
    "    outname = '{}/data/tw_{}_{}.csv'.format(output_dir, era,sample['name'])\n",
    "    #name, df, info_dict = process_sample(sp,sample,era, verbose=1, maxEvents=maxEvents)\n",
    "    #info_list.append(info_dict)\n",
    "    try:\n",
    "        if not exists(outname):\n",
    "            print(\"running......\")\n",
    "            name, df, info_dict = process_sample(sp,sample,era, verbose=1, maxEvents=maxEvents)\n",
    "            info_list.append(info_dict)\n",
    "        else:\n",
    "            print(\"exits.......\")\n",
    "            existing_files.append(outname)\n",
    "    except Exception as err:\n",
    "        failed_files.append(outname)\n",
    "        print(err)\n",
    "\n",
    "    #count = df.Count()\n",
    "    end_time = perf_counter()\n",
    "    print(\"sample {} took {:.1f} seconds\".format(name,end_time-start_time))\n",
    "\n",
    "sp.close()"
   ]
  },
  {
   "cell_type": "raw",
   "id": "015d838c",
   "metadata": {},
   "source": [
    "tdf = pd.read_csv('/eos/cms/store/group/phys_exotica/bffZprime/assets_june_23/data/tw_2016_data_mu.csv')"
   ]
  },
  {
   "cell_type": "code",
   "execution_count": null,
   "id": "66e13071",
   "metadata": {},
   "outputs": [],
   "source": [
    "tdf.filter(regex='CR').sum()"
   ]
  },
  {
   "cell_type": "code",
   "execution_count": null,
   "id": "a6b8344c",
   "metadata": {},
   "outputs": [],
   "source": [
    "172+263"
   ]
  },
  {
   "cell_type": "code",
   "execution_count": null,
   "id": "ddd3ac6f",
   "metadata": {},
   "outputs": [],
   "source": [
    "break"
   ]
  },
  {
   "cell_type": "code",
   "execution_count": null,
   "id": "70caecb7",
   "metadata": {},
   "outputs": [],
   "source": [
    "df = pd.DataFrame(info_list)\n",
    "df.to_csv('{}/data/info_dict_{}.csv'.format(output_dir, era))\n",
    "df"
   ]
  },
  {
   "cell_type": "code",
   "execution_count": null,
   "id": "84fac1a0",
   "metadata": {
    "scrolled": true
   },
   "outputs": [],
   "source": [
    "existing_files"
   ]
  },
  {
   "cell_type": "code",
   "execution_count": null,
   "id": "f31a393c",
   "metadata": {},
   "outputs": [],
   "source": [
    "failed_files"
   ]
  },
  {
   "cell_type": "code",
   "execution_count": null,
   "id": "ecbd250d",
   "metadata": {
    "scrolled": true
   },
   "outputs": [],
   "source": [
    "beep_repeat()"
   ]
  },
  {
   "cell_type": "code",
   "execution_count": null,
   "id": "f8101247",
   "metadata": {},
   "outputs": [],
   "source": [
    "import pandas as pd\n",
    "import numpy as np\n",
    "import matplotlib.pyplot as plt"
   ]
  },
  {
   "cell_type": "code",
   "execution_count": null,
   "id": "8d490ce1",
   "metadata": {},
   "outputs": [],
   "source": [
    "path = 'assets_feb_23/data/tw_2016_BFFZprimeToMuMu_M_250_dbs0p04.csv'\n",
    "df = pd.read_csv(path)"
   ]
  },
  {
   "cell_type": "code",
   "execution_count": null,
   "id": "e54278b3",
   "metadata": {
    "scrolled": true
   },
   "outputs": [],
   "source": [
    "for x in df:\n",
    "    print(x)"
   ]
  },
  {
   "cell_type": "code",
   "execution_count": null,
   "id": "cfd7b03a",
   "metadata": {},
   "outputs": [],
   "source": [
    "df.shape"
   ]
  },
  {
   "cell_type": "code",
   "execution_count": null,
   "id": "02ab039e",
   "metadata": {},
   "outputs": [],
   "source": [
    "tdf = df"
   ]
  },
  {
   "cell_type": "code",
   "execution_count": null,
   "id": "fe8661ca",
   "metadata": {
    "scrolled": true
   },
   "outputs": [],
   "source": [
    "tdf = df[df.SR2_jet_nom_muon_corrected_pt_ele_pt==1]\n",
    "hist = np.histogram(tdf.GenMultiplicity, bins=np.linspace(-.5,7.5, 9))\n",
    "hist[0], sum(hist[0])"
   ]
  },
  {
   "cell_type": "code",
   "execution_count": null,
   "id": "a8081344",
   "metadata": {},
   "outputs": [],
   "source": [
    "tdf = df[df.SR1_jet_nom_muon_corrected_pt_ele_pt==1]\n",
    "hist = np.histogram(tdf.GenMultiplicity, bins=np.linspace(-.5,7.5, 9))\n",
    "hist[0], sum(hist[0])"
   ]
  },
  {
   "cell_type": "code",
   "execution_count": null,
   "id": "723eedc9",
   "metadata": {},
   "outputs": [],
   "source": [
    "tdf.GenNbJets.hist(bins=np.linspace(-.5,7.5, 9))\n",
    "plt.xlabel('n b-jets')\n",
    "plt.title('SR1')\n"
   ]
  },
  {
   "cell_type": "code",
   "execution_count": null,
   "id": "c0b8eb14",
   "metadata": {},
   "outputs": [],
   "source": [
    "tdf.GenNsJets.hist(bins=np.linspace(-.5,7.5, 9))\n",
    "plt.xlabel('n s-jets')\n",
    "plt.title('SR1')"
   ]
  },
  {
   "cell_type": "code",
   "execution_count": null,
   "id": "03819f5d",
   "metadata": {},
   "outputs": [],
   "source": [
    "np.histogram(tdf.GenNsJets, bins=np.linspace(-.5,7.5, 9))"
   ]
  },
  {
   "cell_type": "code",
   "execution_count": null,
   "id": "e5c1a965",
   "metadata": {},
   "outputs": [],
   "source": [
    "tdf = df[df.SR2_jet_nom_muon_corrected_pt_ele_pt==1]"
   ]
  },
  {
   "cell_type": "code",
   "execution_count": null,
   "id": "54ce0c86",
   "metadata": {},
   "outputs": [],
   "source": [
    "tdf.GenNbJets.hist(bins=np.linspace(-.5,7.5, 9))\n",
    "plt.xlabel('n b-jets')\n",
    "plt.title('SR2')"
   ]
  },
  {
   "cell_type": "code",
   "execution_count": null,
   "id": "95e251f4",
   "metadata": {},
   "outputs": [],
   "source": [
    "tdf.GenNsJets.hist(bins=np.linspace(-.5,7.5, 9))\n",
    "plt.xlabel('n s-jets')\n",
    "plt.title('SR2')"
   ]
  },
  {
   "cell_type": "code",
   "execution_count": null,
   "id": "305b7894",
   "metadata": {},
   "outputs": [],
   "source": [
    "df.Weight_MuonTriggerUp.mean()*100"
   ]
  },
  {
   "cell_type": "code",
   "execution_count": null,
   "id": "d6eb9922",
   "metadata": {},
   "outputs": [],
   "source": [
    "df.Weight_BTagUp.mean()*100"
   ]
  },
  {
   "cell_type": "code",
   "execution_count": null,
   "id": "437a5559",
   "metadata": {},
   "outputs": [],
   "source": [
    "import uproot as upr"
   ]
  },
  {
   "cell_type": "code",
   "execution_count": null,
   "id": "ed0bdb3e",
   "metadata": {},
   "outputs": [],
   "source": [
    "skim_path = '/eos/cms/store/group/phys_exotica/bffZprime/nanoAODskimmed/crab_bffv2/2017/BFF_175_dbs0p5_deepflavour_bffv2/221019_071128/0000/tree_1.root'"
   ]
  },
  {
   "cell_type": "code",
   "execution_count": null,
   "id": "dcecf503",
   "metadata": {
    "scrolled": false
   },
   "outputs": [],
   "source": [
    "upf = upr.open(skim_path)['Events']"
   ]
  },
  {
   "cell_type": "code",
   "execution_count": null,
   "id": "eb389db5",
   "metadata": {
    "scrolled": false
   },
   "outputs": [],
   "source": [
    "upf.arrays(['Muon_effSF_sys_triggerUp',\n",
    "           'Muon_effSF_trigger',\n",
    "           'Muon_effSF_sys_triggerDown'], library='pd').mean()"
   ]
  },
  {
   "cell_type": "code",
   "execution_count": null,
   "id": "7dbc63dd",
   "metadata": {},
   "outputs": [],
   "source": [
    "import pandas as pd"
   ]
  },
  {
   "cell_type": "code",
   "execution_count": null,
   "id": "523c266f",
   "metadata": {},
   "outputs": [],
   "source": [
    "df = pd.read_csv('data/tw_2016_BFFZprimeToMuMu_M_250_dbs0p04.csv')"
   ]
  },
  {
   "cell_type": "code",
   "execution_count": null,
   "id": "84a36992",
   "metadata": {},
   "outputs": [],
   "source": [
    "[x for x in df.keys() if 'HLT' in x], [x for x in df.keys() if 'SR' in x]"
   ]
  },
  {
   "cell_type": "code",
   "execution_count": null,
   "id": "dff049ac",
   "metadata": {},
   "outputs": [],
   "source": [
    "df.SR2_jet_nom_muon_corrected_pt_ele_pt.sum(), (df.SR2_jet_nom_muon_corrected_pt_ele_pt*df.HLT_Mu50).sum()"
   ]
  },
  {
   "cell_type": "code",
   "execution_count": null,
   "id": "6bf5b418",
   "metadata": {},
   "outputs": [],
   "source": [
    "df[[ \n",
    "    'MuonTriggerEff', 'Weight_MuonTriggerUp', 'Weight_MuonTriggerDown'\n",
    "    ,'AvgMuonRecoIdIsoSFPerMuon'\n",
    "                ,'AvgMuonRocPer',\n",
    "               'AvgJER', 'AvgJES', 'AvgHEM',\n",
    "                'AvgPUIDWeightsPerJet', 'AvgBtagWeight']].mean()*100"
   ]
  },
  {
   "cell_type": "code",
   "execution_count": null,
   "id": "e938bb33",
   "metadata": {},
   "outputs": [],
   "source": [
    "df.AvgJER.mean()"
   ]
  },
  {
   "cell_type": "code",
   "execution_count": null,
   "id": "f9861399",
   "metadata": {},
   "outputs": [],
   "source": [
    "from src.data_tools.get_file_list import get_file_df\n"
   ]
  },
  {
   "cell_type": "code",
   "execution_count": null,
   "id": "5bcb1b92",
   "metadata": {},
   "outputs": [],
   "source": [
    "era = 2016\n",
    "file_df = get_file_df()\n",
    "file_df = file_df[file_df.era==era]\n",
    "file_df.reset_index(inplace=True)"
   ]
  },
  {
   "cell_type": "code",
   "execution_count": null,
   "id": "519a96d7",
   "metadata": {
    "scrolled": true
   },
   "outputs": [],
   "source": [
    "means_list = []\n",
    "for i, x in file_df.iterrows():\n",
    "    print(x.file)\n",
    "    _df = pd.read_csv(x.file)\n",
    "    _df = _df[_df.AvgJER<5]\n",
    "    means = _df[[ \n",
    "    'MuonTriggerEff', 'Weight_MuonTriggerUp', 'Weight_MuonTriggerDown'\n",
    "    ,'AvgMuonRecoIdIsoSFPerMuon'\n",
    "                ,'AvgMuonRocPer',\n",
    "               'AvgJER', 'AvgJES', 'AvgHEM',\n",
    "                'AvgPUIDWeightsPerJet', 'AvgBtagWeight']].mean()*100\n",
    "    means_dict = means.to_dict()\n",
    "    means_dict['mass'] = x.mass\n",
    "    means_dict['dbs'] = x.dbs\n",
    "    means_list.append(means_dict)"
   ]
  },
  {
   "cell_type": "code",
   "execution_count": null,
   "id": "faad1c41",
   "metadata": {},
   "outputs": [],
   "source": [
    "mean_df = pd.DataFrame(means_list)"
   ]
  },
  {
   "cell_type": "code",
   "execution_count": null,
   "id": "aa556975",
   "metadata": {},
   "outputs": [],
   "source": [
    "mean_df.min().round(1)"
   ]
  },
  {
   "cell_type": "code",
   "execution_count": null,
   "id": "62a22e73",
   "metadata": {},
   "outputs": [],
   "source": [
    "mean_df.max().round(1)"
   ]
  },
  {
   "cell_type": "code",
   "execution_count": null,
   "id": "5a7fb228",
   "metadata": {},
   "outputs": [],
   "source": [
    "import numpy as np"
   ]
  },
  {
   "cell_type": "code",
   "execution_count": null,
   "id": "9434dca3",
   "metadata": {},
   "outputs": [],
   "source": [
    "mean_df.AvgJER"
   ]
  },
  {
   "cell_type": "code",
   "execution_count": null,
   "id": "16a317cf",
   "metadata": {},
   "outputs": [],
   "source": []
  }
 ],
 "metadata": {
  "kernelspec": {
   "display_name": "bff_12_1",
   "language": "python",
   "name": "bff_12_1"
  },
  "language_info": {
   "codemirror_mode": {
    "name": "ipython",
    "version": 3
   },
   "file_extension": ".py",
   "mimetype": "text/x-python",
   "name": "python",
   "nbconvert_exporter": "python",
   "pygments_lexer": "ipython3",
   "version": "3.9.6"
  }
 },
 "nbformat": 4,
 "nbformat_minor": 5
}
