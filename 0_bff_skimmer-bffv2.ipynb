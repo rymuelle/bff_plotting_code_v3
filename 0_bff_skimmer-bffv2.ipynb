{
 "cells": [
  {
   "cell_type": "code",
   "execution_count": 1,
   "id": "interesting-native",
   "metadata": {
    "scrolled": true
   },
   "outputs": [
    {
     "name": "stdout",
     "output_type": "stream",
     "text": [
      "Welcome to JupyROOT 6.22/09\n"
     ]
    }
   ],
   "source": [
    "from __future__ import print_function\n",
    "from glob import glob\n",
    "from ROOT import vector, RDataFrame, RDF, TFile, TH1F, TH2F, gInterpreter, TMath\n",
    "import ROOT\n",
    "import sys\n",
    "import yaml\n",
    "from bff_processor.cpp_function import def_cpp\n",
    "from bff_processor.utils import toVector, get_nEvents\n",
    "import pandas as pd\n",
    "from time import perf_counter\n",
    "import uproot\n",
    "from pathlib import Path"
   ]
  },
  {
   "cell_type": "code",
   "execution_count": 2,
   "id": "e7aff722",
   "metadata": {},
   "outputs": [],
   "source": [
    "from src.RDF_tools.df_definitions import *"
   ]
  },
  {
   "cell_type": "code",
   "execution_count": 3,
   "id": "f9463424",
   "metadata": {},
   "outputs": [],
   "source": [
    "%load_ext autoreload\n",
    "%autoreload 2"
   ]
  },
  {
   "cell_type": "code",
   "execution_count": 4,
   "id": "concrete-sociology",
   "metadata": {
    "scrolled": true
   },
   "outputs": [
    {
     "data": {
      "text/plain": [
       "True"
      ]
     },
     "execution_count": 4,
     "metadata": {},
     "output_type": "execute_result"
    }
   ],
   "source": [
    "# Compile functions in c++ for the dataframe\n",
    "def_cpp()"
   ]
  },
  {
   "cell_type": "code",
   "execution_count": 5,
   "id": "artistic-orlando",
   "metadata": {},
   "outputs": [],
   "source": [
    "#set up multithreading\n",
    "multiThreading = False\n",
    "if multiThreading: ROOT.ROOT.EnableImplicitMT()\n",
    "RDFrame = RDataFrame"
   ]
  },
  {
   "cell_type": "code",
   "execution_count": 6,
   "id": "female-period",
   "metadata": {},
   "outputs": [
    {
     "data": {
      "text/plain": [
       "('samplesCR_2016_Apr2020.root', 'samples/samplesCR_2016_Apr2020.yml')"
      ]
     },
     "execution_count": 6,
     "metadata": {},
     "output_type": "execute_result"
    }
   ],
   "source": [
    "#set up metadata for files\n",
    "era = '2016'\n",
    "deepflavour = False\n",
    "deepcsv = True\n",
    "extras = False\n",
    "csv_v_flavor=False\n",
    "if era == \"2016\":\n",
    "    fname = \"samplesCR_2016_Apr2020.yml\"\n",
    "    bDiscValue = 0.3093\n",
    "if era == \"2017\":\n",
    "    fname = \"samplesCR_2017_Apr2020.yml\"\n",
    "    bDiscValue = 0.3033\n",
    "if era == \"2018\":\n",
    "    fname = \"samplesCR_2018_Apr2020.yml\"\n",
    "    bDiscValue = 0.2770\n",
    "\n",
    "\n",
    "sampleDir = \"samples\"\n",
    "outname = fname.replace('.yml','.root')\n",
    "fname = \"{}/{}\".format(sampleDir, fname)\n",
    "outname, fname"
   ]
  },
  {
   "cell_type": "code",
   "execution_count": 7,
   "id": "319b3ec6",
   "metadata": {},
   "outputs": [],
   "source": [
    "from src.assets.bff_skimmer_bffv2 import *\n",
    "columns_data, columns_mc, var_postfix = make_columns(era, columns_data)"
   ]
  },
  {
   "cell_type": "code",
   "execution_count": 8,
   "id": "ebf266b7",
   "metadata": {},
   "outputs": [],
   "source": [
    "sample_path ='/eos/cms/store/group/phys_exotica/bffZprime/nanoAODskimmed/crab_bffv2/{}/{{}}'.format(era)\n",
    "eff_path ='/eos/cms/store/group/phys_exotica/bffZprime/nanoAODskimmed/crab_bff_eff/{}/{{}}'.format(era)"
   ]
  },
  {
   "cell_type": "code",
   "execution_count": 9,
   "id": "bored-wrong",
   "metadata": {},
   "outputs": [],
   "source": [
    "class sample_processor():\n",
    "    '''Class that takes file name from yml and helps manage samples.'''\n",
    "    def __init__(self,file_name,outname,bDiscValue,is_inclusive=0):\n",
    "        #load config\n",
    "        self.file_name = file_name\n",
    "        with open(file_name,'r') as f:\n",
    "            self.sample_dict = yaml.load(f, Loader=yaml.FullLoader)\n",
    "        #setup outfile\n",
    "        self.outname = outname\n",
    "        self.out = TFile(outname, 'recreate')\n",
    "        self.outdirs_dict = {}\n",
    "        for sample in self.samples():\n",
    "            name = sample['name']\n",
    "            self.outdirs_dict[name] = self.out.mkdir(name)\n",
    "        self.lumi = self.sample_dict['lumi']\n",
    "        #get and write lumi info\n",
    "        hlumi = TH1F(\"lumi\", \"lumi\", 1, 0, 1)\n",
    "        hlumi.SetDirectory(self.out)\n",
    "        hlumi.SetBinContent(1, self.lumi)\n",
    "        hlumi.Write()\n",
    "        self.bDiscValue = bDiscValue\n",
    "        self.is_inclusive = is_inclusive\n",
    "    def samples(self):\n",
    "        return self.sample_dict['samples']\n",
    "    def sample_names(self):\n",
    "        return [s['name'] for s in self.samples()]\n",
    "    def close(self):\n",
    "        self.out.Close()\n",
    "    def __repr__(self):\n",
    "        text_dict = {\"fn\":self.file_name,\n",
    "                     \"on\":self.outname, \n",
    "                     \"lumi\":self.lumi,\n",
    "                    \"samples\": self.sample_names()}\n",
    "        return '''from {fn} to {on}\\nlumi: {lumi}\\nSamples {samples}'''.format(**text_dict)"
   ]
  },
  {
   "cell_type": "code",
   "execution_count": 10,
   "id": "temporal-television",
   "metadata": {
    "scrolled": false
   },
   "outputs": [
    {
     "name": "stdout",
     "output_type": "stream",
     "text": [
      "from samples/samplesCR_2016_Apr2020.yml to samplesCR_2016_Apr2020.root\n",
      "lumi: 35.5\n",
      "Samples ['y3_250_deepflavour_bff', 'y3_400_deepflavour_bff', 'y3_1000_deepflavour_bff', 'y3_700_deepflavour_bff', 'ST_t-channel_top_4f_inclusiveDecays_13TeV-powhegV2-madspin-pythia8_TuneCUETP8M1', 'ST_s-channel_4f_leptonDecays_13TeV-amcatnlo-pythia8_TuneCUETP8M1', 'WWZ_TuneCUETP8M1_13TeV-amcatnlo-pythia8', 'ZZZ_TuneCUETP8M1_13TeV-amcatnlo-pythia8', 'WZZ_TuneCUETP8M1_13TeV-amcatnlo-pythia8', 'WWW_4F_TuneCUETP8M1_13TeV-amcatnlo-pythia8', 'WJetsToQQ_HT-800toInf_qc19_3j_TuneCUETP8M1_13TeV-madgraphMLM-pythia8', 'WJetsToQQ_HT-600ToInf_TuneCUETP8M1_13TeV-madgraphMLM-pythia8', 'WJetsToLNu_TuneCUETP8M1_13TeV-madgraphMLM-pythia8', 'TTWJetsToQQ_TuneCUETP8M1_13TeV-amcatnloFXFX-madspin-pythia8', 'TTWJetsToLNu_TuneCUETP8M1_13TeV-amcatnloFXFX-madspin-pythia8', 'TTZToQQ_TuneCUETP8M1_13TeV-amcatnlo-pythia8', 'TTZToLL_M-1to10_TuneCUETP8M1_13TeV-madgraphMLM-pythia8', 'TTZToLLNuNu_M-10_TuneCUETP8M1_13TeV-amcatnlo-pythia8', 'ttHToMuMu_M125_TuneCP5_PSweights_13TeV-powheg-pythia8', 'ZH_HToMuMu_ZToAll_M125_TuneCP5_PSweights_13TeV_powheg_pythia8', 'WplusH_HToMuMu_WToAll_M125_TuneCP5_PSweights_13TeV_powheg_pythia8', 'VBFHToMuMu_M125_TuneCP5_PSweights_13TeV_amcatnlo_pythia8', 'GluGluHToMuMu_M125_TuneCP5_PSweights_13TeV_amcatnloFXFX_pythia8', 'DYJetsToLL_M-50_TuneCUETP8M1_13TeV-amcatnloFXFX-pythia8', 'DYJetsToLL_M-50_TuneCUETP8M1_13TeV-madgraphMLM-pythia8', 'DYJetsToLL_M-100to200_TuneCUETP8M1_13TeV-amcatnloFXFX-pythia8', 'DYJetsToLL_M-500to700_TuneCUETP8M1_13TeV-amcatnloFXFX-pythia8', 'DYJetsToLL_M-400to500_TuneCUETP8M1_13TeV-amcatnloFXFX-pythia8', 'DYJetsToLL_M-200to400_TuneCUETP8M1_13TeV-amcatnloFXFX-pythia8', 'DYJetsToLL_M-800to1000_TuneCUETP8M1_13TeV-amcatnloFXFX-pythia8', 'BFFZprimeToMuMu_M_250_dbs0p04', 'BFFZprimeToMuMu_M_300_dbs0p04', 'BFFZprimeToMuMu_M_400_dbs0p04', 'ZToEE_M_120_200', 'ZToEE_M_200_400', 'ZToEE_M_400_800', 'ZToEE_M_50_120', 'ZToEE_M_800_1400', 'ZToMuMu_M_120_200', 'ZToMuMu_M_200_400', 'ZToMuMu_M_400_800', 'ZToMuMu_M_50_120', 'ZToMuMu_M_800_1400', 'mc_santitop', 'mc_stop', 'mc_ttbar', 'mc_ww', 'mc_wz', 'mc_zz', 'BFFZprimeToMuMu_M_500_dbs0p04', 'BFFZprimeToMuMu_M_500_dbs0p5', 'BFFZprimeToMuMu_M_500_dbs1p0', 'BFFZprimeToMuMu_M_350_dbs0p04', 'BFFZprimeToMuMu_M_350_dbs0p5', 'BFFZprimeToMuMu_M_350_dbs1p0', 'BFFZprimeToMuMu_M_200_dbs0p04', 'BFFZprimeToMuMu_M_200_dbs1p0', 'BFFZprimeToMuMu_M_200_dbs0p5', 'BFFZprimeToMuMu_M_125_dbs0p04', 'BFFZprimeToMuMu_M_125_dbs0p5', 'BFFZprimeToMuMu_M_125_dbs1p0', 'BFFZprimeToMuMu_M_150_dbs0p04', 'BFFZprimeToMuMu_M_150_dbs0p5', 'BFFZprimeToMuMu_M_150_dbs1p0', 'BFFZprimeToMuMu_M_175_dbs0p04', 'BFFZprimeToMuMu_M_175_dbs0p5', 'BFFZprimeToMuMu_M_175_dbs1p0', 'BFFZprimeToMuMu_M_750_dbs0p04', 'data_mu', 'data_el']\n"
     ]
    }
   ],
   "source": [
    "# create instance of sample manager class \n",
    "sp = sample_processor(fname, outname, bDiscValue)\n",
    "print(sp)"
   ]
  },
  {
   "cell_type": "code",
   "execution_count": 11,
   "id": "brazilian-final",
   "metadata": {},
   "outputs": [
    {
     "data": {
      "text/plain": [
       "'CR10_jet_jesTotalUp_muon_corrected_pt_ele_pt or CR11_jet_jesTotalUp_muon_corrected_pt_ele_pt or CR12_jet_jesTotalUp_muon_corrected_pt_ele_pt or CR13_jet_jesTotalUp_muon_corrected_pt_ele_pt or CR14_jet_jesTotalUp_muon_corrected_pt_ele_pt or CR20_jet_jesTotalUp_muon_corrected_pt_ele_pt or CR21_jet_jesTotalUp_muon_corrected_pt_ele_pt or CR22_jet_jesTotalUp_muon_corrected_pt_ele_pt or CR23_jet_jesTotalUp_muon_corrected_pt_ele_pt or CR24_jet_jesTotalUp_muon_corrected_pt_ele_pt or SR1_jet_jesTotalUp_muon_corrected_pt_ele_pt or SR2_jet_jesTotalUp_muon_corrected_pt_ele_pt or CR10_jet_jesTotalDown_muon_corrected_pt_ele_pt or CR11_jet_jesTotalDown_muon_corrected_pt_ele_pt or CR12_jet_jesTotalDown_muon_corrected_pt_ele_pt or CR13_jet_jesTotalDown_muon_corrected_pt_ele_pt or CR14_jet_jesTotalDown_muon_corrected_pt_ele_pt or CR20_jet_jesTotalDown_muon_corrected_pt_ele_pt or CR21_jet_jesTotalDown_muon_corrected_pt_ele_pt or CR22_jet_jesTotalDown_muon_corrected_pt_ele_pt or CR23_jet_jesTotalDown_muon_corrected_pt_ele_pt or CR24_jet_jesTotalDown_muon_corrected_pt_ele_pt or SR1_jet_jesTotalDown_muon_corrected_pt_ele_pt or SR2_jet_jesTotalDown_muon_corrected_pt_ele_pt or CR10_jet_nom_muon_correctedUp_pt_ele_pt or CR11_jet_nom_muon_correctedUp_pt_ele_pt or CR12_jet_nom_muon_correctedUp_pt_ele_pt or CR13_jet_nom_muon_correctedUp_pt_ele_pt or CR14_jet_nom_muon_correctedUp_pt_ele_pt or CR20_jet_nom_muon_correctedUp_pt_ele_pt or CR21_jet_nom_muon_correctedUp_pt_ele_pt or CR22_jet_nom_muon_correctedUp_pt_ele_pt or CR23_jet_nom_muon_correctedUp_pt_ele_pt or CR24_jet_nom_muon_correctedUp_pt_ele_pt or SR1_jet_nom_muon_correctedUp_pt_ele_pt or SR2_jet_nom_muon_correctedUp_pt_ele_pt or CR10_jet_nom_muon_correctedDown_pt_ele_pt or CR11_jet_nom_muon_correctedDown_pt_ele_pt or CR12_jet_nom_muon_correctedDown_pt_ele_pt or CR13_jet_nom_muon_correctedDown_pt_ele_pt or CR14_jet_nom_muon_correctedDown_pt_ele_pt or CR20_jet_nom_muon_correctedDown_pt_ele_pt or CR21_jet_nom_muon_correctedDown_pt_ele_pt or CR22_jet_nom_muon_correctedDown_pt_ele_pt or CR23_jet_nom_muon_correctedDown_pt_ele_pt or CR24_jet_nom_muon_correctedDown_pt_ele_pt or SR1_jet_nom_muon_correctedDown_pt_ele_pt or SR2_jet_nom_muon_correctedDown_pt_ele_pt or CR10_jet_jerUp_muon_corrected_pt_ele_pt or CR11_jet_jerUp_muon_corrected_pt_ele_pt or CR12_jet_jerUp_muon_corrected_pt_ele_pt or CR13_jet_jerUp_muon_corrected_pt_ele_pt or CR14_jet_jerUp_muon_corrected_pt_ele_pt or CR20_jet_jerUp_muon_corrected_pt_ele_pt or CR21_jet_jerUp_muon_corrected_pt_ele_pt or CR22_jet_jerUp_muon_corrected_pt_ele_pt or CR23_jet_jerUp_muon_corrected_pt_ele_pt or CR24_jet_jerUp_muon_corrected_pt_ele_pt or SR1_jet_jerUp_muon_corrected_pt_ele_pt or SR2_jet_jerUp_muon_corrected_pt_ele_pt or CR10_jet_jerDown_muon_corrected_pt_ele_pt or CR11_jet_jerDown_muon_corrected_pt_ele_pt or CR12_jet_jerDown_muon_corrected_pt_ele_pt or CR13_jet_jerDown_muon_corrected_pt_ele_pt or CR14_jet_jerDown_muon_corrected_pt_ele_pt or CR20_jet_jerDown_muon_corrected_pt_ele_pt or CR21_jet_jerDown_muon_corrected_pt_ele_pt or CR22_jet_jerDown_muon_corrected_pt_ele_pt or CR23_jet_jerDown_muon_corrected_pt_ele_pt or CR24_jet_jerDown_muon_corrected_pt_ele_pt or SR1_jet_jerDown_muon_corrected_pt_ele_pt or SR2_jet_jerDown_muon_corrected_pt_ele_pt or CR10_jet_jesTotalUp_muon_corrected_pt_ele_pt or CR11_jet_jesTotalUp_muon_corrected_pt_ele_pt or CR12_jet_jesTotalUp_muon_corrected_pt_ele_pt or CR13_jet_jesTotalUp_muon_corrected_pt_ele_pt or CR14_jet_jesTotalUp_muon_corrected_pt_ele_pt or CR20_jet_jesTotalUp_muon_corrected_pt_ele_pt or CR21_jet_jesTotalUp_muon_corrected_pt_ele_pt or CR22_jet_jesTotalUp_muon_corrected_pt_ele_pt or CR23_jet_jesTotalUp_muon_corrected_pt_ele_pt or CR24_jet_jesTotalUp_muon_corrected_pt_ele_pt or SR1_jet_jesTotalUp_muon_corrected_pt_ele_pt or SR2_jet_jesTotalUp_muon_corrected_pt_ele_pt or CR10_jet_jesTotalDown_muon_corrected_pt_ele_pt or CR11_jet_jesTotalDown_muon_corrected_pt_ele_pt or CR12_jet_jesTotalDown_muon_corrected_pt_ele_pt or CR13_jet_jesTotalDown_muon_corrected_pt_ele_pt or CR14_jet_jesTotalDown_muon_corrected_pt_ele_pt or CR20_jet_jesTotalDown_muon_corrected_pt_ele_pt or CR21_jet_jesTotalDown_muon_corrected_pt_ele_pt or CR22_jet_jesTotalDown_muon_corrected_pt_ele_pt or CR23_jet_jesTotalDown_muon_corrected_pt_ele_pt or CR24_jet_jesTotalDown_muon_corrected_pt_ele_pt or SR1_jet_jesTotalDown_muon_corrected_pt_ele_pt or SR2_jet_jesTotalDown_muon_corrected_pt_ele_pt or CR10_jet_nom_muon_corrected_pt_ele_pt or CR11_jet_nom_muon_corrected_pt_ele_pt or CR12_jet_nom_muon_corrected_pt_ele_pt or CR13_jet_nom_muon_corrected_pt_ele_pt or CR14_jet_nom_muon_corrected_pt_ele_pt or CR20_jet_nom_muon_corrected_pt_ele_pt or CR21_jet_nom_muon_corrected_pt_ele_pt or CR22_jet_nom_muon_corrected_pt_ele_pt or CR23_jet_nom_muon_corrected_pt_ele_pt or CR24_jet_nom_muon_corrected_pt_ele_pt or SR1_jet_nom_muon_corrected_pt_ele_pt or SR2_jet_nom_muon_corrected_pt_ele_pt '"
      ]
     },
     "execution_count": 11,
     "metadata": {},
     "output_type": "execute_result"
    }
   ],
   "source": [
    "# this creates long list of or statements for all permuations to select for events that are present in at least one region \n",
    "rs = [\"CR10\", \"CR11\", \"CR12\", \"CR13\", \"CR14\", \"CR20\", \"CR21\", \"CR22\", \"CR23\", \"CR24\", \"SR1\", \"SR2\"]\n",
    "\n",
    "mcstring = \"\"\n",
    "for jv in var_postfix:\n",
    "    for r in rs:\n",
    "        mcstring += \"{}{} or \".format(r,jv)\n",
    "\n",
    "JERC_var = ['jet_nom_muon_corrected_pt_ele_pt']\n",
    "string = \"\"\n",
    "for jv in JERC_var:\n",
    "    for r in rs:\n",
    "        string += \"{}_{} or \".format(r,jv)\n",
    "        mcstring += \"{}_{} or \".format(r,jv)\n",
    "data_region = string[:-3]\n",
    "mc_region = mcstring[:-3]\n",
    "mc_region"
   ]
  },
  {
   "cell_type": "code",
   "execution_count": 12,
   "id": "a34c7c75",
   "metadata": {},
   "outputs": [
    {
     "name": "stdout",
     "output_type": "stream",
     "text": [
      "DYJLL_M_200_400_deepflavour_bff_eff\r\n"
     ]
    }
   ],
   "source": [
    "!ls /eos/cms/store/group/phys_exotica/bffZprime/nanoAODskimmed/crab_bff_eff/2016/DYJetsToLL_M-200to400_TuneCUETP8M1_13TeV-amcatnloFXFX-pythia8"
   ]
  },
  {
   "cell_type": "code",
   "execution_count": 13,
   "id": "99238b40",
   "metadata": {},
   "outputs": [],
   "source": [
    "def process_sample(sp,sample,era,verbose=1):\n",
    "    '''Process each sample and produced csv.'''\n",
    "    #get metadata\n",
    "    name,xsec,nevts = sample['name'],sample['xsec'],sample['nevts']\n",
    "    ismc,dirName = int(sample['ismc']),sample['fileglob']\n",
    "    filePathName = sample_path.format(dirName)\n",
    "    #make file list\n",
    "    print(\"filePathName\", filePathName)\n",
    "    files_paths = list(Path(filePathName).rglob('*.root'))\n",
    "    files = list(map(lambda x: str(x), files_paths))\n",
    "    #return 1,1,1\n",
    "    #btageff file list\n",
    "    bTagEffGlobName = eff_path.format(dirName)\n",
    "    bTagEffGlobName = '/eos/cms/store/group/phys_exotica/bffZprime/nanoAODskimmed/crab_bff_eff/2016/DYJetsToLL_M-200to400_TuneCUETP8M1_13TeV-amcatnloFXFX-pythia8'\n",
    "    eff_paths = list(Path(bTagEffGlobName).rglob('*.root'))+ list(Path(bTagEffGlobName+\"_eff\").rglob('*.root'))\n",
    "    list_effs = list(map(lambda x: str(x), eff_paths))   \n",
    "    # get n events from skim if 0\n",
    "    if not nevts:\n",
    "        nevts = get_nEvents(files)\n",
    "        print(nevts)  \n",
    "    sample_weight = float(xsec)*sp.lumi/float(nevts)\n",
    "    print(float(xsec), sp.lumi, float(nevts), sample_weight)\n",
    "    if verbose: print(\"name: {} , xsec: {}, nevents: {} ismc: {}\".format(name,xsec,nevts,ismc))\n",
    "    #set up btagging and puid sf files\n",
    "    bTagFile, PUIDSFfile = setup_btag_puid(ismc, era, list_effs)\n",
    "    #make rdf\n",
    "    df = RDFrame('Events', files)\n",
    "    #df = df.Range(0, int(1000))\n",
    "    ##\n",
    "    ## filter\n",
    "    ##\n",
    "    df = df.Filter(\"DiLepMass_jet_nom_muon_corrected_pt_ele_pt>105\", \"mass_cut\")\n",
    "    print(\"ismc\", ismc)\n",
    "    if ismc:\n",
    "        df = df.Filter(mc_region, \"in_region\")\n",
    "    else:\n",
    "        df = df.Filter(data_region, \"in_region\")\n",
    "    df = df.Filter(\"Flag_METFilters==1\", \"METFilter\")    \n",
    "    ##\n",
    "    ## set up objects\n",
    "    ##    \n",
    "    var_string = '_jet_nom_muon_corrected_pt_ele_pt'\n",
    "    df = def_good_leptons(df, ismc, era, var_string)\n",
    "    ##\n",
    "    ## set weights\n",
    "    ##     \n",
    "    df = def_HLT(df, ismc, era)\n",
    "    df = bjet_weight(df,ismc, sp.is_inclusive, name, sample_weight, era)\n",
    "    df = pdf_weight(df,ismc, sp.is_inclusive, name, sample_weight, era)\n",
    "    df = fsr_isr_weight(df,ismc, sp.is_inclusive, name, sample_weight, era)\n",
    "    df = muon_weight(df,ismc, sp.is_inclusive, name, sample_weight, era)\n",
    "    df = electron_weight(df,ismc, sp.is_inclusive, name, sample_weight, era)\n",
    "    df = k_factor(df,ismc, sp.is_inclusive, name, sample_weight, era)\n",
    "    df = PU_weight(df,ismc, sp.is_inclusive, name, sample_weight, era, bDiscValue)\n",
    "    df = finalize_weights(df,ismc, sp.is_inclusive, name, sample_weight, era)\n",
    "    if ismc:\n",
    "        df = df.Define(\"JER\", \"SysPercPerObj(Jet_pt_nom, Jet_pt_jerUp, Jet_pt_jerDown, 0)\")\n",
    "        df = df.Define(\"AvgJER\", \"clip(CalcAverage(JER))\")\n",
    "        df = df.Define(\"JES\", \"SysPercPerObj(Jet_pt_nom, Jet_pt_jesTotalUp, Jet_pt_jesTotalDown, 0)\")\n",
    "        df = df.Define(\"AvgJES\", \"CalcAverage(JES)\")\n",
    "        df = df.Define(\"HEM\", \"SysPercPerObj(Jet_pt_nom, Jet_pt_jesHEMIssueUp, Jet_pt_jesHEMIssueDown, 0)\")\n",
    "        df = df.Define(\"AvgHEM\", \"CalcAverage(HEM)\")\n",
    "    else:\n",
    "        df = df.Define(\"JER\", \"1.\")\n",
    "        df = df.Define(\"AvgJER\", \"1.\")\n",
    "        df = df.Define(\"JES\", \"1.\")\n",
    "        df = df.Define(\"AvgJES\", \"1.\")\n",
    "        df = df.Define(\"HEM\", \"1.\")\n",
    "        df = df.Define(\"AvgHEM\", \"1.\")     \n",
    "    lcolumn = columns_mc\n",
    "    if not ismc:\n",
    "        lcolumn = columns_data\n",
    "    lcolumn += ['PUIDWeight','PUIDWeightUp','PUIDWeightDown',\n",
    "                'MuonTriggerEff', 'Weight_MuonTriggerUp', 'Weight_MuonTriggerDown',\n",
    "                'genWeight'\n",
    "                ,'k_factor'\n",
    "                ,'puWeight'\n",
    "                ,'PUIDWeight'\n",
    "                ,'MuonSFweight'\n",
    "                ,'ElectronSFweight'\n",
    "                ,'TriggerWeight'\n",
    "                ,'AvgMuonRecoIdIsoSFPerMuon'\n",
    "                ,'AvgMuonRocPer',\n",
    "               'AvgJER', 'AvgJES', 'AvgHEM',\n",
    "                'AvgPUIDWeightsPerJet',\n",
    "                'AvgBtagWeight',\n",
    "                \n",
    "               ]\n",
    "    df_np = df.AsNumpy(lcolumn)\n",
    "    df_df = pd.DataFrame(df_np)\n",
    "    df_df.to_csv('data/tw_{}_{}.csv'.format(era,name))\n",
    "    return name,df_df,filePathName"
   ]
  },
  {
   "cell_type": "code",
   "execution_count": null,
   "id": "empty-consciousness",
   "metadata": {
    "scrolled": false
   },
   "outputs": [
    {
     "name": "stdout",
     "output_type": "stream",
     "text": [
      "ST_t-channel_top_4f_inclusiveDecays_13TeV-powhegV2-madspin-pythia8_TuneCUETP8M1\n",
      "filePathName /eos/cms/store/group/phys_exotica/bffZprime/nanoAODskimmed/crab_bffv2/2016/ST_t-channel_top_4f_inclusiveDecays_13TeV-powhegV2-madspin-pythia8_TuneCUETP8M1\n",
      "116806840.0\n",
      "113300.0 35.5 116806840.0 0.03443419923011358\n",
      "name: ST_t-channel_top_4f_inclusiveDecays_13TeV-powhegV2-madspin-pythia8_TuneCUETP8M1 , xsec: 113300, nevents: 116806840.0 ismc: 1\n",
      "ismc 1\n",
      "ST_t-channel_top_4f_inclusiveDecays_13TeV-powhegV2-madspin-pythia8_TuneCUETP8M1 63.872497729957104\n",
      "ST_s-channel_4f_leptonDecays_13TeV-amcatnlo-pythia8_TuneCUETP8M1\n",
      "filePathName /eos/cms/store/group/phys_exotica/bffZprime/nanoAODskimmed/crab_bffv2/2016/ST_s-channel_4f_leptonDecays_13TeV-amcatnlo-pythia8_TuneCUETP8M1\n",
      "1245980.0\n",
      "3365.0 35.5 1245980.0 0.09587433185123356\n",
      "name: ST_s-channel_4f_leptonDecays_13TeV-amcatnlo-pythia8_TuneCUETP8M1 , xsec: 3365, nevents: 1245980.0 ismc: 1\n",
      "ismc 1\n",
      "ST_s-channel_4f_leptonDecays_13TeV-amcatnlo-pythia8_TuneCUETP8M1 10.084032548125833\n",
      "WWZ_TuneCUETP8M1_13TeV-amcatnlo-pythia8\n",
      "filePathName /eos/cms/store/group/phys_exotica/bffZprime/nanoAODskimmed/crab_bffv2/2016/WWZ_TuneCUETP8M1_13TeV-amcatnlo-pythia8\n",
      "442936.0\n",
      "165.1 35.5 442936.0 0.013232272833998592\n",
      "name: WWZ_TuneCUETP8M1_13TeV-amcatnlo-pythia8 , xsec: 165.1, nevents: 442936.0 ismc: 1\n",
      "ismc 1\n",
      "WWZ_TuneCUETP8M1_13TeV-amcatnlo-pythia8 17.14395986008458\n",
      "ZZZ_TuneCUETP8M1_13TeV-amcatnlo-pythia8\n",
      "filePathName /eos/cms/store/group/phys_exotica/bffZprime/nanoAODskimmed/crab_bffv2/2016/ZZZ_TuneCUETP8M1_13TeV-amcatnlo-pythia8\n",
      "426394.0\n",
      "13.98 35.5 426394.0 0.0011639235073664263\n",
      "name: ZZZ_TuneCUETP8M1_13TeV-amcatnlo-pythia8 , xsec: 13.98, nevents: 426394.0 ismc: 1\n",
      "ismc 1\n",
      "ZZZ_TuneCUETP8M1_13TeV-amcatnlo-pythia8 22.778156141983345\n",
      "WZZ_TuneCUETP8M1_13TeV-amcatnlo-pythia8\n",
      "filePathName /eos/cms/store/group/phys_exotica/bffZprime/nanoAODskimmed/crab_bffv2/2016/WZZ_TuneCUETP8M1_13TeV-amcatnlo-pythia8\n",
      "432732.0\n",
      "55.65 35.5 432732.0 0.004565354538143701\n",
      "name: WZZ_TuneCUETP8M1_13TeV-amcatnlo-pythia8 , xsec: 55.65, nevents: 432732.0 ismc: 1\n",
      "ismc 1\n",
      "WZZ_TuneCUETP8M1_13TeV-amcatnlo-pythia8 29.32184478919953\n",
      "WWW_4F_TuneCUETP8M1_13TeV-amcatnlo-pythia8\n",
      "filePathName /eos/cms/store/group/phys_exotica/bffZprime/nanoAODskimmed/crab_bffv2/2016/WWW_4F_TuneCUETP8M1_13TeV-amcatnlo-pythia8\n",
      "421076.0\n",
      "208.6 35.5 421076.0 0.01758661144306491\n",
      "name: WWW_4F_TuneCUETP8M1_13TeV-amcatnlo-pythia8 , xsec: 208.6, nevents: 421076.0 ismc: 1\n",
      "ismc 1\n",
      "WWW_4F_TuneCUETP8M1_13TeV-amcatnlo-pythia8 36.1786783200223\n",
      "WJetsToQQ_HT-800toInf_qc19_3j_TuneCUETP8M1_13TeV-madgraphMLM-pythia8\n",
      "filePathName /eos/cms/store/group/phys_exotica/bffZprime/nanoAODskimmed/crab_bffv2/2016/WJetsToQQ_HT-800toInf_qc19_3j_TuneCUETP8M1_13TeV-madgraphMLM-pythia8\n",
      "16725618.0\n",
      "34690.0 35.5 16725618.0 0.07362926739089701\n",
      "name: WJetsToQQ_HT-800toInf_qc19_3j_TuneCUETP8M1_13TeV-madgraphMLM-pythia8 , xsec: 34690, nevents: 16725618.0 ismc: 1\n",
      "ismc 1\n",
      "WJetsToQQ_HT-800toInf_qc19_3j_TuneCUETP8M1_13TeV-madgraphMLM-pythia8 54.8139344570227\n",
      "WJetsToQQ_HT-600ToInf_TuneCUETP8M1_13TeV-madgraphMLM-pythia8\n",
      "filePathName /eos/cms/store/group/phys_exotica/bffZprime/nanoAODskimmed/crab_bffv2/2016/WJetsToQQ_HT-600ToInf_TuneCUETP8M1_13TeV-madgraphMLM-pythia8\n",
      "2053174.0\n",
      "99650.0 35.5 2053174.0 1.7229786662016955\n",
      "name: WJetsToQQ_HT-600ToInf_TuneCUETP8M1_13TeV-madgraphMLM-pythia8 , xsec: 99650, nevents: 2053174.0 ismc: 1\n",
      "ismc 1\n",
      "WJetsToQQ_HT-600ToInf_TuneCUETP8M1_13TeV-madgraphMLM-pythia8 20.444131243042648\n",
      "WJetsToLNu_TuneCUETP8M1_13TeV-madgraphMLM-pythia8\n",
      "filePathName /eos/cms/store/group/phys_exotica/bffZprime/nanoAODskimmed/crab_bffv2/2016/WJetsToLNu_TuneCUETP8M1_13TeV-madgraphMLM-pythia8\n",
      "114804870.0\n",
      "50260000.0 35.5 114804870.0 15.541413879045376\n",
      "name: WJetsToLNu_TuneCUETP8M1_13TeV-madgraphMLM-pythia8 , xsec: 50260000, nevents: 114804870.0 ismc: 1\n",
      "ismc 1\n",
      "WJetsToLNu_TuneCUETP8M1_13TeV-madgraphMLM-pythia8 79.10005484288558\n",
      "TTWJetsToQQ_TuneCUETP8M1_13TeV-amcatnloFXFX-madspin-pythia8\n",
      "filePathName /eos/cms/store/group/phys_exotica/bffZprime/nanoAODskimmed/crab_bffv2/2016/TTWJetsToQQ_TuneCUETP8M1_13TeV-amcatnloFXFX-madspin-pythia8\n",
      "860620.0\n",
      "405.0 35.5 860620.0 0.016705979410192653\n",
      "name: TTWJetsToQQ_TuneCUETP8M1_13TeV-amcatnloFXFX-madspin-pythia8 , xsec: 405, nevents: 860620.0 ismc: 1\n",
      "ismc 1\n",
      "TTWJetsToQQ_TuneCUETP8M1_13TeV-amcatnloFXFX-madspin-pythia8 85.29756409605034\n",
      "TTWJetsToLNu_TuneCUETP8M1_13TeV-amcatnloFXFX-madspin-pythia8\n",
      "filePathName /eos/cms/store/group/phys_exotica/bffZprime/nanoAODskimmed/crab_bffv2/2016/TTWJetsToLNu_TuneCUETP8M1_13TeV-amcatnloFXFX-madspin-pythia8\n",
      "3207054.0\n",
      "200.1 35.5 3207054.0 0.0022149767356583333\n",
      "name: TTWJetsToLNu_TuneCUETP8M1_13TeV-amcatnloFXFX-madspin-pythia8 , xsec: 200.1, nevents: 3207054.0 ismc: 1\n",
      "ismc 1\n"
     ]
    }
   ],
   "source": [
    "for sample in sp.samples():\n",
    "    name = sample['name']\n",
    "    #print(name)\n",
    "    if  'y3' in name: continue\n",
    "    if  'BFF' in name: continue\n",
    "    #if  not 'BFF' in name: continue\n",
    "    #if name!=\"BFFZprimeToMuMu_M_350_dbs0p04\": continue\n",
    "    #if not ((('350' in name) and ('0p04' in name)) or (('300' in name) and ('0p04' in name))) : continue\n",
    "    #if not '0p04' in name: continue\n",
    "    print(name)\n",
    "    #if not (('250' in name) or ('300' in name) or ('450' in name)): continue\n",
    "    #if not 'data' in name: continue\n",
    "    start_time = perf_counter()\n",
    "    name,df,fileglob = process_sample(sp,sample,era, verbose=1)\n",
    "    #count = df.Count()\n",
    "    end_time = perf_counter()\n",
    "    try:\n",
    "        print(name,end_time-start_time)\n",
    "    except:\n",
    "        print(name,end_time-start_time)\n",
    "sp.close()"
   ]
  },
  {
   "cell_type": "code",
   "execution_count": 15,
   "id": "f8101247",
   "metadata": {},
   "outputs": [],
   "source": [
    "import pandas as pd"
   ]
  },
  {
   "cell_type": "code",
   "execution_count": 16,
   "id": "8d490ce1",
   "metadata": {},
   "outputs": [],
   "source": [
    "path = 'data/tw_2017_BFFZprimeToMuMu_M_750_dbs0p04.csv'\n",
    "df = pd.read_csv(path)"
   ]
  },
  {
   "cell_type": "code",
   "execution_count": 17,
   "id": "e54278b3",
   "metadata": {
    "scrolled": true
   },
   "outputs": [
    {
     "name": "stdout",
     "output_type": "stream",
     "text": [
      "Unnamed: 0\n",
      "Weight_PuUp\n",
      "Weight_PuDown\n",
      "Weight_BTagUp\n",
      "Weight_BTagDown\n",
      "Weight_PUIDUp\n",
      "Weight_PUIDDown\n",
      "Weight_PDF_Up\n",
      "Weight_PDF_Down\n",
      "Weight_ISRFSR_Up\n",
      "Weight_ISRFSR_Down\n",
      "Weight_MuonSFUp\n",
      "Weight_MuonSFDown\n",
      "Weight_ElectronSFUp\n",
      "Weight_ElectronSFDown\n",
      "Weight\n",
      "sample_weight\n",
      "TriggerWeight\n",
      "Flag_goodVertices\n",
      "Flag_globalSuperTightHalo2016Filter\n",
      "Flag_HBHENoiseFilter\n",
      "Flag_HBHENoiseIsoFilter\n",
      "Flag_EcalDeadCellTriggerPrimitiveFilter\n",
      "Flag_BadPFMuonFilter\n",
      "Flag_eeBadScFilter\n",
      "Flag_METFilters\n",
      "minGoodJetElDR_jet_nom_muon_corrected_pt_ele_pt\n",
      "minGoodJetMuDR_jet_nom_muon_corrected_pt_ele_pt\n",
      "DiLepMass_jet_nom_muon_corrected_pt_ele_pt\n",
      "HTLT_jet_nom_muon_corrected_pt_ele_pt\n",
      "RelMET_jet_nom_muon_corrected_pt_ele_pt\n",
      "TMB_jet_nom_muon_corrected_pt_ele_pt\n",
      "TMBMin_jet_nom_muon_corrected_pt_ele_pt\n",
      "TMBMax_jet_nom_muon_corrected_pt_ele_pt\n",
      "SR2_jet_nom_muon_corrected_pt_ele_pt\n",
      "SR1_jet_nom_muon_corrected_pt_ele_pt\n",
      "CR10_jet_nom_muon_corrected_pt_ele_pt\n",
      "CR11_jet_nom_muon_corrected_pt_ele_pt\n",
      "CR12_jet_nom_muon_corrected_pt_ele_pt\n",
      "CR13_jet_nom_muon_corrected_pt_ele_pt\n",
      "CR14_jet_nom_muon_corrected_pt_ele_pt\n",
      "CR20_jet_nom_muon_corrected_pt_ele_pt\n",
      "CR21_jet_nom_muon_corrected_pt_ele_pt\n",
      "CR22_jet_nom_muon_corrected_pt_ele_pt\n",
      "CR23_jet_nom_muon_corrected_pt_ele_pt\n",
      "CR24_jet_nom_muon_corrected_pt_ele_pt\n",
      "nLep_jet_nom_muon_corrected_pt_ele_pt\n",
      "nLowPtLep_jet_nom_muon_corrected_pt_ele_pt\n",
      "Weight_L1Down\n",
      "Weight_L1Up\n",
      "HLT_Mu50\n",
      "HLT_OldMu100\n",
      "HLT_TkMu100\n",
      "HLT_DoubleEle33_CaloIdL_MW\n",
      "HLT_DoubleEle25_CaloIdL_MW\n",
      "minGoodJetElDR_jet_jesTotalUp_muon_corrected_pt_ele_pt\n",
      "minGoodJetMuDR_jet_jesTotalUp_muon_corrected_pt_ele_pt\n",
      "DiLepMass_jet_jesTotalUp_muon_corrected_pt_ele_pt\n",
      "HTLT_jet_jesTotalUp_muon_corrected_pt_ele_pt\n",
      "RelMET_jet_jesTotalUp_muon_corrected_pt_ele_pt\n",
      "TMB_jet_jesTotalUp_muon_corrected_pt_ele_pt\n",
      "TMBMin_jet_jesTotalUp_muon_corrected_pt_ele_pt\n",
      "TMBMax_jet_jesTotalUp_muon_corrected_pt_ele_pt\n",
      "SR2_jet_jesTotalUp_muon_corrected_pt_ele_pt\n",
      "SR1_jet_jesTotalUp_muon_corrected_pt_ele_pt\n",
      "CR10_jet_jesTotalUp_muon_corrected_pt_ele_pt\n",
      "CR11_jet_jesTotalUp_muon_corrected_pt_ele_pt\n",
      "CR12_jet_jesTotalUp_muon_corrected_pt_ele_pt\n",
      "CR13_jet_jesTotalUp_muon_corrected_pt_ele_pt\n",
      "CR14_jet_jesTotalUp_muon_corrected_pt_ele_pt\n",
      "CR20_jet_jesTotalUp_muon_corrected_pt_ele_pt\n",
      "CR21_jet_jesTotalUp_muon_corrected_pt_ele_pt\n",
      "CR22_jet_jesTotalUp_muon_corrected_pt_ele_pt\n",
      "CR23_jet_jesTotalUp_muon_corrected_pt_ele_pt\n",
      "CR24_jet_jesTotalUp_muon_corrected_pt_ele_pt\n",
      "nLep_jet_jesTotalUp_muon_corrected_pt_ele_pt\n",
      "nLowPtLep_jet_jesTotalUp_muon_corrected_pt_ele_pt\n",
      "minGoodJetElDR_jet_jesTotalDown_muon_corrected_pt_ele_pt\n",
      "minGoodJetMuDR_jet_jesTotalDown_muon_corrected_pt_ele_pt\n",
      "DiLepMass_jet_jesTotalDown_muon_corrected_pt_ele_pt\n",
      "HTLT_jet_jesTotalDown_muon_corrected_pt_ele_pt\n",
      "RelMET_jet_jesTotalDown_muon_corrected_pt_ele_pt\n",
      "TMB_jet_jesTotalDown_muon_corrected_pt_ele_pt\n",
      "TMBMin_jet_jesTotalDown_muon_corrected_pt_ele_pt\n",
      "TMBMax_jet_jesTotalDown_muon_corrected_pt_ele_pt\n",
      "SR2_jet_jesTotalDown_muon_corrected_pt_ele_pt\n",
      "SR1_jet_jesTotalDown_muon_corrected_pt_ele_pt\n",
      "CR10_jet_jesTotalDown_muon_corrected_pt_ele_pt\n",
      "CR11_jet_jesTotalDown_muon_corrected_pt_ele_pt\n",
      "CR12_jet_jesTotalDown_muon_corrected_pt_ele_pt\n",
      "CR13_jet_jesTotalDown_muon_corrected_pt_ele_pt\n",
      "CR14_jet_jesTotalDown_muon_corrected_pt_ele_pt\n",
      "CR20_jet_jesTotalDown_muon_corrected_pt_ele_pt\n",
      "CR21_jet_jesTotalDown_muon_corrected_pt_ele_pt\n",
      "CR22_jet_jesTotalDown_muon_corrected_pt_ele_pt\n",
      "CR23_jet_jesTotalDown_muon_corrected_pt_ele_pt\n",
      "CR24_jet_jesTotalDown_muon_corrected_pt_ele_pt\n",
      "nLep_jet_jesTotalDown_muon_corrected_pt_ele_pt\n",
      "nLowPtLep_jet_jesTotalDown_muon_corrected_pt_ele_pt\n",
      "minGoodJetElDR_jet_nom_muon_correctedUp_pt_ele_pt\n",
      "minGoodJetMuDR_jet_nom_muon_correctedUp_pt_ele_pt\n",
      "DiLepMass_jet_nom_muon_correctedUp_pt_ele_pt\n",
      "HTLT_jet_nom_muon_correctedUp_pt_ele_pt\n",
      "RelMET_jet_nom_muon_correctedUp_pt_ele_pt\n",
      "TMB_jet_nom_muon_correctedUp_pt_ele_pt\n",
      "TMBMin_jet_nom_muon_correctedUp_pt_ele_pt\n",
      "TMBMax_jet_nom_muon_correctedUp_pt_ele_pt\n",
      "SR2_jet_nom_muon_correctedUp_pt_ele_pt\n",
      "SR1_jet_nom_muon_correctedUp_pt_ele_pt\n",
      "CR10_jet_nom_muon_correctedUp_pt_ele_pt\n",
      "CR11_jet_nom_muon_correctedUp_pt_ele_pt\n",
      "CR12_jet_nom_muon_correctedUp_pt_ele_pt\n",
      "CR13_jet_nom_muon_correctedUp_pt_ele_pt\n",
      "CR14_jet_nom_muon_correctedUp_pt_ele_pt\n",
      "CR20_jet_nom_muon_correctedUp_pt_ele_pt\n",
      "CR21_jet_nom_muon_correctedUp_pt_ele_pt\n",
      "CR22_jet_nom_muon_correctedUp_pt_ele_pt\n",
      "CR23_jet_nom_muon_correctedUp_pt_ele_pt\n",
      "CR24_jet_nom_muon_correctedUp_pt_ele_pt\n",
      "nLep_jet_nom_muon_correctedUp_pt_ele_pt\n",
      "nLowPtLep_jet_nom_muon_correctedUp_pt_ele_pt\n",
      "minGoodJetElDR_jet_nom_muon_correctedDown_pt_ele_pt\n",
      "minGoodJetMuDR_jet_nom_muon_correctedDown_pt_ele_pt\n",
      "DiLepMass_jet_nom_muon_correctedDown_pt_ele_pt\n",
      "HTLT_jet_nom_muon_correctedDown_pt_ele_pt\n",
      "RelMET_jet_nom_muon_correctedDown_pt_ele_pt\n",
      "TMB_jet_nom_muon_correctedDown_pt_ele_pt\n",
      "TMBMin_jet_nom_muon_correctedDown_pt_ele_pt\n",
      "TMBMax_jet_nom_muon_correctedDown_pt_ele_pt\n",
      "SR2_jet_nom_muon_correctedDown_pt_ele_pt\n",
      "SR1_jet_nom_muon_correctedDown_pt_ele_pt\n",
      "CR10_jet_nom_muon_correctedDown_pt_ele_pt\n",
      "CR11_jet_nom_muon_correctedDown_pt_ele_pt\n",
      "CR12_jet_nom_muon_correctedDown_pt_ele_pt\n",
      "CR13_jet_nom_muon_correctedDown_pt_ele_pt\n",
      "CR14_jet_nom_muon_correctedDown_pt_ele_pt\n",
      "CR20_jet_nom_muon_correctedDown_pt_ele_pt\n",
      "CR21_jet_nom_muon_correctedDown_pt_ele_pt\n",
      "CR22_jet_nom_muon_correctedDown_pt_ele_pt\n",
      "CR23_jet_nom_muon_correctedDown_pt_ele_pt\n",
      "CR24_jet_nom_muon_correctedDown_pt_ele_pt\n",
      "nLep_jet_nom_muon_correctedDown_pt_ele_pt\n",
      "nLowPtLep_jet_nom_muon_correctedDown_pt_ele_pt\n",
      "minGoodJetElDR_jet_jerUp_muon_corrected_pt_ele_pt\n",
      "minGoodJetMuDR_jet_jerUp_muon_corrected_pt_ele_pt\n",
      "DiLepMass_jet_jerUp_muon_corrected_pt_ele_pt\n",
      "HTLT_jet_jerUp_muon_corrected_pt_ele_pt\n",
      "RelMET_jet_jerUp_muon_corrected_pt_ele_pt\n",
      "TMB_jet_jerUp_muon_corrected_pt_ele_pt\n",
      "TMBMin_jet_jerUp_muon_corrected_pt_ele_pt\n",
      "TMBMax_jet_jerUp_muon_corrected_pt_ele_pt\n",
      "SR2_jet_jerUp_muon_corrected_pt_ele_pt\n",
      "SR1_jet_jerUp_muon_corrected_pt_ele_pt\n",
      "CR10_jet_jerUp_muon_corrected_pt_ele_pt\n",
      "CR11_jet_jerUp_muon_corrected_pt_ele_pt\n",
      "CR12_jet_jerUp_muon_corrected_pt_ele_pt\n",
      "CR13_jet_jerUp_muon_corrected_pt_ele_pt\n",
      "CR14_jet_jerUp_muon_corrected_pt_ele_pt\n",
      "CR20_jet_jerUp_muon_corrected_pt_ele_pt\n",
      "CR21_jet_jerUp_muon_corrected_pt_ele_pt\n",
      "CR22_jet_jerUp_muon_corrected_pt_ele_pt\n",
      "CR23_jet_jerUp_muon_corrected_pt_ele_pt\n",
      "CR24_jet_jerUp_muon_corrected_pt_ele_pt\n",
      "nLep_jet_jerUp_muon_corrected_pt_ele_pt\n",
      "nLowPtLep_jet_jerUp_muon_corrected_pt_ele_pt\n",
      "minGoodJetElDR_jet_jerDown_muon_corrected_pt_ele_pt\n",
      "minGoodJetMuDR_jet_jerDown_muon_corrected_pt_ele_pt\n",
      "DiLepMass_jet_jerDown_muon_corrected_pt_ele_pt\n",
      "HTLT_jet_jerDown_muon_corrected_pt_ele_pt\n",
      "RelMET_jet_jerDown_muon_corrected_pt_ele_pt\n",
      "TMB_jet_jerDown_muon_corrected_pt_ele_pt\n",
      "TMBMin_jet_jerDown_muon_corrected_pt_ele_pt\n",
      "TMBMax_jet_jerDown_muon_corrected_pt_ele_pt\n",
      "SR2_jet_jerDown_muon_corrected_pt_ele_pt\n",
      "SR1_jet_jerDown_muon_corrected_pt_ele_pt\n",
      "CR10_jet_jerDown_muon_corrected_pt_ele_pt\n",
      "CR11_jet_jerDown_muon_corrected_pt_ele_pt\n",
      "CR12_jet_jerDown_muon_corrected_pt_ele_pt\n",
      "CR13_jet_jerDown_muon_corrected_pt_ele_pt\n",
      "CR14_jet_jerDown_muon_corrected_pt_ele_pt\n",
      "CR20_jet_jerDown_muon_corrected_pt_ele_pt\n",
      "CR21_jet_jerDown_muon_corrected_pt_ele_pt\n",
      "CR22_jet_jerDown_muon_corrected_pt_ele_pt\n",
      "CR23_jet_jerDown_muon_corrected_pt_ele_pt\n",
      "CR24_jet_jerDown_muon_corrected_pt_ele_pt\n",
      "nLep_jet_jerDown_muon_corrected_pt_ele_pt\n",
      "nLowPtLep_jet_jerDown_muon_corrected_pt_ele_pt\n",
      "PUIDWeight\n",
      "PUIDWeightUp\n",
      "PUIDWeightDown\n",
      "MuonTriggerEff\n",
      "Weight_MuonTriggerUp\n",
      "Weight_MuonTriggerDown\n",
      "genWeight\n",
      "k_factor\n",
      "puWeight\n",
      "MuonSFweight\n",
      "ElectronSFweight\n",
      "AvgMuonRecoIdIsoSFPerMuon\n",
      "AvgMuonRocPer\n",
      "AvgJER\n",
      "AvgJES\n",
      "AvgHEM\n",
      "AvgPUIDWeightsPerJet\n",
      "AvgBtagWeight\n"
     ]
    }
   ],
   "source": [
    "for x in df:\n",
    "    print(x)"
   ]
  },
  {
   "cell_type": "code",
   "execution_count": 18,
   "id": "305b7894",
   "metadata": {},
   "outputs": [
    {
     "data": {
      "text/plain": [
       "0.01304017195398331"
      ]
     },
     "execution_count": 18,
     "metadata": {},
     "output_type": "execute_result"
    }
   ],
   "source": [
    "df.Weight_MuonTriggerUp.mean()*100"
   ]
  },
  {
   "cell_type": "code",
   "execution_count": 19,
   "id": "d6eb9922",
   "metadata": {},
   "outputs": [
    {
     "data": {
      "text/plain": [
       "0.20212692828851295"
      ]
     },
     "execution_count": 19,
     "metadata": {},
     "output_type": "execute_result"
    }
   ],
   "source": [
    "df.Weight_BTagUp.mean()*100"
   ]
  },
  {
   "cell_type": "code",
   "execution_count": 20,
   "id": "437a5559",
   "metadata": {},
   "outputs": [],
   "source": [
    "import uproot as upr"
   ]
  },
  {
   "cell_type": "code",
   "execution_count": 21,
   "id": "ed0bdb3e",
   "metadata": {},
   "outputs": [],
   "source": [
    "skim_path = '/eos/cms/store/group/phys_exotica/bffZprime/nanoAODskimmed/crab_bffv2/2017/BFF_175_dbs0p5_deepflavour_bffv2/221019_071128/0000/tree_1.root'"
   ]
  },
  {
   "cell_type": "code",
   "execution_count": 22,
   "id": "dcecf503",
   "metadata": {
    "scrolled": false
   },
   "outputs": [],
   "source": [
    "upf = upr.open(skim_path)['Events']"
   ]
  },
  {
   "cell_type": "code",
   "execution_count": 23,
   "id": "eb389db5",
   "metadata": {
    "scrolled": false
   },
   "outputs": [
    {
     "data": {
      "text/plain": [
       "Muon_effSF_sys_triggerUp      0.003894\n",
       "Muon_effSF_trigger            0.981585\n",
       "Muon_effSF_sys_triggerDown    0.003894\n",
       "dtype: float32"
      ]
     },
     "execution_count": 23,
     "metadata": {},
     "output_type": "execute_result"
    }
   ],
   "source": [
    "upf.arrays(['Muon_effSF_sys_triggerUp',\n",
    "           'Muon_effSF_trigger',\n",
    "           'Muon_effSF_sys_triggerDown'], library='pd').mean()"
   ]
  },
  {
   "cell_type": "code",
   "execution_count": 24,
   "id": "7dbc63dd",
   "metadata": {},
   "outputs": [],
   "source": [
    "import pandas as pd"
   ]
  },
  {
   "cell_type": "code",
   "execution_count": 25,
   "id": "523c266f",
   "metadata": {},
   "outputs": [
    {
     "ename": "FileNotFoundError",
     "evalue": "[Errno 2] No such file or directory: 'data/tw_2016_BFFZprimeToMuMu_M_250_dbs0p04.csv'",
     "output_type": "error",
     "traceback": [
      "\u001b[0;31m---------------------------------------------------------------------------\u001b[0m",
      "\u001b[0;31mFileNotFoundError\u001b[0m                         Traceback (most recent call last)",
      "\u001b[0;32m/tmp/rymuelle/ipykernel_9879/3939313705.py\u001b[0m in \u001b[0;36m<module>\u001b[0;34m\u001b[0m\n\u001b[0;32m----> 1\u001b[0;31m \u001b[0mdf\u001b[0m \u001b[0;34m=\u001b[0m \u001b[0mpd\u001b[0m\u001b[0;34m.\u001b[0m\u001b[0mread_csv\u001b[0m\u001b[0;34m(\u001b[0m\u001b[0;34m'data/tw_2016_BFFZprimeToMuMu_M_250_dbs0p04.csv'\u001b[0m\u001b[0;34m)\u001b[0m\u001b[0;34m\u001b[0m\u001b[0;34m\u001b[0m\u001b[0m\n\u001b[0m",
      "\u001b[0;32m/cvmfs/cms.cern.ch/slc7_amd64_gcc900/external/py3-pandas/1.2.2-fe8e1c13d453660e60eb669e2953e739/lib/python3.9/site-packages/pandas/io/parsers.py\u001b[0m in \u001b[0;36mread_csv\u001b[0;34m(filepath_or_buffer, sep, delimiter, header, names, index_col, usecols, squeeze, prefix, mangle_dupe_cols, dtype, engine, converters, true_values, false_values, skipinitialspace, skiprows, skipfooter, nrows, na_values, keep_default_na, na_filter, verbose, skip_blank_lines, parse_dates, infer_datetime_format, keep_date_col, date_parser, dayfirst, cache_dates, iterator, chunksize, compression, thousands, decimal, lineterminator, quotechar, quoting, doublequote, escapechar, comment, encoding, dialect, error_bad_lines, warn_bad_lines, delim_whitespace, low_memory, memory_map, float_precision, storage_options)\u001b[0m\n\u001b[1;32m    608\u001b[0m     \u001b[0mkwds\u001b[0m\u001b[0;34m.\u001b[0m\u001b[0mupdate\u001b[0m\u001b[0;34m(\u001b[0m\u001b[0mkwds_defaults\u001b[0m\u001b[0;34m)\u001b[0m\u001b[0;34m\u001b[0m\u001b[0;34m\u001b[0m\u001b[0m\n\u001b[1;32m    609\u001b[0m \u001b[0;34m\u001b[0m\u001b[0m\n\u001b[0;32m--> 610\u001b[0;31m     \u001b[0;32mreturn\u001b[0m \u001b[0m_read\u001b[0m\u001b[0;34m(\u001b[0m\u001b[0mfilepath_or_buffer\u001b[0m\u001b[0;34m,\u001b[0m \u001b[0mkwds\u001b[0m\u001b[0;34m)\u001b[0m\u001b[0;34m\u001b[0m\u001b[0;34m\u001b[0m\u001b[0m\n\u001b[0m\u001b[1;32m    611\u001b[0m \u001b[0;34m\u001b[0m\u001b[0m\n\u001b[1;32m    612\u001b[0m \u001b[0;34m\u001b[0m\u001b[0m\n",
      "\u001b[0;32m/cvmfs/cms.cern.ch/slc7_amd64_gcc900/external/py3-pandas/1.2.2-fe8e1c13d453660e60eb669e2953e739/lib/python3.9/site-packages/pandas/io/parsers.py\u001b[0m in \u001b[0;36m_read\u001b[0;34m(filepath_or_buffer, kwds)\u001b[0m\n\u001b[1;32m    460\u001b[0m \u001b[0;34m\u001b[0m\u001b[0m\n\u001b[1;32m    461\u001b[0m     \u001b[0;31m# Create the parser.\u001b[0m\u001b[0;34m\u001b[0m\u001b[0;34m\u001b[0m\u001b[0;34m\u001b[0m\u001b[0m\n\u001b[0;32m--> 462\u001b[0;31m     \u001b[0mparser\u001b[0m \u001b[0;34m=\u001b[0m \u001b[0mTextFileReader\u001b[0m\u001b[0;34m(\u001b[0m\u001b[0mfilepath_or_buffer\u001b[0m\u001b[0;34m,\u001b[0m \u001b[0;34m**\u001b[0m\u001b[0mkwds\u001b[0m\u001b[0;34m)\u001b[0m\u001b[0;34m\u001b[0m\u001b[0;34m\u001b[0m\u001b[0m\n\u001b[0m\u001b[1;32m    463\u001b[0m \u001b[0;34m\u001b[0m\u001b[0m\n\u001b[1;32m    464\u001b[0m     \u001b[0;32mif\u001b[0m \u001b[0mchunksize\u001b[0m \u001b[0;32mor\u001b[0m \u001b[0miterator\u001b[0m\u001b[0;34m:\u001b[0m\u001b[0;34m\u001b[0m\u001b[0;34m\u001b[0m\u001b[0m\n",
      "\u001b[0;32m/cvmfs/cms.cern.ch/slc7_amd64_gcc900/external/py3-pandas/1.2.2-fe8e1c13d453660e60eb669e2953e739/lib/python3.9/site-packages/pandas/io/parsers.py\u001b[0m in \u001b[0;36m__init__\u001b[0;34m(self, f, engine, **kwds)\u001b[0m\n\u001b[1;32m    817\u001b[0m             \u001b[0mself\u001b[0m\u001b[0;34m.\u001b[0m\u001b[0moptions\u001b[0m\u001b[0;34m[\u001b[0m\u001b[0;34m\"has_index_names\"\u001b[0m\u001b[0;34m]\u001b[0m \u001b[0;34m=\u001b[0m \u001b[0mkwds\u001b[0m\u001b[0;34m[\u001b[0m\u001b[0;34m\"has_index_names\"\u001b[0m\u001b[0;34m]\u001b[0m\u001b[0;34m\u001b[0m\u001b[0;34m\u001b[0m\u001b[0m\n\u001b[1;32m    818\u001b[0m \u001b[0;34m\u001b[0m\u001b[0m\n\u001b[0;32m--> 819\u001b[0;31m         \u001b[0mself\u001b[0m\u001b[0;34m.\u001b[0m\u001b[0m_engine\u001b[0m \u001b[0;34m=\u001b[0m \u001b[0mself\u001b[0m\u001b[0;34m.\u001b[0m\u001b[0m_make_engine\u001b[0m\u001b[0;34m(\u001b[0m\u001b[0mself\u001b[0m\u001b[0;34m.\u001b[0m\u001b[0mengine\u001b[0m\u001b[0;34m)\u001b[0m\u001b[0;34m\u001b[0m\u001b[0;34m\u001b[0m\u001b[0m\n\u001b[0m\u001b[1;32m    820\u001b[0m \u001b[0;34m\u001b[0m\u001b[0m\n\u001b[1;32m    821\u001b[0m     \u001b[0;32mdef\u001b[0m \u001b[0mclose\u001b[0m\u001b[0;34m(\u001b[0m\u001b[0mself\u001b[0m\u001b[0;34m)\u001b[0m\u001b[0;34m:\u001b[0m\u001b[0;34m\u001b[0m\u001b[0;34m\u001b[0m\u001b[0m\n",
      "\u001b[0;32m/cvmfs/cms.cern.ch/slc7_amd64_gcc900/external/py3-pandas/1.2.2-fe8e1c13d453660e60eb669e2953e739/lib/python3.9/site-packages/pandas/io/parsers.py\u001b[0m in \u001b[0;36m_make_engine\u001b[0;34m(self, engine)\u001b[0m\n\u001b[1;32m   1048\u001b[0m             )\n\u001b[1;32m   1049\u001b[0m         \u001b[0;31m# error: Too many arguments for \"ParserBase\"\u001b[0m\u001b[0;34m\u001b[0m\u001b[0;34m\u001b[0m\u001b[0;34m\u001b[0m\u001b[0m\n\u001b[0;32m-> 1050\u001b[0;31m         \u001b[0;32mreturn\u001b[0m \u001b[0mmapping\u001b[0m\u001b[0;34m[\u001b[0m\u001b[0mengine\u001b[0m\u001b[0;34m]\u001b[0m\u001b[0;34m(\u001b[0m\u001b[0mself\u001b[0m\u001b[0;34m.\u001b[0m\u001b[0mf\u001b[0m\u001b[0;34m,\u001b[0m \u001b[0;34m**\u001b[0m\u001b[0mself\u001b[0m\u001b[0;34m.\u001b[0m\u001b[0moptions\u001b[0m\u001b[0;34m)\u001b[0m  \u001b[0;31m# type: ignore[call-arg]\u001b[0m\u001b[0;34m\u001b[0m\u001b[0;34m\u001b[0m\u001b[0m\n\u001b[0m\u001b[1;32m   1051\u001b[0m \u001b[0;34m\u001b[0m\u001b[0m\n\u001b[1;32m   1052\u001b[0m     \u001b[0;32mdef\u001b[0m \u001b[0m_failover_to_python\u001b[0m\u001b[0;34m(\u001b[0m\u001b[0mself\u001b[0m\u001b[0;34m)\u001b[0m\u001b[0;34m:\u001b[0m\u001b[0;34m\u001b[0m\u001b[0;34m\u001b[0m\u001b[0m\n",
      "\u001b[0;32m/cvmfs/cms.cern.ch/slc7_amd64_gcc900/external/py3-pandas/1.2.2-fe8e1c13d453660e60eb669e2953e739/lib/python3.9/site-packages/pandas/io/parsers.py\u001b[0m in \u001b[0;36m__init__\u001b[0;34m(self, src, **kwds)\u001b[0m\n\u001b[1;32m   1865\u001b[0m \u001b[0;34m\u001b[0m\u001b[0m\n\u001b[1;32m   1866\u001b[0m         \u001b[0;31m# open handles\u001b[0m\u001b[0;34m\u001b[0m\u001b[0;34m\u001b[0m\u001b[0;34m\u001b[0m\u001b[0m\n\u001b[0;32m-> 1867\u001b[0;31m         \u001b[0mself\u001b[0m\u001b[0;34m.\u001b[0m\u001b[0m_open_handles\u001b[0m\u001b[0;34m(\u001b[0m\u001b[0msrc\u001b[0m\u001b[0;34m,\u001b[0m \u001b[0mkwds\u001b[0m\u001b[0;34m)\u001b[0m\u001b[0;34m\u001b[0m\u001b[0;34m\u001b[0m\u001b[0m\n\u001b[0m\u001b[1;32m   1868\u001b[0m         \u001b[0;32massert\u001b[0m \u001b[0mself\u001b[0m\u001b[0;34m.\u001b[0m\u001b[0mhandles\u001b[0m \u001b[0;32mis\u001b[0m \u001b[0;32mnot\u001b[0m \u001b[0;32mNone\u001b[0m\u001b[0;34m\u001b[0m\u001b[0;34m\u001b[0m\u001b[0m\n\u001b[1;32m   1869\u001b[0m         \u001b[0;32mfor\u001b[0m \u001b[0mkey\u001b[0m \u001b[0;32min\u001b[0m \u001b[0;34m(\u001b[0m\u001b[0;34m\"storage_options\"\u001b[0m\u001b[0;34m,\u001b[0m \u001b[0;34m\"encoding\"\u001b[0m\u001b[0;34m,\u001b[0m \u001b[0;34m\"memory_map\"\u001b[0m\u001b[0;34m,\u001b[0m \u001b[0;34m\"compression\"\u001b[0m\u001b[0;34m)\u001b[0m\u001b[0;34m:\u001b[0m\u001b[0;34m\u001b[0m\u001b[0;34m\u001b[0m\u001b[0m\n",
      "\u001b[0;32m/cvmfs/cms.cern.ch/slc7_amd64_gcc900/external/py3-pandas/1.2.2-fe8e1c13d453660e60eb669e2953e739/lib/python3.9/site-packages/pandas/io/parsers.py\u001b[0m in \u001b[0;36m_open_handles\u001b[0;34m(self, src, kwds)\u001b[0m\n\u001b[1;32m   1360\u001b[0m         \u001b[0mLet\u001b[0m \u001b[0mthe\u001b[0m \u001b[0mreaders\u001b[0m \u001b[0mopen\u001b[0m \u001b[0mIOHanldes\u001b[0m \u001b[0mafter\u001b[0m \u001b[0mthey\u001b[0m \u001b[0mare\u001b[0m \u001b[0mdone\u001b[0m \u001b[0;32mwith\u001b[0m \u001b[0mtheir\u001b[0m \u001b[0mpotential\u001b[0m \u001b[0mraises\u001b[0m\u001b[0;34m.\u001b[0m\u001b[0;34m\u001b[0m\u001b[0;34m\u001b[0m\u001b[0m\n\u001b[1;32m   1361\u001b[0m         \"\"\"\n\u001b[0;32m-> 1362\u001b[0;31m         self.handles = get_handle(\n\u001b[0m\u001b[1;32m   1363\u001b[0m             \u001b[0msrc\u001b[0m\u001b[0;34m,\u001b[0m\u001b[0;34m\u001b[0m\u001b[0;34m\u001b[0m\u001b[0m\n\u001b[1;32m   1364\u001b[0m             \u001b[0;34m\"r\"\u001b[0m\u001b[0;34m,\u001b[0m\u001b[0;34m\u001b[0m\u001b[0;34m\u001b[0m\u001b[0m\n",
      "\u001b[0;32m/cvmfs/cms.cern.ch/slc7_amd64_gcc900/external/py3-pandas/1.2.2-fe8e1c13d453660e60eb669e2953e739/lib/python3.9/site-packages/pandas/io/common.py\u001b[0m in \u001b[0;36mget_handle\u001b[0;34m(path_or_buf, mode, encoding, compression, memory_map, is_text, errors, storage_options)\u001b[0m\n\u001b[1;32m    640\u001b[0m                 \u001b[0merrors\u001b[0m \u001b[0;34m=\u001b[0m \u001b[0;34m\"replace\"\u001b[0m\u001b[0;34m\u001b[0m\u001b[0;34m\u001b[0m\u001b[0m\n\u001b[1;32m    641\u001b[0m             \u001b[0;31m# Encoding\u001b[0m\u001b[0;34m\u001b[0m\u001b[0;34m\u001b[0m\u001b[0;34m\u001b[0m\u001b[0m\n\u001b[0;32m--> 642\u001b[0;31m             handle = open(\n\u001b[0m\u001b[1;32m    643\u001b[0m                 \u001b[0mhandle\u001b[0m\u001b[0;34m,\u001b[0m\u001b[0;34m\u001b[0m\u001b[0;34m\u001b[0m\u001b[0m\n\u001b[1;32m    644\u001b[0m                 \u001b[0mioargs\u001b[0m\u001b[0;34m.\u001b[0m\u001b[0mmode\u001b[0m\u001b[0;34m,\u001b[0m\u001b[0;34m\u001b[0m\u001b[0;34m\u001b[0m\u001b[0m\n",
      "\u001b[0;31mFileNotFoundError\u001b[0m: [Errno 2] No such file or directory: 'data/tw_2016_BFFZprimeToMuMu_M_250_dbs0p04.csv'"
     ]
    }
   ],
   "source": [
    "df = pd.read_csv('data/tw_2016_BFFZprimeToMuMu_M_250_dbs0p04.csv')"
   ]
  },
  {
   "cell_type": "code",
   "execution_count": null,
   "id": "84a36992",
   "metadata": {},
   "outputs": [],
   "source": [
    "[x for x in df.keys() if 'HLT' in x], [x for x in df.keys() if 'SR' in x]"
   ]
  },
  {
   "cell_type": "code",
   "execution_count": null,
   "id": "dff049ac",
   "metadata": {},
   "outputs": [],
   "source": [
    "df.SR2_jet_nom_muon_corrected_pt_ele_pt.sum(), (df.SR2_jet_nom_muon_corrected_pt_ele_pt*df.HLT_Mu50).sum()"
   ]
  },
  {
   "cell_type": "code",
   "execution_count": null,
   "id": "6bf5b418",
   "metadata": {},
   "outputs": [],
   "source": [
    "df[[ \n",
    "    'MuonTriggerEff', 'Weight_MuonTriggerUp', 'Weight_MuonTriggerDown'\n",
    "    ,'AvgMuonRecoIdIsoSFPerMuon'\n",
    "                ,'AvgMuonRocPer',\n",
    "               'AvgJER', 'AvgJES', 'AvgHEM',\n",
    "                'AvgPUIDWeightsPerJet', 'AvgBtagWeight']].mean()*100"
   ]
  },
  {
   "cell_type": "code",
   "execution_count": null,
   "id": "e938bb33",
   "metadata": {},
   "outputs": [],
   "source": [
    "df.AvgJER.mean()"
   ]
  },
  {
   "cell_type": "code",
   "execution_count": null,
   "id": "f9861399",
   "metadata": {},
   "outputs": [],
   "source": [
    "from src.data_tools.get_file_list import get_file_df\n"
   ]
  },
  {
   "cell_type": "code",
   "execution_count": null,
   "id": "5bcb1b92",
   "metadata": {},
   "outputs": [],
   "source": [
    "era = 2016\n",
    "file_df = get_file_df()\n",
    "file_df = file_df[file_df.era==era]\n",
    "file_df.reset_index(inplace=True)"
   ]
  },
  {
   "cell_type": "code",
   "execution_count": null,
   "id": "519a96d7",
   "metadata": {
    "scrolled": true
   },
   "outputs": [],
   "source": [
    "means_list = []\n",
    "for i, x in file_df.iterrows():\n",
    "    print(x.file)\n",
    "    _df = pd.read_csv(x.file)\n",
    "    _df = _df[_df.AvgJER<5]\n",
    "    means = _df[[ \n",
    "    'MuonTriggerEff', 'Weight_MuonTriggerUp', 'Weight_MuonTriggerDown'\n",
    "    ,'AvgMuonRecoIdIsoSFPerMuon'\n",
    "                ,'AvgMuonRocPer',\n",
    "               'AvgJER', 'AvgJES', 'AvgHEM',\n",
    "                'AvgPUIDWeightsPerJet', 'AvgBtagWeight']].mean()*100\n",
    "    means_dict = means.to_dict()\n",
    "    means_dict['mass'] = x.mass\n",
    "    means_dict['dbs'] = x.dbs\n",
    "    means_list.append(means_dict)"
   ]
  },
  {
   "cell_type": "code",
   "execution_count": null,
   "id": "faad1c41",
   "metadata": {},
   "outputs": [],
   "source": [
    "mean_df = pd.DataFrame(means_list)"
   ]
  },
  {
   "cell_type": "code",
   "execution_count": null,
   "id": "aa556975",
   "metadata": {},
   "outputs": [],
   "source": [
    "mean_df.min().round(1)"
   ]
  },
  {
   "cell_type": "code",
   "execution_count": null,
   "id": "62a22e73",
   "metadata": {},
   "outputs": [],
   "source": [
    "mean_df.max().round(1)"
   ]
  },
  {
   "cell_type": "code",
   "execution_count": null,
   "id": "5a7fb228",
   "metadata": {},
   "outputs": [],
   "source": [
    "import numpy as np"
   ]
  },
  {
   "cell_type": "code",
   "execution_count": null,
   "id": "9434dca3",
   "metadata": {},
   "outputs": [],
   "source": [
    "mean_df.AvgJER"
   ]
  },
  {
   "cell_type": "code",
   "execution_count": null,
   "id": "16a317cf",
   "metadata": {},
   "outputs": [],
   "source": []
  }
 ],
 "metadata": {
  "kernelspec": {
   "display_name": "Python 3",
   "language": "python",
   "name": "python3"
  },
  "language_info": {
   "codemirror_mode": {
    "name": "ipython",
    "version": 3
   },
   "file_extension": ".py",
   "mimetype": "text/x-python",
   "name": "python",
   "nbconvert_exporter": "python",
   "pygments_lexer": "ipython3",
   "version": "3.9.6"
  }
 },
 "nbformat": 4,
 "nbformat_minor": 5
}
