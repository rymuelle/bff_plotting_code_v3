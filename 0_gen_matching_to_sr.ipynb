{
 "cells": [
  {
   "cell_type": "code",
   "execution_count": null,
   "id": "7afee62d",
   "metadata": {},
   "outputs": [],
   "source": [
    "import uproot as upr\n",
    "import pandas as pd\n",
    "import numpy as np\n",
    "import matplotlib.pyplot as plt\n",
    "import yaml\n",
    "#from ROOT import vector, RDataFrame, RDF, TFile, TH1F, TH2F, gInterpreter, TMath\n",
    "from ROOT import TFile, TH1F\n",
    "from src.general.utils import toVector, get_files, prep_filelist\n",
    "from time import perf_counter"
   ]
  },
  {
   "cell_type": "code",
   "execution_count": null,
   "id": "e379eca7",
   "metadata": {},
   "outputs": [],
   "source": [
    "#GenPart_pdgId, GenPart_pt, and GenPart_statusFlags bit 7 or 8"
   ]
  },
  {
   "cell_type": "code",
   "execution_count": null,
   "id": "41778c91",
   "metadata": {},
   "outputs": [],
   "source": [
    "#set up metadata for files\n",
    "era = '2016'\n",
    "deepflavour = False\n",
    "deepcsv = True\n",
    "extras = False\n",
    "csv_v_flavor=False\n",
    "if era == \"2016\":\n",
    "    fname = \"samplesCR_2016_Apr2020.yml\"\n",
    "    bDiscValue = 0.3093\n",
    "if era == \"2017\":\n",
    "    fname = \"samplesCR_2017_Apr2020.yml\"\n",
    "    bDiscValue = 0.3033\n",
    "if era == \"2018\":\n",
    "    fname = \"samplesCR_2018_Apr2020.yml\"\n",
    "    bDiscValue = 0.2770\n",
    "\n",
    "\n",
    "sampleDir = \"samples\"\n",
    "outname = fname.replace('.yml','.root')\n",
    "fname = \"{}/{}\".format(sampleDir, fname)\n",
    "outname, fname"
   ]
  },
  {
   "cell_type": "code",
   "execution_count": null,
   "id": "2c1d2e58",
   "metadata": {},
   "outputs": [],
   "source": [
    "sample_path ='/eos/cms/store/group/phys_exotica/bffZprime/nanoAODskimmed/crab_bffv2/{}/{{}}'.format(era)\n",
    "eff_path ='/eos/cms/store/group/phys_exotica/bffZprime/nanoAODskimmed/crab_bff_eff/{}/{{}}'.format(era)\n",
    "\n",
    "class sample_processor():\n",
    "    '''Class that takes file name from yml and helps manage samples.'''\n",
    "    def __init__(self,file_name,outname,bDiscValue,is_inclusive=0):\n",
    "        #load config\n",
    "        self.file_name = file_name\n",
    "        with open(file_name,'r') as f:\n",
    "            self.sample_dict = yaml.load(f, Loader=yaml.FullLoader)\n",
    "        #setup outfile\n",
    "        self.outname = outname\n",
    "        self.out = TFile(outname, 'recreate')\n",
    "        self.outdirs_dict = {}\n",
    "        for sample in self.samples():\n",
    "            name = sample['name']\n",
    "            self.outdirs_dict[name] = self.out.mkdir(name)\n",
    "        self.lumi = self.sample_dict['lumi']\n",
    "        #get and write lumi info\n",
    "        hlumi = TH1F(\"lumi\", \"lumi\", 1, 0, 1)\n",
    "        hlumi.SetDirectory(self.out)\n",
    "        hlumi.SetBinContent(1, self.lumi)\n",
    "        hlumi.Write()\n",
    "        self.bDiscValue = bDiscValue\n",
    "        self.is_inclusive = is_inclusive\n",
    "    def samples(self):\n",
    "        return self.sample_dict['samples']\n",
    "    def sample_names(self):\n",
    "        return [s['name'] for s in self.samples()]\n",
    "    def close(self):\n",
    "        self.out.Close()\n",
    "    def __repr__(self):\n",
    "        text_dict = {\"fn\":self.file_name,\n",
    "                     \"on\":self.outname, \n",
    "                     \"lumi\":self.lumi,\n",
    "                    \"samples\": self.sample_names()}\n",
    "        return '''from {fn} to {on}\\nlumi: {lumi}\\nSamples {samples}'''.format(**text_dict)"
   ]
  },
  {
   "cell_type": "code",
   "execution_count": null,
   "id": "49a1865c",
   "metadata": {},
   "outputs": [],
   "source": [
    "sp = sample_processor(fname, outname, bDiscValue)"
   ]
  },
  {
   "cell_type": "code",
   "execution_count": null,
   "id": "b41abcbc",
   "metadata": {},
   "outputs": [],
   "source": [
    "def check_bitwise(value, n):\n",
    "    return value & (1 << n)== 1 << n\n",
    "def hard_process(value):\n",
    "    return (check_bitwise(value, 7) or check_bitwise(value, 8)) \n",
    "\n",
    "def b_jet(value):\n",
    "    return abs(value)==5\n",
    "\n",
    "def s_jet(value):\n",
    "    return abs(value)==3\n",
    "\n",
    "def gluon(value):\n",
    "    return abs(value)==21\n",
    "\n",
    "def min_phi(phi1, phi2):\n",
    "    diff = (phi1-phi2 + 3.1415) % (2 * 3.1415) - 3.1415\n",
    "    if diff < - 3.1415:\n",
    "        return diff + 3.1415*2\n",
    "    return diff\n",
    "\n",
    "def deltaR_row(row1, row2):\n",
    "    return deltaR(row1.GenPart_eta, row2.GenPart_eta, row1.GenPart_phi, row2.GenPart_phi)\n",
    "\n",
    "def deltaR(eta1, eta2, phi1, phi2):\n",
    "    return ((eta1-eta2)**2+ min_phi(phi1, phi2)**2)**.5\n",
    "\n",
    "\n",
    "def is_in_list(arr, row, tdf):\n",
    "    for i in arr:\n",
    "        row2 = tdf.loc[i]\n",
    "        if row2.GenPart_pdgId != row.GenPart_pdgId: continue\n",
    "        dr = deltaR_row(row2, row)\n",
    "        if dr <= .4: return True\n",
    "    return False\n",
    "\n",
    "\n",
    "def find_duplicates(_tdf):\n",
    "    part_filter = []\n",
    "    particles = []\n",
    "    for i, row in _tdf.iterrows():\n",
    "        accounted_for = is_in_list(particles, row, _tdf)\n",
    "        if not accounted_for: particles.append(i)\n",
    "        part_filter.append(not accounted_for)\n",
    "    return part_filter\n",
    "\n",
    "def isKthBitSet(value, k):\n",
    "    return bool(value & (1 << k))\n",
    "\n",
    "def which_bits(value):\n",
    "    string = \"\"\n",
    "    for i in range(22):\n",
    "        if isKthBitSet(value, i): string+=\"{},\".format(i)\n",
    "    return string[:-1]\n",
    "\n",
    "def return_jet_multiplicty(nevents):\n",
    "    event = df.loc[nevents]\n",
    "    ishardprocess_flag = event.GenPart_statusFlags.apply(hard_process)\n",
    "    event = event[ishardprocess_flag]\n",
    "    initial = event[event.GenPart_pt==0]\n",
    "    \n",
    "    outgoing = event[event.GenPart_pt>0]\n",
    "    \n",
    "    ishardprocess_flag = outgoing.GenPart_statusFlags.apply(hard_process)\n",
    "    ishardprocess = outgoing[ishardprocess_flag]\n",
    "    dedupe = find_duplicates(ishardprocess)\n",
    "    ishardprocess = ishardprocess[dedupe]\n",
    "    isbjet = ishardprocess.GenPart_pdgId.apply(b_jet)\n",
    "    issjet = ishardprocess.GenPart_pdgId.apply(s_jet)\n",
    "    b_and_s_jets = ishardprocess[isbjet|issjet]\n",
    "    b_and_s_jets = b_and_s_jets.sort_values(\"GenPart_pt\")\n",
    "\n",
    "    highestpt_bplus = 0\n",
    "    highestpt_bminus = 0\n",
    "    \n",
    "    \n",
    "    highestpt_b = 0\n",
    "    higestb_eta = 0\n",
    "    higestb_phi = 0\n",
    "    \n",
    "    highestpt_s = 0\n",
    "    nbs = 0\n",
    "    for i, part in b_and_s_jets.iterrows():\n",
    "        pdgid = part.GenPart_pdgId\n",
    "        pt = part.GenPart_pt\n",
    "        if (pdgid==5) and (pt>highestpt_bplus):  highestpt_bplus=pt\n",
    "        if (pdgid==-5) and (pt>highestpt_bminus):  highestpt_bminus=pt\n",
    "        if (abs(pdgid)==5) and (pt>highestpt_b):\n",
    "            highestpt_b=pt\n",
    "            higestb_eta=part.GenPart_eta\n",
    "            higestb_phi=part.GenPart_phi\n",
    "        if (abs(pdgid)==3) and (pt>highestpt_s):  highestpt_s=pt \n",
    "            \n",
    "    # second highes b pt\n",
    "    secondHighestpt_b = 0 \n",
    "    for i, part in b_and_s_jets.iterrows():\n",
    "        pdgid = part.GenPart_pdgId\n",
    "        pt = part.GenPart_pt  \n",
    "        eta=part.GenPart_eta\n",
    "        phi=part.GenPart_phi\n",
    "        if abs(pdgid)!=5: continue\n",
    "        if deltaR(eta, higestb_eta, phi, higestb_phi) < 0.4: continue\n",
    "        if (pt<highestpt_b)and (pt>secondHighestpt_b): secondHighestpt_b=pt\n",
    "    nbjet = isbjet.sum()\n",
    "    nsjet = issjet.sum()\n",
    "\n",
    "    #initial :\n",
    "    inbjet = initial.GenPart_pdgId.apply(b_jet).sum()\n",
    "    insjet = initial.GenPart_pdgId.apply(s_jet).sum()\n",
    "    inOtherQuarks = initial.GenPart_pdgId.apply(lambda x: abs(x) <=9).sum()-inbjet-insjet\n",
    "    charge_modulo = 1\n",
    "\n",
    "    #for i, quark in quarks.iterrows():\n",
    "    #    charge_modulo *= quark.GenPart_pdgId\n",
    "\n",
    "    #charge_modulo = charge_modulo < 0\n",
    "    ingluon = initial.GenPart_pdgId.apply(gluon).sum()\n",
    "    \n",
    "    # 0j: 0\n",
    "    # 1b: 1\n",
    "    # 1s: 2\n",
    "    # 1b+1s: 3\n",
    "    # 2b: 4\n",
    "    # other: -1\n",
    "    multiplicity=-1\n",
    "    if (inbjet==2) and (insjet==0) and (ingluon==0):\n",
    "        # 5 5 > 1b+1s\n",
    "        if (highestpt_b>0) and (highestpt_s>0): multiplicity=3\n",
    "        # 5 5 > 0 b\n",
    "        elif charge_modulo: multiplicity=0\n",
    "    if (inbjet==1) and (insjet==1) and (ingluon==0): \n",
    "        # 5 3 > 0 b\n",
    "        multiplicity=0\n",
    "        # 5 3 > 2b\n",
    "        # if oss is easy\n",
    "        if ((highestpt_bplus>0) and (highestpt_bminus>0)): multiplicity = 4\n",
    "        # same sign\n",
    "        if ((secondHighestpt_b>0) and (highestpt_b>0)): multiplicity = 4\n",
    "    # 3 21 > 1b\n",
    "    if (inbjet==0) and (insjet==1) and (ingluon==1): multiplicity=1\n",
    "    #differentiate between 1b and 1s in 5 21 initial state:\n",
    "    # \n",
    "    if (inbjet==1) and (insjet==0) and (ingluon==1): \n",
    "        if highestpt_b > highestpt_s: multiplicity=1\n",
    "        if highestpt_s > highestpt_b: multiplicity=2\n",
    "    if (inbjet==0) and (insjet==0) and (ingluon==2):\n",
    "        if ((highestpt_s > highestpt_bplus) or (highestpt_s > highestpt_bminus)) and highestpt_b > 0: multiplicity=3\n",
    "        if ((highestpt_bplus > highestpt_s) and (highestpt_bminus > highestpt_s)): multiplicity=4\n",
    "    # 5 + x\n",
    "    if (inbjet==1) and (insjet==0) and (ingluon==0) and (inOtherQuarks==1):\n",
    "        multiplicity = 0\n",
    "        if (highestpt_b>0): multiplicity = 3   \n",
    "        \n",
    "    # 3 + x\n",
    "    if (inbjet==1) and (insjet==0) and (ingluon==0) and (inOtherQuarks==1):\n",
    "        multiplicity = 3\n",
    "        \n",
    "    \n",
    "    return {\"GenNbJets\": nbjet, \"GenNsJets\": nsjet, \n",
    "            \"inbjet\":inbjet, \"insjet\":insjet, \"ingluon\": ingluon,\n",
    "            \"nGenPart\": len(event), \"multiplicity\": multiplicity, \"charge_modulo\": charge_modulo, \"inOtherQuarks\": inOtherQuarks}"
   ]
  },
  {
   "cell_type": "code",
   "execution_count": null,
   "id": "a153a173",
   "metadata": {},
   "outputs": [],
   "source": [
    "\n",
    "#def return_jet_multiplicty_2(df, nevents, doSR=True):\n",
    "#    event = df.loc[nevents]\n",
    "def return_jet_multiplicty_2(event, doSR=True):\n",
    "    multiplicity = 0\n",
    "\n",
    "    #initial state\n",
    "    inBs = 0\n",
    "    inSs = 0\n",
    "    inOQs = 0\n",
    "    inGs = 0\n",
    "    for i, part in event.iterrows():\n",
    "        if not hard_process(int(part.GenPart_statusFlags)): continue\n",
    "        if part.GenPart_pt != 0: continue\n",
    "        if abs(part.GenPart_pdgId)==5: inBs += 1\n",
    "        elif abs(part.GenPart_pdgId)==3: inSs += 1\n",
    "        elif abs(part.GenPart_pdgId)<10: inOQs += 1\n",
    "        elif abs(part.GenPart_pdgId)==21: inGs += 1\n",
    "            \n",
    "    #leading out stats\n",
    "    leadOutB = 0\n",
    "    leadOutB_id = 0\n",
    "    leadOutB_eta = 0\n",
    "    leadOutB_phi = 0\n",
    "    leadOutBMinus = 0\n",
    "    leadOutBPlus = 0\n",
    "    leadOutS = 0\n",
    "    leadOutS_id = 0\n",
    "    leadOutS_eta = 0\n",
    "    leadOutS_phi = 0\n",
    "    underlying_event_b = 0\n",
    "    for i, part in event.iterrows():\n",
    "        if part.GenPart_pt  == 0: continue    \n",
    "        pdgId, pt, eta, phi = part.GenPart_pdgId, part.GenPart_pt, part.GenPart_eta, part.GenPart_phi\n",
    "\n",
    "        if hard_process(int(part.GenPart_statusFlags)):        \n",
    "            #leading b pt\n",
    "            if (abs(pdgId)==5) and (pt>leadOutB):\n",
    "                leadOutB = pt\n",
    "                leadOutB_eta = eta\n",
    "                leadOutB_phi = phi\n",
    "                leadOutB_id = pdgId\n",
    "            if (pdgId==-5) and (pt>leadOutBMinus): leadOutBMinus = pt\n",
    "            if (pdgId==5) and (pt>leadOutBPlus): leadOutBPlus = pt\n",
    "            if (abs(pdgId)==3) and (pt>leadOutS):\n",
    "                leadOutS = pt\n",
    "                leadOutS_eta = eta\n",
    "                leadOutS_phi = phi\n",
    "                leadOutS_id = pdgId\n",
    "                \n",
    "        else:\n",
    "            if (abs(pdgId)==5) and (pt>underlying_event_b): underlying_event_b = pt\n",
    "\n",
    "    #2nd leading out stats        \n",
    "    secLeadOutB = 0\n",
    "    secLeadOutS = 0\n",
    "    sDR = -1000\n",
    "    for i, part in event.iterrows():\n",
    "        if not hard_process(int(part.GenPart_statusFlags)): continue\n",
    "        if part.GenPart_pt  == 0: continue            \n",
    "        pdgId, pt, eta, phi = part.GenPart_pdgId, part.GenPart_pt, part.GenPart_eta, part.GenPart_phi\n",
    "        #print(pdgId, pt, eta, phi)\n",
    "        if abs(pdgId) == 5:\n",
    "            dr = deltaR(eta, leadOutB_eta, phi, leadOutB_phi)\n",
    "            if (dr < .4) and (pdgId==leadOutB_id): continue\n",
    "            if (pt < leadOutB) and (pt > secLeadOutB): secLeadOutB = pt\n",
    "        if abs(pdgId) == 3:\n",
    "            \n",
    "            dr = deltaR(eta, leadOutS_eta, phi, leadOutS_phi)\n",
    "            if (dr < .4) and (pdgId==leadOutS_id): continue\n",
    "            if (pt < leadOutS) and (pt > secLeadOutS): \n",
    "                secLeadOutS = pt\n",
    "                sDR = dr\n",
    "    \n",
    "    # 0j: 0\n",
    "    # 1b: 1\n",
    "    # 1s: 2\n",
    "    # 1b+1s: 3\n",
    "    # 2b: 4\n",
    "    # other: -1       \n",
    "    #5 5\n",
    "    \n",
    "    if (inBs == 2) and (inSs == 0) and (inOQs == 0) and (inGs == 0):\n",
    "        #2b'\n",
    "        if (leadOutB>0) and (secLeadOutB>0): multiplicity += 2**11\n",
    "        #2s\n",
    "        elif (leadOutS>0) and (secLeadOutS>secLeadOutB): \n",
    "            \n",
    "            multiplicity+=2**16\n",
    "        #1b1s'\n",
    "        elif (leadOutB>0) and (leadOutS>0): multiplicity+=2**7   \n",
    "        else: multiplicity+=2**0\n",
    "    #5 3 \n",
    "    if (inBs == 1) and (inSs == 1) and (inOQs == 0) and (inGs == 0):\n",
    "        #2b'\n",
    "        if (leadOutB>0) and (secLeadOutB>0): multiplicity += 2**12\n",
    "        #2s\n",
    "        elif (leadOutS>0) and (secLeadOutS>secLeadOutB): multiplicity+=2**15\n",
    "        elif (leadOutS>0) and (leadOutB>0): multiplicity+=2**30\n",
    "        #1b1s'\n",
    "        else: multiplicity+=2**1\n",
    "    \n",
    "        ##0b\n",
    "        #multiplicity = 0\n",
    "        ##2b'\n",
    "        #if (leadOutB>0) and (secLeadOutB>0): multiplicity = 4.1\n",
    "        #elif underlying_event_b > 20: multiplicity = 5\n",
    "    ##5 21\n",
    "    #if (inBs == 1) and (inSs == 0) and (inOQs == 0) and (inGs == 1):\n",
    "    #    #1b\n",
    "    #    if leadOutB > leadOutS: multiplicity = 1.1\n",
    "    #    #1s\n",
    "    #    if leadOutS > leadOutB: multiplicity = 2\n",
    "    ##3 21\n",
    "    #if (inBs == 0) and (inSs == 1) and (inOQs == 0) and (inGs == 1): multiplicity = 1\n",
    "    ##21 21\n",
    "    #if (inBs == 0) and (inSs == 0) and (inOQs == 0) and (inGs == 2):\n",
    "    #    #2b\n",
    "    #    if ((leadOutBPlus > leadOutS) and (leadOutBMinus > leadOutS)): multiplicity = 4\n",
    "    #    #1b+1s\n",
    "    #    elif (leadOutS > 0) and (leadOutB > 0): multiplicity = 3\n",
    "    ## 5 + x        \n",
    "    #if (inBs == 1) and (inSs == 0) and (inOQs == 1) and (inGs ==0):\n",
    "    #    #1b+1s'\n",
    "    #    if (leadOutB>0) and (leadOutS>0): multiplicity = 3.2\n",
    "    #    #1b\n",
    "    #    elif (leadOutB>0) : multiplicity = 1.2\n",
    "    #    #1s\n",
    "    #    if (leadOutS>0): multiplicity = 2.1   \n",
    "    ## 3 + x        \n",
    "    #if (inBs == 0) and (inSs == 1) and (inOQs == 1) and (inGs ==0):\n",
    "    #    #1b\n",
    "    #    multiplicity = 3.3\n",
    "    ##2q\n",
    "    #if (inBs == 0) and (inSs == 0) and (inOQs == 2) and (inGs ==0):\n",
    "    #    multiplicity = 4.2\n",
    "    if doSR:\n",
    "        sr1 = event.SR1_jet_nom_muon_corrected_pt_ele_pt.mean()\n",
    "        sr2 = event.SR2_jet_nom_muon_corrected_pt_ele_pt.mean()\n",
    "    else:\n",
    "        sr1 = -1\n",
    "        sr2 = -1\n",
    "    return {\"inBs\":inBs, \"inSs\":inSs, \"inOQs\": inOQs,\"inOQs\": inOQs, \"inGs\": inGs, \n",
    "           \"leadOutB\":leadOutB, \"leadOutB_id\": leadOutB_id, \"leadOutB_eta\": leadOutB_eta, \"leadOutB_phi\": leadOutB_phi, \n",
    "            \"leadOutBMinus\": leadOutBMinus, \"leadOutBPlus\": leadOutBPlus, \n",
    "            \"leadOutS\": leadOutS, \"secLeadOutB\": secLeadOutB, \"secLeadOutS\": secLeadOutS,\n",
    "           \"multiplicity\":multiplicity, \"sr1\": sr1, \"sr2\": sr2, \"underlying_event_b\": underlying_event_b, \"sDR\": sDR}    "
   ]
  },
  {
   "cell_type": "code",
   "execution_count": null,
   "id": "34654098",
   "metadata": {},
   "outputs": [],
   "source": [
    "def make_dataframe(**kwargs):\n",
    "\n",
    "    njets = []\n",
    "    start = perf_counter()\n",
    "    nevents = len(events)\n",
    "    nevents = int(5000)\n",
    "    for i in range(nevents):\n",
    "        current = perf_counter()\n",
    "        if i % 100==0: \n",
    "            print(i, i/nevents)\n",
    "            if i > 0:\n",
    "                td = current-start\n",
    "                nsteps = i/int(100)\n",
    "                tps = td/nsteps\n",
    "                steps_remaining = nevents/100 - nsteps\n",
    "                time_remaining =  tps*steps_remaining\n",
    "                print(current-start, nsteps, time_remaining)\n",
    "\n",
    "        njets.append(return_jet_multiplicty_2(i, **kwargs))\n",
    "    jet_df = pd.DataFrame(njets)\n",
    "    return jet_df"
   ]
  },
  {
   "cell_type": "code",
   "execution_count": null,
   "id": "8103f1cc",
   "metadata": {},
   "outputs": [],
   "source": [
    "ufiles = [\n",
    "    {\"mass\": 200, \"dbs\": 0.04, \"era\": 2016, \"file\": '/eos/cms/store/group/phys_exotica/bffZprime/private_samples/signal/2016_NanoAODv6/BFFZprimeToMuMu_M200p0_dbs_0p04_2016/BFFZprimeToMuMu_M200p0_dbs_0p04_2016.root'},\n",
    "    {\"mass\": 200, \"dbs\": 1.0, \"era\": 2016, \"file\": '/eos/cms/store/group/phys_exotica/bffZprime/private_samples/signal/2016_NanoAODv6/BFFZprimeToMuMu_M200p0_dbs_1p0_2016/BFFZprimeToMuMu_M200p0_dbs_1p0_2016.root'},\n",
    "    {\"mass\": 200, \"dbs\": 0.5, \"era\": 2016, \"file\": \"/eos/cms/store/group/phys_exotica/bffZprime/private_samples/signal/2016_NanoAODv6/BFFZprimeToMuMu_M200p0_dbs_0p5_2016/BFFZprimeToMuMu_M200p0_dbs_0p5_2016.root\"},\n",
    "     ]\n",
    "ufiles = pd.DataFrame(ufiles)"
   ]
  },
  {
   "cell_type": "code",
   "execution_count": null,
   "id": "e3de0de0",
   "metadata": {
    "scrolled": true
   },
   "outputs": [],
   "source": [
    "for sample in sp.samples():\n",
    "    name = sample['name']\n",
    "    dbs = 0.5\n",
    "    string_dbs = str(dbs).replace('.', 'p')\n",
    "    if not 'BFF' in name: continue\n",
    "    if not '200' in name: continue\n",
    "    if not string_dbs in name: continue\n",
    "        \n",
    "    files_df = get_files(sample['fileglob'], sample_path)\n",
    "    \n",
    "    multi_list = []\n",
    "    total_events = 0\n",
    "    remaining_events = int(1e5)\n",
    "    for df in events:\n",
    "        \n",
    "        #sort out n_events\n",
    "        n_events  = df.index.get_level_values('entry').unique().shape[0]\n",
    "        print(remaining_events, n_events)\n",
    "        if n_events > remaining_events:\n",
    "            n_events =  remaining_events\n",
    "        remaining_events += -n_events\n",
    "        \n",
    "            \n",
    "        for i in range(n_events):\n",
    "            multi_list.append(return_jet_multiplicty_2(df.loc[i]))\n",
    "        if remaining_events <= 0: break\n",
    "        \n",
    "        \n",
    "    #file = files_df.file.iloc[0]\n",
    "#\n",
    "    #events = upr.open(file)['Events']\n",
    "    #df = events.arrays(['GenPart_pdgId',  'GenPart_statusFlags', 'GenPart_pt', 'GenPart_eta', 'GenPart_phi', \n",
    "    #                    'SR1_jet_nom_muon_corrected_pt_ele_pt', 'SR2_jet_nom_muon_corrected_pt_ele_pt'], library='pd')\n",
    "    #jet_df = make_dataframe()\n",
    "    \n",
    "    \n",
    "    ##ufile\n",
    "    #tuf = ufiles[(ufiles.mass==200) & (ufiles.dbs==dbs) & (ufiles.era==2016)]\n",
    "    \n",
    "    #events = upr.open(tuf.file.iloc[0])['Events']\n",
    "    #df = events.arrays(['GenPart_pdgId',  'GenPart_statusFlags', 'GenPart_pt', 'GenPart_eta', 'GenPart_phi'], library='pd')\n",
    "    #ujet_df = make_dataframe(doSR=False)\n"
   ]
  },
  {
   "cell_type": "code",
   "execution_count": null,
   "id": "858cfe29",
   "metadata": {},
   "outputs": [],
   "source": [
    "tdf = pd.DataFrame(multi_list)"
   ]
  },
  {
   "cell_type": "code",
   "execution_count": null,
   "id": "2d4ee6c3",
   "metadata": {
    "scrolled": true
   },
   "outputs": [],
   "source": [
    "np.log(tdf.multiplicity.unique())/np.log(2), 2**16"
   ]
  },
  {
   "cell_type": "code",
   "execution_count": null,
   "id": "4054eb53",
   "metadata": {},
   "outputs": [],
   "source": [
    "tdf[(tdf.multiplicity==32768)].sDR.hist(bins=np.linspace(0,4,5), label='0b(1b)')\n",
    "tdf[(tdf.multiplicity==65536)].sDR.hist(bins=np.linspace(0,4,5), label='0b(2b)')\n",
    "plt.xlabel('$\\Delta_{s,s}$', fontsize=20)\n",
    "plt.ylabel('Count')\n",
    "plt.legend(title='200 GeV $\\delta_{bs}==0.5$')"
   ]
  },
  {
   "cell_type": "code",
   "execution_count": null,
   "id": "a8b342b6",
   "metadata": {},
   "outputs": [],
   "source": [
    "break"
   ]
  },
  {
   "cell_type": "code",
   "execution_count": null,
   "id": "fce53aa8",
   "metadata": {},
   "outputs": [],
   "source": [
    "tdf[(tdf.multiplicity==65536)].sDR"
   ]
  },
  {
   "cell_type": "code",
   "execution_count": null,
   "id": "2cd6f03c",
   "metadata": {},
   "outputs": [],
   "source": [
    "ujet_df[(ujet_df.sr2==1) & (ujet_df.multiplicity==2)]"
   ]
  },
  {
   "cell_type": "code",
   "execution_count": null,
   "id": "6a5b6639",
   "metadata": {},
   "outputs": [],
   "source": [
    "ujet_df.multiplicity"
   ]
  },
  {
   "cell_type": "code",
   "execution_count": null,
   "id": "cb00e9fd",
   "metadata": {},
   "outputs": [],
   "source": [
    "select = (jet_df.multiplicity==2).sum()\n",
    "select2 = (jet_df.multiplicity==1).sum()\n",
    "\n",
    "uselect = (ujet_df.multiplicity==2).sum()\n",
    "select, uselect, select/uselect, select2"
   ]
  },
  {
   "cell_type": "code",
   "execution_count": null,
   "id": "d8f18c16",
   "metadata": {},
   "outputs": [],
   "source": [
    "select = (jet_df.multiplicity==2).sum()\n",
    "uselect = (ujet_df.multiplicity==2).sum()\n",
    "select, uselect, select/uselect"
   ]
  },
  {
   "cell_type": "code",
   "execution_count": null,
   "id": "b38e086a",
   "metadata": {},
   "outputs": [],
   "source": [
    "select = (jet_df.multiplicity==2).sum()\n",
    "uselect = (ujet_df.multiplicity==2).sum()\n",
    "select, uselect, select/uselect"
   ]
  },
  {
   "cell_type": "code",
   "execution_count": null,
   "id": "b84b72fa",
   "metadata": {},
   "outputs": [],
   "source": [
    "select = (jet_df.multiplicity==2).sum()\n",
    "uselect = (ujet_df.multiplicity==2).sum()\n",
    "select, uselect, select/uselect"
   ]
  },
  {
   "cell_type": "code",
   "execution_count": null,
   "id": "8bc37c60",
   "metadata": {},
   "outputs": [],
   "source": [
    "def get_multiplicty(value):\n",
    "    return np.log(value)/np.log(2)"
   ]
  },
  {
   "cell_type": "code",
   "execution_count": null,
   "id": "ac98df16",
   "metadata": {},
   "outputs": [],
   "source": [
    "jet_df['multiplicity2'] = jet_df.multiplicity.apply(get_multiplicty)"
   ]
  },
  {
   "cell_type": "code",
   "execution_count": null,
   "id": "3751a6ca",
   "metadata": {},
   "outputs": [],
   "source": [
    "np.histogram(jet_df['multiplicity2'], bins=np.linspace(-.5,13.5, 15))"
   ]
  },
  {
   "cell_type": "code",
   "execution_count": null,
   "id": "3ed850ac",
   "metadata": {},
   "outputs": [],
   "source": [
    "jet_df.secLeadOutS.hist()\n",
    "plt.yscale('log')"
   ]
  },
  {
   "cell_type": "code",
   "execution_count": null,
   "id": "5987bbb3",
   "metadata": {},
   "outputs": [],
   "source": []
  },
  {
   "cell_type": "code",
   "execution_count": null,
   "id": "12bb1b8a",
   "metadata": {},
   "outputs": [],
   "source": []
  },
  {
   "cell_type": "code",
   "execution_count": null,
   "id": "83a8b0fb",
   "metadata": {},
   "outputs": [],
   "source": []
  },
  {
   "cell_type": "code",
   "execution_count": null,
   "id": "f0b826c0",
   "metadata": {},
   "outputs": [],
   "source": []
  },
  {
   "cell_type": "code",
   "execution_count": null,
   "id": "626e1313",
   "metadata": {},
   "outputs": [],
   "source": []
  },
  {
   "cell_type": "code",
   "execution_count": null,
   "id": "5d4797a8",
   "metadata": {},
   "outputs": [],
   "source": [
    "break"
   ]
  },
  {
   "cell_type": "code",
   "execution_count": null,
   "id": "f2f48cb7",
   "metadata": {},
   "outputs": [],
   "source": [
    "def multi_profile(_df):\n",
    "    multiplicities = [-1., 0.,   1.,   1.1,  2.,   2.1,  3., 3.1, 3.2,    3.3,  4. ]\n",
    "    totals = []\n",
    "    for m in multiplicities:\n",
    "        totals.append(np.sum(_df.multiplicity==m))\n",
    "    return {k:v for k,v in zip(multiplicities, totals)}"
   ]
  },
  {
   "cell_type": "code",
   "execution_count": null,
   "id": "11bab855",
   "metadata": {},
   "outputs": [],
   "source": [
    "files = {\n",
    "    #0.04: '/eos/cms/store/group/phys_exotica/bffZprime/private_samples/signal/2016_NanoAODv6/BFFZprimeToMuMu_M200p0_dbs_0p04_2016/BFFZprimeToMuMu_M200p0_dbs_0p04_2016.root',\n",
    "    #1.0: '/eos/cms/store/group/phys_exotica/bffZprime/private_samples/signal/2016_NanoAODv6/BFFZprimeToMuMu_M200p0_dbs_1p0_2016/BFFZprimeToMuMu_M200p0_dbs_1p0_2016.root',\n",
    "    .5: \"/eos/cms/store/group/phys_exotica/bffZprime/private_samples/signal/2016_NanoAODv6/BFFZprimeToMuMu_M200p0_dbs_0p5_2016/BFFZprimeToMuMu_M200p0_dbs_0p5_2016.root\"\n",
    "}    "
   ]
  },
  {
   "cell_type": "code",
   "execution_count": null,
   "id": "c0103c25",
   "metadata": {
    "scrolled": false
   },
   "outputs": [],
   "source": [
    "data_frames = {}\n",
    "for dbs, file in files.items():\n",
    "    print(dbs)\n",
    "    events = upr.open(file)['Events']\n",
    "    print(events.num_entries)\n",
    "    df = events.arrays(['GenPart_pdgId',  'GenPart_statusFlags', 'GenPart_pt', 'GenPart_eta', 'GenPart_phi', \n",
    "                        'SR1_jet_nom_muon_corrected_pt_ele_pt', 'SR2_jet_nom_muon_corrected_pt_ele_pt'], library='pd')\n",
    "    jet_df = make_dataframe()\n",
    "    data_frames[dbs] = jet_df"
   ]
  },
  {
   "cell_type": "code",
   "execution_count": null,
   "id": "85cf010e",
   "metadata": {},
   "outputs": [],
   "source": [
    "data_frames[dbs]"
   ]
  },
  {
   "cell_type": "code",
   "execution_count": null,
   "id": "aa915e55",
   "metadata": {},
   "outputs": [],
   "source": []
  },
  {
   "cell_type": "code",
   "execution_count": null,
   "id": "1eabdbee",
   "metadata": {},
   "outputs": [],
   "source": []
  },
  {
   "cell_type": "code",
   "execution_count": null,
   "id": "d4e42d3b",
   "metadata": {
    "scrolled": true
   },
   "outputs": [],
   "source": [
    "precut_data_frames = {}\n",
    "for sample in sp.samples():\n",
    "    name = sample['name']\n",
    "    if not 'BFF' in name: continue\n",
    "    if not '200' in name: continue\n",
    "    if '0p04' in name: continue\n",
    "    files_df = get_files(sample['fileglob'], sample_path)\n",
    "    file = files_df.file.iloc[0]\n",
    "    events = upr.open(file)['Events']\n",
    "    df = events.arrays(['GenPart_pdgId',  'GenPart_statusFlags', 'GenPart_pt', 'GenPart_eta', 'GenPart_phi'], library='pd')\n",
    "    jet_df = make_dataframe()\n",
    "    \n",
    "    dbs = 0.04\n",
    "    if '0p5' in name: dbs=0.5\n",
    "    if '1p0' in name: dbs=1.0\n",
    "    precut_data_frames[dbs] = jet_df"
   ]
  },
  {
   "cell_type": "code",
   "execution_count": null,
   "id": "7b0d7ab0",
   "metadata": {},
   "outputs": [],
   "source": [
    "def calc_ratios(dbs):\n",
    "    data = multi_profile(data_frames[dbs])\n",
    "    precut = multi_profile(precut_data_frames[dbs])\n",
    "    return {k: data[k]/precut[k] for k in data.keys()}"
   ]
  },
  {
   "cell_type": "code",
   "execution_count": null,
   "id": "6f7a9a3b",
   "metadata": {},
   "outputs": [],
   "source": [
    "calc_ratios(.5)"
   ]
  },
  {
   "cell_type": "code",
   "execution_count": null,
   "id": "cc770bcb",
   "metadata": {},
   "outputs": [],
   "source": [
    "calc_ratios(1.0)"
   ]
  },
  {
   "cell_type": "code",
   "execution_count": null,
   "id": "576f4d38",
   "metadata": {},
   "outputs": [],
   "source": [
    "multi_profile(precut_data_frames[.5])"
   ]
  },
  {
   "cell_type": "code",
   "execution_count": null,
   "id": "cae7402b",
   "metadata": {},
   "outputs": [],
   "source": [
    "multi_profile(precut_data_frames[1.0])"
   ]
  },
  {
   "cell_type": "code",
   "execution_count": null,
   "id": "ac7b8147",
   "metadata": {},
   "outputs": [],
   "source": [
    "multi_profile(data_frames[.5])"
   ]
  },
  {
   "cell_type": "code",
   "execution_count": null,
   "id": "acdd381b",
   "metadata": {},
   "outputs": [],
   "source": [
    "multi_profile(data_frames[1.0])"
   ]
  },
  {
   "cell_type": "code",
   "execution_count": null,
   "id": "0d457f99",
   "metadata": {},
   "outputs": [],
   "source": [
    "precut_data_frames[.5][precut_data_frames[.5].multiplicity==1].leadOutB_eta.hist(bins= np.linspace(-4,4, 10))"
   ]
  },
  {
   "cell_type": "code",
   "execution_count": null,
   "id": "8fcfc66e",
   "metadata": {},
   "outputs": [],
   "source": [
    "precut_data_frames[1.0][precut_data_frames[1.0].multiplicity==1].leadOutB_eta.hist(bins= np.linspace(-4,4, 10))"
   ]
  },
  {
   "cell_type": "code",
   "execution_count": null,
   "id": "56d4e07e",
   "metadata": {},
   "outputs": [],
   "source": [
    "precut_data_frames[.5][precut_data_frames[.5].multiplicity==1.1].leadOutB_eta.hist(bins= np.linspace(-4,4, 10))"
   ]
  },
  {
   "cell_type": "code",
   "execution_count": null,
   "id": "abdba0ca",
   "metadata": {},
   "outputs": [],
   "source": [
    "precut_data_frames[1.0][precut_data_frames[1.0].multiplicity==1.1].leadOutB_eta.hist(bins= np.linspace(-4,4, 10))"
   ]
  },
  {
   "cell_type": "code",
   "execution_count": null,
   "id": "54c90cdc",
   "metadata": {},
   "outputs": [],
   "source": [
    "hist  = np.histogram(jet_df.multiplicity, bins=np.linspace(-1.5, 4.5, 7), density=True)\n",
    "\n",
    "fig = plt.figure()\n",
    "ax = fig.add_axes([0,0,1,1])\n",
    "langs = ['C', 'C++', 'Java', 'Python', 'PHP']\n",
    "students = [23,17,35,29,12]\n",
    "ax.bar(['other', '0b', '1b', '1s', '1b+1s', '2b'], hist[0])\n",
    "\n",
    "plt.yscale('log')\n",
    "hist[0]"
   ]
  },
  {
   "cell_type": "code",
   "execution_count": null,
   "id": "6b574ce7",
   "metadata": {},
   "outputs": [],
   "source": []
  },
  {
   "cell_type": "code",
   "execution_count": null,
   "id": "f5aefa20",
   "metadata": {},
   "outputs": [],
   "source": [
    "hist  = np.histogram(jet_df.multiplicity, bins=np.linspace(-1.5, 4.5, 7), density=True)\n",
    "\n",
    "fig = plt.figure()\n",
    "ax = fig.add_axes([0,0,1,1])\n",
    "langs = ['C', 'C++', 'Java', 'Python', 'PHP']\n",
    "students = [23,17,35,29,12]\n",
    "ax.bar(['other', '0b', '1b', '1s', '1b+1s', '2b'], hist[0])\n",
    "\n",
    "plt.yscale('log')\n",
    "hist[0]"
   ]
  },
  {
   "cell_type": "code",
   "execution_count": null,
   "id": "3dcf8d49",
   "metadata": {},
   "outputs": [],
   "source": [
    "hist  = np.histogram(jet_df.multiplicity, bins=np.linspace(-1.5, 4.5, 7), density=True)\n",
    "\n",
    "fig = plt.figure()\n",
    "ax = fig.add_axes([0,0,1,1])\n",
    "langs = ['C', 'C++', 'Java', 'Python', 'PHP']\n",
    "students = [23,17,35,29,12]\n",
    "ax.bar(['other', '0b', '1b', '1s', '1b+1s', '2b'], hist[0])\n",
    "\n",
    "plt.yscale('log')\n",
    "hist[0]"
   ]
  },
  {
   "cell_type": "code",
   "execution_count": null,
   "id": "72b79521",
   "metadata": {},
   "outputs": [],
   "source": [
    "jet_df[jet_df.multiplicity==-1]"
   ]
  },
  {
   "cell_type": "code",
   "execution_count": null,
   "id": "f8e9f1ba",
   "metadata": {},
   "outputs": [],
   "source": [
    "bin(20481), bin(10625), bin(4481)"
   ]
  },
  {
   "cell_type": "code",
   "execution_count": null,
   "id": "1f6323c3",
   "metadata": {},
   "outputs": [],
   "source": [
    "check_bitwise(10625, 0), check_bitwise(4481, 0), check_bitwise(20481, 0)"
   ]
  },
  {
   "cell_type": "code",
   "execution_count": null,
   "id": "4bb67433",
   "metadata": {},
   "outputs": [],
   "source": [
    "event = df.loc[780]\n",
    "initial = event[event.GenPart_pt==0]\n",
    "\n",
    "outgoing = event[event.GenPart_pt>0]\n",
    "ishardprocess_flag = outgoing.GenPart_statusFlags.apply(hard_process)\n",
    "ishardprocess = outgoing[ishardprocess_flag]\n",
    "dedupe = find_duplicates(ishardprocess)\n",
    "ishardprocess = ishardprocess[dedupe]\n",
    "initial"
   ]
  },
  {
   "cell_type": "code",
   "execution_count": null,
   "id": "0dc563bb",
   "metadata": {},
   "outputs": [],
   "source": [
    "ishardprocess"
   ]
  },
  {
   "cell_type": "code",
   "execution_count": null,
   "id": "3536f97f",
   "metadata": {},
   "outputs": [],
   "source": []
  },
  {
   "cell_type": "code",
   "execution_count": null,
   "id": "b2d71204",
   "metadata": {},
   "outputs": [],
   "source": [
    "(check_bitwise(8193, 7), check_bitwise(8193, 8)),  (check_bitwise(8193, 13))"
   ]
  },
  {
   "cell_type": "code",
   "execution_count": null,
   "id": "fa884976",
   "metadata": {},
   "outputs": [],
   "source": [
    "jet_df[jet_df.multiplicity==-1]"
   ]
  },
  {
   "cell_type": "code",
   "execution_count": null,
   "id": "9f2b6e23",
   "metadata": {
    "scrolled": true
   },
   "outputs": [],
   "source": [
    "return_jet_multiplicty(22)"
   ]
  },
  {
   "cell_type": "code",
   "execution_count": null,
   "id": "a7a4267e",
   "metadata": {},
   "outputs": [],
   "source": [
    "jet_df.GenNbJets.hist(bins=np.linspace(-.5,7.5, 9))\n",
    "plt.xlabel('n b-jets')\n",
    "plt.title('before selection')"
   ]
  },
  {
   "cell_type": "code",
   "execution_count": null,
   "id": "d473469d",
   "metadata": {},
   "outputs": [],
   "source": [
    "hist  = np.histogram(jet_df.multiplicity, bins=np.linspace(-1.5, 4.5, 7), density=True)\n",
    "\n",
    "fig = plt.figure()\n",
    "ax = fig.add_axes([0,0,1,1])\n",
    "langs = ['C', 'C++', 'Java', 'Python', 'PHP']\n",
    "students = [23,17,35,29,12]\n",
    "ax.bar(['other', '0b', '1b', '1s', '1b+1s', '2b'], hist[0])\n",
    "\n",
    "plt.yscale('log')\n"
   ]
  },
  {
   "cell_type": "code",
   "execution_count": null,
   "id": "8198e9c7",
   "metadata": {},
   "outputs": [],
   "source": [
    "hist"
   ]
  },
  {
   "cell_type": "code",
   "execution_count": null,
   "id": "96b222d2",
   "metadata": {},
   "outputs": [],
   "source": [
    "jet_df.multiplicity.hist(bins=np.linspace(-1.5, 4.5, 7), density=True)\n",
    "plt.yscale('log')\n"
   ]
  },
  {
   "cell_type": "code",
   "execution_count": null,
   "id": "f9a85c41",
   "metadata": {},
   "outputs": [],
   "source": [
    "jet_df.GenNbJets.hist(bins=np.linspace(-.5,7.5, 9))\n",
    "plt.xlabel('n b-jets')\n",
    "plt.title('before selection')"
   ]
  },
  {
   "cell_type": "code",
   "execution_count": null,
   "id": "2061049e",
   "metadata": {},
   "outputs": [],
   "source": [
    "jet_df.GenNsJets.hist(bins=np.linspace(-.5,7.5, 9))\n",
    "plt.xlabel('n s-jets')\n",
    "plt.title('before selection')"
   ]
  },
  {
   "cell_type": "code",
   "execution_count": null,
   "id": "b79dcf32",
   "metadata": {},
   "outputs": [],
   "source": [
    "hist = np.histogram(jet_df.GenNsJets, bins=np.linspace(-.5,7.5, 9))\n",
    "hist[0]*25"
   ]
  },
  {
   "cell_type": "code",
   "execution_count": null,
   "id": "f11f5a70",
   "metadata": {},
   "outputs": [],
   "source": [
    "#### skimmed samples"
   ]
  },
  {
   "cell_type": "code",
   "execution_count": null,
   "id": "d4b59e6a",
   "metadata": {
    "scrolled": true
   },
   "outputs": [],
   "source": [
    "for sample in sp.samples():\n",
    "    name = sample['name']\n",
    "    if not 'BFF' in name: continue\n",
    "    if not '350' in name: continue\n",
    "    if not '0p5' in name: continue\n",
    "    files_df = get_files(sample['fileglob'], sample_path)\n",
    "    file = files_df.file.iloc[0]\n",
    "    events = upr.open(file)['Events']\n",
    "    df = events.arrays(['GenPart_pdgId',  'GenPart_statusFlags', 'GenPart_pt', 'GenPart_eta', 'GenPart_phi', \n",
    "                        'SR1_jet_nom_muon_corrected_pt_ele_pt', 'SR2_jet_nom_muon_corrected_pt_ele_pt'], library='pd')\n",
    "    jet_df = make_dataframe()"
   ]
  },
  {
   "cell_type": "code",
   "execution_count": null,
   "id": "c3a1d5ea",
   "metadata": {},
   "outputs": [],
   "source": [
    "hist  = np.histogram(jet_df.multiplicity, bins=np.linspace(-1.5, 5.5, 8), density=False)[0]\n",
    "sr1hist  = np.histogram(jet_df[jet_df.sr1==1].multiplicity, bins=np.linspace(-1.5, 5.5, 8), density=False)[0]\n",
    "sr1hist, hist, [ round(x,3) for x in sr1hist/(hist+1e-5)]"
   ]
  },
  {
   "cell_type": "code",
   "execution_count": null,
   "id": "59fa3f20",
   "metadata": {},
   "outputs": [],
   "source": [
    "hist  = np.histogram(jet_df.multiplicity, bins=np.linspace(-1.5, 5.5, 8), density=False)[0]\n",
    "sr1hist  = np.histogram(jet_df[jet_df.sr1==1].multiplicity, bins=np.linspace(-1.5, 5.5, 8), density=False)[0]\n",
    "sr1hist, hist, [ round(x,3) for x in sr1hist/(hist+1e-5)]"
   ]
  },
  {
   "cell_type": "code",
   "execution_count": null,
   "id": "12ee73bb",
   "metadata": {},
   "outputs": [],
   "source": [
    "(560+66)/(5904+2531), (583+48)/(5470+2925)"
   ]
  },
  {
   "cell_type": "code",
   "execution_count": null,
   "id": "058e4861",
   "metadata": {},
   "outputs": [],
   "source": [
    "jet_df[jet_df.multiplicity==0].shape[0]/1e4, jet_df[jet_df.multiplicity==0.1].shape[0]/1e4"
   ]
  },
  {
   "cell_type": "code",
   "execution_count": null,
   "id": "37bbe468",
   "metadata": {},
   "outputs": [],
   "source": [
    "jet_df[jet_df.multiplicity==0].shape[0]/1e4, jet_df[jet_df.multiplicity==0.1].shape[0]/1e4"
   ]
  },
  {
   "cell_type": "code",
   "execution_count": null,
   "id": "890c7716",
   "metadata": {},
   "outputs": [],
   "source": [
    "jet_df[jet_df.multiplicity==0].shape[0]/1e4, jet_df[jet_df.multiplicity==0.1].shape[0]/1e4"
   ]
  },
  {
   "cell_type": "code",
   "execution_count": null,
   "id": "3c73eab1",
   "metadata": {
    "scrolled": true
   },
   "outputs": [],
   "source": [
    "selection = []\n",
    "non_hard = []\n",
    "ishard = []\n",
    "for i, row in jet_df[jet_df.multiplicity==5].iterrows():\n",
    "    isselected = df.loc[i].SR1_jet_nom_muon_corrected_pt_ele_pt.mean()\n",
    "    if isselected: \n",
    "        \n",
    "        tdf = df.loc[i]\n",
    "        tdf = tdf[tdf.GenPart_pt>0]\n",
    "        tdf = tdf[abs(tdf.GenPart_pdgId) == 5]\n",
    "        \n",
    "        ishard_process = tdf.GenPart_statusFlags.apply(hard_process)\n",
    "        #tdf = tdf[(tdf.GenPart_pt > 20) | (ishard_process)]\n",
    "        #ishard_process = tdf.GenPart_statusFlags.apply(hard_process)\n",
    "        nonhard = len(ishard_process) - ishard_process.sum()\n",
    "        non_hard.append(nonhard)\n",
    "        ishardvalue = ishard_process.sum()\n",
    "        ishard.append(ishardvalue)\n",
    "        \n",
    "        print(i, isselected, nonhard, ishardvalue)\n",
    "    \n",
    "    selection.append(selection)\n",
    "    if i > 100: break"
   ]
  },
  {
   "cell_type": "code",
   "execution_count": null,
   "id": "2e6fac17",
   "metadata": {},
   "outputs": [],
   "source": [
    "(np.array(non_hard)>0).mean(), (np.array(ishard)>0).mean(), ((np.array(non_hard)>0) + (np.array(ishard)>0)).mean()"
   ]
  },
  {
   "cell_type": "code",
   "execution_count": null,
   "id": "76a972ef",
   "metadata": {},
   "outputs": [],
   "source": [
    "for i in range(14):\n",
    "    print(i, check_bitwise(12354, i))"
   ]
  },
  {
   "cell_type": "code",
   "execution_count": null,
   "id": "7025fdb4",
   "metadata": {},
   "outputs": [],
   "source": [
    "df.keys()"
   ]
  },
  {
   "cell_type": "code",
   "execution_count": null,
   "id": "6fd8a50e",
   "metadata": {},
   "outputs": [],
   "source": [
    "pd.options.display.float_format = \"{:,.2f}\".format"
   ]
  },
  {
   "cell_type": "code",
   "execution_count": null,
   "id": "85a89677",
   "metadata": {},
   "outputs": [],
   "source": [
    "jet_df.multiplicity.unique()"
   ]
  },
  {
   "cell_type": "code",
   "execution_count": null,
   "id": "b674e8c7",
   "metadata": {},
   "outputs": [],
   "source": [
    "j = 0\n",
    "for i, row in jet_df.iterrows():\n",
    "    if j > 10: break\n",
    "    if not (row.inBs==2): continue\n",
    "    #if not((row.inBs==1) & (row.inBs==1)): continue\n",
    "    if not((row.leadOutB>0) & (row.leadOutS>0)): continue\n",
    "    print(i) \n",
    "    j+=1"
   ]
  },
  {
   "cell_type": "code",
   "execution_count": null,
   "id": "bb834995",
   "metadata": {
    "scrolled": false
   },
   "outputs": [],
   "source": [
    "i = 108\n",
    "df[df.GenPart_statusFlags.apply(hard_process)].loc[i][['GenPart_pdgId', 'GenPart_statusFlags', 'GenPart_pt', 'GenPart_eta',\n",
    "       'GenPart_phi',]]"
   ]
  },
  {
   "cell_type": "code",
   "execution_count": null,
   "id": "b95c396a",
   "metadata": {},
   "outputs": [],
   "source": [
    "print(df.loc[i][['GenPart_pdgId', 'GenPart_statusFlags', 'GenPart_pt', 'GenPart_eta',\n",
    "       'GenPart_phi',]].to_latex(index=False))"
   ]
  },
  {
   "cell_type": "code",
   "execution_count": null,
   "id": "71b82d65",
   "metadata": {},
   "outputs": [],
   "source": [
    "print(df.loc[0][['GenPart_pdgId', 'GenPart_statusFlags', 'GenPart_pt', 'GenPart_eta',\n",
    "       'GenPart_phi',]].to_latex(index=False))"
   ]
  },
  {
   "cell_type": "code",
   "execution_count": null,
   "id": "20ac65ca",
   "metadata": {},
   "outputs": [],
   "source": [
    "hist  = np.histogram(jet_df.multiplicity, bins=np.linspace(-1.5, 5.5, 8), density=True)\n",
    "\n",
    "fig = plt.figure()\n",
    "ax = fig.add_axes([0,0,1,1])\n",
    "langs = ['C', 'C++', 'Java', 'Python', 'PHP']\n",
    "students = [23,17,35,29,12]\n",
    "ax.bar(['other', '0b', '1b', '1s', '1b+1s', '2b', '0b+'], hist[0])\n",
    "\n",
    "plt.yscale('log')\n",
    "hist[0]"
   ]
  },
  {
   "cell_type": "code",
   "execution_count": null,
   "id": "047f3205",
   "metadata": {},
   "outputs": [],
   "source": [
    "hist  = np.histogram(jet_df.multiplicity, bins=np.linspace(-1.5, 5.5, 8), density=True)\n",
    "\n",
    "fig = plt.figure()\n",
    "ax = fig.add_axes([0,0,1,1])\n",
    "langs = ['C', 'C++', 'Java', 'Python', 'PHP']\n",
    "students = [23,17,35,29,12]\n",
    "ax.bar(['other', '0b', '1b', '1s', '1b+1s', '2b', '0b+'], hist[0])\n",
    "\n",
    "plt.yscale('log')\n",
    "hist[0]"
   ]
  },
  {
   "cell_type": "code",
   "execution_count": null,
   "id": "c5c6eb1e",
   "metadata": {},
   "outputs": [],
   "source": [
    "jet_df.iloc[8]"
   ]
  },
  {
   "cell_type": "code",
   "execution_count": null,
   "id": "8d226999",
   "metadata": {},
   "outputs": [],
   "source": [
    "df.loc[8]"
   ]
  },
  {
   "cell_type": "code",
   "execution_count": null,
   "id": "6962f033",
   "metadata": {
    "scrolled": true
   },
   "outputs": [],
   "source": [
    "for sample in sp.samples():\n",
    "    name = sample['name']\n",
    "    if not 'BFF' in name: continue\n",
    "    if not '750' in name: continue\n",
    "    if not '0p04' in name: continue\n",
    "    files_df = get_files(sample['fileglob'], sample_path)\n",
    "    file = files_df.file.iloc[0]\n",
    "    events = upr.open(file)['Events']\n",
    "    df = events.arrays(['GenPart_pdgId',  'GenPart_statusFlags', 'GenPart_pt', 'GenPart_eta', 'GenPart_phi'], library='pd')\n",
    "    jet_df = make_dataframe()"
   ]
  },
  {
   "cell_type": "code",
   "execution_count": null,
   "id": "65189ee7",
   "metadata": {},
   "outputs": [],
   "source": [
    "hist  = np.histogram(jet_df.multiplicity, bins=np.linspace(-1.5, 4.5, 7), density=True)\n",
    "\n",
    "fig = plt.figure()\n",
    "ax = fig.add_axes([0,0,1,1])\n",
    "students = [23,17,35,29,12]\n",
    "ax.bar(['other', '0b', '1b', '1s', '1b+1s', '2b'], hist[0])\n",
    "\n",
    "plt.yscale('log')\n",
    "hist[0]"
   ]
  },
  {
   "cell_type": "code",
   "execution_count": null,
   "id": "f928b804",
   "metadata": {},
   "outputs": [],
   "source": [
    "jet_df[jet_df.multiplicity==-1]"
   ]
  },
  {
   "cell_type": "code",
   "execution_count": null,
   "id": "6984421b",
   "metadata": {
    "scrolled": false
   },
   "outputs": [],
   "source": [
    "df.loc[277][df.loc[277].GenPart_statusFlags.apply(hard_process)]"
   ]
  },
  {
   "cell_type": "code",
   "execution_count": null,
   "id": "0cf57b2a",
   "metadata": {},
   "outputs": [],
   "source": [
    "hard_process(8193)"
   ]
  },
  {
   "cell_type": "code",
   "execution_count": null,
   "id": "245535ef",
   "metadata": {},
   "outputs": [],
   "source": [
    "df.loc[277]"
   ]
  },
  {
   "cell_type": "code",
   "execution_count": null,
   "id": "5223c7d0",
   "metadata": {},
   "outputs": [],
   "source": []
  }
 ],
 "metadata": {
  "kernelspec": {
   "display_name": "bff_12_1",
   "language": "python",
   "name": "bff_12_1"
  },
  "language_info": {
   "codemirror_mode": {
    "name": "ipython",
    "version": 3
   },
   "file_extension": ".py",
   "mimetype": "text/x-python",
   "name": "python",
   "nbconvert_exporter": "python",
   "pygments_lexer": "ipython3",
   "version": "3.9.6"
  }
 },
 "nbformat": 4,
 "nbformat_minor": 5
}
