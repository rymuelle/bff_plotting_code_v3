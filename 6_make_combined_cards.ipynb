{
 "cells": [
  {
   "cell_type": "code",
   "execution_count": null,
   "metadata": {},
   "outputs": [],
   "source": [
    "import glob\n",
    "import pandas as pd\n",
    "import re\n",
    "import subprocess"
   ]
  },
  {
   "cell_type": "code",
   "execution_count": null,
   "metadata": {},
   "outputs": [],
   "source": [
    "# run with higgs combine tool"
   ]
  },
  {
   "cell_type": "code",
   "execution_count": null,
   "metadata": {},
   "outputs": [],
   "source": [
    "outdir = 'assets_nov_2022'"
   ]
  },
  {
   "cell_type": "code",
   "execution_count": null,
   "metadata": {},
   "outputs": [],
   "source": [
    "def make_file_df(pattern='txt'):\n",
    "    '''This function produces a dataframe of all the cfg files that we could run combine over.'''\n",
    "    file_list = [f for f in glob.glob('{}/combine_data/*/*BFFZprimeToMuMu*'.format(outdir)) if len(re.findall(pattern,f)) > 0]\n",
    "    cfg_list =[]\n",
    "    for i, f in enumerate(file_list):\n",
    "        nJets = re.findall(r'SR.', f)[0]\n",
    "        # don't include combined regions\n",
    "        if not((nJets == \"SR1\") or (nJets == \"SR2\")): continue\n",
    "        mass = (re.findall(r'M_(\\d+)_', f)[0])\n",
    "        sig_type = (re.findall(r'Mu_([a-z]+)_M_', f)[0])\n",
    "        try:\n",
    "            dbs = re.findall(r'dbs(\\d)p(\\d+)', f)[0]\n",
    "        except:\n",
    "            dbs = [0,0]\n",
    "        dbs = ('{}.{}'.format(*dbs))\n",
    "        era = (re.findall(r'(201.)',f)[0])\n",
    "        if era==\"201X\": continue\n",
    "        cfg_list.append({\"file\":f, \"nJets\":nJets, \"mass\":mass, \"dbs\":dbs, \"era\": era, \"sig_type\": sig_type})\n",
    "    return pd.DataFrame(cfg_list)"
   ]
  },
  {
   "cell_type": "code",
   "execution_count": null,
   "metadata": {},
   "outputs": [],
   "source": [
    "def make_combine_df(_df, _name):\n",
    "    '''This function takes a dataframe of configs and produces a single datacard with those cards.'''\n",
    "    files = _df.file\n",
    "    file_string = \"combineCards.py\"\n",
    "    for count, f in enumerate(files):\n",
    "        file_string += \" name{}={}\".format(count, f)\n",
    "    p = subprocess.Popen(file_string.split(' '), stdout=subprocess.PIPE, \n",
    "                                   stderr=subprocess.PIPE)\n",
    "    out, err = p.communicate()\n",
    "    era = \"....\" #re.findall(r'201[0-9]', out)[0]\n",
    "    out = out.replace('{}/combine_data/2016/'.format(outdir), '')\n",
    "    out = out.replace('{}/combine_data/2017/'.format(outdir), '')\n",
    "    out = out.replace('{}/combine_data/2018/'.format(outdir), '')\n",
    "    with open(_name, 'wb') as f:\n",
    "        f.write(out)\n"
   ]
  },
  {
   "cell_type": "code",
   "execution_count": null,
   "metadata": {},
   "outputs": [],
   "source": [
    "df = make_file_df()"
   ]
  },
  {
   "cell_type": "code",
   "execution_count": null,
   "metadata": {},
   "outputs": [],
   "source": [
    "combined_regions = df[['mass', 'dbs', 'era']].drop_duplicates()\n",
    "\n",
    "for i, (mass, dbs, era) in combined_regions.iterrows():\n",
    "    tdf = df[(df.mass ==mass) & (df.dbs==dbs) & (df.era==era)]\n",
    "    fname = \"{}/combine_data/{}/{}_SRX_BFFZprimeToMuMu_fit_M_{}_dbs{}.txt\".format(outdir, era, era, mass, dbs.replace('.', 'p'))\n",
    "    make_combine_df(tdf, fname)"
   ]
  },
  {
   "cell_type": "code",
   "execution_count": null,
   "metadata": {},
   "outputs": [],
   "source": [
    "combined_eras = df[['mass', 'dbs', 'nJets']].drop_duplicates()\n",
    "for i, (mass, dbs, nJets) in combined_eras.iterrows():\n",
    "    tdf = df[(df.mass ==mass) & (df.dbs==dbs) & (df.nJets==nJets)]\n",
    "    fname = \"{}/combine_data/201X/201X_{}_BFFZprimeToMuMu_fit_M_{}_dbs{}.txt\".format(outdir, nJets, mass, dbs.replace('.', 'p'))\n",
    "    make_combine_df(tdf, fname)"
   ]
  },
  {
   "cell_type": "code",
   "execution_count": null,
   "metadata": {},
   "outputs": [],
   "source": [
    "combined_region_and_eras = df[['mass', 'dbs']].drop_duplicates()\n",
    "\n",
    "for i, (mass, dbs) in combined_region_and_eras.iterrows():\n",
    "    tdf = df[(df.mass ==mass) & (df.dbs==dbs)]\n",
    "    fname = \"{}/combine_data/201X/201X_SRX_BFFZprimeToMuMu_fit_M_{}_dbs{}.txt\".format(outdir, mass, dbs.replace('.', 'p'))\n",
    "    make_combine_df(tdf, fname)"
   ]
  },
  {
   "cell_type": "code",
   "execution_count": null,
   "metadata": {},
   "outputs": [],
   "source": [
    "run_combine = '''#!/bin/sh\n",
    "#ulimit -s unlimited\n",
    "#set -e\n",
    "cd /afs/cern.ch/work/r/rymuelle/public/nanoAODzPrime/higgscombine/CMSSW_10_2_13/src\n",
    "export SCRAM_ARCH=slc7_amd64_gcc700\n",
    "source /cvmfs/cms.cern.ch/cmsset_default.sh\n",
    "eval `scramv1 runtime -sh`\n",
    "cd /afs/cern.ch/work/r/rymuelle/public/nanoAODzPrime/CMSSW_12_1_0/src/bff_plotting_code_v3/{}/combine_data/ \n",
    "\n",
    "combine -M AsymptoticLimits \"$1\" --run blind \n",
    "\n",
    "'''.format(outdir)"
   ]
  },
  {
   "cell_type": "code",
   "execution_count": null,
   "metadata": {},
   "outputs": [],
   "source": [
    "with open('{}/combine_data/run_combine.sh'.format(outdir), 'w') as f:\n",
    "    f.write(run_combine)"
   ]
  },
  {
   "cell_type": "code",
   "execution_count": null,
   "metadata": {},
   "outputs": [],
   "source": [
    "!cp src/combine_scripts/* {outdir}/combine_data/"
   ]
  },
  {
   "cell_type": "code",
   "execution_count": null,
   "metadata": {},
   "outputs": [],
   "source": [
    "!mkdir {outdir}/combine_data/out\n",
    "!mkdir {outdir}/combine_data/err\n",
    "!mkdir {outdir}/combine_data/log\n",
    "\n",
    "!mkdir {outdir}/combine_data/out/2016\n",
    "!mkdir {outdir}/combine_data/err/2016\n",
    "!mkdir {outdir}/combine_data/log/2016\n",
    "\n",
    "!mkdir {outdir}/combine_data/out/2017\n",
    "!mkdir {outdir}/combine_data/err/2017\n",
    "!mkdir {outdir}/combine_data/log/2017\n",
    "\n",
    "\n",
    "!mkdir {outdir}/combine_data/out/2018\n",
    "!mkdir {outdir}/combine_data/err/2018\n",
    "!mkdir {outdir}/combine_data/log/2018\n",
    "\n",
    "\n",
    "!mkdir {outdir}/combine_data/out/201X\n",
    "!mkdir {outdir}/combine_data/err/201X\n",
    "!mkdir {outdir}/combine_data/log/201X"
   ]
  },
  {
   "cell_type": "code",
   "execution_count": null,
   "metadata": {},
   "outputs": [],
   "source": [
    "condor_submit submit_jobs_201X.sub\n",
    "condor_submit submit_jobs_2016.sub\n",
    "condor_submit submit_jobs_2017.sub\n",
    "condor_submit submit_jobs_2018.sub"
   ]
  },
  {
   "cell_type": "code",
   "execution_count": null,
   "metadata": {},
   "outputs": [],
   "source": []
  }
 ],
 "metadata": {
  "kernelspec": {
   "display_name": "Python 2",
   "language": "python",
   "name": "python2"
  },
  "language_info": {
   "codemirror_mode": {
    "name": "ipython",
    "version": 2
   },
   "file_extension": ".py",
   "mimetype": "text/x-python",
   "name": "python",
   "nbconvert_exporter": "python",
   "pygments_lexer": "ipython2",
   "version": "2.7.14+"
  }
 },
 "nbformat": 4,
 "nbformat_minor": 5
}
