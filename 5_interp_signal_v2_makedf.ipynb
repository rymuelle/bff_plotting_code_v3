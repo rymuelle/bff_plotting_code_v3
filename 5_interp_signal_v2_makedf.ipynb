{
 "cells": [
  {
   "cell_type": "code",
   "execution_count": null,
   "id": "f6226420",
   "metadata": {},
   "outputs": [],
   "source": [
    "import pickle as pkl\n",
    "import pandas as pd\n",
    "import matplotlib.pyplot as plt\n",
    "import numpy as np\n",
    "from src.plotting_tools.Bins import bins\n",
    "import ROOT as r\n",
    "import array"
   ]
  },
  {
   "cell_type": "code",
   "execution_count": null,
   "id": "1fb33c1e",
   "metadata": {},
   "outputs": [],
   "source": [
    "def make_hist(values, errors, *args):\n",
    "    hpx    = r.TH1F(*args, bins.calc_nBins(), array.array('d', bins.bin_edges))\n",
    "    for i, (x,e) in enumerate(zip(values,errors)):\n",
    "        hpx.SetBinContent(i, x) \n",
    "        hpx.SetBinError(i, e) \n",
    "    return hpx\n"
   ]
  },
  {
   "cell_type": "code",
   "execution_count": null,
   "id": "862f5944",
   "metadata": {},
   "outputs": [],
   "source": [
    "# http://cms-analysis.github.io/HiggsAnalysis-CombinedLimit/part2/settinguptheanalysis/\n",
    "# https://github.com/cms-analysis/HiggsAnalysis-CombinedLimit/blob/102x/data/tutorials/shapes/simple-shapes-df_input.csv"
   ]
  },
  {
   "cell_type": "code",
   "execution_count": null,
   "id": "141fcdb1",
   "metadata": {},
   "outputs": [],
   "source": [
    "mass_hist_template = 'sig{}'"
   ]
  },
  {
   "cell_type": "code",
   "execution_count": null,
   "id": "c9684f76",
   "metadata": {},
   "outputs": [],
   "source": [
    "era = '2016'\n",
    "with open('data/{}_bff_interp.pkl'.format(era), 'rb') as f:\n",
    "    data = pkl.load(f)"
   ]
  },
  {
   "cell_type": "code",
   "execution_count": null,
   "id": "aad57410",
   "metadata": {},
   "outputs": [],
   "source": [
    "outname=\"fits/limit_setting/abcd_dict_{}.pkl\".format(era)\n",
    "with open(outname,'rb') as f:\n",
    "    abcd = pkl.load(f)"
   ]
  },
  {
   "cell_type": "code",
   "execution_count": null,
   "id": "a3df7c1e",
   "metadata": {},
   "outputs": [],
   "source": [
    "def rebin(oldbins, newbins, data, drawplot=False):\n",
    "    fig, ax = plt.subplots()\n",
    "    values = ax.hist(oldbins, newbins, weights = data)\n",
    "    if not drawplot: plt.close(fig)\n",
    "    return values[0]"
   ]
  },
  {
   "cell_type": "code",
   "execution_count": null,
   "id": "1ef02506",
   "metadata": {},
   "outputs": [],
   "source": [
    "def rebin_np(oldbins, newbins, data, drawplot=False):\n",
    "    values = np.histogram(oldbins, newbins, weights = data)\n",
    "    return values[0]"
   ]
  },
  {
   "cell_type": "code",
   "execution_count": null,
   "id": "e8933f6b",
   "metadata": {},
   "outputs": [],
   "source": [
    "from time import perf_counter"
   ]
  },
  {
   "cell_type": "code",
   "execution_count": null,
   "id": "d088f70c",
   "metadata": {},
   "outputs": [],
   "source": [
    "\n",
    "sys_map= {\n",
    "\"{reg}_nom\": \"nominal\", \n",
    "\"{reg}_jet_jerUp_muon_corrected_pt_ele_pt_{sys_dir}\": \"jer_{era}_{sys_dir}\",\n",
    "\"{reg}_jet_jesTotalUp_muon_corrected_pt_ele_pt_{sys_dir}\": \"jes_{era}_{sys_dir}\",\n",
    "\"{reg}_jet_nom_muon_correctedUp_pt_ele_pt_{sys_dir}\": \"roch_{era}_{sys_dir}\",\n",
    "\"{reg}_jet_jesHEMIssueUp_muon_corrected_pt_ele_pt_{sys_dir}\": \"HEM_{era}_{sys_dir}\",\n",
    "\"{reg}_Weight_BTagUp_{sys_dir}\": \"btag_{era}_{sys_dir}\",\n",
    "\"{reg}_Weight_ElectronSFUp_{sys_dir}\": \"elSF_{era}_{sys_dir}\",\n",
    "\"{reg}_Weight_ISRFSR_Up_{sys_dir}\": \"ISRFSR_{era}_{sys_dir}\",\n",
    "\"{reg}_Weight_L1Up_{sys_dir}\": \"L1_{era}_{sys_dir}\",\n",
    "\"{reg}_Weight_MuonSFUp_{sys_dir}\": \"Muon_{era}_{sys_dir}\",\n",
    "\"{reg}_Weight_MuonTriggerUp_{sys_dir}\": \"trigger_{era}_{sys_dir}\",\n",
    "\"{reg}_Weight_PDF_Up_{sys_dir}\": \"pdf_{era}_{sys_dir}\",\n",
    "\"{reg}_Weight_PUIDUp_{sys_dir}\": \"puid_{era}_{sys_dir}\",\n",
    "\"{reg}_Weight_PuUp_{sys_dir}\": \"pu_{sys_dir}\"}\n",
    "\n",
    "\n",
    "#no era in PU as correlated"
   ]
  },
  {
   "cell_type": "code",
   "execution_count": null,
   "id": "d1ea70fb",
   "metadata": {},
   "outputs": [],
   "source": [
    "import re\n",
    "def get_dbs(string):\n",
    "    dbs = re.findall('([0-9].[0-9]{2})', string)\n",
    "    if len(dbs)==1: return float(dbs[0])\n",
    "    return 0"
   ]
  },
  {
   "cell_type": "code",
   "execution_count": null,
   "id": "cd3eba63",
   "metadata": {
    "scrolled": true
   },
   "outputs": [],
   "source": [
    "dbses  = [0 , 0.04, 0.1, 0.2, 0.3, 0.4, 0.5, 0.6, 0.7, 0.8, 0.9, 1. ]\n",
    "masses = np.linspace(125,400,int((400-125)/7+1), dtype=int)\n",
    "#dbses = [0 , 0.04]\n",
    "#masses = masses[0:1]\n",
    "masses, dbses"
   ]
  },
  {
   "cell_type": "code",
   "execution_count": null,
   "id": "d09c7e60",
   "metadata": {},
   "outputs": [],
   "source": [
    "#hfile = r.TFile('./exo-datacards/EXO-22-006/{era}/{era}_background.root'.format(era=era), 'RECREATE')\n",
    "#c1 = r.TCanvas( 'c1', 'Dynamic Filling Example', 200, 10, 700, 500 )"
   ]
  },
  {
   "cell_type": "code",
   "execution_count": null,
   "id": "e692d754",
   "metadata": {},
   "outputs": [],
   "source": [
    "hfile = r.TFile('./combine_data/{era}/{era}_shapes_df_input.root'.format(era=era), 'RECREATE')\n",
    "c1 = r.TCanvas( 'c1', 'combine canvas', 200, 10, 700, 500 )"
   ]
  },
  {
   "cell_type": "code",
   "execution_count": null,
   "id": "463ce139",
   "metadata": {
    "scrolled": true
   },
   "outputs": [],
   "source": [
    "# abcd prediction\n",
    "#bin_list = []\n",
    "for reg in abcd:\n",
    "    print(reg)\n",
    "    noms = abcd[reg]['nom']\n",
    "    stds = abcd[reg]['std']\n",
    "    #for i, (nom, std) in enumerate(zip(noms, stds)):\n",
    "    #    bin_list.append({\"channel\": reg, \n",
    "    #                     \"systematic\": \"sys_0_nominal\",\n",
    "    #                     \"bin\": i, \"sum_w\": nom, \"sum_ww\": std**2,\n",
    "    #                    \"process\": 'background'\n",
    "    #                    })        \n",
    "    #    bin_list.append({\"channel\": reg, \n",
    "    #                     \"systematic\": \"sys_0_nominal\",\n",
    "    #                     \"bin\": i, \"sum_w\": nom, \"sum_ww\": std**2,\n",
    "    #                    \"process\": 'data_obs'\n",
    "    #                    })  \n",
    "    hist_name = '{}-{}-{}'.format(reg, \"sys_0_nominal\", 'data_obs')\n",
    "    hist = make_hist(noms, stds, hist_name, hist_name)\n",
    "    hist.Write()\n",
    "\n",
    "    print(hist_name)\n",
    "    hist_name = '{}-{}-{}'.format(reg, \"sys_0_nominal\", 'background')\n",
    "    hist =  make_hist(noms, stds, hist_name, hist_name)\n",
    "    hist.Write()\n",
    "\n",
    "#abcd_bin_list = bin_list\n",
    "#df = pd.DataFrame(bin_list)\n",
    "#df['channel'] = df.channel.astype('str')\n",
    "#df['systematic'] = df.systematic.astype('str')\n",
    "#df['process'] = df.process.astype('str')\n",
    "#exodc_path = './exo-datacards/EXO-22-006/2017/{}_abcd_df_input.csv'.format(era)\n",
    "#df[['channel', 'process', 'systematic', 'bin', 'sum_w','sum_ww']].to_csv(exodc_path, index=False)"
   ]
  },
  {
   "cell_type": "code",
   "execution_count": null,
   "id": "975560d0",
   "metadata": {},
   "outputs": [],
   "source": [
    "#hfile.Write()\n",
    "#hfile.Close()"
   ]
  },
  {
   "cell_type": "code",
   "execution_count": null,
   "id": "95cd0c9b",
   "metadata": {},
   "outputs": [],
   "source": [
    "#hfile = r.TFile('./exo-datacards/EXO-22-006/{era}/{era}_shapes_df_input.root'.format(era=era), 'RECREATE')\n",
    "#c1 = r.TCanvas( 'c1', 'Dynamic Filling Example', 200, 10, 700, 500 )"
   ]
  },
  {
   "cell_type": "code",
   "execution_count": null,
   "id": "638648e0",
   "metadata": {
    "scrolled": true
   },
   "outputs": [],
   "source": [
    "for mass in masses:\n",
    "    #bin_list = []\n",
    "    for reg in ['SR1', 'SR2']:\n",
    "        print(mass)\n",
    "        nom = rebin_np(data[mass]['bins'].bin_edges, bins.bin_edges,\n",
    "                    data[mass]['{}_nom_0.00'.format(reg)])\n",
    "        for key in data[mass]:\n",
    "            for dbs in dbses:\n",
    "                if key == 'bins': continue\n",
    "                if reg not in key: continue\n",
    "                sys_dir = 'down' if 'down' in key else 'up'\n",
    "                sys_dbs = get_dbs(key)\n",
    "                if get_dbs(key) != dbs: continue\n",
    "                if key == 'bins': continue\n",
    "                if reg not in key: continue\n",
    "                    \n",
    "                systematic = 'NA'\n",
    "                for sys in sys_map:\n",
    "                    if sys.format(reg=reg, era=era, sys_dir=sys_dir)+\"_{:.2f}\".format(dbs)==key:\n",
    "                        systematic = sys_map[sys].format(reg=reg, era=era, sys_dir=sys_dir.capitalize())\n",
    "                        break\n",
    "                if systematic=='NA': \n",
    "                    print(\"----\")\n",
    "                    print(key)\n",
    "                    for sys in sys_map:\n",
    "                        print(\"\\t\",sys.format(reg=reg, era=era, sys_dir=sys_dir)+\"_{:.2f}\".format(dbs))\n",
    "                values = rebin_np(data[mass]['bins'].bin_edges, bins.bin_edges, data[mass][key])\n",
    "                if 'Trigger' in key:\n",
    "                    if ('up' in key) and ('0.4' in key): \n",
    "                        print(key, values.sum())\n",
    "#                    if 'up' in key:\n",
    "#                        values = values + nom\n",
    "#                    else:\n",
    "#                        values = -values + nom\n",
    "#                #print(key, np.sum(values))\n",
    "#                #for i, value in enumerate(values):\n",
    "#                #    if 'Trigger' in key:\n",
    "#                #        value = value +1\n",
    "#                #    bin_list.append({\"channel\": reg, \n",
    "#                #                     \"systematic\": \"sys_{}_{}\".format(dbs, systematic),\n",
    "#                #                     \"bin\": i, \"sum_w\": value, \"sum_ww\": value,\n",
    "#                #                    \"process\": int(mass)\n",
    "#                #                    })\n",
    "#                if 'Trigger' in key:\n",
    "#                        values = values +1\n",
    "#                mass_proc = mass_hist_template.format(int(mass))\n",
    "#                hist_name = '{}-{}-{}'.format(reg, \"sys_{}_{}\".format(dbs, systematic),  mass_proc)\n",
    "#                hist = make_hist(values, values, hist_name, hist_name)\n",
    "#                hist.Write()\n",
    "#            \n",
    "#        #bin_list += abcd_bin_list\n",
    "#        #make df\n",
    "#        #df = pd.DataFrame(bin_list)\n",
    "#        #df['channel'] = df.channel.astype('str')\n",
    "#        #df['systematic'] = df.systematic.astype('str')\n",
    "#        #df['process'] = df.process.astype('str')        \n",
    "#        #exodc_path = '/afs/cern.ch/work/r/rymuelle/public/nanoAODzPrime/CMSSW_12_1_0/src/bff_plotting_code_v3/exo-datacards/EXO-22-006/2017/{}_{}_shapes_df_input.csv'.format(era, mass)\n",
    "#        #df[['channel', 'process', 'systematic', 'bin', 'sum_w','sum_ww']].to_csv(exodc_path, index=False)\n",
    "#            "
   ]
  },
  {
   "cell_type": "code",
   "execution_count": null,
   "id": "71383a97",
   "metadata": {},
   "outputs": [],
   "source": [
    "if era==\"2018\":\n",
    "    template = '''#higgs combine tool shape analysis card for z'to mumu 1 jet\n",
    "#https://github.com/cms-analysis/HiggsAnalysis-CombinedLimit/blob/102x/data/tutorials/shapes/simple-shapes-df.txt\n",
    "-------------------------\n",
    "\n",
    "imax 1  number of channels                                      #1 Jet\n",
    "jmax 1  number of backgrounds -1                                    #following AN2015_207_v5, not sure why the -1 is there?\n",
    "kmax *  number of nuisance parameters (sources of systematic uncertainties)\n",
    "\n",
    "-------------------------\n",
    "\n",
    "\n",
    "shapes * * {era}_shapes_df_input.root $CHANNEL-sys_0_nominal-$PROCESS $CHANNEL-$SYSTEMATIC-$PROCESS\n",
    "\n",
    "shapes background * {era}_shapes_df_input.root $CHANNEL-sys_0_nominal-background\n",
    "\n",
    "-------------------------\n",
    "\n",
    "bin       {reg}\n",
    "observation   -1\n",
    "\n",
    "-------------------------\n",
    "\n",
    "bin       {reg}       {reg}\n",
    "process     background    {mass_proc}\n",
    "process     1     -1\n",
    "rate      -1   -1\n",
    "\n",
    "-------------------------\n",
    "lumi lnN -      {lumi}\n",
    "sys_{dbs}_jer_{era}_   shapeN2 -      1\n",
    "sys_{dbs}_jes_{era}_   shapeN2 -      1\n",
    "sys_{dbs}_roch_{era}_   shapeN2 -      1\n",
    "sys_{dbs}_HEM_{era}_   shapeN2 -      1\n",
    "sys_{dbs}_btag_{era}_   shapeN2 -      1\n",
    "sys_{dbs}_elSF_{era}_   shapeN2 -      1\n",
    "sys_{dbs}_ISRFSR_{era}_   shapeN2 -      1\n",
    "sys_{dbs}_Muon_{era}_   shapeN2 -      1\n",
    "sys_{dbs}_trigger_{era}_   shapeN2 -      1\n",
    "sys_{dbs}_pdf_{era}_   shapeN2 -      1\n",
    "sys_{dbs}_puid_{era}_   shapeN2 -      1\n",
    "sys_{dbs}_pu_   shapeN2 -      1\n",
    "--------------------------------------------------------------------------------'''\n",
    "else:\n",
    "    template = '''#higgs combine tool shape analysis card for z'to mumu 1 jet\n",
    "#https://github.com/cms-analysis/HiggsAnalysis-CombinedLimit/blob/102x/data/tutorials/shapes/simple-shapes-df.txt\n",
    "-------------------------\n",
    "\n",
    "imax 1  number of channels                                      #1 Jet\n",
    "jmax 1  number of backgrounds -1                                    #following AN2015_207_v5, not sure why the -1 is there?\n",
    "kmax *  number of nuisance parameters (sources of systematic uncertainties)\n",
    "\n",
    "-------------------------\n",
    "\n",
    "\n",
    "shapes * * {era}_shapes_df_input.root $CHANNEL-sys_0_nominal-$PROCESS $CHANNEL-$SYSTEMATIC-$PROCESS\n",
    "\n",
    "shapes background * {era}_shapes_df_input.root $CHANNEL-sys_0_nominal-background\n",
    "\n",
    "-------------------------\n",
    "\n",
    "bin       {reg}\n",
    "observation   -1\n",
    "\n",
    "-------------------------\n",
    "\n",
    "bin       {reg}       {reg}\n",
    "process     background    {mass_proc}\n",
    "process     1     -1\n",
    "rate      -1   -1\n",
    "\n",
    "-------------------------\n",
    "lumi lnN -      {lumi}\n",
    "sys_{dbs}_jer_{era}_   shapeN2 -      1\n",
    "sys_{dbs}_jes_{era}_   shapeN2 -      1\n",
    "sys_{dbs}_roch_{era}_   shapeN2 -      1\n",
    "sys_{dbs}_btag_{era}_   shapeN2 -      1\n",
    "sys_{dbs}_elSF_{era}_   shapeN2 -      1\n",
    "sys_{dbs}_ISRFSR_{era}_   shapeN2 -      1\n",
    "sys_{dbs}_L1_{era}_   shapeN2 -      1\n",
    "sys_{dbs}_Muon_{era}_   shapeN2 -      1\n",
    "sys_{dbs}_trigger_{era}_   shapeN2 -      1\n",
    "sys_{dbs}_pdf_{era}_   shapeN2 -      1\n",
    "sys_{dbs}_puid_{era}_   shapeN2 -      1\n",
    "sys_{dbs}_pu_   shapeN2 -      1\n",
    "--------------------------------------------------------------------------------'''        "
   ]
  },
  {
   "cell_type": "code",
   "execution_count": null,
   "id": "7dd818e0",
   "metadata": {},
   "outputs": [],
   "source": [
    "if era=='2016':\n",
    "    lumi=1.025\n",
    "if era=='2017':\n",
    "    lumi=1.023\n",
    "if era=='2018':\n",
    "    lumi=1.025"
   ]
  },
  {
   "cell_type": "code",
   "execution_count": null,
   "id": "2bc70258",
   "metadata": {},
   "outputs": [],
   "source": [
    "for reg in ['SR1', 'SR2']:\n",
    "    for mass in masses:\n",
    "            for dbs in dbses:\n",
    "                mass_proc = mass_hist_template.format(int(mass))\n",
    "                tmp = template.format(era=era,dbs=dbs,mass_proc=mass_proc,lumi=lumi, reg=reg)\n",
    "                #with open('exo-datacards/EXO-22-006/comb_{}_{}_{}.txt'.format(reg, mass, dbs), 'w') as f:\n",
    "                with open('combine_data/{}/{}_{}_BFFZprimeToMuMu_fit_M_{}_dbs{}.txt'.format(era, era, reg, mass, \n",
    "                                                                                                    str(dbs).replace('.','p')), 'w') as f:\n",
    "                    f.write(tmp)\n",
    "                "
   ]
  },
  {
   "cell_type": "code",
   "execution_count": null,
   "id": "db1ebfad",
   "metadata": {
    "scrolled": true
   },
   "outputs": [],
   "source": [
    "hfile.Write()"
   ]
  },
  {
   "cell_type": "code",
   "execution_count": null,
   "id": "d40cc92f",
   "metadata": {},
   "outputs": [],
   "source": [
    "template_csv = '''#higgs combine tool shape analysis card for z'to mumu 1 jet\n",
    "#https://github.com/cms-analysis/HiggsAnalysis-CombinedLimit/blob/102x/data/tutorials/shapes/simple-shapes-df.txt\n",
    "-------------------------\n",
    "\n",
    "imax 1  number of channels                                      #1 Jet\n",
    "jmax 1  number of backgrounds -1                                    #following AN2015_207_v5, not sure why the -1 is there?\n",
    "kmax *  number of nuisance parameters (sources of systematic uncertainties)\n",
    "\n",
    "-------------------------\n",
    "\n",
    "\n",
    "shapes * * {era}_{mass}_shapes_df_input.csv $CHANNEL:$PROCESS:sys_0_nominal,sum_w:sum_ww $CHANNEL:$PROCESS:$SYSTEMATIC,sum_w:sum_ww\n",
    "\n",
    "-------------------------\n",
    "\n",
    "bin       SR1\n",
    "observation   -1\n",
    "\n",
    "-------------------------\n",
    "\n",
    "bin       SR1       SR1\n",
    "process     background    {mass}\n",
    "process     1     -1\n",
    "rate      -1   -1\n",
    "\n",
    "-------------------------\n",
    "lumi lnN -      {lumi}\n",
    "sys_{dbs}_jer_{era}_   shapeN2 -      1\n",
    "sys_{dbs}_jes_{era}_   shapeN2 -      1\n",
    "sys_{dbs}_roch_{era}_   shapeN2 -      1\n",
    "sys_{dbs}_btag_{era}_   shapeN2 -      1\n",
    "sys_{dbs}_elSF_{era}_   shapeN2 -      1\n",
    "sys_{dbs}_ISRFSR_{era}_   shapeN2 -      1\n",
    "sys_{dbs}_L1_{era}_   shapeN2 -      1\n",
    "sys_{dbs}_Muon_{era}_   shapeN2 -      1\n",
    "sys_{dbs}_trigger_{era}_   shapeN2 -      1\n",
    "sys_{dbs}_pdf_{era}_   shapeN2 -      1\n",
    "sys_{dbs}_puid_{era}_   shapeN2 -      1\n",
    "sys_{dbs}_pu_   shapeN2 -      1\n",
    "--------------------------------------------------------------------------------'''"
   ]
  },
  {
   "cell_type": "code",
   "execution_count": null,
   "id": "1965a46a",
   "metadata": {},
   "outputs": [],
   "source": []
  },
  {
   "cell_type": "code",
   "execution_count": null,
   "id": "7c2e76f4",
   "metadata": {},
   "outputs": [],
   "source": []
  }
 ],
 "metadata": {
  "kernelspec": {
   "display_name": "bff_12_1",
   "language": "python",
   "name": "bff_12_1"
  },
  "language_info": {
   "codemirror_mode": {
    "name": "ipython",
    "version": 3
   },
   "file_extension": ".py",
   "mimetype": "text/x-python",
   "name": "python",
   "nbconvert_exporter": "python",
   "pygments_lexer": "ipython3",
   "version": "3.9.6"
  }
 },
 "nbformat": 4,
 "nbformat_minor": 5
}
