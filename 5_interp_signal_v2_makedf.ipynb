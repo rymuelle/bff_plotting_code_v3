{
 "cells": [
  {
   "cell_type": "code",
   "execution_count": null,
   "id": "f6226420",
   "metadata": {
    "scrolled": true
   },
   "outputs": [],
   "source": [
    "\"hi\""
   ]
  },
  {
   "cell_type": "code",
   "execution_count": null,
   "id": "f09af5b2",
   "metadata": {},
   "outputs": [],
   "source": [
    "import pickle as pkl\n",
    "import pandas as pd\n",
    "import matplotlib.pyplot as plt\n",
    "import numpy as np\n",
    "from src.plotting_tools.Bins import bins\n",
    "import ROOT as r\n",
    "import array"
   ]
  },
  {
   "cell_type": "code",
   "execution_count": null,
   "id": "4f0eaa19",
   "metadata": {},
   "outputs": [],
   "source": [
    "from src.plotting_tools.utils import calc_bin_widths, calc_bin_centers\n",
    "from src.plotting_tools.SysHist import SysHist\n",
    "from src.data_tools.StackPlotter import get_stack_plotter"
   ]
  },
  {
   "cell_type": "code",
   "execution_count": null,
   "id": "1fb33c1e",
   "metadata": {},
   "outputs": [],
   "source": [
    "def make_hist(values, errors, bin_edges, *args):\n",
    "    hpx    = r.TH1F(*args, len(bin_edges)-1, array.array('d', bin_edges))\n",
    "    for i, (x,e) in enumerate(zip(values,errors)):\n",
    "        hpx.SetBinContent(i, x) \n",
    "        hpx.SetBinError(i, e) \n",
    "    return hpx\n"
   ]
  },
  {
   "cell_type": "code",
   "execution_count": null,
   "id": "862f5944",
   "metadata": {},
   "outputs": [],
   "source": [
    "# http://cms-analysis.github.io/HiggsAnalysis-CombinedLimit/part2/settinguptheanalysis/\n",
    "# https://github.com/cms-analysis/HiggsAnalysis-CombinedLimit/blob/102x/data/tutorials/shapes/simple-shapes-df_input.csv"
   ]
  },
  {
   "cell_type": "code",
   "execution_count": null,
   "id": "141fcdb1",
   "metadata": {},
   "outputs": [],
   "source": [
    "mass_hist_template = 'sig{}'"
   ]
  },
  {
   "cell_type": "code",
   "execution_count": null,
   "id": "0614e6b6",
   "metadata": {},
   "outputs": [],
   "source": [
    "outdir = 'assets_feb_23'\n",
    "era = '2016'\n",
    "rootfname = '{outdir}/combine_data/{era}/{era}_shapes_df_input.root'.format(outdir=outdir, era=era)"
   ]
  },
  {
   "cell_type": "code",
   "execution_count": null,
   "id": "e4bc68fb",
   "metadata": {},
   "outputs": [],
   "source": [
    "sp = get_stack_plotter(outdir, era, bins='none')"
   ]
  },
  {
   "cell_type": "code",
   "execution_count": null,
   "id": "c9684f76",
   "metadata": {},
   "outputs": [],
   "source": [
    "with open('{}/data/{}_bff_interp.pkl'.format(outdir, era), 'rb') as f:\n",
    "    data = pkl.load(f)"
   ]
  },
  {
   "cell_type": "code",
   "execution_count": null,
   "id": "aad57410",
   "metadata": {},
   "outputs": [],
   "source": [
    "outname=\"{}/abcd/abcd_dict_data_{}_ismc0.pkl\".format(outdir, era)\n",
    "with open(outname,'rb') as f:\n",
    "    abcd = pkl.load(f)\n",
    "    \n",
    "outname=\"{}/abcd/ABCD_closure_unc.pkl\".format(outdir, era)\n",
    "with open(outname, 'rb') as f:\n",
    "    uncertainty_dict= pkl.load(f)\n",
    "uncertainty_dict = uncertainty_dict[int(era)]"
   ]
  },
  {
   "cell_type": "code",
   "execution_count": null,
   "id": "a3df7c1e",
   "metadata": {},
   "outputs": [],
   "source": [
    "def rebin(oldbins, newbins, data, drawplot=False):\n",
    "    fig, ax = plt.subplots()\n",
    "    values = ax.hist(oldbins, newbins, weights = data)\n",
    "    if not drawplot: plt.close(fig)\n",
    "    return values[0]"
   ]
  },
  {
   "cell_type": "code",
   "execution_count": null,
   "id": "1ef02506",
   "metadata": {},
   "outputs": [],
   "source": [
    "def rebin_np(oldbins, newbins, data, drawplot=False):\n",
    "    values = np.histogram(oldbins, newbins, weights = data)\n",
    "    return values[0]"
   ]
  },
  {
   "cell_type": "code",
   "execution_count": null,
   "id": "e8933f6b",
   "metadata": {},
   "outputs": [],
   "source": [
    "from time import perf_counter"
   ]
  },
  {
   "cell_type": "code",
   "execution_count": null,
   "id": "d088f70c",
   "metadata": {},
   "outputs": [],
   "source": [
    "\n",
    "sys_map= {\n",
    "\"{reg}_nom\": \"nominal\", \n",
    "\"{reg}_jet_jerUp_muon_corrected_pt_ele_pt_{sys_dir}\": \"jer_{era}_{sys_dir}\",\n",
    "\"{reg}_jet_jesTotalUp_muon_corrected_pt_ele_pt_{sys_dir}\": \"jes_{era}_{sys_dir}\",\n",
    "\"{reg}_jet_nom_muon_correctedUp_pt_ele_pt_{sys_dir}\": \"roch_{era}_{sys_dir}\",\n",
    "\"{reg}_jet_jesHEMIssueUp_muon_corrected_pt_ele_pt_{sys_dir}\": \"HEM_{era}_{sys_dir}\",\n",
    "\"{reg}_Weight_BTagCorrUp_{sys_dir}\": \"btagCorr_{sys_dir}\",\n",
    "\"{reg}_Weight_BTagUncorrUp_{sys_dir}\": \"btagUncorr_{era}_{sys_dir}\",\n",
    "\"{reg}_Weight_ElectronSFUp_{sys_dir}\": \"elSF_{era}_{sys_dir}\",\n",
    "\"{reg}_Weight_ISRFSR_Up_{sys_dir}\": \"ISRFSR_{era}_{sys_dir}\",\n",
    "\"{reg}_Weight_L1Up_{sys_dir}\": \"L1_{era}_{sys_dir}\",\n",
    "\"{reg}_Weight_MuonSFUp_{sys_dir}\": \"Muon_{era}_{sys_dir}\",\n",
    "\"{reg}_Weight_MuonTriggerUp_{sys_dir}\": \"trigger_{era}_{sys_dir}\",\n",
    "\"{reg}_Weight_PDF_Up_{sys_dir}\": \"pdf_{era}_{sys_dir}\",\n",
    "\"{reg}_Weight_PUIDUp_{sys_dir}\": \"puid_{era}_{sys_dir}\",\n",
    "\"{reg}_Weight_PuUp_{sys_dir}\": \"pu_{sys_dir}\"}\n",
    "\n",
    "\n",
    "#no era in PU as correlated"
   ]
  },
  {
   "cell_type": "code",
   "execution_count": null,
   "id": "d1ea70fb",
   "metadata": {},
   "outputs": [],
   "source": [
    "import re\n",
    "def get_dbs(string):\n",
    "    dbs = re.findall('([0-9].[0-9]{2})', string)\n",
    "    if len(dbs)==1: return float(dbs[0])\n",
    "    return 0"
   ]
  },
  {
   "cell_type": "code",
   "execution_count": null,
   "id": "cd3eba63",
   "metadata": {
    "scrolled": true
   },
   "outputs": [],
   "source": [
    "dbses  = [0 , 0.04, 0.1, 0.2, 0.3, 0.4, 0.5, 0.6, 0.7, 0.8, 0.9, 1. ]\n",
    "masses = np.linspace(125,400,int((400-125)/7+1), dtype=int)\n",
    "#dbses = [0 , 0.04]\n",
    "#masses = masses[0:1]\n",
    "masses, dbses"
   ]
  },
  {
   "cell_type": "code",
   "execution_count": null,
   "id": "d09c7e60",
   "metadata": {},
   "outputs": [],
   "source": [
    "#hfile = r.TFile('./exo-datacards/EXO-22-006/{era}/{era}_background.root'.format(era=era), 'RECREATE')\n",
    "#c1 = r.TCanvas( 'c1', 'Dynamic Filling Example', 200, 10, 700, 500 )"
   ]
  },
  {
   "cell_type": "code",
   "execution_count": null,
   "id": "e692d754",
   "metadata": {},
   "outputs": [],
   "source": [
    "hfile = r.TFile(rootfname, 'RECREATE')\n",
    "c1 = r.TCanvas( 'c1', 'combine canvas', 200, 10, 700, 500 )"
   ]
  },
  {
   "cell_type": "code",
   "execution_count": null,
   "id": "463ce139",
   "metadata": {
    "scrolled": true
   },
   "outputs": [],
   "source": [
    "# abcd prediction\n",
    "#bin_list = []\n",
    "\n",
    "for reg in abcd:\n",
    "    print(reg)\n",
    "    bin_widths = calc_bin_widths(abcd[reg]['bins'])\n",
    "    bin_centers = calc_bin_centers(abcd[reg]['bins'])\n",
    "    noms = abcd[reg]['nom']\n",
    "    # not statistical error, so scale with width?\n",
    "    stds = abcd[reg]['std']\n",
    "    #for i, (nom, std) in enumerate(zip(noms, stds)):\n",
    "    #    bin_list.append({\"channel\": reg, \n",
    "    #                     \"systematic\": \"sys_0_nominal\",\n",
    "    #                     \"bin\": i, \"sum_w\": nom, \"sum_ww\": std**2,\n",
    "    #                    \"process\": 'background'\n",
    "    #                    })        \n",
    "    #    bin_list.append({\"channel\": reg, \n",
    "    #                     \"systematic\": \"sys_0_nominal\",\n",
    "    #                     \"bin\": i, \"sum_w\": nom, \"sum_ww\": std**2,\n",
    "    #                    \"process\": 'data_obs'\n",
    "    #                    })  \n",
    "    hist_name = '{}-{}-{}'.format(reg, \"sys_0_nominal\", 'data_obs')\n",
    "    hist = make_hist(noms, stds, abcd[reg]['bins'],  hist_name, hist_name)\n",
    "    hist.Write()\n",
    "\n",
    "    print(hist_name)\n",
    "    hist_name = '{}-{}-{}'.format(reg, \"sys_0_nominal\", 'background')\n",
    "    hist =  make_hist(noms, stds, abcd[reg]['bins'], hist_name, hist_name)\n",
    "\n",
    "\n",
    "#abcd_bin_list = bin_list\n",
    "#df = pd.DataFrame(bin_list)\n",
    "#df['channel'] = df.channel.astype('str')\n",
    "#df['systematic'] = df.systematic.astype('str')\n",
    "#df['process'] = df.process.astype('str')\n",
    "#exodc_path = './exo-datacards/EXO-22-006/2017/{}_abcd_df_input.csv'.format(era)\n",
    "#df[['channel', 'process', 'systematic', 'bin', 'sum_w','sum_ww']].to_csv(exodc_path, index=False)"
   ]
  },
  {
   "cell_type": "code",
   "execution_count": null,
   "id": "e666315b",
   "metadata": {
    "scrolled": true
   },
   "outputs": [],
   "source": [
    "plt.errorbar(bin_centers, noms, yerr=stds)"
   ]
  },
  {
   "cell_type": "code",
   "execution_count": null,
   "id": "3ad24c26",
   "metadata": {
    "scrolled": true
   },
   "outputs": [],
   "source": [
    "# why is this off by a factor of e???????\n",
    "plt.plot(calc_bin_centers(abcd['CR13']['bins']), abcd['CR13']['nom']*abcd['CR10']['nom']/abcd['CR14']['nom'])\n",
    "plt.plot(bin_centers, abcd['SR1']['nom'])"
   ]
  },
  {
   "cell_type": "code",
   "execution_count": null,
   "id": "e8b3e3d1",
   "metadata": {},
   "outputs": [],
   "source": [
    "def get_normalization(mass, reg, dbs):\n",
    "    return sp.plot_df[(sp.plot_df.mass==mass) & \n",
    "              (sp.plot_df.dbs==dbs) & \n",
    "              (sp.plot_df.reg==reg) & \n",
    "              (sp.plot_df.feature=='DiLepMass')].iloc[0].nom.sum()"
   ]
  },
  {
   "cell_type": "code",
   "execution_count": null,
   "id": "73f73118",
   "metadata": {},
   "outputs": [],
   "source": [
    "from scipy.interpolate import LinearNDInterpolator"
   ]
  },
  {
   "cell_type": "code",
   "execution_count": null,
   "id": "bc04352c",
   "metadata": {
    "scrolled": true
   },
   "outputs": [],
   "source": [
    "interpolators = {}\n",
    "for reg in ['SR1', 'SR2']:\n",
    "    mass_arr = []\n",
    "    dbs_arr = []\n",
    "    norm_arr = []\n",
    "    for mass in sp.plot_df.sort_values(['mass']).mass.unique():\n",
    "        if not mass > 0: continue\n",
    "        for dbs in sp.plot_df.sort_values(['dbs']).dbs.unique():\n",
    "            if not dbs > 0: continue\n",
    "            try:\n",
    "                norm = get_normalization(mass, reg, dbs)\n",
    "                print(mass,dbs, norm)\n",
    "                norm_arr.append(norm)\n",
    "                mass_arr.append(mass)\n",
    "                dbs_arr.append(dbs)\n",
    "            except:\n",
    "                continue\n",
    "    X, Y = np.meshgrid(mass_arr, dbs_arr)  # 2D grid for interpolation\n",
    "    interp = LinearNDInterpolator(list(zip(mass_arr, dbs_arr)), norm_arr)            \n",
    "    interpolators[reg] = interp"
   ]
  },
  {
   "cell_type": "code",
   "execution_count": null,
   "id": "58b71bf1",
   "metadata": {},
   "outputs": [],
   "source": [
    "interpolators['SR1']([202], [0.041])"
   ]
  },
  {
   "cell_type": "code",
   "execution_count": null,
   "id": "638648e0",
   "metadata": {
    "scrolled": true
   },
   "outputs": [],
   "source": [
    "bin_edges = abcd[reg]['bins']\n",
    "for mass in masses:\n",
    "    #bin_list = []\n",
    "    for reg in ['SR1', 'SR2']:\n",
    "        for key in data[mass]:\n",
    "            norm = interpolators[reg]([mass], [0.04])[0]\n",
    "            nom = rebin_np(data[mass]['bins'].bin_edges, bin_edges,\n",
    "                    data[mass]['{}_nom_0.00'.format(reg)])\n",
    "            for dbs in dbses:\n",
    "                if key == 'bins': continue\n",
    "                if reg not in key: continue\n",
    "                sys_dir = 'down' if 'down' in key else 'up'\n",
    "                sys_dbs = get_dbs(key)\n",
    "                if get_dbs(key) != dbs: continue\n",
    "                if key == 'bins': continue\n",
    "                if reg not in key: continue\n",
    "                    \n",
    "                systematic = 'NA'\n",
    "                for sys in sys_map:\n",
    "                    if sys.format(reg=reg, era=era, sys_dir=sys_dir)+\"_{:.2f}\".format(dbs)==key:\n",
    "                        systematic = sys_map[sys].format(reg=reg, era=era, sys_dir=sys_dir.capitalize())\n",
    "                        break\n",
    "                if systematic=='NA': \n",
    "                    print(\"----\")\n",
    "                    for sys in sys_map:\n",
    "                        print(\"\\t\",sys.format(reg=reg, era=era, sys_dir=sys_dir)+\"_{:.2f}\".format(dbs))\n",
    "                values = rebin_np(data[mass]['bins'].bin_edges, bin_edges, data[mass][key])\n",
    "\n",
    "                #print(key, np.sum(values))\n",
    "                #for i, value in enumerate(values):\n",
    "                #    if 'Trigger' in key:\n",
    "                #        value = value +1\n",
    "                #    bin_list.append({\"channel\": reg, \n",
    "                #                     \"systematic\": \"sys_{}_{}\".format(dbs, systematic),\n",
    "                #                     \"bin\": i, \"sum_w\": value, \"sum_ww\": value,\n",
    "                #                    \"process\": int(mass)\n",
    "                #                    })\n",
    "                mass_proc = mass_hist_template.format(int(mass))\n",
    "                hist_name = '{}-{}-{}'.format(reg, \"sys_{}_{}\".format(dbs, systematic),  mass_proc)\n",
    "                hist = make_hist(values*norm, values*.01*norm, bin_edges, hist_name, hist_name)\n",
    "                hist.Write()\n",
    "            \n",
    "        #bin_list += abcd_bin_list\n",
    "        #make df\n",
    "        #df = pd.DataFrame(bin_list)\n",
    "        #df['channel'] = df.channel.astype('str')\n",
    "        #df['systematic'] = df.systematic.astype('str')\n",
    "        #df['process'] = df.process.astype('str')        \n",
    "        #exodc_path = '/afs/cern.ch/work/r/rymuelle/public/nanoAODzPrime/CMSSW_12_1_0/src/bff_plotting_code_v3/exo-datacards/EXO-22-006/2017/{}_{}_shapes_df_input.csv'.format(era, mass)\n",
    "        #df[['channel', 'process', 'systematic', 'bin', 'sum_w','sum_ww']].to_csv(exodc_path, index=False)\n",
    "            "
   ]
  },
  {
   "cell_type": "code",
   "execution_count": null,
   "id": "f728d6a2",
   "metadata": {
    "scrolled": true
   },
   "outputs": [],
   "source": [
    "y3_masses = []\n",
    "for i, row in sp.plot_df.iterrows():\n",
    "    if 'Y3' != row.category: continue\n",
    "    if 'DiLepMass' != row.feature: continue\n",
    "    if not 'SR2' in row.reg: continue\n",
    "    print(i)\n",
    "    mass = re.findall('y3_([0-9]+)_', row.file)[0]\n",
    "    y3_masses.append(mass)\n",
    "    reg = row.reg\n",
    "    y3nom = rebin_np(calc_bin_centers(row.bins), bin_edges, row.nom)\n",
    "    y3std = rebin_np(calc_bin_centers(row.bins), bin_edges, row['std'])\n",
    "    y3nom_norm = y3nom/np.sum(y3nom)\n",
    "    systematic='nom'\n",
    "    hist_name = '{}-{}-{}'.format(reg, \"sys_{}_{}\".format('Y3', systematic),  'sig'+mass)\n",
    "    hist = make_hist(y3nom_norm, y3nom_norm*.01, bin_edges, hist_name, hist_name)\n",
    "    hist.Write()\n",
    "    print(hist_name)\n",
    "    print(\"-----\")\n",
    "    sys_row = row['sys']\n",
    "    sys_row.keys()\n",
    "    for sys in sys_row.keys():\n",
    "        print(\"name\", sys)\n",
    "        up, down = sys_row[sys]\n",
    "        sys = sys.replace('SR1','').replace('SR2','')\n",
    "        for values, sys_dir in zip([up,down], ['up', 'down']):\n",
    "            _values = values + row.nom\n",
    "            sign = abs(np.sum(values))/np.sum(values)\n",
    "            if sys == 'Weight_ISRFSR_Up': \n",
    "                _values = sign*.16*row.nom + row.nom\n",
    "            for _sys in sys_map:\n",
    "                if sys in _sys: break   \n",
    "            if not sys in _sys: \"\"\n",
    "            _values = _values/np.sum(y3nom)       \n",
    "            value_rebin = rebin_np(calc_bin_centers(row.bins), bin_edges, _values)\n",
    "            sys_name = sys_map[_sys].format(reg=reg, era=era, sys_dir=sys_dir.capitalize())\n",
    "            hist_name = '{}-{}-{}'.format(reg, \"sys_{}_{}\".format('Y3', sys_name),  'sig'+mass)\n",
    "            hist = make_hist(value_rebin, value_rebin*.01, bin_edges, hist_name, hist_name)\n",
    "            hist.Write()\n",
    "            #print(hist_name)"
   ]
  },
  {
   "cell_type": "code",
   "execution_count": null,
   "id": "3b846dbb",
   "metadata": {},
   "outputs": [],
   "source": [
    "# test alignment of abcd and stuff\n",
    "nom = rebin_np(data[202]['bins'].bin_edges, abcd[reg]['bins'],\n",
    "                    data[202]['{}_nom_0.00'.format(reg)])\n",
    "plt.plot(noms)\n",
    "plt.plot(nom*100)\n",
    "\n"
   ]
  },
  {
   "cell_type": "code",
   "execution_count": null,
   "id": "66b42fbc",
   "metadata": {},
   "outputs": [],
   "source": [
    "def draw_mass(ax, mass):\n",
    "    _bins = abcd[reg]['bins']\n",
    "    nom = rebin_np(data[mass]['bins'].bin_edges, _bins,\n",
    "                    data[mass]['{}_nom_0.00'.format(reg)])\n",
    "    ax.plot(calc_bin_centers(_bins), nom, label=mass)\n",
    "    "
   ]
  },
  {
   "cell_type": "code",
   "execution_count": null,
   "id": "90686ee4",
   "metadata": {},
   "outputs": [],
   "source": [
    "data.keys()"
   ]
  },
  {
   "cell_type": "code",
   "execution_count": null,
   "id": "20b04961",
   "metadata": {
    "scrolled": false
   },
   "outputs": [],
   "source": [
    "fig, ax = plt.subplots(1, figsize=(20,10))\n",
    "draw_mass(ax, 188)\n",
    "draw_mass(ax, 195)\n",
    "draw_mass(ax, 202)\n",
    "draw_mass(ax, 209)\n",
    "draw_mass(ax, 400)\n",
    "plt.plot(bin_centers, noms/1000)"
   ]
  },
  {
   "cell_type": "code",
   "execution_count": null,
   "id": "69736081",
   "metadata": {
    "scrolled": true
   },
   "outputs": [],
   "source": [
    "#test sys\n",
    "plt.plot(data[202]['SR1_Weight_PDF_Up_up_1.00']/data[202]['SR1_Weight_PDF_Up_up_0.00'])\n",
    "plt.plot(data[202]['SR1_Weight_PDF_Up_up_0.50']/data[202]['SR1_Weight_PDF_Up_up_0.00'])\n",
    "plt.plot(data[202]['SR1_Weight_PDF_Up_up_0.00']/data[202]['SR1_Weight_PDF_Up_up_0.00'])\n"
   ]
  },
  {
   "cell_type": "code",
   "execution_count": null,
   "id": "71383a97",
   "metadata": {},
   "outputs": [],
   "source": [
    "if era==\"2018\":\n",
    "    template = '''#higgs combine tool shape analysis card for z'to mumu 1 jet\n",
    "#https://github.com/cms-analysis/HiggsAnalysis-CombinedLimit/blob/102x/data/tutorials/shapes/simple-shapes-df.txt\n",
    "-------------------------\n",
    "\n",
    "imax 1  number of channels                                      #1 Jet\n",
    "jmax 1  number of backgrounds -1                                    #following AN2015_207_v5, not sure why the -1 is there?\n",
    "kmax *  number of nuisance parameters (sources of systematic uncertainties)\n",
    "\n",
    "-------------------------\n",
    "\n",
    "\n",
    "shapes * * {era}_shapes_df_input.root $CHANNEL-sys_0_nominal-$PROCESS $CHANNEL-$SYSTEMATIC-$PROCESS\n",
    "\n",
    "shapes data_obs * {era}_shapes_df_input.root $CHANNEL-sys_0_nominal-$PROCESS $CHANNEL-$SYSTEMATIC-$PROCESS\n",
    "\n",
    "shapes background * {era}_shapes_df_input.root $CHANNEL-sys_0_nominal-background\n",
    "\n",
    "-------------------------\n",
    "\n",
    "bin       {reg}\n",
    "observation   -1\n",
    "\n",
    "-------------------------\n",
    "\n",
    "bin       {reg}       {reg}\n",
    "process     background    {mass_proc}\n",
    "process     1     -1\n",
    "rate      -1   -1\n",
    "\n",
    "-------------------------\n",
    "lumi lnN -      {lumi}\n",
    "back_closure_{era} lnN {back_closure}    -    \n",
    "sys_{dbs}_jer_{era}_   shapeN2 -      1\n",
    "sys_{dbs}_jes_{era}_   shapeN2 -      1\n",
    "sys_{dbs}_roch_{era}_   shapeN2 -      1\n",
    "sys_{dbs}_HEM_{era}_   shapeN2 -      1\n",
    "sys_{dbs}_btagCorr_   shapeN2 -      1\n",
    "sys_{dbs}_btagUncorr_{era}_   shapeN2 -      1\n",
    "sys_{dbs}_elSF_{era}_   shapeN2 -      1\n",
    "sys_{dbs}_ISRFSR_{era}_   shapeN2 -      1\n",
    "sys_{dbs}_Muon_{era}_   shapeN2 -      1\n",
    "sys_{dbs}_trigger_{era}_   shapeN2 -      1\n",
    "sys_{dbs}_pdf_{era}_   shapeN2 -      1\n",
    "sys_{dbs}_puid_{era}_   shapeN2 -      1\n",
    "sys_{dbs}_pu_   shapeN2 -      1\n",
    "--------------------------------------------------------------------------------'''\n",
    "else:\n",
    "    template = '''#higgs combine tool shape analysis card for z'to mumu 1 jet\n",
    "#https://github.com/cms-analysis/HiggsAnalysis-CombinedLimit/blob/102x/data/tutorials/shapes/simple-shapes-df.txt\n",
    "-------------------------\n",
    "\n",
    "imax 1  number of channels                                      #1 Jet\n",
    "jmax 1  number of backgrounds -1                                    #following AN2015_207_v5, not sure why the -1 is there?\n",
    "kmax *  number of nuisance parameters (sources of systematic uncertainties)\n",
    "\n",
    "-------------------------\n",
    "\n",
    "\n",
    "shapes * * {era}_shapes_df_input.root $CHANNEL-sys_0_nominal-$PROCESS $CHANNEL-$SYSTEMATIC-$PROCESS\n",
    "\n",
    "shapes data_obs * {era}_shapes_df_input.root $CHANNEL-sys_0_nominal-$PROCESS $CHANNEL-$SYSTEMATIC-$PROCESS\n",
    "\n",
    "shapes background * {era}_shapes_df_input.root $CHANNEL-sys_0_nominal-background\n",
    "\n",
    "-------------------------\n",
    "\n",
    "bin       {reg}\n",
    "observation   -1\n",
    "\n",
    "-------------------------\n",
    "\n",
    "bin       {reg}       {reg}\n",
    "process     background    {mass_proc}\n",
    "process     1     -1\n",
    "rate      -1   -1\n",
    "\n",
    "-------------------------\n",
    "lumi lnN -      {lumi}\n",
    "back_closure_{era} lnN {back_closure}    -      \n",
    "sys_{dbs}_jer_{era}_   shapeN2 -      1\n",
    "sys_{dbs}_jes_{era}_   shapeN2 -      1\n",
    "sys_{dbs}_roch_{era}_   shapeN2 -      1\n",
    "sys_{dbs}_btagCorr_   shapeN2 -      1\n",
    "sys_{dbs}_btagUncorr_{era}_   shapeN2 -      1\n",
    "sys_{dbs}_elSF_{era}_   shapeN2 -      1\n",
    "sys_{dbs}_ISRFSR_{era}_   shapeN2 -      1\n",
    "sys_{dbs}_L1_{era}_   shapeN2 -      1\n",
    "sys_{dbs}_Muon_{era}_   shapeN2 -      1\n",
    "sys_{dbs}_trigger_{era}_   shapeN2 -      1\n",
    "sys_{dbs}_pdf_{era}_   shapeN2 -      1\n",
    "sys_{dbs}_puid_{era}_   shapeN2 -      1\n",
    "sys_{dbs}_pu_   shapeN2 -      1\n",
    "--------------------------------------------------------------------------------'''        "
   ]
  },
  {
   "cell_type": "code",
   "execution_count": null,
   "id": "7dd818e0",
   "metadata": {},
   "outputs": [],
   "source": [
    "if era=='2016':\n",
    "    lumi=1.025\n",
    "if era=='2017':\n",
    "    lumi=1.023\n",
    "if era=='2018':\n",
    "    lumi=1.025"
   ]
  },
  {
   "cell_type": "code",
   "execution_count": null,
   "id": "2bc70258",
   "metadata": {},
   "outputs": [],
   "source": [
    "for reg in ['SR1', 'SR2']:\n",
    "    for mass in masses:\n",
    "            for dbs in dbses:\n",
    "                mass_proc = mass_hist_template.format(int(mass))\n",
    "                tmp = template.format(era=era,dbs=dbs,mass_proc=mass_proc,lumi=lumi, reg=reg,\n",
    "                                     back_closure = uncertainty_dict[reg])\n",
    "                #with open('exo-datacards/EXO-22-006/comb_{}_{}_{}.txt'.format(reg, mass, dbs), 'w') as f:\n",
    "                with open('{}/combine_data/{}/{}_{}_BFFZprimeToMuMu_fit_M_{}_dbs{}.txt'.format(outdir, \n",
    "                                                                                               era, era, reg, mass, \n",
    "                                                                                                    str(dbs).replace('.','p')), 'w') as f:\n",
    "                    f.write(tmp)\n",
    "                "
   ]
  },
  {
   "cell_type": "code",
   "execution_count": null,
   "id": "0f55c05a",
   "metadata": {},
   "outputs": [],
   "source": [
    "if era==\"2018\":\n",
    "    template = '''#higgs combine tool shape analysis card for z'to mumu 1 jet\n",
    "#https://github.com/cms-analysis/HiggsAnalysis-CombinedLimit/blob/102x/data/tutorials/shapes/simple-shapes-df.txt\n",
    "-------------------------\n",
    "\n",
    "imax 1  number of channels                                      #1 Jet\n",
    "jmax 1  number of backgrounds -1                                    #following AN2015_207_v5, not sure why the -1 is there?\n",
    "kmax *  number of nuisance parameters (sources of systematic uncertainties)\n",
    "\n",
    "-------------------------\n",
    "\n",
    "\n",
    "shapes * * {era}_shapes_df_input.root $CHANNEL-sys_Y3_nom-$PROCESS $CHANNEL-$SYSTEMATIC-$PROCESS\n",
    "\n",
    "shapes data_obs * {era}_shapes_df_input.root $CHANNEL-sys_0_nominal-$PROCESS $CHANNEL-$SYSTEMATIC-$PROCESS\n",
    "\n",
    "shapes background * {era}_shapes_df_input.root $CHANNEL-sys_0_nominal-background\n",
    "\n",
    "-------------------------\n",
    "\n",
    "bin       {reg}\n",
    "observation   -1\n",
    "\n",
    "-------------------------\n",
    "\n",
    "bin       {reg}       {reg}\n",
    "process     background    {mass_proc}\n",
    "process     1     -1\n",
    "rate      -1   -1\n",
    "\n",
    "-------------------------\n",
    "lumi lnN -      {lumi}\n",
    "back_closure_{era} lnN {back_closure}    - \n",
    "sys_{dbs}_jer_{era}_   shapeN2 -      1\n",
    "sys_{dbs}_jes_{era}_   shapeN2 -      1\n",
    "sys_{dbs}_roch_{era}_   shapeN2 -      1\n",
    "sys_{dbs}_HEM_{era}_   shapeN2 -      1\n",
    "sys_{dbs}_btagCorr_   shapeN2 -      1\n",
    "sys_{dbs}_btagUncorr_{era}_   shapeN2 -      1\n",
    "sys_{dbs}_elSF_{era}_   shapeN2 -      1\n",
    "sys_{dbs}_ISRFSR_{era}_   shapeN2 -      1\n",
    "sys_{dbs}_Muon_{era}_   shapeN2 -      1\n",
    "sys_{dbs}_trigger_{era}_   shapeN2 -      1\n",
    "sys_{dbs}_pdf_{era}_   shapeN2 -      1\n",
    "sys_{dbs}_puid_{era}_   shapeN2 -      1\n",
    "sys_{dbs}_pu_   shapeN2 -      1\n",
    "--------------------------------------------------------------------------------'''\n",
    "else:\n",
    "    template = '''#higgs combine tool shape analysis card for z'to mumu 1 jet\n",
    "#https://github.com/cms-analysis/HiggsAnalysis-CombinedLimit/blob/102x/data/tutorials/shapes/simple-shapes-df.txt\n",
    "-------------------------\n",
    "\n",
    "imax 1  number of channels                                      #1 Jet\n",
    "jmax 1  number of backgrounds -1                                    #following AN2015_207_v5, not sure why the -1 is there?\n",
    "kmax *  number of nuisance parameters (sources of systematic uncertainties)\n",
    "\n",
    "-------------------------\n",
    "\n",
    "\n",
    "shapes * * {era}_shapes_df_input.root $CHANNEL-sys_Y3_nom-$PROCESS $CHANNEL-$SYSTEMATIC-$PROCESS\n",
    "\n",
    "shapes data_obs * {era}_shapes_df_input.root $CHANNEL-sys_0_nominal-$PROCESS $CHANNEL-$SYSTEMATIC-$PROCESS\n",
    "\n",
    "shapes background * {era}_shapes_df_input.root $CHANNEL-sys_0_nominal-background\n",
    "\n",
    "-------------------------\n",
    "\n",
    "bin       {reg}\n",
    "observation   -1\n",
    "\n",
    "-------------------------\n",
    "\n",
    "bin       {reg}       {reg}\n",
    "process     background    {mass_proc}\n",
    "process     1     -1\n",
    "rate      -1   -1\n",
    "\n",
    "-------------------------\n",
    "lumi lnN -      {lumi}\n",
    "back_closure_{era} lnN {back_closure}    - \n",
    "sys_{dbs}_jer_{era}_   shapeN2 -      1\n",
    "sys_{dbs}_jes_{era}_   shapeN2 -      1\n",
    "sys_{dbs}_roch_{era}_   shapeN2 -      1\n",
    "sys_{dbs}_btagCorr_   shapeN2 -      1\n",
    "sys_{dbs}_btagUncorr_{era}_   shapeN2 -      1\n",
    "sys_{dbs}_elSF_{era}_   shapeN2 -      1\n",
    "sys_{dbs}_ISRFSR_{era}_   shapeN2 -      1\n",
    "sys_{dbs}_L1_{era}_   shapeN2 -      1\n",
    "sys_{dbs}_Muon_{era}_   shapeN2 -      1\n",
    "sys_{dbs}_trigger_{era}_   shapeN2 -      1\n",
    "sys_{dbs}_pdf_{era}_   shapeN2 -      1\n",
    "sys_{dbs}_puid_{era}_   shapeN2 -      1\n",
    "sys_{dbs}_pu_   shapeN2 -      1\n",
    "--------------------------------------------------------------------------------'''        "
   ]
  },
  {
   "cell_type": "code",
   "execution_count": null,
   "id": "3a5cef33",
   "metadata": {},
   "outputs": [],
   "source": [
    "for reg in ['SR1', 'SR2']:\n",
    "    for mass in y3_masses:\n",
    "            for dbs in ['Y3']:\n",
    "                mass_proc = mass_hist_template.format(int(mass))\n",
    "                tmp = template.format(era=era,dbs=dbs,mass_proc=mass_proc,lumi=lumi, reg=reg,\n",
    "                                     back_closure = uncertainty_dict[reg])\n",
    "                #with open('exo-datacards/EXO-22-006/comb_{}_{}_{}.txt'.format(reg, mass, dbs), 'w') as f:\n",
    "                with open('{}/combine_data/{}/{}_{}_BFFZprimeToMuMu_fit_M_{}_dbs{}.txt'.format(outdir, \n",
    "                                                                                               era, era, reg, mass, \n",
    "                                                                                                    str(dbs).replace('.','p')), 'w') as f:\n",
    "                    f.write(tmp)\n",
    "                "
   ]
  },
  {
   "cell_type": "code",
   "execution_count": null,
   "id": "db1ebfad",
   "metadata": {
    "scrolled": true
   },
   "outputs": [],
   "source": [
    "hfile.Write()"
   ]
  },
  {
   "cell_type": "code",
   "execution_count": null,
   "id": "7dad5e33",
   "metadata": {},
   "outputs": [],
   "source": [
    "import uproot as upr\n",
    "import matplotlib.pyplot as plt\n",
    "upf = upr.open(rootfname)"
   ]
  },
  {
   "cell_type": "code",
   "execution_count": null,
   "id": "e16384f0",
   "metadata": {
    "scrolled": true
   },
   "outputs": [],
   "source": [
    "[x for x in upf.keys() if '202' in x]"
   ]
  },
  {
   "cell_type": "code",
   "execution_count": null,
   "id": "1a7774af",
   "metadata": {},
   "outputs": [],
   "source": [
    "[x for x in upf.keys() if 'ack' in x]"
   ]
  },
  {
   "cell_type": "code",
   "execution_count": null,
   "id": "083cb3fb",
   "metadata": {
    "scrolled": true
   },
   "outputs": [],
   "source": [
    "upf['SR1-sys_0_nominal-sig202'].values().sum(), upf['SR2-sys_0_nominal-sig202'].values().sum()"
   ]
  },
  {
   "cell_type": "code",
   "execution_count": null,
   "id": "77aed625",
   "metadata": {},
   "outputs": [],
   "source": [
    "upf['SR1-sys_1.0_jer_2016_Down-sig202'].values().sum(), upf['SR1-sys_1.0_jer_2016_Up-sig202'].values().sum()"
   ]
  },
  {
   "cell_type": "code",
   "execution_count": null,
   "id": "7d1e6d58",
   "metadata": {},
   "outputs": [],
   "source": [
    "bin_centers = np.array(bin_centers)"
   ]
  },
  {
   "cell_type": "code",
   "execution_count": null,
   "id": "ffeac8d6",
   "metadata": {},
   "outputs": [],
   "source": [
    "window = (bin_centers > 200-20) & (bin_centers < 200+20)\n",
    "window"
   ]
  },
  {
   "cell_type": "code",
   "execution_count": null,
   "id": "3f173584",
   "metadata": {},
   "outputs": [],
   "source": [
    "plt.plot(bin_centers[window], upf['SR1-sys_0_nominal-background'].values()[window])"
   ]
  },
  {
   "cell_type": "code",
   "execution_count": null,
   "id": "ffb891e5",
   "metadata": {},
   "outputs": [],
   "source": [
    "upf['SR1-sys_0_nominal-background'].values()[window].sum(), upf['SR1-sys_0_nominal-sig202'].values()[window].sum()"
   ]
  },
  {
   "cell_type": "code",
   "execution_count": null,
   "id": "2ea3d498",
   "metadata": {},
   "outputs": [],
   "source": [
    "from src.data_tools.StackPlotter import get_stack_plotter"
   ]
  },
  {
   "cell_type": "code",
   "execution_count": null,
   "id": "bfd69ae7",
   "metadata": {},
   "outputs": [],
   "source": [
    "sp16 = get_stack_plotter(outdir, '2016', bins='none')"
   ]
  },
  {
   "cell_type": "code",
   "execution_count": null,
   "id": "01df27e6",
   "metadata": {},
   "outputs": [],
   "source": [
    "from src.assets.lumi import lumi_dict"
   ]
  },
  {
   "cell_type": "code",
   "execution_count": null,
   "id": "34ee539f",
   "metadata": {},
   "outputs": [],
   "source": [
    "hist = sp16.combine_back('DiLepMass', 'SR1')\n",
    "hist.reduce_range(220, 180).calc_sum()*lumi_dict['201X']/lumi_dict['2016']"
   ]
  },
  {
   "cell_type": "code",
   "execution_count": null,
   "id": "a0e19a0a",
   "metadata": {},
   "outputs": [],
   "source": [
    "upf['SR1-sys_0_nominal-background'].values()[window].sum()*lumi_dict['201X']/lumi_dict['2016']"
   ]
  },
  {
   "cell_type": "code",
   "execution_count": null,
   "id": "465274bd",
   "metadata": {},
   "outputs": [],
   "source": [
    "# produce plots with these params\n",
    "mass = 251\n",
    "dbs = 0.4"
   ]
  },
  {
   "cell_type": "code",
   "execution_count": null,
   "id": "9bc7190d",
   "metadata": {},
   "outputs": [],
   "source": [
    "re_patern = 'SR1-sys_{}.+Up-sig{}'.format(dbs, mass)\n",
    "[x for x in upf.keys() \n",
    "           if len(re.findall(re_patern,x)) > 0]"
   ]
  },
  {
   "cell_type": "code",
   "execution_count": null,
   "id": "4009cab8",
   "metadata": {},
   "outputs": [],
   "source": [
    "# create lists of systematics\n",
    "re_patern = 'SR1-sys_{}.+Up-sig{}'.format(dbs, mass)\n",
    "syskeys = [x for x in upf.keys() \n",
    "           if len(re.findall(re_patern,x)) > 0]\n",
    "syskeys = [x.replace('Up', '{}')for x in syskeys]\n",
    "# also define nominal key\n",
    "nomkey = 'SR1-sys_0_nominal-sig{}'.format(mass)\n",
    "\n",
    "syskeys"
   ]
  },
  {
   "cell_type": "code",
   "execution_count": null,
   "id": "2476f806",
   "metadata": {},
   "outputs": [],
   "source": [
    "def calc_center(bins):\n",
    "    return np.array([(bins[i]+bins[i+1])/2 for i in range(len(bins)-1)])\n",
    "\n",
    "def plot_from_key(ax, key):\n",
    "    xbins = upf[key].tojson()['fXaxis']['fXbins']\n",
    "    xbin_center = calc_center(xbins)\n",
    "    var = upf[key].variances()\n",
    "    values = upf[key].values()\n",
    "    mean = sum(values*xbin_center)/values.sum()\n",
    "    std = sum((values*(xbin_center-mean)**2)/values.sum() )*.5\n",
    "    print(mean, np.sum(values))\n",
    "    return ax.step(xbin_center, values, where='mid'), mean, std"
   ]
  },
  {
   "cell_type": "code",
   "execution_count": null,
   "id": "1cb3fe5f",
   "metadata": {},
   "outputs": [],
   "source": [
    "fig, axs = plt.subplots(2,1)\n",
    "_, mean, std = plot_from_key(axs[0], nomkey)\n",
    "_, mean, std = plot_from_key(axs[0], nomkey.replace('SR1','SR2'))\n",
    "_, mean, std = plot_from_key(axs[0], 'SR1-sys_0_nominal-background')\n",
    "\n",
    "_, mean, std = plot_from_key(axs[0], 'SR2-sys_Y3_nom-sig250')\n",
    "_, mean, std = plot_from_key(axs[0], 'SR2-sys_Y3_jes_2016_Up-sig250')\n",
    "_, mean, std = plot_from_key(axs[0], 'SR2-sys_Y3_jes_2016_Down-sig250')\n",
    "\n",
    "axs[0].set_yscale('log')\n",
    "#axs[0].set_xlim(mean-std,mean+std)\n",
    "#axs[1].set_xlim(mean-std,mean+std)"
   ]
  },
  {
   "cell_type": "code",
   "execution_count": null,
   "id": "2f0be72b",
   "metadata": {},
   "outputs": [],
   "source": [
    "# test for density plot\n",
    "nomkey = 'SR1-sys_0_nominal-sig{}'.format(202)\n",
    "bff = upf[nomkey].values()\n",
    "print(\"bff\")\n",
    "abcd = upf['SR1-sys_0_nominal-background'].values()"
   ]
  },
  {
   "cell_type": "code",
   "execution_count": null,
   "id": "3e45ce6d",
   "metadata": {},
   "outputs": [],
   "source": [
    "bw = bin_widths.copy()"
   ]
  },
  {
   "cell_type": "code",
   "execution_count": null,
   "id": "45b7df08",
   "metadata": {},
   "outputs": [],
   "source": [
    "bw.append(5.0)"
   ]
  },
  {
   "cell_type": "code",
   "execution_count": null,
   "id": "8fd35939",
   "metadata": {},
   "outputs": [],
   "source": [
    "fig, ax = plt.subplots(figsize=(12,10))\n",
    "ax.set_xlim(190,210)\n",
    "plt.plot(bin_centers,bin_widths, marker='o')\n",
    "plt.plot(bin_centers,bw[1:], marker='o')"
   ]
  },
  {
   "cell_type": "code",
   "execution_count": null,
   "id": "1d5d6600",
   "metadata": {},
   "outputs": [],
   "source": [
    "plt.plot(bin_centers, abcd/bin_widths, marker='o')\n",
    "plt.plot(bin_centers, abcd/bw[1:], marker='o')\n",
    "\n"
   ]
  },
  {
   "cell_type": "code",
   "execution_count": null,
   "id": "f70f217b",
   "metadata": {},
   "outputs": [],
   "source": [
    "fig, ax = plt.subplots(figsize=(12,10))\n",
    "\n",
    "plt.plot(bin_centers, bff/bw[1:], marker='o', label='bff adj')\n",
    "plt.plot(bin_centers, bff/bin_widths, marker='o', label='bff adj')\n",
    "\n",
    "plt.plot(bin_centers, abcd/bw[1:]*1e-3, marker='o', label='abcd adj')\n",
    "plt.plot(bin_centers, abcd/bin_widths*1e-3, marker='o', label='abcd')\n",
    "ax.set_xlim(190,210)\n",
    "plt.legend()"
   ]
  },
  {
   "cell_type": "code",
   "execution_count": null,
   "id": "a539ccaf",
   "metadata": {},
   "outputs": [],
   "source": [
    "fig, ax = plt.subplots(figsize=(12,10))\n",
    "\n",
    "plt.plot(bin_centers, bff, marker='o')\n",
    "plt.plot(bin_centers, abcd*1e-3, marker='o')\n",
    "ax.set_xlim(190,210)"
   ]
  },
  {
   "cell_type": "code",
   "execution_count": null,
   "id": "cd8db2ab",
   "metadata": {},
   "outputs": [],
   "source": []
  },
  {
   "cell_type": "code",
   "execution_count": null,
   "id": "afe7d72f",
   "metadata": {},
   "outputs": [],
   "source": []
  },
  {
   "cell_type": "code",
   "execution_count": null,
   "id": "28f0be65",
   "metadata": {},
   "outputs": [],
   "source": []
  },
  {
   "cell_type": "code",
   "execution_count": null,
   "id": "1d002f0b",
   "metadata": {},
   "outputs": [],
   "source": []
  },
  {
   "cell_type": "code",
   "execution_count": null,
   "id": "462e508a",
   "metadata": {},
   "outputs": [],
   "source": []
  },
  {
   "cell_type": "code",
   "execution_count": null,
   "id": "79be22f7",
   "metadata": {},
   "outputs": [],
   "source": []
  }
 ],
 "metadata": {
  "kernelspec": {
   "display_name": "bff_12_1",
   "language": "python",
   "name": "bff_12_1"
  },
  "language_info": {
   "codemirror_mode": {
    "name": "ipython",
    "version": 3
   },
   "file_extension": ".py",
   "mimetype": "text/x-python",
   "name": "python",
   "nbconvert_exporter": "python",
   "pygments_lexer": "ipython3",
   "version": "3.9.6"
  }
 },
 "nbformat": 4,
 "nbformat_minor": 5
}
