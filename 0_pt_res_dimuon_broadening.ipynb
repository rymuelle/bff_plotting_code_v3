{
 "cells": [
  {
   "cell_type": "code",
   "execution_count": null,
   "id": "4105882f",
   "metadata": {},
   "outputs": [],
   "source": [
    "import uproot as upr\n",
    "import numpy as np\n",
    "import pandas as pd\n",
    "import matplotlib.pyplot as plt\n",
    "import glob"
   ]
  },
  {
   "cell_type": "code",
   "execution_count": null,
   "id": "a6c8c886",
   "metadata": {},
   "outputs": [],
   "source": [
    "from ROOT import TLorentzVector "
   ]
  },
  {
   "cell_type": "code",
   "execution_count": null,
   "id": "f29156bd",
   "metadata": {},
   "outputs": [],
   "source": [
    "from src.plotting_tools.cms_format import cms_style, cms_format_fig\n",
    "from src.plotting_tools.Bins import Bins, bins\n",
    "from src.plotting_tools.SysHist import SysHist"
   ]
  },
  {
   "cell_type": "code",
   "execution_count": null,
   "id": "6905c30c",
   "metadata": {},
   "outputs": [],
   "source": [
    "cms_style()"
   ]
  },
  {
   "cell_type": "code",
   "execution_count": null,
   "id": "86641b6a",
   "metadata": {},
   "outputs": [],
   "source": [
    "from IPython.display import display, HTML\n",
    "display(HTML(\"<style>.container { width:100% !important; }</style>\"))\n"
   ]
  },
  {
   "cell_type": "code",
   "execution_count": null,
   "id": "902d8ab3",
   "metadata": {},
   "outputs": [],
   "source": [
    "outdir = 'assets_nov_2022'"
   ]
  },
  {
   "cell_type": "code",
   "execution_count": null,
   "id": "6f15be13",
   "metadata": {},
   "outputs": [],
   "source": [
    "#file_2016 = '/eos/cms/store/group/phys_exotica/bffZprime/private_samples/signal/2016_NanoAODv6/BFFZprimeToMuMu_M125p0_dbs_0p04_2016/BFFZprimeToMuMu_M125p0_dbs_0p04_2016.root'\n",
    "#file_2017 ='/eos/cms/store/group/phys_exotica/bffZprime/private_samples/signal/2017_NanoAODv6/BFFZprimeToMuMu_M175p0_dbs_0p04_2017/BFFZprimeToMuMu_M175p0_dbs_0p04_2017.root'\n",
    "#file_2018 = '/eos/cms/store/group/phys_exotica/bffZprime/private_samples/signal/2018_NanoAODv6/ZprimeToMuMu175_2018/ZprimeToMuMu175_2018.root'"
   ]
  },
  {
   "cell_type": "code",
   "execution_count": null,
   "id": "ecd6b40c",
   "metadata": {},
   "outputs": [],
   "source": [
    "#file_2016 = '/eos/cms/store/group/phys_exotica/bffZprime/sample_files/signal/BFF_200_0p04_2016.root'\n",
    "#file_2016 = '/eos/cms/store/group/phys_exotica/bffZprime/sample_files/signal/BFF_350_0p04_2016.root'\n"
   ]
  },
  {
   "cell_type": "code",
   "execution_count": null,
   "id": "d241dbd2",
   "metadata": {},
   "outputs": [],
   "source": [
    "mass_ranges = {}\n",
    "mass_ranges[125] = [110,150]\n",
    "mass_ranges[200] = [150,250]\n",
    "mass_ranges[350] = [300,400]\n",
    "mass = 125\n",
    "mass_range = mass_ranges[mass]"
   ]
  },
  {
   "cell_type": "code",
   "execution_count": null,
   "id": "0c9df1e2",
   "metadata": {},
   "outputs": [],
   "source": [
    "def get_skimmed_file(era):\n",
    "    path = '/eos/cms/store/group/phys_exotica/bffZprime/nanoAODskimmed/crab_bffv2/{}/BFF*{}*/**/*.root'.format(era, mass)\n",
    "    return glob.glob(path, recursive=True)[0]"
   ]
  },
  {
   "cell_type": "code",
   "execution_count": null,
   "id": "7485d1eb",
   "metadata": {},
   "outputs": [],
   "source": [
    "skimmed_file = get_skimmed_file(2016)\n",
    "skimmed_file_2017 = get_skimmed_file(2017)\n",
    "skimmed_file_2018 = get_skimmed_file(2018)"
   ]
  },
  {
   "cell_type": "code",
   "execution_count": null,
   "id": "a4b31c40",
   "metadata": {},
   "outputs": [],
   "source": [
    "upf = upr.open(skimmed_file)['Events']\n",
    "upf17 = upr.open(skimmed_file_2017)['Events']\n",
    "upf18 = upr.open(skimmed_file_2018)['Events']"
   ]
  },
  {
   "cell_type": "code",
   "execution_count": null,
   "id": "fdda1800",
   "metadata": {
    "scrolled": true
   },
   "outputs": [],
   "source": [
    "#upf = (upr.open(skimmed_file)['Events'].keys())\n",
    "#upf17 = (upr.open(skimmed_file_2017)['Events'].keys())\n",
    "#upf18 = (upr.open(skimmed_file_2018)['Events'].keys())\n",
    "#in_file = np.unique(np.array([*upf,*upf17, *upf18]).flatten())\n",
    "#len(in_file)"
   ]
  },
  {
   "cell_type": "code",
   "execution_count": null,
   "id": "5f59fbbf",
   "metadata": {},
   "outputs": [],
   "source": [
    "#from src.assets.bff_skimmer import columns, make_columns\n",
    "#columns2 = [make_columns(era, columns) for era in [\"2016\", \"2017\", \"2018\"]]\n",
    "#print([len(c) for c in columns2])\n",
    "#columns2flat = np.unique(np.array(columns2).flatten())\n",
    "#columns2flat.shape"
   ]
  },
  {
   "cell_type": "code",
   "execution_count": null,
   "id": "a3728f00",
   "metadata": {},
   "outputs": [],
   "source": [
    "#import collections\n",
    "#print([item for item, count in collections.Counter(columns2).items() if count > 1])"
   ]
  },
  {
   "cell_type": "code",
   "execution_count": null,
   "id": "5ffafbba",
   "metadata": {},
   "outputs": [],
   "source": [
    "#intersection = np.intersect1d(columns2flat, in_file)"
   ]
  },
  {
   "cell_type": "code",
   "execution_count": null,
   "id": "b8b527ff",
   "metadata": {},
   "outputs": [],
   "source": [
    "#intersection"
   ]
  },
  {
   "cell_type": "code",
   "execution_count": null,
   "id": "80fd1f9d",
   "metadata": {},
   "outputs": [],
   "source": [
    "#set_diff = np.setdiff1d(columns2flat, intersection)"
   ]
  },
  {
   "cell_type": "code",
   "execution_count": null,
   "id": "40246523",
   "metadata": {},
   "outputs": [],
   "source": [
    "#set_diff#"
   ]
  },
  {
   "cell_type": "code",
   "execution_count": null,
   "id": "6f372126",
   "metadata": {},
   "outputs": [],
   "source": [
    "#set_diff.shape[0] + intersection.shape[0]"
   ]
  },
  {
   "cell_type": "code",
   "execution_count": null,
   "id": "a9582acf",
   "metadata": {},
   "outputs": [],
   "source": [
    "#set_diff"
   ]
  },
  {
   "cell_type": "code",
   "execution_count": null,
   "id": "27486ca8",
   "metadata": {},
   "outputs": [],
   "source": [
    "mcTruth_df = upf.arrays(['GenPart_phi', 'GenPart_pt', 'GenPart_eta', 'GenPart_mass', 'GenPart_pdgId', 'GenPart_status'], library='pd')"
   ]
  },
  {
   "cell_type": "code",
   "execution_count": null,
   "id": "9a1ef33b",
   "metadata": {},
   "outputs": [],
   "source": [
    "mc_muons = mcTruth_df[(mcTruth_df.GenPart_status==1) & (abs(mcTruth_df.GenPart_pdgId)==13)]"
   ]
  },
  {
   "cell_type": "code",
   "execution_count": null,
   "id": "ab6c1306",
   "metadata": {},
   "outputs": [],
   "source": [
    "mcreco_df = upf.arrays(['Muon_pt', 'Muon_phi', 'Muon_eta', 'Muon_mass'], library='pd')"
   ]
  },
  {
   "cell_type": "code",
   "execution_count": null,
   "id": "e63a2a85",
   "metadata": {
    "scrolled": true
   },
   "outputs": [],
   "source": [
    "muon_list = []\n",
    "for i, row in mc_muons.groupby(level=0):\n",
    "    mctr_tl1 = TLorentzVector()\n",
    "    mctr_tl2 = TLorentzVector()\n",
    "    mcre_tl1 = TLorentzVector()\n",
    "    mcre_tl2 = TLorentzVector()\n",
    "    muonTr1 = row.iloc[0]\n",
    "    muonTr2 = row.iloc[1]\n",
    "    try:\n",
    "        if len( mcreco_df.loc[i]) < 2: continue\n",
    "    except:\n",
    "        continue\n",
    "    mctr_tl1.SetPtEtaPhiM(muonTr1.GenPart_pt, muonTr1.GenPart_eta, muonTr1.GenPart_phi, \n",
    "                         muonTr1.GenPart_mass)\n",
    "    mctr_tl2.SetPtEtaPhiM(muonTr2.GenPart_pt, muonTr2.GenPart_eta, muonTr2.GenPart_phi, \n",
    "                         muonTr2.GenPart_mass)\n",
    "    \n",
    "    onematch = 0\n",
    "    for j, row in mcreco_df.loc[i].iterrows():\n",
    "        mcre_tl1.SetPtEtaPhiM(row.Muon_pt, row.Muon_eta, row.Muon_phi, \n",
    "                         row.Muon_mass)\n",
    "        reco_kin1 = [row.Muon_pt, row.Muon_eta, row.Muon_phi, row.Muon_mass]\n",
    "        if mcre_tl1.DeltaR(mctr_tl1) < .01: \n",
    "            onematch = 1\n",
    "            break\n",
    "    for k, row in mcreco_df.loc[i].iterrows():\n",
    "        #no duplicate matches\n",
    "        if j==k: continue\n",
    "        mcre_tl2.SetPtEtaPhiM(row.Muon_pt, row.Muon_eta, row.Muon_phi, \n",
    "                         row.Muon_mass)\n",
    "        reco_kin2 = [row.Muon_pt, row.Muon_eta, row.Muon_phi, row.Muon_mass]\n",
    "        if mcre_tl2.DeltaR(mctr_tl2) < .01: \n",
    "            twomatch = 1\n",
    "            break  \n",
    "            \n",
    "    if onematch*twomatch==0: continue\n",
    "    #calculate pt_res\n",
    "            \n",
    "    pt_res1 = 1-mcre_tl1.Pt()/mctr_tl1.Pt()\n",
    "    pt_res2 = 1-mcre_tl2.Pt()/mctr_tl2.Pt()\n",
    "    if abs(pt_res1)> .4: continue\n",
    "    if abs(pt_res2)> .4: continue\n",
    "        \n",
    "    muon_list.append({\"pt_res1\": pt_res1,\n",
    "                    \"pt_res2\": pt_res2,\n",
    "                    \"gen_pt1\": muonTr1.GenPart_pt,\n",
    "                    \"gen_pt2\": muonTr2.GenPart_pt,\n",
    "                    \"reco_kin1\":reco_kin1,\n",
    "                    \"reco_kin2\":reco_kin2})\n",
    "    if i%100==0: print(i)\n",
    "    if i>1e4: break"
   ]
  },
  {
   "cell_type": "code",
   "execution_count": null,
   "id": "595702fd",
   "metadata": {},
   "outputs": [],
   "source": [
    "df = pd.DataFrame(muon_list)"
   ]
  },
  {
   "cell_type": "code",
   "execution_count": null,
   "id": "4f4ca381",
   "metadata": {},
   "outputs": [],
   "source": [
    "def smear_func(pt_res, kin, gen_pt, smear):\n",
    "    pt, eta, phi, m = kin\n",
    "    pt_smear = (1-(pt_res*(1+smear)))*gen_pt\n",
    "    tl = TLorentzVector()\n",
    "    tl.SetPtEtaPhiM(pt_smear, eta, phi, m)\n",
    "    return tl\n"
   ]
  },
  {
   "cell_type": "code",
   "execution_count": null,
   "id": "9807b183",
   "metadata": {},
   "outputs": [],
   "source": [
    "row = df.loc[0]"
   ]
  },
  {
   "cell_type": "code",
   "execution_count": null,
   "id": "dae1312a",
   "metadata": {},
   "outputs": [],
   "source": [
    "def make_dilep(smear):\n",
    "    masses = []\n",
    "    for i, row in df.iterrows():\n",
    "        tl1 = smear_func(row.pt_res1, row.reco_kin1, row.gen_pt1, smear)\n",
    "        tl2 = smear_func(row.pt_res2, row.reco_kin2, row.gen_pt2, smear)\n",
    "        dilep = (tl1+tl2).M()\n",
    "        masses.append(dilep)\n",
    "    return masses"
   ]
  },
  {
   "cell_type": "code",
   "execution_count": null,
   "id": "703f9508",
   "metadata": {},
   "outputs": [],
   "source": [
    "def make_hist(smear):\n",
    "    masses = make_dilep(smear)\n",
    "    return np.histogram(masses, bins = bins.bin_edges)[0]"
   ]
  },
  {
   "cell_type": "code",
   "execution_count": null,
   "id": "80c88938",
   "metadata": {},
   "outputs": [],
   "source": [
    "def chi2_func(count1, count2):\n",
    "    selection =  count2>0\n",
    "    return np.average(((count1-count2)**2/count2)[selection])"
   ]
  },
  {
   "cell_type": "code",
   "execution_count": null,
   "id": "f1f5b97e",
   "metadata": {},
   "outputs": [],
   "source": [
    "smear_dict = {}\n",
    "smear0 =  make_hist(0)\n",
    "chi2=0\n",
    "smear = 0\n",
    "while chi2 < 1:\n",
    "    smear+=1e-2\n",
    "    smearn =  make_hist(smear)\n",
    "    chi2 = chi2_func(smear0,smearn)\n",
    "    \n",
    "print(smear, chi2)"
   ]
  },
  {
   "cell_type": "code",
   "execution_count": null,
   "id": "1cf8ffdd",
   "metadata": {},
   "outputs": [],
   "source": [
    "smearn =  make_hist(smear)"
   ]
  },
  {
   "cell_type": "code",
   "execution_count": null,
   "id": "348cc29d",
   "metadata": {},
   "outputs": [],
   "source": [
    "mass_range[0]"
   ]
  },
  {
   "cell_type": "code",
   "execution_count": null,
   "id": "6ae685e0",
   "metadata": {},
   "outputs": [],
   "source": [
    "fig, ax = plt.subplots(1, figsize=(10,12))\n",
    "\n",
    "smear0_hist = SysHist(smear0, smear0*0, smear0*0, smear0**.5, bins.bin_edges )\n",
    "smear0_hist.reduce_range(bottom=mass_range[0], top=mass_range[1]).make_density_hist().normalize().draw(ax, label='no additional smearing')\n",
    "\n",
    "smearn_hist = SysHist(smearn, smearn*0, smearn*0, smearn**.5, bins.bin_edges )\n",
    "smearn_hist.reduce_range(bottom=mass_range[0], top=mass_range[1]).make_density_hist().normalize().draw(ax, label='additional smearing: {:.0f} \\%'.format(smear*100), color='red')\n",
    "\n",
    "\n",
    "ax.set_yscale('log')\n",
    "cms_format_fig('2016', ax)\n",
    "ax.legend()\n",
    "fig.savefig('{}/pt_smearing_width_study/{}_gev_2016.pdf'.format(outdir, mass))"
   ]
  },
  {
   "cell_type": "code",
   "execution_count": null,
   "id": "a2b97f14",
   "metadata": {},
   "outputs": [],
   "source": [
    "mass0 = make_dilep(0)\n",
    "massn = make_dilep(smear)\n",
    "sigma0 = np.std(mass0)\n",
    "sigman = np.std(massn)"
   ]
  },
  {
   "cell_type": "code",
   "execution_count": null,
   "id": "65c45da1",
   "metadata": {},
   "outputs": [],
   "source": [
    "sigma0, sigman"
   ]
  },
  {
   "cell_type": "code",
   "execution_count": null,
   "id": "c843c9eb",
   "metadata": {},
   "outputs": [],
   "source": [
    "(sigman**2-sigma0**2)**.5,  (sigman**2-sigma0**2)**.5/sigma0"
   ]
  },
  {
   "cell_type": "code",
   "execution_count": null,
   "id": "e6b56b4c",
   "metadata": {},
   "outputs": [],
   "source": []
  },
  {
   "cell_type": "code",
   "execution_count": null,
   "id": "be728d6b",
   "metadata": {},
   "outputs": [],
   "source": []
  },
  {
   "cell_type": "code",
   "execution_count": null,
   "id": "57090477",
   "metadata": {},
   "outputs": [],
   "source": []
  }
 ],
 "metadata": {
  "kernelspec": {
   "display_name": "bff_12_1",
   "language": "python",
   "name": "bff_12_1"
  },
  "language_info": {
   "codemirror_mode": {
    "name": "ipython",
    "version": 3
   },
   "file_extension": ".py",
   "mimetype": "text/x-python",
   "name": "python",
   "nbconvert_exporter": "python",
   "pygments_lexer": "ipython3",
   "version": "3.9.6"
  }
 },
 "nbformat": 4,
 "nbformat_minor": 5
}
