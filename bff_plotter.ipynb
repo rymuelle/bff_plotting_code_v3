{
 "cells": [
  {
   "cell_type": "code",
   "execution_count": null,
   "id": "opposed-rental",
   "metadata": {},
   "outputs": [],
   "source": [
    "from __future__ import print_function\n",
    "from glob import glob\n",
    "from ROOT import vector, RDataFrame, RDF, TFile, TH1F, TH2F, gInterpreter, TMath\n",
    "import ROOT\n",
    "import sys\n",
    "import yaml\n",
    "from bff_processor.cpp_function import def_cpp\n",
    "from bff_processor.utils import toVector, get_nEvents\n",
    "from bff_processor.df_definitions import *\n",
    "import pandas as pd\n",
    "from time import perf_counter\n",
    "import uproot"
   ]
  },
  {
   "cell_type": "code",
   "execution_count": null,
   "id": "built-audio",
   "metadata": {},
   "outputs": [],
   "source": [
    "columns = ['Weight_PuUp','Weight_PuDown','Weight_BTagUp','Weight_BTagDown','Weight_PUIDUp','Weight_PUIDDown','Weight_PDF_ISRFSR_Up','Weight_PDF_ISRFSR_Down','Weight_MuonSFUp','Weight_MuonSFDown','Weight_ElectronSFUp','Weight_ElectronSFDown','Weight','sample_weight','DiLepMass','TriggerWeight','Flag_goodVertices','Flag_globalSuperTightHalo2016Filter','Flag_HBHENoiseFilter','Flag_HBHENoiseIsoFilter','Flag_EcalDeadCellTriggerPrimitiveFilter','Flag_BadPFMuonFilter','Flag_eeBadScFilter','Flag_METFilters','HTLT_nom','RelMET_nom','TMB_nom','SR2_nom','SR1_nom','CR10_nom','CR11_nom','CR12_nom','CR13_nom','CR14_nom','SR2_nom','CR20_nom','CR21_nom','CR22_nom','CR23_nom','CR24_nom','HTLT_jerDown','RelMET_jerDown','TMB_jerDown','SR2_jerDown','SR1_jerDown','CR10_jerDown','CR11_jerDown','CR12_jerDown','CR13_jerDown','CR14_jerDown','SR2_jerDown','CR20_jerDown','CR21_jerDown','CR22_jerDown','CR23_jerDown','CR24_jerDown','HTLT_jerUp','RelMET_jerUp','TMB_jerUp','SR2_jerUp','SR1_jerUp','CR10_jerUp','CR11_jerUp','CR12_jerUp','CR13_jerUp','CR14_jerUp','SR2_jerUp','CR20_jerUp','CR21_jerUp','CR22_jerUp','CR23_jerUp','CR24_jerUp','HTLT_jesTotalDown','RelMET_jesTotalDown','TMB_jesTotalDown','SR2_jesTotalDown','SR1_jesTotalDown','CR10_jesTotalDown','CR11_jesTotalDown','CR12_jesTotalDown','CR13_jesTotalDown','CR14_jesTotalDown','SR2_jesTotalDown','CR20_jesTotalDown','CR21_jesTotalDown','CR22_jesTotalDown','CR23_jesTotalDown','CR24_jesTotalDown','HTLT_jesTotalUp','RelMET_jesTotalUp','TMB_jesTotalUp','SR2_jesTotalUp','SR1_jesTotalUp','CR10_jesTotalUp','CR11_jesTotalUp','CR12_jesTotalUp','CR13_jesTotalUp','CR14_jesTotalUp','SR2_jesTotalUp','CR20_jesTotalUp','CR21_jesTotalUp','CR22_jesTotalUp','CR23_jesTotalUp','CR24_jesTotalUp']\n",
    "\n",
    "columns_data = ['Weight','sample_weight','DiLepMass','TriggerWeight','Flag_goodVertices','Flag_globalSuperTightHalo2016Filter','Flag_HBHENoiseFilter','Flag_HBHENoiseIsoFilter','Flag_EcalDeadCellTriggerPrimitiveFilter','Flag_BadPFMuonFilter','Flag_eeBadScFilter','Flag_METFilters','HTLT_nom','RelMET_nom','TMB_nom','SR2_nom','SR1_nom','CR10_nom','CR11_nom','CR12_nom','CR13_nom','CR14_nom','SR2_nom','CR20_nom','CR21_nom','CR22_nom','CR23_nom','CR24_nom',]"
   ]
  },
  {
   "cell_type": "code",
   "execution_count": null,
   "id": "separate-control",
   "metadata": {
    "scrolled": true
   },
   "outputs": [],
   "source": [
    "def_cpp()"
   ]
  },
  {
   "cell_type": "code",
   "execution_count": null,
   "id": "offshore-passion",
   "metadata": {},
   "outputs": [],
   "source": [
    "#ROOT.ROOT.EnableImplicitMT()\n",
    "RDFrame = RDataFrame"
   ]
  },
  {
   "cell_type": "code",
   "execution_count": null,
   "id": "neural-banks",
   "metadata": {},
   "outputs": [],
   "source": [
    "era = '2018'\n",
    "if era == \"2016\":\n",
    "    fname = \"samplesCR_2016_Apr2020.yml\"\n",
    "    bDiscValue = 0.6321\n",
    "if era == \"2017\":\n",
    "    fname = \"samplesCR_2017_Apr2020.yml\"\n",
    "    bDiscValue = 0.4941\n",
    "if era == \"2018\":\n",
    "    fname = \"samplesCR_2018_Apr2020.yml\"\n",
    "    bDiscValue = 0.4184\n",
    "outname = fname.replace('.yml','.root')\n",
    "outname"
   ]
  },
  {
   "cell_type": "code",
   "execution_count": null,
   "id": "passing-ordering",
   "metadata": {},
   "outputs": [],
   "source": [
    "class sample_processor():\n",
    "    def __init__(self,file_name,outname,bDiscValue,is_inclusive=0):\n",
    "        #load config\n",
    "        self.file_name = file_name\n",
    "        with open(file_name,'r') as f:\n",
    "            self.sample_dict = yaml.load(f, Loader=yaml.FullLoader)\n",
    "        #setup outfile\n",
    "        self.outname = outname\n",
    "        self.out = TFile(outname, 'recreate')\n",
    "        self.outdirs_dict = {}\n",
    "        for sample in self.samples():\n",
    "            name = sample['name']\n",
    "            self.outdirs_dict[name] = self.out.mkdir(name)\n",
    "        self.lumi = self.sample_dict['lumi']\n",
    "        #get and write lumi info\n",
    "        hlumi = TH1F(\"lumi\", \"lumi\", 1, 0, 1)\n",
    "        hlumi.SetDirectory(self.out)\n",
    "        hlumi.SetBinContent(1, self.lumi)\n",
    "        hlumi.Write()\n",
    "        self.bDiscValue = bDiscValue\n",
    "        self.is_inclusive = is_inclusive\n",
    "    def samples(self):\n",
    "        return self.sample_dict['samples']\n",
    "    def sample_names(self):\n",
    "        return [s['name'] for s in self.samples()]\n",
    "    def close(self):\n",
    "        self.out.Close()\n",
    "    def __repr__(self):\n",
    "        text_dict = {\"fn\":self.file_name,\n",
    "                     \"on\":self.outname, \n",
    "                     \"lumi\":self.lumi,\n",
    "                    \"samples\": self.sample_names()}\n",
    "        return '''from {fn} to {on}\\nlumi: {lumi}\\nSamples {samples}'''.format(**text_dict)"
   ]
  },
  {
   "cell_type": "code",
   "execution_count": null,
   "id": "spoken-permit",
   "metadata": {
    "scrolled": false
   },
   "outputs": [],
   "source": [
    "sp = sample_processor(fname, outname, bDiscValue)\n",
    "print(sp)"
   ]
  },
  {
   "cell_type": "code",
   "execution_count": null,
   "id": "yellow-attribute",
   "metadata": {},
   "outputs": [],
   "source": [
    "rs = [\"CR10\", \"CR11\", \"CR12\", \"CR13\", \"CR14\", \"CR20\", \"CR21\", \"CR22\", \"CR23\", \"CR24\", \"SR1\", \"SR2\"]\n",
    "JERC_var = ['nom','jerUp','jerDown','jesTotalUp','jesTotalDown']\n",
    "string = \"\"\n",
    "for jv in JERC_var:\n",
    "    for r in rs:\n",
    "        string += \"{}_{} or \".format(r,jv)\n",
    "mc_region = string[:-3]\n",
    "JERC_var = ['nom']\n",
    "string = \"\"\n",
    "for jv in JERC_var:\n",
    "    for r in rs:\n",
    "        string += \"{}_{} or \".format(r,jv)\n",
    "data_region = string[:-3]\n",
    "mc_region"
   ]
  },
  {
   "cell_type": "code",
   "execution_count": null,
   "id": "departmental-powder",
   "metadata": {},
   "outputs": [],
   "source": [
    "def create_regions(df, ismc):\n",
    "    # create regions\n",
    "    if int(ismc):\n",
    "        JERC_var = ['nom','jerUp','jerDown','jesUp','jesDown']\n",
    "    else:\n",
    "        JERC_var = ['nom']\n",
    "    rs = [\"CR10\", \"CR11\", \"CR12\", \"CR13\", \"CR14\", \"CR20\", \"CR21\", \"CR22\", \"CR23\", \"CR24\", \"SR1\", \"SR2\"]\n",
    "    rs = [(r,var) for r in rs for var in JERC_var]\n",
    "    for reg,var in rs:\n",
    "        r = '{}_{}'.format(reg,var)\n",
    "        HTLT_string = 'HTLT_{}'.format(var)\n",
    "        RelMET_string = 'RelMET_{}'.format(var)\n",
    "        SBM_string = 'SBM_{}'.format(var)\n",
    "\n",
    "        HTLT,RelMET,SBM = -120,0.22,0\n",
    "        if r[2] == \"2\":\n",
    "            HTLT,RelMET,SBM = -60,0.22,150\n",
    "        \n",
    "        region_string = \"{}pre_bff\".format(r)\n",
    "        format_dict = {\"region_string\":region_string, \"r\": r,\"HTLT\": HTLT,\"RelMET\": RelMET,\"SBM\": SBM,\"HTLT_string\": HTLT_string,\"RelMET_string\": RelMET_string,\"SBM_string\": SBM_string}\n",
    "        regions.append((df.Filter(\"{r} && DiLepMass>54\".format(**format_dict), region_string), format_dict))\n",
    "\n",
    "        region_string = \"{}\".format(r)\n",
    "        format_dict = {\"region_string\":region_string, \"r\": r,\"HTLT\": HTLT,\"RelMET\": RelMET,\"SBM\": SBM,\"HTLT_string\": HTLT_string,\"RelMET_string\": RelMET_string,\"SBM_string\": SBM_string}\n",
    "        regions.append((df.Filter(\"{r} && DiLepMass>54 && {HTLT_string}<{HTLT} && {RelMET_string}<{RelMET} && {SBM_string}>{SBM}\".format(**format_dict), region_string), format_dict))\n",
    "\n",
    "        region_string = \"{}_200_GeV_htlt_sig\".format(r)\n",
    "        format_dict = {\"region_string\":region_string, \"r\": r,\"HTLT\": HTLT,\"RelMET\": RelMET,\"SBM\": SBM,\"HTLT_string\": HTLT_string,\"RelMET_string\": RelMET_string,\"SBM_string\": SBM_string}\n",
    "        regions.append((df.Filter(\"{r} && DiLepMass>54 && {RelMET_string}<{RelMET} && {SBM_string}>{SBM}\".format(**format_dict), region_string), format_dict))\n",
    "\n",
    "        region_string = \"{}_200_GeV_sig\".format(r)\n",
    "        format_dict = {\"region_string\":region_string, \"r\": r,\"HTLT\": HTLT,\"RelMET\": RelMET,\"SBM\": SBM,\"HTLT_string\": HTLT_string,\"RelMET_string\": RelMET_string,\"SBM_string\": SBM_string}\n",
    "        regions.append((df.Filter(\"{r} && DiLepMass>54 && {RelMET_string}<{RelMET} && {SBM_string}>{SBM}\".format(**format_dict), region_string), format_dict))\n",
    "\n",
    "def process_sample(sp,sample,era,verbose=1):\n",
    "    #get metadata\n",
    "    name,xsec,nevts = sample['name'],sample['xsec'],sample['nevts']\n",
    "    ismc,fileglob,bTagEff = int(sample['ismc']),sample['fileglob'],sample['bTagEff']\n",
    "    \n",
    "    #make file glob\n",
    "    #files = toVector('string', glob(fileglob))\n",
    "    files = glob(fileglob)\n",
    "    #print(fileglob)\n",
    "    # get n events from skim if 0\n",
    "    if not nevts:\n",
    "        nevts = get_nEvents(files)\n",
    "        print(nevts)\n",
    "        \n",
    "    sample_weight = float(xsec)*sp.lumi/float(nevts)\n",
    "    if verbose: print(\"name: {} , xsec: {}, nevents: {} ismc: {}\".format(name,xsec,nevts,ismc))\n",
    "\n",
    "    #set up btagging and puid sf files\n",
    "    bTagFile, PUIDSFfile = setup_btag_puid(ismc, era, bTagEff)\n",
    "    #make rdf\n",
    "    \n",
    "    df = RDFrame('Events', files)\n",
    "    #print([x for x in df.GetColumnNames()])\n",
    "    \n",
    "    df = df.Filter(\"DiLepMass>100\", \"mass_cut\")\n",
    "    \n",
    "    if ismc:\n",
    "        df = df.Filter(mc_region, \"in_region\")\n",
    "    else:\n",
    "        df = df.Filter(data_region, \"in_region\")\n",
    "    df = def_good_jet(df,ismc, bDiscValue)\n",
    "    df = def_good_leptons(df, ismc)\n",
    "    df = def_HLT(df, ismc, era)\n",
    "    df = def_sf_and_weight(df,ismc, sp.is_inclusive, name, sample_weight)\n",
    "    df = def_lep_selections(df)\n",
    "    lcolumns = columns\n",
    "    if not ismc:\n",
    "        lcolumns = columns_data\n",
    "    df.Snapshot(\"Events\", \"data/tw_{}_{}.root\".format(era,name), lcolumns)\n",
    "    df_np = df.AsNumpy(lcolumns)\n",
    "    df_df = pd.DataFrame(df_np)\n",
    "    df_df.to_csv('data/tw_{}_{}.csv'.format(era,name))\n",
    "    return name,df, fileglob"
   ]
  },
  {
   "cell_type": "code",
   "execution_count": null,
   "id": "administrative-marathon",
   "metadata": {
    "scrolled": false
   },
   "outputs": [],
   "source": [
    "for sample in sp.samples():\n",
    "    name = sample['name']\n",
    "    print(name)\n",
    "    start_time = perf_counter()\n",
    "    name,df,fileglob = process_sample(sp,sample,era)\n",
    "    #count = df.Count()\n",
    "    end_time = perf_counter()\n",
    "    try:\n",
    "        print(name,end_time-start_time)\n",
    "    except:\n",
    "        print(name,end_time-start_time)\n",
    "sp.close()"
   ]
  },
  {
   "cell_type": "code",
   "execution_count": null,
   "id": "handmade-republic",
   "metadata": {},
   "outputs": [],
   "source": []
  },
  {
   "cell_type": "code",
   "execution_count": null,
   "id": "cosmetic-wedding",
   "metadata": {},
   "outputs": [],
   "source": []
  }
 ],
 "metadata": {
  "kernelspec": {
   "display_name": "Python 3",
   "language": "python",
   "name": "python3"
  },
  "language_info": {
   "codemirror_mode": {
    "name": "ipython",
    "version": 3
   },
   "file_extension": ".py",
   "mimetype": "text/x-python",
   "name": "python",
   "nbconvert_exporter": "python",
   "pygments_lexer": "ipython3",
   "version": "3.8.6"
  }
 },
 "nbformat": 4,
 "nbformat_minor": 5
}
