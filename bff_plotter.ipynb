{
 "cells": [
  {
   "cell_type": "code",
   "execution_count": null,
   "id": "enormous-beauty",
   "metadata": {},
   "outputs": [],
   "source": [
    "from __future__ import print_function\n",
    "from glob import glob\n",
    "from ROOT import vector, RDataFrame, RDF, TFile, TH1F, TH2F, gInterpreter, TMath\n",
    "import ROOT\n",
    "import sys\n",
    "import yaml\n",
    "from bff_processor.cpp_function import def_cpp\n",
    "from bff_processor.utils import toVector, get_nEvents\n",
    "from bff_processor.df_definitions import *\n",
    "import pandas as pd\n",
    "from time import perf_counter\n",
    "import uproot"
   ]
  },
  {
   "cell_type": "code",
   "execution_count": null,
   "id": "reverse-commitment",
   "metadata": {
    "scrolled": true
   },
   "outputs": [],
   "source": [
    "def_cpp()"
   ]
  },
  {
   "cell_type": "code",
   "execution_count": null,
   "id": "ordinary-requirement",
   "metadata": {},
   "outputs": [],
   "source": [
    "#ROOT.ROOT.EnableImplicitMT()\n",
    "RDFrame = RDataFrame"
   ]
  },
  {
   "cell_type": "code",
   "execution_count": null,
   "id": "focused-uzbekistan",
   "metadata": {},
   "outputs": [],
   "source": [
    "era = '2016'\n",
    "if era == \"2016\":\n",
    "    fname = \"samplesCR_2016_Apr2020_with_flags.yml\"\n",
    "    bDiscValue = 0.6321\n",
    "if era == \"2017\":\n",
    "    fname = \"sampleCR_2017_v6_lo.yml\"\n",
    "    bDiscValue = 0.4941\n",
    "if era == \"2018\":\n",
    "    fname = \"samplesCR_2018_v6_lo.yml\"\n",
    "    bDiscValue = 0.4184\n",
    "outname = fname.replace('.yml','.root')\n",
    "outname"
   ]
  },
  {
   "cell_type": "code",
   "execution_count": null,
   "id": "trained-exploration",
   "metadata": {},
   "outputs": [],
   "source": [
    "class sample_processor():\n",
    "    def __init__(self,file_name,outname,bDiscValue,is_inclusive=0):\n",
    "        #load config\n",
    "        self.file_name = file_name\n",
    "        with open(file_name,'r') as f:\n",
    "            self.sample_dict = yaml.load(f, Loader=yaml.FullLoader)\n",
    "        #setup outfile\n",
    "        self.outname = outname\n",
    "        self.out = TFile(outname, 'recreate')\n",
    "        self.outdirs_dict = {}\n",
    "        for sample in self.samples():\n",
    "            name = sample['name']\n",
    "            self.outdirs_dict[name] = self.out.mkdir(name)\n",
    "        self.lumi = self.sample_dict['lumi']\n",
    "        #get and write lumi info\n",
    "        hlumi = TH1F(\"lumi\", \"lumi\", 1, 0, 1)\n",
    "        hlumi.SetDirectory(self.out)\n",
    "        hlumi.SetBinContent(1, self.lumi)\n",
    "        hlumi.Write()\n",
    "        self.bDiscValue = bDiscValue\n",
    "        self.is_inclusive = is_inclusive\n",
    "    def samples(self):\n",
    "        return self.sample_dict['samples']\n",
    "    def sample_names(self):\n",
    "        return [s['name'] for s in self.samples()]\n",
    "    def close(self):\n",
    "        self.out.Close()\n",
    "    def __repr__(self):\n",
    "        text_dict = {\"fn\":self.file_name,\n",
    "                     \"on\":self.outname, \n",
    "                     \"lumi\":self.lumi,\n",
    "                    \"samples\": self.sample_names()}\n",
    "        return '''from {fn} to {on}\\nlumi: {lumi}\\nSamples {samples}'''.format(**text_dict)"
   ]
  },
  {
   "cell_type": "code",
   "execution_count": null,
   "id": "standing-taylor",
   "metadata": {},
   "outputs": [],
   "source": [
    "sp = sample_processor(fname, outname, bDiscValue)\n",
    "print(sp)"
   ]
  },
  {
   "cell_type": "code",
   "execution_count": null,
   "id": "abstract-batch",
   "metadata": {},
   "outputs": [],
   "source": [
    "def create_regions(df, ismc):\n",
    "    # create regions\n",
    "    if int(ismc):\n",
    "        JERC_var = ['nominal','jerUp','jerDown','jesUp','jesDown']\n",
    "    else:\n",
    "        JERC_var = ['nominal']\n",
    "    rs = [\"CR10\", \"CR11\", \"CR12\", \"CR13\", \"CR14\", \"CR20\", \"CR21\", \"CR22\", \"CR23\", \"CR24\", \"SR1\", \"SR2\"]\n",
    "    rs = [(r,var) for r in rs for var in JERC_var]\n",
    "    for reg,var in rs:\n",
    "        r = '{}_{}'.format(reg,var)\n",
    "        HTLT_string = 'HTLT_{}'.format(var)\n",
    "        RelMET_string = 'RelMET_{}'.format(var)\n",
    "        SBM_string = 'SBM_{}'.format(var)\n",
    "\n",
    "        HTLT,RelMET,SBM = -120,0.22,0\n",
    "        if r[2] == \"2\":\n",
    "            HTLT,RelMET,SBM = -60,0.22,150\n",
    "        \n",
    "        region_string = \"{}pre_bff\".format(r)\n",
    "        format_dict = {\"region_string\":region_string, \"r\": r,\"HTLT\": HTLT,\"RelMET\": RelMET,\"SBM\": SBM,\"HTLT_string\": HTLT_string,\"RelMET_string\": RelMET_string,\"SBM_string\": SBM_string}\n",
    "        regions.append((df.Filter(\"{r} && DiLepMass>54\".format(**format_dict), region_string), format_dict))\n",
    "\n",
    "        region_string = \"{}\".format(r)\n",
    "        format_dict = {\"region_string\":region_string, \"r\": r,\"HTLT\": HTLT,\"RelMET\": RelMET,\"SBM\": SBM,\"HTLT_string\": HTLT_string,\"RelMET_string\": RelMET_string,\"SBM_string\": SBM_string}\n",
    "        regions.append((df.Filter(\"{r} && DiLepMass>54 && {HTLT_string}<{HTLT} && {RelMET_string}<{RelMET} && {SBM_string}>{SBM}\".format(**format_dict), region_string), format_dict))\n",
    "\n",
    "        region_string = \"{}_200_GeV_htlt_sig\".format(r)\n",
    "        format_dict = {\"region_string\":region_string, \"r\": r,\"HTLT\": HTLT,\"RelMET\": RelMET,\"SBM\": SBM,\"HTLT_string\": HTLT_string,\"RelMET_string\": RelMET_string,\"SBM_string\": SBM_string}\n",
    "        regions.append((df.Filter(\"{r} && DiLepMass>54 && {RelMET_string}<{RelMET} && {SBM_string}>{SBM}\".format(**format_dict), region_string), format_dict))\n",
    "\n",
    "        region_string = \"{}_200_GeV_sig\".format(r)\n",
    "        format_dict = {\"region_string\":region_string, \"r\": r,\"HTLT\": HTLT,\"RelMET\": RelMET,\"SBM\": SBM,\"HTLT_string\": HTLT_string,\"RelMET_string\": RelMET_string,\"SBM_string\": SBM_string}\n",
    "        regions.append((df.Filter(\"{r} && DiLepMass>54 && {RelMET_string}<{RelMET} && {SBM_string}>{SBM}\".format(**format_dict), region_string), format_dict))\n",
    "\n",
    "def process_sample(sp,sample,era,verbose=1):\n",
    "    #get metadata\n",
    "    name,xsec,nevts = sample['name'],sample['xsec'],sample['nevts']\n",
    "    ismc,fileglob,bTagEff = int(sample['ismc']),sample['fileglob'],sample['bTagEff']\n",
    "    if not nevts:\n",
    "        nevts = get_nEvents(fileglob)\n",
    "    sample_weight = float(xsec)*sp.lumi/float(nevts)\n",
    "    if verbose: print(\"name: {} , xsec: {}, nevents: {} ismc: {}\".format(name,xsec,nevts,ismc))\n",
    "    #make file glob\n",
    "    files = toVector('string', glob(fileglob))\n",
    "    #set up btagging and puid sf files\n",
    "    bTagFile, PUIDSFfile = setup_btag_puid(ismc, era, bTagEff)\n",
    "    #make rdf\n",
    "    df = RDFrame('Events', files)\n",
    "    df = df.Filter(\"DiLepMass>54\", \"mass_cut\")\n",
    "    df = df.Filter(\"SR1_nominal or CR10_nominal or CR11_nominal or CR12_nominal or CR13_nominal or CR14_nominal or SR2_nominal or CR20_nominal or CR21_nominal or CR22_nominal or CR23_nominal or CR24_nominal\", \"in_region\")\n",
    "    df = def_good_jet(df,ismc, bDiscValue)\n",
    "    df = def_good_leptons(df, ismc)\n",
    "    df = def_HLT(df, ismc, era)\n",
    "    df = def_sf_and_weight(df,ismc, sp.is_inclusive, name, sample_weight)\n",
    "    df = def_lep_selections(df)\n",
    "    columns = ['sample_weight','HTLT_nominal','RelMET_nominal','SBM_nominal','SR2_nominal','DiLepMass',\n",
    "        'SR1_nominal','CR10_nominal','CR11_nominal','CR12_nominal','CR13_nominal','CR14_nominal','SR2_nominal','CR20_nominal','CR21_nominal','CR22_nominal','CR23_nominal','CR24_nominal', \n",
    "               'TriggerWeight', \"Flag_goodVertices\",\"Flag_globalSuperTightHalo2016Filter\",\"Flag_HBHENoiseFilter\",\"Flag_HBHENoiseIsoFilter\",\"Flag_EcalDeadCellTriggerPrimitiveFilter\",\"Flag_BadPFMuonFilter\",\"Flag_eeBadScFilter\",\"Flag_METFilters\"]\n",
    "    if not ismc: \n",
    "        columns = ['HTLT_nominal','RelMET_nominal','SBM_nominal','SR2_nominal','DiLepMass',\n",
    "        'SR1_nominal','CR10_nominal','CR11_nominal','CR12_nominal','CR13_nominal','CR14_nominal','SR2_nominal','CR20_nominal','CR21_nominal','CR22_nominal','CR23_nominal','CR24_nominal', \n",
    "         \"Flag_goodVertices\",\"Flag_globalSuperTightHalo2016Filter\",\"Flag_HBHENoiseFilter\",\"Flag_HBHENoiseIsoFilter\",\"Flag_EcalDeadCellTriggerPrimitiveFilter\",\"Flag_BadPFMuonFilter\",\"Flag_eeBadScFilter\",\"Flag_METFilters\"]\n",
    "   \n",
    "    df.Snapshot(\"Events\", \"data/tw_{}_{}.root\".format(era,name), columns)\n",
    "    df_np = df.AsNumpy(columns)\n",
    "    df_df = pd.DataFrame(df_np)\n",
    "    df_df.to_csv('data/{}.csv'.format(name))\n",
    "    return name,df, fileglob"
   ]
  },
  {
   "cell_type": "code",
   "execution_count": null,
   "id": "qualified-jesus",
   "metadata": {
    "scrolled": false
   },
   "outputs": [],
   "source": [
    "for sample in sp.samples():\n",
    "    #if 'data' not in sample['name']: continue \n",
    "    start_time = perf_counter()\n",
    "    name,df,fileglob = process_sample(sp,sample,era)\n",
    "    #count = df.Count()\n",
    "    end_time = perf_counter()\n",
    "    try:\n",
    "        print(name,end_time-start_time)\n",
    "    except:\n",
    "        print(name,end_time-start_time)\n",
    "sp.close()"
   ]
  },
  {
   "cell_type": "code",
   "execution_count": null,
   "id": "major-strike",
   "metadata": {},
   "outputs": [],
   "source": [
    "['sample_weight', 'HTLT', 'RelMET', 'SBM', 'SR2', 'DiLepMass', 'SR1', ]"
   ]
  },
  {
   "cell_type": "code",
   "execution_count": null,
   "id": "silver-heater",
   "metadata": {
    "scrolled": false
   },
   "outputs": [],
   "source": [
    "for x in df.GetColumnNames():\n",
    "    print(x)"
   ]
  },
  {
   "cell_type": "code",
   "execution_count": null,
   "id": "virgin-livestock",
   "metadata": {},
   "outputs": [],
   "source": []
  }
 ],
 "metadata": {
  "kernelspec": {
   "display_name": "Python 3",
   "language": "python",
   "name": "python3"
  },
  "language_info": {
   "codemirror_mode": {
    "name": "ipython",
    "version": 3
   },
   "file_extension": ".py",
   "mimetype": "text/x-python",
   "name": "python",
   "nbconvert_exporter": "python",
   "pygments_lexer": "ipython3",
   "version": "3.8.6"
  }
 },
 "nbformat": 4,
 "nbformat_minor": 5
}
