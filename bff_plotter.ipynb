{
 "cells": [
  {
   "cell_type": "code",
   "execution_count": 1,
   "id": "renewable-amplifier",
   "metadata": {},
   "outputs": [
    {
     "name": "stdout",
     "output_type": "stream",
     "text": [
      "Welcome to JupyROOT 6.22/06\n"
     ]
    }
   ],
   "source": [
    "from __future__ import print_function\n",
    "from glob import glob\n",
    "from ROOT import vector, RDataFrame, RDF, TFile, TH1F, TH2F, gInterpreter, TMath\n",
    "import ROOT\n",
    "import sys\n",
    "import yaml\n",
    "from bff_processor.cpp_function import def_cpp\n",
    "from bff_processor.utils import toVector, get_nEvents\n",
    "from bff_processor.df_definitions import *\n",
    "import pandas as pd\n",
    "from time import perf_counter\n",
    "import uproot"
   ]
  },
  {
   "cell_type": "code",
   "execution_count": 12,
   "id": "painful-slide",
   "metadata": {},
   "outputs": [],
   "source": [
    "columns = ['Weight_PuUp','Weight_PuDown','Weight_BTagUp','Weight_BTagDown','Weight_PUIDUp','Weight_PUIDDown','Weight_PDF_ISRFSR_Up','Weight_PDF_ISRFSR_Down','Weight_MuonSFUp','Weight_MuonSFDown','Weight_ElectronSFUp','Weight_ElectronSFDown','Weight','sample_weight','DiLepMass','TriggerWeight','Flag_goodVertices','Flag_globalSuperTightHalo2016Filter','Flag_HBHENoiseFilter','Flag_HBHENoiseIsoFilter','Flag_EcalDeadCellTriggerPrimitiveFilter','Flag_BadPFMuonFilter','Flag_eeBadScFilter','Flag_METFilters','HTLT_nominal','RelMET_nominal','SBM_nominal','SR2_nominal','SR1_nominal','CR10_nominal','CR11_nominal','CR12_nominal','CR13_nominal','CR14_nominal','SR2_nominal','CR20_nominal','CR21_nominal','CR22_nominal','CR23_nominal','CR24_nominal','HTLT_jerDown','RelMET_jerDown','SBM_jerDown','SR2_jerDown','SR1_jerDown','CR10_jerDown','CR11_jerDown','CR12_jerDown','CR13_jerDown','CR14_jerDown','SR2_jerDown','CR20_jerDown','CR21_jerDown','CR22_jerDown','CR23_jerDown','CR24_jerDown','HTLT_jerUp','RelMET_jerUp','SBM_jerUp','SR2_jerUp','SR1_jerUp','CR10_jerUp','CR11_jerUp','CR12_jerUp','CR13_jerUp','CR14_jerUp','SR2_jerUp','CR20_jerUp','CR21_jerUp','CR22_jerUp','CR23_jerUp','CR24_jerUp','HTLT_jesDown','RelMET_jesDown','SBM_jesDown','SR2_jesDown','SR1_jesDown','CR10_jesDown','CR11_jesDown','CR12_jesDown','CR13_jesDown','CR14_jesDown','SR2_jesDown','CR20_jesDown','CR21_jesDown','CR22_jesDown','CR23_jesDown','CR24_jesDown','HTLT_jesUp','RelMET_jesUp','SBM_jesUp','SR2_jesUp','SR1_jesUp','CR10_jesUp','CR11_jesUp','CR12_jesUp','CR13_jesUp','CR14_jesUp','SR2_jesUp','CR20_jesUp','CR21_jesUp','CR22_jesUp','CR23_jesUp','CR24_jesUp']\n"
   ]
  },
  {
   "cell_type": "code",
   "execution_count": 3,
   "id": "beautiful-nutrition",
   "metadata": {},
   "outputs": [],
   "source": [
    "columns_data = ['Weight','sample_weight','DiLepMass','TriggerWeight','Flag_goodVertices','Flag_globalSuperTightHalo2016Filter','Flag_HBHENoiseFilter','Flag_HBHENoiseIsoFilter','Flag_EcalDeadCellTriggerPrimitiveFilter','Flag_BadPFMuonFilter','Flag_eeBadScFilter','Flag_METFilters','HTLT_nominal','RelMET_nominal','SBM_nominal','SR2_nominal','SR1_nominal','CR10_nominal','CR11_nominal','CR12_nominal','CR13_nominal','CR14_nominal','SR2_nominal','CR20_nominal','CR21_nominal','CR22_nominal','CR23_nominal','CR24_nominal',]"
   ]
  },
  {
   "cell_type": "code",
   "execution_count": 4,
   "id": "nearby-crack",
   "metadata": {
    "scrolled": true
   },
   "outputs": [
    {
     "data": {
      "text/plain": [
       "True"
      ]
     },
     "execution_count": 4,
     "metadata": {},
     "output_type": "execute_result"
    }
   ],
   "source": [
    "def_cpp()"
   ]
  },
  {
   "cell_type": "code",
   "execution_count": 5,
   "id": "worse-january",
   "metadata": {},
   "outputs": [],
   "source": [
    "#ROOT.ROOT.EnableImplicitMT()\n",
    "RDFrame = RDataFrame"
   ]
  },
  {
   "cell_type": "code",
   "execution_count": 6,
   "id": "apart-trailer",
   "metadata": {},
   "outputs": [
    {
     "data": {
      "text/plain": [
       "'samplesCR_2016_Apr2020.root'"
      ]
     },
     "execution_count": 6,
     "metadata": {},
     "output_type": "execute_result"
    }
   ],
   "source": [
    "era = '2016'\n",
    "if era == \"2016\":\n",
    "    fname = \"samplesCR_2016_Apr2020.yml\"\n",
    "    bDiscValue = 0.6321\n",
    "if era == \"2017\":\n",
    "    fname = \"sampleCR_2017_v6_lo.yml\"\n",
    "    bDiscValue = 0.4941\n",
    "if era == \"2018\":\n",
    "    fname = \"samplesCR_2018_v6_lo.yml\"\n",
    "    bDiscValue = 0.4184\n",
    "outname = fname.replace('.yml','.root')\n",
    "outname"
   ]
  },
  {
   "cell_type": "code",
   "execution_count": 7,
   "id": "german-asbestos",
   "metadata": {},
   "outputs": [],
   "source": [
    "class sample_processor():\n",
    "    def __init__(self,file_name,outname,bDiscValue,is_inclusive=0):\n",
    "        #load config\n",
    "        self.file_name = file_name\n",
    "        with open(file_name,'r') as f:\n",
    "            self.sample_dict = yaml.load(f, Loader=yaml.FullLoader)\n",
    "        #setup outfile\n",
    "        self.outname = outname\n",
    "        self.out = TFile(outname, 'recreate')\n",
    "        self.outdirs_dict = {}\n",
    "        for sample in self.samples():\n",
    "            name = sample['name']\n",
    "            self.outdirs_dict[name] = self.out.mkdir(name)\n",
    "        self.lumi = self.sample_dict['lumi']\n",
    "        #get and write lumi info\n",
    "        hlumi = TH1F(\"lumi\", \"lumi\", 1, 0, 1)\n",
    "        hlumi.SetDirectory(self.out)\n",
    "        hlumi.SetBinContent(1, self.lumi)\n",
    "        hlumi.Write()\n",
    "        self.bDiscValue = bDiscValue\n",
    "        self.is_inclusive = is_inclusive\n",
    "    def samples(self):\n",
    "        return self.sample_dict['samples']\n",
    "    def sample_names(self):\n",
    "        return [s['name'] for s in self.samples()]\n",
    "    def close(self):\n",
    "        self.out.Close()\n",
    "    def __repr__(self):\n",
    "        text_dict = {\"fn\":self.file_name,\n",
    "                     \"on\":self.outname, \n",
    "                     \"lumi\":self.lumi,\n",
    "                    \"samples\": self.sample_names()}\n",
    "        return '''from {fn} to {on}\\nlumi: {lumi}\\nSamples {samples}'''.format(**text_dict)"
   ]
  },
  {
   "cell_type": "code",
   "execution_count": 8,
   "id": "exciting-screening",
   "metadata": {},
   "outputs": [
    {
     "name": "stdout",
     "output_type": "stream",
     "text": [
      "from samplesCR_2016_Apr2020.yml to samplesCR_2016_Apr2020.root\n",
      "lumi: 35.5\n",
      "Samples ['ZToEE_M_120_200', 'ZToEE_M_200_400', 'ZToEE_M_400_800', 'ZToEE_M_50_120', 'ZToEE_M_800_1400', 'ZToMuMu_M_120_200', 'ZToMuMu_M_200_400', 'ZToMuMu_M_400_800', 'ZToMuMu_M_50_120', 'ZToMuMu_M_800_1400', 'mc_santitop', 'mc_stop', 'mc_ttbar', 'mc_ww', 'mc_wz', 'mc_zz', 'BFFZprimeToMuMu_M_500', 'BFFZprimeToMuMu_M_500_dbs0p5', 'BFFZprimeToMuMu_M_500_dbs1p0', 'BFFZprimeToMuMu_M_350', 'BFFZprimeToMuMu_M_350_dbs0p5', 'BFFZprimeToMuMu_M_350_dbs1p0', 'BFFZprimeToMuMu_M_200', 'BFFZprimeToMuMu_M_200_dbs1p0', 'BFFZprimeToMuMu_M_200_dbs0p5', 'data_el', 'data_mu']\n"
     ]
    }
   ],
   "source": [
    "sp = sample_processor(fname, outname, bDiscValue)\n",
    "print(sp)"
   ]
  },
  {
   "cell_type": "code",
   "execution_count": 9,
   "id": "heard-running",
   "metadata": {},
   "outputs": [],
   "source": [
    "def create_regions(df, ismc):\n",
    "    # create regions\n",
    "    if int(ismc):\n",
    "        JERC_var = ['nominal','jerUp','jerDown','jesUp','jesDown']\n",
    "    else:\n",
    "        JERC_var = ['nominal']\n",
    "    rs = [\"CR10\", \"CR11\", \"CR12\", \"CR13\", \"CR14\", \"CR20\", \"CR21\", \"CR22\", \"CR23\", \"CR24\", \"SR1\", \"SR2\"]\n",
    "    rs = [(r,var) for r in rs for var in JERC_var]\n",
    "    for reg,var in rs:\n",
    "        r = '{}_{}'.format(reg,var)\n",
    "        HTLT_string = 'HTLT_{}'.format(var)\n",
    "        RelMET_string = 'RelMET_{}'.format(var)\n",
    "        SBM_string = 'SBM_{}'.format(var)\n",
    "\n",
    "        HTLT,RelMET,SBM = -120,0.22,0\n",
    "        if r[2] == \"2\":\n",
    "            HTLT,RelMET,SBM = -60,0.22,150\n",
    "        \n",
    "        region_string = \"{}pre_bff\".format(r)\n",
    "        format_dict = {\"region_string\":region_string, \"r\": r,\"HTLT\": HTLT,\"RelMET\": RelMET,\"SBM\": SBM,\"HTLT_string\": HTLT_string,\"RelMET_string\": RelMET_string,\"SBM_string\": SBM_string}\n",
    "        regions.append((df.Filter(\"{r} && DiLepMass>54\".format(**format_dict), region_string), format_dict))\n",
    "\n",
    "        region_string = \"{}\".format(r)\n",
    "        format_dict = {\"region_string\":region_string, \"r\": r,\"HTLT\": HTLT,\"RelMET\": RelMET,\"SBM\": SBM,\"HTLT_string\": HTLT_string,\"RelMET_string\": RelMET_string,\"SBM_string\": SBM_string}\n",
    "        regions.append((df.Filter(\"{r} && DiLepMass>54 && {HTLT_string}<{HTLT} && {RelMET_string}<{RelMET} && {SBM_string}>{SBM}\".format(**format_dict), region_string), format_dict))\n",
    "\n",
    "        region_string = \"{}_200_GeV_htlt_sig\".format(r)\n",
    "        format_dict = {\"region_string\":region_string, \"r\": r,\"HTLT\": HTLT,\"RelMET\": RelMET,\"SBM\": SBM,\"HTLT_string\": HTLT_string,\"RelMET_string\": RelMET_string,\"SBM_string\": SBM_string}\n",
    "        regions.append((df.Filter(\"{r} && DiLepMass>54 && {RelMET_string}<{RelMET} && {SBM_string}>{SBM}\".format(**format_dict), region_string), format_dict))\n",
    "\n",
    "        region_string = \"{}_200_GeV_sig\".format(r)\n",
    "        format_dict = {\"region_string\":region_string, \"r\": r,\"HTLT\": HTLT,\"RelMET\": RelMET,\"SBM\": SBM,\"HTLT_string\": HTLT_string,\"RelMET_string\": RelMET_string,\"SBM_string\": SBM_string}\n",
    "        regions.append((df.Filter(\"{r} && DiLepMass>54 && {RelMET_string}<{RelMET} && {SBM_string}>{SBM}\".format(**format_dict), region_string), format_dict))\n",
    "\n",
    "def process_sample(sp,sample,era,verbose=1):\n",
    "    #get metadata\n",
    "    name,xsec,nevts = sample['name'],sample['xsec'],sample['nevts']\n",
    "    ismc,fileglob,bTagEff = int(sample['ismc']),sample['fileglob'],sample['bTagEff']\n",
    "    if not nevts:\n",
    "        nevts = get_nEvents(fileglob)\n",
    "    sample_weight = float(xsec)*sp.lumi/float(nevts)\n",
    "    if verbose: print(\"name: {} , xsec: {}, nevents: {} ismc: {}\".format(name,xsec,nevts,ismc))\n",
    "    #make file glob\n",
    "    files = toVector('string', glob(fileglob))\n",
    "    #set up btagging and puid sf files\n",
    "    bTagFile, PUIDSFfile = setup_btag_puid(ismc, era, bTagEff)\n",
    "    #make rdf\n",
    "    df = RDFrame('Events', files)\n",
    "    df = df.Filter(\"DiLepMass>54\", \"mass_cut\")\n",
    "    df = df.Filter(\"SR1_nominal or CR10_nominal or CR11_nominal or CR12_nominal or CR13_nominal or CR14_nominal or SR2_nominal or CR20_nominal or CR21_nominal or CR22_nominal or CR23_nominal or CR24_nominal\", \"in_region\")\n",
    "    df = def_good_jet(df,ismc, bDiscValue)\n",
    "    df = def_good_leptons(df, ismc)\n",
    "    df = def_HLT(df, ismc, era)\n",
    "    df = def_sf_and_weight(df,ismc, sp.is_inclusive, name, sample_weight)\n",
    "    df = def_lep_selections(df)\n",
    "    lcolumns = columns\n",
    "    if not ismc:\n",
    "        lcolumns = columns_data\n",
    "    df.Snapshot(\"Events\", \"data/tw_{}_{}.root\".format(era,name), lcolumns)\n",
    "    df_np = df.AsNumpy(lcolumns)\n",
    "    df_df = pd.DataFrame(df_np)\n",
    "    df_df.to_csv('data/tw_{}_{}.csv'.format(era,name))\n",
    "    return name,df, fileglob"
   ]
  },
  {
   "cell_type": "code",
   "execution_count": 13,
   "id": "automatic-bathroom",
   "metadata": {
    "scrolled": false
   },
   "outputs": [
    {
     "name": "stdout",
     "output_type": "stream",
     "text": [
      "name: ZToEE_M_120_200 , xsec: 19320.0, nevents: 100000 ismc: 1\n",
      "ZToEE_M_120_200 11.20252070762217\n",
      "name: ZToEE_M_200_400 , xsec: 2731.0, nevents: 99200.0 ismc: 1\n",
      "ZToEE_M_200_400 11.348805591464043\n",
      "name: ZToEE_M_400_800 , xsec: 241.0, nevents: 100000.0 ismc: 1\n",
      "ZToEE_M_400_800 13.241775672882795\n",
      "name: ZToEE_M_50_120 , xsec: 1975000.0, nevents: 2998400.0 ismc: 1\n",
      "ZToEE_M_50_120 10.443272965028882\n",
      "name: ZToEE_M_800_1400 , xsec: 16.78, nevents: 100000.0 ismc: 1\n",
      "ZToEE_M_800_1400 16.36032715626061\n",
      "name: ZToMuMu_M_120_200 , xsec: 19320.0, nevents: 100000.0 ismc: 1\n",
      "ZToMuMu_M_120_200 8.032387778162956\n",
      "name: ZToMuMu_M_200_400 , xsec: 2731.0, nevents: 100000.0 ismc: 1\n",
      "ZToMuMu_M_200_400 12.927803367376328\n",
      "name: ZToMuMu_M_400_800 , xsec: 241.0, nevents: 98400.0 ismc: 1\n",
      "ZToMuMu_M_400_800 18.121510731056333\n",
      "name: ZToMuMu_M_50_120 , xsec: 1975000.0, nevents: 2977600.0 ismc: 1\n",
      "ZToMuMu_M_50_120 10.8671482373029\n",
      "name: ZToMuMu_M_800_1400 , xsec: 16.78, nevents: 100000.0 ismc: 1\n",
      "ZToMuMu_M_800_1400 20.253526939079165\n",
      "name: mc_santitop , xsec: 35600.0, nevents: 6933094.0 ismc: 1\n",
      "mc_santitop 17.602036390453577\n",
      "name: mc_stop , xsec: 35600.0, nevents: 6952830.0 ismc: 1\n",
      "mc_stop 18.217844670638442\n",
      "name: mc_ttbar , xsec: 87310.0, nevents: 79140880.0 ismc: 1\n",
      "mc_ttbar 871.2105825897306\n",
      "name: mc_ww , xsec: 12178.0, nevents: 1999000.0 ismc: 1\n",
      "mc_ww 19.306582748889923\n",
      "name: mc_wz , xsec: 47130.0, nevents: 3997571.0 ismc: 1\n",
      "mc_wz 11.097500454634428\n",
      "name: mc_zz , xsec: 16523.0, nevents: 990064.0 ismc: 1\n",
      "mc_zz 8.960815696045756\n",
      "name: BFFZprimeToMuMu_M_500 , xsec: 6.42, nevents: 422040.0 ismc: 1\n",
      "BFFZprimeToMuMu_M_500 75.0365881305188\n",
      "name: BFFZprimeToMuMu_M_500_dbs0p5 , xsec: 13.81, nevents: 509623.0 ismc: 1\n",
      "BFFZprimeToMuMu_M_500_dbs0p5 84.65218350850046\n",
      "name: BFFZprimeToMuMu_M_500_dbs1p0 , xsec: 35.56, nevents: 438432.0 ismc: 1\n",
      "BFFZprimeToMuMu_M_500_dbs1p0 72.36681693978608\n",
      "name: BFFZprimeToMuMu_M_350 , xsec: 31.04, nevents: 470828.0 ismc: 1\n",
      "BFFZprimeToMuMu_M_350 74.78568306565285\n",
      "name: BFFZprimeToMuMu_M_350_dbs0p5 , xsec: 65.35, nevents: 387283.0 ismc: 1\n",
      "BFFZprimeToMuMu_M_350_dbs0p5 57.705203134566545\n",
      "name: BFFZprimeToMuMu_M_350_dbs1p0 , xsec: 165.8, nevents: 477546.0 ismc: 1\n",
      "BFFZprimeToMuMu_M_350_dbs1p0 71.04613374173641\n",
      "name: BFFZprimeToMuMu_M_200 , xsec: 288.9, nevents: 454762.0 ismc: 1\n",
      "BFFZprimeToMuMu_M_200 55.59566707350314\n",
      "name: BFFZprimeToMuMu_M_200_dbs1p0 , xsec: 1486, nevents: 508170.0 ismc: 1\n",
      "BFFZprimeToMuMu_M_200_dbs1p0 53.97627099044621\n",
      "name: BFFZprimeToMuMu_M_200_dbs0p5 , xsec: 592.6, nevents: 479728.0 ismc: 1\n",
      "BFFZprimeToMuMu_M_200_dbs0p5 52.54390277899802\n"
     ]
    }
   ],
   "source": [
    "#####\n",
    "##### BTag SF not included\n",
    "#####\n",
    "for sample in sp.samples():\n",
    "    if 'data'  in sample['name']: continue \n",
    "    start_time = perf_counter()\n",
    "    name,df,fileglob = process_sample(sp,sample,era)\n",
    "    #count = df.Count()\n",
    "    end_time = perf_counter()\n",
    "    try:\n",
    "        print(name,end_time-start_time)\n",
    "    except:\n",
    "        print(name,end_time-start_time)\n",
    "sp.close()"
   ]
  },
  {
   "cell_type": "code",
   "execution_count": 11,
   "id": "discrete-replica",
   "metadata": {
    "scrolled": true
   },
   "outputs": [
    {
     "data": {
      "text/plain": [
       "['sample_weight', 'HTLT', 'RelMET', 'SBM', 'SR2', 'DiLepMass', 'SR1']"
      ]
     },
     "execution_count": 11,
     "metadata": {},
     "output_type": "execute_result"
    }
   ],
   "source": [
    "['sample_weight', 'HTLT', 'RelMET', 'SBM', 'SR2', 'DiLepMass', 'SR1', ]"
   ]
  }
 ],
 "metadata": {
  "kernelspec": {
   "display_name": "Python 3",
   "language": "python",
   "name": "python3"
  },
  "language_info": {
   "codemirror_mode": {
    "name": "ipython",
    "version": 3
   },
   "file_extension": ".py",
   "mimetype": "text/x-python",
   "name": "python",
   "nbconvert_exporter": "python",
   "pygments_lexer": "ipython3",
   "version": "3.8.6"
  }
 },
 "nbformat": 4,
 "nbformat_minor": 5
}
