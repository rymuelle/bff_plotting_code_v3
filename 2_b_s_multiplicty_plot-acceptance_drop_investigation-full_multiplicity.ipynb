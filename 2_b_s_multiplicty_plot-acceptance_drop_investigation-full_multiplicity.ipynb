{
 "cells": [
  {
   "cell_type": "code",
   "execution_count": null,
   "id": "4de74035",
   "metadata": {},
   "outputs": [],
   "source": [
    "import pandas as pd\n",
    "import numpy as np\n",
    "import uncertainties as unc\n",
    "from uncertainties import unumpy\n",
    "import matplotlib.pyplot as plt"
   ]
  },
  {
   "cell_type": "code",
   "execution_count": null,
   "id": "2675c63d",
   "metadata": {},
   "outputs": [],
   "source": [
    "from src.plotting_tools.cms_format import cms_format_fig, cms_style\n",
    "cms_style()\n",
    "from src.data_tools.get_file_list import get_file_df\n",
    "from src.data_tools.apply_cuts_v2 import  process_sample\n",
    "from src.plotting_tools.SysHist import make_sys_hist, SysHist\n",
    "from src.assets.lumi import lumi_dict\n",
    "from src.assets.regions import region_and_label"
   ]
  },
  {
   "cell_type": "code",
   "execution_count": null,
   "id": "04bcfbc7",
   "metadata": {},
   "outputs": [],
   "source": [
    "output_dir = '/eos/cms/store/group/phys_exotica/bffZprime/assets_june_23'\n"
   ]
  },
  {
   "cell_type": "code",
   "execution_count": null,
   "id": "882e62d1",
   "metadata": {},
   "outputs": [],
   "source": [
    "def list_from_str(string):\n",
    "    arr = string.strip('][').split(', ')\n",
    "    if '+/-' in arr[0]: arr = [unc.ufloat_fromstr(x) for x in arr]\n",
    "    else: arr = [float(x) for x in arr]\n",
    "    return np.array(arr)"
   ]
  },
  {
   "cell_type": "code",
   "execution_count": null,
   "id": "2715549e",
   "metadata": {},
   "outputs": [],
   "source": [
    "rdf = pd.read_csv(output_dir+\"/data_gen_b_s/multiplicity_eff.csv\")\n",
    "rdf['r_sum'] = rdf.r_sum.apply(list_from_str)\n",
    "rdf['r_err'] = rdf.r_err.apply(list_from_str)\n",
    "rdf['u_sum'] = rdf.u_sum.apply(list_from_str)\n",
    "rdf['r_ratio_ufloat'] = rdf.r_ratio_ufloat.apply(list_from_str)\n",
    "\n",
    "rdf = rdf[ ~((rdf.mass==125) & (rdf.dbs==1.0) & (rdf.era>2016))]\n",
    "# this is necesary because I set zero denoms to 1 previously\n",
    "def set_one_zero(arr): arr[arr==1] = 0\n",
    "rdf.u_sum.apply(set_one_zero)"
   ]
  },
  {
   "cell_type": "code",
   "execution_count": null,
   "id": "102e177e",
   "metadata": {},
   "outputs": [],
   "source": [
    "def select(df, **kwargs):\n",
    "    _df = df\n",
    "    for k, v in kwargs.items():\n",
    "        _df = _df[_df[k]==v]\n",
    "    return _df"
   ]
  },
  {
   "cell_type": "code",
   "execution_count": null,
   "id": "a93f068b",
   "metadata": {},
   "outputs": [],
   "source": [
    "for mul in range(23):\n",
    "    for reg in ['SR1', 'SR2']:\n",
    "        #make era, dbs plot\n",
    "        fig, ax = plt.subplots()\n",
    "        cms_format_fig('Run 2', ax)\n",
    "        #ax.set_ylim(0,25)\n",
    "        ax.set_ylabel('Acceptance')\n",
    "        ax.set_xlabel('$m_{Z^{\\prime}}$ [GeV]')\n",
    "\n",
    "        for c, era in zip(['r', 'g', 'b'], [2016, 2017, 2018]):\n",
    "            trdf = rdf[(rdf.era==era) & (rdf.reg==reg) & (rdf.mass<400) ]\n",
    "            trdf = trdf[(trdf.weight=='sample_weight')]\n",
    "            for ls, dbs in zip(['solid', 'dashed', 'dotted'], trdf.dbs.unique()):\n",
    "                tdrdf = trdf[trdf.dbs==dbs]\n",
    "                tdrdf = tdrdf.sort_values('mass')\n",
    "                r_sum = tdrdf.r_sum.apply(lambda x: x[mul])\n",
    "                r_err = tdrdf.r_err.apply(lambda x: x[mul])\n",
    "                u_sum = tdrdf.u_sum.apply(lambda x: x[mul])\n",
    "                ax.errorbar(tdrdf.mass, r_sum/u_sum, yerr=r_err/u_sum , color=c, ls=ls, label='{} {}'.format(dbs, era))\n",
    "        plt.legend(title='{} {}'.format(mul, reg), ncol=2)\n",
    "        plt.show()\n",
    "        plt.close()"
   ]
  },
  {
   "cell_type": "code",
   "execution_count": null,
   "id": "0e9b8602",
   "metadata": {},
   "outputs": [],
   "source": [
    "# combine multiplicities\n",
    "def sum_via_index(arr, *args):\n",
    "    value = 0\n",
    "    for v in args:\n",
    "        value += arr[v]\n",
    "    return value\n",
    "def ratio_via_index(_df, *args):\n",
    "    r_sum = sum_via_index(_df.r_sum_unp, *args)\n",
    "    u_sum = sum_via_index(_df.u_sum, *args)\n",
    "    return r_sum/u_sum\n",
    "def make_unumpy(row):\n",
    "    return unumpy.uarray(row.r_sum, row.r_err)"
   ]
  },
  {
   "cell_type": "code",
   "execution_count": null,
   "id": "eb448351",
   "metadata": {},
   "outputs": [],
   "source": [
    "accept_list = []\n",
    "for reg in ['SR1', 'SR2']:\n",
    "    for mass in rdf.mass.unique():\n",
    "        print(mass, reg)\n",
    "        tdf = select(rdf, reg=reg, mass=mass)\n",
    "        nera = len(tdf.era.unique())\n",
    "        if nera!=3: continue\n",
    "        tdf['r_sum_unp'] = tdf.apply(make_unumpy, axis=1)    \n",
    "        for weight in rdf.weight.unique():\n",
    "            wtdf = tdf[tdf.weight==weight]\n",
    "            swtdf = wtdf.sum()\n",
    "            reg_mass_dict = {}\n",
    "            reg_mass_dict['0b(1b)'] = ratio_via_index(swtdf, 1, 21)\n",
    "            reg_mass_dict['0b(2b)'] = ratio_via_index(swtdf, 0, 17)\n",
    "            reg_mass_dict['1b'] = ratio_via_index(swtdf, 2, 3, 4, 10)\n",
    "            reg_mass_dict['1s'] = ratio_via_index(swtdf, 5,6)\n",
    "            reg_mass_dict['1b+1s'] = ratio_via_index(swtdf, 7, 8,9, 19)\n",
    "            reg_mass_dict['2b'] = ratio_via_index(swtdf, 11,12,13,14)\n",
    "            reg_mass_dict['2s'] = ratio_via_index(swtdf,  15, 16)\n",
    "            reg_mass_dict['mass'] = mass\n",
    "            reg_mass_dict['reg'] = reg\n",
    "            reg_mass_dict['weight'] = weight\n",
    "            accept_list.append(reg_mass_dict)\n",
    "        \n",
    "        "
   ]
  },
  {
   "cell_type": "code",
   "execution_count": null,
   "id": "ee8e7fef",
   "metadata": {},
   "outputs": [],
   "source": [
    "acc_df = pd.DataFrame(accept_list)"
   ]
  },
  {
   "cell_type": "code",
   "execution_count": null,
   "id": "f346ea2a",
   "metadata": {},
   "outputs": [],
   "source": [
    "acc_df"
   ]
  },
  {
   "cell_type": "code",
   "execution_count": null,
   "id": "1022d624",
   "metadata": {},
   "outputs": [],
   "source": [
    "def plot_reg(ax, _df, key, **kwargs):\n",
    "    _tacc_df = tacc_df.sort_values('mass')\n",
    "    nom, std = unumpy.nominal_values(_tacc_df[key]), unumpy.std_devs(_tacc_df[key])\n",
    "    ax.errorbar(_tacc_df.mass, nom*100, yerr=std*100, **kwargs)"
   ]
  },
  {
   "cell_type": "code",
   "execution_count": null,
   "id": "f9bd685a",
   "metadata": {},
   "outputs": [],
   "source": [
    "for reg in ['SR1', 'SR2']:\n",
    "    tacc_df = acc_df[acc_df.reg==reg]\n",
    "    tacc_df = tacc_df[tacc_df.mass <400]\n",
    "    tacc_df = tacc_df[tacc_df.weight=='sample_weight']\n",
    "    fig, ax = plt.subplots()\n",
    "    cms_format_fig('Run 2', ax)\n",
    "    ax.set_ylim(0,25)\n",
    "    ax.set_ylabel('Acceptance [\\%]')\n",
    "    ax.set_xlabel('$m_{Z^{\\prime}}$ [GeV]')\n",
    "    \n",
    "    plot_reg(ax, tacc_df, '0b(1b)', label='0b(1b)')\n",
    "    plot_reg(ax, tacc_df, '0b(2b)', label='0b(2b)')\n",
    "\n",
    "    plot_reg(ax, tacc_df, '1b', label='1b')\n",
    "    plot_reg(ax, tacc_df, '1s', label='1s')\n",
    "    plot_reg(ax, tacc_df, '1b+1s', label='1b+1s')\n",
    "    plot_reg(ax, tacc_df, '2b', label='2b')\n",
    "    #plot_reg(ax, tacc_df, '2s sample_weight', label='2s')\n",
    "    plt.legend()\n",
    "    plt.ylim(0, 25)\n",
    "    fig.savefig('{}/gen_b_s/{}_acceptance.pdf'.format(output_dir, reg))\n",
    "    plt.show()\n",
    "    plt.clf()"
   ]
  },
  {
   "cell_type": "code",
   "execution_count": null,
   "id": "b2838d41",
   "metadata": {},
   "outputs": [],
   "source": [
    "def print_mass_reg(mass, reg, for_print=False):\n",
    "    def calc_nom(value): return unc.nominal_value(value)\n",
    "    def calc_std(value): return unc.std_dev(value)\n",
    "    if for_print: \n",
    "        def format_value(value): return \"{:.2f}%\".format(value*100)\n",
    "    else: \n",
    "        def format_value(value): return value\n",
    "    tdf = acc_df[(acc_df.mass==mass) & (acc_df.reg==reg)]\n",
    "    keys = tdf.filter(regex='ratio').keys()\n",
    "    weights = ['Weight_ISRFSR_Up', 'Weight_ISRFSR_Down', 'Weight_PDF_Up', 'Weight_PDF_Down']\n",
    "    \n",
    "    row_list = []\n",
    "    for key in ['0b(1b)', '0b(2b)', '1b', '1s', '1b+1s', '2b', '2s']:\n",
    "        row_dict = {}\n",
    "        unom = tdf[(tdf.weight=='sample_weight')].iloc[0][key]\n",
    "        nom, std = calc_nom(unom), calc_std(unom) \n",
    "        \n",
    "        row_dict['mass'] = mass\n",
    "        row_dict['reg'] =  reg\n",
    "        row_dict['type'] = key.replace('_ratio_ufloat', '')\n",
    "        row_dict['acceptance'] = format_value(nom)\n",
    "        row_dict['statistical'] = format_value(std)\n",
    "        for w in weights:\n",
    "            sunom = tdf[(tdf.weight==w)].iloc[0][key]\n",
    "            snom = calc_nom(sunom)\n",
    "            row_dict[w] = format_value((snom-nom))\n",
    "            #row_dict[w] = format_value((nom*.05))\n",
    "        row_list.append(row_dict)        \n",
    "    return row_list"
   ]
  },
  {
   "cell_type": "code",
   "execution_count": null,
   "id": "5608b3cd",
   "metadata": {},
   "outputs": [],
   "source": [
    "row_lists = []\n",
    "for mass in [125, 150, 175, 200, 250, 300, 350]:\n",
    "    for reg in ['SR1', \"SR2\"]:\n",
    "        row_lists += print_mass_reg(mass, reg)\n",
    "print_df = pd.DataFrame(row_lists)"
   ]
  },
  {
   "cell_type": "code",
   "execution_count": null,
   "id": "d9441911",
   "metadata": {},
   "outputs": [],
   "source": [
    "print_df"
   ]
  },
  {
   "cell_type": "code",
   "execution_count": null,
   "id": "e79efcda",
   "metadata": {},
   "outputs": [],
   "source": [
    "print_df.to_csv(output_dir+\"/data_gen_b_s/summary_df.csv\")"
   ]
  },
  {
   "cell_type": "code",
   "execution_count": null,
   "id": "88e3b80b",
   "metadata": {},
   "outputs": [],
   "source": [
    "row_lists = []\n",
    "for mass in [125, 150, 175, 200, 250, 300, 350]:\n",
    "    for reg in ['SR1', \"SR2\"]:\n",
    "        row_lists += print_mass_reg(mass, reg, for_print=True)\n",
    "print_df = pd.DataFrame(row_lists)"
   ]
  },
  {
   "cell_type": "code",
   "execution_count": null,
   "id": "a1d7263d",
   "metadata": {
    "scrolled": false
   },
   "outputs": [],
   "source": [
    "print(print_df.to_latex(index=False))"
   ]
  },
  {
   "cell_type": "code",
   "execution_count": null,
   "id": "a848fede",
   "metadata": {
    "scrolled": false
   },
   "outputs": [],
   "source": [
    "for t in print_df.type.unique():\n",
    "    print(print_df[print_df.type==t].to_latex(index=False))"
   ]
  },
  {
   "cell_type": "code",
   "execution_count": null,
   "id": "e33ecb24",
   "metadata": {},
   "outputs": [],
   "source": []
  }
 ],
 "metadata": {
  "kernelspec": {
   "display_name": "bff_12_1",
   "language": "python",
   "name": "bff_12_1"
  },
  "language_info": {
   "codemirror_mode": {
    "name": "ipython",
    "version": 3
   },
   "file_extension": ".py",
   "mimetype": "text/x-python",
   "name": "python",
   "nbconvert_exporter": "python",
   "pygments_lexer": "ipython3",
   "version": "3.9.6"
  }
 },
 "nbformat": 4,
 "nbformat_minor": 5
}
