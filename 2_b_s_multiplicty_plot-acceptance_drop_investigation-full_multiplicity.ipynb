{
 "cells": [
  {
   "cell_type": "code",
   "execution_count": null,
   "id": "4de74035",
   "metadata": {},
   "outputs": [],
   "source": [
    "import pandas as pd\n",
    "import numpy as np\n",
    "import uncertainties as unc\n",
    "from uncertainties import unumpy\n",
    "import matplotlib.pyplot as plt"
   ]
  },
  {
   "cell_type": "code",
   "execution_count": null,
   "id": "2675c63d",
   "metadata": {},
   "outputs": [],
   "source": [
    "from src.plotting_tools.cms_format import cms_format_fig, cms_style\n",
    "cms_style()\n",
    "from src.data_tools.get_file_list import get_file_df\n",
    "from src.data_tools.apply_cuts_v2 import  process_sample\n",
    "from src.plotting_tools.SysHist import make_sys_hist, SysHist\n",
    "from src.assets.lumi import lumi_dict\n",
    "from src.assets.regions import region_and_label"
   ]
  },
  {
   "cell_type": "code",
   "execution_count": null,
   "id": "04bcfbc7",
   "metadata": {},
   "outputs": [],
   "source": [
    "from src.assets.output_dir import output_dir\n",
    "outdir = output_dir\n",
    "era = '2018'"
   ]
  },
  {
   "cell_type": "code",
   "execution_count": null,
   "id": "882e62d1",
   "metadata": {},
   "outputs": [],
   "source": [
    "def list_from_str(string):\n",
    "    arr = string.strip('][').split(', ')\n",
    "    if '+/-' in arr[0]: arr = [unc.ufloat_fromstr(x) for x in arr]\n",
    "    else: arr = [float(x) for x in arr]\n",
    "    return np.array(arr)"
   ]
  },
  {
   "cell_type": "code",
   "execution_count": null,
   "id": "2715549e",
   "metadata": {},
   "outputs": [],
   "source": [
    "rdf = pd.read_csv(output_dir+\"/data_gen_b_s/multiplicity_eff.csv\")\n",
    "rdf['r_sum'] = rdf.r_sum.apply(list_from_str)\n",
    "rdf['r_err'] = rdf.r_err.apply(list_from_str)\n",
    "rdf['u_sum'] = rdf.u_sum.apply(list_from_str)\n",
    "rdf['r_ratio_ufloat'] = rdf.r_ratio_ufloat.apply(list_from_str)\n",
    "\n",
    "rdf = rdf[ ~((rdf.mass==125) & (rdf.dbs==1.0) & (rdf.era>2016))]\n",
    "\n",
    "#rdf = rdf[rdf.era==2016]\n",
    "# this is necesary because I set zero denoms to 1 previously\n",
    "def set_one_zero(arr): arr[arr==1] = 0\n",
    "rdf.u_sum.apply(set_one_zero)"
   ]
  },
  {
   "cell_type": "code",
   "execution_count": null,
   "id": "102e177e",
   "metadata": {},
   "outputs": [],
   "source": [
    "def select(df, **kwargs):\n",
    "    _df = df\n",
    "    for k, v in kwargs.items():\n",
    "        _df = _df[_df[k]==v]\n",
    "    return _df"
   ]
  },
  {
   "cell_type": "code",
   "execution_count": null,
   "id": "a93f068b",
   "metadata": {
    "scrolled": true
   },
   "outputs": [],
   "source": [
    "for mul in range(23):\n",
    "    for reg in ['SR1', 'SR2']:\n",
    "        #make era, dbs plot\n",
    "        fig, ax = plt.subplots()\n",
    "        cms_format_fig('Run 2', ax, \"\\emph{Simulation}\")\n",
    "        #ax.set_ylim(0,25)\n",
    "        ax.set_ylabel('Acceptance')\n",
    "        ax.set_xlabel('$m_{Z^{\\prime}}$ [GeV]')\n",
    "\n",
    "        for c, era in zip(['r', 'g', 'b'], [2016, 2017, 2018]):\n",
    "            trdf = rdf[(rdf.era==era) & (rdf.reg==reg) & (rdf.mass<400) ]\n",
    "            trdf = trdf[(trdf.weight=='sample_weight')]\n",
    "            for ls, dbs in zip(['solid', 'dashed', 'dotted'], trdf.dbs.unique()):\n",
    "                tdrdf = trdf[trdf.dbs==dbs]\n",
    "                tdrdf = tdrdf.sort_values('mass')\n",
    "                r_sum = tdrdf.r_sum.apply(lambda x: x[mul])\n",
    "                r_err = tdrdf.r_err.apply(lambda x: x[mul])\n",
    "                u_sum = tdrdf.u_sum.apply(lambda x: x[mul])\n",
    "                ax.errorbar(tdrdf.mass, r_sum/u_sum, yerr=r_err/u_sum , color=c, ls=ls, label='{} {}'.format(dbs, era))\n",
    "        plt.legend(title='{} {}'.format(mul, reg), ncol=2)\n",
    "        plt.show()\n",
    "        plt.close()"
   ]
  },
  {
   "cell_type": "code",
   "execution_count": null,
   "id": "0e9b8602",
   "metadata": {},
   "outputs": [],
   "source": [
    "# combine multiplicities\n",
    "def sum_via_index(arr, *args):\n",
    "    value = 0\n",
    "    for v in args:\n",
    "        value += arr[v]\n",
    "    return value\n",
    "def ratio_via_index(_df, *args):\n",
    "    r_sum = sum_via_index(_df.r_sum_unp, *args)\n",
    "    u_sum = sum_via_index(_df.u_sum, *args)\n",
    "    return r_sum/u_sum\n",
    "def make_unumpy(row):\n",
    "    return unumpy.uarray(row.r_sum, row.r_err)"
   ]
  },
  {
   "cell_type": "code",
   "execution_count": null,
   "id": "9f2c623b",
   "metadata": {},
   "outputs": [],
   "source": [
    "trdf = rdf[(rdf.mass==200) & (rdf.dbs==1.0) & (rdf.weight==\"sample_weight\") & (rdf.reg==\"SR2\")]\n",
    "total = trdf.r_sum.iloc[0].sum()\n",
    "[(i, x/total) for i, x in enumerate(trdf.r_sum.iloc[0])]"
   ]
  },
  {
   "cell_type": "code",
   "execution_count": null,
   "id": "dbec1644",
   "metadata": {},
   "outputs": [],
   "source": [
    "trdf = rdf[(rdf.mass==200) & (rdf.dbs==0.5) & (rdf.weight==\"sample_weight\") & (rdf.reg==\"SR2\")]\n",
    "total = trdf.r_sum.iloc[0].sum()\n",
    "[(i, x/total) for i, x in enumerate(trdf.r_sum.iloc[0])]"
   ]
  },
  {
   "cell_type": "code",
   "execution_count": null,
   "id": "9dedbf65",
   "metadata": {},
   "outputs": [],
   "source": [
    "trdf = rdf[(rdf.mass==200) & (rdf.dbs==0.04) & (rdf.weight==\"sample_weight\") & (rdf.reg==\"SR2\")]\n",
    "total = trdf.r_sum.iloc[0].sum()\n",
    "[(i, x/total) for i, x in enumerate(trdf.r_sum.iloc[0])]"
   ]
  },
  {
   "cell_type": "code",
   "execution_count": null,
   "id": "eb448351",
   "metadata": {},
   "outputs": [],
   "source": [
    "accept_list = []\n",
    "for reg in ['SR1', 'SR2']:\n",
    "    for mass in rdf.mass.unique():\n",
    "        print(mass, reg)\n",
    "        tdf = select(rdf, reg=reg, mass=mass)\n",
    "        nera = len(tdf.era.unique())\n",
    "        if nera!=3: continue\n",
    "        tdf['r_sum_unp'] = tdf.apply(make_unumpy, axis=1)    \n",
    "        for weight in rdf.weight.unique():\n",
    "            wtdf = tdf[tdf.weight==weight]\n",
    "            swtdf = wtdf.sum()\n",
    "            reg_mass_dict = {}\n",
    "            reg_mass_dict['0b(1b)'] = ratio_via_index(swtdf,  1, 21)\n",
    "            reg_mass_dict['0b(2b)'] = ratio_via_index(swtdf, 0, 17)\n",
    "            reg_mass_dict['1b'] = ratio_via_index(swtdf, 2, 3, 4, 10)\n",
    "            reg_mass_dict['1s'] = ratio_via_index(swtdf, 5,6)\n",
    "            reg_mass_dict['1b+1s'] = ratio_via_index(swtdf, 7, 8,9, 19)\n",
    "            reg_mass_dict['2b'] = ratio_via_index(swtdf, 11,12,13,14)\n",
    "            reg_mass_dict['2s'] = ratio_via_index(swtdf,  15, 16)\n",
    "            reg_mass_dict['mass'] = mass\n",
    "            reg_mass_dict['reg'] = reg\n",
    "            reg_mass_dict['weight'] = weight\n",
    "            accept_list.append(reg_mass_dict)\n",
    "        \n",
    "        "
   ]
  },
  {
   "cell_type": "code",
   "execution_count": null,
   "id": "ee8e7fef",
   "metadata": {},
   "outputs": [],
   "source": [
    "acc_df = pd.DataFrame(accept_list)"
   ]
  },
  {
   "cell_type": "code",
   "execution_count": null,
   "id": "1022d624",
   "metadata": {},
   "outputs": [],
   "source": [
    "def plot_reg(ax, _df, key, **kwargs):\n",
    "    _tacc_df = tacc_df.sort_values('mass')\n",
    "    nom, std = unumpy.nominal_values(_tacc_df[key]), unumpy.std_devs(_tacc_df[key])\n",
    "    ax.errorbar(_tacc_df.mass, nom*100, yerr=std*100, **kwargs)"
   ]
  },
  {
   "cell_type": "code",
   "execution_count": null,
   "id": "f9bd685a",
   "metadata": {},
   "outputs": [],
   "source": [
    "for reg in ['SR1', 'SR2']:\n",
    "    tacc_df = acc_df[acc_df.reg==reg]\n",
    "    tacc_df = tacc_df[tacc_df.mass <400]\n",
    "    tacc_df = tacc_df[tacc_df.weight=='sample_weight']\n",
    "    fig, ax = plt.subplots()\n",
    "    cms_format_fig('Run 2', ax, \"\\emph{Simulation}\")\n",
    "    ax.set_ylim(0,25)\n",
    "    ax.set_ylabel('Acceptance [\\%]')\n",
    "    ax.set_xlabel('$m_{Z^{\\prime}}$ [GeV]')\n",
    "    \n",
    "    plot_reg(ax, tacc_df, '0b(1b)', label='0b(1b)')\n",
    "    plot_reg(ax, tacc_df, '0b(2b)', label='0b(2b)')\n",
    "\n",
    "    plot_reg(ax, tacc_df, '1b', label='1b')\n",
    "    plot_reg(ax, tacc_df, '1s', label='1s')\n",
    "    plot_reg(ax, tacc_df, '1b+1s', label='1b+1s')\n",
    "    plot_reg(ax, tacc_df, '2b', label='2b')\n",
    "    #plot_reg(ax, tacc_df, '2s', label='2s')\n",
    "    plt.legend()\n",
    "    plt.ylim(0, 25)\n",
    "    fig.savefig('{}/gen_b_s/{}_acceptance.pdf'.format(output_dir, reg))\n",
    "    plt.show()\n",
    "    plt.clf()"
   ]
  },
  {
   "cell_type": "code",
   "execution_count": null,
   "id": "5ae757da",
   "metadata": {},
   "outputs": [],
   "source": [
    "'{}/gen_b_s/{}_acceptance.pdf'.format(output_dir, \"SR1\")"
   ]
  },
  {
   "cell_type": "code",
   "execution_count": null,
   "id": "b2838d41",
   "metadata": {},
   "outputs": [],
   "source": [
    "def print_mass_reg(mass, reg, for_print=False):\n",
    "    def calc_nom(value): return unc.nominal_value(value)\n",
    "    def calc_std(value): return unc.std_dev(value)\n",
    "    if for_print: \n",
    "        def format_value(value): return \"{:.2f}%\".format(value*100)\n",
    "    else: \n",
    "        def format_value(value): return value\n",
    "    tdf = acc_df[(acc_df.mass==mass) & (acc_df.reg==reg)]\n",
    "    keys = tdf.filter(regex='ratio').keys()\n",
    "    weights = ['Weight_ISRFSR_Up', 'Weight_ISRFSR_Down', 'Weight_PDF_Up', 'Weight_PDF_Down']\n",
    "    \n",
    "    row_list = []\n",
    "    for key in ['0b(1b)', '0b(2b)', '1b', '1s', '1b+1s', '2b', '2s']:\n",
    "        row_dict = {}\n",
    "        unom = tdf[(tdf.weight=='sample_weight')].iloc[0][key]\n",
    "        nom, std = calc_nom(unom), calc_std(unom) \n",
    "        \n",
    "        row_dict['mass'] = mass\n",
    "        row_dict['reg'] =  reg\n",
    "        row_dict['type'] = key.replace('_ratio_ufloat', '')\n",
    "        row_dict['acceptance'] = format_value(nom)\n",
    "        row_dict['statistical'] = format_value(std)\n",
    "        for w in weights:\n",
    "            sunom = tdf[(tdf.weight==w)].iloc[0][key]\n",
    "            snom = calc_nom(sunom)\n",
    "            row_dict[w] = format_value((snom-nom))\n",
    "            #row_dict[w] = format_value((nom*.05))\n",
    "        row_list.append(row_dict) \n",
    "    #null case with 100% acceptance\n",
    "    row_list.append({'mass': mass, 'reg': reg, \"type\": 'shape', 'acceptance': 1, 'statistical': 0, \n",
    "                     **{w: 0 for w in weights}}) \n",
    "    return row_list"
   ]
  },
  {
   "cell_type": "code",
   "execution_count": null,
   "id": "5608b3cd",
   "metadata": {},
   "outputs": [],
   "source": [
    "row_lists = []\n",
    "for mass in [125, 150, 175, 200, 250, 300, 350]:\n",
    "    for reg in ['SR1', \"SR2\"]:\n",
    "        row_lists += print_mass_reg(mass, reg)\n",
    "print_df = pd.DataFrame(row_lists)"
   ]
  },
  {
   "cell_type": "code",
   "execution_count": null,
   "id": "d9441911",
   "metadata": {},
   "outputs": [],
   "source": [
    "print_df"
   ]
  },
  {
   "cell_type": "code",
   "execution_count": null,
   "id": "e79efcda",
   "metadata": {},
   "outputs": [],
   "source": [
    "print_df.to_csv(output_dir+\"/data_gen_b_s/summary_df.csv\")"
   ]
  },
  {
   "cell_type": "code",
   "execution_count": null,
   "id": "cb59f572",
   "metadata": {},
   "outputs": [],
   "source": [
    "print_df"
   ]
  },
  {
   "cell_type": "code",
   "execution_count": null,
   "id": "4c7b46e7",
   "metadata": {},
   "outputs": [],
   "source": [
    "def sys_range(row):\n",
    "    fsr = sorted([row.Weight_ISRFSR_Up*100, row.Weight_ISRFSR_Down*100])\n",
    "    pdf = sorted([row.Weight_PDF_Up*100, row.Weight_PDF_Down*100])\n",
    "    return [pdf[0]+fsr[0], pdf[1]+fsr[1]]"
   ]
  },
  {
   "cell_type": "code",
   "execution_count": null,
   "id": "7dbfa6cb",
   "metadata": {
    "scrolled": true
   },
   "outputs": [],
   "source": [
    "types = print_df.type.unique()\n",
    "acc_list =[]\n",
    "for reg in ['SR1', \"SR2\"]:\n",
    "    for mass in [125, 150, 175, 200, 250, 300, 350]:\n",
    "        tdf = print_df[(print_df.mass==mass) & (print_df.reg==reg)]\n",
    "        fstype = tdf.type\n",
    "        acc_string = tdf.apply(lambda x: \"${:.2f}\\pm{:.2f}_{{{:.2f}}}^{{{:.2f}}}$\".format(x.acceptance*100, x.statistical*100, *sys_range(x)), axis=1)\n",
    "        acc_dict = {t: a for t,a in zip(fstype, acc_string)}\n",
    "        acc_dict['mass'] = mass\n",
    "        acc_dict['reg'] = reg\n",
    "        acc_list.append(acc_dict)\n",
    "        \n",
    "acc_df = pd.DataFrame(acc_list)"
   ]
  },
  {
   "cell_type": "code",
   "execution_count": null,
   "id": "a3e565ae",
   "metadata": {},
   "outputs": [],
   "source": [
    "print(acc_df[acc_df.reg=='SR1'][['mass', '0b(1b)', '0b(2b)', '1b', '1s', '1b+1s', '2b', '2s']].to_latex(index=False, escape=False))"
   ]
  },
  {
   "cell_type": "code",
   "execution_count": null,
   "id": "678281c6",
   "metadata": {},
   "outputs": [],
   "source": [
    "print(acc_df[acc_df.reg=='SR1'][['mass', '0b(1b)', '0b(2b)']].to_latex(index=False, escape=False))\n",
    "\n",
    "print(acc_df[acc_df.reg=='SR1'][['mass', '1b', '1s']].to_latex(index=False, escape=False))\n",
    "\n",
    "print(acc_df[acc_df.reg=='SR1'][['mass', '1b+1s', '2b', '2s']].to_latex(index=False, escape=False))"
   ]
  },
  {
   "cell_type": "code",
   "execution_count": null,
   "id": "778c1545",
   "metadata": {},
   "outputs": [],
   "source": [
    "print(acc_df[acc_df.reg=='SR2'][['mass', '0b(1b)', '0b(2b)']].to_latex(index=False, escape=False))\n",
    "\n",
    "print(acc_df[acc_df.reg=='SR2'][['mass', '1b', '1s']].to_latex(index=False, escape=False))\n",
    "\n",
    "print(acc_df[acc_df.reg=='SR2'][['mass', '1b+1s', '2b', '2s']].to_latex(index=False, escape=False))"
   ]
  },
  {
   "cell_type": "code",
   "execution_count": null,
   "id": "b4063ffa",
   "metadata": {},
   "outputs": [],
   "source": [
    "for fstype in [ '0b(1b)', '0b(2b)', '1b', '1s', '1b+1s', '2b', '2s']:\n",
    "    tdf = acc_df[['mass', 'reg', fstype]]\n",
    "\n",
    "    from src.assets.regions import region_and_label_AN\n",
    "    \n",
    "    tdf1 = tdf[tdf.reg=='SR1'].set_index(\"mass\")\n",
    "    tdf1 = tdf1.rename(columns={fstype: \"{}\".format(region_and_label_AN['SR1'])})\n",
    "    \n",
    "    tdf2 = tdf[tdf.reg=='SR2'].set_index(\"mass\")\n",
    "    tdf2 = tdf2.rename(columns={fstype: \"{}\".format(region_and_label_AN['SR2'])})\n",
    "    print(\"% {}\".format(fstype))\n",
    "    print(pd.concat([tdf1,tdf2], axis=1).reset_index()[['mass', '\\SR', '\\SRTwo']].to_latex(index=False, escape=False))"
   ]
  },
  {
   "cell_type": "code",
   "execution_count": null,
   "id": "95616149",
   "metadata": {},
   "outputs": [],
   "source": [
    "sys_range_value  = print_df.apply(lambda x: [v/x.acceptance for v in sys_range(x)], axis=1)"
   ]
  },
  {
   "cell_type": "code",
   "execution_count": null,
   "id": "af1b24b4",
   "metadata": {},
   "outputs": [],
   "source": [
    "np.min(sys_range_value), np.max(sys_range_value)"
   ]
  },
  {
   "cell_type": "code",
   "execution_count": null,
   "id": "a1279907",
   "metadata": {},
   "outputs": [],
   "source": [
    "sys_range_value"
   ]
  },
  {
   "cell_type": "code",
   "execution_count": null,
   "id": "006469ca",
   "metadata": {},
   "outputs": [],
   "source": [
    "tpdf = print_df[print_df.type!='shape']\n",
    "relative_isrfsr = tpdf[['Weight_ISRFSR_Up', 'Weight_ISRFSR_Down']].divide(tpdf.acceptance, axis=0)"
   ]
  },
  {
   "cell_type": "code",
   "execution_count": null,
   "id": "7371867b",
   "metadata": {},
   "outputs": [],
   "source": [
    "min(relative_isrfsr.Weight_ISRFSR_Up - relative_isrfsr.Weight_ISRFSR_Down)"
   ]
  },
  {
   "cell_type": "code",
   "execution_count": null,
   "id": "8fc9c514",
   "metadata": {},
   "outputs": [],
   "source": [
    "max(relative_isrfsr.Weight_ISRFSR_Up - relative_isrfsr.Weight_ISRFSR_Down)"
   ]
  },
  {
   "cell_type": "code",
   "execution_count": null,
   "id": "29a6c747",
   "metadata": {},
   "outputs": [],
   "source": [
    "tpdf[((relative_isrfsr.Weight_ISRFSR_Up - relative_isrfsr.Weight_ISRFSR_Down)>.1)]"
   ]
  },
  {
   "cell_type": "code",
   "execution_count": null,
   "id": "0eb9f08b",
   "metadata": {},
   "outputs": [],
   "source": [
    "(0.000084)/0.001192"
   ]
  },
  {
   "cell_type": "code",
   "execution_count": null,
   "id": "66337174",
   "metadata": {},
   "outputs": [],
   "source": []
  }
 ],
 "metadata": {
  "kernelspec": {
   "display_name": "bff_12_1",
   "language": "python",
   "name": "bff_12_1"
  },
  "language_info": {
   "codemirror_mode": {
    "name": "ipython",
    "version": 3
   },
   "file_extension": ".py",
   "mimetype": "text/x-python",
   "name": "python",
   "nbconvert_exporter": "python",
   "pygments_lexer": "ipython3",
   "version": "3.9.6"
  }
 },
 "nbformat": 4,
 "nbformat_minor": 5
}
