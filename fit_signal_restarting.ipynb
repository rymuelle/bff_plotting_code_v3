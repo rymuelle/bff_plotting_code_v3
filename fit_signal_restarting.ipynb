{
 "cells": [
  {
   "cell_type": "code",
   "execution_count": null,
   "id": "2b2d8e9f-99a4-48fb-b704-e383081d4c7f",
   "metadata": {},
   "outputs": [],
   "source": [
    "%load_ext autoreload\n",
    "%autoreload 2"
   ]
  },
  {
   "cell_type": "code",
   "execution_count": null,
   "id": "ea300d24-f891-4835-8c93-80bf99cbdab5",
   "metadata": {},
   "outputs": [],
   "source": [
    "import pickle\n",
    "import numpy as np\n",
    "import matplotlib.pyplot as plt\n",
    "import zfit\n",
    "from zfit import z"
   ]
  },
  {
   "cell_type": "code",
   "execution_count": null,
   "id": "ab25f9d6-d4c8-41b7-b9c6-871f1122827d",
   "metadata": {},
   "outputs": [],
   "source": [
    "import mplhep as hep\n",
    "hep.style.use(hep.style.CMS)\n",
    "plt.rcParams.update({\n",
    "    \"text.usetex\": True,\n",
    "})"
   ]
  },
  {
   "cell_type": "code",
   "execution_count": null,
   "id": "6fd342a3-df0e-495d-8619-bc3f9a9f9ba6",
   "metadata": {},
   "outputs": [],
   "source": [
    "from plotting_meta.plotting_meta import bins\n",
    "\n",
    "from bff_plotting_tools.make_hists import make_sys\n",
    "from bff_plotting_tools.data_getter import get_data\n",
    "\n",
    "from bff_signal_model.bff_signal_model import bff_signal_model, reset_params, mu"
   ]
  },
  {
   "cell_type": "code",
   "execution_count": null,
   "id": "af6fd049-32d5-4002-b3d6-720e2a653ddc",
   "metadata": {},
   "outputs": [],
   "source": [
    "era = '2018'\n",
    "df, lumi = get_data(era)\n",
    "compute_hesse=True\n",
    "masses = np.unique(df[df.type=='sig'].mass)\n",
    "binning_type = 'split'"
   ]
  },
  {
   "cell_type": "code",
   "execution_count": null,
   "id": "6772cbf6-f7b4-4229-8ff7-1b848c9f3f9e",
   "metadata": {},
   "outputs": [],
   "source": [
    "obs = zfit.Space(\"x\", limits=bins.calc_bin_range())"
   ]
  },
  {
   "cell_type": "code",
   "execution_count": null,
   "id": "01a3aefe-0a28-4939-9ec2-cff1f9701c33",
   "metadata": {},
   "outputs": [],
   "source": [
    "# make histograms\n",
    "hist_dict = {}\n",
    "bck_dict = {}\n",
    "for reg in ['SR1','SR2']:\n",
    "    print('reg', reg)\n",
    "    hist_dict[reg] = {} \n",
    "    bck_dict[reg] = make_sys(df[(df.type=='bck')], 'DiLepMass', reg)\n",
    "    for mass in masses:\n",
    "        mass = int(mass)\n",
    "        print(\"\\tmass\", mass)\n",
    "        mass_dict = {}\n",
    "        hist = make_sys(df[(df.mass==mass) & (df.dbs==0.04)], 'DiLepMass', reg)\n",
    "        normalization = np.sum(hist.nominal)\n",
    "        sm = bff_signal_model(obs, mu=mass)\n",
    "        fit_hist = sm.make_hist(bins, normalization, tail_percent=1, constant_percent=.20)  \n",
    "        mass_dict['mc'] =  hist\n",
    "        mass_dict['fit'] = fit_hist\n",
    "        hist_dict[reg][mass] = mass_dict"
   ]
  },
  {
   "cell_type": "code",
   "execution_count": null,
   "id": "c907cdfb-3b8c-4133-befe-cb7de99bcc53",
   "metadata": {
    "tags": []
   },
   "outputs": [],
   "source": [
    "# make non-density plots\n",
    "for reg, reg_dict in hist_dict.items():\n",
    "    bck = bck_dict[reg]\n",
    "    for mass, mass_dict in reg_dict.items():\n",
    "        hist = mass_dict['mc']\n",
    "        fit_hist = mass_dict['fit']\n",
    "        fig, ax = plt.subplots(figsize=(10,10))\n",
    "        bck.draw(ax, color='green', label='MC bck')\n",
    "        hist.draw(ax, color='red', label='MC')\n",
    "        fit_hist.draw(ax, color='blue', label='parametric')\n",
    "        ax.set_yscale('log')\n",
    "        ax.set_ylabel('Events per GeV')\n",
    "        ax.set_xlabel('DiLepMass [GeV]')\n",
    "        ax.set_ylim(bottom=1e-2, top=1e4)\n",
    "        ax.legend(title = '{} {} GeV'.format(reg, mass))\n",
    "        fig.savefig('fits/bff/{}_binning_{}_{}_{}.png'.format(binning_type, era, reg, mass))"
   ]
  },
  {
   "cell_type": "code",
   "execution_count": null,
   "id": "ac3f3cb9-86df-4cdc-b65d-8e0dcdca11ab",
   "metadata": {},
   "outputs": [],
   "source": [
    "# make density plots\n",
    "for reg, reg_dict in hist_dict.items():\n",
    "    bck = bck_dict[reg]\n",
    "    for mass, mass_dict in reg_dict.items():\n",
    "        hist = mass_dict['mc']\n",
    "        fit_hist = mass_dict['fit']\n",
    "        fig, ax = plt.subplots(figsize=(10,10))\n",
    "        bck.make_density_hist().draw(ax, color='green', label='MC bck')\n",
    "        hist.make_density_hist().draw(ax, color='red', label='MC')\n",
    "        fit_hist.make_density_hist().draw(ax, color='blue', label='parametric')\n",
    "        ax.set_yscale('log')\n",
    "        ax.set_ylabel('Events per GeV')\n",
    "        ax.set_xlabel('DiLepMass [GeV]')\n",
    "        ax.set_ylim(bottom=1e-2, top=1e4)\n",
    "        ax.legend(title = '{} {} GeV'.format(reg, mass))\n",
    "        fig.savefig('fits/bff/{}_binning_density_{}_{}_{}.png'.format(binning_type, era, reg, mass))"
   ]
  },
  {
   "cell_type": "code",
   "execution_count": null,
   "id": "419ee8af-7883-4db5-9f62-be9f91f04d09",
   "metadata": {},
   "outputs": [],
   "source": [
    "# make density plots\n",
    "for reg, reg_dict in hist_dict.items():\n",
    "    for mass, mass_dict in reg_dict.items():\n",
    "        hist = mass_dict['mc']\n",
    "        fit_hist = mass_dict['fit']\n",
    "        fig, ax = plt.subplots(figsize=(10,10))\n",
    "        hist.calc_ratio(hist.nominal).draw(ax, color='red', label='MC')\n",
    "        fit_hist.calc_ratio(fit_hist.nominal).draw(ax, color='blue', label='parametric')\n",
    "        #ax.set_yscale('log')\n",
    "        ax.set_ylabel('Ratio with nominal')\n",
    "        ax.set_xlabel('DiLepMass [GeV]')\n",
    "        ax.set_ylim(bottom=0, top=2)\n",
    "        ax.legend(title = '{} {} GeV'.format(reg, mass))\n",
    "        fig.savefig('fits/bff/{}_binning_ratio_{}_{}_{}.png'.format(binning_type, era, reg, mass))"
   ]
  }
 ],
 "metadata": {
  "kernelspec": {
   "display_name": "bff_env",
   "language": "python",
   "name": "bff_env"
  },
  "language_info": {
   "codemirror_mode": {
    "name": "ipython",
    "version": 3
   },
   "file_extension": ".py",
   "mimetype": "text/x-python",
   "name": "python",
   "nbconvert_exporter": "python",
   "pygments_lexer": "ipython3",
   "version": "3.8.10"
  }
 },
 "nbformat": 4,
 "nbformat_minor": 5
}
