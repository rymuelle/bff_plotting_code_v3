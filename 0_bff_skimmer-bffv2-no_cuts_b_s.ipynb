{
 "cells": [
  {
   "cell_type": "code",
   "execution_count": 1,
   "id": "interesting-native",
   "metadata": {},
   "outputs": [
    {
     "name": "stdout",
     "output_type": "stream",
     "text": [
      "Welcome to JupyROOT 6.22/09\n"
     ]
    }
   ],
   "source": [
    "from __future__ import print_function\n",
    "from glob import glob\n",
    "from ROOT import vector, RDataFrame, RDF, TFile, TH1F, TH2F, gInterpreter, TMath\n",
    "#import ROOT\n",
    "import sys\n",
    "import yaml\n",
    "from src.RDF_tools.cpp_function import def_cpp\n",
    "from src.general.utils import toVector, get_files, prep_filelist\n",
    "import pandas as pd\n",
    "from time import perf_counter\n",
    "import uproot\n",
    "from pathlib import Path\n",
    "from os.path import exists\n",
    "from src.general.make_noise import beep_on_error, beep_repeat\n",
    "beep_on_error()"
   ]
  },
  {
   "cell_type": "code",
   "execution_count": 2,
   "id": "e7aff722",
   "metadata": {},
   "outputs": [],
   "source": [
    "from src.RDF_tools.df_definitions import *"
   ]
  },
  {
   "cell_type": "code",
   "execution_count": 3,
   "id": "f9463424",
   "metadata": {},
   "outputs": [],
   "source": [
    "%load_ext autoreload\n",
    "%autoreload 2"
   ]
  },
  {
   "cell_type": "code",
   "execution_count": 4,
   "id": "concrete-sociology",
   "metadata": {
    "scrolled": true
   },
   "outputs": [
    {
     "data": {
      "text/plain": [
       "True"
      ]
     },
     "execution_count": 4,
     "metadata": {},
     "output_type": "execute_result"
    }
   ],
   "source": [
    "# Compile functions in c++ for the dataframe\n",
    "def_cpp()"
   ]
  },
  {
   "cell_type": "code",
   "execution_count": 5,
   "id": "artistic-orlando",
   "metadata": {},
   "outputs": [],
   "source": [
    "#set up multithreading\n",
    "multiThreading = False\n",
    "if multiThreading: \n",
    "    import ROOT\n",
    "    ROOT.ROOT.EnableImplicitMT()\n",
    "RDFrame = RDataFrame"
   ]
  },
  {
   "cell_type": "code",
   "execution_count": 6,
   "id": "f0755a7f",
   "metadata": {},
   "outputs": [],
   "source": [
    "output_dir = 'assets_feb_23'"
   ]
  },
  {
   "cell_type": "code",
   "execution_count": 7,
   "id": "female-period",
   "metadata": {},
   "outputs": [
    {
     "data": {
      "text/plain": [
       "('samplesCR_2016_Apr2020.root', 'samples/samplesCR_2016_Apr2020.yml')"
      ]
     },
     "execution_count": 7,
     "metadata": {},
     "output_type": "execute_result"
    }
   ],
   "source": [
    "#set up metadata for files\n",
    "era = '2016'\n",
    "deepflavour = False\n",
    "deepcsv = True\n",
    "extras = False\n",
    "csv_v_flavor=False\n",
    "if era == \"2016\":\n",
    "    fname = \"samplesCR_2016_Apr2020.yml\"\n",
    "    bDiscValue = 0.3093\n",
    "if era == \"2017\":\n",
    "    fname = \"samplesCR_2017_Apr2020.yml\"\n",
    "    bDiscValue = 0.3033\n",
    "if era == \"2018\":\n",
    "    fname = \"samplesCR_2018_Apr2020.yml\"\n",
    "    bDiscValue = 0.2770\n",
    "\n",
    "\n",
    "sampleDir = \"samples\"\n",
    "outname = fname.replace('.yml','.root')\n",
    "fname = \"{}/{}\".format(sampleDir, fname)\n",
    "outname, fname"
   ]
  },
  {
   "cell_type": "code",
   "execution_count": 8,
   "id": "319b3ec6",
   "metadata": {},
   "outputs": [],
   "source": [
    "from src.assets.bff_skimmer_bffv2 import *\n",
    "columns_data, columns_mc, var_postfix = make_columns(era, columns_data)"
   ]
  },
  {
   "cell_type": "code",
   "execution_count": 9,
   "id": "04d22f78",
   "metadata": {},
   "outputs": [
    {
     "data": {
      "text/plain": [
       "['Weight',\n",
       " 'sample_weight',\n",
       " 'TriggerWeight',\n",
       " 'Flag_goodVertices',\n",
       " 'Flag_globalSuperTightHalo2016Filter',\n",
       " 'Flag_HBHENoiseFilter',\n",
       " 'Flag_HBHENoiseIsoFilter',\n",
       " 'Flag_EcalDeadCellTriggerPrimitiveFilter',\n",
       " 'Flag_BadPFMuonFilter',\n",
       " 'Flag_eeBadScFilter',\n",
       " 'Flag_METFilters',\n",
       " 'minGoodJetElDR_jet_nom_muon_corrected_pt_ele_pt',\n",
       " 'minGoodJetMuDR_jet_nom_muon_corrected_pt_ele_pt',\n",
       " 'DiLepMass_jet_nom_muon_corrected_pt_ele_pt',\n",
       " 'HTLT_jet_nom_muon_corrected_pt_ele_pt',\n",
       " 'RelMET_jet_nom_muon_corrected_pt_ele_pt',\n",
       " 'TMB_jet_nom_muon_corrected_pt_ele_pt',\n",
       " 'TMBMin_jet_nom_muon_corrected_pt_ele_pt',\n",
       " 'TMBMax_jet_nom_muon_corrected_pt_ele_pt',\n",
       " 'SR2_jet_nom_muon_corrected_pt_ele_pt',\n",
       " 'SR1_jet_nom_muon_corrected_pt_ele_pt',\n",
       " 'CR10_jet_nom_muon_corrected_pt_ele_pt',\n",
       " 'CR11_jet_nom_muon_corrected_pt_ele_pt',\n",
       " 'CR12_jet_nom_muon_corrected_pt_ele_pt',\n",
       " 'CR13_jet_nom_muon_corrected_pt_ele_pt',\n",
       " 'CR14_jet_nom_muon_corrected_pt_ele_pt',\n",
       " 'SR2_jet_nom_muon_corrected_pt_ele_pt',\n",
       " 'CR20_jet_nom_muon_corrected_pt_ele_pt',\n",
       " 'CR21_jet_nom_muon_corrected_pt_ele_pt',\n",
       " 'CR22_jet_nom_muon_corrected_pt_ele_pt',\n",
       " 'CR23_jet_nom_muon_corrected_pt_ele_pt',\n",
       " 'CR24_jet_nom_muon_corrected_pt_ele_pt',\n",
       " 'nLep_jet_nom_muon_corrected_pt_ele_pt',\n",
       " 'nLowPtLep_jet_nom_muon_corrected_pt_ele_pt',\n",
       " 'HLT_Mu50',\n",
       " 'HLT_TkMu50',\n",
       " 'HLT_DoubleEle33_CaloIdL_MW']"
      ]
     },
     "execution_count": 9,
     "metadata": {},
     "output_type": "execute_result"
    }
   ],
   "source": [
    "columns_data"
   ]
  },
  {
   "cell_type": "code",
   "execution_count": 10,
   "id": "d135de81",
   "metadata": {},
   "outputs": [
    {
     "data": {
      "text/plain": [
       "['Weight_PuUp',\n",
       " 'Weight_PuDown',\n",
       " 'Weight_BTagCorrUp',\n",
       " 'Weight_BTagUncorrUp',\n",
       " 'Weight_BTagCorrDown',\n",
       " 'Weight_BTagUncorrDown',\n",
       " 'Weight_PUIDUp',\n",
       " 'Weight_PUIDDown',\n",
       " 'Weight_PDF_Up',\n",
       " 'Weight_PDF_Down',\n",
       " 'Weight_ISRFSR_Up',\n",
       " 'Weight_ISRFSR_Down',\n",
       " 'Weight_MuonSFUp',\n",
       " 'Weight_MuonSFDown',\n",
       " 'Weight_ElectronSFUp',\n",
       " 'Weight_ElectronSFDown',\n",
       " 'Weight',\n",
       " 'sample_weight',\n",
       " 'TriggerWeight',\n",
       " 'Flag_goodVertices',\n",
       " 'Flag_globalSuperTightHalo2016Filter',\n",
       " 'Flag_HBHENoiseFilter',\n",
       " 'Flag_HBHENoiseIsoFilter',\n",
       " 'Flag_EcalDeadCellTriggerPrimitiveFilter',\n",
       " 'Flag_BadPFMuonFilter',\n",
       " 'Flag_eeBadScFilter',\n",
       " 'Flag_METFilters',\n",
       " 'minGoodJetElDR_jet_nom_muon_corrected_pt_ele_pt',\n",
       " 'minGoodJetMuDR_jet_nom_muon_corrected_pt_ele_pt',\n",
       " 'DiLepMass_jet_nom_muon_corrected_pt_ele_pt',\n",
       " 'HTLT_jet_nom_muon_corrected_pt_ele_pt',\n",
       " 'RelMET_jet_nom_muon_corrected_pt_ele_pt',\n",
       " 'TMB_jet_nom_muon_corrected_pt_ele_pt',\n",
       " 'TMBMin_jet_nom_muon_corrected_pt_ele_pt',\n",
       " 'TMBMax_jet_nom_muon_corrected_pt_ele_pt',\n",
       " 'SR2_jet_nom_muon_corrected_pt_ele_pt',\n",
       " 'SR1_jet_nom_muon_corrected_pt_ele_pt',\n",
       " 'CR10_jet_nom_muon_corrected_pt_ele_pt',\n",
       " 'CR11_jet_nom_muon_corrected_pt_ele_pt',\n",
       " 'CR12_jet_nom_muon_corrected_pt_ele_pt',\n",
       " 'CR13_jet_nom_muon_corrected_pt_ele_pt',\n",
       " 'CR14_jet_nom_muon_corrected_pt_ele_pt',\n",
       " 'SR2_jet_nom_muon_corrected_pt_ele_pt',\n",
       " 'CR20_jet_nom_muon_corrected_pt_ele_pt',\n",
       " 'CR21_jet_nom_muon_corrected_pt_ele_pt',\n",
       " 'CR22_jet_nom_muon_corrected_pt_ele_pt',\n",
       " 'CR23_jet_nom_muon_corrected_pt_ele_pt',\n",
       " 'CR24_jet_nom_muon_corrected_pt_ele_pt',\n",
       " 'nLep_jet_nom_muon_corrected_pt_ele_pt',\n",
       " 'nLowPtLep_jet_nom_muon_corrected_pt_ele_pt',\n",
       " 'Weight_L1Down',\n",
       " 'Weight_L1Up',\n",
       " 'HLT_Mu50',\n",
       " 'HLT_TkMu50',\n",
       " 'HLT_DoubleEle33_CaloIdL_MW',\n",
       " 'minGoodJetElDR_jet_jesTotalUp_muon_corrected_pt_ele_pt',\n",
       " 'minGoodJetMuDR_jet_jesTotalUp_muon_corrected_pt_ele_pt',\n",
       " 'DiLepMass_jet_jesTotalUp_muon_corrected_pt_ele_pt',\n",
       " 'HTLT_jet_jesTotalUp_muon_corrected_pt_ele_pt',\n",
       " 'RelMET_jet_jesTotalUp_muon_corrected_pt_ele_pt',\n",
       " 'TMB_jet_jesTotalUp_muon_corrected_pt_ele_pt',\n",
       " 'TMBMin_jet_jesTotalUp_muon_corrected_pt_ele_pt',\n",
       " 'TMBMax_jet_jesTotalUp_muon_corrected_pt_ele_pt',\n",
       " 'SR2_jet_jesTotalUp_muon_corrected_pt_ele_pt',\n",
       " 'SR1_jet_jesTotalUp_muon_corrected_pt_ele_pt',\n",
       " 'CR10_jet_jesTotalUp_muon_corrected_pt_ele_pt',\n",
       " 'CR11_jet_jesTotalUp_muon_corrected_pt_ele_pt',\n",
       " 'CR12_jet_jesTotalUp_muon_corrected_pt_ele_pt',\n",
       " 'CR13_jet_jesTotalUp_muon_corrected_pt_ele_pt',\n",
       " 'CR14_jet_jesTotalUp_muon_corrected_pt_ele_pt',\n",
       " 'SR2_jet_jesTotalUp_muon_corrected_pt_ele_pt',\n",
       " 'CR20_jet_jesTotalUp_muon_corrected_pt_ele_pt',\n",
       " 'CR21_jet_jesTotalUp_muon_corrected_pt_ele_pt',\n",
       " 'CR22_jet_jesTotalUp_muon_corrected_pt_ele_pt',\n",
       " 'CR23_jet_jesTotalUp_muon_corrected_pt_ele_pt',\n",
       " 'CR24_jet_jesTotalUp_muon_corrected_pt_ele_pt',\n",
       " 'nLep_jet_jesTotalUp_muon_corrected_pt_ele_pt',\n",
       " 'nLowPtLep_jet_jesTotalUp_muon_corrected_pt_ele_pt',\n",
       " 'minGoodJetElDR_jet_jesTotalDown_muon_corrected_pt_ele_pt',\n",
       " 'minGoodJetMuDR_jet_jesTotalDown_muon_corrected_pt_ele_pt',\n",
       " 'DiLepMass_jet_jesTotalDown_muon_corrected_pt_ele_pt',\n",
       " 'HTLT_jet_jesTotalDown_muon_corrected_pt_ele_pt',\n",
       " 'RelMET_jet_jesTotalDown_muon_corrected_pt_ele_pt',\n",
       " 'TMB_jet_jesTotalDown_muon_corrected_pt_ele_pt',\n",
       " 'TMBMin_jet_jesTotalDown_muon_corrected_pt_ele_pt',\n",
       " 'TMBMax_jet_jesTotalDown_muon_corrected_pt_ele_pt',\n",
       " 'SR2_jet_jesTotalDown_muon_corrected_pt_ele_pt',\n",
       " 'SR1_jet_jesTotalDown_muon_corrected_pt_ele_pt',\n",
       " 'CR10_jet_jesTotalDown_muon_corrected_pt_ele_pt',\n",
       " 'CR11_jet_jesTotalDown_muon_corrected_pt_ele_pt',\n",
       " 'CR12_jet_jesTotalDown_muon_corrected_pt_ele_pt',\n",
       " 'CR13_jet_jesTotalDown_muon_corrected_pt_ele_pt',\n",
       " 'CR14_jet_jesTotalDown_muon_corrected_pt_ele_pt',\n",
       " 'SR2_jet_jesTotalDown_muon_corrected_pt_ele_pt',\n",
       " 'CR20_jet_jesTotalDown_muon_corrected_pt_ele_pt',\n",
       " 'CR21_jet_jesTotalDown_muon_corrected_pt_ele_pt',\n",
       " 'CR22_jet_jesTotalDown_muon_corrected_pt_ele_pt',\n",
       " 'CR23_jet_jesTotalDown_muon_corrected_pt_ele_pt',\n",
       " 'CR24_jet_jesTotalDown_muon_corrected_pt_ele_pt',\n",
       " 'nLep_jet_jesTotalDown_muon_corrected_pt_ele_pt',\n",
       " 'nLowPtLep_jet_jesTotalDown_muon_corrected_pt_ele_pt',\n",
       " 'minGoodJetElDR_jet_nom_muon_correctedUp_pt_ele_pt',\n",
       " 'minGoodJetMuDR_jet_nom_muon_correctedUp_pt_ele_pt',\n",
       " 'DiLepMass_jet_nom_muon_correctedUp_pt_ele_pt',\n",
       " 'HTLT_jet_nom_muon_correctedUp_pt_ele_pt',\n",
       " 'RelMET_jet_nom_muon_correctedUp_pt_ele_pt',\n",
       " 'TMB_jet_nom_muon_correctedUp_pt_ele_pt',\n",
       " 'TMBMin_jet_nom_muon_correctedUp_pt_ele_pt',\n",
       " 'TMBMax_jet_nom_muon_correctedUp_pt_ele_pt',\n",
       " 'SR2_jet_nom_muon_correctedUp_pt_ele_pt',\n",
       " 'SR1_jet_nom_muon_correctedUp_pt_ele_pt',\n",
       " 'CR10_jet_nom_muon_correctedUp_pt_ele_pt',\n",
       " 'CR11_jet_nom_muon_correctedUp_pt_ele_pt',\n",
       " 'CR12_jet_nom_muon_correctedUp_pt_ele_pt',\n",
       " 'CR13_jet_nom_muon_correctedUp_pt_ele_pt',\n",
       " 'CR14_jet_nom_muon_correctedUp_pt_ele_pt',\n",
       " 'SR2_jet_nom_muon_correctedUp_pt_ele_pt',\n",
       " 'CR20_jet_nom_muon_correctedUp_pt_ele_pt',\n",
       " 'CR21_jet_nom_muon_correctedUp_pt_ele_pt',\n",
       " 'CR22_jet_nom_muon_correctedUp_pt_ele_pt',\n",
       " 'CR23_jet_nom_muon_correctedUp_pt_ele_pt',\n",
       " 'CR24_jet_nom_muon_correctedUp_pt_ele_pt',\n",
       " 'nLep_jet_nom_muon_correctedUp_pt_ele_pt',\n",
       " 'nLowPtLep_jet_nom_muon_correctedUp_pt_ele_pt',\n",
       " 'minGoodJetElDR_jet_nom_muon_correctedDown_pt_ele_pt',\n",
       " 'minGoodJetMuDR_jet_nom_muon_correctedDown_pt_ele_pt',\n",
       " 'DiLepMass_jet_nom_muon_correctedDown_pt_ele_pt',\n",
       " 'HTLT_jet_nom_muon_correctedDown_pt_ele_pt',\n",
       " 'RelMET_jet_nom_muon_correctedDown_pt_ele_pt',\n",
       " 'TMB_jet_nom_muon_correctedDown_pt_ele_pt',\n",
       " 'TMBMin_jet_nom_muon_correctedDown_pt_ele_pt',\n",
       " 'TMBMax_jet_nom_muon_correctedDown_pt_ele_pt',\n",
       " 'SR2_jet_nom_muon_correctedDown_pt_ele_pt',\n",
       " 'SR1_jet_nom_muon_correctedDown_pt_ele_pt',\n",
       " 'CR10_jet_nom_muon_correctedDown_pt_ele_pt',\n",
       " 'CR11_jet_nom_muon_correctedDown_pt_ele_pt',\n",
       " 'CR12_jet_nom_muon_correctedDown_pt_ele_pt',\n",
       " 'CR13_jet_nom_muon_correctedDown_pt_ele_pt',\n",
       " 'CR14_jet_nom_muon_correctedDown_pt_ele_pt',\n",
       " 'SR2_jet_nom_muon_correctedDown_pt_ele_pt',\n",
       " 'CR20_jet_nom_muon_correctedDown_pt_ele_pt',\n",
       " 'CR21_jet_nom_muon_correctedDown_pt_ele_pt',\n",
       " 'CR22_jet_nom_muon_correctedDown_pt_ele_pt',\n",
       " 'CR23_jet_nom_muon_correctedDown_pt_ele_pt',\n",
       " 'CR24_jet_nom_muon_correctedDown_pt_ele_pt',\n",
       " 'nLep_jet_nom_muon_correctedDown_pt_ele_pt',\n",
       " 'nLowPtLep_jet_nom_muon_correctedDown_pt_ele_pt',\n",
       " 'minGoodJetElDR_jet_jerUp_muon_corrected_pt_ele_pt',\n",
       " 'minGoodJetMuDR_jet_jerUp_muon_corrected_pt_ele_pt',\n",
       " 'DiLepMass_jet_jerUp_muon_corrected_pt_ele_pt',\n",
       " 'HTLT_jet_jerUp_muon_corrected_pt_ele_pt',\n",
       " 'RelMET_jet_jerUp_muon_corrected_pt_ele_pt',\n",
       " 'TMB_jet_jerUp_muon_corrected_pt_ele_pt',\n",
       " 'TMBMin_jet_jerUp_muon_corrected_pt_ele_pt',\n",
       " 'TMBMax_jet_jerUp_muon_corrected_pt_ele_pt',\n",
       " 'SR2_jet_jerUp_muon_corrected_pt_ele_pt',\n",
       " 'SR1_jet_jerUp_muon_corrected_pt_ele_pt',\n",
       " 'CR10_jet_jerUp_muon_corrected_pt_ele_pt',\n",
       " 'CR11_jet_jerUp_muon_corrected_pt_ele_pt',\n",
       " 'CR12_jet_jerUp_muon_corrected_pt_ele_pt',\n",
       " 'CR13_jet_jerUp_muon_corrected_pt_ele_pt',\n",
       " 'CR14_jet_jerUp_muon_corrected_pt_ele_pt',\n",
       " 'SR2_jet_jerUp_muon_corrected_pt_ele_pt',\n",
       " 'CR20_jet_jerUp_muon_corrected_pt_ele_pt',\n",
       " 'CR21_jet_jerUp_muon_corrected_pt_ele_pt',\n",
       " 'CR22_jet_jerUp_muon_corrected_pt_ele_pt',\n",
       " 'CR23_jet_jerUp_muon_corrected_pt_ele_pt',\n",
       " 'CR24_jet_jerUp_muon_corrected_pt_ele_pt',\n",
       " 'nLep_jet_jerUp_muon_corrected_pt_ele_pt',\n",
       " 'nLowPtLep_jet_jerUp_muon_corrected_pt_ele_pt',\n",
       " 'minGoodJetElDR_jet_jerDown_muon_corrected_pt_ele_pt',\n",
       " 'minGoodJetMuDR_jet_jerDown_muon_corrected_pt_ele_pt',\n",
       " 'DiLepMass_jet_jerDown_muon_corrected_pt_ele_pt',\n",
       " 'HTLT_jet_jerDown_muon_corrected_pt_ele_pt',\n",
       " 'RelMET_jet_jerDown_muon_corrected_pt_ele_pt',\n",
       " 'TMB_jet_jerDown_muon_corrected_pt_ele_pt',\n",
       " 'TMBMin_jet_jerDown_muon_corrected_pt_ele_pt',\n",
       " 'TMBMax_jet_jerDown_muon_corrected_pt_ele_pt',\n",
       " 'SR2_jet_jerDown_muon_corrected_pt_ele_pt',\n",
       " 'SR1_jet_jerDown_muon_corrected_pt_ele_pt',\n",
       " 'CR10_jet_jerDown_muon_corrected_pt_ele_pt',\n",
       " 'CR11_jet_jerDown_muon_corrected_pt_ele_pt',\n",
       " 'CR12_jet_jerDown_muon_corrected_pt_ele_pt',\n",
       " 'CR13_jet_jerDown_muon_corrected_pt_ele_pt',\n",
       " 'CR14_jet_jerDown_muon_corrected_pt_ele_pt',\n",
       " 'SR2_jet_jerDown_muon_corrected_pt_ele_pt',\n",
       " 'CR20_jet_jerDown_muon_corrected_pt_ele_pt',\n",
       " 'CR21_jet_jerDown_muon_corrected_pt_ele_pt',\n",
       " 'CR22_jet_jerDown_muon_corrected_pt_ele_pt',\n",
       " 'CR23_jet_jerDown_muon_corrected_pt_ele_pt',\n",
       " 'CR24_jet_jerDown_muon_corrected_pt_ele_pt',\n",
       " 'nLep_jet_jerDown_muon_corrected_pt_ele_pt',\n",
       " 'nLowPtLep_jet_jerDown_muon_corrected_pt_ele_pt',\n",
       " 'minGoodJetElDR_jet_jesTotalUp_muon_corrected_pt_ele_pt',\n",
       " 'minGoodJetMuDR_jet_jesTotalUp_muon_corrected_pt_ele_pt',\n",
       " 'DiLepMass_jet_jesTotalUp_muon_corrected_pt_ele_pt',\n",
       " 'HTLT_jet_jesTotalUp_muon_corrected_pt_ele_pt',\n",
       " 'RelMET_jet_jesTotalUp_muon_corrected_pt_ele_pt',\n",
       " 'TMB_jet_jesTotalUp_muon_corrected_pt_ele_pt',\n",
       " 'TMBMin_jet_jesTotalUp_muon_corrected_pt_ele_pt',\n",
       " 'TMBMax_jet_jesTotalUp_muon_corrected_pt_ele_pt',\n",
       " 'SR2_jet_jesTotalUp_muon_corrected_pt_ele_pt',\n",
       " 'SR1_jet_jesTotalUp_muon_corrected_pt_ele_pt',\n",
       " 'CR10_jet_jesTotalUp_muon_corrected_pt_ele_pt',\n",
       " 'CR11_jet_jesTotalUp_muon_corrected_pt_ele_pt',\n",
       " 'CR12_jet_jesTotalUp_muon_corrected_pt_ele_pt',\n",
       " 'CR13_jet_jesTotalUp_muon_corrected_pt_ele_pt',\n",
       " 'CR14_jet_jesTotalUp_muon_corrected_pt_ele_pt',\n",
       " 'SR2_jet_jesTotalUp_muon_corrected_pt_ele_pt',\n",
       " 'CR20_jet_jesTotalUp_muon_corrected_pt_ele_pt',\n",
       " 'CR21_jet_jesTotalUp_muon_corrected_pt_ele_pt',\n",
       " 'CR22_jet_jesTotalUp_muon_corrected_pt_ele_pt',\n",
       " 'CR23_jet_jesTotalUp_muon_corrected_pt_ele_pt',\n",
       " 'CR24_jet_jesTotalUp_muon_corrected_pt_ele_pt',\n",
       " 'nLep_jet_jesTotalUp_muon_corrected_pt_ele_pt',\n",
       " 'nLowPtLep_jet_jesTotalUp_muon_corrected_pt_ele_pt',\n",
       " 'minGoodJetElDR_jet_jesTotalDown_muon_corrected_pt_ele_pt',\n",
       " 'minGoodJetMuDR_jet_jesTotalDown_muon_corrected_pt_ele_pt',\n",
       " 'DiLepMass_jet_jesTotalDown_muon_corrected_pt_ele_pt',\n",
       " 'HTLT_jet_jesTotalDown_muon_corrected_pt_ele_pt',\n",
       " 'RelMET_jet_jesTotalDown_muon_corrected_pt_ele_pt',\n",
       " 'TMB_jet_jesTotalDown_muon_corrected_pt_ele_pt',\n",
       " 'TMBMin_jet_jesTotalDown_muon_corrected_pt_ele_pt',\n",
       " 'TMBMax_jet_jesTotalDown_muon_corrected_pt_ele_pt',\n",
       " 'SR2_jet_jesTotalDown_muon_corrected_pt_ele_pt',\n",
       " 'SR1_jet_jesTotalDown_muon_corrected_pt_ele_pt',\n",
       " 'CR10_jet_jesTotalDown_muon_corrected_pt_ele_pt',\n",
       " 'CR11_jet_jesTotalDown_muon_corrected_pt_ele_pt',\n",
       " 'CR12_jet_jesTotalDown_muon_corrected_pt_ele_pt',\n",
       " 'CR13_jet_jesTotalDown_muon_corrected_pt_ele_pt',\n",
       " 'CR14_jet_jesTotalDown_muon_corrected_pt_ele_pt',\n",
       " 'SR2_jet_jesTotalDown_muon_corrected_pt_ele_pt',\n",
       " 'CR20_jet_jesTotalDown_muon_corrected_pt_ele_pt',\n",
       " 'CR21_jet_jesTotalDown_muon_corrected_pt_ele_pt',\n",
       " 'CR22_jet_jesTotalDown_muon_corrected_pt_ele_pt',\n",
       " 'CR23_jet_jesTotalDown_muon_corrected_pt_ele_pt',\n",
       " 'CR24_jet_jesTotalDown_muon_corrected_pt_ele_pt',\n",
       " 'nLep_jet_jesTotalDown_muon_corrected_pt_ele_pt',\n",
       " 'nLowPtLep_jet_jesTotalDown_muon_corrected_pt_ele_pt']"
      ]
     },
     "execution_count": 10,
     "metadata": {},
     "output_type": "execute_result"
    }
   ],
   "source": [
    "columns_mc"
   ]
  },
  {
   "cell_type": "code",
   "execution_count": 11,
   "id": "ebf266b7",
   "metadata": {},
   "outputs": [],
   "source": [
    "sample_path ='/eos/cms/store/group/phys_exotica/bffZprime/nanoAODskimmed/crab_bffv2/{}/{{}}'.format(era)\n",
    "eff_path ='/eos/cms/store/group/phys_exotica/bffZprime/nanoAODskimmed/crab_bff_eff/{}/{{}}'.format(era)"
   ]
  },
  {
   "cell_type": "code",
   "execution_count": 12,
   "id": "bored-wrong",
   "metadata": {},
   "outputs": [],
   "source": [
    "class sample_processor():\n",
    "    '''Class that takes file name from yml and helps manage samples.'''\n",
    "    def __init__(self,file_name,outname,bDiscValue,is_inclusive=0):\n",
    "        #load config\n",
    "        self.file_name = file_name\n",
    "        with open(file_name,'r') as f:\n",
    "            self.sample_dict = yaml.load(f, Loader=yaml.FullLoader)\n",
    "        #setup outfile\n",
    "        self.outname = outname\n",
    "        self.out = TFile(outname, 'recreate')\n",
    "        self.outdirs_dict = {}\n",
    "        for sample in self.samples():\n",
    "            name = sample['name']\n",
    "            self.outdirs_dict[name] = self.out.mkdir(name)\n",
    "        self.lumi = self.sample_dict['lumi']\n",
    "        #get and write lumi info\n",
    "        hlumi = TH1F(\"lumi\", \"lumi\", 1, 0, 1)\n",
    "        hlumi.SetDirectory(self.out)\n",
    "        hlumi.SetBinContent(1, self.lumi)\n",
    "        hlumi.Write()\n",
    "        self.bDiscValue = bDiscValue\n",
    "        self.is_inclusive = is_inclusive\n",
    "    def samples(self):\n",
    "        return self.sample_dict['samples']\n",
    "    def sample_names(self):\n",
    "        return [s['name'] for s in self.samples()]\n",
    "    def close(self):\n",
    "        self.out.Close()\n",
    "    def __repr__(self):\n",
    "        text_dict = {\"fn\":self.file_name,\n",
    "                     \"on\":self.outname, \n",
    "                     \"lumi\":self.lumi,\n",
    "                    \"samples\": self.sample_names()}\n",
    "        return '''from {fn} to {on}\\nlumi: {lumi}\\nSamples {samples}'''.format(**text_dict)"
   ]
  },
  {
   "cell_type": "code",
   "execution_count": 13,
   "id": "73c14378",
   "metadata": {},
   "outputs": [
    {
     "data": {
      "text/plain": [
       "'samples/samplesCR_2016_Apr2020.yml'"
      ]
     },
     "execution_count": 13,
     "metadata": {},
     "output_type": "execute_result"
    }
   ],
   "source": [
    "fname"
   ]
  },
  {
   "cell_type": "code",
   "execution_count": 14,
   "id": "temporal-television",
   "metadata": {
    "scrolled": false
   },
   "outputs": [],
   "source": [
    "# create instance of sample manager class \n",
    "sp = sample_processor(fname, outname, bDiscValue)\n",
    "#print(sp)"
   ]
  },
  {
   "cell_type": "code",
   "execution_count": 15,
   "id": "31e30ade",
   "metadata": {
    "scrolled": true
   },
   "outputs": [
    {
     "data": {
      "text/plain": [
       "from samples/samplesCR_2016_Apr2020.yml to samplesCR_2016_Apr2020.root\n",
       "lumi: 36.31\n",
       "Samples ['y3_250_deepflavour_bff', 'y3_400_deepflavour_bff', 'y3_1000_deepflavour_bff', 'y3_700_deepflavour_bff', 'ST_t-channel_top_4f_inclusiveDecays_13TeV-powhegV2-madspin-pythia8_TuneCUETP8M1', 'ST_s-channel_4f_leptonDecays_13TeV-amcatnlo-pythia8_TuneCUETP8M1', 'WWZ_TuneCUETP8M1_13TeV-amcatnlo-pythia8', 'ZZZ_TuneCUETP8M1_13TeV-amcatnlo-pythia8', 'WZZ_TuneCUETP8M1_13TeV-amcatnlo-pythia8', 'WWW_4F_TuneCUETP8M1_13TeV-amcatnlo-pythia8', 'WJetsToQQ_HT-800toInf_qc19_3j_TuneCUETP8M1_13TeV-madgraphMLM-pythia8', 'WJetsToQQ_HT-600ToInf_TuneCUETP8M1_13TeV-madgraphMLM-pythia8', 'WJetsToLNu_TuneCUETP8M1_13TeV-madgraphMLM-pythia8', 'TTWJetsToQQ_TuneCUETP8M1_13TeV-amcatnloFXFX-madspin-pythia8', 'TTWJetsToLNu_TuneCUETP8M1_13TeV-amcatnloFXFX-madspin-pythia8', 'TTZToQQ_TuneCUETP8M1_13TeV-amcatnlo-pythia8', 'TTZToLL_M-1to10_TuneCUETP8M1_13TeV-madgraphMLM-pythia8', 'TTZToLLNuNu_M-10_TuneCUETP8M1_13TeV-amcatnlo-pythia8', 'ttHToMuMu_M125_TuneCP5_PSweights_13TeV-powheg-pythia8', 'ZH_HToMuMu_ZToAll_M125_TuneCP5_PSweights_13TeV_powheg_pythia8', 'WplusH_HToMuMu_WToAll_M125_TuneCP5_PSweights_13TeV_powheg_pythia8', 'VBFHToMuMu_M125_TuneCP5_PSweights_13TeV_amcatnlo_pythia8', 'GluGluHToMuMu_M125_TuneCP5_PSweights_13TeV_amcatnloFXFX_pythia8', 'DYJetsToLL_M-50_TuneCUETP8M1_13TeV-amcatnloFXFX-pythia8', 'DYJetsToLL_M-50_TuneCUETP8M1_13TeV-madgraphMLM-pythia8', 'DYJetsToLL_M-100to200_TuneCUETP8M1_13TeV-amcatnloFXFX-pythia8', 'DYJetsToLL_M-500to700_TuneCUETP8M1_13TeV-amcatnloFXFX-pythia8', 'DYJetsToLL_M-400to500_TuneCUETP8M1_13TeV-amcatnloFXFX-pythia8', 'DYJetsToLL_M-200to400_TuneCUETP8M1_13TeV-amcatnloFXFX-pythia8', 'DYJetsToLL_M-800to1000_TuneCUETP8M1_13TeV-amcatnloFXFX-pythia8', 'BFFZprimeToMuMu_M_250_dbs0p04', 'BFFZprimeToMuMu_M_300_dbs0p04', 'BFFZprimeToMuMu_M_400_dbs0p04', 'ZToEE_M_120_200', 'ZToEE_M_200_400', 'ZToEE_M_400_800', 'ZToEE_M_50_120', 'ZToEE_M_800_1400', 'ZToMuMu_M_120_200', 'ZToMuMu_M_200_400', 'ZToMuMu_M_400_800', 'ZToMuMu_M_50_120', 'ZToMuMu_M_800_1400', 'mc_santitop', 'mc_stop', 'mc_ttbar', 'mc_ww', 'mc_wz', 'mc_zz', 'BFFZprimeToMuMu_M_500_dbs0p04', 'BFFZprimeToMuMu_M_500_dbs0p5', 'BFFZprimeToMuMu_M_500_dbs1p0', 'BFFZprimeToMuMu_M_350_dbs0p04', 'BFFZprimeToMuMu_M_350_dbs0p5', 'BFFZprimeToMuMu_M_350_dbs1p0', 'BFFZprimeToMuMu_M_200_dbs0p04', 'BFFZprimeToMuMu_M_200_dbs1p0', 'BFFZprimeToMuMu_M_200_dbs0p5', 'Private_M_200_dbs0p04', 'Private_M_200_dbs1p0', 'Private_M_200_dbs0p5', 'BFFZprimeToMuMu_M_125_dbs0p04', 'BFFZprimeToMuMu_M_125_dbs0p5', 'BFFZprimeToMuMu_M_125_dbs1p0', 'BFFZprimeToMuMu_M_150_dbs0p04', 'BFFZprimeToMuMu_M_150_dbs0p5', 'BFFZprimeToMuMu_M_150_dbs1p0', 'BFFZprimeToMuMu_M_175_dbs0p04', 'BFFZprimeToMuMu_M_175_dbs0p5', 'BFFZprimeToMuMu_M_175_dbs1p0', 'BFFZprimeToMuMu_M_750_dbs0p04', 'data_mu', 'data_el']"
      ]
     },
     "execution_count": 15,
     "metadata": {},
     "output_type": "execute_result"
    }
   ],
   "source": [
    "sp"
   ]
  },
  {
   "cell_type": "code",
   "execution_count": 16,
   "id": "brazilian-final",
   "metadata": {},
   "outputs": [],
   "source": [
    "# this creates long list of or statements for all permuations to select for events that are present in at least one region \n",
    "rs = [\"CR10\", \"CR11\", \"CR12\", \"CR13\", \"CR14\", \"CR20\", \"CR21\", \"CR22\", \"CR23\", \"CR24\", \"SR1\", \"SR2\"]\n",
    "\n",
    "mcstring = \"\"\n",
    "for jv in var_postfix:\n",
    "    for r in rs:\n",
    "        mcstring += \"{}{} or \".format(r,jv)\n",
    "\n",
    "JERC_var = ['jet_nom_muon_corrected_pt_ele_pt']\n",
    "string = \"\"\n",
    "for jv in JERC_var:\n",
    "    for r in rs:\n",
    "        string += \"{}_{} or \".format(r,jv)\n",
    "        mcstring += \"{}_{} or \".format(r,jv)\n",
    "data_region = string[:-3]\n",
    "mc_region = mcstring[:-3]\n",
    "#mc_region"
   ]
  },
  {
   "cell_type": "code",
   "execution_count": 17,
   "id": "6300ca7a",
   "metadata": {},
   "outputs": [],
   "source": [
    "def examine_sample(sp,sample,era,verbose=1, maxEvents=1e6):\n",
    "    '''Process each sample and produced csv.'''\n",
    "    #get metadata\n",
    "    name,xsec,nEvents = sample['name'],sample['xsec'],sample['nevts']\n",
    "    ismc,dirName = int(sample['ismc']),sample['fileglob']\n",
    "    \n",
    "    # get files fit for processing\n",
    "    # filters out files that can't be opened, or are from old runs\n",
    "    # then it selects a fewer number of files to open if there are too many files\n",
    "    files_df = get_files(dirName, sample_path)\n",
    "    \n",
    "    files, nEvents = prep_filelist(files_df, ismc, verbose=True, maxEvents=maxEvents)\n",
    "    #btageff file list\n",
    "    bTagEffGlobName = eff_path.format(dirName)\n",
    "    bTagEffGlobName = '/eos/cms/store/group/phys_exotica/bffZprime/nanoAODskimmed/crab_bff_eff/2016/DYJetsToLL_M-200to400_TuneCUETP8M1_13TeV-amcatnloFXFX-pythia8'\n",
    "    eff_paths = list(Path(bTagEffGlobName).rglob('*.root'))+ list(Path(bTagEffGlobName+\"_eff\").rglob('*.root'))\n",
    "    list_effs = list(map(lambda x: str(x), eff_paths))   \n",
    "    # get n events from skim if 0\n",
    "    sample_weight = float(xsec)*sp.lumi/float(nEvents)\n",
    " \n",
    "    if verbose: print(\"name: {} , xsec: {}, nevents: {} ismc: {}, nfiles: {}\".format(name,xsec,\n",
    "                                                                                     nEvents,ismc,\n",
    "                                                                                    len(files)))\n",
    "    #set up btagging and puid sf files\n",
    "    bTagFile, PUIDSFfile = setup_btag_puid(ismc, era, list_effs)\n",
    "    #make rdf\n",
    "    df = RDFrame('Events', files)\n",
    "    if ismc:\n",
    "        df = df.Range(0, int(maxEvents))\n",
    "    df = df.Define(\"GenNsJets\", \"GetNsJets(GenPart_statusFlags, GenPart_pdgId)\")\n",
    "    df = df.Define(\"GenNbJets\", \"GetNbJets(GenPart_statusFlags, GenPart_pdgId)\")    \n",
    "    lcolumn = ['GenNbJets', 'GenNsJets']\n",
    "    df_np = df.AsNumpy(lcolumn)\n",
    "    df_df = pd.DataFrame(df_np)\n",
    "    df_df.to_csv('{}/data/tw_{}_{}.csv'.format(output_dir, era,name))\n",
    "    return name,df_df"
   ]
  },
  {
   "cell_type": "code",
   "execution_count": 18,
   "id": "99238b40",
   "metadata": {},
   "outputs": [],
   "source": [
    "def process_sample(sp,sample,era,verbose=1, maxEvents=1e6):\n",
    "    '''Process each sample and produced csv.'''\n",
    "    #get metadata\n",
    "    name,xsec,nEvents = sample['name'],sample['xsec'],sample['nevts']\n",
    "    ismc,dirName = int(sample['ismc']),sample['fileglob']\n",
    "    \n",
    "    # get files fit for processing\n",
    "    # filters out files that can't be opened, or are from old runs\n",
    "    # then it selects a fewer number of files to open if there are too many files\n",
    "    files_df = get_files(dirName, sample_path)\n",
    "    \n",
    "    files, nEvents = prep_filelist(files_df, ismc, verbose=True, maxEvents=maxEvents)\n",
    "    #btageff file list\n",
    "    bTagEffGlobName = eff_path.format(dirName)\n",
    "    bTagEffGlobName = '/eos/cms/store/group/phys_exotica/bffZprime/nanoAODskimmed/crab_bff_eff/2016/DYJetsToLL_M-200to400_TuneCUETP8M1_13TeV-amcatnloFXFX-pythia8'\n",
    "    eff_paths = list(Path(bTagEffGlobName).rglob('*.root'))+ list(Path(bTagEffGlobName+\"_eff\").rglob('*.root'))\n",
    "    list_effs = list(map(lambda x: str(x), eff_paths))   \n",
    "    # get n events from skim if 0\n",
    "    sample_weight = float(xsec)*sp.lumi/float(nEvents)\n",
    " \n",
    "    if verbose: print(\"name: {} , xsec: {}, nevents: {} ismc: {}, nfiles: {}\".format(name,xsec,\n",
    "                                                                                     nEvents,ismc,\n",
    "                                                                                    len(files)))\n",
    "    #set up btagging and puid sf files\n",
    "    bTagFile, PUIDSFfile = setup_btag_puid(ismc, era, list_effs)\n",
    "    #make rdf\n",
    "    df = RDFrame('Events', files)\n",
    "    if ismc:\n",
    "        df = df.Range(0, int(maxEvents))\n",
    "    ##\n",
    "    ## filter\n",
    "    ##\n",
    "    #df = df.Filter(\"DiLepMass_jet_nom_muon_corrected_pt_ele_pt>105\", \"mass_cut\")\n",
    "    #if ismc:\n",
    "    #    df = df.Filter(mc_region, \"in_region\")\n",
    "    #else:\n",
    "    #    df = df.Filter(data_region, \"in_region\")\n",
    "    #df = df.Filter(\"Flag_METFilters==1\", \"METFilter\")    \n",
    "    ##\n",
    "    ## set up objects\n",
    "    ##    \n",
    "    var_string = '_jet_nom_muon_corrected_pt_ele_pt'\n",
    "    df = def_good_leptons(df, ismc, era, var_string)\n",
    "    ##\n",
    "    ## set weights\n",
    "    ##     \n",
    "    df = def_HLT(df, ismc, era)\n",
    "    df = bjet_weight(df,ismc, sp.is_inclusive, name, sample_weight, era)\n",
    "    df = pdf_weight(df,ismc, sp.is_inclusive, name, sample_weight, era)\n",
    "    df = fsr_isr_weight(df,ismc, sp.is_inclusive, name, sample_weight, era)\n",
    "    df = muon_weight(df,ismc, sp.is_inclusive, name, sample_weight, era)\n",
    "    df = electron_weight(df,ismc, sp.is_inclusive, name, sample_weight, era)\n",
    "    df = k_factor(df,ismc, sp.is_inclusive, name, sample_weight, era)\n",
    "    df = PU_weight(df,ismc, sp.is_inclusive, name, sample_weight, era, bDiscValue)\n",
    "    df = finalize_weights(df,ismc, sp.is_inclusive, name, sample_weight, era)\n",
    "    #gen inforamtion\n",
    "    df = df.Define(\"GenMultiplicity\", \"GetGenMultiplicity(GenPart_statusFlags, GenPart_pdgId, GenPart_pt)\")\n",
    "    df = df.Define(\"GenNsJets\", \"GetNsJets(GenPart_statusFlags, GenPart_pdgId)\")\n",
    "    df = df.Define(\"GenNbJets\", \"GetNbJets(GenPart_statusFlags, GenPart_pdgId)\")\n",
    "    if ismc:\n",
    "        df = df.Define(\"JER\", \"SysPercPerObj(Jet_pt_nom, Jet_pt_jerUp, Jet_pt_jerDown, 0)\")\n",
    "        df = df.Define(\"AvgJER\", \"clip(CalcAverage(JER))\")\n",
    "        df = df.Define(\"JES\", \"SysPercPerObj(Jet_pt_nom, Jet_pt_jesTotalUp, Jet_pt_jesTotalDown, 0)\")\n",
    "        df = df.Define(\"AvgJES\", \"CalcAverage(JES)\")\n",
    "        df = df.Define(\"HEM\", \"SysPercPerObj(Jet_pt_nom, Jet_pt_jesHEMIssueUp, Jet_pt_jesHEMIssueDown, 0)\")\n",
    "        df = df.Define(\"AvgHEM\", \"CalcAverage(HEM)\")\n",
    "    else:\n",
    "        df = df.Define(\"JER\", \"1.\")\n",
    "        df = df.Define(\"AvgJER\", \"1.\")\n",
    "        df = df.Define(\"JES\", \"1.\")\n",
    "        df = df.Define(\"AvgJES\", \"1.\")\n",
    "        df = df.Define(\"HEM\", \"1.\")\n",
    "        df = df.Define(\"AvgHEM\", \"1.\")     \n",
    "    lcolumn = columns_mc\n",
    "    if not ismc:\n",
    "        lcolumn = columns_data\n",
    "    lcolumn += ['PUIDWeight','PUIDWeightUp','PUIDWeightDown',\n",
    "                'MuonTriggerEff', 'Weight_MuonTriggerUp', 'Weight_MuonTriggerDown',\n",
    "                'genWeight'\n",
    "                ,'k_factor'\n",
    "                ,'puWeight'\n",
    "                ,'PUIDWeight'\n",
    "                ,'MuonSFweight'\n",
    "                ,'ElectronSFweight'\n",
    "                ,'TriggerWeight'\n",
    "                ,'AvgMuonRecoIdIsoSFPerMuon'\n",
    "                ,'AvgMuonRocPer',\n",
    "               'AvgJER', 'AvgJES', 'AvgHEM',\n",
    "                'AvgPUIDWeightsPerJet',\n",
    "                'AvgBtagWeightCorr',\n",
    "                'AvgBtagWeightUncorr', 'GenNbJets', 'GenNsJets', 'GenMultiplicity'\n",
    "               ]\n",
    "    df_np = df.AsNumpy(lcolumn)\n",
    "    df_df = pd.DataFrame(df_np)\n",
    "    df_df.to_csv('{}/data_gen_b_s/tw_{}_{}.csv'.format(output_dir, era,name))\n",
    "    return name,df_df"
   ]
  },
  {
   "cell_type": "code",
   "execution_count": 36,
   "id": "empty-consciousness",
   "metadata": {
    "scrolled": false
   },
   "outputs": [
    {
     "name": "stdout",
     "output_type": "stream",
     "text": [
      "y3_250_deepflavour_bff 10000000\n",
      "23 out of 23 files selected, 100.0% of events\n",
      "name: y3_250_deepflavour_bff , xsec: 10.1, nevents: 454000.0 ismc: 1, nfiles: 23\n"
     ]
    },
    {
     "ename": "KeyboardInterrupt",
     "evalue": "",
     "output_type": "error",
     "traceback": [
      "\u001b[0;31m---------------------------------------------------------------------------\u001b[0m",
      "\u001b[0;31mKeyboardInterrupt\u001b[0m                         Traceback (most recent call last)",
      "\u001b[0;32m/tmp/rymuelle/ipykernel_27175/3326371460.py\u001b[0m in \u001b[0;36m<module>\u001b[0;34m\u001b[0m\n\u001b[1;32m     14\u001b[0m     \u001b[0moutname\u001b[0m \u001b[0;34m=\u001b[0m \u001b[0;34m'{}/data_gen_b_s/tw_{}_{}.csv'\u001b[0m\u001b[0;34m.\u001b[0m\u001b[0mformat\u001b[0m\u001b[0;34m(\u001b[0m\u001b[0moutput_dir\u001b[0m\u001b[0;34m,\u001b[0m \u001b[0mera\u001b[0m\u001b[0;34m,\u001b[0m\u001b[0msample\u001b[0m\u001b[0;34m[\u001b[0m\u001b[0;34m'name'\u001b[0m\u001b[0;34m]\u001b[0m\u001b[0;34m)\u001b[0m\u001b[0;34m\u001b[0m\u001b[0;34m\u001b[0m\u001b[0m\n\u001b[1;32m     15\u001b[0m     \u001b[0;32mtry\u001b[0m\u001b[0;34m:\u001b[0m\u001b[0;34m\u001b[0m\u001b[0;34m\u001b[0m\u001b[0m\n\u001b[0;32m---> 16\u001b[0;31m         \u001b[0mname\u001b[0m\u001b[0;34m,\u001b[0m\u001b[0mdf\u001b[0m \u001b[0;34m=\u001b[0m \u001b[0mprocess_sample\u001b[0m\u001b[0;34m(\u001b[0m\u001b[0msp\u001b[0m\u001b[0;34m,\u001b[0m\u001b[0msample\u001b[0m\u001b[0;34m,\u001b[0m\u001b[0mera\u001b[0m\u001b[0;34m,\u001b[0m \u001b[0mverbose\u001b[0m\u001b[0;34m=\u001b[0m\u001b[0;36m1\u001b[0m\u001b[0;34m,\u001b[0m \u001b[0mmaxEvents\u001b[0m\u001b[0;34m=\u001b[0m\u001b[0mmaxEvents\u001b[0m\u001b[0;34m)\u001b[0m\u001b[0;34m\u001b[0m\u001b[0;34m\u001b[0m\u001b[0m\n\u001b[0m\u001b[1;32m     17\u001b[0m         \u001b[0;32mif\u001b[0m \u001b[0;32mnot\u001b[0m \u001b[0mexists\u001b[0m\u001b[0;34m(\u001b[0m\u001b[0moutname\u001b[0m\u001b[0;34m)\u001b[0m\u001b[0;34m:\u001b[0m\u001b[0;34m\u001b[0m\u001b[0;34m\u001b[0m\u001b[0m\n\u001b[1;32m     18\u001b[0m             \u001b[0mprint\u001b[0m\u001b[0;34m(\u001b[0m\u001b[0;34m\"running......\"\u001b[0m\u001b[0;34m)\u001b[0m\u001b[0;34m\u001b[0m\u001b[0;34m\u001b[0m\u001b[0m\n",
      "\u001b[0;32m/tmp/rymuelle/ipykernel_27175/3072646832.py\u001b[0m in \u001b[0;36mprocess_sample\u001b[0;34m(sp, sample, era, verbose, maxEvents)\u001b[0m\n\u001b[1;32m     91\u001b[0m                 \u001b[0;34m'AvgBtagWeightUncorr'\u001b[0m\u001b[0;34m,\u001b[0m \u001b[0;34m'GenNbJets'\u001b[0m\u001b[0;34m,\u001b[0m \u001b[0;34m'GenNsJets'\u001b[0m\u001b[0;34m,\u001b[0m \u001b[0;34m'GenMultiplicity'\u001b[0m\u001b[0;34m\u001b[0m\u001b[0;34m\u001b[0m\u001b[0m\n\u001b[1;32m     92\u001b[0m                ]\n\u001b[0;32m---> 93\u001b[0;31m     \u001b[0mdf_np\u001b[0m \u001b[0;34m=\u001b[0m \u001b[0mdf\u001b[0m\u001b[0;34m.\u001b[0m\u001b[0mAsNumpy\u001b[0m\u001b[0;34m(\u001b[0m\u001b[0mlcolumn\u001b[0m\u001b[0;34m)\u001b[0m\u001b[0;34m\u001b[0m\u001b[0;34m\u001b[0m\u001b[0m\n\u001b[0m\u001b[1;32m     94\u001b[0m     \u001b[0mdf_df\u001b[0m \u001b[0;34m=\u001b[0m \u001b[0mpd\u001b[0m\u001b[0;34m.\u001b[0m\u001b[0mDataFrame\u001b[0m\u001b[0;34m(\u001b[0m\u001b[0mdf_np\u001b[0m\u001b[0;34m)\u001b[0m\u001b[0;34m\u001b[0m\u001b[0;34m\u001b[0m\u001b[0m\n\u001b[1;32m     95\u001b[0m     \u001b[0mdf_df\u001b[0m\u001b[0;34m.\u001b[0m\u001b[0mto_csv\u001b[0m\u001b[0;34m(\u001b[0m\u001b[0;34m'{}/data_gen_b_s/tw_{}_{}.csv'\u001b[0m\u001b[0;34m.\u001b[0m\u001b[0mformat\u001b[0m\u001b[0;34m(\u001b[0m\u001b[0moutput_dir\u001b[0m\u001b[0;34m,\u001b[0m \u001b[0mera\u001b[0m\u001b[0;34m,\u001b[0m\u001b[0mname\u001b[0m\u001b[0;34m)\u001b[0m\u001b[0;34m)\u001b[0m\u001b[0;34m\u001b[0m\u001b[0;34m\u001b[0m\u001b[0m\n",
      "\u001b[0;32m/cvmfs/cms.cern.ch/slc7_amd64_gcc900/lcg/root/6.22.08-8d9ab2b279c3f35e6100d909611c3c2f/lib/ROOT/pythonization/_rdataframe.py\u001b[0m in \u001b[0;36mRDataFrameAsNumpy\u001b[0;34m(df, columns, exclude)\u001b[0m\n\u001b[1;32m     75\u001b[0m     \u001b[0mpy_arrays\u001b[0m \u001b[0;34m=\u001b[0m \u001b[0;34m{\u001b[0m\u001b[0;34m}\u001b[0m\u001b[0;34m\u001b[0m\u001b[0;34m\u001b[0m\u001b[0m\n\u001b[1;32m     76\u001b[0m     \u001b[0;32mfor\u001b[0m \u001b[0mcolumn\u001b[0m \u001b[0;32min\u001b[0m \u001b[0mcolumns\u001b[0m\u001b[0;34m:\u001b[0m\u001b[0;34m\u001b[0m\u001b[0;34m\u001b[0m\u001b[0m\n\u001b[0;32m---> 77\u001b[0;31m         \u001b[0mcpp_reference\u001b[0m \u001b[0;34m=\u001b[0m \u001b[0mresult_ptrs\u001b[0m\u001b[0;34m[\u001b[0m\u001b[0mcolumn\u001b[0m\u001b[0;34m]\u001b[0m\u001b[0;34m.\u001b[0m\u001b[0mGetValue\u001b[0m\u001b[0;34m(\u001b[0m\u001b[0;34m)\u001b[0m\u001b[0;34m\u001b[0m\u001b[0;34m\u001b[0m\u001b[0m\n\u001b[0m\u001b[1;32m     78\u001b[0m         \u001b[0;32mif\u001b[0m \u001b[0mhasattr\u001b[0m\u001b[0;34m(\u001b[0m\u001b[0mcpp_reference\u001b[0m\u001b[0;34m,\u001b[0m \u001b[0;34m\"__array_interface__\"\u001b[0m\u001b[0;34m)\u001b[0m\u001b[0;34m:\u001b[0m\u001b[0;34m\u001b[0m\u001b[0;34m\u001b[0m\u001b[0m\n\u001b[1;32m     79\u001b[0m             \u001b[0mtmp\u001b[0m \u001b[0;34m=\u001b[0m \u001b[0mnumpy\u001b[0m\u001b[0;34m.\u001b[0m\u001b[0marray\u001b[0m\u001b[0;34m(\u001b[0m\u001b[0mcpp_reference\u001b[0m\u001b[0;34m)\u001b[0m \u001b[0;31m# This adopts the memory of the C++ object.\u001b[0m\u001b[0;34m\u001b[0m\u001b[0;34m\u001b[0m\u001b[0m\n",
      "\u001b[0;31mKeyboardInterrupt\u001b[0m: "
     ]
    }
   ],
   "source": [
    "failed_files = []\n",
    "existing_files = []\n",
    "\n",
    "for sample in sp.samples():\n",
    "    name = sample['name']\n",
    "    maxEvents=int(2e10) if (('ZTo' in name) or ('DY' in name)) else int(1e7)\n",
    "    #maxEvents=int(1000)\n",
    "    if not 'BFF' in name: continue\n",
    "    #if not '0p5' in name: continue\n",
    "    #if not '200' in name: continue\n",
    "    print(name, maxEvents)\n",
    "    #if  'y3' in name: continue\n",
    "    start_time = perf_counter()\n",
    "    outname = '{}/data_gen_b_s/tw_{}_{}.csv'.format(output_dir, era,sample['name'])\n",
    "    try:\n",
    "        name,df = process_sample(sp,sample,era, verbose=1, maxEvents=maxEvents)\n",
    "        if not exists(outname):\n",
    "            print(\"running......\")\n",
    "            name,df = process_sample(sp,sample,era, verbose=1, maxEvents=maxEvents)\n",
    "        else:\n",
    "            print(\"exits.......\")\n",
    "            existing_files.append(outname)\n",
    "    except Exception as err:\n",
    "        failed_files.append(outname)\n",
    "        print(err)\n",
    "\n",
    "    #count = df.Count()\n",
    "    end_time = perf_counter()\n",
    "    print(\"sample {} took {:.1f} seconds\".format(name,end_time-start_time))\n",
    "\n",
    "sp.close()"
   ]
  },
  {
   "cell_type": "code",
   "execution_count": 29,
   "id": "84fac1a0",
   "metadata": {},
   "outputs": [
    {
     "data": {
      "text/plain": [
       "['assets_feb_23/data_gen_b_s/tw_2016_BFFZprimeToMuMu_M_200_dbs0p5.csv']"
      ]
     },
     "execution_count": 29,
     "metadata": {},
     "output_type": "execute_result"
    }
   ],
   "source": [
    "existing_files"
   ]
  },
  {
   "cell_type": "code",
   "execution_count": 30,
   "id": "f31a393c",
   "metadata": {},
   "outputs": [
    {
     "data": {
      "text/plain": [
       "[]"
      ]
     },
     "execution_count": 30,
     "metadata": {},
     "output_type": "execute_result"
    }
   ],
   "source": [
    "failed_files"
   ]
  },
  {
   "cell_type": "code",
   "execution_count": 49,
   "id": "ecbd250d",
   "metadata": {
    "scrolled": true
   },
   "outputs": [
    {
     "data": {
      "text/html": [
       "\n",
       "                <audio  controls=\"controls\" autoplay=\"autoplay\">\n",
       "                    <source src=\"data:audio/wav;base64,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\" type=\"audio/wav\" />\n",
       "                    Your browser does not support the audio element.\n",
       "                </audio>\n",
       "              "
      ],
      "text/plain": [
       "<IPython.lib.display.Audio object>"
      ]
     },
     "metadata": {},
     "output_type": "display_data"
    },
    {
     "ename": "KeyboardInterrupt",
     "evalue": "",
     "output_type": "error",
     "traceback": [
      "\u001b[0;31m---------------------------------------------------------------------------\u001b[0m",
      "\u001b[0;31mKeyboardInterrupt\u001b[0m                         Traceback (most recent call last)",
      "\u001b[0;32m/tmp/rymuelle/ipykernel_9973/4130363345.py\u001b[0m in \u001b[0;36m<module>\u001b[0;34m\u001b[0m\n\u001b[0;32m----> 1\u001b[0;31m \u001b[0mbeep_repeat\u001b[0m\u001b[0;34m(\u001b[0m\u001b[0;34m)\u001b[0m\u001b[0;34m\u001b[0m\u001b[0;34m\u001b[0m\u001b[0m\n\u001b[0m",
      "\u001b[0;32m/afs/cern.ch/work/r/rymuelle/public/nanoAODzPrime/CMSSW_12_1_0/src/bff_plotting_code_v3/src/general/make_noise.py\u001b[0m in \u001b[0;36mbeep_repeat\u001b[0;34m(delay, **kwargs)\u001b[0m\n\u001b[1;32m     13\u001b[0m     \u001b[0;32mwhile\u001b[0m \u001b[0;32mTrue\u001b[0m\u001b[0;34m:\u001b[0m\u001b[0;34m\u001b[0m\u001b[0;34m\u001b[0m\u001b[0m\n\u001b[1;32m     14\u001b[0m         \u001b[0mbeep\u001b[0m\u001b[0;34m(\u001b[0m\u001b[0;34m**\u001b[0m\u001b[0mkwargs\u001b[0m\u001b[0;34m)\u001b[0m\u001b[0;34m\u001b[0m\u001b[0;34m\u001b[0m\u001b[0m\n\u001b[0;32m---> 15\u001b[0;31m         \u001b[0mtime\u001b[0m\u001b[0;34m.\u001b[0m\u001b[0msleep\u001b[0m\u001b[0;34m(\u001b[0m\u001b[0mdelay\u001b[0m\u001b[0;34m)\u001b[0m\u001b[0;34m\u001b[0m\u001b[0;34m\u001b[0m\u001b[0m\n\u001b[0m\u001b[1;32m     16\u001b[0m \u001b[0;34m\u001b[0m\u001b[0m\n\u001b[1;32m     17\u001b[0m \u001b[0;34m\u001b[0m\u001b[0m\n",
      "\u001b[0;31mKeyboardInterrupt\u001b[0m: "
     ]
    }
   ],
   "source": [
    "beep_repeat()"
   ]
  },
  {
   "cell_type": "code",
   "execution_count": 21,
   "id": "f8101247",
   "metadata": {},
   "outputs": [],
   "source": [
    "import pandas as pd\n",
    "import numpy as np\n",
    "import matplotlib.pyplot as plt"
   ]
  },
  {
   "cell_type": "code",
   "execution_count": 31,
   "id": "8d490ce1",
   "metadata": {},
   "outputs": [],
   "source": [
    "path = 'assets_feb_23/data_gen_b_s/tw_2016_BFFZprimeToMuMu_M_200_dbs0p5.csv'\n",
    "df = pd.read_csv(path)"
   ]
  },
  {
   "cell_type": "code",
   "execution_count": 32,
   "id": "e54278b3",
   "metadata": {
    "scrolled": true
   },
   "outputs": [
    {
     "name": "stdout",
     "output_type": "stream",
     "text": [
      "Unnamed: 0\n",
      "Weight_PuUp\n",
      "Weight_PuDown\n",
      "Weight_BTagCorrUp\n",
      "Weight_BTagUncorrUp\n",
      "Weight_BTagCorrDown\n",
      "Weight_BTagUncorrDown\n",
      "Weight_PUIDUp\n",
      "Weight_PUIDDown\n",
      "Weight_PDF_Up\n",
      "Weight_PDF_Down\n",
      "Weight_ISRFSR_Up\n",
      "Weight_ISRFSR_Down\n",
      "Weight_MuonSFUp\n",
      "Weight_MuonSFDown\n",
      "Weight_ElectronSFUp\n",
      "Weight_ElectronSFDown\n",
      "Weight\n",
      "sample_weight\n",
      "TriggerWeight\n",
      "Flag_goodVertices\n",
      "Flag_globalSuperTightHalo2016Filter\n",
      "Flag_HBHENoiseFilter\n",
      "Flag_HBHENoiseIsoFilter\n",
      "Flag_EcalDeadCellTriggerPrimitiveFilter\n",
      "Flag_BadPFMuonFilter\n",
      "Flag_eeBadScFilter\n",
      "Flag_METFilters\n",
      "minGoodJetElDR_jet_nom_muon_corrected_pt_ele_pt\n",
      "minGoodJetMuDR_jet_nom_muon_corrected_pt_ele_pt\n",
      "DiLepMass_jet_nom_muon_corrected_pt_ele_pt\n",
      "HTLT_jet_nom_muon_corrected_pt_ele_pt\n",
      "RelMET_jet_nom_muon_corrected_pt_ele_pt\n",
      "TMB_jet_nom_muon_corrected_pt_ele_pt\n",
      "TMBMin_jet_nom_muon_corrected_pt_ele_pt\n",
      "TMBMax_jet_nom_muon_corrected_pt_ele_pt\n",
      "SR2_jet_nom_muon_corrected_pt_ele_pt\n",
      "SR1_jet_nom_muon_corrected_pt_ele_pt\n",
      "CR10_jet_nom_muon_corrected_pt_ele_pt\n",
      "CR11_jet_nom_muon_corrected_pt_ele_pt\n",
      "CR12_jet_nom_muon_corrected_pt_ele_pt\n",
      "CR13_jet_nom_muon_corrected_pt_ele_pt\n",
      "CR14_jet_nom_muon_corrected_pt_ele_pt\n",
      "CR20_jet_nom_muon_corrected_pt_ele_pt\n",
      "CR21_jet_nom_muon_corrected_pt_ele_pt\n",
      "CR22_jet_nom_muon_corrected_pt_ele_pt\n",
      "CR23_jet_nom_muon_corrected_pt_ele_pt\n",
      "CR24_jet_nom_muon_corrected_pt_ele_pt\n",
      "nLep_jet_nom_muon_corrected_pt_ele_pt\n",
      "nLowPtLep_jet_nom_muon_corrected_pt_ele_pt\n",
      "Weight_L1Down\n",
      "Weight_L1Up\n",
      "HLT_Mu50\n",
      "HLT_TkMu50\n",
      "HLT_DoubleEle33_CaloIdL_MW\n",
      "minGoodJetElDR_jet_jesTotalUp_muon_corrected_pt_ele_pt\n",
      "minGoodJetMuDR_jet_jesTotalUp_muon_corrected_pt_ele_pt\n",
      "DiLepMass_jet_jesTotalUp_muon_corrected_pt_ele_pt\n",
      "HTLT_jet_jesTotalUp_muon_corrected_pt_ele_pt\n",
      "RelMET_jet_jesTotalUp_muon_corrected_pt_ele_pt\n",
      "TMB_jet_jesTotalUp_muon_corrected_pt_ele_pt\n",
      "TMBMin_jet_jesTotalUp_muon_corrected_pt_ele_pt\n",
      "TMBMax_jet_jesTotalUp_muon_corrected_pt_ele_pt\n",
      "SR2_jet_jesTotalUp_muon_corrected_pt_ele_pt\n",
      "SR1_jet_jesTotalUp_muon_corrected_pt_ele_pt\n",
      "CR10_jet_jesTotalUp_muon_corrected_pt_ele_pt\n",
      "CR11_jet_jesTotalUp_muon_corrected_pt_ele_pt\n",
      "CR12_jet_jesTotalUp_muon_corrected_pt_ele_pt\n",
      "CR13_jet_jesTotalUp_muon_corrected_pt_ele_pt\n",
      "CR14_jet_jesTotalUp_muon_corrected_pt_ele_pt\n",
      "CR20_jet_jesTotalUp_muon_corrected_pt_ele_pt\n",
      "CR21_jet_jesTotalUp_muon_corrected_pt_ele_pt\n",
      "CR22_jet_jesTotalUp_muon_corrected_pt_ele_pt\n",
      "CR23_jet_jesTotalUp_muon_corrected_pt_ele_pt\n",
      "CR24_jet_jesTotalUp_muon_corrected_pt_ele_pt\n",
      "nLep_jet_jesTotalUp_muon_corrected_pt_ele_pt\n",
      "nLowPtLep_jet_jesTotalUp_muon_corrected_pt_ele_pt\n",
      "minGoodJetElDR_jet_jesTotalDown_muon_corrected_pt_ele_pt\n",
      "minGoodJetMuDR_jet_jesTotalDown_muon_corrected_pt_ele_pt\n",
      "DiLepMass_jet_jesTotalDown_muon_corrected_pt_ele_pt\n",
      "HTLT_jet_jesTotalDown_muon_corrected_pt_ele_pt\n",
      "RelMET_jet_jesTotalDown_muon_corrected_pt_ele_pt\n",
      "TMB_jet_jesTotalDown_muon_corrected_pt_ele_pt\n",
      "TMBMin_jet_jesTotalDown_muon_corrected_pt_ele_pt\n",
      "TMBMax_jet_jesTotalDown_muon_corrected_pt_ele_pt\n",
      "SR2_jet_jesTotalDown_muon_corrected_pt_ele_pt\n",
      "SR1_jet_jesTotalDown_muon_corrected_pt_ele_pt\n",
      "CR10_jet_jesTotalDown_muon_corrected_pt_ele_pt\n",
      "CR11_jet_jesTotalDown_muon_corrected_pt_ele_pt\n",
      "CR12_jet_jesTotalDown_muon_corrected_pt_ele_pt\n",
      "CR13_jet_jesTotalDown_muon_corrected_pt_ele_pt\n",
      "CR14_jet_jesTotalDown_muon_corrected_pt_ele_pt\n",
      "CR20_jet_jesTotalDown_muon_corrected_pt_ele_pt\n",
      "CR21_jet_jesTotalDown_muon_corrected_pt_ele_pt\n",
      "CR22_jet_jesTotalDown_muon_corrected_pt_ele_pt\n",
      "CR23_jet_jesTotalDown_muon_corrected_pt_ele_pt\n",
      "CR24_jet_jesTotalDown_muon_corrected_pt_ele_pt\n",
      "nLep_jet_jesTotalDown_muon_corrected_pt_ele_pt\n",
      "nLowPtLep_jet_jesTotalDown_muon_corrected_pt_ele_pt\n",
      "minGoodJetElDR_jet_nom_muon_correctedUp_pt_ele_pt\n",
      "minGoodJetMuDR_jet_nom_muon_correctedUp_pt_ele_pt\n",
      "DiLepMass_jet_nom_muon_correctedUp_pt_ele_pt\n",
      "HTLT_jet_nom_muon_correctedUp_pt_ele_pt\n",
      "RelMET_jet_nom_muon_correctedUp_pt_ele_pt\n",
      "TMB_jet_nom_muon_correctedUp_pt_ele_pt\n",
      "TMBMin_jet_nom_muon_correctedUp_pt_ele_pt\n",
      "TMBMax_jet_nom_muon_correctedUp_pt_ele_pt\n",
      "SR2_jet_nom_muon_correctedUp_pt_ele_pt\n",
      "SR1_jet_nom_muon_correctedUp_pt_ele_pt\n",
      "CR10_jet_nom_muon_correctedUp_pt_ele_pt\n",
      "CR11_jet_nom_muon_correctedUp_pt_ele_pt\n",
      "CR12_jet_nom_muon_correctedUp_pt_ele_pt\n",
      "CR13_jet_nom_muon_correctedUp_pt_ele_pt\n",
      "CR14_jet_nom_muon_correctedUp_pt_ele_pt\n",
      "CR20_jet_nom_muon_correctedUp_pt_ele_pt\n",
      "CR21_jet_nom_muon_correctedUp_pt_ele_pt\n",
      "CR22_jet_nom_muon_correctedUp_pt_ele_pt\n",
      "CR23_jet_nom_muon_correctedUp_pt_ele_pt\n",
      "CR24_jet_nom_muon_correctedUp_pt_ele_pt\n",
      "nLep_jet_nom_muon_correctedUp_pt_ele_pt\n",
      "nLowPtLep_jet_nom_muon_correctedUp_pt_ele_pt\n",
      "minGoodJetElDR_jet_nom_muon_correctedDown_pt_ele_pt\n",
      "minGoodJetMuDR_jet_nom_muon_correctedDown_pt_ele_pt\n",
      "DiLepMass_jet_nom_muon_correctedDown_pt_ele_pt\n",
      "HTLT_jet_nom_muon_correctedDown_pt_ele_pt\n",
      "RelMET_jet_nom_muon_correctedDown_pt_ele_pt\n",
      "TMB_jet_nom_muon_correctedDown_pt_ele_pt\n",
      "TMBMin_jet_nom_muon_correctedDown_pt_ele_pt\n",
      "TMBMax_jet_nom_muon_correctedDown_pt_ele_pt\n",
      "SR2_jet_nom_muon_correctedDown_pt_ele_pt\n",
      "SR1_jet_nom_muon_correctedDown_pt_ele_pt\n",
      "CR10_jet_nom_muon_correctedDown_pt_ele_pt\n",
      "CR11_jet_nom_muon_correctedDown_pt_ele_pt\n",
      "CR12_jet_nom_muon_correctedDown_pt_ele_pt\n",
      "CR13_jet_nom_muon_correctedDown_pt_ele_pt\n",
      "CR14_jet_nom_muon_correctedDown_pt_ele_pt\n",
      "CR20_jet_nom_muon_correctedDown_pt_ele_pt\n",
      "CR21_jet_nom_muon_correctedDown_pt_ele_pt\n",
      "CR22_jet_nom_muon_correctedDown_pt_ele_pt\n",
      "CR23_jet_nom_muon_correctedDown_pt_ele_pt\n",
      "CR24_jet_nom_muon_correctedDown_pt_ele_pt\n",
      "nLep_jet_nom_muon_correctedDown_pt_ele_pt\n",
      "nLowPtLep_jet_nom_muon_correctedDown_pt_ele_pt\n",
      "minGoodJetElDR_jet_jerUp_muon_corrected_pt_ele_pt\n",
      "minGoodJetMuDR_jet_jerUp_muon_corrected_pt_ele_pt\n",
      "DiLepMass_jet_jerUp_muon_corrected_pt_ele_pt\n",
      "HTLT_jet_jerUp_muon_corrected_pt_ele_pt\n",
      "RelMET_jet_jerUp_muon_corrected_pt_ele_pt\n",
      "TMB_jet_jerUp_muon_corrected_pt_ele_pt\n",
      "TMBMin_jet_jerUp_muon_corrected_pt_ele_pt\n",
      "TMBMax_jet_jerUp_muon_corrected_pt_ele_pt\n",
      "SR2_jet_jerUp_muon_corrected_pt_ele_pt\n",
      "SR1_jet_jerUp_muon_corrected_pt_ele_pt\n",
      "CR10_jet_jerUp_muon_corrected_pt_ele_pt\n",
      "CR11_jet_jerUp_muon_corrected_pt_ele_pt\n",
      "CR12_jet_jerUp_muon_corrected_pt_ele_pt\n",
      "CR13_jet_jerUp_muon_corrected_pt_ele_pt\n",
      "CR14_jet_jerUp_muon_corrected_pt_ele_pt\n",
      "CR20_jet_jerUp_muon_corrected_pt_ele_pt\n",
      "CR21_jet_jerUp_muon_corrected_pt_ele_pt\n",
      "CR22_jet_jerUp_muon_corrected_pt_ele_pt\n",
      "CR23_jet_jerUp_muon_corrected_pt_ele_pt\n",
      "CR24_jet_jerUp_muon_corrected_pt_ele_pt\n",
      "nLep_jet_jerUp_muon_corrected_pt_ele_pt\n",
      "nLowPtLep_jet_jerUp_muon_corrected_pt_ele_pt\n",
      "minGoodJetElDR_jet_jerDown_muon_corrected_pt_ele_pt\n",
      "minGoodJetMuDR_jet_jerDown_muon_corrected_pt_ele_pt\n",
      "DiLepMass_jet_jerDown_muon_corrected_pt_ele_pt\n",
      "HTLT_jet_jerDown_muon_corrected_pt_ele_pt\n",
      "RelMET_jet_jerDown_muon_corrected_pt_ele_pt\n",
      "TMB_jet_jerDown_muon_corrected_pt_ele_pt\n",
      "TMBMin_jet_jerDown_muon_corrected_pt_ele_pt\n",
      "TMBMax_jet_jerDown_muon_corrected_pt_ele_pt\n",
      "SR2_jet_jerDown_muon_corrected_pt_ele_pt\n",
      "SR1_jet_jerDown_muon_corrected_pt_ele_pt\n",
      "CR10_jet_jerDown_muon_corrected_pt_ele_pt\n",
      "CR11_jet_jerDown_muon_corrected_pt_ele_pt\n",
      "CR12_jet_jerDown_muon_corrected_pt_ele_pt\n",
      "CR13_jet_jerDown_muon_corrected_pt_ele_pt\n",
      "CR14_jet_jerDown_muon_corrected_pt_ele_pt\n",
      "CR20_jet_jerDown_muon_corrected_pt_ele_pt\n",
      "CR21_jet_jerDown_muon_corrected_pt_ele_pt\n",
      "CR22_jet_jerDown_muon_corrected_pt_ele_pt\n",
      "CR23_jet_jerDown_muon_corrected_pt_ele_pt\n",
      "CR24_jet_jerDown_muon_corrected_pt_ele_pt\n",
      "nLep_jet_jerDown_muon_corrected_pt_ele_pt\n",
      "nLowPtLep_jet_jerDown_muon_corrected_pt_ele_pt\n",
      "PUIDWeight\n",
      "PUIDWeightUp\n",
      "PUIDWeightDown\n",
      "MuonTriggerEff\n",
      "Weight_MuonTriggerUp\n",
      "Weight_MuonTriggerDown\n",
      "genWeight\n",
      "k_factor\n",
      "puWeight\n",
      "MuonSFweight\n",
      "ElectronSFweight\n",
      "AvgMuonRecoIdIsoSFPerMuon\n",
      "AvgMuonRocPer\n",
      "AvgJER\n",
      "AvgJES\n",
      "AvgHEM\n",
      "AvgPUIDWeightsPerJet\n",
      "AvgBtagWeightCorr\n",
      "AvgBtagWeightUncorr\n",
      "GenNbJets\n",
      "GenNsJets\n",
      "GenMultiplicity\n"
     ]
    }
   ],
   "source": [
    "for x in df:\n",
    "    print(x)"
   ]
  },
  {
   "cell_type": "code",
   "execution_count": 33,
   "id": "cfd7b03a",
   "metadata": {},
   "outputs": [
    {
     "data": {
      "text/plain": [
       "(1000, 209)"
      ]
     },
     "execution_count": 33,
     "metadata": {},
     "output_type": "execute_result"
    }
   ],
   "source": [
    "df.shape"
   ]
  },
  {
   "cell_type": "code",
   "execution_count": 34,
   "id": "02ab039e",
   "metadata": {},
   "outputs": [
    {
     "data": {
      "text/html": [
       "<div>\n",
       "<style scoped>\n",
       "    .dataframe tbody tr th:only-of-type {\n",
       "        vertical-align: middle;\n",
       "    }\n",
       "\n",
       "    .dataframe tbody tr th {\n",
       "        vertical-align: top;\n",
       "    }\n",
       "\n",
       "    .dataframe thead th {\n",
       "        text-align: right;\n",
       "    }\n",
       "</style>\n",
       "<table border=\"1\" class=\"dataframe\">\n",
       "  <thead>\n",
       "    <tr style=\"text-align: right;\">\n",
       "      <th></th>\n",
       "      <th>Unnamed: 0</th>\n",
       "      <th>Weight_PuUp</th>\n",
       "      <th>Weight_PuDown</th>\n",
       "      <th>Weight_BTagCorrUp</th>\n",
       "      <th>Weight_BTagUncorrUp</th>\n",
       "      <th>Weight_BTagCorrDown</th>\n",
       "      <th>Weight_BTagUncorrDown</th>\n",
       "      <th>Weight_PUIDUp</th>\n",
       "      <th>Weight_PUIDDown</th>\n",
       "      <th>Weight_PDF_Up</th>\n",
       "      <th>...</th>\n",
       "      <th>AvgMuonRocPer</th>\n",
       "      <th>AvgJER</th>\n",
       "      <th>AvgJES</th>\n",
       "      <th>AvgHEM</th>\n",
       "      <th>AvgPUIDWeightsPerJet</th>\n",
       "      <th>AvgBtagWeightCorr</th>\n",
       "      <th>AvgBtagWeightUncorr</th>\n",
       "      <th>GenNbJets</th>\n",
       "      <th>GenNsJets</th>\n",
       "      <th>GenMultiplicity</th>\n",
       "    </tr>\n",
       "  </thead>\n",
       "  <tbody>\n",
       "    <tr>\n",
       "      <th>0</th>\n",
       "      <td>0</td>\n",
       "      <td>23.671816</td>\n",
       "      <td>19.311335</td>\n",
       "      <td>21.750063</td>\n",
       "      <td>21.750063</td>\n",
       "      <td>21.750063</td>\n",
       "      <td>21.750063</td>\n",
       "      <td>22.410172</td>\n",
       "      <td>21.089953</td>\n",
       "      <td>21.944545</td>\n",
       "      <td>...</td>\n",
       "      <td>0.000567</td>\n",
       "      <td>0.003532</td>\n",
       "      <td>0.015571</td>\n",
       "      <td>0.000000</td>\n",
       "      <td>0.029340</td>\n",
       "      <td>NaN</td>\n",
       "      <td>NaN</td>\n",
       "      <td>1</td>\n",
       "      <td>1</td>\n",
       "      <td>0</td>\n",
       "    </tr>\n",
       "    <tr>\n",
       "      <th>1</th>\n",
       "      <td>1</td>\n",
       "      <td>17.490063</td>\n",
       "      <td>19.574487</td>\n",
       "      <td>18.533899</td>\n",
       "      <td>18.533899</td>\n",
       "      <td>18.533899</td>\n",
       "      <td>18.533899</td>\n",
       "      <td>16.675980</td>\n",
       "      <td>20.409414</td>\n",
       "      <td>18.645324</td>\n",
       "      <td>...</td>\n",
       "      <td>0.000731</td>\n",
       "      <td>0.029897</td>\n",
       "      <td>0.031095</td>\n",
       "      <td>0.014286</td>\n",
       "      <td>-0.047050</td>\n",
       "      <td>NaN</td>\n",
       "      <td>NaN</td>\n",
       "      <td>1</td>\n",
       "      <td>1</td>\n",
       "      <td>0</td>\n",
       "    </tr>\n",
       "    <tr>\n",
       "      <th>2</th>\n",
       "      <td>2</td>\n",
       "      <td>22.042482</td>\n",
       "      <td>29.432233</td>\n",
       "      <td>25.824562</td>\n",
       "      <td>25.824562</td>\n",
       "      <td>25.824562</td>\n",
       "      <td>25.824562</td>\n",
       "      <td>25.824562</td>\n",
       "      <td>25.824562</td>\n",
       "      <td>26.018829</td>\n",
       "      <td>...</td>\n",
       "      <td>0.000399</td>\n",
       "      <td>0.002458</td>\n",
       "      <td>0.018618</td>\n",
       "      <td>0.000000</td>\n",
       "      <td>NaN</td>\n",
       "      <td>NaN</td>\n",
       "      <td>NaN</td>\n",
       "      <td>1</td>\n",
       "      <td>1</td>\n",
       "      <td>0</td>\n",
       "    </tr>\n",
       "    <tr>\n",
       "      <th>3</th>\n",
       "      <td>3</td>\n",
       "      <td>22.420699</td>\n",
       "      <td>20.779294</td>\n",
       "      <td>21.856271</td>\n",
       "      <td>21.856271</td>\n",
       "      <td>21.856271</td>\n",
       "      <td>21.856271</td>\n",
       "      <td>21.856271</td>\n",
       "      <td>21.856271</td>\n",
       "      <td>22.220787</td>\n",
       "      <td>...</td>\n",
       "      <td>0.000640</td>\n",
       "      <td>0.015173</td>\n",
       "      <td>0.020239</td>\n",
       "      <td>0.000000</td>\n",
       "      <td>NaN</td>\n",
       "      <td>NaN</td>\n",
       "      <td>NaN</td>\n",
       "      <td>1</td>\n",
       "      <td>1</td>\n",
       "      <td>0</td>\n",
       "    </tr>\n",
       "    <tr>\n",
       "      <th>4</th>\n",
       "      <td>4</td>\n",
       "      <td>19.235945</td>\n",
       "      <td>22.462670</td>\n",
       "      <td>20.937420</td>\n",
       "      <td>20.937420</td>\n",
       "      <td>20.937420</td>\n",
       "      <td>20.937420</td>\n",
       "      <td>20.937420</td>\n",
       "      <td>20.937420</td>\n",
       "      <td>21.108022</td>\n",
       "      <td>...</td>\n",
       "      <td>0.002091</td>\n",
       "      <td>0.014412</td>\n",
       "      <td>0.012226</td>\n",
       "      <td>0.000000</td>\n",
       "      <td>NaN</td>\n",
       "      <td>NaN</td>\n",
       "      <td>NaN</td>\n",
       "      <td>2</td>\n",
       "      <td>0</td>\n",
       "      <td>0</td>\n",
       "    </tr>\n",
       "    <tr>\n",
       "      <th>...</th>\n",
       "      <td>...</td>\n",
       "      <td>...</td>\n",
       "      <td>...</td>\n",
       "      <td>...</td>\n",
       "      <td>...</td>\n",
       "      <td>...</td>\n",
       "      <td>...</td>\n",
       "      <td>...</td>\n",
       "      <td>...</td>\n",
       "      <td>...</td>\n",
       "      <td>...</td>\n",
       "      <td>...</td>\n",
       "      <td>...</td>\n",
       "      <td>...</td>\n",
       "      <td>...</td>\n",
       "      <td>...</td>\n",
       "      <td>...</td>\n",
       "      <td>...</td>\n",
       "      <td>...</td>\n",
       "      <td>...</td>\n",
       "      <td>...</td>\n",
       "    </tr>\n",
       "    <tr>\n",
       "      <th>995</th>\n",
       "      <td>995</td>\n",
       "      <td>23.172640</td>\n",
       "      <td>11.774799</td>\n",
       "      <td>17.431480</td>\n",
       "      <td>17.365232</td>\n",
       "      <td>17.005583</td>\n",
       "      <td>17.071831</td>\n",
       "      <td>17.218532</td>\n",
       "      <td>17.218532</td>\n",
       "      <td>17.259255</td>\n",
       "      <td>...</td>\n",
       "      <td>0.000640</td>\n",
       "      <td>0.049573</td>\n",
       "      <td>0.036619</td>\n",
       "      <td>0.000000</td>\n",
       "      <td>NaN</td>\n",
       "      <td>-0.006184</td>\n",
       "      <td>-0.004260</td>\n",
       "      <td>2</td>\n",
       "      <td>2</td>\n",
       "      <td>3</td>\n",
       "    </tr>\n",
       "    <tr>\n",
       "      <th>996</th>\n",
       "      <td>996</td>\n",
       "      <td>21.894801</td>\n",
       "      <td>27.013579</td>\n",
       "      <td>24.595652</td>\n",
       "      <td>24.595652</td>\n",
       "      <td>24.595652</td>\n",
       "      <td>24.595652</td>\n",
       "      <td>24.595652</td>\n",
       "      <td>24.595652</td>\n",
       "      <td>24.835844</td>\n",
       "      <td>...</td>\n",
       "      <td>0.000719</td>\n",
       "      <td>0.016350</td>\n",
       "      <td>0.033253</td>\n",
       "      <td>0.000000</td>\n",
       "      <td>NaN</td>\n",
       "      <td>NaN</td>\n",
       "      <td>NaN</td>\n",
       "      <td>2</td>\n",
       "      <td>0</td>\n",
       "      <td>0</td>\n",
       "    </tr>\n",
       "    <tr>\n",
       "      <th>997</th>\n",
       "      <td>997</td>\n",
       "      <td>21.152153</td>\n",
       "      <td>23.673017</td>\n",
       "      <td>22.414548</td>\n",
       "      <td>22.414548</td>\n",
       "      <td>22.414548</td>\n",
       "      <td>22.414548</td>\n",
       "      <td>22.414548</td>\n",
       "      <td>22.414548</td>\n",
       "      <td>22.647121</td>\n",
       "      <td>...</td>\n",
       "      <td>0.000613</td>\n",
       "      <td>0.021127</td>\n",
       "      <td>0.032028</td>\n",
       "      <td>0.000000</td>\n",
       "      <td>NaN</td>\n",
       "      <td>NaN</td>\n",
       "      <td>NaN</td>\n",
       "      <td>2</td>\n",
       "      <td>0</td>\n",
       "      <td>0</td>\n",
       "    </tr>\n",
       "    <tr>\n",
       "      <th>998</th>\n",
       "      <td>998</td>\n",
       "      <td>13.889495</td>\n",
       "      <td>4.556526</td>\n",
       "      <td>8.599521</td>\n",
       "      <td>8.599521</td>\n",
       "      <td>8.599521</td>\n",
       "      <td>8.599521</td>\n",
       "      <td>8.599521</td>\n",
       "      <td>8.599521</td>\n",
       "      <td>8.743074</td>\n",
       "      <td>...</td>\n",
       "      <td>0.000304</td>\n",
       "      <td>0.059925</td>\n",
       "      <td>0.037180</td>\n",
       "      <td>0.000000</td>\n",
       "      <td>NaN</td>\n",
       "      <td>NaN</td>\n",
       "      <td>NaN</td>\n",
       "      <td>1</td>\n",
       "      <td>1</td>\n",
       "      <td>0</td>\n",
       "    </tr>\n",
       "    <tr>\n",
       "      <th>999</th>\n",
       "      <td>999</td>\n",
       "      <td>0.946969</td>\n",
       "      <td>0.044309</td>\n",
       "      <td>0.256091</td>\n",
       "      <td>0.250581</td>\n",
       "      <td>0.234466</td>\n",
       "      <td>0.239976</td>\n",
       "      <td>0.252747</td>\n",
       "      <td>0.237810</td>\n",
       "      <td>0.247831</td>\n",
       "      <td>...</td>\n",
       "      <td>0.001248</td>\n",
       "      <td>0.041393</td>\n",
       "      <td>0.019973</td>\n",
       "      <td>0.000000</td>\n",
       "      <td>0.029466</td>\n",
       "      <td>-0.044084</td>\n",
       "      <td>-0.021618</td>\n",
       "      <td>2</td>\n",
       "      <td>0</td>\n",
       "      <td>0</td>\n",
       "    </tr>\n",
       "  </tbody>\n",
       "</table>\n",
       "<p>1000 rows × 209 columns</p>\n",
       "</div>"
      ],
      "text/plain": [
       "     Unnamed: 0  Weight_PuUp  Weight_PuDown  Weight_BTagCorrUp  \\\n",
       "0             0    23.671816      19.311335          21.750063   \n",
       "1             1    17.490063      19.574487          18.533899   \n",
       "2             2    22.042482      29.432233          25.824562   \n",
       "3             3    22.420699      20.779294          21.856271   \n",
       "4             4    19.235945      22.462670          20.937420   \n",
       "..          ...          ...            ...                ...   \n",
       "995         995    23.172640      11.774799          17.431480   \n",
       "996         996    21.894801      27.013579          24.595652   \n",
       "997         997    21.152153      23.673017          22.414548   \n",
       "998         998    13.889495       4.556526           8.599521   \n",
       "999         999     0.946969       0.044309           0.256091   \n",
       "\n",
       "     Weight_BTagUncorrUp  Weight_BTagCorrDown  Weight_BTagUncorrDown  \\\n",
       "0              21.750063            21.750063              21.750063   \n",
       "1              18.533899            18.533899              18.533899   \n",
       "2              25.824562            25.824562              25.824562   \n",
       "3              21.856271            21.856271              21.856271   \n",
       "4              20.937420            20.937420              20.937420   \n",
       "..                   ...                  ...                    ...   \n",
       "995            17.365232            17.005583              17.071831   \n",
       "996            24.595652            24.595652              24.595652   \n",
       "997            22.414548            22.414548              22.414548   \n",
       "998             8.599521             8.599521               8.599521   \n",
       "999             0.250581             0.234466               0.239976   \n",
       "\n",
       "     Weight_PUIDUp  Weight_PUIDDown  Weight_PDF_Up  ...  AvgMuonRocPer  \\\n",
       "0        22.410172        21.089953      21.944545  ...       0.000567   \n",
       "1        16.675980        20.409414      18.645324  ...       0.000731   \n",
       "2        25.824562        25.824562      26.018829  ...       0.000399   \n",
       "3        21.856271        21.856271      22.220787  ...       0.000640   \n",
       "4        20.937420        20.937420      21.108022  ...       0.002091   \n",
       "..             ...              ...            ...  ...            ...   \n",
       "995      17.218532        17.218532      17.259255  ...       0.000640   \n",
       "996      24.595652        24.595652      24.835844  ...       0.000719   \n",
       "997      22.414548        22.414548      22.647121  ...       0.000613   \n",
       "998       8.599521         8.599521       8.743074  ...       0.000304   \n",
       "999       0.252747         0.237810       0.247831  ...       0.001248   \n",
       "\n",
       "       AvgJER    AvgJES    AvgHEM  AvgPUIDWeightsPerJet  AvgBtagWeightCorr  \\\n",
       "0    0.003532  0.015571  0.000000              0.029340                NaN   \n",
       "1    0.029897  0.031095  0.014286             -0.047050                NaN   \n",
       "2    0.002458  0.018618  0.000000                   NaN                NaN   \n",
       "3    0.015173  0.020239  0.000000                   NaN                NaN   \n",
       "4    0.014412  0.012226  0.000000                   NaN                NaN   \n",
       "..        ...       ...       ...                   ...                ...   \n",
       "995  0.049573  0.036619  0.000000                   NaN          -0.006184   \n",
       "996  0.016350  0.033253  0.000000                   NaN                NaN   \n",
       "997  0.021127  0.032028  0.000000                   NaN                NaN   \n",
       "998  0.059925  0.037180  0.000000                   NaN                NaN   \n",
       "999  0.041393  0.019973  0.000000              0.029466          -0.044084   \n",
       "\n",
       "     AvgBtagWeightUncorr  GenNbJets  GenNsJets  GenMultiplicity  \n",
       "0                    NaN          1          1                0  \n",
       "1                    NaN          1          1                0  \n",
       "2                    NaN          1          1                0  \n",
       "3                    NaN          1          1                0  \n",
       "4                    NaN          2          0                0  \n",
       "..                   ...        ...        ...              ...  \n",
       "995            -0.004260          2          2                3  \n",
       "996                  NaN          2          0                0  \n",
       "997                  NaN          2          0                0  \n",
       "998                  NaN          1          1                0  \n",
       "999            -0.021618          2          0                0  \n",
       "\n",
       "[1000 rows x 209 columns]"
      ]
     },
     "execution_count": 34,
     "metadata": {},
     "output_type": "execute_result"
    }
   ],
   "source": [
    "tdf = df\n",
    "tdf"
   ]
  },
  {
   "cell_type": "code",
   "execution_count": 35,
   "id": "d525fa30",
   "metadata": {},
   "outputs": [
    {
     "data": {
      "text/plain": [
       "array([0.005, 0.836, 0.135, 0.015, 0.003, 0.006])"
      ]
     },
     "execution_count": 35,
     "metadata": {},
     "output_type": "execute_result"
    },
    {
     "data": {
      "image/png": "[encoded data removed]",
      "text/plain": [
       "<Figure size 432x288 with 1 Axes>"
      ]
     },
     "metadata": {
      "needs_background": "light"
     },
     "output_type": "display_data"
    }
   ],
   "source": [
    "hist  = np.histogram(tdf.GenMultiplicity, bins=np.linspace(-1.5, 4.5, 7), density=True)\n",
    "\n",
    "fig = plt.figure()\n",
    "ax = fig.add_axes([0,0,1,1])\n",
    "students = [23,17,35,29,12]\n",
    "ax.bar(['other', '0b', '1b', '1s', '1b+1s', '2b'], hist[0])\n",
    "\n",
    "plt.yscale('log')\n",
    "hist[0]"
   ]
  },
  {
   "cell_type": "code",
   "execution_count": 30,
   "id": "14262452",
   "metadata": {},
   "outputs": [
    {
     "data": {
      "text/plain": [
       "[0.005, 0.864, 0.1, 0.024, 0.004, 0.003]"
      ]
     },
     "execution_count": 30,
     "metadata": {},
     "output_type": "execute_result"
    }
   ],
   "source": [
    "[0.005, 0.864, 0.1  , 0.024, 0.004, 0.003]"
   ]
  },
  {
   "cell_type": "code",
   "execution_count": 29,
   "id": "83b1aff4",
   "metadata": {},
   "outputs": [
    {
     "data": {
      "text/plain": [
       "Text(0.5, 1.0, 'Pre-selection')"
      ]
     },
     "execution_count": 29,
     "metadata": {},
     "output_type": "execute_result"
    },
    {
     "data": {
      "image/png": "[encoded data removed]",
      "text/plain": [
       "<Figure size 432x288 with 1 Axes>"
      ]
     },
     "metadata": {
      "needs_background": "light"
     },
     "output_type": "display_data"
    }
   ],
   "source": [
    "tdf.GenNbJets.hist(bins=np.linspace(-.5,7.5, 9))\n",
    "plt.xlabel('n b-jets')\n",
    "plt.title('Pre-selection')\n"
   ]
  },
  {
   "cell_type": "code",
   "execution_count": 72,
   "id": "cc92d7bd",
   "metadata": {},
   "outputs": [
    {
     "data": {
      "text/plain": [
       "Text(0.5, 1.0, 'Pre-selection')"
      ]
     },
     "execution_count": 72,
     "metadata": {},
     "output_type": "execute_result"
    },
    {
     "data": {
      "image/png": "[encoded data removed]",
      "text/plain": [
       "<Figure size 432x288 with 1 Axes>"
      ]
     },
     "metadata": {
      "needs_background": "light"
     },
     "output_type": "display_data"
    }
   ],
   "source": [
    "tdf.GenNsJets.hist(bins=np.linspace(-.5,7.5, 9))\n",
    "plt.xlabel('n s-jets')\n",
    "plt.title('Pre-selection')\n"
   ]
  },
  {
   "cell_type": "code",
   "execution_count": 56,
   "id": "fe8661ca",
   "metadata": {
    "scrolled": true
   },
   "outputs": [],
   "source": [
    "tdf = df[df.SR1_jet_nom_muon_corrected_pt_ele_pt==1]"
   ]
  },
  {
   "cell_type": "code",
   "execution_count": 57,
   "id": "723eedc9",
   "metadata": {},
   "outputs": [
    {
     "data": {
      "text/plain": [
       "Text(0.5, 1.0, 'SR1')"
      ]
     },
     "execution_count": 57,
     "metadata": {},
     "output_type": "execute_result"
    },
    {
     "data": {
      "image/png": "[encoded data removed]",
      "text/plain": [
       "<Figure size 432x288 with 1 Axes>"
      ]
     },
     "metadata": {
      "needs_background": "light"
     },
     "output_type": "display_data"
    }
   ],
   "source": [
    "tdf.GenNbJets.hist(bins=np.linspace(-.5,7.5, 9))\n",
    "plt.xlabel('n b-jets')\n",
    "plt.title('SR1')\n"
   ]
  },
  {
   "cell_type": "code",
   "execution_count": 58,
   "id": "c0b8eb14",
   "metadata": {},
   "outputs": [
    {
     "data": {
      "text/plain": [
       "Text(0.5, 1.0, 'SR1')"
      ]
     },
     "execution_count": 58,
     "metadata": {},
     "output_type": "execute_result"
    },
    {
     "data": {
      "image/png": "[encoded data removed]",
      "text/plain": [
       "<Figure size 432x288 with 1 Axes>"
      ]
     },
     "metadata": {
      "needs_background": "light"
     },
     "output_type": "display_data"
    }
   ],
   "source": [
    "tdf.GenNsJets.hist(bins=np.linspace(-.5,7.5, 9))\n",
    "plt.xlabel('n s-jets')\n",
    "plt.title('SR1')"
   ]
  },
  {
   "cell_type": "code",
   "execution_count": 59,
   "id": "03819f5d",
   "metadata": {},
   "outputs": [
    {
     "data": {
      "text/plain": [
       "(array([21593,    70,     2,     3,     0,     0,     0,     0]),\n",
       " array([-0.5,  0.5,  1.5,  2.5,  3.5,  4.5,  5.5,  6.5,  7.5]))"
      ]
     },
     "execution_count": 59,
     "metadata": {},
     "output_type": "execute_result"
    }
   ],
   "source": [
    "np.histogram(tdf.GenNsJets, bins=np.linspace(-.5,7.5, 9))"
   ]
  },
  {
   "cell_type": "code",
   "execution_count": 60,
   "id": "e5c1a965",
   "metadata": {},
   "outputs": [],
   "source": [
    "tdf = df[df.SR2_jet_nom_muon_corrected_pt_ele_pt==1]"
   ]
  },
  {
   "cell_type": "code",
   "execution_count": 61,
   "id": "54ce0c86",
   "metadata": {},
   "outputs": [
    {
     "data": {
      "text/plain": [
       "Text(0.5, 1.0, 'SR2')"
      ]
     },
     "execution_count": 61,
     "metadata": {},
     "output_type": "execute_result"
    },
    {
     "data": {
      "image/png": "[encoded data removed]",
      "text/plain": [
       "<Figure size 432x288 with 1 Axes>"
      ]
     },
     "metadata": {
      "needs_background": "light"
     },
     "output_type": "display_data"
    }
   ],
   "source": [
    "tdf.GenNbJets.hist(bins=np.linspace(-.5,7.5, 9))\n",
    "plt.xlabel('n b-jets')\n",
    "plt.title('SR2')"
   ]
  },
  {
   "cell_type": "code",
   "execution_count": 62,
   "id": "95e251f4",
   "metadata": {},
   "outputs": [
    {
     "data": {
      "text/plain": [
       "Text(0.5, 1.0, 'SR2')"
      ]
     },
     "execution_count": 62,
     "metadata": {},
     "output_type": "execute_result"
    },
    {
     "data": {
      "image/png": "[encoded data removed]",
      "text/plain": [
       "<Figure size 432x288 with 1 Axes>"
      ]
     },
     "metadata": {
      "needs_background": "light"
     },
     "output_type": "display_data"
    }
   ],
   "source": [
    "tdf.GenNsJets.hist(bins=np.linspace(-.5,7.5, 9))\n",
    "plt.xlabel('n s-jets')\n",
    "plt.title('SR2')"
   ]
  },
  {
   "cell_type": "code",
   "execution_count": 63,
   "id": "305b7894",
   "metadata": {},
   "outputs": [
    {
     "data": {
      "text/plain": [
       "0.07491169009413987"
      ]
     },
     "execution_count": 63,
     "metadata": {},
     "output_type": "execute_result"
    }
   ],
   "source": [
    "df.Weight_MuonTriggerUp.mean()*100"
   ]
  },
  {
   "cell_type": "code",
   "execution_count": null,
   "id": "d6eb9922",
   "metadata": {},
   "outputs": [],
   "source": [
    "df.Weight_BTagUp.mean()*100"
   ]
  },
  {
   "cell_type": "code",
   "execution_count": null,
   "id": "437a5559",
   "metadata": {},
   "outputs": [],
   "source": [
    "import uproot as upr"
   ]
  },
  {
   "cell_type": "code",
   "execution_count": null,
   "id": "ed0bdb3e",
   "metadata": {},
   "outputs": [],
   "source": [
    "skim_path = '/eos/cms/store/group/phys_exotica/bffZprime/nanoAODskimmed/crab_bffv2/2017/BFF_175_dbs0p5_deepflavour_bffv2/221019_071128/0000/tree_1.root'"
   ]
  },
  {
   "cell_type": "code",
   "execution_count": null,
   "id": "dcecf503",
   "metadata": {
    "scrolled": false
   },
   "outputs": [],
   "source": [
    "upf = upr.open(skim_path)['Events']"
   ]
  },
  {
   "cell_type": "code",
   "execution_count": null,
   "id": "eb389db5",
   "metadata": {
    "scrolled": false
   },
   "outputs": [],
   "source": [
    "upf.arrays(['Muon_effSF_sys_triggerUp',\n",
    "           'Muon_effSF_trigger',\n",
    "           'Muon_effSF_sys_triggerDown'], library='pd').mean()"
   ]
  },
  {
   "cell_type": "code",
   "execution_count": null,
   "id": "7dbc63dd",
   "metadata": {},
   "outputs": [],
   "source": [
    "import pandas as pd"
   ]
  },
  {
   "cell_type": "code",
   "execution_count": null,
   "id": "523c266f",
   "metadata": {},
   "outputs": [],
   "source": [
    "df = pd.read_csv('data/tw_2016_BFFZprimeToMuMu_M_250_dbs0p04.csv')"
   ]
  },
  {
   "cell_type": "code",
   "execution_count": null,
   "id": "84a36992",
   "metadata": {},
   "outputs": [],
   "source": [
    "[x for x in df.keys() if 'HLT' in x], [x for x in df.keys() if 'SR' in x]"
   ]
  },
  {
   "cell_type": "code",
   "execution_count": null,
   "id": "dff049ac",
   "metadata": {},
   "outputs": [],
   "source": [
    "df.SR2_jet_nom_muon_corrected_pt_ele_pt.sum(), (df.SR2_jet_nom_muon_corrected_pt_ele_pt*df.HLT_Mu50).sum()"
   ]
  },
  {
   "cell_type": "code",
   "execution_count": null,
   "id": "6bf5b418",
   "metadata": {},
   "outputs": [],
   "source": [
    "df[[ \n",
    "    'MuonTriggerEff', 'Weight_MuonTriggerUp', 'Weight_MuonTriggerDown'\n",
    "    ,'AvgMuonRecoIdIsoSFPerMuon'\n",
    "                ,'AvgMuonRocPer',\n",
    "               'AvgJER', 'AvgJES', 'AvgHEM',\n",
    "                'AvgPUIDWeightsPerJet', 'AvgBtagWeight']].mean()*100"
   ]
  },
  {
   "cell_type": "code",
   "execution_count": null,
   "id": "e938bb33",
   "metadata": {},
   "outputs": [],
   "source": [
    "df.AvgJER.mean()"
   ]
  },
  {
   "cell_type": "code",
   "execution_count": null,
   "id": "f9861399",
   "metadata": {},
   "outputs": [],
   "source": [
    "from src.data_tools.get_file_list import get_file_df\n"
   ]
  },
  {
   "cell_type": "code",
   "execution_count": null,
   "id": "5bcb1b92",
   "metadata": {},
   "outputs": [],
   "source": [
    "era = 2016\n",
    "file_df = get_file_df()\n",
    "file_df = file_df[file_df.era==era]\n",
    "file_df.reset_index(inplace=True)"
   ]
  },
  {
   "cell_type": "code",
   "execution_count": null,
   "id": "519a96d7",
   "metadata": {
    "scrolled": true
   },
   "outputs": [],
   "source": [
    "means_list = []\n",
    "for i, x in file_df.iterrows():\n",
    "    print(x.file)\n",
    "    _df = pd.read_csv(x.file)\n",
    "    _df = _df[_df.AvgJER<5]\n",
    "    means = _df[[ \n",
    "    'MuonTriggerEff', 'Weight_MuonTriggerUp', 'Weight_MuonTriggerDown'\n",
    "    ,'AvgMuonRecoIdIsoSFPerMuon'\n",
    "                ,'AvgMuonRocPer',\n",
    "               'AvgJER', 'AvgJES', 'AvgHEM',\n",
    "                'AvgPUIDWeightsPerJet', 'AvgBtagWeight']].mean()*100\n",
    "    means_dict = means.to_dict()\n",
    "    means_dict['mass'] = x.mass\n",
    "    means_dict['dbs'] = x.dbs\n",
    "    means_list.append(means_dict)"
   ]
  },
  {
   "cell_type": "code",
   "execution_count": null,
   "id": "faad1c41",
   "metadata": {},
   "outputs": [],
   "source": [
    "mean_df = pd.DataFrame(means_list)"
   ]
  },
  {
   "cell_type": "code",
   "execution_count": null,
   "id": "aa556975",
   "metadata": {},
   "outputs": [],
   "source": [
    "mean_df.min().round(1)"
   ]
  },
  {
   "cell_type": "code",
   "execution_count": null,
   "id": "62a22e73",
   "metadata": {},
   "outputs": [],
   "source": [
    "mean_df.max().round(1)"
   ]
  },
  {
   "cell_type": "code",
   "execution_count": null,
   "id": "5a7fb228",
   "metadata": {},
   "outputs": [],
   "source": [
    "import numpy as np"
   ]
  },
  {
   "cell_type": "code",
   "execution_count": null,
   "id": "9434dca3",
   "metadata": {},
   "outputs": [],
   "source": [
    "mean_df.AvgJER"
   ]
  },
  {
   "cell_type": "code",
   "execution_count": null,
   "id": "16a317cf",
   "metadata": {},
   "outputs": [],
   "source": []
  }
 ],
 "metadata": {
  "kernelspec": {
   "display_name": "Python 3",
   "language": "python",
   "name": "python3"
  },
  "language_info": {
   "codemirror_mode": {
    "name": "ipython",
    "version": 3
   },
   "file_extension": ".py",
   "mimetype": "text/x-python",
   "name": "python",
   "nbconvert_exporter": "python",
   "pygments_lexer": "ipython3",
   "version": "3.9.6"
  }
 },
 "nbformat": 4,
 "nbformat_minor": 5
}
