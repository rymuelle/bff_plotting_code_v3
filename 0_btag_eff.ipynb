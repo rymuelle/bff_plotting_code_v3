{
 "cells": [
  {
   "cell_type": "code",
   "execution_count": null,
   "id": "3ce72f59",
   "metadata": {},
   "outputs": [],
   "source": [
    "import uproot as upr\n",
    "path = '/eos/cms/store/group/phys_exotica/bffZprime/nanoAODskimmed/crab_bff_eff/2016/BFF_200_dbs0p04_deepflavour_bff_eff/220616_201714/0000/tree_1.root'\n",
    "rootdir = upr.open(path)"
   ]
  },
  {
   "cell_type": "code",
   "execution_count": null,
   "id": "9ba3cc96",
   "metadata": {},
   "outputs": [],
   "source": [
    "rootdir.keys()"
   ]
  },
  {
   "cell_type": "code",
   "execution_count": null,
   "id": "68f6f892",
   "metadata": {},
   "outputs": [],
   "source": [
    "hist = rootdir['bTagEff'].to_boost()"
   ]
  },
  {
   "cell_type": "code",
   "execution_count": null,
   "id": "3dc0c39e",
   "metadata": {},
   "outputs": [],
   "source": [
    "import matplotlib.pyplot as plt\n",
    "from matplotlib.patches import Rectangle, Patch\n",
    "from src.plotting_tools.cms_format import cms_format_fig, cms_style\n",
    "cmap = plt.get_cmap('inferno')\n",
    "\n",
    "def plothist2d(h,ax):\n",
    "    return ax.pcolormesh(*h.axes.edges.T, h.values().T, vmax=1)"
   ]
  },
  {
   "cell_type": "code",
   "execution_count": null,
   "id": "7fd280f2",
   "metadata": {},
   "outputs": [],
   "source": [
    "cms_style()"
   ]
  },
  {
   "cell_type": "code",
   "execution_count": null,
   "id": "c31d5f1b",
   "metadata": {},
   "outputs": [],
   "source": [
    "outdir = 'assets_nov_2022'"
   ]
  },
  {
   "cell_type": "code",
   "execution_count": null,
   "id": "44ed6bcb",
   "metadata": {},
   "outputs": [],
   "source": [
    "\n",
    "def draw_text(hist,ax):\n",
    "    x_bins, y_bins = hist.axes.edges.T\n",
    "    x_bins = x_bins[0]\n",
    "    y_bins = y_bins.T[0]    \n",
    "\n",
    "    for i in range(len(x_bins) - 1):\n",
    "        for j in range(len(y_bins) - 1):\n",
    "            value = hist.values().T[j, i]\n",
    "            rect = Rectangle((x_bins[i], y_bins[j]), x_bins[i + 1] - x_bins[i], y_bins[j + 1] - y_bins[j],\n",
    "                             facecolor=cmap(value), alpha=0)\n",
    "            ax.add_patch(rect)\n",
    "            \n",
    "            rx, ry = rect.get_xy()\n",
    "            cx = rx + rect.get_width()/2.0\n",
    "            cy = ry + rect.get_height()/2.0\n",
    "            ax.annotate(\"{:.2f}\".format(value), (cx, cy), color='black', \n",
    "                        weight='bold', fontsize=25, ha='center', va='center')\n",
    "\n",
    "    ax.set_xlim(min(x_bins), max(x_bins))\n",
    "    ax.set_ylim(min(y_bins), max(y_bins))\n",
    "    ax.set_yscale('log')\n",
    "        \n",
    "fig, ax = plt.subplots()\n",
    "draw_text(hist,ax)"
   ]
  },
  {
   "cell_type": "code",
   "execution_count": null,
   "id": "f4d58baa",
   "metadata": {},
   "outputs": [],
   "source": [
    "fig, ax = plt.subplots(figsize = (12,10))\n",
    "pcm = plothist2d(hist,ax)\n",
    "ax.set_yscale('log')\n",
    "ax.set_xlabel('$|\\eta|$', fontsize=45)\n",
    "ax.set_ylabel('$p_T$ [GeV]', fontsize=45)\n",
    "cms_format_fig('2016',ax )\n",
    "\n",
    "plt.colorbar(pcm, ax=ax)\n",
    "\n",
    "draw_text(hist, ax)\n",
    "\n",
    "plt.savefig('{}/btageff/btageff_2016_200_0p04.pdf'.format(outdir))"
   ]
  },
  {
   "cell_type": "code",
   "execution_count": null,
   "id": "3d030f07",
   "metadata": {},
   "outputs": [],
   "source": [
    "!ls /eos/cms/store/group/phys_exotica/bffZprime/nanoAODskimmed/crab_bff_eff/2016/BFF_200_dbs0p04_deepflavour_bff_eff/220616_201714/0000/"
   ]
  },
  {
   "cell_type": "code",
   "execution_count": null,
   "id": "d33e963f",
   "metadata": {},
   "outputs": [],
   "source": [
    "cp  /eos/cms/store/group/phys_exotica/bffZprime/nanoAODskimmed/crab_bff_eff/2016/BFF_200_dbs0p04_deepflavour_bff_eff/220616_201714/0000/test.png ."
   ]
  },
  {
   "cell_type": "code",
   "execution_count": null,
   "id": "a6160d2f",
   "metadata": {},
   "outputs": [],
   "source": []
  }
 ],
 "metadata": {
  "kernelspec": {
   "display_name": "bff_12_1",
   "language": "python",
   "name": "bff_12_1"
  },
  "language_info": {
   "codemirror_mode": {
    "name": "ipython",
    "version": 3
   },
   "file_extension": ".py",
   "mimetype": "text/x-python",
   "name": "python",
   "nbconvert_exporter": "python",
   "pygments_lexer": "ipython3",
   "version": "3.9.6"
  }
 },
 "nbformat": 4,
 "nbformat_minor": 5
}
