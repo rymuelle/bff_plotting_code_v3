{
 "cells": [
  {
   "cell_type": "code",
   "execution_count": null,
   "id": "2d1c7ae8",
   "metadata": {},
   "outputs": [],
   "source": [
    "import pandas as pd\n",
    "import matplotlib.pyplot as plt\n",
    "import numpy as np\n",
    "from scipy.optimize import curve_fit"
   ]
  },
  {
   "cell_type": "code",
   "execution_count": null,
   "id": "9243162f",
   "metadata": {},
   "outputs": [],
   "source": [
    "import uproot as upr\n",
    "upf = upr.open('/eos/cms/store/group/phys_exotica/bffZprime/nanoAODskimmed/crab_bffv2/2017/BFF_150_dbs0p5_deepflavour_bffv2/221019_070838/0000/tree_1.root')"
   ]
  },
  {
   "cell_type": "code",
   "execution_count": null,
   "id": "37267a46",
   "metadata": {},
   "outputs": [],
   "source": [
    "uparr = upf['Events'].arrays(['SR1_jet_nom_muon_correctedUp_pt_ele_pt'], library='pd')"
   ]
  },
  {
   "cell_type": "code",
   "execution_count": null,
   "id": "ffadcab3",
   "metadata": {},
   "outputs": [],
   "source": [
    "uparr.sum()"
   ]
  },
  {
   "cell_type": "code",
   "execution_count": null,
   "id": "06a22752",
   "metadata": {},
   "outputs": [],
   "source": [
    "%load_ext autoreload\n",
    "%autoreload 2"
   ]
  },
  {
   "cell_type": "code",
   "execution_count": null,
   "id": "9907029d",
   "metadata": {},
   "outputs": [],
   "source": [
    "from src.plotting_tools.SysHist import SysHist, make_sys_hist_v2\n",
    "from src.plotting_tools.latexAssets import mll\n",
    "from src.plotting_tools.cms_format import cms_style, cms_format_fig\n",
    "from src.plotting_tools.Bins import Bins\n",
    "from src.plotting_tools.utils import ratio_plot_template, nratio_plot_template\n",
    "from src.general.functions import make_bpoly\n",
    "\n",
    "cms_style()"
   ]
  },
  {
   "cell_type": "code",
   "execution_count": null,
   "id": "a96e7bbf",
   "metadata": {},
   "outputs": [],
   "source": [
    "from src.general.functions import linear, make_bpoly, double_crystalball"
   ]
  },
  {
   "cell_type": "code",
   "execution_count": null,
   "id": "58246f1f",
   "metadata": {},
   "outputs": [],
   "source": [
    "from src.data_tools.get_data import get_data"
   ]
  },
  {
   "cell_type": "code",
   "execution_count": null,
   "id": "caee118f",
   "metadata": {},
   "outputs": [],
   "source": [
    "era = '2017'\n",
    "_df, lumi = get_data(era, df_filter=lambda x: x.type=='sig', verbose=1)"
   ]
  },
  {
   "cell_type": "code",
   "execution_count": null,
   "id": "9dbb75c5",
   "metadata": {},
   "outputs": [],
   "source": [
    "def get_puid_stats(df, weight):\n",
    "    tdf = df[(df.SR2_jet_nom_muon_corrected_pt_ele_pt==1)]\n",
    "    #tdf = df\n",
    "    #return (tdf['{}Up'.format(weight)].mean())/tdf['Weight'].mean()\n",
    "    return (tdf['{}Up'.format(weight)]).mean()/(tdf.Weight).mean()"
   ]
  },
  {
   "cell_type": "code",
   "execution_count": null,
   "id": "a9846ac0",
   "metadata": {},
   "outputs": [],
   "source": [
    "df = _df"
   ]
  },
  {
   "cell_type": "code",
   "execution_count": null,
   "id": "a78c1d1c",
   "metadata": {},
   "outputs": [],
   "source": [
    "df[df.mass==350]"
   ]
  },
  {
   "cell_type": "code",
   "execution_count": null,
   "id": "ee24f9e7",
   "metadata": {},
   "outputs": [],
   "source": [
    "fit_params = pd.read_csv('fits/{}_signal_fits_params.csv'.format(era))"
   ]
  },
  {
   "cell_type": "code",
   "execution_count": null,
   "id": "453e3698",
   "metadata": {},
   "outputs": [],
   "source": [
    "def make_model(x, y, func, ax=0, **kwargs):\n",
    "    popt, pcov = curve_fit(func, x, y, **kwargs)\n",
    "    def model(x):\n",
    "        return func(x, *popt)\n",
    "    if ax:\n",
    "        ax.scatter(x,y, label='data (1+2 jet SR)')\n",
    "        x_centers = np.linspace(min(x), max(x), len(y)*20)\n",
    "        ax.plot(x_centers, model(x_centers), label='fit')\n",
    "    return model"
   ]
  },
  {
   "cell_type": "code",
   "execution_count": null,
   "id": "7eb722c7",
   "metadata": {},
   "outputs": [],
   "source": [
    "def make_mean_sigma_model():\n",
    "    fig, (mean_ax, sigma_ax) = plt.subplots(1,2, figsize = (20, 10))\n",
    "    \n",
    "    mean_model = make_model(fit_params.mass, fit_params.mu, linear, ax=mean_ax)\n",
    "    sigma_model = make_model(fit_params.mass, fit_params.sigma, make_bpoly, ax=sigma_ax,\n",
    "                            p0=[1,1, 1, 1])\n",
    "    \n",
    "    cms_format_fig(era, mean_ax)\n",
    "    cms_format_fig(era, sigma_ax)\n",
    "    \n",
    "    mean_ax.set_xlabel(mll+ ' [GeV]')\n",
    "    sigma_ax.set_xlabel(mll+ ' [GeV]')\n",
    "    \n",
    "    mean_ax.set_ylabel('mean [GeV]')\n",
    "    sigma_ax.set_ylabel('sigma [GeV]') \n",
    "    \n",
    "    mean_ax.legend()\n",
    "    fig.savefig('assets_exo_jul_22/sig_interpolation/{}_mean_sigma_fit.pdf'.format(era))\n",
    "    return mean_model, sigma_model"
   ]
  },
  {
   "cell_type": "code",
   "execution_count": null,
   "id": "aa84d2fb",
   "metadata": {
    "scrolled": false
   },
   "outputs": [],
   "source": [
    "mean_model, sigma_model = make_mean_sigma_model()"
   ]
  },
  {
   "cell_type": "code",
   "execution_count": null,
   "id": "369149a2",
   "metadata": {
    "scrolled": true
   },
   "outputs": [],
   "source": [
    "#make signal hist\n",
    "hist_list = []\n",
    "for reg in ['SR1', 'SR2']:\n",
    "    for mass in df.mass.unique():\n",
    "        mdf = df[df.mass==mass]\n",
    "        for dbs in mdf.dbs.unique():\n",
    "            dbsdf = mdf[mdf.dbs==dbs]\n",
    "            if dbsdf.size==0: continue\n",
    "            #if mass != 300: continue\n",
    "            print(mass, dbs, reg)\n",
    "            mean, sigma = mean_model(mass), sigma_model(mass)\n",
    "            nSigma = 5\n",
    "            bins = Bins(np.linspace(mean-sigma*nSigma, mean+sigma*nSigma, 20))\n",
    "            standardized_bins = Bins(np.linspace(-nSigma, nSigma, 20))\n",
    "            #make hist\n",
    "            hist =  make_sys_hist_v2( dbsdf, 'DiLepMass', reg, bin_edges=bins.bin_edges).normalize()\n",
    "            print(hist.sys_string())\n",
    "            #make fit hist\n",
    "            fit_param = fit_params[(fit_params.mass==mass) & (fit_params.region==reg)].iloc[0]\n",
    "            fit_y = double_crystalball(bins.calc_bin_centers(), 1.0, fit_param.mu, fit_param.sigma, \n",
    "                       fit_param.alphal, fit_param.nl,\n",
    "                       fit_param.alphar, fit_param.nr)\n",
    "            fit_hist = SysHist(fit_y, fit_y*0, fit_y*0, fit_y*0, bins.bin_edges).normalize()\n",
    "            hist_list.append({\n",
    "                'fit': fit_hist,\n",
    "                'hist': hist,\n",
    "                'mass': mass,\n",
    "                'dbs': dbs,\n",
    "                'reg': reg,\n",
    "                'standardized_bins': standardized_bins\n",
    "            })\n",
    "\n",
    "hist_df = pd.DataFrame(hist_list)"
   ]
  },
  {
   "cell_type": "code",
   "execution_count": null,
   "id": "8c001431",
   "metadata": {
    "scrolled": true
   },
   "outputs": [],
   "source": [
    "hist = hist_df.iloc[3]['hist']\n",
    "bin_centers = hist.bins.calc_bin_centers()\n",
    "nominal = hist.nominal\n",
    "for key, (sysup, sysdown) in hist.sys.items():\n",
    "    plt.plot(bin_centers, nominal)\n",
    "    plt.plot(bin_centers, (sysup+nominal))\n",
    "    plt.plot(bin_centers, (sysdown+nominal))\n",
    "    \n",
    "    plt.title(key.replace('_', ' '))\n",
    "    plt.show()\n",
    "    plt.clf()"
   ]
  },
  {
   "cell_type": "code",
   "execution_count": null,
   "id": "4ab79863",
   "metadata": {},
   "outputs": [],
   "source": [
    "import matplotlib.pyplot as plt"
   ]
  },
  {
   "cell_type": "code",
   "execution_count": null,
   "id": "3851b54f",
   "metadata": {},
   "outputs": [],
   "source": [
    "##\n",
    "## model sys\n",
    "##"
   ]
  },
  {
   "cell_type": "code",
   "execution_count": null,
   "id": "48b7fdfa",
   "metadata": {},
   "outputs": [],
   "source": [
    "def get_sys(row):\n",
    "    return row['hist'].sys_pers()"
   ]
  },
  {
   "cell_type": "code",
   "execution_count": null,
   "id": "acef15af",
   "metadata": {},
   "outputs": [],
   "source": [
    "sys_dict = pd.DataFrame(hist_df.apply(get_sys, axis=1).to_list())"
   ]
  },
  {
   "cell_type": "code",
   "execution_count": null,
   "id": "f15715f3",
   "metadata": {},
   "outputs": [],
   "source": [
    "hist_df = pd.concat([hist_df,sys_dict], axis=1)"
   ]
  },
  {
   "cell_type": "code",
   "execution_count": null,
   "id": "b71f522d",
   "metadata": {},
   "outputs": [],
   "source": [
    "hist_df[['mass', 'dbs', 'reg',  'Weight_ISRFSR_Comb']]"
   ]
  },
  {
   "cell_type": "code",
   "execution_count": null,
   "id": "76b29aac",
   "metadata": {},
   "outputs": [],
   "source": [
    "##\n",
    "## testing 175 gev\n",
    "##"
   ]
  },
  {
   "cell_type": "code",
   "execution_count": null,
   "id": "04097525",
   "metadata": {},
   "outputs": [],
   "source": [
    "pwd = '/eos/cms/store/group/phys_exotica/bffZprime/private_samples/signal/2018_NanoAODv6/ZprimeToMuMu175_2018/ZprimeToMuMu175_2018.root'\n",
    "pwd0p05 = '/eos/cms/store/group/phys_exotica/bffZprime/private_samples/signal/2018_NanoAODv6/ZprimeToMuMu175dbs0p5_2018/ZprimeToMuMu175dbs0p5_2018.root'"
   ]
  },
  {
   "cell_type": "code",
   "execution_count": null,
   "id": "3e73946f",
   "metadata": {},
   "outputs": [],
   "source": [
    "import uproot as upr"
   ]
  },
  {
   "cell_type": "code",
   "execution_count": null,
   "id": "689e672b",
   "metadata": {},
   "outputs": [],
   "source": [
    "upf = upr.open(pwd)['Events']"
   ]
  },
  {
   "cell_type": "code",
   "execution_count": null,
   "id": "50d37c3f",
   "metadata": {},
   "outputs": [],
   "source": [
    "upf0p05 = upr.open(pwd0p05)['Events']"
   ]
  },
  {
   "cell_type": "code",
   "execution_count": null,
   "id": "3d2204fb",
   "metadata": {
    "scrolled": false
   },
   "outputs": [],
   "source": [
    "upf.arrays(['LHEScaleWeight'], library='pd').std()"
   ]
  },
  {
   "cell_type": "code",
   "execution_count": null,
   "id": "35330d59",
   "metadata": {},
   "outputs": [],
   "source": [
    "upf0p05.arrays(['LHEScaleWeight'], library='pd').std()"
   ]
  },
  {
   "cell_type": "code",
   "execution_count": null,
   "id": "b4c4d85d",
   "metadata": {},
   "outputs": [],
   "source": [
    "hist_df.columns"
   ]
  },
  {
   "cell_type": "code",
   "execution_count": null,
   "id": "fe7a3e74",
   "metadata": {},
   "outputs": [],
   "source": [
    "def exp_poly(x, *popt):\n",
    "    y_sum = x*0\n",
    "    for i, p in enumerate(popt):\n",
    "        y_sum+= p*x**(-i)\n",
    "    return y_sum\n",
    "    return np.log(y_sum)"
   ]
  },
  {
   "cell_type": "code",
   "execution_count": null,
   "id": "6a9120ed",
   "metadata": {},
   "outputs": [],
   "source": [
    "def get_reg_dbs(reg, dbs, sys_key='sys', _hist_df=hist_df):\n",
    "    _tdf = _hist_df[(_hist_df.reg==reg) & (_hist_df.dbs==dbs) ]\n",
    "    return _tdf.mass, _tdf[sys_key]\n",
    "\n",
    "def sys_func(x, p_dbs, *popt):\n",
    "    dbs = x.dbs\n",
    "    mass = x.mass\n",
    "    y =  exp_poly(mass, *popt)\n",
    "    y = y*(1+p_dbs*dbs**.5)\n",
    "    return y\n",
    "\n",
    "def make_sys_plot(reg, sys_key='sys'):\n",
    "    fig, ax = plt.subplots(1,1)\n",
    "    mass_0p04, sys_0p04 = get_reg_dbs(reg, 0.04, sys_key=sys_key)\n",
    "    plt.scatter(mass_0p04, sys_0p04, label='0.04')\n",
    "    mass_0p5, sys_0p5 = get_reg_dbs(reg, 0.5, sys_key=sys_key)\n",
    "    plt.scatter(mass_0p5, sys_0p5, label='0.5')\n",
    "    mass_1p0, sys_1p0 = get_reg_dbs(reg, 1.0, sys_key=sys_key)\n",
    "    plt.scatter(mass_1p0, sys_1p0, label='1.0')\n",
    "\n",
    "    popt, pcov = curve_fit(sys_func, hist_df[(hist_df.reg==reg)], hist_df[(hist_df.reg==reg)][sys_key], \n",
    "                           p0=[1, 1, 1, 1, 1] , maxfev=int(1e4))\n",
    "    \n",
    "    def make_df_space(dbs, *popt):\n",
    "        return pd.DataFrame([{'mass': mass, 'dbs': dbs} for mass in np.linspace(*popt)])\n",
    "    x = make_df_space(0.04, 125,500, 100)\n",
    "    plt.plot(x.mass, sys_func(x, *popt))\n",
    "    x = make_df_space(0.5, 125,500, 100)\n",
    "    plt.plot(x.mass, sys_func(x, *popt))\n",
    "    x = make_df_space(1, 125,500, 100)\n",
    "    plt.plot(x.mass, sys_func(x, *popt))\n",
    "    cms_format_fig(era, ax)\n",
    "    ax.set_xlabel('$m_{\\ell\\ell}$ [GeV]')\n",
    "    ax.set_ylabel('Systematic/Nominal')\n",
    "    ax.legend(title=\"{}: {}\".format(reg, sys_key).replace(\"_\", \" \"))\n",
    "    print(popt)\n",
    "    return lambda x: sys_func(x, *popt), fig\n",
    "    "
   ]
  },
  {
   "cell_type": "code",
   "execution_count": null,
   "id": "55e199db",
   "metadata": {},
   "outputs": [],
   "source": [
    "#visualize difference between min/max dbs points"
   ]
  },
  {
   "cell_type": "code",
   "execution_count": null,
   "id": "34d0ddbd",
   "metadata": {},
   "outputs": [],
   "source": [
    "def make_delta_plot(reg, sys_key):\n",
    "    mass_1p0, sys_1p0 = get_reg_dbs(reg, 1.0, sys_key=sys_key)\n",
    "    mass_0p04, sys_0p04 = get_reg_dbs(reg, 0.04, sys_key=sys_key, _hist_df = hist_df[hist_df.mass.isin(mass_1p0)])\n",
    "    plt.plot(mass_1p0, (sys_1p0.to_numpy()-sys_0p04.to_numpy()))\n",
    "    plt.title('{}: {}'.format(reg, sys_key.replace('_', ' ')))\n",
    "    plt.show()\n",
    "    return mass_1p0, (sys_1p0.to_numpy()-sys_0p04.to_numpy())\n"
   ]
  },
  {
   "cell_type": "code",
   "execution_count": null,
   "id": "2d1116bb",
   "metadata": {},
   "outputs": [],
   "source": [
    "hist_df"
   ]
  },
  {
   "cell_type": "code",
   "execution_count": null,
   "id": "8c478332",
   "metadata": {},
   "outputs": [],
   "source": [
    "sr1_sys_func, sr1_fig = make_sys_plot('SR1', sys_key = 'tot')\n",
    "sr1_fig.savefig('output/sys_total/{}_{}.png'.format(era, 'SR1'))"
   ]
  },
  {
   "cell_type": "code",
   "execution_count": null,
   "id": "7c03d542",
   "metadata": {},
   "outputs": [],
   "source": [
    "sr2_sys_func, sr2_fig = make_sys_plot('SR2', sys_key = 'tot')\n",
    "sr2_fig.savefig('output/sys_total/{}_{}.png'.format(era, 'SR2'))"
   ]
  },
  {
   "cell_type": "code",
   "execution_count": null,
   "id": "98b1036e",
   "metadata": {},
   "outputs": [],
   "source": [
    "sys_list = ['{}_jet_jesTotalComb_muon_corrected_pt_ele_pt',\n",
    "       '{}_jet_nom_muon_correctedComb_pt_ele_pt',\n",
    "       '{}_jet_jerComb_muon_corrected_pt_ele_pt', 'Weight_PuComb',\n",
    "       'Weight_BTagComb', 'Weight_PUIDComb', 'Weight_PDF_Comb',\n",
    "       'Weight_ISRFSR_Comb', 'Weight_MuonSFComb', 'Weight_ElectronSFComb',\n",
    "       'Weight_L1Comb', 'tot']"
   ]
  },
  {
   "cell_type": "code",
   "execution_count": null,
   "id": "0d07d84b",
   "metadata": {},
   "outputs": [],
   "source": [
    "#plot all the sys"
   ]
  },
  {
   "cell_type": "code",
   "execution_count": null,
   "id": "41add8d1",
   "metadata": {},
   "outputs": [],
   "source": [
    "sys_list = ['{}_jet_jesTotalComb_muon_corrected_pt_ele_pt',\n",
    "       '{}_jet_nom_muon_correctedComb_pt_ele_pt',\n",
    "       '{}_jet_jerComb_muon_corrected_pt_ele_pt', 'Weight_PuComb',\n",
    "       'Weight_BTagComb', 'Weight_PUIDComb', 'Weight_PDF_Comb',\n",
    "       'Weight_ISRFSR_Comb', 'Weight_MuonSFComb', 'Weight_ElectronSFComb',\n",
    "        'tot']"
   ]
  },
  {
   "cell_type": "code",
   "execution_count": null,
   "id": "a3b1c0a0",
   "metadata": {
    "scrolled": false
   },
   "outputs": [],
   "source": [
    "function_dict = {}\n",
    "for sys in sys_list:\n",
    "    function_dict[sys] = {}\n",
    "    for reg in ['SR1', 'SR2']:    \n",
    "        _sys = sys.format(reg)\n",
    "        _sys_func, _sys_fig = make_sys_plot(reg, sys_key = _sys)\n",
    "        function_dict[sys][reg] = _sys_func\n",
    "        _sys_fig.savefig('output/sys_total/{}_{}_{}.png'.format(era, reg, sys))"
   ]
  },
  {
   "cell_type": "code",
   "execution_count": null,
   "id": "9e32e522",
   "metadata": {},
   "outputs": [],
   "source": [
    "sr1_sys_func = make_sys_plot('SR1', sys_key = 'Weight_MuonSFComb')"
   ]
  },
  {
   "cell_type": "code",
   "execution_count": null,
   "id": "33b67224",
   "metadata": {},
   "outputs": [],
   "source": [
    "sr1_sys_func = make_sys_plot('SR1', sys_key = 'tot')"
   ]
  },
  {
   "cell_type": "code",
   "execution_count": null,
   "id": "e9c30a1a",
   "metadata": {},
   "outputs": [],
   "source": [
    "sr1_sys_func = make_sys_plot('SR2', sys_key = 'Weight_ISRFSR_Comb')"
   ]
  },
  {
   "cell_type": "code",
   "execution_count": null,
   "id": "9b99a2f1",
   "metadata": {},
   "outputs": [],
   "source": [
    "sr1_sys_func = make_sys_plot('SR2', sys_key = 'tot')"
   ]
  },
  {
   "cell_type": "code",
   "execution_count": null,
   "id": "ef1c090d",
   "metadata": {},
   "outputs": [],
   "source": [
    "from scipy import interpolate"
   ]
  },
  {
   "cell_type": "code",
   "execution_count": null,
   "id": "fffff882",
   "metadata": {},
   "outputs": [],
   "source": [
    "def make_interpolation(df):\n",
    "    masses = df.mass.unique()\n",
    "    print('using masses:', masses)\n",
    "    bins = df.iloc[0]['standardized_bins']\n",
    "    bin_centers = bins.calc_bin_centers()\n",
    "    z = np.stack(df.fit.apply(lambda x: x.nominal).values, axis=0)\n",
    "    #return (bin_centers, masses, z)\n",
    "    return interpolate.interp2d(bin_centers, masses, z)"
   ]
  },
  {
   "cell_type": "code",
   "execution_count": null,
   "id": "f09d67ac",
   "metadata": {
    "scrolled": false
   },
   "outputs": [],
   "source": [
    "for reg in ['SR1', 'SR2']:\n",
    "    tdf = hist_df[hist_df.reg==reg]\n",
    "    \n",
    "    iterpolator = make_interpolation(tdf.iloc[::2])\n",
    "    \n",
    "    #make intermediate mass plots:\n",
    "    masses = tdf.iloc[1:-2:2].mass\n",
    "    fig, axs = nratio_plot_template(nPlots=[len(masses), 1], figsize=(40,15))\n",
    "    for mass, ax in zip(masses, axs):\n",
    "        top, bottom = ax[0]\n",
    "        bin_centers = tdf.iloc[0]['standardized_bins'].calc_bin_centers()\n",
    "        hist = tdf[tdf.mass==mass].iloc[0]['hist']\n",
    "        fit = tdf[tdf.mass==mass].iloc[0]['fit']\n",
    "        \n",
    "        z_interp = iterpolator(bin_centers, [mass])\n",
    "    \n",
    "        #top\n",
    "        hist.draw(top, label='{} GeV'.format(mass))\n",
    "        mean, sigma = mean_model(mass), sigma_model(mass)\n",
    "        scaled_bin_centers = bin_centers*sigma+mean\n",
    "        top.plot(scaled_bin_centers,  z_interp, ds='steps-mid', label='interpolation', color='red', zorder=3)\n",
    "        #bottom\n",
    "        (hist*(1./z_interp)).draw(bottom)\n",
    "        bottom.plot(scaled_bin_centers, np.full(len(scaled_bin_centers), 1) , color='black', zorder=3)\n",
    "        bottom.plot(scaled_bin_centers, np.full(len(scaled_bin_centers), 1.1) , color='black', zorder=3, ls=':')\n",
    "        bottom.plot(scaled_bin_centers, np.full(len(scaled_bin_centers), .9) , color='black', zorder=3, ls=':')\n",
    "        \n",
    "        cms_format_fig(era, top)\n",
    "        top.legend()\n",
    "        bottom.set_xlabel(mll + ' [GeV]')\n",
    "        top.set_ylabel('counts')\n",
    "        bottom.set_ylabel('ratio')\n",
    "        bottom.set_ylim(0,2)\n",
    "    fig.savefig('assets_exo_jul_22/sig_interpolation/{}_{}_interp_test.pdf'.format(era, reg))"
   ]
  },
  {
   "cell_type": "code",
   "execution_count": null,
   "id": "63e8ab74",
   "metadata": {},
   "outputs": [],
   "source": []
  },
  {
   "cell_type": "code",
   "execution_count": null,
   "id": "1329d7b6",
   "metadata": {},
   "outputs": [],
   "source": []
  },
  {
   "cell_type": "code",
   "execution_count": null,
   "id": "c7d96c8d",
   "metadata": {},
   "outputs": [],
   "source": []
  },
  {
   "cell_type": "code",
   "execution_count": null,
   "id": "13804ccc",
   "metadata": {},
   "outputs": [],
   "source": []
  }
 ],
 "metadata": {
  "kernelspec": {
   "display_name": "bff_12_1",
   "language": "python",
   "name": "bff_12_1"
  },
  "language_info": {
   "codemirror_mode": {
    "name": "ipython",
    "version": 3
   },
   "file_extension": ".py",
   "mimetype": "text/x-python",
   "name": "python",
   "nbconvert_exporter": "python",
   "pygments_lexer": "ipython3",
   "version": "3.9.6"
  }
 },
 "nbformat": 4,
 "nbformat_minor": 5
}
